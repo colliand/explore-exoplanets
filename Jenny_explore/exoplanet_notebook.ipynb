{
 "cells": [
  {
   "cell_type": "code",
   "execution_count": 82,
   "metadata": {},
   "outputs": [],
   "source": [
    "import pandas as pd\n",
    "import numpy as np\n",
    "import plotly.express as px\n",
    "from sklearn.linear_model import LogisticRegression\n",
    "from sklearn.model_selection import train_test_split\n",
    "import plotly.graph_objects as go\n",
    "from sklearn.tree import DecisionTreeClassifier\n",
    "from sklearn.metrics import accuracy_score\n",
    "from sklearn.ensemble import RandomForestClassifier"
   ]
  },
  {
   "cell_type": "markdown",
   "metadata": {},
   "source": [
    "So far, this notebook has 3 topics:\n",
    "1. Basic Exploration\n",
    "2. Feature Importance for Kepler Identification\n",
    "3. Planet Habitability"
   ]
  },
  {
   "cell_type": "code",
   "execution_count": 83,
   "metadata": {},
   "outputs": [
    {
     "data": {
      "text/html": [
       "<div>\n",
       "<style scoped>\n",
       "    .dataframe tbody tr th:only-of-type {\n",
       "        vertical-align: middle;\n",
       "    }\n",
       "\n",
       "    .dataframe tbody tr th {\n",
       "        vertical-align: top;\n",
       "    }\n",
       "\n",
       "    .dataframe thead th {\n",
       "        text-align: right;\n",
       "    }\n",
       "</style>\n",
       "<table border=\"1\" class=\"dataframe\">\n",
       "  <thead>\n",
       "    <tr style=\"text-align: right;\">\n",
       "      <th></th>\n",
       "      <th>pl_name</th>\n",
       "      <th>hostname</th>\n",
       "      <th>sy_snum</th>\n",
       "      <th>sy_pnum</th>\n",
       "      <th>discoverymethod</th>\n",
       "      <th>disc_year</th>\n",
       "      <th>disc_facility</th>\n",
       "      <th>pl_controv_flag</th>\n",
       "      <th>pl_orbper</th>\n",
       "      <th>pl_orbsmax</th>\n",
       "      <th>...</th>\n",
       "      <th>st_lum</th>\n",
       "      <th>st_logg</th>\n",
       "      <th>rastr</th>\n",
       "      <th>ra</th>\n",
       "      <th>decstr</th>\n",
       "      <th>dec</th>\n",
       "      <th>sy_dist</th>\n",
       "      <th>sy_vmag</th>\n",
       "      <th>sy_kmag</th>\n",
       "      <th>sy_gaiamag</th>\n",
       "    </tr>\n",
       "  </thead>\n",
       "  <tbody>\n",
       "    <tr>\n",
       "      <th>0</th>\n",
       "      <td>11 Com b</td>\n",
       "      <td>11 Com</td>\n",
       "      <td>2</td>\n",
       "      <td>1</td>\n",
       "      <td>Radial Velocity</td>\n",
       "      <td>2007</td>\n",
       "      <td>Xinglong Station</td>\n",
       "      <td>0</td>\n",
       "      <td>326.03000</td>\n",
       "      <td>1.290</td>\n",
       "      <td>...</td>\n",
       "      <td>2.243</td>\n",
       "      <td>2.31</td>\n",
       "      <td>12h20m42.91s</td>\n",
       "      <td>185.178779</td>\n",
       "      <td>+17d47m35.71s</td>\n",
       "      <td>17.793252</td>\n",
       "      <td>93.1846</td>\n",
       "      <td>4.72307</td>\n",
       "      <td>2.282</td>\n",
       "      <td>4.44038</td>\n",
       "    </tr>\n",
       "    <tr>\n",
       "      <th>1</th>\n",
       "      <td>11 UMi b</td>\n",
       "      <td>11 UMi</td>\n",
       "      <td>1</td>\n",
       "      <td>1</td>\n",
       "      <td>Radial Velocity</td>\n",
       "      <td>2009</td>\n",
       "      <td>Thueringer Landessternwarte Tautenburg</td>\n",
       "      <td>0</td>\n",
       "      <td>516.21997</td>\n",
       "      <td>1.530</td>\n",
       "      <td>...</td>\n",
       "      <td>2.430</td>\n",
       "      <td>1.93</td>\n",
       "      <td>15h17m05.90s</td>\n",
       "      <td>229.274595</td>\n",
       "      <td>+71d49m26.19s</td>\n",
       "      <td>71.823943</td>\n",
       "      <td>125.3210</td>\n",
       "      <td>5.01300</td>\n",
       "      <td>1.939</td>\n",
       "      <td>4.56216</td>\n",
       "    </tr>\n",
       "    <tr>\n",
       "      <th>2</th>\n",
       "      <td>14 And b</td>\n",
       "      <td>14 And</td>\n",
       "      <td>1</td>\n",
       "      <td>1</td>\n",
       "      <td>Radial Velocity</td>\n",
       "      <td>2008</td>\n",
       "      <td>Okayama Astrophysical Observatory</td>\n",
       "      <td>0</td>\n",
       "      <td>185.84000</td>\n",
       "      <td>0.830</td>\n",
       "      <td>...</td>\n",
       "      <td>1.763</td>\n",
       "      <td>2.63</td>\n",
       "      <td>23h31m17.80s</td>\n",
       "      <td>352.824150</td>\n",
       "      <td>+39d14m09.01s</td>\n",
       "      <td>39.235837</td>\n",
       "      <td>75.4392</td>\n",
       "      <td>5.23133</td>\n",
       "      <td>2.331</td>\n",
       "      <td>4.91781</td>\n",
       "    </tr>\n",
       "    <tr>\n",
       "      <th>3</th>\n",
       "      <td>14 Her b</td>\n",
       "      <td>14 Her</td>\n",
       "      <td>1</td>\n",
       "      <td>2</td>\n",
       "      <td>Radial Velocity</td>\n",
       "      <td>2002</td>\n",
       "      <td>W. M. Keck Observatory</td>\n",
       "      <td>0</td>\n",
       "      <td>1765.03890</td>\n",
       "      <td>2.774</td>\n",
       "      <td>...</td>\n",
       "      <td>-0.153</td>\n",
       "      <td>4.45</td>\n",
       "      <td>16h10m24.50s</td>\n",
       "      <td>242.602101</td>\n",
       "      <td>+43d48m58.90s</td>\n",
       "      <td>43.816362</td>\n",
       "      <td>17.9323</td>\n",
       "      <td>6.61935</td>\n",
       "      <td>4.714</td>\n",
       "      <td>6.38300</td>\n",
       "    </tr>\n",
       "    <tr>\n",
       "      <th>4</th>\n",
       "      <td>16 Cyg B b</td>\n",
       "      <td>16 Cyg B</td>\n",
       "      <td>3</td>\n",
       "      <td>1</td>\n",
       "      <td>Radial Velocity</td>\n",
       "      <td>1996</td>\n",
       "      <td>Multiple Observatories</td>\n",
       "      <td>0</td>\n",
       "      <td>798.50000</td>\n",
       "      <td>1.660</td>\n",
       "      <td>...</td>\n",
       "      <td>0.097</td>\n",
       "      <td>4.36</td>\n",
       "      <td>19h41m51.75s</td>\n",
       "      <td>295.465642</td>\n",
       "      <td>+50d31m00.57s</td>\n",
       "      <td>50.516824</td>\n",
       "      <td>21.1397</td>\n",
       "      <td>6.21500</td>\n",
       "      <td>4.651</td>\n",
       "      <td>6.06428</td>\n",
       "    </tr>\n",
       "  </tbody>\n",
       "</table>\n",
       "<p>5 rows × 36 columns</p>\n",
       "</div>"
      ],
      "text/plain": [
       "      pl_name  hostname  sy_snum  sy_pnum  discoverymethod  disc_year  \\\n",
       "0    11 Com b    11 Com        2        1  Radial Velocity       2007   \n",
       "1    11 UMi b    11 UMi        1        1  Radial Velocity       2009   \n",
       "2    14 And b    14 And        1        1  Radial Velocity       2008   \n",
       "3    14 Her b    14 Her        1        2  Radial Velocity       2002   \n",
       "4  16 Cyg B b  16 Cyg B        3        1  Radial Velocity       1996   \n",
       "\n",
       "                            disc_facility  pl_controv_flag   pl_orbper  \\\n",
       "0                        Xinglong Station                0   326.03000   \n",
       "1  Thueringer Landessternwarte Tautenburg                0   516.21997   \n",
       "2       Okayama Astrophysical Observatory                0   185.84000   \n",
       "3                  W. M. Keck Observatory                0  1765.03890   \n",
       "4                  Multiple Observatories                0   798.50000   \n",
       "\n",
       "   pl_orbsmax  ...  st_lum  st_logg         rastr          ra         decstr  \\\n",
       "0       1.290  ...   2.243     2.31  12h20m42.91s  185.178779  +17d47m35.71s   \n",
       "1       1.530  ...   2.430     1.93  15h17m05.90s  229.274595  +71d49m26.19s   \n",
       "2       0.830  ...   1.763     2.63  23h31m17.80s  352.824150  +39d14m09.01s   \n",
       "3       2.774  ...  -0.153     4.45  16h10m24.50s  242.602101  +43d48m58.90s   \n",
       "4       1.660  ...   0.097     4.36  19h41m51.75s  295.465642  +50d31m00.57s   \n",
       "\n",
       "         dec   sy_dist  sy_vmag  sy_kmag  sy_gaiamag  \n",
       "0  17.793252   93.1846  4.72307    2.282     4.44038  \n",
       "1  71.823943  125.3210  5.01300    1.939     4.56216  \n",
       "2  39.235837   75.4392  5.23133    2.331     4.91781  \n",
       "3  43.816362   17.9323  6.61935    4.714     6.38300  \n",
       "4  50.516824   21.1397  6.21500    4.651     6.06428  \n",
       "\n",
       "[5 rows x 36 columns]"
      ]
     },
     "execution_count": 83,
     "metadata": {},
     "output_type": "execute_result"
    }
   ],
   "source": [
    "exo = pd.read_csv(\"data/composite_with_lum_dist.csv\", skiprows=42)\n",
    "exo.head()"
   ]
  },
  {
   "cell_type": "code",
   "execution_count": 84,
   "metadata": {},
   "outputs": [
    {
     "data": {
      "text/plain": [
       "['pl_name',\n",
       " 'hostname',\n",
       " 'sy_snum',\n",
       " 'sy_pnum',\n",
       " 'discoverymethod',\n",
       " 'disc_year',\n",
       " 'disc_facility',\n",
       " 'pl_controv_flag',\n",
       " 'pl_orbper',\n",
       " 'pl_orbsmax',\n",
       " 'pl_rade',\n",
       " 'pl_radj',\n",
       " 'pl_bmasse',\n",
       " 'pl_bmassj',\n",
       " 'pl_bmassprov',\n",
       " 'pl_orbeccen',\n",
       " 'pl_insol',\n",
       " 'pl_eqt',\n",
       " 'ttv_flag',\n",
       " 'pl_ratdor',\n",
       " 'st_spectype',\n",
       " 'st_teff',\n",
       " 'st_rad',\n",
       " 'st_mass',\n",
       " 'st_met',\n",
       " 'st_metratio',\n",
       " 'st_lum',\n",
       " 'st_logg',\n",
       " 'rastr',\n",
       " 'ra',\n",
       " 'decstr',\n",
       " 'dec',\n",
       " 'sy_dist',\n",
       " 'sy_vmag',\n",
       " 'sy_kmag',\n",
       " 'sy_gaiamag']"
      ]
     },
     "execution_count": 84,
     "metadata": {},
     "output_type": "execute_result"
    }
   ],
   "source": [
    "exo.columns.tolist()"
   ]
  },
  {
   "cell_type": "markdown",
   "metadata": {},
   "source": [
    "## 1. Basic Exploration"
   ]
  },
  {
   "cell_type": "code",
   "execution_count": 85,
   "metadata": {},
   "outputs": [
    {
     "data": {
      "text/html": [
       "<div>\n",
       "<style scoped>\n",
       "    .dataframe tbody tr th:only-of-type {\n",
       "        vertical-align: middle;\n",
       "    }\n",
       "\n",
       "    .dataframe tbody tr th {\n",
       "        vertical-align: top;\n",
       "    }\n",
       "\n",
       "    .dataframe thead th {\n",
       "        text-align: right;\n",
       "    }\n",
       "</style>\n",
       "<table border=\"1\" class=\"dataframe\">\n",
       "  <thead>\n",
       "    <tr style=\"text-align: right;\">\n",
       "      <th></th>\n",
       "      <th>pl_name</th>\n",
       "      <th>hostname</th>\n",
       "      <th>sy_snum</th>\n",
       "      <th>sy_pnum</th>\n",
       "      <th>discoverymethod</th>\n",
       "      <th>disc_year</th>\n",
       "      <th>disc_facility</th>\n",
       "      <th>pl_controv_flag</th>\n",
       "      <th>pl_orbper</th>\n",
       "      <th>pl_orbsmax</th>\n",
       "      <th>...</th>\n",
       "      <th>st_logg</th>\n",
       "      <th>rastr</th>\n",
       "      <th>ra</th>\n",
       "      <th>decstr</th>\n",
       "      <th>dec</th>\n",
       "      <th>sy_dist</th>\n",
       "      <th>sy_vmag</th>\n",
       "      <th>sy_kmag</th>\n",
       "      <th>sy_gaiamag</th>\n",
       "      <th>generalized_spectype</th>\n",
       "    </tr>\n",
       "  </thead>\n",
       "  <tbody>\n",
       "    <tr>\n",
       "      <th>0</th>\n",
       "      <td>11 Com b</td>\n",
       "      <td>11 Com</td>\n",
       "      <td>2</td>\n",
       "      <td>1</td>\n",
       "      <td>Radial Velocity</td>\n",
       "      <td>2007</td>\n",
       "      <td>Xinglong Station</td>\n",
       "      <td>0</td>\n",
       "      <td>326.030000</td>\n",
       "      <td>1.290000</td>\n",
       "      <td>...</td>\n",
       "      <td>2.31</td>\n",
       "      <td>12h20m42.91s</td>\n",
       "      <td>185.178779</td>\n",
       "      <td>+17d47m35.71s</td>\n",
       "      <td>17.793252</td>\n",
       "      <td>93.1846</td>\n",
       "      <td>4.72307</td>\n",
       "      <td>2.282</td>\n",
       "      <td>4.44038</td>\n",
       "      <td>G</td>\n",
       "    </tr>\n",
       "    <tr>\n",
       "      <th>1</th>\n",
       "      <td>11 UMi b</td>\n",
       "      <td>11 UMi</td>\n",
       "      <td>1</td>\n",
       "      <td>1</td>\n",
       "      <td>Radial Velocity</td>\n",
       "      <td>2009</td>\n",
       "      <td>Thueringer Landessternwarte Tautenburg</td>\n",
       "      <td>0</td>\n",
       "      <td>516.219970</td>\n",
       "      <td>1.530000</td>\n",
       "      <td>...</td>\n",
       "      <td>1.93</td>\n",
       "      <td>15h17m05.90s</td>\n",
       "      <td>229.274595</td>\n",
       "      <td>+71d49m26.19s</td>\n",
       "      <td>71.823943</td>\n",
       "      <td>125.3210</td>\n",
       "      <td>5.01300</td>\n",
       "      <td>1.939</td>\n",
       "      <td>4.56216</td>\n",
       "      <td>K</td>\n",
       "    </tr>\n",
       "    <tr>\n",
       "      <th>2</th>\n",
       "      <td>14 And b</td>\n",
       "      <td>14 And</td>\n",
       "      <td>1</td>\n",
       "      <td>1</td>\n",
       "      <td>Radial Velocity</td>\n",
       "      <td>2008</td>\n",
       "      <td>Okayama Astrophysical Observatory</td>\n",
       "      <td>0</td>\n",
       "      <td>185.840000</td>\n",
       "      <td>0.830000</td>\n",
       "      <td>...</td>\n",
       "      <td>2.63</td>\n",
       "      <td>23h31m17.80s</td>\n",
       "      <td>352.824150</td>\n",
       "      <td>+39d14m09.01s</td>\n",
       "      <td>39.235837</td>\n",
       "      <td>75.4392</td>\n",
       "      <td>5.23133</td>\n",
       "      <td>2.331</td>\n",
       "      <td>4.91781</td>\n",
       "      <td>K</td>\n",
       "    </tr>\n",
       "    <tr>\n",
       "      <th>3</th>\n",
       "      <td>14 Her b</td>\n",
       "      <td>14 Her</td>\n",
       "      <td>1</td>\n",
       "      <td>2</td>\n",
       "      <td>Radial Velocity</td>\n",
       "      <td>2002</td>\n",
       "      <td>W. M. Keck Observatory</td>\n",
       "      <td>0</td>\n",
       "      <td>1765.038900</td>\n",
       "      <td>2.774000</td>\n",
       "      <td>...</td>\n",
       "      <td>4.45</td>\n",
       "      <td>16h10m24.50s</td>\n",
       "      <td>242.602101</td>\n",
       "      <td>+43d48m58.90s</td>\n",
       "      <td>43.816362</td>\n",
       "      <td>17.9323</td>\n",
       "      <td>6.61935</td>\n",
       "      <td>4.714</td>\n",
       "      <td>6.38300</td>\n",
       "      <td>K</td>\n",
       "    </tr>\n",
       "    <tr>\n",
       "      <th>4</th>\n",
       "      <td>16 Cyg B b</td>\n",
       "      <td>16 Cyg B</td>\n",
       "      <td>3</td>\n",
       "      <td>1</td>\n",
       "      <td>Radial Velocity</td>\n",
       "      <td>1996</td>\n",
       "      <td>Multiple Observatories</td>\n",
       "      <td>0</td>\n",
       "      <td>798.500000</td>\n",
       "      <td>1.660000</td>\n",
       "      <td>...</td>\n",
       "      <td>4.36</td>\n",
       "      <td>19h41m51.75s</td>\n",
       "      <td>295.465642</td>\n",
       "      <td>+50d31m00.57s</td>\n",
       "      <td>50.516824</td>\n",
       "      <td>21.1397</td>\n",
       "      <td>6.21500</td>\n",
       "      <td>4.651</td>\n",
       "      <td>6.06428</td>\n",
       "      <td>G</td>\n",
       "    </tr>\n",
       "    <tr>\n",
       "      <th>...</th>\n",
       "      <td>...</td>\n",
       "      <td>...</td>\n",
       "      <td>...</td>\n",
       "      <td>...</td>\n",
       "      <td>...</td>\n",
       "      <td>...</td>\n",
       "      <td>...</td>\n",
       "      <td>...</td>\n",
       "      <td>...</td>\n",
       "      <td>...</td>\n",
       "      <td>...</td>\n",
       "      <td>...</td>\n",
       "      <td>...</td>\n",
       "      <td>...</td>\n",
       "      <td>...</td>\n",
       "      <td>...</td>\n",
       "      <td>...</td>\n",
       "      <td>...</td>\n",
       "      <td>...</td>\n",
       "      <td>...</td>\n",
       "      <td>...</td>\n",
       "    </tr>\n",
       "    <tr>\n",
       "      <th>5465</th>\n",
       "      <td>ups And b</td>\n",
       "      <td>ups And</td>\n",
       "      <td>2</td>\n",
       "      <td>3</td>\n",
       "      <td>Radial Velocity</td>\n",
       "      <td>1996</td>\n",
       "      <td>Lick Observatory</td>\n",
       "      <td>0</td>\n",
       "      <td>4.617033</td>\n",
       "      <td>0.059222</td>\n",
       "      <td>...</td>\n",
       "      <td>4.13</td>\n",
       "      <td>01h36m47.60s</td>\n",
       "      <td>24.198353</td>\n",
       "      <td>+41d24m13.73s</td>\n",
       "      <td>41.403815</td>\n",
       "      <td>13.4054</td>\n",
       "      <td>4.09565</td>\n",
       "      <td>2.859</td>\n",
       "      <td>3.98687</td>\n",
       "      <td>F</td>\n",
       "    </tr>\n",
       "    <tr>\n",
       "      <th>5466</th>\n",
       "      <td>ups And c</td>\n",
       "      <td>ups And</td>\n",
       "      <td>2</td>\n",
       "      <td>3</td>\n",
       "      <td>Radial Velocity</td>\n",
       "      <td>1999</td>\n",
       "      <td>Multiple Observatories</td>\n",
       "      <td>0</td>\n",
       "      <td>241.258000</td>\n",
       "      <td>0.827774</td>\n",
       "      <td>...</td>\n",
       "      <td>4.13</td>\n",
       "      <td>01h36m47.60s</td>\n",
       "      <td>24.198353</td>\n",
       "      <td>+41d24m13.73s</td>\n",
       "      <td>41.403815</td>\n",
       "      <td>13.4054</td>\n",
       "      <td>4.09565</td>\n",
       "      <td>2.859</td>\n",
       "      <td>3.98687</td>\n",
       "      <td>F</td>\n",
       "    </tr>\n",
       "    <tr>\n",
       "      <th>5467</th>\n",
       "      <td>ups And d</td>\n",
       "      <td>ups And</td>\n",
       "      <td>2</td>\n",
       "      <td>3</td>\n",
       "      <td>Radial Velocity</td>\n",
       "      <td>1999</td>\n",
       "      <td>Multiple Observatories</td>\n",
       "      <td>0</td>\n",
       "      <td>1276.460000</td>\n",
       "      <td>2.513290</td>\n",
       "      <td>...</td>\n",
       "      <td>4.13</td>\n",
       "      <td>01h36m47.60s</td>\n",
       "      <td>24.198353</td>\n",
       "      <td>+41d24m13.73s</td>\n",
       "      <td>41.403815</td>\n",
       "      <td>13.4054</td>\n",
       "      <td>4.09565</td>\n",
       "      <td>2.859</td>\n",
       "      <td>3.98687</td>\n",
       "      <td>F</td>\n",
       "    </tr>\n",
       "    <tr>\n",
       "      <th>5468</th>\n",
       "      <td>ups Leo b</td>\n",
       "      <td>ups Leo</td>\n",
       "      <td>1</td>\n",
       "      <td>1</td>\n",
       "      <td>Radial Velocity</td>\n",
       "      <td>2021</td>\n",
       "      <td>Okayama Astrophysical Observatory</td>\n",
       "      <td>0</td>\n",
       "      <td>385.200000</td>\n",
       "      <td>1.180000</td>\n",
       "      <td>...</td>\n",
       "      <td>2.46</td>\n",
       "      <td>11h36m56.93s</td>\n",
       "      <td>174.237219</td>\n",
       "      <td>-00d49m24.83s</td>\n",
       "      <td>-0.823564</td>\n",
       "      <td>52.5973</td>\n",
       "      <td>4.30490</td>\n",
       "      <td>2.184</td>\n",
       "      <td>4.03040</td>\n",
       "      <td>G</td>\n",
       "    </tr>\n",
       "    <tr>\n",
       "      <th>5469</th>\n",
       "      <td>xi Aql b</td>\n",
       "      <td>xi Aql</td>\n",
       "      <td>1</td>\n",
       "      <td>1</td>\n",
       "      <td>Radial Velocity</td>\n",
       "      <td>2007</td>\n",
       "      <td>Okayama Astrophysical Observatory</td>\n",
       "      <td>0</td>\n",
       "      <td>136.750000</td>\n",
       "      <td>0.680000</td>\n",
       "      <td>...</td>\n",
       "      <td>2.66</td>\n",
       "      <td>19h54m14.99s</td>\n",
       "      <td>298.562449</td>\n",
       "      <td>+08d27m39.98s</td>\n",
       "      <td>8.461105</td>\n",
       "      <td>56.1858</td>\n",
       "      <td>4.70964</td>\n",
       "      <td>2.171</td>\n",
       "      <td>4.42501</td>\n",
       "      <td>G</td>\n",
       "    </tr>\n",
       "  </tbody>\n",
       "</table>\n",
       "<p>5470 rows × 37 columns</p>\n",
       "</div>"
      ],
      "text/plain": [
       "         pl_name  hostname  sy_snum  sy_pnum  discoverymethod  disc_year  \\\n",
       "0       11 Com b    11 Com        2        1  Radial Velocity       2007   \n",
       "1       11 UMi b    11 UMi        1        1  Radial Velocity       2009   \n",
       "2       14 And b    14 And        1        1  Radial Velocity       2008   \n",
       "3       14 Her b    14 Her        1        2  Radial Velocity       2002   \n",
       "4     16 Cyg B b  16 Cyg B        3        1  Radial Velocity       1996   \n",
       "...          ...       ...      ...      ...              ...        ...   \n",
       "5465   ups And b   ups And        2        3  Radial Velocity       1996   \n",
       "5466   ups And c   ups And        2        3  Radial Velocity       1999   \n",
       "5467   ups And d   ups And        2        3  Radial Velocity       1999   \n",
       "5468   ups Leo b   ups Leo        1        1  Radial Velocity       2021   \n",
       "5469    xi Aql b    xi Aql        1        1  Radial Velocity       2007   \n",
       "\n",
       "                               disc_facility  pl_controv_flag    pl_orbper  \\\n",
       "0                           Xinglong Station                0   326.030000   \n",
       "1     Thueringer Landessternwarte Tautenburg                0   516.219970   \n",
       "2          Okayama Astrophysical Observatory                0   185.840000   \n",
       "3                     W. M. Keck Observatory                0  1765.038900   \n",
       "4                     Multiple Observatories                0   798.500000   \n",
       "...                                      ...              ...          ...   \n",
       "5465                        Lick Observatory                0     4.617033   \n",
       "5466                  Multiple Observatories                0   241.258000   \n",
       "5467                  Multiple Observatories                0  1276.460000   \n",
       "5468       Okayama Astrophysical Observatory                0   385.200000   \n",
       "5469       Okayama Astrophysical Observatory                0   136.750000   \n",
       "\n",
       "      pl_orbsmax  ...  st_logg         rastr          ra         decstr  \\\n",
       "0       1.290000  ...     2.31  12h20m42.91s  185.178779  +17d47m35.71s   \n",
       "1       1.530000  ...     1.93  15h17m05.90s  229.274595  +71d49m26.19s   \n",
       "2       0.830000  ...     2.63  23h31m17.80s  352.824150  +39d14m09.01s   \n",
       "3       2.774000  ...     4.45  16h10m24.50s  242.602101  +43d48m58.90s   \n",
       "4       1.660000  ...     4.36  19h41m51.75s  295.465642  +50d31m00.57s   \n",
       "...          ...  ...      ...           ...         ...            ...   \n",
       "5465    0.059222  ...     4.13  01h36m47.60s   24.198353  +41d24m13.73s   \n",
       "5466    0.827774  ...     4.13  01h36m47.60s   24.198353  +41d24m13.73s   \n",
       "5467    2.513290  ...     4.13  01h36m47.60s   24.198353  +41d24m13.73s   \n",
       "5468    1.180000  ...     2.46  11h36m56.93s  174.237219  -00d49m24.83s   \n",
       "5469    0.680000  ...     2.66  19h54m14.99s  298.562449  +08d27m39.98s   \n",
       "\n",
       "            dec   sy_dist  sy_vmag  sy_kmag  sy_gaiamag  generalized_spectype  \n",
       "0     17.793252   93.1846  4.72307    2.282     4.44038                     G  \n",
       "1     71.823943  125.3210  5.01300    1.939     4.56216                     K  \n",
       "2     39.235837   75.4392  5.23133    2.331     4.91781                     K  \n",
       "3     43.816362   17.9323  6.61935    4.714     6.38300                     K  \n",
       "4     50.516824   21.1397  6.21500    4.651     6.06428                     G  \n",
       "...         ...       ...      ...      ...         ...                   ...  \n",
       "5465  41.403815   13.4054  4.09565    2.859     3.98687                     F  \n",
       "5466  41.403815   13.4054  4.09565    2.859     3.98687                     F  \n",
       "5467  41.403815   13.4054  4.09565    2.859     3.98687                     F  \n",
       "5468  -0.823564   52.5973  4.30490    2.184     4.03040                     G  \n",
       "5469   8.461105   56.1858  4.70964    2.171     4.42501                     G  \n",
       "\n",
       "[5470 rows x 37 columns]"
      ]
     },
     "execution_count": 85,
     "metadata": {},
     "output_type": "execute_result"
    }
   ],
   "source": [
    "def generalize_spectype(row):\n",
    "      if \"B\" in row[\"st_spectype\"]:\n",
    "            return \"B\"\n",
    "      elif \"A\" in row[\"st_spectype\"]:\n",
    "            return \"A\"\n",
    "      elif \"F\" in row[\"st_spectype\"]:\n",
    "            return \"F\"\n",
    "      elif \"G\" in row[\"st_spectype\"]:\n",
    "            return \"G\"\n",
    "      elif \"K\" in row[\"st_spectype\"]:\n",
    "            return \"K\"\n",
    "      elif \"M\" in row[\"st_spectype\"]:\n",
    "            return \"M\"\n",
    "      else:\n",
    "            return \"Undefined\"\n",
    "\n",
    "exo[\"st_spectype\"].fillna('', inplace=True)\n",
    "exo[\"generalized_spectype\"] = exo.apply(generalize_spectype, axis=1)\n",
    "exo"
   ]
  },
  {
   "cell_type": "code",
   "execution_count": 86,
   "metadata": {},
   "outputs": [
    {
     "data": {
      "application/vnd.plotly.v1+json": {
       "config": {
        "plotlyServerURL": "https://plot.ly"
       },
       "data": [
        {
         "domain": {
          "x": [
           0,
           1
          ],
          "y": [
           0,
           1
          ]
         },
         "hovertemplate": "label=%{label}<br>value=%{value}<extra></extra>",
         "labels": [
          "Kepler",
          "K2",
          "Transiting Exoplanet Survey Satellite (TESS)",
          "Multiple Observatories",
          "La Silla Observatory",
          "W. M. Keck Observatory",
          "SuperWASP",
          "OGLE",
          "KMTNet",
          "HATSouth"
         ],
         "legendgroup": "",
         "name": "",
         "showlegend": true,
         "type": "pie",
         "values": [
          2778,
          548,
          363,
          281,
          276,
          184,
          113,
          97,
          79,
          73
         ]
        }
       ],
       "layout": {
        "legend": {
         "tracegroupgap": 0
        },
        "margin": {
         "t": 60
        },
        "template": {
         "data": {
          "bar": [
           {
            "error_x": {
             "color": "#2a3f5f"
            },
            "error_y": {
             "color": "#2a3f5f"
            },
            "marker": {
             "line": {
              "color": "#E5ECF6",
              "width": 0.5
             },
             "pattern": {
              "fillmode": "overlay",
              "size": 10,
              "solidity": 0.2
             }
            },
            "type": "bar"
           }
          ],
          "barpolar": [
           {
            "marker": {
             "line": {
              "color": "#E5ECF6",
              "width": 0.5
             },
             "pattern": {
              "fillmode": "overlay",
              "size": 10,
              "solidity": 0.2
             }
            },
            "type": "barpolar"
           }
          ],
          "carpet": [
           {
            "aaxis": {
             "endlinecolor": "#2a3f5f",
             "gridcolor": "white",
             "linecolor": "white",
             "minorgridcolor": "white",
             "startlinecolor": "#2a3f5f"
            },
            "baxis": {
             "endlinecolor": "#2a3f5f",
             "gridcolor": "white",
             "linecolor": "white",
             "minorgridcolor": "white",
             "startlinecolor": "#2a3f5f"
            },
            "type": "carpet"
           }
          ],
          "choropleth": [
           {
            "colorbar": {
             "outlinewidth": 0,
             "ticks": ""
            },
            "type": "choropleth"
           }
          ],
          "contour": [
           {
            "colorbar": {
             "outlinewidth": 0,
             "ticks": ""
            },
            "colorscale": [
             [
              0,
              "#0d0887"
             ],
             [
              0.1111111111111111,
              "#46039f"
             ],
             [
              0.2222222222222222,
              "#7201a8"
             ],
             [
              0.3333333333333333,
              "#9c179e"
             ],
             [
              0.4444444444444444,
              "#bd3786"
             ],
             [
              0.5555555555555556,
              "#d8576b"
             ],
             [
              0.6666666666666666,
              "#ed7953"
             ],
             [
              0.7777777777777778,
              "#fb9f3a"
             ],
             [
              0.8888888888888888,
              "#fdca26"
             ],
             [
              1,
              "#f0f921"
             ]
            ],
            "type": "contour"
           }
          ],
          "contourcarpet": [
           {
            "colorbar": {
             "outlinewidth": 0,
             "ticks": ""
            },
            "type": "contourcarpet"
           }
          ],
          "heatmap": [
           {
            "colorbar": {
             "outlinewidth": 0,
             "ticks": ""
            },
            "colorscale": [
             [
              0,
              "#0d0887"
             ],
             [
              0.1111111111111111,
              "#46039f"
             ],
             [
              0.2222222222222222,
              "#7201a8"
             ],
             [
              0.3333333333333333,
              "#9c179e"
             ],
             [
              0.4444444444444444,
              "#bd3786"
             ],
             [
              0.5555555555555556,
              "#d8576b"
             ],
             [
              0.6666666666666666,
              "#ed7953"
             ],
             [
              0.7777777777777778,
              "#fb9f3a"
             ],
             [
              0.8888888888888888,
              "#fdca26"
             ],
             [
              1,
              "#f0f921"
             ]
            ],
            "type": "heatmap"
           }
          ],
          "heatmapgl": [
           {
            "colorbar": {
             "outlinewidth": 0,
             "ticks": ""
            },
            "colorscale": [
             [
              0,
              "#0d0887"
             ],
             [
              0.1111111111111111,
              "#46039f"
             ],
             [
              0.2222222222222222,
              "#7201a8"
             ],
             [
              0.3333333333333333,
              "#9c179e"
             ],
             [
              0.4444444444444444,
              "#bd3786"
             ],
             [
              0.5555555555555556,
              "#d8576b"
             ],
             [
              0.6666666666666666,
              "#ed7953"
             ],
             [
              0.7777777777777778,
              "#fb9f3a"
             ],
             [
              0.8888888888888888,
              "#fdca26"
             ],
             [
              1,
              "#f0f921"
             ]
            ],
            "type": "heatmapgl"
           }
          ],
          "histogram": [
           {
            "marker": {
             "pattern": {
              "fillmode": "overlay",
              "size": 10,
              "solidity": 0.2
             }
            },
            "type": "histogram"
           }
          ],
          "histogram2d": [
           {
            "colorbar": {
             "outlinewidth": 0,
             "ticks": ""
            },
            "colorscale": [
             [
              0,
              "#0d0887"
             ],
             [
              0.1111111111111111,
              "#46039f"
             ],
             [
              0.2222222222222222,
              "#7201a8"
             ],
             [
              0.3333333333333333,
              "#9c179e"
             ],
             [
              0.4444444444444444,
              "#bd3786"
             ],
             [
              0.5555555555555556,
              "#d8576b"
             ],
             [
              0.6666666666666666,
              "#ed7953"
             ],
             [
              0.7777777777777778,
              "#fb9f3a"
             ],
             [
              0.8888888888888888,
              "#fdca26"
             ],
             [
              1,
              "#f0f921"
             ]
            ],
            "type": "histogram2d"
           }
          ],
          "histogram2dcontour": [
           {
            "colorbar": {
             "outlinewidth": 0,
             "ticks": ""
            },
            "colorscale": [
             [
              0,
              "#0d0887"
             ],
             [
              0.1111111111111111,
              "#46039f"
             ],
             [
              0.2222222222222222,
              "#7201a8"
             ],
             [
              0.3333333333333333,
              "#9c179e"
             ],
             [
              0.4444444444444444,
              "#bd3786"
             ],
             [
              0.5555555555555556,
              "#d8576b"
             ],
             [
              0.6666666666666666,
              "#ed7953"
             ],
             [
              0.7777777777777778,
              "#fb9f3a"
             ],
             [
              0.8888888888888888,
              "#fdca26"
             ],
             [
              1,
              "#f0f921"
             ]
            ],
            "type": "histogram2dcontour"
           }
          ],
          "mesh3d": [
           {
            "colorbar": {
             "outlinewidth": 0,
             "ticks": ""
            },
            "type": "mesh3d"
           }
          ],
          "parcoords": [
           {
            "line": {
             "colorbar": {
              "outlinewidth": 0,
              "ticks": ""
             }
            },
            "type": "parcoords"
           }
          ],
          "pie": [
           {
            "automargin": true,
            "type": "pie"
           }
          ],
          "scatter": [
           {
            "fillpattern": {
             "fillmode": "overlay",
             "size": 10,
             "solidity": 0.2
            },
            "type": "scatter"
           }
          ],
          "scatter3d": [
           {
            "line": {
             "colorbar": {
              "outlinewidth": 0,
              "ticks": ""
             }
            },
            "marker": {
             "colorbar": {
              "outlinewidth": 0,
              "ticks": ""
             }
            },
            "type": "scatter3d"
           }
          ],
          "scattercarpet": [
           {
            "marker": {
             "colorbar": {
              "outlinewidth": 0,
              "ticks": ""
             }
            },
            "type": "scattercarpet"
           }
          ],
          "scattergeo": [
           {
            "marker": {
             "colorbar": {
              "outlinewidth": 0,
              "ticks": ""
             }
            },
            "type": "scattergeo"
           }
          ],
          "scattergl": [
           {
            "marker": {
             "colorbar": {
              "outlinewidth": 0,
              "ticks": ""
             }
            },
            "type": "scattergl"
           }
          ],
          "scattermapbox": [
           {
            "marker": {
             "colorbar": {
              "outlinewidth": 0,
              "ticks": ""
             }
            },
            "type": "scattermapbox"
           }
          ],
          "scatterpolar": [
           {
            "marker": {
             "colorbar": {
              "outlinewidth": 0,
              "ticks": ""
             }
            },
            "type": "scatterpolar"
           }
          ],
          "scatterpolargl": [
           {
            "marker": {
             "colorbar": {
              "outlinewidth": 0,
              "ticks": ""
             }
            },
            "type": "scatterpolargl"
           }
          ],
          "scatterternary": [
           {
            "marker": {
             "colorbar": {
              "outlinewidth": 0,
              "ticks": ""
             }
            },
            "type": "scatterternary"
           }
          ],
          "surface": [
           {
            "colorbar": {
             "outlinewidth": 0,
             "ticks": ""
            },
            "colorscale": [
             [
              0,
              "#0d0887"
             ],
             [
              0.1111111111111111,
              "#46039f"
             ],
             [
              0.2222222222222222,
              "#7201a8"
             ],
             [
              0.3333333333333333,
              "#9c179e"
             ],
             [
              0.4444444444444444,
              "#bd3786"
             ],
             [
              0.5555555555555556,
              "#d8576b"
             ],
             [
              0.6666666666666666,
              "#ed7953"
             ],
             [
              0.7777777777777778,
              "#fb9f3a"
             ],
             [
              0.8888888888888888,
              "#fdca26"
             ],
             [
              1,
              "#f0f921"
             ]
            ],
            "type": "surface"
           }
          ],
          "table": [
           {
            "cells": {
             "fill": {
              "color": "#EBF0F8"
             },
             "line": {
              "color": "white"
             }
            },
            "header": {
             "fill": {
              "color": "#C8D4E3"
             },
             "line": {
              "color": "white"
             }
            },
            "type": "table"
           }
          ]
         },
         "layout": {
          "annotationdefaults": {
           "arrowcolor": "#2a3f5f",
           "arrowhead": 0,
           "arrowwidth": 1
          },
          "autotypenumbers": "strict",
          "coloraxis": {
           "colorbar": {
            "outlinewidth": 0,
            "ticks": ""
           }
          },
          "colorscale": {
           "diverging": [
            [
             0,
             "#8e0152"
            ],
            [
             0.1,
             "#c51b7d"
            ],
            [
             0.2,
             "#de77ae"
            ],
            [
             0.3,
             "#f1b6da"
            ],
            [
             0.4,
             "#fde0ef"
            ],
            [
             0.5,
             "#f7f7f7"
            ],
            [
             0.6,
             "#e6f5d0"
            ],
            [
             0.7,
             "#b8e186"
            ],
            [
             0.8,
             "#7fbc41"
            ],
            [
             0.9,
             "#4d9221"
            ],
            [
             1,
             "#276419"
            ]
           ],
           "sequential": [
            [
             0,
             "#0d0887"
            ],
            [
             0.1111111111111111,
             "#46039f"
            ],
            [
             0.2222222222222222,
             "#7201a8"
            ],
            [
             0.3333333333333333,
             "#9c179e"
            ],
            [
             0.4444444444444444,
             "#bd3786"
            ],
            [
             0.5555555555555556,
             "#d8576b"
            ],
            [
             0.6666666666666666,
             "#ed7953"
            ],
            [
             0.7777777777777778,
             "#fb9f3a"
            ],
            [
             0.8888888888888888,
             "#fdca26"
            ],
            [
             1,
             "#f0f921"
            ]
           ],
           "sequentialminus": [
            [
             0,
             "#0d0887"
            ],
            [
             0.1111111111111111,
             "#46039f"
            ],
            [
             0.2222222222222222,
             "#7201a8"
            ],
            [
             0.3333333333333333,
             "#9c179e"
            ],
            [
             0.4444444444444444,
             "#bd3786"
            ],
            [
             0.5555555555555556,
             "#d8576b"
            ],
            [
             0.6666666666666666,
             "#ed7953"
            ],
            [
             0.7777777777777778,
             "#fb9f3a"
            ],
            [
             0.8888888888888888,
             "#fdca26"
            ],
            [
             1,
             "#f0f921"
            ]
           ]
          },
          "colorway": [
           "#636efa",
           "#EF553B",
           "#00cc96",
           "#ab63fa",
           "#FFA15A",
           "#19d3f3",
           "#FF6692",
           "#B6E880",
           "#FF97FF",
           "#FECB52"
          ],
          "font": {
           "color": "#2a3f5f"
          },
          "geo": {
           "bgcolor": "white",
           "lakecolor": "white",
           "landcolor": "#E5ECF6",
           "showlakes": true,
           "showland": true,
           "subunitcolor": "white"
          },
          "hoverlabel": {
           "align": "left"
          },
          "hovermode": "closest",
          "mapbox": {
           "style": "light"
          },
          "paper_bgcolor": "white",
          "plot_bgcolor": "#E5ECF6",
          "polar": {
           "angularaxis": {
            "gridcolor": "white",
            "linecolor": "white",
            "ticks": ""
           },
           "bgcolor": "#E5ECF6",
           "radialaxis": {
            "gridcolor": "white",
            "linecolor": "white",
            "ticks": ""
           }
          },
          "scene": {
           "xaxis": {
            "backgroundcolor": "#E5ECF6",
            "gridcolor": "white",
            "gridwidth": 2,
            "linecolor": "white",
            "showbackground": true,
            "ticks": "",
            "zerolinecolor": "white"
           },
           "yaxis": {
            "backgroundcolor": "#E5ECF6",
            "gridcolor": "white",
            "gridwidth": 2,
            "linecolor": "white",
            "showbackground": true,
            "ticks": "",
            "zerolinecolor": "white"
           },
           "zaxis": {
            "backgroundcolor": "#E5ECF6",
            "gridcolor": "white",
            "gridwidth": 2,
            "linecolor": "white",
            "showbackground": true,
            "ticks": "",
            "zerolinecolor": "white"
           }
          },
          "shapedefaults": {
           "line": {
            "color": "#2a3f5f"
           }
          },
          "ternary": {
           "aaxis": {
            "gridcolor": "white",
            "linecolor": "white",
            "ticks": ""
           },
           "baxis": {
            "gridcolor": "white",
            "linecolor": "white",
            "ticks": ""
           },
           "bgcolor": "#E5ECF6",
           "caxis": {
            "gridcolor": "white",
            "linecolor": "white",
            "ticks": ""
           }
          },
          "title": {
           "x": 0.05
          },
          "xaxis": {
           "automargin": true,
           "gridcolor": "white",
           "linecolor": "white",
           "ticks": "",
           "title": {
            "standoff": 15
           },
           "zerolinecolor": "white",
           "zerolinewidth": 2
          },
          "yaxis": {
           "automargin": true,
           "gridcolor": "white",
           "linecolor": "white",
           "ticks": "",
           "title": {
            "standoff": 15
           },
           "zerolinecolor": "white",
           "zerolinewidth": 2
          }
         }
        }
       }
      }
     },
     "metadata": {},
     "output_type": "display_data"
    }
   ],
   "source": [
    "select_columns = [\"hostname\", \"st_spectype\", \"discoverymethod\"]\n",
    "def plot_basic_characteristic(column, data):\n",
    "\n",
    "      if column == \"st_spectype\":\n",
    "\n",
    "            def bolometric_cor_calc(row):\n",
    "                  if \"B\" in row[\"st_spectype\"]:\n",
    "                        return \"B\"\n",
    "                  elif \"A\" in row[\"st_spectype\"]:\n",
    "                        return \"A\"\n",
    "                  elif \"F\" in row[\"st_spectype\"]:\n",
    "                        return \"F\"\n",
    "                  elif \"G\" in row[\"st_spectype\"]:\n",
    "                        return \"G\"\n",
    "                  elif \"K\" in row[\"st_spectype\"]:\n",
    "                        return \"G\"\n",
    "                  elif \"M\" in row[\"st_spectype\"]:\n",
    "                        return \"M\"\n",
    "                  else:\n",
    "                        return \"Undefined\"\n",
    "\n",
    "            data[\"st_spectype\"].fillna('', inplace=True)\n",
    "            data[\"st_spectype_modified\"] = data.apply(bolometric_cor_calc, axis=1)\n",
    "            column = \"st_spectype_modified\"\n",
    "            \n",
    "      unique_c = data[column].unique().tolist()\n",
    "      findtop10 = exo.groupby([column]).size().to_frame()\n",
    "      findtop10 = findtop10.reset_index()\n",
    "      findtop10.columns = [column, \"count\"]\n",
    "      findtop10 = findtop10.sort_values(by=[\"count\"], ascending=False)\n",
    "      top10list = findtop10[column].iloc[0:10].tolist()\n",
    "      data = data[data[column].isin(top10list)]\n",
    "      values = [len(data[data[column] == item]) for item in top10list]\n",
    "      fig = px.pie(data, values=values, names=top10list)\n",
    "      fig.show()\n",
    "\n",
    "plot_basic_characteristic(\"disc_facility\", exo)"
   ]
  },
  {
   "cell_type": "code",
   "execution_count": 87,
   "metadata": {},
   "outputs": [
    {
     "data": {
      "application/vnd.plotly.v1+json": {
       "config": {
        "plotlyServerURL": "https://plot.ly"
       },
       "data": [
        {
         "labels": [
          "Kepler-277",
          "Kepler-1327",
          "HD 79498",
          "K2-5",
          "OGLE-2017-BLG-0406L",
          "Kepler-227",
          "Kepler-1795",
          "11 UMi",
          "DH Tau",
          "WISE J033605.05-014350.4",
          "Kepler-1037",
          "Kepler-1283",
          "HAT-P-9",
          "Kepler-1714",
          "Kepler-1455",
          "TOI-2337",
          "K2-274",
          "Kepler-342",
          "Kepler-668",
          "Kepler-1276",
          "Kepler-1877",
          "Kepler-78",
          "Kepler-97",
          "TOI-1442",
          "GJ 896 A",
          "Kepler-11",
          "Kepler-1852",
          "Kepler-1392",
          "Kepler-1670",
          "Kepler-1875",
          "Kepler-1432",
          "Kepler-1632",
          "HD 219134",
          "K2-239",
          "WASP-124",
          "K2-390",
          "Kepler-1041",
          "Kepler-1931",
          "HAT-P-66",
          "Kepler-948",
          "NGTS-11",
          "Kepler-555",
          "NGTS-23",
          "OGLE-2018-BLG-1185L",
          "TOI-3082",
          "Kepler-128",
          "Kepler-441",
          "K2-332",
          "Kepler-1141",
          "Kepler-601",
          "ome Ser",
          "Kepler-92",
          "Kepler-1846",
          "BD+15 2375",
          "Kepler-586",
          "Kepler-80",
          "WASP-70 A",
          "Kepler-745",
          "HATS-37 A",
          "Kepler-398",
          "Kepler-356",
          "Kepler-1680",
          "Kepler-464",
          "Kepler-1812",
          "Kepler-777",
          "BD-17 63",
          "Kepler-765",
          "Kepler-307",
          "Kepler-230",
          "Kepler-1757",
          "Kepler-65",
          "HD 145457",
          "MOA-2020-BLG-208L",
          "Kepler-1328",
          "TOI-2427",
          "HD 72490",
          "HD 175541",
          "Kepler-321",
          "GJ 15 A",
          "Kepler-1838",
          "Kepler-578",
          "Kepler-650",
          "Kepler-841",
          "gam Lib",
          "KMT-2017-BLG-0673L",
          "Kepler-1889",
          "Kepler-1305",
          "Kepler-1997",
          "Kepler-471",
          "BD+45 564",
          "HAT-P-14",
          "Kepler-992",
          "PSR B1257+12",
          "Kepler-1289",
          "Kepler-1426",
          "Kepler-239",
          "HD 18143",
          "HD 183579",
          "Kepler-653",
          "Kepler-633",
          "HD 110113",
          "Kepler-61",
          "TOI-172",
          "WASP-33",
          "KMT-2019-BLG-0414L",
          "KOI-351",
          "Kepler-1074",
          "Kepler-52",
          "Kepler-1713",
          "HD 42012",
          "HD 145377",
          "HD 180053",
          "Kepler-1591",
          "TOI-277",
          "HD 156846",
          "XO-6",
          "Kepler-946",
          "KMT-2017-BLG-1003L",
          "HR 8799",
          "Kepler-1111",
          "Kepler-1358",
          "MOA-2011-BLG-262L",
          "K2-197",
          "TOI-1231",
          "Kepler-289",
          "HD 136352",
          "Kepler-1187",
          "GJ 667 C",
          "Kepler-14",
          "HD 154088",
          "Kepler-1681",
          "K2-404",
          "Kepler-485",
          "LHS 1678",
          "TOI-715",
          "OGLE-2005-BLG-169L",
          "HD 141937",
          "Kepler-1477",
          "Kepler-920",
          "Kepler-1744",
          "HATS-33",
          "Kepler-75",
          "Kepler-863",
          "KMT-2016-BLG-1820L",
          "Kepler-1519",
          "TOI-2081",
          "K2-132",
          "Kepler-1834",
          "WASP-81",
          "Kepler-1272",
          "HD 25171",
          "Kepler-490",
          "Kepler-1932",
          "Kepler-1290",
          "K2-337",
          "HD 108863",
          "HIP 67537",
          "Kepler-1630",
          "Kepler-363",
          "WASP-60",
          "K2-175",
          "OGLE-2015-BLG-1771L",
          "K2-215",
          "Kepler-548",
          "HATS-3",
          "HD 164604",
          "HD 117207",
          "WASP-168",
          "Kepler-1606",
          "HD 1502",
          "Kepler-182",
          "Kepler-1348",
          "Kepler-252",
          "K2-111",
          "Kepler-1967",
          "Kepler-1902",
          "HD 166724",
          "Kepler-1231",
          "HD 63765",
          "Kepler-419",
          "Kepler-1503",
          "TOI-431",
          "HD 29985",
          "TOI-2145",
          "Kepler-499",
          "EPIC 212624936",
          "Kepler-571",
          "TOI-892",
          "KOI-1783",
          "Kepler-1790",
          "Kepler-1128",
          "WASP-37",
          "K2-283",
          "Kepler-1636",
          "K2-237",
          "Kepler-797",
          "Kepler-522",
          "HD 6718",
          "OGLE-2018-BLG-0383L",
          "Kepler-659",
          "K2-246",
          "Kepler-1227",
          "Kepler-1389",
          "KMT-2021-BLG-0240L",
          "HD 111591",
          "Kepler-67",
          "HD 152079",
          "Kepler-19",
          "GJ 414 A",
          "Kepler-1784",
          "HD 131496",
          "Kepler-1746",
          "Kepler-1293",
          "Kepler-1200",
          "OGLE-TR-113",
          "KIC 5479689",
          "Kepler-1359",
          "HAT-P-34",
          "HD 22532",
          "HD 219666",
          "Kepler-1219",
          "Kepler-1545",
          "Kepler-1808",
          "HD 75784",
          "Kepler-364",
          "K2-376",
          "HD 152843",
          "Kepler-629",
          "Kepler-523",
          "Kepler-1309",
          "Kepler-292",
          "HD 111998",
          "Kepler-817",
          "Kepler-1922",
          "Kepler-1452",
          "K2-181",
          "K2-38",
          "Kepler-434",
          "KOI-3503",
          "USco CTIO 108",
          "HD 213472",
          "Kepler-1807",
          "Kepler-2001",
          "HD 38529",
          "TOI-1064",
          "K2-18",
          "WASP-113",
          "Kepler-1298",
          "Kepler-545",
          "Kepler-883",
          "HD 215497",
          "Kepler-1010",
          "Kepler-358",
          "eps Tau",
          "HAT-P-68",
          "HD 12484",
          "HD 202696",
          "Kepler-1167",
          "Kepler-1213",
          "Kepler-1245",
          "Kepler-436",
          "K2-353",
          "Kepler-665",
          "Kepler-1905",
          "Kepler-1832",
          "K2-169",
          "Kepler-661",
          "Kepler-1949",
          "Kepler-720",
          "HATS-15",
          "HATS-57",
          "Kepler-193",
          "Kepler-733",
          "K2-119",
          "KMT-2016-BLG-2605L",
          "Kepler-1496",
          "HD 30669",
          "K2-228",
          "Kepler-1344",
          "Kepler-1304",
          "OGLE-2014-BLG-0319L",
          "Kepler-1893",
          "Kepler-1202",
          "HATS-24",
          "Kepler-648",
          "TOI-4342",
          "HATS-27",
          "Kepler-42",
          "2MASS J01225093-2439505",
          "Kepler-1191",
          "WASP-92",
          "Kepler-1892",
          "K2-382",
          "K2-37",
          "KOI-4777",
          "WASP-17",
          "HD 38801",
          "K2-330",
          "HAT-P-19",
          "Kepler-478",
          "K2-81",
          "Kepler-445",
          "Kepler-589",
          "HD 15337",
          "CoRoT-10",
          "BD+48 738",
          "GJ 229",
          "K2-226",
          "HD 150010",
          "Kepler-866",
          "Kepler-915",
          "Kepler-108",
          "OGLE-2014-BLG-0124L",
          "Kepler-1087",
          "Kepler-1939",
          "TOI-270",
          "Kepler-1792",
          "HAT-P-70",
          "Kepler-688",
          "HD 74156",
          "Kepler-895",
          "LTT 3780",
          "HD 79181",
          "Kepler-1168",
          "Kepler-425",
          "TOI-1201",
          "Kepler-1594",
          "Wolf 1069",
          "K2-266",
          "Kepler-1434",
          "Kepler-664",
          "Kepler-516",
          "HD 30562",
          "Kepler-1612",
          "Kepler-904",
          "USco1556 A",
          "HD 114386",
          "K2-287",
          "Kepler-1197",
          "HD 90156",
          "Kepler-1273",
          "KMT-2021-BLG-2478L",
          "KMT-2019-BLG-1042L",
          "TOI-2109",
          "HATS-34",
          "Kepler-1143",
          "Kepler-539",
          "Kepler-942",
          "HD 221287",
          "Kepler-1934",
          "Kepler-1104",
          "K2-115",
          "HD 179079",
          "Kepler-333",
          "K2-221",
          "HATS-60",
          "Kepler-1332",
          "HD 222155",
          "OGLE-TR-132",
          "WASP-13",
          "WASP-82",
          "K2-393",
          "Kepler-1132",
          "HD 108341",
          "Kepler-1277",
          "PSR B0329+54",
          "Kepler-1018",
          "Kepler-384",
          "KMT-2018-BLG-2602L",
          "WASP-187",
          "Kepler-563",
          "K2-90",
          "Kepler-1147",
          "Kepler-726",
          "GJ 9714",
          "Kepler-1724",
          "EPIC 206024342",
          "BD+14 4559",
          "Kepler-400",
          "Kepler-1160",
          "Kepler-1698",
          "LP 791-18",
          "Kepler-1390",
          "Kepler-791",
          "K2-50",
          "HD 20794",
          "TOI-1518",
          "Kepler-1577",
          "WASP-174",
          "Kepler-1804",
          "Kepler-654",
          "Kepler-812",
          "SWEEPS-4",
          "Kepler-615",
          "WASP-185",
          "HATS-22",
          "TOI-4479",
          "K2-415",
          "HD 117618",
          "Kepler-1765",
          "Kepler-519",
          "LHS 1815",
          "TOI-157",
          "Kepler-1186",
          "TOI-2136",
          "Kepler-1412",
          "HIP 14810",
          "GJ 682",
          "HD 82886",
          "K2-89",
          "GJ 3929",
          "Kepler-1363",
          "Kepler-656",
          "MASCARA-4",
          "OGLE-2006-BLG-109L",
          "OGLE-2019-BLG-0249L",
          "ROXs 12",
          "TOI-2180",
          "Kepler-1070",
          "HIP 65891",
          "TOI-2338",
          "GJ 3021",
          "Kepler-1761",
          "HD 106515 A",
          "EPIC 212297394",
          "Kepler-1403",
          "K2-348",
          "Kepler-33",
          "MOA-2010-BLG-328L",
          "Kepler-706",
          "K2-323",
          "Kepler-1406",
          "Kepler-48",
          "Kepler-520",
          "KMT-2018-BLG-0030L",
          "WASP-126",
          "CoRoT-6",
          "K2-26",
          "81 Cet",
          "HATS-77",
          "Kepler-1338",
          "WASP-41",
          "HD 37605",
          "BD-11 4672",
          "HD 16141",
          "OGLE-2017-BLG-1375L",
          "Kepler-1107",
          "Kepler-259",
          "Kepler-969",
          "K2-272",
          "Kepler-235",
          "HD 11506",
          "HD 86950",
          "HATS-29",
          "HATS-67",
          "KELT-7",
          "Kepler-1965",
          "Kepler-1833",
          "Kepler-267",
          "K2-242",
          "HD 142415",
          "TOI-2236",
          "Kepler-1188",
          "Kepler-1447",
          "HD 154672",
          "K2-36",
          "Kepler-1135",
          "Kepler-468",
          "HD 76700",
          "XO-7",
          "Kepler-751",
          "Kepler-813",
          "Kepler-1768",
          "Kepler-1123",
          "HATS-62",
          "HD 164595",
          "Kepler-143",
          "eps Ind A",
          "HD 42618",
          "Kepler-1716",
          "GJ 422",
          "Kepler-542",
          "KELT-2 A",
          "Kepler-1541",
          "K2-60",
          "KIC 3558849",
          "K2-347",
          "17 Sco",
          "HATS-6",
          "Kepler-1645",
          "HD 25723",
          "K2-185",
          "Kepler-1525",
          "HD 1666",
          "Kepler-1045",
          "Kepler-1449",
          "GJ 9827",
          "Kepler-1851",
          "WASP-79",
          "WASP-147",
          "HD 142022 A",
          "Kepler-226",
          "Kepler-515",
          "Kepler-673",
          "Kepler-753",
          "HD 191806",
          "Kepler-1501",
          "Kepler-57",
          "Kepler-1826",
          "Kepler-929",
          "Kepler-1288",
          "HIP 116454",
          "Kepler-171",
          "K2-172",
          "K2-34",
          "Kepler-1726",
          "Kepler-799",
          "Kepler-855",
          "11 Com",
          "HIP 63242",
          "K2-341",
          "Kepler-1466",
          "K2-108",
          "Kepler-984",
          "Kepler-1535",
          "Kepler-842",
          "Kepler-876",
          "Kepler-1640",
          "Kepler-930",
          "GJ 338 B",
          "HD 80869",
          "Kepler-1512",
          "Kepler-1314",
          "Kepler-1393",
          "CoRoT-30",
          "HD 5583",
          "K2-368",
          "HATS-58 A",
          "Kepler-120",
          "Kepler-846",
          "TOI-2260",
          "HD 99109",
          "Kepler-975",
          "Kepler-1342",
          "Kepler-47",
          "HD 100655",
          "Kepler-494",
          "USco1621 A",
          "Kepler-1138",
          "Kepler-236",
          "TOI-2796",
          "Kepler-1257",
          "Kepler-1590",
          "Gaia-1",
          "K2-387",
          "HD 194490",
          "30 Ari B",
          "TOI-2545",
          "HD 37124",
          "HD 11112",
          "Kepler-1904",
          "Kepler-1601",
          "Kepler-1266",
          "WASP-151",
          "K2-395",
          "LP 714-47",
          "Kepler-1475",
          "OGLE-2018-BLG-0932L",
          "Kepler-1628",
          "K2-120",
          "Kepler-702",
          "K2-157",
          "Kepler-1079",
          "Wendelstein-1",
          "Kepler-1649",
          "Kepler-1663",
          "Kepler-102",
          "K2-72",
          "KMT-2021-BLG-0712L",
          "Kepler-405",
          "Kepler-534",
          "HD 102329",
          "Kepler-1137",
          "XO-4",
          "TOI-163",
          "WASP-32",
          "Kepler-1526",
          "Kepler-928",
          "HD 33844",
          "HD 360",
          "Kepler-1424",
          "HD 120084",
          "HD 199509",
          "HATS-25",
          "Kepler-1798",
          "Kepler-1836",
          "Kepler-839",
          "HAT-P-23",
          "70 Vir",
          "TOI-519",
          "HD 140901",
          "Kepler-1170",
          "Kepler-1694",
          "HD 2685",
          "K2-408",
          "HAT-P-26",
          "GJ 3090",
          "KMT-2021-BLG-0912L",
          "K2-340",
          "OGLE-2013-BLG-0102L",
          "HD 93385",
          "K2-414",
          "Kepler-1717",
          "KMT-2018-BLG-0748L",
          "Kepler-248",
          "Kepler-151",
          "Kepler-272",
          "CoRoT-5",
          "K2-289",
          "Kepler-192",
          "LSPM J2116+0234",
          "Kepler-1391",
          "Kepler-1297",
          "GJ 436",
          "Kepler-1090",
          "HD 143361",
          "Kepler-1031",
          "Kepler-1677",
          "Kepler-1710",
          "HD 238090",
          "Kepler-1856",
          "K2-7",
          "Kepler-889",
          "HD 147873",
          "Kepler-1217",
          "HD 173416",
          "HD 204941",
          "K2-65",
          "HD 1605",
          "TOI-1696",
          "HAT-P-62",
          "Kepler-1962",
          "K2-191",
          "Gl 686",
          "24 Sex",
          "TIC 237913194",
          "Kepler-306",
          "Kepler-1668",
          "Kepler-761",
          "Kepler-1665",
          "Kepler-1901",
          "Kepler-1023",
          "Kepler-1028",
          "Kepler-722",
          "HD 176986",
          "KMT-2016-BLG-2397L",
          "Kepler-1439",
          "Kepler-1899",
          "Kepler-1957",
          "WASP-19",
          "K2-258",
          "Kepler-919",
          "GJ 86",
          "TOI-2459",
          "HD 56414",
          "xi Aql",
          "HD 155918",
          "HD 216437",
          "HD 219077",
          "Kepler-1349",
          "EPIC 206032309",
          "Kepler-202",
          "Kepler-1400",
          "OGLE-2016-BLG-1093",
          "Kepler-1242",
          "HD 111232",
          "2MASS J04372171+2651014",
          "Kepler-998",
          "Qatar-3",
          "ups And",
          "Kepler-1142",
          "Kepler-1629",
          "WASP-138",
          "Kepler-510",
          "K2-253",
          "Kepler-1009",
          "HATS-7",
          "Kepler-1035",
          "HIP 5158",
          "Kepler-756",
          "HD 103774",
          "Kepler-1421",
          "Kepler-1959",
          "Kepler-1825",
          "Kepler-115",
          "Kepler-741",
          "KMT-2021-BLG-0192L",
          "KMT-2016-BLG-0212L",
          "Kepler-1553",
          "Kepler-1758",
          "Kepler-1859",
          "Kepler-216",
          "Kepler-1646",
          "TOI-2152",
          "TOI-1478",
          "HD 150706",
          "TOI-836",
          "EPIC 220674823",
          "Kepler-1286",
          "Kepler-1368",
          "Kepler-268",
          "Kepler-995",
          "Kepler-1572",
          "Kepler-873",
          "alf Ari",
          "Kepler-1375",
          "Kepler-198",
          "K2-338",
          "Kepler-1478",
          "K2-2016-BLG-0005L",
          "HIP 91258",
          "Kepler-641",
          "Kepler-1117",
          "WD 1856+534",
          "HD 142",
          "KMT-2019-BLG-0842L",
          "Kepler-247",
          "MOA-2010-BLG-353L",
          "EPIC 212737443",
          "TOI-1710",
          "K2-217",
          "WASP-132",
          "NGTS-9",
          "KOI-217",
          "Kepler-1287",
          "K2-91",
          "Kepler-1900",
          "GJ 720 A",
          "HIP 109600",
          "tau Cet",
          "Kepler-422",
          "OGLE-2012-BLG-0026L",
          "Kepler-770",
          "NGTS-10",
          "Kepler-1756",
          "Kepler-1766",
          "K2-378",
          "Kepler-36",
          "Kepler-1385",
          "Kepler-1492",
          "Kepler-1336",
          "Kepler-1091",
          "TOI-4010",
          "K2-367",
          "HD 219415",
          "Kepler-1071",
          "Kepler-1008",
          "Kepler-825",
          "Kepler-94",
          "OGLE-2014-BLG-0676L",
          "K2-188",
          "HD 221416",
          "K2-351",
          "Kepler-1169",
          "Kepler-1221",
          "Kepler-954",
          "Kepler-1850",
          "HD 222076",
          "HD 94771",
          "HD 332231",
          "Kepler-1415",
          "EPIC 201238110",
          "HD 4203",
          "K2-180",
          "Kepler-165",
          "TOI-3235",
          "TYC 8998-760-1",
          "Kepler-1081",
          "AF Lep",
          "Kepler-341",
          "Kepler-1692",
          "Kepler-461",
          "WASP-110",
          "CoRoT-17",
          "Kepler-657",
          "Kepler-222",
          "HD 216520",
          "TOI-913",
          "Kepler-521",
          "GJ 676 A",
          "K2-44",
          "OGLE-2018-BLG-0298L",
          "Kepler-1294",
          "HD 92788",
          "Kepler-402",
          "HIP 35173",
          "Kepler-1687",
          "Kepler-1216",
          "Kepler-219",
          "Kepler-87",
          "KOI-7892",
          "OGLE-2014-BLG-1722L",
          "HAT-P-41",
          "Kepler-892",
          "Kepler-1351",
          "WASP-64",
          "Kepler-1690",
          "KOI-984",
          "Kepler-939",
          "Lupus-TR-3",
          "HD 184010",
          "Kepler-731",
          "Kepler-39",
          "HD 178911 B",
          "OGLE-2018-BLG-1367L",
          "K2-369",
          "75 Cet",
          "Kepler-1777",
          "HD 115404 A",
          "HD 164922",
          "HD 24064",
          "Kepler-940",
          "HIP 21152",
          "Kepler-1048",
          "Kepler-1043",
          "HD 59686 A",
          "K2-290",
          "KOI-3680",
          "TrES-1",
          "HD 43691",
          "Kepler-572",
          "HD 81040",
          "Kepler-1482",
          "Kepler-1164",
          "K2-77",
          "Kepler-1584",
          "HD 25912",
          "HD 87883",
          "KELT-19 A",
          "HD 181720",
          "Kepler-1748",
          "Ross 458",
          "HATS-68",
          "Kepler-1103",
          "WASP-148",
          "kap And",
          "Kepler-602",
          "WASP-162",
          "TOI-558",
          "Kepler-832",
          "TOI-674",
          "Kepler-1410",
          "Kepler-546",
          "TOI-3819",
          "Kepler-1498",
          "HD 95872",
          "KMT-2021-BLG-1303L",
          "Kepler-1576",
          "TOI-2046",
          "TOI-201",
          "KMT-2016-BLG-1397L",
          "HAT-P-12",
          "HIP 12961",
          "K2-241",
          "HR 858",
          "Kepler-732",
          "Kepler-908",
          "K2-260",
          "K2-101",
          "Kepler-1775",
          "Kepler-218",
          "Kepler-1248",
          "HD 95127",
          "Kepler-676",
          "TOI-559",
          "Kepler-1653",
          "KMT-2019-BLG-2783L",
          "TOI-3023",
          "Kepler-1873",
          "K2-160",
          "Kepler-229",
          "NN Ser",
          "HD 27969",
          "TOI-3757",
          "BD+60 1417",
          "Kepler-1386",
          "OGLE-2018-BLG-0506L",
          "Kepler-1552",
          "Pr0211",
          "K2-83",
          "Kepler-388",
          "Kepler-566",
          "Kepler-1258",
          "HD 29021",
          "Kepler-960",
          "Kepler-1727",
          "Kepler-496",
          "TOI-4582",
          "HD 159243",
          "HATS-66",
          "GJ 625",
          "K2-417",
          "Kepler-549",
          "Kepler-404",
          "Kepler-1436",
          "HD 196050",
          "Kepler-667",
          "HD 214823",
          "BD-13 2130",
          "Kepler-703",
          "TOI-4308",
          "Kepler-893",
          "TOI-2587 A",
          "HD 211970",
          "Kepler-921",
          "TIC 172900988 Aa",
          "GJ 887",
          "GQ Lup",
          "HD 27442",
          "K2-264",
          "Kepler-370",
          "EPIC 212424622",
          "HD 49674",
          "Kepler-1586",
          "Kepler-1256",
          "Kepler-372",
          "TOI-2196",
          "Kepler-1199",
          "Kepler-901",
          "HAT-P-43",
          "Kepler-1920",
          "HAT-P-67",
          "HD 95086",
          "Kepler-570",
          "Kepler-1983",
          "Kepler-517",
          "CoRoT-11",
          "WASP-104",
          "K2-117",
          "K2-354",
          "Kepler-1252",
          "Kepler-888",
          "Kepler-1003",
          "Kepler-1625",
          "Kepler-747",
          "Kepler-678",
          "Kepler-1061",
          "Kepler-150",
          "TOI-1136",
          "Kepler-1481",
          "Kepler-1854",
          "Kepler-1801",
          "Kepler-851",
          "HD 238914",
          "HIP 94235",
          "OGLE-TR-56",
          "K2-123",
          "HD 12648",
          "GJ 674",
          "HD 210193",
          "Kepler-1025",
          "Kepler-487",
          "WASP-3",
          "Kepler-1554",
          "Kepler-98",
          "K2-131",
          "TOI-712",
          "Kepler-989",
          "Kepler-608",
          "ups Leo",
          "Kepler-105",
          "HATS-32",
          "Kepler-117",
          "Kepler-1401",
          "HD 93083",
          "Kepler-1918",
          "HAT-P-5",
          "MOA-2010-BLG-073L",
          "Kepler-1413",
          "XO-2 S",
          "Teegarden's Star",
          "Kepler-682",
          "Kepler-1030",
          "OGLE-2012-BLG-0950L",
          "K2-198",
          "WASP-175",
          "K2-158",
          "Kepler-187",
          "Kepler-328",
          "Kepler-716",
          "K2-216",
          "K2-46",
          "TOI-4406",
          "WASP-97",
          "K2-186",
          "HATS-2",
          "Kepler-636",
          "WASP-35",
          "Kepler-250",
          "Kepler-794",
          "TOI-833",
          "Kepler-804",
          "Kepler-1806",
          "HD 11977",
          "HD 19615",
          "Kepler-20",
          "Kepler-1247",
          "Kepler-1537",
          "Kepler-1127",
          "Kepler-1513",
          "Kepler-332",
          "Kepler-164",
          "HD 100777",
          "HD 14787",
          "Kepler-1339",
          "HD 31253",
          "Kepler-1315",
          "Kepler-1367",
          "Kepler-264",
          "HD 22496",
          "Kepler-829",
          "Kepler-1946",
          "alf Tau",
          "Kepler-518",
          "WASP-153",
          "Kepler-1661",
          "WASP-55",
          "Kepler-1505",
          "Kepler-393",
          "Kepler-465",
          "WASP-141",
          "Kepler-674",
          "K2-161",
          "Kepler-91",
          "Kepler-880",
          "BD+03 2562",
          "HD 2952",
          "Kepler-493",
          "HD 137388",
          "Kepler-1487",
          "TOI-1842",
          "K2-349",
          "Kepler-1547",
          "KELT-20",
          "Kepler-865",
          "OGLE-2015-BLG-0954L",
          "K2-358",
          "Kepler-355",
          "Kepler-852",
          "Kepler-163",
          "TOI-3331 A",
          "KIC 10525077",
          "Kepler-1237",
          "K2-189",
          "TOI-824",
          "HD 47186",
          "Kepler-735",
          "Kepler-123",
          "HD 105618",
          "Kepler-1605",
          "HIP 86221",
          "HD 69123",
          "HAT-P-36",
          "Kepler-1981",
          "HD 106906",
          "K2-268",
          "K2-261",
          "HD 109988",
          "Kepler-626",
          "Kepler-1835",
          "Kepler-167",
          "Kepler-379",
          "Kepler-559",
          "Kepler-750",
          "K2-357",
          "Kepler-967",
          "Kepler-1544",
          "K2-11",
          "POTS-1",
          "K2-45",
          "Kepler-669",
          "HATS-52",
          "Kepler-988",
          "TOI-2570",
          "Kepler-368",
          "HD 31527",
          "HD 147018",
          "Kepler-1153",
          "K2-148",
          "GJ 680",
          "HATS-14",
          "Kepler-1733",
          "TOI-4137",
          "V1298 Tau",
          "omi CrB",
          "K2-29",
          "K2-70",
          "Kepler-671",
          "K2-263",
          "Kepler-1126",
          "Kepler-12",
          "KMT-2021-BLG-1554L",
          "Kepler-1352",
          "Kepler-309",
          "K2-49",
          "OGLE-2016-BLG-1227L",
          "WASP-8",
          "K2-319",
          "Kepler-1193",
          "Kepler-1180",
          "KMT-2019-BLG-1552L",
          "TOI-4329",
          "Kepler-1092",
          "GJ 832",
          "HD 26965",
          "Kepler-938",
          "Kepler-1374",
          "Kepler-1952",
          "Kepler-655",
          "K2-113",
          "HD 217107",
          "Kepler-191",
          "HD 99492",
          "Kepler-707",
          "K2-71",
          "HIP 107772",
          "Kepler-959",
          "Kepler-755",
          "HD 149143",
          "HIP 54373",
          "Kepler-1450",
          "GJ 2030",
          "MOA-2016-BLG-227L",
          "Kepler-279",
          "HD 103197",
          "Kepler-1585",
          "Kepler-1647",
          "mu Leo",
          "Kepler-582",
          "OGLE-2015-BLG-1649L",
          "Kepler-1802",
          "GJ 3323",
          "Kepler-100",
          "OGLE-2005-BLG-390L",
          "HD 10975",
          "Kepler-1499",
          "Kepler-1862",
          "Kepler-1306",
          "Kepler-443",
          "Kepler-728",
          "Kepler-1764",
          "Kepler-1531",
          "HD 109833",
          "HD 216435",
          "Kepler-1643",
          "Kepler-316",
          "Kepler-1179",
          "HD 35759",
          "Kepler-1916",
          "Kepler-1913",
          "HD 55696",
          "Kepler-596",
          "Kepler-54",
          "HD 40979",
          "K2-252",
          "Kepler-1207",
          "Kepler-625",
          "Kepler-739",
          "1RXS J160929.1-210524",
          "HATS-59",
          "Kepler-784",
          "Kepler-950",
          "K2-133",
          "HD 207897",
          "OGLE-2018-BLG-1700L",
          "MOA-2009-BLG-266L",
          "GPX-1",
          "Kepler-1291",
          "Kepler-897",
          "LHS 3844",
          "TOI-4087",
          "HD 175167",
          "HD 196885 A",
          "CoRoT-21",
          "Kepler-1021",
          "Kepler-540",
          "HD 168443",
          "HD 30177",
          "HD 8574",
          "TOI-540",
          "Kepler-878",
          "Kepler-367",
          "Kepler-1437",
          "Kepler-1307",
          "K2-316",
          "HD 221420",
          "KIC 10001893",
          "Kepler-140",
          "Kepler-1484",
          "Kepler-533",
          "Kepler-801",
          "Kepler-907",
          "WASP-62",
          "Kepler-569",
          "Kepler-287",
          "Kepler-642",
          "TOI-3362",
          "K2-278",
          "Kepler-31",
          "HD 40307",
          "Kepler-1355",
          "TOI-1246",
          "gam Cep",
          "Kepler-1883",
          "Kepler-1734",
          "CoRoT-16",
          "HD 50499",
          "GJ 3341",
          "Kepler-1085",
          "Kepler-1956",
          "Proxima Cen",
          "HD 45652",
          "Kepler-480",
          "KELT-15",
          "Kepler-666",
          "K2-114",
          "HAT-P-35",
          "Kepler-690",
          "Kepler-583",
          "EPIC 211822797",
          "Kepler-104",
          "24 Boo",
          "Kepler-1422",
          "Kepler-421",
          "EPIC 211945201",
          "OGLE-2019-BLG-0960L",
          "HD 330075",
          "Kepler-1109",
          "Kepler-610",
          "WASP-42",
          "Kepler-352",
          "Kepler-717",
          "TOI-1452",
          "HD 43197",
          "OGLE-2019-BLG-0468L",
          "Kepler-74",
          "HD 13808",
          "KMT-2016-BLG-1836L",
          "Kepler-787",
          "KELT-23 A",
          "Kepler-245",
          "KMT-2021-BLG-0322L",
          "Kepler-530",
          "Kepler-705",
          "Kepler-1155",
          "Kepler-947",
          "HD 14067",
          "Kepler-1948",
          "HD 11755",
          "WASP-15",
          "HD 110014",
          "WD 0806-661",
          "HD 134987",
          "Kepler-1658",
          "K2-95",
          "WASP-158",
          "HD 88133",
          "HD 206255",
          "TOI-1411",
          "Kepler-1078",
          "Kepler-824",
          "Kepler-1635",
          "Kepler-220",
          "K2-245",
          "HD 50554",
          "HD 18742",
          "HIP 105854",
          "Kepler-269",
          "HD 75898",
          "Kepler-1457",
          "Kepler-858",
          "WASP-171",
          "Kepler-1235",
          "Kepler-472",
          "BD-06 1339",
          "K2-62",
          "Kepler-170",
          "K2-80",
          "HIP 8541",
          "Kepler-1969",
          "K2-317",
          "HU Aqr",
          "Kepler-870",
          "Kepler-712",
          "HATS-41",
          "K2-54",
          "Kepler-1064",
          "K2-192",
          "Kepler-396",
          "Kepler-1161",
          "WASP-7",
          "Kepler-1210",
          "Kepler-643",
          "TOI-244",
          "HD 23079",
          "Kepler-433",
          "Kepler-1114",
          "Kepler-1275",
          "Kepler-1627",
          "Kepler-500",
          "Kepler-781",
          "PSR J1719-1438",
          "Kepler-1809",
          "Kepler-721",
          "TOI-2818",
          "KELT-24",
          "Kepler-391",
          "Kepler-1524",
          "HD 220197",
          "WASP-172",
          "HD 44219",
          "Kepler-1785",
          "Kepler-788",
          "Kepler-1828",
          "G 264-012",
          "Kepler-773",
          "Kepler-1166",
          "K2-381",
          "Kepler-1578",
          "Kepler-1910",
          "KOI-12",
          "Kepler-228",
          "HD 13167",
          "Kepler-1977",
          "KMT-2021-BLG-1253L",
          "Kepler-1029",
          "Kepler-922",
          "Kepler-1891",
          "Kepler-900",
          "Kepler-60",
          "Kepler-258",
          "Qatar-8",
          "Kepler-1549",
          "TOI-1468",
          "HD 16175",
          "WASP-163",
          "OGLE-2016-BLG-1067L",
          "HIP 109384",
          "KIC 5951458",
          "Kepler-577",
          "HAT-P-49",
          "Kepler-1445",
          "KMT-2019-BLG-1339L",
          "Kepler-244",
          "Kepler-848",
          "Kepler-475",
          "Kepler-327",
          "K2-405",
          "Kepler-1745",
          "Kepler-1945",
          "Kepler-243",
          "Kepler-331",
          "Kepler-1938",
          "TOI-451",
          "Kepler-1065",
          "Kepler-618",
          "K2-329",
          "HD 147379",
          "TOI-544",
          "Kepler-194",
          "Kepler-408",
          "Kepler-35",
          "TrES-4",
          "Kepler-1573",
          "HATS-47",
          "CHXR 73",
          "Kepler-1483",
          "Kepler-1953",
          "K2-47",
          "Kepler-1743",
          "CoRoT-26",
          "GJ 3138",
          "HD 95338",
          "Kepler-573",
          "MOA-2011-BLG-322L",
          "OGLE-2017-BLG-1691L",
          "HD 191939",
          "HD 96063",
          "Kepler-1346",
          "Kepler-1446",
          "Kepler-547",
          "Kepler-1739",
          "OGLE-TR-111",
          "K2-249",
          "HD 4760",
          "TOI-125",
          "HATS-64",
          "Kepler-1366",
          "HD 128311",
          "K2-64",
          "Kepler-1047",
          "Kepler-1495",
          "Kepler-875",
          "Kepler-1004",
          "HD 285968",
          "WASP-91",
          "HD 208487",
          "TrES-5",
          "Kepler-483",
          "TOI-763",
          "HD 11964",
          "Kepler-1847",
          "HATS-61",
          "Kepler-1267",
          "Kepler-1313",
          "Kepler-302",
          "Kepler-1539",
          "HATS-56",
          "Kepler-1610",
          "Kepler-619",
          "DS Tuc A",
          "Kepler-271",
          "HD 33283",
          "Kepler-1551",
          "HD 125271",
          "K2-48",
          "Kepler-58",
          "Kepler-1430",
          "Kepler-1773",
          "KELT-11",
          "Kepler-221",
          "BD+20 594",
          "TYC 0434-04538-1",
          "KMT-2018-BLG-0029L",
          "Kepler-329",
          "HD 110537",
          "KOI-94",
          "Kepler-1312",
          "Kepler-746",
          "BD+48 740",
          "Kepler-294",
          "HD 116029",
          "Kepler-1563",
          "HD 10647",
          "TOI-1221",
          "Kepler-527",
          "Kepler-1961",
          "HATS-44",
          "Kepler-509",
          "Kepler-1113",
          "K2-293",
          "Kepler-411",
          "CFHTWIR-Oph 98 A",
          "K2-238",
          "kap CrB",
          "HD 127506",
          "WASP-56",
          "HD 34445",
          "HD 195019",
          "Kepler-630",
          "K2-406",
          "Kepler-10",
          "K2-255",
          "Kepler-1094",
          "K2-28",
          "WASP-34",
          "WASP-89",
          "Qatar-7",
          "Kepler-881",
          "Kepler-281",
          "CD Cet",
          "Kepler-83",
          "Kepler-1530",
          "Kepler-146",
          "Kepler-1831",
          "Kepler-698",
          "HD 28678",
          "NGTS-14 A",
          "Kepler-214",
          "Kepler-1954",
          "Kepler-1980",
          "HD 155358",
          "Kepler-1473",
          "OGLE-2013-BLG-0341L B",
          "TOI-2445",
          "K2-105",
          "Kepler-507",
          "Kepler-905",
          "Kepler-295",
          "MOA-2013-BLG-220L",
          "PZ Tel",
          "Kepler-1360",
          "61 Vir",
          "HD 139357",
          "K2-87",
          "Kepler-811",
          "Kepler-936",
          "K2-68",
          "Kepler-977",
          "HD 33564",
          "Kepler-1720",
          "K2-256",
          "Kepler-110",
          "Kepler-525",
          "Kepler-1655",
          "HD 118203",
          "8 UMi",
          "Kepler-1936",
          "Kepler-604",
          "KMT-2019-BLG-1953L",
          "Kepler-416",
          "Kepler-432",
          "Kepler-581",
          "Kepler-145",
          "K2-248",
          "Kepler-160",
          "HIP 67522",
          "K2-162",
          "Kepler-1120",
          "Kepler-325",
          "Kepler-748",
          "WASP-2",
          "WASP-88",
          "Kepler-872",
          "HD 189567",
          "HIP 65407",
          "HIP 48714",
          "HD 93351",
          "Kepler-1057",
          "Kepler-409",
          "HD 86065",
          "Kepler-196",
          "HD 1461",
          "Kepler-38",
          "K2-308",
          "HD 122562",
          "Kepler-1036",
          "Kepler-1879",
          "KMT-2019-BLG-0953L",
          "Kepler-1176",
          "TOI-1811",
          "K2-177",
          "GJ 536",
          "Kepler-392",
          "EPIC 201595106",
          "K2-97",
          "Kepler-1051",
          "GJ 433",
          "HD 115954",
          "CoRoT-20",
          "Kepler-376",
          "Kepler-789",
          "TOI-1416",
          "Kepler-961",
          "K2-399",
          "Kepler-850",
          "WASP-136",
          "K2-130",
          "HD 103720",
          "OGLE-2006-BLG-284L A",
          "Kepler-1234",
          "Kepler-785",
          "RR Cae",
          "CoRoT-12",
          "Kepler-1244",
          "WASP-58",
          "Kepler-1281",
          "Kepler-1133",
          "HD 6434",
          "KMT-2018-BLG-1025L",
          "Kepler-1372",
          "Kepler-1058",
          "Kepler-1387",
          "Kepler-1408",
          "Kepler-1467",
          "K2-159",
          "2MASS J19383260+4603591",
          "Kepler-607",
          "K2-269",
          "Kepler-903",
          "Kepler-943",
          "Kepler-1100",
          "WASP-94 B",
          "Kepler-375",
          "Kepler-1034",
          "2MASS J04414489+2301513",
          "Kepler-59",
          "WASP-142",
          "Kepler-1837",
          "Kepler-556",
          "HD 188641",
          "Kepler-1311",
          "Kepler-1569",
          "TRAPPIST-1",
          "LHS 1140",
          "51 Eri",
          "HAT-P-60",
          "HD 94834",
          "K2-375",
          "GJ 143",
          "Kepler-1154",
          "HD 181433",
          "HD 24085",
          "Kepler-1542",
          "Kepler-93",
          "Kepler-275",
          "Kepler-1919",
          "Qatar-9",
          "HD 80606",
          "K2-53",
          "HD 168863",
          "OGLE-2018-BLG-1428L",
          "HD 137496",
          "TOI-2025",
          "Kepler-537",
          "Kepler-949",
          "Kepler-366",
          "K2-212",
          "K2-279",
          "HD 80913",
          "K2-320",
          "Kepler-1741",
          "Kepler-644",
          "K2-152",
          "WASP-49",
          "Kepler-1121",
          "Kepler-1329",
          "Kepler-1165",
          "HD 158038",
          "OGLE-2018-BLG-0977L",
          "K2-140",
          "Kepler-482",
          "Kepler-1190",
          "HD 149026",
          "Kepler-1226",
          "Kepler-1979",
          "HD 208527",
          "Kepler-124",
          "OGLE-2018-BLG-1126L",
          "EPIC 206317286",
          "GJ 393",
          "Kepler-997",
          "NSVS 14256825",
          "K2-168",
          "Kepler-440",
          "TOI-2364",
          "Kepler-407",
          "Kepler-240",
          "Kepler-1448",
          "Kepler-200",
          "Kepler-752",
          "OGLE-2017-BLG-1806L",
          "Kepler-346",
          "WASP-119",
          "Kepler-491",
          "Kepler-660",
          "HD 156279",
          "WASP-184",
          "GJ 3512",
          "GJ 4276",
          "Kepler-1623",
          "Kepler-134",
          "Kepler-1395",
          "Kepler-1923",
          "Kepler-1688",
          "HR 2562",
          "OGLE-TR-211",
          "Kepler-1960",
          "Kepler-1303",
          "Kepler-424",
          "KMT-2019-BLG-1806L",
          "Kepler-347",
          "Kepler-297",
          "KELT-1",
          "K2-121",
          "Kepler-662",
          "Kepler-274",
          "TOI-2411",
          "Kepler-1177",
          "Kepler-913",
          "HD 155193",
          "Kepler-207",
          "Kepler-692",
          "Kepler-290",
          "Kepler-63",
          "Kepler-847",
          "K2-286",
          "K2-10",
          "Kepler-590",
          "Kepler-1881",
          "Kepler-670",
          "OGLE-TR-10",
          "Kepler-1750",
          "K2-208",
          "HIP 57274",
          "Kepler-599",
          "Kepler-991",
          "Kepler-119",
          "HD 18015",
          "Kepler-188",
          "Kepler-1844",
          "WASP-107",
          "TOI-2194",
          "Kepler-1136",
          "HD 38283",
          "Kepler-802",
          "Kepler-971",
          "PH2",
          "TOI-2443",
          "HAT-P-40",
          "Kepler-1459",
          "HD 144899",
          "Kepler-156",
          "Kepler-470",
          "Kepler-477",
          "Kepler-965",
          "HD 18438",
          "HD 27894",
          "WASP-106",
          "K2-275",
          "K2-224",
          "HD 134060",
          "Kepler-1044",
          "Kepler-1428",
          "TOI-5542",
          "Kepler-1732",
          "HD 10697",
          "Kepler-524",
          "Kepler-1587",
          "Kepler-369",
          "Kepler-932",
          "Kepler-554",
          "TOI-178",
          "WASP-38",
          "Kepler-550",
          "K2-187",
          "Kepler-1205",
          "Kepler-1747",
          "CFBDSIR J145829+101343",
          "WASP-24",
          "HD 32518",
          "EPIC 201427007",
          "Kepler-473",
          "WASP-43",
          "Kepler-147",
          "Kepler-1490",
          "HD 167768",
          "HD 196067",
          "HATS-5",
          "Kepler-1583",
          "Kepler-1548",
          "TOI-1278",
          "Kepler-1151",
          "HATS-65",
          "Kepler-462",
          "Kepler-588",
          "Kepler-1550",
          "Kepler-299",
          "Kepler-1912",
          "Kepler-1955",
          "TOI-1422",
          "HD 109246",
          "Kepler-1762",
          "Kepler-435",
          "Kepler-484",
          "Kepler-1015",
          "Kepler-711",
          "K2-102",
          "K2-388",
          "Kepler-911",
          "WASP-93",
          "HD 215152",
          "Kepler-1678",
          "K2-166",
          "WASP-87",
          "Kepler-906",
          "BD+20 274",
          "K2-126",
          "Kepler-142",
          "Kepler-1722",
          "Kepler-1929",
          "HIP 78530",
          "BD+49 828",
          "Kepler-1110",
          "KMT-2018-BLG-0247L",
          "HD 13931",
          "Kepler-1243",
          "Kepler-339",
          "HD 233832",
          "NGC 2682 YBP 1514",
          "K2-282",
          "HATS-38",
          "Kepler-1251",
          "CoRoT-23",
          "NGTS-13",
          "TOI-2421",
          "K2-58",
          "Kepler-1454",
          "K2-66",
          "Kepler-284",
          "Kepler-526",
          "HD 86264",
          "Kepler-916",
          "Kepler-677",
          "HAT-P-54",
          "K2-394",
          "Kepler-859",
          "HD 20329",
          "GJ 317",
          "K2-149",
          "Kepler-351",
          "TOI-1075",
          "K2-335",
          "Kepler-1152",
          "KMT-2019-BLG-2974L",
          "Kepler-1863",
          "HAT-P-3",
          "K2-124",
          "Kepler-4",
          "WASP-10",
          "Kepler-1162",
          "OGLE-2017-BLG-0373L",
          "Kepler-647",
          "Kepler-1350",
          "Kepler-504",
          "Kepler-1903",
          "TOI-2583 A",
          "HD 224693",
          "Kepler-768",
          "OGLE-2015-BLG-1670L",
          "Kepler-809",
          "Kepler-1310",
          "Kepler-1600",
          "Kepler-25",
          "Kepler-1779",
          "OGLE2-TR-L9",
          "Kepler-232",
          "OGLE-2015-BLG-0051L",
          "Kepler-1089",
          "HD 97048",
          "Kepler-800",
          "Kepler-138",
          "HD 114082",
          "HN Peg",
          "KPS-1",
          "Kepler-1651",
          "Kepler-1711",
          "K2-315",
          "OGLE-2018-BLG-1212L",
          "Kepler-447",
          "Kepler-233",
          "HD 106252",
          "BD-08 2823",
          "Kepler-1982",
          "Kepler-101",
          "PSR B1620-26",
          "Kepler-1292",
          "HD 33142",
          "Kepler-963",
          "TOI-1338 A",
          "Kepler-426",
          "CoRoT-8",
          "HAT-P-24",
          "Kepler-1704",
          "Kepler-1230",
          "Kepler-16",
          "NGTS-1",
          "Kepler-1337",
          "HD 1397",
          "KMT-2017-BLG-0428L",
          "Kepler-1867",
          "Kepler-557",
          "KOI-142",
          "HD 4732",
          "Kepler-1783",
          "Kepler-1340",
          "Kepler-953",
          "KMT-2017-BLG-0165L",
          "Kepler-1373",
          "Kepler-1682",
          "Kepler-680",
          "Kepler-1174",
          "HATS-11",
          "Kepler-1361",
          "Kepler-634",
          "OGLE-2007-BLG-349L A",
          "Kepler-1433",
          "TOI-1694",
          "TOI-2669",
          "TOI-1695",
          "HD 160691",
          "HD 206610",
          "Kepler-686",
          "HD 156668",
          "K2-199",
          "Kepler-1799",
          "Kepler-1300",
          "Kepler-955",
          "Kepler-1520",
          "GJ 685",
          "Kepler-1419",
          "Kepler-1250",
          "Kepler-23",
          "Kepler-772",
          "HATS-31",
          "GJ 1002",
          "KMT-2016-BLG-1105L",
          "NGTS-16",
          "HD 203387",
          "HD 99706",
          "DMPP-2",
          "K2-99",
          "TOI-5678",
          "b Cen A",
          "Kepler-887",
          "TOI-132",
          "K2-413",
          "HD 180902",
          "Kepler-1603",
          "Kepler-498",
          "K2-254",
          "Kepler-1925",
          "Kepler-418",
          "K2-84",
          "Kepler-1518",
          "Kepler-771",
          "Kepler-305",
          "K2-138",
          "WASP-66",
          "TOI-1859",
          "Kepler-1204",
          "Kepler-1027",
          "Kepler-1683",
          "KMT-2021-BLG-1105L",
          "K2-63",
          "Kepler-1675",
          "HD 64114",
          "Kepler-551",
          "TrES-3",
          "Kepler-1759",
          "MOA-2009-BLG-319L",
          "K2-231",
          "Kepler-1321",
          "HD 197037",
          "Kepler-807",
          "Kepler-1463",
          "HD 17156",
          "Kepler-1517",
          "Kepler-246",
          "Kepler-1198",
          "Kepler-340",
          "Kepler-449",
          "HATS-76",
          "Gaia-2",
          "HAT-P-44",
          "GJ 1214",
          "HD 156411",
          "Kepler-1073",
          "NGTS-4",
          "Kepler-1559",
          "TOI-4127",
          "WASP-48",
          "Kepler-1106",
          "HIP 54597",
          "Kepler-374",
          "Kepler-1241",
          "Kepler-874",
          "TOI-1266",
          "TOI-2406",
          "CoRoT-25",
          "Kepler-591",
          "Kepler-1397",
          "HAT-P-61",
          "Kepler-1736",
          "TOI-2096",
          "Kepler-594",
          "Kepler-319",
          "K2-16",
          "Kepler-1887",
          "Kepler-1407",
          "Kepler-1442",
          "HD 9174",
          "Kepler-28",
          "HAT-P-13",
          "Kepler-1451",
          "HATS-30",
          "Kepler-1383",
          "Kepler-133",
          "HD 213885",
          "Kepler-1896",
          "HAT-P-59",
          "Kepler-201",
          "TOI-2158",
          "Kepler-1507",
          "HD 73534",
          "K2-398",
          "Kepler-1270",
          "Kepler-1810",
          "Kepler-1989",
          "Kepler-450",
          "XO-1",
          "Kepler-225",
          "HD 181234",
          "Kepler-1384",
          "WASP-127",
          "TOI-908",
          "Kepler-1527",
          "Kepler-1509",
          "Kepler-937",
          "Kepler-288",
          "Kepler-1654",
          "HD 125390",
          "Kepler-1232",
          "TYC 3318-01333-1",
          "HD 165131",
          "DE CVn",
          "Kepler-1020",
          "HD 165155",
          "Kepler-1259",
          "OGLE-2018-BLG-0516L",
          "Kepler-385",
          "WASP-29",
          "Kepler-1295",
          "Kepler-1521",
          "Kepler-1418",
          "OGLE-2017-BLG-1522L",
          "HATS-70",
          "Kepler-1086",
          "WASP-5",
          "HAT-P-6",
          "GJ 3998",
          "Kepler-1528",
          "Kepler-1024",
          "TOI-206",
          "KMT-2017-BLG-1146L",
          "Kepler-203",
          "OGLE-2014-BLG-1760L",
          "TAP 26",
          "Kepler-1347",
          "Kepler-1371",
          "WASP-123",
          "Kepler-181",
          "Kepler-1993",
          "Kepler-1937",
          "Kepler-24",
          "Kepler-1093",
          "SR 12 AB",
          "WASP-169",
          "Kepler-871",
          "Kepler-476",
          "Kepler-286",
          "Kepler-1485",
          "TOI-1431",
          "HAT-P-11",
          "K2-321",
          "K2-137",
          "Kepler-1570",
          "VHS J125601.92-125723.9",
          "HD 307842",
          "Kepler-387",
          "Kepler-255",
          "Kepler-1330",
          "HD 217786",
          "HAT-P-63",
          "Kepler-1599",
          "Kepler-719",
          "TOI-4791",
          "HD 167677",
          "WASP-54",
          "TOI-564",
          "Kepler-612",
          "Kepler-1909",
          "HD 240210",
          "Kepler-1614",
          "NGTS-18",
          "HD 220773",
          "KELT-6",
          "Kepler-371",
          "Kepler-1253",
          "Kepler-562",
          "Kepler-1515",
          "HD 10180",
          "Kepler-1140",
          "Kepler-154",
          "Kepler-111",
          "HD 153950",
          "Kepler-1797",
          "Kepler-609",
          "Kepler-1820",
          "OGLE-2013-BLG-1721L",
          "COCONUTS-2 A",
          "Kepler-1557",
          "HD 30856",
          "HD 185269",
          "HD 200964",
          "EPIC 201841433",
          "K2-61",
          "K2-333",
          "Kepler-1510",
          "Kepler-941",
          "WASP-100",
          "Kepler-474",
          "Kepler-1771",
          "18 Del",
          "K2-366",
          "HD 141004",
          "Kepler-1299",
          "WASP-52",
          "Kepler-1608",
          "K2-42",
          "Kepler-1317",
          "Kepler-1735",
          "EPIC 212499991",
          "MOA-2010-BLG-117L",
          "HATS-69",
          "Kepler-26",
          "Kepler-640",
          "Kepler-560",
          "K2-285",
          "Kepler-1334",
          "Kepler-261",
          "K2-412",
          "K2-277",
          "14 And",
          "Kepler-1927",
          "Kepler-417",
          "TOI-1298",
          "TOI-1634",
          "Pr0201",
          "DENIS-P J082303.1-491201",
          "HD 205739",
          "HD 106315",
          "Kepler-1223",
          "Kepler-1335",
          "TOI-1062",
          "K2-3",
          "HD 63433",
          "HR 810",
          "Kepler-1685",
          "Wolf 503",
          "TOI-1268",
          "Kepler-933",
          "HATS-42",
          "KOI-55",
          "HIP 41378",
          "Kepler-1822",
          "TOI-1601",
          "6 Lyn",
          "HATS-1",
          "Kepler-679",
          "KMT-2021-BLG-1077L",
          "NGTS-21",
          "TOI-1235",
          "TOI-3629",
          "HATS-46",
          "Kepler-5",
          "Kepler-1076",
          "K2-116",
          "Kepler-1712",
          "KOI-1257",
          "LkCa 15",
          "HD 183263",
          "HD 89744",
          "K2-331",
          "Kepler-1261",
          "TOI-237",
          "Kepler-2000",
          "Kepler-891",
          "WASP-186",
          "TOI-640",
          "Kepler-1144",
          "HATS-13",
          "WASP-68",
          "Kepler-1616",
          "HAT-P-55",
          "Kepler-1316",
          "HD 45184",
          "Kepler-129",
          "Kepler-344",
          "HD 164509",
          "TOI-2154",
          "HD 77338",
          "HD 167042",
          "HD 5891",
          "Kepler-497",
          "TOI-2000",
          "Kepler-603",
          "Kepler-1225",
          "HD 12235",
          "Kepler-1122",
          "Kepler-628",
          "Kepler-113",
          "EPIC 212587672",
          "CoRoT-36",
          "HD 97037",
          "Kepler-1674",
          "HD 9446",
          "K2-75",
          "TOI-2048",
          "TOI-5174",
          "Kepler-623",
          "Kepler-1639",
          "Kepler-301",
          "Kepler-412",
          "HD 15906",
          "KMT-2021-BLG-0748L",
          "Kepler-1139",
          "EPIC 201497682",
          "TOI-1296",
          "Kepler-884",
          "HD 47536",
          "HD 104985",
          "K2-146",
          "Kepler-1995",
          "HD 23596",
          "K2-220",
          "KIC 10068024",
          "Kepler-1007",
          "Kepler-986",
          "Kepler-1676",
          "HD 46375",
          "Kepler-687",
          "TOI-1860",
          "K2-15",
          "CoRoT-22",
          "OGLE-2018-BLG-0596L",
          "HD 21693",
          "TOI-3976 A",
          "Kepler-273",
          "TOI-677",
          "K2-98",
          "HD 158996",
          "HD 20781",
          "HD 97658",
          "Kepler-141",
          "Kepler-501",
          "Kepler-862",
          "Kepler-1262",
          "Kepler-808",
          "Kepler-415",
          "WASP-120",
          "HD 103949",
          "Kepler-312",
          "WASP-94 A",
          "Kepler-1730",
          "Kepler-1589",
          "Kepler-1325",
          "TOI-3540 A",
          "K2-223",
          "Kepler-1240",
          "Kepler-605",
          "Kepler-1022",
          "Kepler-40",
          "CoRoT-1",
          "HD 169830",
          "Kepler-1915",
          "HD 260655",
          "Kepler-1378",
          "Kepler-763",
          "Kepler-1002",
          "TOI-530",
          "HAT-P-29",
          "KMT-2016-BLG-2364L",
          "Kepler-982",
          "TOI-3884",
          "CoRoTID 223977153",
          "Kepler-1062",
          "Kepler-1829",
          "OGLE-2019-BLG-0362L",
          "TOI-2193 A",
          "Kepler-723",
          "HD 189733",
          "Kepler-1751",
          "HATS-4",
          "Kepler-1819",
          "Kepler-1897",
          "Kepler-197",
          "Kepler-1464",
          "Kepler-993",
          "Kepler-1725",
          "Kepler-606",
          "Kepler-776",
          "Kepler-210",
          "Kepler-758",
          "K2-284",
          "Kepler-1453",
          "Kepler-50",
          "OGLE-2018-BLG-1119L",
          "Kepler-1737",
          "OGLE-2017-BLG-1434L",
          "eps CrB",
          "Kepler-1409",
          "WASP-80",
          "Qatar-5",
          "HAT-P-7",
          "HD 64121",
          "Kepler-337",
          "Kepler-580",
          "TIC 279401253",
          "HD 103891",
          "gam Psc",
          "Kepler-1072",
          "Kepler-1055",
          "Kepler-377",
          "HAT-P-18",
          "HD 17674",
          "HD 67087",
          "Kepler-827",
          "Kepler-987",
          "HD 25015",
          "HD 148156",
          "K2-213",
          "Kepler-805",
          "TCP J05074264+2447555",
          "TOI-700",
          "Kepler-34",
          "WASP-173 A",
          "HAT-P-2",
          "Kepler-918",
          "Kepler-951",
          "Kepler-1840",
          "Kepler-1171",
          "Kepler-112",
          "K2-73",
          "K2-365",
          "Kepler-320",
          "HD 190647",
          "HD 126614",
          "Kepler-144",
          "HD 23472",
          "Kepler-1731",
          "WASP-63",
          "HD 175607",
          "HD 56957",
          "K2-396",
          "KMT-2019-BLG-1367L",
          "WASP-83",
          "HD 177830",
          "K2-270",
          "Kepler-780",
          "K2-222",
          "Kepler-253",
          "Kepler-1019",
          "Kepler-1098",
          "Kepler-1425",
          "2MASS J22362452+4751425",
          "KMT-2021-BLG-0119L",
          "Kepler-1930",
          "K2-43",
          "Kepler-1183",
          "Kepler-845",
          "Kepler-1872",
          "Kepler-1728",
          "Kepler-1772",
          "Kepler-343",
          "Kepler-1038",
          "K2-210",
          "HD 74698",
          "Kepler-579",
          "MOA-2015-BLG-337L",
          "BD+15 2940",
          "OGLE-2018-BLG-1011L",
          "Kepler-934",
          "WASP-78",
          "Kepler-1634",
          "HD 143105",
          "Kepler-401",
          "Kepler-1471",
          "Kepler-1493",
          "HD 224538",
          "Kepler-46",
          "Kepler-1596",
          "HATS-12",
          "Kepler-624",
          "Kepler-760",
          "WTS-1",
          "Kepler-1708",
          "Kepler-43",
          "TOI-954",
          "Kepler-1615",
          "TOI-849",
          "Kepler-1233",
          "OGLE-2003-BLG-235L",
          "TOI-1807",
          "K2-33",
          "K2-218",
          "Kepler-1886",
          "NGTS-6",
          "Kepler-107",
          "HD 28109",
          "Kepler-1575",
          "Kepler-1026",
          "Kepler-68",
          "Kepler-431",
          "Kepler-899",
          "Kepler-1789",
          "HD 2638",
          "OGLE-2018-BLG-0799L",
          "Kepler-399",
          "HD 95544",
          "Kepler-180",
          "K2-271",
          "HD 220689",
          "MOA-2011-BLG-028L",
          "HD 98219",
          "HD 89307",
          "Kepler-1996",
          "Kepler-1416",
          "Kepler-1060",
          "Kepler-1824",
          "HD 112640",
          "Kepler-1839",
          "Kepler-966",
          "TOI-942",
          "bet UMi",
          "SWEEPS-11",
          "Kepler-1869",
          "Kepler-684",
          "Kepler-148",
          "K2-69",
          "Kepler-397",
          "K2-370",
          "GJ 3293",
          "K2-342",
          "HD 113996",
          "HD 7924",
          "K2-401",
          "OGLE-2018-BLG-0567L",
          "TOI-1260",
          "HD 4308",
          "Kepler-1468",
          "K2-125",
          "KMT-2018-BLG-1988L",
          "NGTS-12",
          "Kepler-1017",
          "omi UMa",
          "Kepler-983",
          "HAT-P-57",
          "HD 76920",
          "Kepler-1943",
          "TOI-500",
          "GJ 251",
          "HATS-17",
          "NGC 2682 YBP 1194",
          "HD 125595",
          "Kepler-1145",
          "HATS-43",
          "WASP-133",
          "TOI-1937 A",
          "K2-196",
          "HD 190360",
          "Kepler-1280",
          "Kepler-869",
          "Kepler-466",
          "Kepler-1491",
          "HD 10442",
          "Qatar-1",
          "K2-373",
          "HIP 74890",
          "Kepler-413",
          "Kepler-1782",
          "Kepler-423",
          "OGLE-2018-BLG-0962L",
          "HD 8535",
          "K2-400",
          "HD 39194",
          "HAT-P-31",
          "Kepler-1562",
          "Kepler-1417",
          "GJ 486",
          "HD 171238",
          "Kepler-437",
          "Kepler-994",
          "MOA-2012-BLG-006L",
          "WASP-1",
          "Kepler-1574",
          "HD 168746",
          "Kepler-796",
          "KMT-2018-BLG-0087L",
          "K2-85",
          "Kepler-1218",
          "WASP-121",
          "HIP 70849",
          "Kepler-265",
          "OGLE-2008-BLG-092L",
          "Kepler-1088",
          "K2-318",
          "Kepler-1039",
          "K2-288 B",
          "Kepler-1718",
          "HD 81688",
          "KOI-1599",
          "Kepler-82",
          "HD 86226",
          "Kepler-224",
          "WASP-98",
          "Kepler-1536",
          "HD 212301",
          "Kepler-795",
          "Kepler-622",
          "WASP-59",
          "K2-225",
          "HD 125612",
          "Kepler-1538",
          "GJ 3082",
          "Kepler-314",
          "TOI-561",
          "HD 221585",
          "HD 22781",
          "Kepler-1229",
          "Kepler-565",
          "Kepler-206",
          "Kepler-1274",
          "GJ 1151",
          "Kepler-696",
          "KMT-2018-BLG-1990L",
          "HIP 75056 A",
          "Kepler-1049",
          "K2-194",
          "WASP-4",
          "Wendelstein-2",
          "HD 135872",
          "HIP 79431",
          "K2-147",
          "Kepler-1146",
          "K2-163",
          "WASP-76",
          "Kepler-1130",
          "Kepler-1102",
          "Kepler-1885",
          "Kepler-962",
          "HAT-P-27",
          "HD 80653",
          "DMPP-3 A",
          "TOI-3912",
          "GJ 480",
          "HD 204313",
          "GJ 9689",
          "Kepler-1928",
          "HD 32963",
          "Kepler-974",
          "Kepler-973",
          "K2-13",
          "OGLE-2019-BLG-1492L",
          "Kepler-308",
          "Gl 378",
          "Kepler-553",
          "nu Oph",
          "Kepler-1738",
          "K2-356",
          "K2-243",
          "Kepler-1742",
          "K2-57",
          "Kepler-282",
          "Kepler-535",
          "Kepler-1673",
          "Kepler-819",
          "HD 154345",
          "Kepler-1178",
          "TOI-1259 A",
          "BD+63 1405",
          "Qatar-6",
          "OGLE-TR-182",
          "TOI-837",
          "KELT-16",
          "Kepler-1898",
          "Kepler-41",
          "Kepler-53",
          "51 Peg",
          "K2-110",
          "K2-379",
          "Kepler-935",
          "KMT-2016-BLG-2142L",
          "Kepler-213",
          "TOI-1444",
          "WASP-6",
          "Kepler-1855",
          "Kepler-1556",
          "TOI-3364",
          "Kepler-757",
          "Kepler-1438",
          "Kepler-836",
          "MOA-2012-BLG-505L",
          "Kepler-489",
          "K2-392",
          "Kepler-1770",
          "KMT-2021-BLG-0171L",
          "OGLE-2019-BLG-1053L",
          "DP Leo",
          "CoRoT-19",
          "Kepler-410 A",
          "Kepler-467",
          "Kepler-925",
          "Kepler-1095",
          "HD 163607",
          "Kepler-386",
          "WASP-20",
          "Kepler-1516",
          "Kepler-927",
          "Kepler-860",
          "NGTS-24",
          "HAT-P-65",
          "HD 22946",
          "CoRoT-9",
          "HD 240237",
          "Kepler-348",
          "Kepler-1613",
          "Kepler-978",
          "OGLE-2018-BLG-0740L",
          "Kepler-810",
          "HD 48265",
          "K2-416",
          "OGLE-2017-BLG-1140L",
          "OGLE-2018-BLG-1269L",
          "TYC 2187-512-1",
          "Kepler-1246",
          "Kepler-1364",
          "Kepler-837",
          "WASP-46",
          "Kepler-353",
          "KELT-10",
          "gam1 Leo",
          "WASP-131",
          "Kepler-1084",
          "NGTS-5",
          "CoRoT-29",
          "HATS-16",
          "Kepler-701",
          "TOI-5398",
          "Kepler-1813",
          "HD 148427",
          "HD 202206",
          "HD 95089",
          "WASP-77 A",
          "HD 5608",
          "Kepler-1781",
          "Kepler-1871",
          "Kepler-1077",
          "EPIC 229004835",
          "Kepler-1156",
          "HD 23127",
          "Kepler-506",
          "HD 63935",
          "HAT-P-25",
          "Kepler-651",
          "GJ 3779",
          "Kepler-979",
          "TOI-2589",
          "Kepler-1115",
          "NGTS-25",
          "Kepler-1462",
          "OGLE-2018-BLG-1647L",
          "Kepler-153",
          "HD 45364",
          "Kepler-1565",
          "LP 890-9",
          "Kepler-595",
          "OGLE-2011-BLG-0265L",
          "Kepler-1458",
          "HD 52265",
          "HD 169142",
          "K2-200",
          "Kepler-766",
          "HD 218566",
          "WASP-103",
          "K2-291",
          "GJ 1061",
          "psi1 Dra B",
          "HD 145934",
          "K2-206",
          "Kepler-835",
          "WASP-96",
          "HD 62509",
          "Kepler-1285",
          "Kepler-1489",
          "Kepler-734",
          "KMT-2019-BLG-0371L",
          "NGTS-8",
          "Kepler-173",
          "Kepler-414",
          "Kepler-176",
          "Kepler-55",
          "K2-173",
          "TOI-2257",
          "HD 89345",
          "HD 136925",
          "HIP 79098 AB",
          "OGLE-2017-BLG-1099L",
          "K2-326",
          "LTT 1445 A",
          "HD 98736",
          "HD 82943",
          "KMT-2017-BLG-2509L",
          "HD 206893",
          "HAT-P-22",
          "K2-86",
          "OGLE-2007-BLG-368L",
          "Kepler-266",
          "K2-325",
          "WASP-157",
          "Kepler-1998",
          "HD 3167",
          "GJ 357",
          "TOI-813",
          "Kepler-1203",
          "GSC 06214-00210",
          "KELT-4 A",
          "NGTS-2",
          "PH1",
          "KMT-2018-BLG-1976L",
          "TOI-2285",
          "CoRoT-35",
          "HD 290327",
          "Kepler-139",
          "GU Psc",
          "Kepler-15",
          "Kepler-1702",
          "Kepler-1788",
          "Kepler-1874",
          "Kepler-645",
          "K2-280",
          "Kepler-285",
          "HD 26161",
          "HAT-P-69",
          "TYC 4282-00605-1",
          "Kepler-1763",
          "91 Aqr",
          "K2-344",
          "EPIC 206042996",
          "TOI-169",
          "K2-250",
          "Kepler-51",
          "WASP-170",
          "K2-8",
          "Kepler-693",
          "Kepler-885",
          "HD 126525",
          "HIP 38594",
          "TOI-220",
          "K2-153",
          "TOI-969",
          "K2-281",
          "Kepler-1376",
          "Kepler-1001",
          "LHS 1478",
          "WASP-192",
          "HD 100546",
          "Kepler-1964",
          "WASP-61",
          "HATS-74 A",
          "Kepler-365",
          "Kepler-816",
          "Kepler-1571",
          "TIC 257060897",
          "Kepler-931",
          "WASP-183",
          "TOI-150",
          "HD 86081",
          "GJ 514",
          "Kepler-157",
          "Kepler-30",
          "HD 181342",
          "K2-380",
          "Kepler-709",
          "Kepler-1211",
          "GJ 180",
          "OGLE-2011-BLG-0173L",
          "K2-195",
          "Kepler-1249",
          "HD 208897",
          "K2-154",
          "bet Cnc",
          "Kepler-1116",
          "K2-227",
          "Kepler-1236",
          "HD 8673",
          "Kepler-1444",
          "TOI-2497",
          "K2-211",
          "WASP-50",
          "Kepler-1388",
          "Kepler-714",
          "K2-273",
          "TYC 3667-1280-1",
          "Kepler-62",
          "Kepler-283",
          "Kepler-639",
          "Kepler-1159",
          "HD 110082",
          "WISEP J121756.91+162640.2 A",
          "HD 130322",
          "HD 27631",
          "K2-209",
          "HAT-P-33",
          "HIP 90988",
          "Kepler-1581",
          "HAT-P-56",
          "HD 331093",
          "Kepler-1033",
          "MOA-2010-BLG-477L",
          "Kepler-718",
          "Kepler-1331",
          "Kepler-1740",
          "LTT 9779",
          "K2-136",
          "Kepler-254",
          "Kepler-209",
          "K2-156",
          "WASP-164",
          "WASP-139",
          "HD 109286",
          "Kepler-278",
          "Kepler-1633",
          "Kepler-350",
          "Kepler-1719",
          "OGLE-2019-BLG-0954L",
          "TOI-181",
          "HD 114613",
          "HAT-P-58",
          "EPIC 246851721",
          "Kepler-1040",
          "Kepler-260",
          "Kepler-710",
          "ROXs 42 B",
          "TOI-4603",
          "GJ 1132",
          "Kepler-1399",
          "WASP-31",
          "TOI-2525",
          "Kepler-127",
          "Kepler-1597",
          "Kepler-1701",
          "TOI-2803 A",
          "Kepler-162",
          "MOA-bin-29",
          "TOI-3693",
          "GJ 96",
          "K2-232",
          "Kepler-587",
          "Kepler-1423",
          "Kepler-782",
          "OGLE-2012-BLG-0406L",
          "Kepler-1963",
          "GJ 581",
          "KELT-18",
          "Kepler-1013",
          "Kepler-8",
          "YSES 2",
          "K2-79",
          "TOI-2018",
          "GJ 3222",
          "Kepler-635",
          "HD 107148",
          "Kepler-488",
          "HATS-39",
          "Kepler-1805",
          "L 98-59",
          "WASP-161",
          "WASP-57",
          "Kepler-972",
          "K2-350",
          "HD 63454",
          "BD+20 2457",
          "Kepler-700",
          "Kepler-217",
          "Kepler-311",
          "TOI-1693",
          "HIP 35965",
          "HD 161178",
          "KOI-7913 A",
          "Kepler-1796",
          "KMT-2019-BLG-0298L",
          "Kepler-1821",
          "NY Vir",
          "K2-334",
          "Kepler-1269",
          "Kepler-1108",
          "Kepler-1353",
          "HD 16417",
          "Kepler-1264",
          "G 9-40",
          "Kepler-1194",
          "HD 41004 A",
          "WASP-118",
          "Kepler-1580",
          "Kepler-1469",
          "Kepler-1228",
          "K2-403",
          "Kepler-1817",
          "Kepler-729",
          "Qatar-10",
          "Kepler-844",
          "HD 75289",
          "K2-383",
          "Kepler-536",
          "YZ Cet",
          "K2-151",
          "Kepler-1016",
          "HAT-P-45",
          "TOI-2076",
          "Kepler-406",
          "Kepler-790",
          "HD 11505",
          "HD 39855",
          "K2-127",
          "Kepler-1224",
          "Kepler-1323",
          "Kepler-1830",
          "Kepler-190",
          "K2-205",
          "HIP 4845",
          "Kepler-652",
          "Kepler-958",
          "GJ 463",
          "HD 96700",
          "Kepler-1192",
          "Kepler-620",
          "HIP 114933",
          "PDS 70",
          "Kepler-1101",
          "TOI-2498",
          "GJ 367",
          "Kepler-1656",
          "Kepler-1749",
          "Kepler-592",
          "Kepler-1642",
          "Kepler-1679",
          "Kepler-1944",
          "Kepler-1319",
          "GJ 849",
          "K2-257",
          "Kepler-738",
          "Kepler-1607",
          "HD 210277",
          "Kepler-1841",
          "Kepler-1958",
          "Kepler-898",
          "XO-2 N",
          "Kepler-1992",
          "Kepler-511",
          "Kepler-430",
          "Kepler-1308",
          "Kepler-695",
          "K2-352",
          "HD 20782",
          "Kepler-1620",
          "KELT-9",
          "Kepler-744",
          "HD 16905",
          "Kepler-1566",
          "K2-52",
          "Kepler-195",
          "CT Cha",
          "Kepler-1222",
          "Kepler-1175",
          "Kepler-1860",
          "Kepler-1811",
          "Kepler-853",
          "WASP-177",
          "HD 99283",
          "Kepler-1080",
          "Kepler-205",
          "Kepler-981",
          "HD 4917",
          "K2-6",
          "Kepler-291",
          "GJ 876",
          "Kepler-1488",
          "Ross 128",
          "UZ For",
          "NGC 2682 YBP 401",
          "HD 83443",
          "K2-219",
          "Kepler-185",
          "KMT-2019-BLG-1715L",
          "HD 66428",
          "HD 70573",
          "TOI-139",
          "Kepler-1598",
          "Kepler-1752",
          "Kepler-1050",
          "Kepler-1976",
          "HAT-P-8",
          "TOI-2207",
          "KELT-14",
          "Kepler-137",
          "EPIC 220492298",
          "K2-164",
          "HD 41004 B",
          "HD 96992",
          "HD 190007",
          "Kepler-1465",
          "Kepler-1479",
          "HD 220842",
          "Kepler-1924",
          "K2-247",
          "HD 104067",
          "Kepler-280",
          "Kepler-1593",
          "OGLE-2012-BLG-0563L",
          "K2-233",
          "HD 72892",
          "HATS-26",
          "HD 216536",
          "HIP 99770",
          "Kepler-1354",
          "Kepler-838",
          "K2-214",
          "GJ 504",
          "Kepler-293",
          "HAT-P-46",
          "HAT-P-37",
          "OGLE-2012-BLG-0358L",
          "Kepler-1196",
          "WASP-190",
          "Kepler-1667",
          "Kepler-1069",
          "Kepler-300",
          "NGTS-3 A",
          "GJ 687",
          "AB Aur",
          "WASP-166",
          "GJ 328",
          "Kepler-1602",
          "Kepler-1296",
          "Kepler-886",
          "Kepler-627",
          "HD 109749",
          "K2-202",
          "GJ 3634",
          "Kepler-1588",
          "HD 96167",
          "HAT-P-39",
          "Kepler-1695",
          "Kepler-1721",
          "Kepler-175",
          "Kepler-882",
          "Kepler-778",
          "K2-179",
          "Kepler-831",
          "Kepler-77",
          "HAT-P-4",
          "Kepler-231",
          "Kepler-541",
          "Kepler-1377",
          "HATS-18",
          "TOI-1181",
          "Kepler-1624",
          "Kepler-1402",
          "Kepler-1560",
          "Kepler-749",
          "Kepler-1105",
          "Kepler-1370",
          "WASP-26",
          "Kepler-1753",
          "HD 202772 A",
          "Kepler-1882",
          "MOA-2008-BLG-310L",
          "HD 28254",
          "Kepler-1379",
          "MOA-bin-1L",
          "Kepler-1173",
          "Kepler-303",
          "Kepler-1054",
          "Kepler-1638",
          "Kepler-1099",
          "Kepler-1208",
          "Kepler-22",
          "K2-207",
          "Kepler-1921",
          "HAT-P-28",
          "Kepler-172",
          "GJ 179",
          "Kepler-1486",
          "Oph 11",
          "Kepler-1769",
          "Kepler-1618",
          "Kepler-697",
          "Kepler-481",
          "Kepler-428",
          "HIP 9618",
          "Kepler-1470",
          "Kepler-183",
          "CoRoT-2",
          "Kepler-189",
          "HD 5278",
          "K2-183",
          "Kepler-956",
          "Kepler-1966",
          "Kepler-249",
          "K2-19",
          "Kepler-868",
          "Kepler-990",
          "HD 62549",
          "HAT-P-42",
          "TOI-733",
          "Kepler-1988",
          "Kepler-179",
          "Kepler-1994",
          "Kepler-759",
          "KOI-13",
          "Kepler-1941",
          "Kepler-32",
          "Kepler-66",
          "Kepler-1149",
          "K2-150",
          "K2-371",
          "TOI-620",
          "WASP-39",
          "Kepler-764",
          "AU Mic",
          "Kepler-212",
          "Kepler-360",
          "Kepler-1755",
          "TOI-1685",
          "Kepler-1880",
          "Kepler-1786",
          "WASP-178",
          "Kepler-742",
          "K2-174",
          "Kepler-1148",
          "WASP-74",
          "CI Tau",
          "HD 141399",
          "K2-322",
          "Kepler-1369",
          "Kepler-1622",
          "TOI-4463 A",
          "nu Oct A",
          "HD 85390",
          "Kepler-1686",
          "HAT-P-51",
          "Kepler-564",
          "DMPP-1",
          "K2-100",
          "Kepler-1669",
          "K2-141",
          "HD 60532",
          "Kepler-442",
          "Kepler-1184",
          "Kepler-1699",
          "Kepler-675",
          "GJ 273",
          "HD 124330",
          "Kepler-1579",
          "Kepler-1046",
          "CoRoT-13",
          "HD 190228",
          "K2-259",
          "HD 187123",
          "Kepler-1671",
          "HD 211403",
          "K2-355",
          "Kepler-131",
          "Kepler-136",
          "KIC 7917485",
          "Kepler-118",
          "Kepler-1476",
          "Kepler-161",
          "Kepler-168",
          "Kepler-1884",
          "HD 213240",
          "Kepler-1693",
          "Kepler-452",
          "OGLE-2018-BLG-0677L",
          "Kepler-1845",
          "Kepler-21",
          "WASP-159",
          "Kepler-1005",
          "Kepler-1263",
          "Kepler-1042",
          "Kepler-1006",
          "Kepler-1201",
          "Kepler-1158",
          "Kepler-1514",
          "Kepler-713",
          "47 UMa",
          "Qatar-4",
          "WASP-72",
          "Kepler-215",
          "WASP-90",
          "HD 162020",
          "K2-244",
          "KIC 8121913",
          "Kepler-1129",
          "Kepler-322",
          "Kepler-238",
          "KMT-2018-BLG-1743L",
          "Kepler-199",
          "Kepler-621",
          "HD 45350",
          "Kepler-815",
          "MOA-2016-BLG-319L",
          "bet Pic",
          "WASP-14",
          "OGLE-2005-BLG-071L",
          "HIP 19976",
          "HAT-P-16",
          "HD 17092",
          "rho CrB",
          "Kepler-76",
          "K2-336",
          "TOI-3807",
          "Kepler-1723",
          "Kepler-69",
          "Kepler-1933",
          "K2-59",
          "Kepler-1324",
          "Kepler-1097",
          "Kepler-1814",
          "Kepler-96",
          "Kepler-614",
          "WASP-53",
          "Kepler-512",
          "MOA-2013-BLG-605L",
          "HD 152581",
          "tau Gem",
          "K2-292",
          "HD 174205",
          "Kepler-715",
          "OGLE-2012-BLG-0724L",
          "Kepler-1978",
          "Kepler-1619",
          "Kepler-383",
          "Kepler-814",
          "Kepler-1405",
          "Kepler-779",
          "TOI-1333",
          "Kepler-600",
          "TOI-1820",
          "Kepler-315",
          "K2-294",
          "K2-122",
          "Kepler-1067",
          "Kepler-917",
          "Kepler-6",
          "K2-155",
          "Kepler-552",
          "Kepler-1787",
          "Kepler-769",
          "K2-74",
          "Kepler-923",
          "4 UMa",
          "HAT-P-38",
          "K2-182",
          "Kepler-330",
          "Kepler-439",
          "Kepler-743",
          "Kepler-373",
          "Kepler-427",
          "GJ 1148",
          "K2-39",
          "KMT-2016-BLG-1107L",
          "K2-203",
          "Kepler-1950",
          "Kepler-558",
          "TOI-778",
          "HD 4113",
          "Kepler-502",
          "42 Dra",
          "Kepler-1644",
          "HD 24040",
          "HAT-P-21",
          "HD 28185",
          "HD 158259",
          "HIP 107773",
          "HD 8326",
          "HIP 71135",
          "Kepler-211",
          "HIP 97233",
          "Kepler-970",
          "TOI-421",
          "HATS-48 A",
          "Kepler-561",
          "KELT-21",
          "TOI-1130",
          "HD 68988",
          "K2-32",
          "Kepler-1083",
          "WASP-156",
          "Kepler-843",
          "Kepler-926",
          "2MASS J02192210-3925225",
          "HATS-45",
          "Kepler-1394",
          "Kepler-18",
          "HD 210702",
          "Kepler-1278",
          "TOI-1227",
          "Kepler-159",
          "Kepler-262",
          "HD 18599",
          "HAT-P-32",
          "Kepler-708",
          "HD 13724",
          "Kepler-158",
          "OGLE-2016-BLG-0613L AB",
          "HD 108874",
          "Kepler-1271",
          "TOI-3714",
          "K2-346",
          "Kepler-1096",
          "KELT-12",
          "Kepler-1260",
          "Kepler-826",
          "WASP-135",
          "Kepler-304",
          "Kepler-1842",
          "OGLE-2008-BLG-355L",
          "K2-88",
          "Kepler-1592",
          "HD 101930",
          "HD 154857",
          "Kepler-1214",
          "Kepler-1947",
          "Kepler-256",
          "Kepler-394",
          "Kepler-999",
          "K2-230",
          "K2-190",
          "K2-276",
          "Kepler-1157",
          "Kepler-1365",
          "Kepler-1441",
          "Kepler-453",
          "HIP 56640",
          "TOI-628",
          "WASP-28",
          "Kepler-685",
          "Kepler-531",
          "K2-377",
          "Kepler-1700",
          "Kepler-1914",
          "Kepler-996",
          "Kepler-1440",
          "HAT-P-52",
          "HD 70642",
          "HAT-P-50",
          "KIC 9663113",
          "HD 192310",
          "Kepler-318",
          "Kepler-463",
          "NGTS-17",
          "K2-107",
          "HATS-51",
          "HIP 97166",
          "CoRoT-7",
          "HATS-40",
          "Kepler-1767",
          "HD 233604",
          "TOI-5238",
          "Kepler-116",
          "KMT-2019-BLG-1216L",
          "K2-176",
          "Kepler-1611",
          "Kepler-1951",
          "Kepler-313",
          "Kepler-362",
          "Kepler-298",
          "Kepler-857",
          "TOI-1899",
          "TOI-1272",
          "Kepler-1461",
          "Kepler-1523",
          "HD 207832",
          "HD 51608",
          "Kepler-1558",
          "Kepler-879",
          "2MASS J12073346-3932539",
          "Kepler-1000",
          "Kepler-1986",
          "Kepler-1848",
          "Kepler-263",
          "Kepler-1709",
          "K2-407",
          "Kepler-95",
          "V830 Tau",
          "Kepler-1935",
          "Kepler-543",
          "Kepler-310",
          "HD 80883",
          "Kepler-663",
          "Kepler-106",
          "Kepler-1816",
          "KMT-2017-BLG-1194L",
          "Kepler-1641",
          "HD 188015",
          "Kepler-683",
          "Kepler-121",
          "HD 20003",
          "K2-24",
          "Kepler-1650",
          "WASP-21",
          "Kepler-877",
          "Kepler-1868",
          "L 363-38",
          "TOI-1107",
          "K2-31",
          "BD-10 3166",
          "Kepler-1382",
          "TOI-251",
          "WASP-85 A",
          "Kepler-783",
          "HD 5319",
          "Kepler-1999",
          "Kepler-1431",
          "Kepler-1827",
          "KIC 5437945",
          "HD 106270",
          "Kepler-1195",
          "KELT-17",
          "WASP-117",
          "HD 102195",
          "HD 136118",
          "OGLE-2017-BLG-0604L",
          "Kepler-390",
          "Kepler-454",
          "WASP-167",
          "HD 7449",
          "CoRoT-24",
          "KMT-2021-BLG-1372L",
          "Kepler-1398",
          "Kepler-1435",
          "Kepler-1888",
          "Kepler-1564",
          "HD 190984",
          "WASP-25",
          "Kepler-691",
          "FU Tau",
          "Kepler-1664",
          "WASP-73",
          "Kepler-1134",
          "Kepler-1985",
          "Kepler-1118",
          "K2-25",
          "EPIC 201170410",
          "HD 88072",
          "Kepler-1534",
          "Kepler-737",
          "Kepler-1968",
          "Kepler-169",
          "KMT-2022-BLG-0440L",
          "HD 209458",
          "K2-343",
          "Kepler-335",
          "Kepler-446",
          "Kepler-727",
          "Kepler-762",
          "Kepler-914",
          "Kepler-1343",
          "Kepler-798",
          "Kepler-349",
          "Kepler-544",
          "WASP-95",
          "Kepler-568",
          "Kepler-740",
          "K2-193",
          "HD 108236",
          "HD 148164",
          "Kepler-1529",
          "16 Cyg B",
          "Kepler-1497",
          "K2-345",
          "WASP-69",
          "KIC 3526061",
          "OGLE-2013-BLG-1761L",
          "Kepler-242",
          "Kepler-389",
          "CoRoT-31",
          "Kepler-1494",
          "K2-204",
          "Kepler-867",
          "Kepler-611",
          "K2-9",
          "Kepler-1420",
          "Kepler-345",
          "TOI-2977",
          "Kepler-1609",
          "TOI-4562",
          "K2-139",
          "K2-184",
          "Kepler-1595",
          "Kepler-1617",
          "Kepler-1917",
          "Kepler-830",
          "HATS-53",
          "HAT-P-17",
          "Kepler-617",
          "Kepler-681",
          "OGLE-2019-BLG-1470L A",
          "HD 73267",
          "Kepler-968",
          "HAT-P-53",
          "HD 136418",
          "Kepler-99",
          "OGLE-2011-BLG-0251L",
          "Kepler-1255",
          "Kepler-378",
          "Kepler-1754",
          "HATS-35",
          "Kepler-234",
          "Kepler-833",
          "K2-55",
          "HD 132406",
          "Kepler-1265",
          "K2-128",
          "55 Cnc",
          "HD 457",
          "Kepler-122",
          "WASP-180 A",
          "TOI-1759",
          "Kepler-1381",
          "Kepler-1533",
          "OGLE-2012-BLG-0838L",
          "GJ 9066",
          "Kepler-806",
          "Kepler-1011",
          "Kepler-1504",
          "Kepler-1926",
          "HD 102272",
          "K2-35",
          "KMT-2021-BLG-2294L",
          "HD 13189",
          "Kepler-1480",
          "GJ 2056",
          "Kepler-334",
          "Kepler-1209",
          "Kepler-616",
          "TOI-1670",
          "Kepler-1500",
          "TOI-5704",
          "HIP 65426",
          "EPIC 249893012",
          "Kepler-945",
          "HD 87646",
          "WASP-16",
          "HD 93963 A",
          "Kepler-567",
          "Kepler-1987",
          "Kepler-1843",
          "Kepler-1212",
          "K2-14",
          "Kepler-508",
          "Kepler-1182",
          "Kepler-1052",
          "Kepler-637",
          "K2-384",
          "HD 159868",
          "TOI-1516",
          "Kepler-1502",
          "TOI-2567",
          "Kepler-1691",
          "Kepler-79",
          "EPIC 201757695",
          "HAT-P-20",
          "BD-210397",
          "HR 5183",
          "Kepler-1626",
          "TOI-216",
          "Kepler-514",
          "KMT-2021-BLG-1391L",
          "GJ 27.1",
          "K2-402",
          "Kapteyn",
          "Kepler-1189",
          "Kepler-1561",
          "TOI-532",
          "Kepler-1760",
          "WASP-114",
          "Kepler-1972",
          "Kepler-704",
          "GJ 1252",
          "V0391 Peg",
          "HD 109271",
          "Kepler-513",
          "HIP 55507",
          "HD 212771",
          "Kepler-1532",
          "Kepler-909",
          "Kepler-1631",
          "HATS-54",
          "HAT-P-64",
          "Kepler-890",
          "Kepler-109",
          "GJ 649",
          "Kepler-1778",
          "Kepler-585",
          "Kepler-1942",
          "HD 564",
          "Kepler-1411",
          "Kepler-81",
          "WASP-165",
          "Kepler-775",
          "WASP-105",
          "HATS-72",
          "HD 217958",
          "HD 68402",
          "Kepler-736",
          "XO-5",
          "AB Pic",
          "HD 121504",
          "Kepler-1012",
          "HD 192263",
          "Kepler-896",
          "iot Dra",
          "Kepler-1857",
          "Kepler-1870",
          "HD 192699",
          "HD 66141",
          "14 Her",
          "Kepler-1254",
          "K2-295",
          "Kepler-1543",
          "HIP 75092",
          "Kepler-822",
          "Kepler-985",
          "EPIC 248847494",
          "Kepler-317",
          "TOI-5205",
          "7 CMa",
          "MOA-2011-BLG-291L",
          "HD 211810",
          "Kepler-980",
          "HD 132563",
          "Kepler-597",
          "Kepler-1345",
          "Kepler-1791",
          "GJ 3470",
          "Kepler-1940",
          "Kepler-1075",
          "HD 231701",
          "KMT-2021-BLG-0909L",
          "K2-409",
          "HD 4313",
          "Kepler-1911",
          "CoRoT-3",
          "MASCARA-1",
          "Kepler-593",
          "Kepler-912",
          "GJ 1265",
          "K2-372",
          "Kepler-37",
          "HD 19994",
          "Kepler-894",
          "OGLE-2013-BLG-0911L",
          "Kepler-1429",
          "OGLE-2015-BLG-0966L",
          "OGLE-2019-BLG-0679L",
          "TOI-776",
          "Kepler-178",
          "HATS-55",
          "Kepler-1215",
          "PSR J2322-2650",
          "Kepler-1895",
          "GJ 411",
          "TOI-1669",
          "Kepler-382",
          "Kepler-1823",
          "HD 128356",
          "HD 65216",
          "K2-21",
          "Kepler-786",
          "HD 179949",
          "Kepler-861",
          "tau Boo",
          "Kepler-1652",
          "WASP-65",
          "Kepler-803",
          "HATS-10",
          "TOI-1749",
          "K2-324",
          "Kepler-1522",
          "OGLE-2013-BLG-0132L",
          "Kepler-1705",
          "Kepler-1301",
          "MOA-2019-BLG-008L",
          "K2-4",
          "HD 13908",
          "KMT-2021-BLG-1689L",
          "Kepler-1396",
          "OGLE-2016-BLG-0263L",
          "HD 156098",
          "WASP-145 A",
          "HD 73583",
          "CoRoT-14",
          "KMT-2017-BLG-1038L",
          "KMT-2021-BLG-1898L",
          "Kepler-1506",
          "Kepler-976",
          "MOA-2007-BLG-400L",
          "Kepler-380",
          "OGLE-2017-BLG-1049L",
          "HD 171028",
          "OGLE-2018-BLG-0532L",
          "Kepler-864",
          "Kepler-49",
          "WASP-189",
          "GJ 163",
          "WASP-84",
          "Kepler-1729",
          "Kepler-381",
          "Kepler-1684",
          "UKIRT-2017-BLG-001L",
          "HIP 948",
          "K2-411",
          "HD 102117",
          "Kepler-1540",
          "HD 4208",
          "Kepler-1326",
          "K2-104",
          "K2-389",
          "HD 102365",
          "Kepler-1427",
          "HD 21411",
          "K2-385",
          "Kepler-689",
          "WASP-45",
          "K2-386",
          "MOA-2011-BLG-293L",
          "Kepler-204",
          "Kepler-17",
          "Kepler-1268",
          "Kepler-598",
          "NGTS-20",
          "Kepler-184",
          "Kepler-152",
          "Kepler-1582",
          "Kepler-792",
          "MOA-2007-BLG-192L",
          "WASP-130",
          "HD 129445",
          "Kepler-1220",
          "Kepler-821",
          "NGC 2682 Sand 978",
          "TOI-269",
          "HD 81817",
          "HD 108147",
          "HD 219139",
          "Kepler-126",
          "HD 3651",
          "KELT-8",
          "Kepler-924",
          "HD 187085",
          "Kepler-1333",
          "Kepler-1878",
          "HAT-P-30",
          "CoRoT-18",
          "Kepler-1068",
          "Kepler-576",
          "TrES-2",
          "TOI-1789",
          "HD 170469",
          "Kepler-270",
          "TOI-2202",
          "Kepler-1362",
          "Kepler-237",
          "HD 89839",
          "TOI-2842",
          "Kepler-658",
          "K2-17",
          "Kepler-505",
          "Kepler-208",
          "EPIC 206215704",
          "HD 147513",
          "K2-171",
          "KELT-3",
          "TYC 1422-614-1",
          "WASP-12",
          "Kepler-1780",
          "Kepler-1163",
          "HD 39091",
          "Kepler-1555",
          "TOI-1728",
          "HATS-63",
          "HATS-49",
          "HD 102956",
          "Kepler-1131",
          "Kepler-1774",
          "Kepler-1818",
          "TOI-481",
          "WASP-182",
          "K2-178",
          "Kepler-1546",
          "GJ 3473",
          "IC 4651 9122",
          "HIP 5763",
          "Kepler-1282",
          "Kepler-823",
          "TOI-257",
          "WASP-150",
          "NGTS-15",
          "WASP-71",
          "GJ 160.2",
          "Kepler-754",
          "Kepler-1238",
          "HD 220074",
          "Kepler-103",
          "Kepler-323",
          "WASP-67",
          "Kepler-1568",
          "Kepler-114",
          "Kepler-1322",
          "K2-240",
          "TOI-672",
          "HD 72659",
          "Kepler-1697",
          "Kepler-45",
          "Kepler-529",
          "Kepler-532",
          "Kepler-957",
          "Kepler-155",
          "Kepler-1858",
          "Kepler-359",
          "Kepler-174",
          "Kepler-1063",
          "L 168-9",
          "Kepler-1404",
          "Kepler-613",
          "HAT-P-15",
          "TOI-5153",
          "Kepler-130",
          "HD 219828",
          "Kepler-1800",
          "HATS-36",
          "TOI-5803",
          "Kepler-1666",
          "K2-201",
          "Kepler-818",
          "Kepler-538",
          "Kepler-649",
          "Kepler-1696",
          "HD 207496",
          "HD 3765",
          "Kepler-132",
          "HATS-71",
          "Kepler-1637",
          "Kepler-1056",
          "K2-129",
          "KIC 5095269",
          "Kepler-1474",
          "Kepler-1604",
          "Kepler-186",
          "K2-167",
          "Kepler-834",
          "Kepler-338",
          "Kepler-724",
          "WASP-22",
          "HAT-P-1",
          "K2-22",
          "Kepler-1112",
          "HD 113337",
          "Kepler-324",
          "MOA-2009-BLG-387L",
          "Wolf 1061",
          "Kepler-1866",
          "CoRoT-28",
          "HD 85512",
          "Kepler-1284",
          "Ross 508",
          "TOI-122",
          "WASP-23",
          "TOI-4145 A",
          "KMT-2019-BLG-0253L",
          "Kepler-1206",
          "HIP 67851",
          "Gl 49",
          "KMT-2018-BLG-1996L",
          "Kepler-1794",
          "Kepler-438",
          "2MASS J01033563-5515561 A",
          "Kepler-964",
          "mu2 Sco",
          "Kepler-1864",
          "WASP-18",
          "BD+55 362",
          "OGLE-2019-BLG-0304L",
          "Kepler-1715",
          "HD 203030",
          "KOI-7368",
          "HD 133131 A",
          "Kepler-1456",
          "Kepler-672",
          "Kepler-902",
          "HD 205158",
          "CoRoT-27",
          "Kepler-296",
          "HD 20868",
          "Kepler-27",
          "Kepler-910",
          "CoRoT-4",
          "Kepler-1185",
          "Kepler-44",
          "Kepler-1460",
          "Kepler-149",
          "HD 168009",
          "K2-165",
          "K2-397",
          "eps Eri",
          "HD 7199",
          "Kepler-820",
          "Kepler-574",
          "WTS-2",
          "HATS-28",
          "Kepler-1014",
          "OGLE-2019-BLG-0299L",
          "HD 60292",
          "NGC 2682 Sand 364",
          "HD 114729",
          "WASP-181",
          "Kepler-694",
          "Kepler-952",
          "MOA-2020-BLG-135L",
          "HD 28192",
          "Kepler-632",
          "Kepler-1318",
          "HD 29399",
          "K2-265",
          "KMT-2021-BLG-0320L",
          "Kepler-1865",
          "Kepler-1621",
          "Kepler-730",
          "Kepler-849",
          "HD 216770",
          "Kepler-1239",
          "Kepler-361",
          "HD 177565",
          "Kepler-1082",
          "Kepler-1472",
          "Kepler-774",
          "KMT-2020-BLG-0414L",
          "WASP-44",
          "HD 12661",
          "HD 151450",
          "HATS-23",
          "Kepler-1380",
          "HD 98649",
          "OGLE-2016-BLG-1195L",
          "HD 96127",
          "Kepler-1984",
          "Kepler-257",
          "Kepler-166",
          "HD 114783",
          "HD 149806",
          "Qatar-2",
          "HD 180314",
          "Kepler-326",
          "Kepler-1125",
          "Kepler-403",
          "HD 180617",
          "TOI-905",
          "HD 1690",
          "EPIC 228836835",
          "KMT-2018-BLG-1292L",
          "Kepler-1689",
          "Kepler-357",
          "Kepler-1990",
          "Kepler-479",
          "Kepler-638",
          "Kepler-1172",
          "Kepler-276",
          "Kepler-944",
          "Kepler-631",
          "Kepler-1511",
          "Kepler-495",
          "K2-118",
          "Kepler-1150",
          "Kepler-1059",
          "WASP-140",
          "Kepler-7",
          "HD 142245",
          "Kepler-56",
          "Kepler-1894",
          "Kepler-223",
          "HIP 65 A",
          "Kepler-1357",
          "HD 153557",
          "K2-391",
          "Kepler-241",
          "Kepler-1032",
          "Kepler-9",
          "Kepler-1672",
          "K2-27",
          "Kepler-1793",
          "Kepler-828",
          "OGLE-2016-BLG-1190L",
          "TOI-1288",
          "Kepler-767",
          "GJ 3942",
          "Kepler-1849",
          "Kepler-1861",
          "HD 73526",
          "Kepler-125",
          "HD 2039",
          "K2-251",
          "HD 222582",
          "HD 69830",
          "Kepler-29",
          "HATS-50",
          "MOA-2008-BLG-379L",
          "WASP-144",
          "Kepler-1443",
          "Kepler-1124",
          "Kepler-646",
          "Kepler-1890",
          "WASP-11",
          "Kepler-856",
          "XO-3",
          "Kepler-1302",
          "Kepler-336",
          "Kepler-1508",
          "Kepler-1907",
          "HD 47366",
          "Kepler-528",
          "Kepler-725",
          "HIP 34222",
          "Kepler-793",
          "Kepler-395",
          "WASP-75",
          "HD 285507",
          "Kepler-444",
          "Kepler-84",
          "TOI-2184",
          "WASP-176",
          "Kepler-135",
          "Kepler-1876",
          "Kepler-85",
          "HD 102843",
          "Kepler-1320",
          "HATS-9",
          "Kepler-1119",
          "HD 133131 B",
          "K2-374",
          "K2-339",
          "WASP-36",
          "GJ 740",
          "Kepler-1066",
          "BD-00 4475",
          "HD 105779",
          "K2-12",
          "K2-170",
          "Kepler-1181",
          "Kepler-1279",
          "Kepler-1356",
          "Kepler-1815",
          "K2-30",
          "Kepler-575",
          "Kepler-1053",
          "K2-229",
          "Kepler-1776",
          "TOI-3688 A",
          "HD 62364",
          "HATS-8",
          "HD 113538",
          "WASP-101",
          "Kepler-177",
          "Kepler-1414",
          "Kepler-1853",
          "Kepler-1906",
          "Kepler-251",
          "HATS-75",
          "Kepler-354",
          "WASP-99",
          "OGLE-2017-BLG-0482L",
          "MXB 1658-298",
          "WASP-47",
          "WASP-129",
          "WASP-160 B",
          "OGLE-2017-BLG-0173L",
          "Kepler-1567",
          "HD 40956",
          "Kepler-1991",
          "Kepler-584",
          "Kepler-1341",
          "HD 213519"
         ],
         "name": "hostname",
         "type": "pie",
         "values": [
          8,
          7,
          6,
          6,
          6,
          6,
          6,
          6,
          6,
          6
         ],
         "visible": true
        },
        {
         "labels": [
          "G",
          "A",
          "B",
          "F",
          "K",
          "M",
          "Undefined"
         ],
         "name": "generalized_spectype",
         "type": "pie",
         "values": [
          693,
          21,
          11,
          244,
          548,
          407,
          3546
         ],
         "visible": false
        },
        {
         "labels": [
          "Orbital Brightness Modulation",
          "Astrometry",
          "Radial Velocity",
          "Imaging",
          "Microlensing",
          "Transit",
          "Eclipse Timing Variations",
          "Pulsation Timing Variations",
          "Disk Kinematics",
          "Pulsar Timing",
          "Transit Timing Variations"
         ],
         "name": "discoverymethod",
         "type": "pie",
         "values": [
          4092,
          1048,
          200,
          67,
          25,
          17,
          9,
          7,
          2,
          2
         ],
         "visible": false
        }
       ],
       "layout": {
        "autosize": true,
        "height": 500,
        "template": {
         "data": {
          "bar": [
           {
            "error_x": {
             "color": "#2a3f5f"
            },
            "error_y": {
             "color": "#2a3f5f"
            },
            "marker": {
             "line": {
              "color": "#E5ECF6",
              "width": 0.5
             },
             "pattern": {
              "fillmode": "overlay",
              "size": 10,
              "solidity": 0.2
             }
            },
            "type": "bar"
           }
          ],
          "barpolar": [
           {
            "marker": {
             "line": {
              "color": "#E5ECF6",
              "width": 0.5
             },
             "pattern": {
              "fillmode": "overlay",
              "size": 10,
              "solidity": 0.2
             }
            },
            "type": "barpolar"
           }
          ],
          "carpet": [
           {
            "aaxis": {
             "endlinecolor": "#2a3f5f",
             "gridcolor": "white",
             "linecolor": "white",
             "minorgridcolor": "white",
             "startlinecolor": "#2a3f5f"
            },
            "baxis": {
             "endlinecolor": "#2a3f5f",
             "gridcolor": "white",
             "linecolor": "white",
             "minorgridcolor": "white",
             "startlinecolor": "#2a3f5f"
            },
            "type": "carpet"
           }
          ],
          "choropleth": [
           {
            "colorbar": {
             "outlinewidth": 0,
             "ticks": ""
            },
            "type": "choropleth"
           }
          ],
          "contour": [
           {
            "colorbar": {
             "outlinewidth": 0,
             "ticks": ""
            },
            "colorscale": [
             [
              0,
              "#0d0887"
             ],
             [
              0.1111111111111111,
              "#46039f"
             ],
             [
              0.2222222222222222,
              "#7201a8"
             ],
             [
              0.3333333333333333,
              "#9c179e"
             ],
             [
              0.4444444444444444,
              "#bd3786"
             ],
             [
              0.5555555555555556,
              "#d8576b"
             ],
             [
              0.6666666666666666,
              "#ed7953"
             ],
             [
              0.7777777777777778,
              "#fb9f3a"
             ],
             [
              0.8888888888888888,
              "#fdca26"
             ],
             [
              1,
              "#f0f921"
             ]
            ],
            "type": "contour"
           }
          ],
          "contourcarpet": [
           {
            "colorbar": {
             "outlinewidth": 0,
             "ticks": ""
            },
            "type": "contourcarpet"
           }
          ],
          "heatmap": [
           {
            "colorbar": {
             "outlinewidth": 0,
             "ticks": ""
            },
            "colorscale": [
             [
              0,
              "#0d0887"
             ],
             [
              0.1111111111111111,
              "#46039f"
             ],
             [
              0.2222222222222222,
              "#7201a8"
             ],
             [
              0.3333333333333333,
              "#9c179e"
             ],
             [
              0.4444444444444444,
              "#bd3786"
             ],
             [
              0.5555555555555556,
              "#d8576b"
             ],
             [
              0.6666666666666666,
              "#ed7953"
             ],
             [
              0.7777777777777778,
              "#fb9f3a"
             ],
             [
              0.8888888888888888,
              "#fdca26"
             ],
             [
              1,
              "#f0f921"
             ]
            ],
            "type": "heatmap"
           }
          ],
          "heatmapgl": [
           {
            "colorbar": {
             "outlinewidth": 0,
             "ticks": ""
            },
            "colorscale": [
             [
              0,
              "#0d0887"
             ],
             [
              0.1111111111111111,
              "#46039f"
             ],
             [
              0.2222222222222222,
              "#7201a8"
             ],
             [
              0.3333333333333333,
              "#9c179e"
             ],
             [
              0.4444444444444444,
              "#bd3786"
             ],
             [
              0.5555555555555556,
              "#d8576b"
             ],
             [
              0.6666666666666666,
              "#ed7953"
             ],
             [
              0.7777777777777778,
              "#fb9f3a"
             ],
             [
              0.8888888888888888,
              "#fdca26"
             ],
             [
              1,
              "#f0f921"
             ]
            ],
            "type": "heatmapgl"
           }
          ],
          "histogram": [
           {
            "marker": {
             "pattern": {
              "fillmode": "overlay",
              "size": 10,
              "solidity": 0.2
             }
            },
            "type": "histogram"
           }
          ],
          "histogram2d": [
           {
            "colorbar": {
             "outlinewidth": 0,
             "ticks": ""
            },
            "colorscale": [
             [
              0,
              "#0d0887"
             ],
             [
              0.1111111111111111,
              "#46039f"
             ],
             [
              0.2222222222222222,
              "#7201a8"
             ],
             [
              0.3333333333333333,
              "#9c179e"
             ],
             [
              0.4444444444444444,
              "#bd3786"
             ],
             [
              0.5555555555555556,
              "#d8576b"
             ],
             [
              0.6666666666666666,
              "#ed7953"
             ],
             [
              0.7777777777777778,
              "#fb9f3a"
             ],
             [
              0.8888888888888888,
              "#fdca26"
             ],
             [
              1,
              "#f0f921"
             ]
            ],
            "type": "histogram2d"
           }
          ],
          "histogram2dcontour": [
           {
            "colorbar": {
             "outlinewidth": 0,
             "ticks": ""
            },
            "colorscale": [
             [
              0,
              "#0d0887"
             ],
             [
              0.1111111111111111,
              "#46039f"
             ],
             [
              0.2222222222222222,
              "#7201a8"
             ],
             [
              0.3333333333333333,
              "#9c179e"
             ],
             [
              0.4444444444444444,
              "#bd3786"
             ],
             [
              0.5555555555555556,
              "#d8576b"
             ],
             [
              0.6666666666666666,
              "#ed7953"
             ],
             [
              0.7777777777777778,
              "#fb9f3a"
             ],
             [
              0.8888888888888888,
              "#fdca26"
             ],
             [
              1,
              "#f0f921"
             ]
            ],
            "type": "histogram2dcontour"
           }
          ],
          "mesh3d": [
           {
            "colorbar": {
             "outlinewidth": 0,
             "ticks": ""
            },
            "type": "mesh3d"
           }
          ],
          "parcoords": [
           {
            "line": {
             "colorbar": {
              "outlinewidth": 0,
              "ticks": ""
             }
            },
            "type": "parcoords"
           }
          ],
          "pie": [
           {
            "automargin": true,
            "type": "pie"
           }
          ],
          "scatter": [
           {
            "fillpattern": {
             "fillmode": "overlay",
             "size": 10,
             "solidity": 0.2
            },
            "type": "scatter"
           }
          ],
          "scatter3d": [
           {
            "line": {
             "colorbar": {
              "outlinewidth": 0,
              "ticks": ""
             }
            },
            "marker": {
             "colorbar": {
              "outlinewidth": 0,
              "ticks": ""
             }
            },
            "type": "scatter3d"
           }
          ],
          "scattercarpet": [
           {
            "marker": {
             "colorbar": {
              "outlinewidth": 0,
              "ticks": ""
             }
            },
            "type": "scattercarpet"
           }
          ],
          "scattergeo": [
           {
            "marker": {
             "colorbar": {
              "outlinewidth": 0,
              "ticks": ""
             }
            },
            "type": "scattergeo"
           }
          ],
          "scattergl": [
           {
            "marker": {
             "colorbar": {
              "outlinewidth": 0,
              "ticks": ""
             }
            },
            "type": "scattergl"
           }
          ],
          "scattermapbox": [
           {
            "marker": {
             "colorbar": {
              "outlinewidth": 0,
              "ticks": ""
             }
            },
            "type": "scattermapbox"
           }
          ],
          "scatterpolar": [
           {
            "marker": {
             "colorbar": {
              "outlinewidth": 0,
              "ticks": ""
             }
            },
            "type": "scatterpolar"
           }
          ],
          "scatterpolargl": [
           {
            "marker": {
             "colorbar": {
              "outlinewidth": 0,
              "ticks": ""
             }
            },
            "type": "scatterpolargl"
           }
          ],
          "scatterternary": [
           {
            "marker": {
             "colorbar": {
              "outlinewidth": 0,
              "ticks": ""
             }
            },
            "type": "scatterternary"
           }
          ],
          "surface": [
           {
            "colorbar": {
             "outlinewidth": 0,
             "ticks": ""
            },
            "colorscale": [
             [
              0,
              "#0d0887"
             ],
             [
              0.1111111111111111,
              "#46039f"
             ],
             [
              0.2222222222222222,
              "#7201a8"
             ],
             [
              0.3333333333333333,
              "#9c179e"
             ],
             [
              0.4444444444444444,
              "#bd3786"
             ],
             [
              0.5555555555555556,
              "#d8576b"
             ],
             [
              0.6666666666666666,
              "#ed7953"
             ],
             [
              0.7777777777777778,
              "#fb9f3a"
             ],
             [
              0.8888888888888888,
              "#fdca26"
             ],
             [
              1,
              "#f0f921"
             ]
            ],
            "type": "surface"
           }
          ],
          "table": [
           {
            "cells": {
             "fill": {
              "color": "#EBF0F8"
             },
             "line": {
              "color": "white"
             }
            },
            "header": {
             "fill": {
              "color": "#C8D4E3"
             },
             "line": {
              "color": "white"
             }
            },
            "type": "table"
           }
          ]
         },
         "layout": {
          "annotationdefaults": {
           "arrowcolor": "#2a3f5f",
           "arrowhead": 0,
           "arrowwidth": 1
          },
          "autotypenumbers": "strict",
          "coloraxis": {
           "colorbar": {
            "outlinewidth": 0,
            "ticks": ""
           }
          },
          "colorscale": {
           "diverging": [
            [
             0,
             "#8e0152"
            ],
            [
             0.1,
             "#c51b7d"
            ],
            [
             0.2,
             "#de77ae"
            ],
            [
             0.3,
             "#f1b6da"
            ],
            [
             0.4,
             "#fde0ef"
            ],
            [
             0.5,
             "#f7f7f7"
            ],
            [
             0.6,
             "#e6f5d0"
            ],
            [
             0.7,
             "#b8e186"
            ],
            [
             0.8,
             "#7fbc41"
            ],
            [
             0.9,
             "#4d9221"
            ],
            [
             1,
             "#276419"
            ]
           ],
           "sequential": [
            [
             0,
             "#0d0887"
            ],
            [
             0.1111111111111111,
             "#46039f"
            ],
            [
             0.2222222222222222,
             "#7201a8"
            ],
            [
             0.3333333333333333,
             "#9c179e"
            ],
            [
             0.4444444444444444,
             "#bd3786"
            ],
            [
             0.5555555555555556,
             "#d8576b"
            ],
            [
             0.6666666666666666,
             "#ed7953"
            ],
            [
             0.7777777777777778,
             "#fb9f3a"
            ],
            [
             0.8888888888888888,
             "#fdca26"
            ],
            [
             1,
             "#f0f921"
            ]
           ],
           "sequentialminus": [
            [
             0,
             "#0d0887"
            ],
            [
             0.1111111111111111,
             "#46039f"
            ],
            [
             0.2222222222222222,
             "#7201a8"
            ],
            [
             0.3333333333333333,
             "#9c179e"
            ],
            [
             0.4444444444444444,
             "#bd3786"
            ],
            [
             0.5555555555555556,
             "#d8576b"
            ],
            [
             0.6666666666666666,
             "#ed7953"
            ],
            [
             0.7777777777777778,
             "#fb9f3a"
            ],
            [
             0.8888888888888888,
             "#fdca26"
            ],
            [
             1,
             "#f0f921"
            ]
           ]
          },
          "colorway": [
           "#636efa",
           "#EF553B",
           "#00cc96",
           "#ab63fa",
           "#FFA15A",
           "#19d3f3",
           "#FF6692",
           "#B6E880",
           "#FF97FF",
           "#FECB52"
          ],
          "font": {
           "color": "#2a3f5f"
          },
          "geo": {
           "bgcolor": "white",
           "lakecolor": "white",
           "landcolor": "#E5ECF6",
           "showlakes": true,
           "showland": true,
           "subunitcolor": "white"
          },
          "hoverlabel": {
           "align": "left"
          },
          "hovermode": "closest",
          "mapbox": {
           "style": "light"
          },
          "paper_bgcolor": "white",
          "plot_bgcolor": "#E5ECF6",
          "polar": {
           "angularaxis": {
            "gridcolor": "white",
            "linecolor": "white",
            "ticks": ""
           },
           "bgcolor": "#E5ECF6",
           "radialaxis": {
            "gridcolor": "white",
            "linecolor": "white",
            "ticks": ""
           }
          },
          "scene": {
           "xaxis": {
            "backgroundcolor": "#E5ECF6",
            "gridcolor": "white",
            "gridwidth": 2,
            "linecolor": "white",
            "showbackground": true,
            "ticks": "",
            "zerolinecolor": "white"
           },
           "yaxis": {
            "backgroundcolor": "#E5ECF6",
            "gridcolor": "white",
            "gridwidth": 2,
            "linecolor": "white",
            "showbackground": true,
            "ticks": "",
            "zerolinecolor": "white"
           },
           "zaxis": {
            "backgroundcolor": "#E5ECF6",
            "gridcolor": "white",
            "gridwidth": 2,
            "linecolor": "white",
            "showbackground": true,
            "ticks": "",
            "zerolinecolor": "white"
           }
          },
          "shapedefaults": {
           "line": {
            "color": "#2a3f5f"
           }
          },
          "ternary": {
           "aaxis": {
            "gridcolor": "white",
            "linecolor": "white",
            "ticks": ""
           },
           "baxis": {
            "gridcolor": "white",
            "linecolor": "white",
            "ticks": ""
           },
           "bgcolor": "#E5ECF6",
           "caxis": {
            "gridcolor": "white",
            "linecolor": "white",
            "ticks": ""
           }
          },
          "title": {
           "x": 0.05
          },
          "xaxis": {
           "automargin": true,
           "gridcolor": "white",
           "linecolor": "white",
           "ticks": "",
           "title": {
            "standoff": 15
           },
           "zerolinecolor": "white",
           "zerolinewidth": 2
          },
          "yaxis": {
           "automargin": true,
           "gridcolor": "white",
           "linecolor": "white",
           "ticks": "",
           "title": {
            "standoff": 15
           },
           "zerolinecolor": "white",
           "zerolinewidth": 2
          }
         }
        },
        "title": {
         "text": "Exoplanet Categorical Variable Observation",
         "x": 0.5,
         "y": 0.95
        },
        "updatemenus": [
         {
          "buttons": [
           {
            "args": [
             {
              "title": "hostname",
              "visible": [
               true,
               false,
               false
              ]
             }
            ],
            "label": "hostname",
            "method": "update"
           },
           {
            "args": [
             {
              "title": "generalized_spectype",
              "visible": [
               false,
               true,
               false
              ]
             }
            ],
            "label": "generalized_spectype",
            "method": "update"
           },
           {
            "args": [
             {
              "title": "discoverymethod",
              "visible": [
               false,
               false,
               true
              ]
             }
            ],
            "label": "discoverymethod",
            "method": "update"
           }
          ],
          "direction": "down",
          "showactive": true,
          "x": -0.1,
          "xanchor": "left",
          "y": 1.3,
          "yanchor": "top"
         }
        ],
        "width": 800
       }
      }
     },
     "metadata": {},
     "output_type": "display_data"
    }
   ],
   "source": [
    "def exploratory_pie_chart(col_list):\n",
    "      pie_fig = go.Figure()\n",
    "      button_list = []\n",
    "      for ind, column in enumerate(col_list):\n",
    "            find_unique_cols = exo[column].nunique()\n",
    "            labels = list(set(exo[column].tolist()))\n",
    "            if find_unique_cols > 10:\n",
    "                  findtop10 = exo.groupby([column]).size().to_frame()\n",
    "                  findtop10 = findtop10.reset_index()\n",
    "                  findtop10.columns = [column, \"count\"]\n",
    "                  findtop10 = findtop10.sort_values(by=[\"count\"], ascending=False)\n",
    "                  top10list = findtop10[column].iloc[0:10].tolist()\n",
    "                  values = [len(exo[exo[column] == item]) for item in top10list]\n",
    "                  \n",
    "            else:\n",
    "                  values = [len(exo[exo[column] == item]) for item in labels]\n",
    "\n",
    "            pie_fig.add_trace(go.Pie(labels=labels, values=values, name=column, visible=True if ind == 0 else False))\n",
    "\n",
    "            col_count = [False] * len(col_list)\n",
    "            modified_list = []\n",
    "            for ind_count, col_name in enumerate(col_count):\n",
    "                  modified_list.append(True if ind_count == ind else False)\n",
    "            button = dict(label=column, args=[{\"visible\":modified_list, \"title\":column}], method=\"update\")\n",
    "            button_list.append(button)\n",
    "\n",
    "      pie_fig.update_layout(\n",
    "            updatemenus=[dict(buttons=list(button_list),\n",
    "                      direction=\"down\",\n",
    "                      showactive=True,\n",
    "                      x=-0.1,\n",
    "                      xanchor=\"left\",\n",
    "                      y=1.3,\n",
    "                      yanchor=\"top\"),\n",
    "                ],\n",
    "                title=go.layout.Title(text=\"Exoplanet Categorical Variable Observation\",\n",
    "                                            x=0.5,\n",
    "                                            y=0.95),\n",
    "                                            width=800,\n",
    "                                            height=500,\n",
    "                                            autosize=True\n",
    "                )\n",
    "                                         \n",
    "      pie_fig.show()\n",
    "\n",
    "exploratory_pie_chart([\"hostname\", \"generalized_spectype\", \"discoverymethod\"])"
   ]
  },
  {
   "cell_type": "markdown",
   "metadata": {},
   "source": [
    "### Exoplanet Classification\n",
    "- Gas Giant: planets the size of Saturn or Jupiter, the largest planet in our solar system, or much, much larger.\n",
    "- Neptunian: similar in size to Neptune or Uranus in our solar system. (Neptune is about four times the size, or radius, of Earth and almost 17 times its mass, or weight.)\n",
    "- Super-Earth: more massive than Earth, but lighter than Neptune.\n",
    "- Terrestrial: Earth sized and smaller, composed of rock, silicate, water or carbon.\n",
    "\n",
    "Source: \n",
    "- https://exoplanets.nasa.gov/what-is-an-exoplanet/planet-types/overview/#:~:text=So%20far%20scientists%20have%20categorized,%2C%20super%2DEarth%20and%20terrestrial.\n",
    "- https://iopscience.iop.org/article/10.3847/1538-4357/aab205#apjaab205s4"
   ]
  },
  {
   "cell_type": "code",
   "execution_count": 88,
   "metadata": {},
   "outputs": [
    {
     "data": {
      "text/html": [
       "<div>\n",
       "<style scoped>\n",
       "    .dataframe tbody tr th:only-of-type {\n",
       "        vertical-align: middle;\n",
       "    }\n",
       "\n",
       "    .dataframe tbody tr th {\n",
       "        vertical-align: top;\n",
       "    }\n",
       "\n",
       "    .dataframe thead th {\n",
       "        text-align: right;\n",
       "    }\n",
       "</style>\n",
       "<table border=\"1\" class=\"dataframe\">\n",
       "  <thead>\n",
       "    <tr style=\"text-align: right;\">\n",
       "      <th></th>\n",
       "      <th>0</th>\n",
       "    </tr>\n",
       "    <tr>\n",
       "      <th>rad_classification</th>\n",
       "      <th></th>\n",
       "    </tr>\n",
       "  </thead>\n",
       "  <tbody>\n",
       "    <tr>\n",
       "      <th>Jovian</th>\n",
       "      <td>1</td>\n",
       "    </tr>\n",
       "    <tr>\n",
       "      <th>Rocky</th>\n",
       "      <td>4</td>\n",
       "    </tr>\n",
       "    <tr>\n",
       "      <th>Sub Jovian</th>\n",
       "      <td>14</td>\n",
       "    </tr>\n",
       "    <tr>\n",
       "      <th>Sub Neptune</th>\n",
       "      <td>27</td>\n",
       "    </tr>\n",
       "    <tr>\n",
       "      <th>Super Earth</th>\n",
       "      <td>21</td>\n",
       "    </tr>\n",
       "    <tr>\n",
       "      <th>Undefined</th>\n",
       "      <td>5403</td>\n",
       "    </tr>\n",
       "  </tbody>\n",
       "</table>\n",
       "</div>"
      ],
      "text/plain": [
       "                       0\n",
       "rad_classification      \n",
       "Jovian                 1\n",
       "Rocky                  4\n",
       "Sub Jovian            14\n",
       "Sub Neptune           27\n",
       "Super Earth           21\n",
       "Undefined           5403"
      ]
     },
     "metadata": {},
     "output_type": "display_data"
    },
    {
     "data": {
      "text/html": [
       "<div>\n",
       "<style scoped>\n",
       "    .dataframe tbody tr th:only-of-type {\n",
       "        vertical-align: middle;\n",
       "    }\n",
       "\n",
       "    .dataframe tbody tr th {\n",
       "        vertical-align: top;\n",
       "    }\n",
       "\n",
       "    .dataframe thead th {\n",
       "        text-align: right;\n",
       "    }\n",
       "</style>\n",
       "<table border=\"1\" class=\"dataframe\">\n",
       "  <thead>\n",
       "    <tr style=\"text-align: right;\">\n",
       "      <th></th>\n",
       "      <th>pl_name</th>\n",
       "      <th>hostname</th>\n",
       "      <th>sy_snum</th>\n",
       "      <th>sy_pnum</th>\n",
       "      <th>discoverymethod</th>\n",
       "      <th>disc_year</th>\n",
       "      <th>disc_facility</th>\n",
       "      <th>pl_controv_flag</th>\n",
       "      <th>pl_orbper</th>\n",
       "      <th>pl_orbsmax</th>\n",
       "      <th>...</th>\n",
       "      <th>rastr</th>\n",
       "      <th>ra</th>\n",
       "      <th>decstr</th>\n",
       "      <th>dec</th>\n",
       "      <th>sy_dist</th>\n",
       "      <th>sy_vmag</th>\n",
       "      <th>sy_kmag</th>\n",
       "      <th>sy_gaiamag</th>\n",
       "      <th>generalized_spectype</th>\n",
       "      <th>rad_classification</th>\n",
       "    </tr>\n",
       "  </thead>\n",
       "  <tbody>\n",
       "    <tr>\n",
       "      <th>0</th>\n",
       "      <td>11 Com b</td>\n",
       "      <td>11 Com</td>\n",
       "      <td>2</td>\n",
       "      <td>1</td>\n",
       "      <td>Radial Velocity</td>\n",
       "      <td>2007</td>\n",
       "      <td>Xinglong Station</td>\n",
       "      <td>0</td>\n",
       "      <td>326.03000</td>\n",
       "      <td>1.290</td>\n",
       "      <td>...</td>\n",
       "      <td>12h20m42.91s</td>\n",
       "      <td>185.178779</td>\n",
       "      <td>+17d47m35.71s</td>\n",
       "      <td>17.793252</td>\n",
       "      <td>93.1846</td>\n",
       "      <td>4.72307</td>\n",
       "      <td>2.282</td>\n",
       "      <td>4.44038</td>\n",
       "      <td>G</td>\n",
       "      <td>Undefined</td>\n",
       "    </tr>\n",
       "    <tr>\n",
       "      <th>1</th>\n",
       "      <td>11 UMi b</td>\n",
       "      <td>11 UMi</td>\n",
       "      <td>1</td>\n",
       "      <td>1</td>\n",
       "      <td>Radial Velocity</td>\n",
       "      <td>2009</td>\n",
       "      <td>Thueringer Landessternwarte Tautenburg</td>\n",
       "      <td>0</td>\n",
       "      <td>516.21997</td>\n",
       "      <td>1.530</td>\n",
       "      <td>...</td>\n",
       "      <td>15h17m05.90s</td>\n",
       "      <td>229.274595</td>\n",
       "      <td>+71d49m26.19s</td>\n",
       "      <td>71.823943</td>\n",
       "      <td>125.3210</td>\n",
       "      <td>5.01300</td>\n",
       "      <td>1.939</td>\n",
       "      <td>4.56216</td>\n",
       "      <td>K</td>\n",
       "      <td>Undefined</td>\n",
       "    </tr>\n",
       "    <tr>\n",
       "      <th>2</th>\n",
       "      <td>14 And b</td>\n",
       "      <td>14 And</td>\n",
       "      <td>1</td>\n",
       "      <td>1</td>\n",
       "      <td>Radial Velocity</td>\n",
       "      <td>2008</td>\n",
       "      <td>Okayama Astrophysical Observatory</td>\n",
       "      <td>0</td>\n",
       "      <td>185.84000</td>\n",
       "      <td>0.830</td>\n",
       "      <td>...</td>\n",
       "      <td>23h31m17.80s</td>\n",
       "      <td>352.824150</td>\n",
       "      <td>+39d14m09.01s</td>\n",
       "      <td>39.235837</td>\n",
       "      <td>75.4392</td>\n",
       "      <td>5.23133</td>\n",
       "      <td>2.331</td>\n",
       "      <td>4.91781</td>\n",
       "      <td>K</td>\n",
       "      <td>Undefined</td>\n",
       "    </tr>\n",
       "    <tr>\n",
       "      <th>3</th>\n",
       "      <td>14 Her b</td>\n",
       "      <td>14 Her</td>\n",
       "      <td>1</td>\n",
       "      <td>2</td>\n",
       "      <td>Radial Velocity</td>\n",
       "      <td>2002</td>\n",
       "      <td>W. M. Keck Observatory</td>\n",
       "      <td>0</td>\n",
       "      <td>1765.03890</td>\n",
       "      <td>2.774</td>\n",
       "      <td>...</td>\n",
       "      <td>16h10m24.50s</td>\n",
       "      <td>242.602101</td>\n",
       "      <td>+43d48m58.90s</td>\n",
       "      <td>43.816362</td>\n",
       "      <td>17.9323</td>\n",
       "      <td>6.61935</td>\n",
       "      <td>4.714</td>\n",
       "      <td>6.38300</td>\n",
       "      <td>K</td>\n",
       "      <td>Undefined</td>\n",
       "    </tr>\n",
       "    <tr>\n",
       "      <th>4</th>\n",
       "      <td>16 Cyg B b</td>\n",
       "      <td>16 Cyg B</td>\n",
       "      <td>3</td>\n",
       "      <td>1</td>\n",
       "      <td>Radial Velocity</td>\n",
       "      <td>1996</td>\n",
       "      <td>Multiple Observatories</td>\n",
       "      <td>0</td>\n",
       "      <td>798.50000</td>\n",
       "      <td>1.660</td>\n",
       "      <td>...</td>\n",
       "      <td>19h41m51.75s</td>\n",
       "      <td>295.465642</td>\n",
       "      <td>+50d31m00.57s</td>\n",
       "      <td>50.516824</td>\n",
       "      <td>21.1397</td>\n",
       "      <td>6.21500</td>\n",
       "      <td>4.651</td>\n",
       "      <td>6.06428</td>\n",
       "      <td>G</td>\n",
       "      <td>Undefined</td>\n",
       "    </tr>\n",
       "  </tbody>\n",
       "</table>\n",
       "<p>5 rows × 38 columns</p>\n",
       "</div>"
      ],
      "text/plain": [
       "      pl_name  hostname  sy_snum  sy_pnum  discoverymethod  disc_year  \\\n",
       "0    11 Com b    11 Com        2        1  Radial Velocity       2007   \n",
       "1    11 UMi b    11 UMi        1        1  Radial Velocity       2009   \n",
       "2    14 And b    14 And        1        1  Radial Velocity       2008   \n",
       "3    14 Her b    14 Her        1        2  Radial Velocity       2002   \n",
       "4  16 Cyg B b  16 Cyg B        3        1  Radial Velocity       1996   \n",
       "\n",
       "                            disc_facility  pl_controv_flag   pl_orbper  \\\n",
       "0                        Xinglong Station                0   326.03000   \n",
       "1  Thueringer Landessternwarte Tautenburg                0   516.21997   \n",
       "2       Okayama Astrophysical Observatory                0   185.84000   \n",
       "3                  W. M. Keck Observatory                0  1765.03890   \n",
       "4                  Multiple Observatories                0   798.50000   \n",
       "\n",
       "   pl_orbsmax  ...         rastr          ra         decstr        dec  \\\n",
       "0       1.290  ...  12h20m42.91s  185.178779  +17d47m35.71s  17.793252   \n",
       "1       1.530  ...  15h17m05.90s  229.274595  +71d49m26.19s  71.823943   \n",
       "2       0.830  ...  23h31m17.80s  352.824150  +39d14m09.01s  39.235837   \n",
       "3       2.774  ...  16h10m24.50s  242.602101  +43d48m58.90s  43.816362   \n",
       "4       1.660  ...  19h41m51.75s  295.465642  +50d31m00.57s  50.516824   \n",
       "\n",
       "    sy_dist  sy_vmag  sy_kmag  sy_gaiamag  generalized_spectype  \\\n",
       "0   93.1846  4.72307    2.282     4.44038                     G   \n",
       "1  125.3210  5.01300    1.939     4.56216                     K   \n",
       "2   75.4392  5.23133    2.331     4.91781                     K   \n",
       "3   17.9323  6.61935    4.714     6.38300                     K   \n",
       "4   21.1397  6.21500    4.651     6.06428                     G   \n",
       "\n",
       "   rad_classification  \n",
       "0           Undefined  \n",
       "1           Undefined  \n",
       "2           Undefined  \n",
       "3           Undefined  \n",
       "4           Undefined  \n",
       "\n",
       "[5 rows x 38 columns]"
      ]
     },
     "execution_count": 88,
     "metadata": {},
     "output_type": "execute_result"
    }
   ],
   "source": [
    "all_list = {\"rocky\" : np.arange(0.5, 1.0, step=0.1),\n",
    "            \"super_earth\" : np.arange(1.0, 1.75, step=0.1),\n",
    "            \"sub_neptune\" : np.arange(1.75, 3.5, step=0.1),\n",
    "            \"sub_jovian\" : np.arange(3.5, 6.0, step=0.1),\n",
    "            \"jovians\" : np.arange(6.0, 14.3, step=0.1)}\n",
    "\n",
    "def classify_on_rad(val):\n",
    "    if val in all_list[\"rocky\"]:\n",
    "        return \"Rocky\"\n",
    "    elif val in all_list[\"super_earth\"]:\n",
    "        return \"Super Earth\"\n",
    "    elif val in all_list[\"sub_neptune\"]:\n",
    "        return \"Sub Neptune\"\n",
    "    elif val in all_list[\"sub_jovian\"]:\n",
    "        return \"Sub Jovian\"\n",
    "    elif val in all_list[\"jovians\"]:\n",
    "        return \"Jovian\"\n",
    "    else:\n",
    "        return \"Undefined\"\n",
    "\n",
    "exo[\"rad_classification\"] = exo[\"pl_rade\"].apply(lambda row: classify_on_rad(row))\n",
    "display(exo.groupby([\"rad_classification\"]).size().to_frame())\n",
    "exo.head()"
   ]
  },
  {
   "cell_type": "code",
   "execution_count": 89,
   "metadata": {},
   "outputs": [
    {
     "data": {
      "text/html": [
       "<div>\n",
       "<style scoped>\n",
       "    .dataframe tbody tr th:only-of-type {\n",
       "        vertical-align: middle;\n",
       "    }\n",
       "\n",
       "    .dataframe tbody tr th {\n",
       "        vertical-align: top;\n",
       "    }\n",
       "\n",
       "    .dataframe thead th {\n",
       "        text-align: right;\n",
       "    }\n",
       "</style>\n",
       "<table border=\"1\" class=\"dataframe\">\n",
       "  <thead>\n",
       "    <tr style=\"text-align: right;\">\n",
       "      <th></th>\n",
       "      <th>0</th>\n",
       "    </tr>\n",
       "    <tr>\n",
       "      <th>koi_classification</th>\n",
       "      <th></th>\n",
       "    </tr>\n",
       "  </thead>\n",
       "  <tbody>\n",
       "    <tr>\n",
       "      <th>Exoplanet</th>\n",
       "      <td>2725</td>\n",
       "    </tr>\n",
       "    <tr>\n",
       "      <th>KOI</th>\n",
       "      <td>2745</td>\n",
       "    </tr>\n",
       "  </tbody>\n",
       "</table>\n",
       "</div>"
      ],
      "text/plain": [
       "                       0\n",
       "koi_classification      \n",
       "Exoplanet           2725\n",
       "KOI                 2745"
      ]
     },
     "metadata": {},
     "output_type": "display_data"
    },
    {
     "data": {
      "text/html": [
       "<div>\n",
       "<style scoped>\n",
       "    .dataframe tbody tr th:only-of-type {\n",
       "        vertical-align: middle;\n",
       "    }\n",
       "\n",
       "    .dataframe tbody tr th {\n",
       "        vertical-align: top;\n",
       "    }\n",
       "\n",
       "    .dataframe thead th {\n",
       "        text-align: right;\n",
       "    }\n",
       "</style>\n",
       "<table border=\"1\" class=\"dataframe\">\n",
       "  <thead>\n",
       "    <tr style=\"text-align: right;\">\n",
       "      <th></th>\n",
       "      <th>pl_name</th>\n",
       "      <th>hostname</th>\n",
       "      <th>sy_snum</th>\n",
       "      <th>sy_pnum</th>\n",
       "      <th>discoverymethod</th>\n",
       "      <th>disc_year</th>\n",
       "      <th>disc_facility</th>\n",
       "      <th>pl_controv_flag</th>\n",
       "      <th>pl_orbper</th>\n",
       "      <th>pl_orbsmax</th>\n",
       "      <th>...</th>\n",
       "      <th>ra</th>\n",
       "      <th>decstr</th>\n",
       "      <th>dec</th>\n",
       "      <th>sy_dist</th>\n",
       "      <th>sy_vmag</th>\n",
       "      <th>sy_kmag</th>\n",
       "      <th>sy_gaiamag</th>\n",
       "      <th>generalized_spectype</th>\n",
       "      <th>rad_classification</th>\n",
       "      <th>koi_classification</th>\n",
       "    </tr>\n",
       "  </thead>\n",
       "  <tbody>\n",
       "    <tr>\n",
       "      <th>0</th>\n",
       "      <td>11 Com b</td>\n",
       "      <td>11 Com</td>\n",
       "      <td>2</td>\n",
       "      <td>1</td>\n",
       "      <td>Radial Velocity</td>\n",
       "      <td>2007</td>\n",
       "      <td>Xinglong Station</td>\n",
       "      <td>0</td>\n",
       "      <td>326.03000</td>\n",
       "      <td>1.290</td>\n",
       "      <td>...</td>\n",
       "      <td>185.178779</td>\n",
       "      <td>+17d47m35.71s</td>\n",
       "      <td>17.793252</td>\n",
       "      <td>93.1846</td>\n",
       "      <td>4.72307</td>\n",
       "      <td>2.282</td>\n",
       "      <td>4.44038</td>\n",
       "      <td>G</td>\n",
       "      <td>Undefined</td>\n",
       "      <td>Exoplanet</td>\n",
       "    </tr>\n",
       "    <tr>\n",
       "      <th>1</th>\n",
       "      <td>11 UMi b</td>\n",
       "      <td>11 UMi</td>\n",
       "      <td>1</td>\n",
       "      <td>1</td>\n",
       "      <td>Radial Velocity</td>\n",
       "      <td>2009</td>\n",
       "      <td>Thueringer Landessternwarte Tautenburg</td>\n",
       "      <td>0</td>\n",
       "      <td>516.21997</td>\n",
       "      <td>1.530</td>\n",
       "      <td>...</td>\n",
       "      <td>229.274595</td>\n",
       "      <td>+71d49m26.19s</td>\n",
       "      <td>71.823943</td>\n",
       "      <td>125.3210</td>\n",
       "      <td>5.01300</td>\n",
       "      <td>1.939</td>\n",
       "      <td>4.56216</td>\n",
       "      <td>K</td>\n",
       "      <td>Undefined</td>\n",
       "      <td>Exoplanet</td>\n",
       "    </tr>\n",
       "    <tr>\n",
       "      <th>2</th>\n",
       "      <td>14 And b</td>\n",
       "      <td>14 And</td>\n",
       "      <td>1</td>\n",
       "      <td>1</td>\n",
       "      <td>Radial Velocity</td>\n",
       "      <td>2008</td>\n",
       "      <td>Okayama Astrophysical Observatory</td>\n",
       "      <td>0</td>\n",
       "      <td>185.84000</td>\n",
       "      <td>0.830</td>\n",
       "      <td>...</td>\n",
       "      <td>352.824150</td>\n",
       "      <td>+39d14m09.01s</td>\n",
       "      <td>39.235837</td>\n",
       "      <td>75.4392</td>\n",
       "      <td>5.23133</td>\n",
       "      <td>2.331</td>\n",
       "      <td>4.91781</td>\n",
       "      <td>K</td>\n",
       "      <td>Undefined</td>\n",
       "      <td>Exoplanet</td>\n",
       "    </tr>\n",
       "    <tr>\n",
       "      <th>3</th>\n",
       "      <td>14 Her b</td>\n",
       "      <td>14 Her</td>\n",
       "      <td>1</td>\n",
       "      <td>2</td>\n",
       "      <td>Radial Velocity</td>\n",
       "      <td>2002</td>\n",
       "      <td>W. M. Keck Observatory</td>\n",
       "      <td>0</td>\n",
       "      <td>1765.03890</td>\n",
       "      <td>2.774</td>\n",
       "      <td>...</td>\n",
       "      <td>242.602101</td>\n",
       "      <td>+43d48m58.90s</td>\n",
       "      <td>43.816362</td>\n",
       "      <td>17.9323</td>\n",
       "      <td>6.61935</td>\n",
       "      <td>4.714</td>\n",
       "      <td>6.38300</td>\n",
       "      <td>K</td>\n",
       "      <td>Undefined</td>\n",
       "      <td>Exoplanet</td>\n",
       "    </tr>\n",
       "    <tr>\n",
       "      <th>4</th>\n",
       "      <td>16 Cyg B b</td>\n",
       "      <td>16 Cyg B</td>\n",
       "      <td>3</td>\n",
       "      <td>1</td>\n",
       "      <td>Radial Velocity</td>\n",
       "      <td>1996</td>\n",
       "      <td>Multiple Observatories</td>\n",
       "      <td>0</td>\n",
       "      <td>798.50000</td>\n",
       "      <td>1.660</td>\n",
       "      <td>...</td>\n",
       "      <td>295.465642</td>\n",
       "      <td>+50d31m00.57s</td>\n",
       "      <td>50.516824</td>\n",
       "      <td>21.1397</td>\n",
       "      <td>6.21500</td>\n",
       "      <td>4.651</td>\n",
       "      <td>6.06428</td>\n",
       "      <td>G</td>\n",
       "      <td>Undefined</td>\n",
       "      <td>Exoplanet</td>\n",
       "    </tr>\n",
       "  </tbody>\n",
       "</table>\n",
       "<p>5 rows × 39 columns</p>\n",
       "</div>"
      ],
      "text/plain": [
       "      pl_name  hostname  sy_snum  sy_pnum  discoverymethod  disc_year  \\\n",
       "0    11 Com b    11 Com        2        1  Radial Velocity       2007   \n",
       "1    11 UMi b    11 UMi        1        1  Radial Velocity       2009   \n",
       "2    14 And b    14 And        1        1  Radial Velocity       2008   \n",
       "3    14 Her b    14 Her        1        2  Radial Velocity       2002   \n",
       "4  16 Cyg B b  16 Cyg B        3        1  Radial Velocity       1996   \n",
       "\n",
       "                            disc_facility  pl_controv_flag   pl_orbper  \\\n",
       "0                        Xinglong Station                0   326.03000   \n",
       "1  Thueringer Landessternwarte Tautenburg                0   516.21997   \n",
       "2       Okayama Astrophysical Observatory                0   185.84000   \n",
       "3                  W. M. Keck Observatory                0  1765.03890   \n",
       "4                  Multiple Observatories                0   798.50000   \n",
       "\n",
       "   pl_orbsmax  ...          ra         decstr        dec   sy_dist  sy_vmag  \\\n",
       "0       1.290  ...  185.178779  +17d47m35.71s  17.793252   93.1846  4.72307   \n",
       "1       1.530  ...  229.274595  +71d49m26.19s  71.823943  125.3210  5.01300   \n",
       "2       0.830  ...  352.824150  +39d14m09.01s  39.235837   75.4392  5.23133   \n",
       "3       2.774  ...  242.602101  +43d48m58.90s  43.816362   17.9323  6.61935   \n",
       "4       1.660  ...  295.465642  +50d31m00.57s  50.516824   21.1397  6.21500   \n",
       "\n",
       "   sy_kmag  sy_gaiamag  generalized_spectype  rad_classification  \\\n",
       "0    2.282     4.44038                     G           Undefined   \n",
       "1    1.939     4.56216                     K           Undefined   \n",
       "2    2.331     4.91781                     K           Undefined   \n",
       "3    4.714     6.38300                     K           Undefined   \n",
       "4    4.651     6.06428                     G           Undefined   \n",
       "\n",
       "   koi_classification  \n",
       "0           Exoplanet  \n",
       "1           Exoplanet  \n",
       "2           Exoplanet  \n",
       "3           Exoplanet  \n",
       "4           Exoplanet  \n",
       "\n",
       "[5 rows x 39 columns]"
      ]
     },
     "execution_count": 89,
     "metadata": {},
     "output_type": "execute_result"
    }
   ],
   "source": [
    "apply_koi = lambda row: \"KOI\" if \"Kepler\" in row[\"hostname\"] else \"Exoplanet\"\n",
    "exo[\"koi_classification\"] = exo.apply(apply_koi, axis=1)\n",
    "exo = exo.replace(np.nan, 0)\n",
    "display(exo.groupby([\"koi_classification\"]).size().to_frame())\n",
    "exo.head()"
   ]
  },
  {
   "cell_type": "code",
   "execution_count": 90,
   "metadata": {},
   "outputs": [
    {
     "data": {
      "application/vnd.plotly.v1+json": {
       "config": {
        "plotlyServerURL": "https://plot.ly"
       },
       "data": [
        {
         "labels": [
          "Exoplanet",
          "KOI"
         ],
         "name": "KOI",
         "type": "pie",
         "values": [
          2745,
          2725
         ],
         "visible": true
        },
        {
         "labels": [
          "Undefined",
          "Sub Jovian",
          "Super Earth",
          "Sub Neptune",
          "Rocky",
          "Jovian"
         ],
         "name": "Mass",
         "type": "pie",
         "values": [
          5403,
          27,
          21,
          14,
          4,
          1
         ],
         "visible": false
        }
       ],
       "layout": {
        "autosize": false,
        "height": 500,
        "template": {
         "data": {
          "bar": [
           {
            "error_x": {
             "color": "#2a3f5f"
            },
            "error_y": {
             "color": "#2a3f5f"
            },
            "marker": {
             "line": {
              "color": "#E5ECF6",
              "width": 0.5
             },
             "pattern": {
              "fillmode": "overlay",
              "size": 10,
              "solidity": 0.2
             }
            },
            "type": "bar"
           }
          ],
          "barpolar": [
           {
            "marker": {
             "line": {
              "color": "#E5ECF6",
              "width": 0.5
             },
             "pattern": {
              "fillmode": "overlay",
              "size": 10,
              "solidity": 0.2
             }
            },
            "type": "barpolar"
           }
          ],
          "carpet": [
           {
            "aaxis": {
             "endlinecolor": "#2a3f5f",
             "gridcolor": "white",
             "linecolor": "white",
             "minorgridcolor": "white",
             "startlinecolor": "#2a3f5f"
            },
            "baxis": {
             "endlinecolor": "#2a3f5f",
             "gridcolor": "white",
             "linecolor": "white",
             "minorgridcolor": "white",
             "startlinecolor": "#2a3f5f"
            },
            "type": "carpet"
           }
          ],
          "choropleth": [
           {
            "colorbar": {
             "outlinewidth": 0,
             "ticks": ""
            },
            "type": "choropleth"
           }
          ],
          "contour": [
           {
            "colorbar": {
             "outlinewidth": 0,
             "ticks": ""
            },
            "colorscale": [
             [
              0,
              "#0d0887"
             ],
             [
              0.1111111111111111,
              "#46039f"
             ],
             [
              0.2222222222222222,
              "#7201a8"
             ],
             [
              0.3333333333333333,
              "#9c179e"
             ],
             [
              0.4444444444444444,
              "#bd3786"
             ],
             [
              0.5555555555555556,
              "#d8576b"
             ],
             [
              0.6666666666666666,
              "#ed7953"
             ],
             [
              0.7777777777777778,
              "#fb9f3a"
             ],
             [
              0.8888888888888888,
              "#fdca26"
             ],
             [
              1,
              "#f0f921"
             ]
            ],
            "type": "contour"
           }
          ],
          "contourcarpet": [
           {
            "colorbar": {
             "outlinewidth": 0,
             "ticks": ""
            },
            "type": "contourcarpet"
           }
          ],
          "heatmap": [
           {
            "colorbar": {
             "outlinewidth": 0,
             "ticks": ""
            },
            "colorscale": [
             [
              0,
              "#0d0887"
             ],
             [
              0.1111111111111111,
              "#46039f"
             ],
             [
              0.2222222222222222,
              "#7201a8"
             ],
             [
              0.3333333333333333,
              "#9c179e"
             ],
             [
              0.4444444444444444,
              "#bd3786"
             ],
             [
              0.5555555555555556,
              "#d8576b"
             ],
             [
              0.6666666666666666,
              "#ed7953"
             ],
             [
              0.7777777777777778,
              "#fb9f3a"
             ],
             [
              0.8888888888888888,
              "#fdca26"
             ],
             [
              1,
              "#f0f921"
             ]
            ],
            "type": "heatmap"
           }
          ],
          "heatmapgl": [
           {
            "colorbar": {
             "outlinewidth": 0,
             "ticks": ""
            },
            "colorscale": [
             [
              0,
              "#0d0887"
             ],
             [
              0.1111111111111111,
              "#46039f"
             ],
             [
              0.2222222222222222,
              "#7201a8"
             ],
             [
              0.3333333333333333,
              "#9c179e"
             ],
             [
              0.4444444444444444,
              "#bd3786"
             ],
             [
              0.5555555555555556,
              "#d8576b"
             ],
             [
              0.6666666666666666,
              "#ed7953"
             ],
             [
              0.7777777777777778,
              "#fb9f3a"
             ],
             [
              0.8888888888888888,
              "#fdca26"
             ],
             [
              1,
              "#f0f921"
             ]
            ],
            "type": "heatmapgl"
           }
          ],
          "histogram": [
           {
            "marker": {
             "pattern": {
              "fillmode": "overlay",
              "size": 10,
              "solidity": 0.2
             }
            },
            "type": "histogram"
           }
          ],
          "histogram2d": [
           {
            "colorbar": {
             "outlinewidth": 0,
             "ticks": ""
            },
            "colorscale": [
             [
              0,
              "#0d0887"
             ],
             [
              0.1111111111111111,
              "#46039f"
             ],
             [
              0.2222222222222222,
              "#7201a8"
             ],
             [
              0.3333333333333333,
              "#9c179e"
             ],
             [
              0.4444444444444444,
              "#bd3786"
             ],
             [
              0.5555555555555556,
              "#d8576b"
             ],
             [
              0.6666666666666666,
              "#ed7953"
             ],
             [
              0.7777777777777778,
              "#fb9f3a"
             ],
             [
              0.8888888888888888,
              "#fdca26"
             ],
             [
              1,
              "#f0f921"
             ]
            ],
            "type": "histogram2d"
           }
          ],
          "histogram2dcontour": [
           {
            "colorbar": {
             "outlinewidth": 0,
             "ticks": ""
            },
            "colorscale": [
             [
              0,
              "#0d0887"
             ],
             [
              0.1111111111111111,
              "#46039f"
             ],
             [
              0.2222222222222222,
              "#7201a8"
             ],
             [
              0.3333333333333333,
              "#9c179e"
             ],
             [
              0.4444444444444444,
              "#bd3786"
             ],
             [
              0.5555555555555556,
              "#d8576b"
             ],
             [
              0.6666666666666666,
              "#ed7953"
             ],
             [
              0.7777777777777778,
              "#fb9f3a"
             ],
             [
              0.8888888888888888,
              "#fdca26"
             ],
             [
              1,
              "#f0f921"
             ]
            ],
            "type": "histogram2dcontour"
           }
          ],
          "mesh3d": [
           {
            "colorbar": {
             "outlinewidth": 0,
             "ticks": ""
            },
            "type": "mesh3d"
           }
          ],
          "parcoords": [
           {
            "line": {
             "colorbar": {
              "outlinewidth": 0,
              "ticks": ""
             }
            },
            "type": "parcoords"
           }
          ],
          "pie": [
           {
            "automargin": true,
            "type": "pie"
           }
          ],
          "scatter": [
           {
            "fillpattern": {
             "fillmode": "overlay",
             "size": 10,
             "solidity": 0.2
            },
            "type": "scatter"
           }
          ],
          "scatter3d": [
           {
            "line": {
             "colorbar": {
              "outlinewidth": 0,
              "ticks": ""
             }
            },
            "marker": {
             "colorbar": {
              "outlinewidth": 0,
              "ticks": ""
             }
            },
            "type": "scatter3d"
           }
          ],
          "scattercarpet": [
           {
            "marker": {
             "colorbar": {
              "outlinewidth": 0,
              "ticks": ""
             }
            },
            "type": "scattercarpet"
           }
          ],
          "scattergeo": [
           {
            "marker": {
             "colorbar": {
              "outlinewidth": 0,
              "ticks": ""
             }
            },
            "type": "scattergeo"
           }
          ],
          "scattergl": [
           {
            "marker": {
             "colorbar": {
              "outlinewidth": 0,
              "ticks": ""
             }
            },
            "type": "scattergl"
           }
          ],
          "scattermapbox": [
           {
            "marker": {
             "colorbar": {
              "outlinewidth": 0,
              "ticks": ""
             }
            },
            "type": "scattermapbox"
           }
          ],
          "scatterpolar": [
           {
            "marker": {
             "colorbar": {
              "outlinewidth": 0,
              "ticks": ""
             }
            },
            "type": "scatterpolar"
           }
          ],
          "scatterpolargl": [
           {
            "marker": {
             "colorbar": {
              "outlinewidth": 0,
              "ticks": ""
             }
            },
            "type": "scatterpolargl"
           }
          ],
          "scatterternary": [
           {
            "marker": {
             "colorbar": {
              "outlinewidth": 0,
              "ticks": ""
             }
            },
            "type": "scatterternary"
           }
          ],
          "surface": [
           {
            "colorbar": {
             "outlinewidth": 0,
             "ticks": ""
            },
            "colorscale": [
             [
              0,
              "#0d0887"
             ],
             [
              0.1111111111111111,
              "#46039f"
             ],
             [
              0.2222222222222222,
              "#7201a8"
             ],
             [
              0.3333333333333333,
              "#9c179e"
             ],
             [
              0.4444444444444444,
              "#bd3786"
             ],
             [
              0.5555555555555556,
              "#d8576b"
             ],
             [
              0.6666666666666666,
              "#ed7953"
             ],
             [
              0.7777777777777778,
              "#fb9f3a"
             ],
             [
              0.8888888888888888,
              "#fdca26"
             ],
             [
              1,
              "#f0f921"
             ]
            ],
            "type": "surface"
           }
          ],
          "table": [
           {
            "cells": {
             "fill": {
              "color": "#EBF0F8"
             },
             "line": {
              "color": "white"
             }
            },
            "header": {
             "fill": {
              "color": "#C8D4E3"
             },
             "line": {
              "color": "white"
             }
            },
            "type": "table"
           }
          ]
         },
         "layout": {
          "annotationdefaults": {
           "arrowcolor": "#2a3f5f",
           "arrowhead": 0,
           "arrowwidth": 1
          },
          "autotypenumbers": "strict",
          "coloraxis": {
           "colorbar": {
            "outlinewidth": 0,
            "ticks": ""
           }
          },
          "colorscale": {
           "diverging": [
            [
             0,
             "#8e0152"
            ],
            [
             0.1,
             "#c51b7d"
            ],
            [
             0.2,
             "#de77ae"
            ],
            [
             0.3,
             "#f1b6da"
            ],
            [
             0.4,
             "#fde0ef"
            ],
            [
             0.5,
             "#f7f7f7"
            ],
            [
             0.6,
             "#e6f5d0"
            ],
            [
             0.7,
             "#b8e186"
            ],
            [
             0.8,
             "#7fbc41"
            ],
            [
             0.9,
             "#4d9221"
            ],
            [
             1,
             "#276419"
            ]
           ],
           "sequential": [
            [
             0,
             "#0d0887"
            ],
            [
             0.1111111111111111,
             "#46039f"
            ],
            [
             0.2222222222222222,
             "#7201a8"
            ],
            [
             0.3333333333333333,
             "#9c179e"
            ],
            [
             0.4444444444444444,
             "#bd3786"
            ],
            [
             0.5555555555555556,
             "#d8576b"
            ],
            [
             0.6666666666666666,
             "#ed7953"
            ],
            [
             0.7777777777777778,
             "#fb9f3a"
            ],
            [
             0.8888888888888888,
             "#fdca26"
            ],
            [
             1,
             "#f0f921"
            ]
           ],
           "sequentialminus": [
            [
             0,
             "#0d0887"
            ],
            [
             0.1111111111111111,
             "#46039f"
            ],
            [
             0.2222222222222222,
             "#7201a8"
            ],
            [
             0.3333333333333333,
             "#9c179e"
            ],
            [
             0.4444444444444444,
             "#bd3786"
            ],
            [
             0.5555555555555556,
             "#d8576b"
            ],
            [
             0.6666666666666666,
             "#ed7953"
            ],
            [
             0.7777777777777778,
             "#fb9f3a"
            ],
            [
             0.8888888888888888,
             "#fdca26"
            ],
            [
             1,
             "#f0f921"
            ]
           ]
          },
          "colorway": [
           "#636efa",
           "#EF553B",
           "#00cc96",
           "#ab63fa",
           "#FFA15A",
           "#19d3f3",
           "#FF6692",
           "#B6E880",
           "#FF97FF",
           "#FECB52"
          ],
          "font": {
           "color": "#2a3f5f"
          },
          "geo": {
           "bgcolor": "white",
           "lakecolor": "white",
           "landcolor": "#E5ECF6",
           "showlakes": true,
           "showland": true,
           "subunitcolor": "white"
          },
          "hoverlabel": {
           "align": "left"
          },
          "hovermode": "closest",
          "mapbox": {
           "style": "light"
          },
          "paper_bgcolor": "white",
          "plot_bgcolor": "#E5ECF6",
          "polar": {
           "angularaxis": {
            "gridcolor": "white",
            "linecolor": "white",
            "ticks": ""
           },
           "bgcolor": "#E5ECF6",
           "radialaxis": {
            "gridcolor": "white",
            "linecolor": "white",
            "ticks": ""
           }
          },
          "scene": {
           "xaxis": {
            "backgroundcolor": "#E5ECF6",
            "gridcolor": "white",
            "gridwidth": 2,
            "linecolor": "white",
            "showbackground": true,
            "ticks": "",
            "zerolinecolor": "white"
           },
           "yaxis": {
            "backgroundcolor": "#E5ECF6",
            "gridcolor": "white",
            "gridwidth": 2,
            "linecolor": "white",
            "showbackground": true,
            "ticks": "",
            "zerolinecolor": "white"
           },
           "zaxis": {
            "backgroundcolor": "#E5ECF6",
            "gridcolor": "white",
            "gridwidth": 2,
            "linecolor": "white",
            "showbackground": true,
            "ticks": "",
            "zerolinecolor": "white"
           }
          },
          "shapedefaults": {
           "line": {
            "color": "#2a3f5f"
           }
          },
          "ternary": {
           "aaxis": {
            "gridcolor": "white",
            "linecolor": "white",
            "ticks": ""
           },
           "baxis": {
            "gridcolor": "white",
            "linecolor": "white",
            "ticks": ""
           },
           "bgcolor": "#E5ECF6",
           "caxis": {
            "gridcolor": "white",
            "linecolor": "white",
            "ticks": ""
           }
          },
          "title": {
           "x": 0.05
          },
          "xaxis": {
           "automargin": true,
           "gridcolor": "white",
           "linecolor": "white",
           "ticks": "",
           "title": {
            "standoff": 15
           },
           "zerolinecolor": "white",
           "zerolinewidth": 2
          },
          "yaxis": {
           "automargin": true,
           "gridcolor": "white",
           "linecolor": "white",
           "ticks": "",
           "title": {
            "standoff": 15
           },
           "zerolinecolor": "white",
           "zerolinewidth": 2
          }
         }
        },
        "title": {
         "text": "Exoplanet Classifications",
         "x": 0.5,
         "y": 0.95
        },
        "updatemenus": [
         {
          "buttons": [
           {
            "args": [
             {
              "visible": [
               true,
               false
              ]
             },
             {
              "title": "KOI Classification"
             }
            ],
            "label": "KOI Classification",
            "method": "update"
           },
           {
            "args": [
             {
              "visible": [
               false,
               true
              ]
             },
             {
              "title": "Mass Classification"
             }
            ],
            "label": "Mass Classification",
            "method": "update"
           }
          ],
          "direction": "down",
          "showactive": true,
          "x": -0.1,
          "xanchor": "left",
          "y": 1.3,
          "yanchor": "top"
         }
        ],
        "width": 700
       }
      }
     },
     "metadata": {},
     "output_type": "display_data"
    }
   ],
   "source": [
    "pie_fig = go.Figure()\n",
    "pie_fig.add_trace(go.Pie(labels=[\"Exoplanet\", \"KOI\"], values=exo[\"koi_classification\"].value_counts(), \n",
    "                         name=\"KOI\", visible=True))\n",
    "pie_fig.add_trace(go.Pie(labels=exo[\"rad_classification\"].unique().tolist(),\n",
    "                         values=exo[\"rad_classification\"].value_counts(),\n",
    "                        name=\"Mass\", visible=False))\n",
    "pie_fig.update_layout(\n",
    "    updatemenus=[dict(buttons=list([dict(label=\"KOI Classification\",\n",
    "                                         args=[{\"visible\": [True, False]},\n",
    "                                               {\"title\": \"KOI Classification\"}],\n",
    "                                         method=\"update\"),\n",
    "                                    dict(args=[{\"visible\": [False, True]},\n",
    "                                               {\"title\": \"Mass Classification\"}],\n",
    "                                         label=\"Mass Classification\",\n",
    "                                         method=\"update\")\n",
    "                                   ]),\n",
    "                      direction=\"down\",\n",
    "                      showactive=True,\n",
    "                      x=-0.1,\n",
    "                      xanchor=\"left\",\n",
    "                      y=1.3,\n",
    "                      yanchor=\"top\"),\n",
    "                ]\n",
    ")\n",
    "\n",
    "pie_fig.update_layout(title=go.layout.Title(text=\"Exoplanet Classifications\",\n",
    "                                            x=0.5,\n",
    "                                            y=0.95),\n",
    "                      width=700,\n",
    "                      height=500,\n",
    "                      autosize=False)\n",
    "                                            \n",
    "\n",
    "pie_fig.show()"
   ]
  },
  {
   "cell_type": "markdown",
   "metadata": {},
   "source": [
    "## 2. Distinguish KOI\n",
    "- What factor contributes the most in classifying an exoplanet as KOI?"
   ]
  },
  {
   "cell_type": "code",
   "execution_count": 91,
   "metadata": {},
   "outputs": [
    {
     "data": {
      "text/html": [
       "<div>\n",
       "<style scoped>\n",
       "    .dataframe tbody tr th:only-of-type {\n",
       "        vertical-align: middle;\n",
       "    }\n",
       "\n",
       "    .dataframe tbody tr th {\n",
       "        vertical-align: top;\n",
       "    }\n",
       "\n",
       "    .dataframe thead th {\n",
       "        text-align: right;\n",
       "    }\n",
       "</style>\n",
       "<table border=\"1\" class=\"dataframe\">\n",
       "  <thead>\n",
       "    <tr style=\"text-align: right;\">\n",
       "      <th></th>\n",
       "      <th>sy_snum</th>\n",
       "      <th>sy_pnum</th>\n",
       "      <th>disc_year</th>\n",
       "      <th>pl_controv_flag</th>\n",
       "      <th>pl_orbper</th>\n",
       "      <th>pl_orbsmax</th>\n",
       "      <th>pl_rade</th>\n",
       "      <th>pl_radj</th>\n",
       "      <th>pl_bmasse</th>\n",
       "      <th>pl_bmassj</th>\n",
       "      <th>...</th>\n",
       "      <th>st_met</th>\n",
       "      <th>st_lum</th>\n",
       "      <th>st_logg</th>\n",
       "      <th>ra</th>\n",
       "      <th>dec</th>\n",
       "      <th>sy_dist</th>\n",
       "      <th>sy_vmag</th>\n",
       "      <th>sy_kmag</th>\n",
       "      <th>sy_gaiamag</th>\n",
       "      <th>koi_classification</th>\n",
       "    </tr>\n",
       "  </thead>\n",
       "  <tbody>\n",
       "    <tr>\n",
       "      <th>0</th>\n",
       "      <td>2</td>\n",
       "      <td>1</td>\n",
       "      <td>2007</td>\n",
       "      <td>0</td>\n",
       "      <td>326.03000</td>\n",
       "      <td>1.290</td>\n",
       "      <td>12.1</td>\n",
       "      <td>1.08</td>\n",
       "      <td>6165.60000</td>\n",
       "      <td>19.400</td>\n",
       "      <td>...</td>\n",
       "      <td>-0.350</td>\n",
       "      <td>2.243</td>\n",
       "      <td>2.31</td>\n",
       "      <td>185.178779</td>\n",
       "      <td>17.793252</td>\n",
       "      <td>93.1846</td>\n",
       "      <td>4.72307</td>\n",
       "      <td>2.282</td>\n",
       "      <td>4.44038</td>\n",
       "      <td>Exoplanet</td>\n",
       "    </tr>\n",
       "    <tr>\n",
       "      <th>1</th>\n",
       "      <td>1</td>\n",
       "      <td>1</td>\n",
       "      <td>2009</td>\n",
       "      <td>0</td>\n",
       "      <td>516.21997</td>\n",
       "      <td>1.530</td>\n",
       "      <td>12.3</td>\n",
       "      <td>1.09</td>\n",
       "      <td>4684.81420</td>\n",
       "      <td>14.740</td>\n",
       "      <td>...</td>\n",
       "      <td>-0.020</td>\n",
       "      <td>2.430</td>\n",
       "      <td>1.93</td>\n",
       "      <td>229.274595</td>\n",
       "      <td>71.823943</td>\n",
       "      <td>125.3210</td>\n",
       "      <td>5.01300</td>\n",
       "      <td>1.939</td>\n",
       "      <td>4.56216</td>\n",
       "      <td>Exoplanet</td>\n",
       "    </tr>\n",
       "    <tr>\n",
       "      <th>2</th>\n",
       "      <td>1</td>\n",
       "      <td>1</td>\n",
       "      <td>2008</td>\n",
       "      <td>0</td>\n",
       "      <td>185.84000</td>\n",
       "      <td>0.830</td>\n",
       "      <td>12.9</td>\n",
       "      <td>1.15</td>\n",
       "      <td>1525.50000</td>\n",
       "      <td>4.800</td>\n",
       "      <td>...</td>\n",
       "      <td>-0.240</td>\n",
       "      <td>1.763</td>\n",
       "      <td>2.63</td>\n",
       "      <td>352.824150</td>\n",
       "      <td>39.235837</td>\n",
       "      <td>75.4392</td>\n",
       "      <td>5.23133</td>\n",
       "      <td>2.331</td>\n",
       "      <td>4.91781</td>\n",
       "      <td>Exoplanet</td>\n",
       "    </tr>\n",
       "    <tr>\n",
       "      <th>3</th>\n",
       "      <td>1</td>\n",
       "      <td>2</td>\n",
       "      <td>2002</td>\n",
       "      <td>0</td>\n",
       "      <td>1765.03890</td>\n",
       "      <td>2.774</td>\n",
       "      <td>12.6</td>\n",
       "      <td>1.12</td>\n",
       "      <td>2559.47216</td>\n",
       "      <td>8.053</td>\n",
       "      <td>...</td>\n",
       "      <td>0.405</td>\n",
       "      <td>-0.153</td>\n",
       "      <td>4.45</td>\n",
       "      <td>242.602101</td>\n",
       "      <td>43.816362</td>\n",
       "      <td>17.9323</td>\n",
       "      <td>6.61935</td>\n",
       "      <td>4.714</td>\n",
       "      <td>6.38300</td>\n",
       "      <td>Exoplanet</td>\n",
       "    </tr>\n",
       "    <tr>\n",
       "      <th>4</th>\n",
       "      <td>3</td>\n",
       "      <td>1</td>\n",
       "      <td>1996</td>\n",
       "      <td>0</td>\n",
       "      <td>798.50000</td>\n",
       "      <td>1.660</td>\n",
       "      <td>13.5</td>\n",
       "      <td>1.20</td>\n",
       "      <td>565.73740</td>\n",
       "      <td>1.780</td>\n",
       "      <td>...</td>\n",
       "      <td>0.060</td>\n",
       "      <td>0.097</td>\n",
       "      <td>4.36</td>\n",
       "      <td>295.465642</td>\n",
       "      <td>50.516824</td>\n",
       "      <td>21.1397</td>\n",
       "      <td>6.21500</td>\n",
       "      <td>4.651</td>\n",
       "      <td>6.06428</td>\n",
       "      <td>Exoplanet</td>\n",
       "    </tr>\n",
       "  </tbody>\n",
       "</table>\n",
       "<p>5 rows × 28 columns</p>\n",
       "</div>"
      ],
      "text/plain": [
       "   sy_snum  sy_pnum  disc_year  pl_controv_flag   pl_orbper  pl_orbsmax  \\\n",
       "0        2        1       2007                0   326.03000       1.290   \n",
       "1        1        1       2009                0   516.21997       1.530   \n",
       "2        1        1       2008                0   185.84000       0.830   \n",
       "3        1        2       2002                0  1765.03890       2.774   \n",
       "4        3        1       1996                0   798.50000       1.660   \n",
       "\n",
       "   pl_rade  pl_radj   pl_bmasse  pl_bmassj  ...  st_met  st_lum  st_logg  \\\n",
       "0     12.1     1.08  6165.60000     19.400  ...  -0.350   2.243     2.31   \n",
       "1     12.3     1.09  4684.81420     14.740  ...  -0.020   2.430     1.93   \n",
       "2     12.9     1.15  1525.50000      4.800  ...  -0.240   1.763     2.63   \n",
       "3     12.6     1.12  2559.47216      8.053  ...   0.405  -0.153     4.45   \n",
       "4     13.5     1.20   565.73740      1.780  ...   0.060   0.097     4.36   \n",
       "\n",
       "           ra        dec   sy_dist  sy_vmag  sy_kmag  sy_gaiamag  \\\n",
       "0  185.178779  17.793252   93.1846  4.72307    2.282     4.44038   \n",
       "1  229.274595  71.823943  125.3210  5.01300    1.939     4.56216   \n",
       "2  352.824150  39.235837   75.4392  5.23133    2.331     4.91781   \n",
       "3  242.602101  43.816362   17.9323  6.61935    4.714     6.38300   \n",
       "4  295.465642  50.516824   21.1397  6.21500    4.651     6.06428   \n",
       "\n",
       "   koi_classification  \n",
       "0           Exoplanet  \n",
       "1           Exoplanet  \n",
       "2           Exoplanet  \n",
       "3           Exoplanet  \n",
       "4           Exoplanet  \n",
       "\n",
       "[5 rows x 28 columns]"
      ]
     },
     "execution_count": 91,
     "metadata": {},
     "output_type": "execute_result"
    }
   ],
   "source": [
    "all_int_cols = list(exo.select_dtypes(include=['int', 'float']).columns)\n",
    "all_int_cols.append(\"koi_classification\")\n",
    "koi = exo[all_int_cols]\n",
    "koi.head()"
   ]
  },
  {
   "cell_type": "code",
   "execution_count": 92,
   "metadata": {},
   "outputs": [],
   "source": [
    "X_train, X_test, y_train, y_test =  train_test_split(koi.iloc[:, :-1],koi[\"koi_classification\"],test_size=0.3,random_state=0)\n",
    "# categorical_dtypes = list(X_train.select_dtypes(include=['object']).columns)\n",
    "# col_transformer = [(\"cat\", encoder, categorical_dtypes)]\n",
    "# col_transform = ColumnTransformer(transformers=col_transformer)\n"
   ]
  },
  {
   "cell_type": "markdown",
   "metadata": {},
   "source": [
    "#### Logistic Regression"
   ]
  },
  {
   "cell_type": "code",
   "execution_count": 128,
   "metadata": {},
   "outputs": [],
   "source": [
    "def generate_h_bar_fig(df, model_type):\n",
    "      h_bar = px.bar(df,x=\"coef\", y=\"feature\", orientation=\"h\", height=600, color=\"color\",\n",
    "                        title=f\"{model_type} Feature Importance for KOI Classification\")\n",
    "      h_bar.update_layout(\n",
    "            title={'y':0.9,\n",
    "            'x':0.5,\n",
    "            'xanchor': 'center',\n",
    "            'yanchor': 'top'})\n",
    "      \n",
    "      h_bar.show()"
   ]
  },
  {
   "cell_type": "code",
   "execution_count": 135,
   "metadata": {},
   "outputs": [
    {
     "name": "stdout",
     "output_type": "stream",
     "text": [
      "LR Model score is: 0.9762340036563071\n"
     ]
    },
    {
     "data": {
      "text/html": [
       "<div>\n",
       "<style scoped>\n",
       "    .dataframe tbody tr th:only-of-type {\n",
       "        vertical-align: middle;\n",
       "    }\n",
       "\n",
       "    .dataframe tbody tr th {\n",
       "        vertical-align: top;\n",
       "    }\n",
       "\n",
       "    .dataframe thead th {\n",
       "        text-align: right;\n",
       "    }\n",
       "</style>\n",
       "<table border=\"1\" class=\"dataframe\">\n",
       "  <thead>\n",
       "    <tr style=\"text-align: right;\">\n",
       "      <th></th>\n",
       "      <th>feature</th>\n",
       "      <th>coef</th>\n",
       "      <th>color</th>\n",
       "    </tr>\n",
       "  </thead>\n",
       "  <tbody>\n",
       "    <tr>\n",
       "      <th>25</th>\n",
       "      <td>sy_kmag</td>\n",
       "      <td>0.951765</td>\n",
       "      <td>Positive</td>\n",
       "    </tr>\n",
       "    <tr>\n",
       "      <th>19</th>\n",
       "      <td>st_lum</td>\n",
       "      <td>0.429220</td>\n",
       "      <td>Positive</td>\n",
       "    </tr>\n",
       "    <tr>\n",
       "      <th>17</th>\n",
       "      <td>st_mass</td>\n",
       "      <td>0.171139</td>\n",
       "      <td>Positive</td>\n",
       "    </tr>\n",
       "    <tr>\n",
       "      <th>0</th>\n",
       "      <td>sy_snum</td>\n",
       "      <td>0.153302</td>\n",
       "      <td>Positive</td>\n",
       "    </tr>\n",
       "    <tr>\n",
       "      <th>24</th>\n",
       "      <td>sy_vmag</td>\n",
       "      <td>0.145462</td>\n",
       "      <td>Positive</td>\n",
       "    </tr>\n",
       "    <tr>\n",
       "      <th>22</th>\n",
       "      <td>dec</td>\n",
       "      <td>0.104282</td>\n",
       "      <td>Positive</td>\n",
       "    </tr>\n",
       "    <tr>\n",
       "      <th>13</th>\n",
       "      <td>ttv_flag</td>\n",
       "      <td>0.052219</td>\n",
       "      <td>Positive</td>\n",
       "    </tr>\n",
       "    <tr>\n",
       "      <th>21</th>\n",
       "      <td>ra</td>\n",
       "      <td>0.031487</td>\n",
       "      <td>Positive</td>\n",
       "    </tr>\n",
       "    <tr>\n",
       "      <th>18</th>\n",
       "      <td>st_met</td>\n",
       "      <td>0.028916</td>\n",
       "      <td>Positive</td>\n",
       "    </tr>\n",
       "    <tr>\n",
       "      <th>26</th>\n",
       "      <td>sy_gaiamag</td>\n",
       "      <td>0.017190</td>\n",
       "      <td>Positive</td>\n",
       "    </tr>\n",
       "    <tr>\n",
       "      <th>12</th>\n",
       "      <td>pl_eqt</td>\n",
       "      <td>0.001203</td>\n",
       "      <td>Positive</td>\n",
       "    </tr>\n",
       "    <tr>\n",
       "      <th>14</th>\n",
       "      <td>pl_ratdor</td>\n",
       "      <td>0.000901</td>\n",
       "      <td>Positive</td>\n",
       "    </tr>\n",
       "    <tr>\n",
       "      <th>8</th>\n",
       "      <td>pl_bmasse</td>\n",
       "      <td>0.000088</td>\n",
       "      <td>Positive</td>\n",
       "    </tr>\n",
       "    <tr>\n",
       "      <th>4</th>\n",
       "      <td>pl_orbper</td>\n",
       "      <td>0.000001</td>\n",
       "      <td>Positive</td>\n",
       "    </tr>\n",
       "    <tr>\n",
       "      <th>11</th>\n",
       "      <td>pl_insol</td>\n",
       "      <td>-0.000316</td>\n",
       "      <td>Negative</td>\n",
       "    </tr>\n",
       "    <tr>\n",
       "      <th>15</th>\n",
       "      <td>st_teff</td>\n",
       "      <td>-0.000318</td>\n",
       "      <td>Negative</td>\n",
       "    </tr>\n",
       "    <tr>\n",
       "      <th>9</th>\n",
       "      <td>pl_bmassj</td>\n",
       "      <td>-0.000469</td>\n",
       "      <td>Negative</td>\n",
       "    </tr>\n",
       "    <tr>\n",
       "      <th>23</th>\n",
       "      <td>sy_dist</td>\n",
       "      <td>-0.000836</td>\n",
       "      <td>Negative</td>\n",
       "    </tr>\n",
       "    <tr>\n",
       "      <th>10</th>\n",
       "      <td>pl_orbeccen</td>\n",
       "      <td>-0.006894</td>\n",
       "      <td>Negative</td>\n",
       "    </tr>\n",
       "    <tr>\n",
       "      <th>16</th>\n",
       "      <td>st_rad</td>\n",
       "      <td>-0.010207</td>\n",
       "      <td>Negative</td>\n",
       "    </tr>\n",
       "    <tr>\n",
       "      <th>2</th>\n",
       "      <td>disc_year</td>\n",
       "      <td>-0.010541</td>\n",
       "      <td>Negative</td>\n",
       "    </tr>\n",
       "    <tr>\n",
       "      <th>20</th>\n",
       "      <td>st_logg</td>\n",
       "      <td>-0.032587</td>\n",
       "      <td>Negative</td>\n",
       "    </tr>\n",
       "    <tr>\n",
       "      <th>7</th>\n",
       "      <td>pl_radj</td>\n",
       "      <td>-0.036188</td>\n",
       "      <td>Negative</td>\n",
       "    </tr>\n",
       "    <tr>\n",
       "      <th>3</th>\n",
       "      <td>pl_controv_flag</td>\n",
       "      <td>-0.046111</td>\n",
       "      <td>Negative</td>\n",
       "    </tr>\n",
       "    <tr>\n",
       "      <th>5</th>\n",
       "      <td>pl_orbsmax</td>\n",
       "      <td>-0.069972</td>\n",
       "      <td>Negative</td>\n",
       "    </tr>\n",
       "    <tr>\n",
       "      <th>1</th>\n",
       "      <td>sy_pnum</td>\n",
       "      <td>-0.291485</td>\n",
       "      <td>Negative</td>\n",
       "    </tr>\n",
       "    <tr>\n",
       "      <th>6</th>\n",
       "      <td>pl_rade</td>\n",
       "      <td>-0.332348</td>\n",
       "      <td>Negative</td>\n",
       "    </tr>\n",
       "  </tbody>\n",
       "</table>\n",
       "</div>"
      ],
      "text/plain": [
       "            feature      coef     color\n",
       "25          sy_kmag  0.951765  Positive\n",
       "19           st_lum  0.429220  Positive\n",
       "17          st_mass  0.171139  Positive\n",
       "0           sy_snum  0.153302  Positive\n",
       "24          sy_vmag  0.145462  Positive\n",
       "22              dec  0.104282  Positive\n",
       "13         ttv_flag  0.052219  Positive\n",
       "21               ra  0.031487  Positive\n",
       "18           st_met  0.028916  Positive\n",
       "26       sy_gaiamag  0.017190  Positive\n",
       "12           pl_eqt  0.001203  Positive\n",
       "14        pl_ratdor  0.000901  Positive\n",
       "8         pl_bmasse  0.000088  Positive\n",
       "4         pl_orbper  0.000001  Positive\n",
       "11         pl_insol -0.000316  Negative\n",
       "15          st_teff -0.000318  Negative\n",
       "9         pl_bmassj -0.000469  Negative\n",
       "23          sy_dist -0.000836  Negative\n",
       "10      pl_orbeccen -0.006894  Negative\n",
       "16           st_rad -0.010207  Negative\n",
       "2         disc_year -0.010541  Negative\n",
       "20          st_logg -0.032587  Negative\n",
       "7           pl_radj -0.036188  Negative\n",
       "3   pl_controv_flag -0.046111  Negative\n",
       "5        pl_orbsmax -0.069972  Negative\n",
       "1           sy_pnum -0.291485  Negative\n",
       "6           pl_rade -0.332348  Negative"
      ]
     },
     "metadata": {},
     "output_type": "display_data"
    },
    {
     "data": {
      "application/vnd.plotly.v1+json": {
       "config": {
        "plotlyServerURL": "https://plot.ly"
       },
       "data": [
        {
         "alignmentgroup": "True",
         "hovertemplate": "color=Negative<br>coef=%{x}<br>feature=%{y}<extra></extra>",
         "legendgroup": "Negative",
         "marker": {
          "color": "#636efa",
          "pattern": {
           "shape": ""
          }
         },
         "name": "Negative",
         "offsetgroup": "Negative",
         "orientation": "h",
         "showlegend": true,
         "textposition": "auto",
         "type": "bar",
         "x": [
          -0.33234761690039644,
          -0.2914854163323643,
          -0.0699724394529374,
          -0.046110760573648546,
          -0.036188469349954566,
          -0.03258710231641724,
          -0.01054129412083071,
          -0.010206853958418798,
          -0.006894098218315562,
          -0.0008357809200793589,
          -0.00046857219096909725,
          -0.00031840178266277774,
          -0.00031605374882524156
         ],
         "xaxis": "x",
         "y": [
          "pl_rade",
          "sy_pnum",
          "pl_orbsmax",
          "pl_controv_flag",
          "pl_radj",
          "st_logg",
          "disc_year",
          "st_rad",
          "pl_orbeccen",
          "sy_dist",
          "pl_bmassj",
          "st_teff",
          "pl_insol"
         ],
         "yaxis": "y"
        },
        {
         "alignmentgroup": "True",
         "hovertemplate": "color=Positive<br>coef=%{x}<br>feature=%{y}<extra></extra>",
         "legendgroup": "Positive",
         "marker": {
          "color": "#EF553B",
          "pattern": {
           "shape": ""
          }
         },
         "name": "Positive",
         "offsetgroup": "Positive",
         "orientation": "h",
         "showlegend": true,
         "textposition": "auto",
         "type": "bar",
         "x": [
          0.0000013314214195338827,
          0.00008753416727704912,
          0.0009012530005829272,
          0.0012026447895968336,
          0.017190380800194027,
          0.028915915083615747,
          0.03148715503601922,
          0.05221931863349913,
          0.10428191569506298,
          0.14546234010934542,
          0.1533017610944463,
          0.171139013821881,
          0.4292204492050774,
          0.9517647800009459
         ],
         "xaxis": "x",
         "y": [
          "pl_orbper",
          "pl_bmasse",
          "pl_ratdor",
          "pl_eqt",
          "sy_gaiamag",
          "st_met",
          "ra",
          "ttv_flag",
          "dec",
          "sy_vmag",
          "sy_snum",
          "st_mass",
          "st_lum",
          "sy_kmag"
         ],
         "yaxis": "y"
        }
       ],
       "layout": {
        "barmode": "relative",
        "height": 600,
        "legend": {
         "title": {
          "text": "color"
         },
         "tracegroupgap": 0
        },
        "template": {
         "data": {
          "bar": [
           {
            "error_x": {
             "color": "#2a3f5f"
            },
            "error_y": {
             "color": "#2a3f5f"
            },
            "marker": {
             "line": {
              "color": "#E5ECF6",
              "width": 0.5
             },
             "pattern": {
              "fillmode": "overlay",
              "size": 10,
              "solidity": 0.2
             }
            },
            "type": "bar"
           }
          ],
          "barpolar": [
           {
            "marker": {
             "line": {
              "color": "#E5ECF6",
              "width": 0.5
             },
             "pattern": {
              "fillmode": "overlay",
              "size": 10,
              "solidity": 0.2
             }
            },
            "type": "barpolar"
           }
          ],
          "carpet": [
           {
            "aaxis": {
             "endlinecolor": "#2a3f5f",
             "gridcolor": "white",
             "linecolor": "white",
             "minorgridcolor": "white",
             "startlinecolor": "#2a3f5f"
            },
            "baxis": {
             "endlinecolor": "#2a3f5f",
             "gridcolor": "white",
             "linecolor": "white",
             "minorgridcolor": "white",
             "startlinecolor": "#2a3f5f"
            },
            "type": "carpet"
           }
          ],
          "choropleth": [
           {
            "colorbar": {
             "outlinewidth": 0,
             "ticks": ""
            },
            "type": "choropleth"
           }
          ],
          "contour": [
           {
            "colorbar": {
             "outlinewidth": 0,
             "ticks": ""
            },
            "colorscale": [
             [
              0,
              "#0d0887"
             ],
             [
              0.1111111111111111,
              "#46039f"
             ],
             [
              0.2222222222222222,
              "#7201a8"
             ],
             [
              0.3333333333333333,
              "#9c179e"
             ],
             [
              0.4444444444444444,
              "#bd3786"
             ],
             [
              0.5555555555555556,
              "#d8576b"
             ],
             [
              0.6666666666666666,
              "#ed7953"
             ],
             [
              0.7777777777777778,
              "#fb9f3a"
             ],
             [
              0.8888888888888888,
              "#fdca26"
             ],
             [
              1,
              "#f0f921"
             ]
            ],
            "type": "contour"
           }
          ],
          "contourcarpet": [
           {
            "colorbar": {
             "outlinewidth": 0,
             "ticks": ""
            },
            "type": "contourcarpet"
           }
          ],
          "heatmap": [
           {
            "colorbar": {
             "outlinewidth": 0,
             "ticks": ""
            },
            "colorscale": [
             [
              0,
              "#0d0887"
             ],
             [
              0.1111111111111111,
              "#46039f"
             ],
             [
              0.2222222222222222,
              "#7201a8"
             ],
             [
              0.3333333333333333,
              "#9c179e"
             ],
             [
              0.4444444444444444,
              "#bd3786"
             ],
             [
              0.5555555555555556,
              "#d8576b"
             ],
             [
              0.6666666666666666,
              "#ed7953"
             ],
             [
              0.7777777777777778,
              "#fb9f3a"
             ],
             [
              0.8888888888888888,
              "#fdca26"
             ],
             [
              1,
              "#f0f921"
             ]
            ],
            "type": "heatmap"
           }
          ],
          "heatmapgl": [
           {
            "colorbar": {
             "outlinewidth": 0,
             "ticks": ""
            },
            "colorscale": [
             [
              0,
              "#0d0887"
             ],
             [
              0.1111111111111111,
              "#46039f"
             ],
             [
              0.2222222222222222,
              "#7201a8"
             ],
             [
              0.3333333333333333,
              "#9c179e"
             ],
             [
              0.4444444444444444,
              "#bd3786"
             ],
             [
              0.5555555555555556,
              "#d8576b"
             ],
             [
              0.6666666666666666,
              "#ed7953"
             ],
             [
              0.7777777777777778,
              "#fb9f3a"
             ],
             [
              0.8888888888888888,
              "#fdca26"
             ],
             [
              1,
              "#f0f921"
             ]
            ],
            "type": "heatmapgl"
           }
          ],
          "histogram": [
           {
            "marker": {
             "pattern": {
              "fillmode": "overlay",
              "size": 10,
              "solidity": 0.2
             }
            },
            "type": "histogram"
           }
          ],
          "histogram2d": [
           {
            "colorbar": {
             "outlinewidth": 0,
             "ticks": ""
            },
            "colorscale": [
             [
              0,
              "#0d0887"
             ],
             [
              0.1111111111111111,
              "#46039f"
             ],
             [
              0.2222222222222222,
              "#7201a8"
             ],
             [
              0.3333333333333333,
              "#9c179e"
             ],
             [
              0.4444444444444444,
              "#bd3786"
             ],
             [
              0.5555555555555556,
              "#d8576b"
             ],
             [
              0.6666666666666666,
              "#ed7953"
             ],
             [
              0.7777777777777778,
              "#fb9f3a"
             ],
             [
              0.8888888888888888,
              "#fdca26"
             ],
             [
              1,
              "#f0f921"
             ]
            ],
            "type": "histogram2d"
           }
          ],
          "histogram2dcontour": [
           {
            "colorbar": {
             "outlinewidth": 0,
             "ticks": ""
            },
            "colorscale": [
             [
              0,
              "#0d0887"
             ],
             [
              0.1111111111111111,
              "#46039f"
             ],
             [
              0.2222222222222222,
              "#7201a8"
             ],
             [
              0.3333333333333333,
              "#9c179e"
             ],
             [
              0.4444444444444444,
              "#bd3786"
             ],
             [
              0.5555555555555556,
              "#d8576b"
             ],
             [
              0.6666666666666666,
              "#ed7953"
             ],
             [
              0.7777777777777778,
              "#fb9f3a"
             ],
             [
              0.8888888888888888,
              "#fdca26"
             ],
             [
              1,
              "#f0f921"
             ]
            ],
            "type": "histogram2dcontour"
           }
          ],
          "mesh3d": [
           {
            "colorbar": {
             "outlinewidth": 0,
             "ticks": ""
            },
            "type": "mesh3d"
           }
          ],
          "parcoords": [
           {
            "line": {
             "colorbar": {
              "outlinewidth": 0,
              "ticks": ""
             }
            },
            "type": "parcoords"
           }
          ],
          "pie": [
           {
            "automargin": true,
            "type": "pie"
           }
          ],
          "scatter": [
           {
            "fillpattern": {
             "fillmode": "overlay",
             "size": 10,
             "solidity": 0.2
            },
            "type": "scatter"
           }
          ],
          "scatter3d": [
           {
            "line": {
             "colorbar": {
              "outlinewidth": 0,
              "ticks": ""
             }
            },
            "marker": {
             "colorbar": {
              "outlinewidth": 0,
              "ticks": ""
             }
            },
            "type": "scatter3d"
           }
          ],
          "scattercarpet": [
           {
            "marker": {
             "colorbar": {
              "outlinewidth": 0,
              "ticks": ""
             }
            },
            "type": "scattercarpet"
           }
          ],
          "scattergeo": [
           {
            "marker": {
             "colorbar": {
              "outlinewidth": 0,
              "ticks": ""
             }
            },
            "type": "scattergeo"
           }
          ],
          "scattergl": [
           {
            "marker": {
             "colorbar": {
              "outlinewidth": 0,
              "ticks": ""
             }
            },
            "type": "scattergl"
           }
          ],
          "scattermapbox": [
           {
            "marker": {
             "colorbar": {
              "outlinewidth": 0,
              "ticks": ""
             }
            },
            "type": "scattermapbox"
           }
          ],
          "scatterpolar": [
           {
            "marker": {
             "colorbar": {
              "outlinewidth": 0,
              "ticks": ""
             }
            },
            "type": "scatterpolar"
           }
          ],
          "scatterpolargl": [
           {
            "marker": {
             "colorbar": {
              "outlinewidth": 0,
              "ticks": ""
             }
            },
            "type": "scatterpolargl"
           }
          ],
          "scatterternary": [
           {
            "marker": {
             "colorbar": {
              "outlinewidth": 0,
              "ticks": ""
             }
            },
            "type": "scatterternary"
           }
          ],
          "surface": [
           {
            "colorbar": {
             "outlinewidth": 0,
             "ticks": ""
            },
            "colorscale": [
             [
              0,
              "#0d0887"
             ],
             [
              0.1111111111111111,
              "#46039f"
             ],
             [
              0.2222222222222222,
              "#7201a8"
             ],
             [
              0.3333333333333333,
              "#9c179e"
             ],
             [
              0.4444444444444444,
              "#bd3786"
             ],
             [
              0.5555555555555556,
              "#d8576b"
             ],
             [
              0.6666666666666666,
              "#ed7953"
             ],
             [
              0.7777777777777778,
              "#fb9f3a"
             ],
             [
              0.8888888888888888,
              "#fdca26"
             ],
             [
              1,
              "#f0f921"
             ]
            ],
            "type": "surface"
           }
          ],
          "table": [
           {
            "cells": {
             "fill": {
              "color": "#EBF0F8"
             },
             "line": {
              "color": "white"
             }
            },
            "header": {
             "fill": {
              "color": "#C8D4E3"
             },
             "line": {
              "color": "white"
             }
            },
            "type": "table"
           }
          ]
         },
         "layout": {
          "annotationdefaults": {
           "arrowcolor": "#2a3f5f",
           "arrowhead": 0,
           "arrowwidth": 1
          },
          "autotypenumbers": "strict",
          "coloraxis": {
           "colorbar": {
            "outlinewidth": 0,
            "ticks": ""
           }
          },
          "colorscale": {
           "diverging": [
            [
             0,
             "#8e0152"
            ],
            [
             0.1,
             "#c51b7d"
            ],
            [
             0.2,
             "#de77ae"
            ],
            [
             0.3,
             "#f1b6da"
            ],
            [
             0.4,
             "#fde0ef"
            ],
            [
             0.5,
             "#f7f7f7"
            ],
            [
             0.6,
             "#e6f5d0"
            ],
            [
             0.7,
             "#b8e186"
            ],
            [
             0.8,
             "#7fbc41"
            ],
            [
             0.9,
             "#4d9221"
            ],
            [
             1,
             "#276419"
            ]
           ],
           "sequential": [
            [
             0,
             "#0d0887"
            ],
            [
             0.1111111111111111,
             "#46039f"
            ],
            [
             0.2222222222222222,
             "#7201a8"
            ],
            [
             0.3333333333333333,
             "#9c179e"
            ],
            [
             0.4444444444444444,
             "#bd3786"
            ],
            [
             0.5555555555555556,
             "#d8576b"
            ],
            [
             0.6666666666666666,
             "#ed7953"
            ],
            [
             0.7777777777777778,
             "#fb9f3a"
            ],
            [
             0.8888888888888888,
             "#fdca26"
            ],
            [
             1,
             "#f0f921"
            ]
           ],
           "sequentialminus": [
            [
             0,
             "#0d0887"
            ],
            [
             0.1111111111111111,
             "#46039f"
            ],
            [
             0.2222222222222222,
             "#7201a8"
            ],
            [
             0.3333333333333333,
             "#9c179e"
            ],
            [
             0.4444444444444444,
             "#bd3786"
            ],
            [
             0.5555555555555556,
             "#d8576b"
            ],
            [
             0.6666666666666666,
             "#ed7953"
            ],
            [
             0.7777777777777778,
             "#fb9f3a"
            ],
            [
             0.8888888888888888,
             "#fdca26"
            ],
            [
             1,
             "#f0f921"
            ]
           ]
          },
          "colorway": [
           "#636efa",
           "#EF553B",
           "#00cc96",
           "#ab63fa",
           "#FFA15A",
           "#19d3f3",
           "#FF6692",
           "#B6E880",
           "#FF97FF",
           "#FECB52"
          ],
          "font": {
           "color": "#2a3f5f"
          },
          "geo": {
           "bgcolor": "white",
           "lakecolor": "white",
           "landcolor": "#E5ECF6",
           "showlakes": true,
           "showland": true,
           "subunitcolor": "white"
          },
          "hoverlabel": {
           "align": "left"
          },
          "hovermode": "closest",
          "mapbox": {
           "style": "light"
          },
          "paper_bgcolor": "white",
          "plot_bgcolor": "#E5ECF6",
          "polar": {
           "angularaxis": {
            "gridcolor": "white",
            "linecolor": "white",
            "ticks": ""
           },
           "bgcolor": "#E5ECF6",
           "radialaxis": {
            "gridcolor": "white",
            "linecolor": "white",
            "ticks": ""
           }
          },
          "scene": {
           "xaxis": {
            "backgroundcolor": "#E5ECF6",
            "gridcolor": "white",
            "gridwidth": 2,
            "linecolor": "white",
            "showbackground": true,
            "ticks": "",
            "zerolinecolor": "white"
           },
           "yaxis": {
            "backgroundcolor": "#E5ECF6",
            "gridcolor": "white",
            "gridwidth": 2,
            "linecolor": "white",
            "showbackground": true,
            "ticks": "",
            "zerolinecolor": "white"
           },
           "zaxis": {
            "backgroundcolor": "#E5ECF6",
            "gridcolor": "white",
            "gridwidth": 2,
            "linecolor": "white",
            "showbackground": true,
            "ticks": "",
            "zerolinecolor": "white"
           }
          },
          "shapedefaults": {
           "line": {
            "color": "#2a3f5f"
           }
          },
          "ternary": {
           "aaxis": {
            "gridcolor": "white",
            "linecolor": "white",
            "ticks": ""
           },
           "baxis": {
            "gridcolor": "white",
            "linecolor": "white",
            "ticks": ""
           },
           "bgcolor": "#E5ECF6",
           "caxis": {
            "gridcolor": "white",
            "linecolor": "white",
            "ticks": ""
           }
          },
          "title": {
           "x": 0.05
          },
          "xaxis": {
           "automargin": true,
           "gridcolor": "white",
           "linecolor": "white",
           "ticks": "",
           "title": {
            "standoff": 15
           },
           "zerolinecolor": "white",
           "zerolinewidth": 2
          },
          "yaxis": {
           "automargin": true,
           "gridcolor": "white",
           "linecolor": "white",
           "ticks": "",
           "title": {
            "standoff": 15
           },
           "zerolinecolor": "white",
           "zerolinewidth": 2
          }
         }
        },
        "title": {
         "text": "Logistic Regression Feature Importance for KOI Classification",
         "x": 0.5,
         "xanchor": "center",
         "y": 0.9,
         "yanchor": "top"
        },
        "xaxis": {
         "anchor": "y",
         "domain": [
          0,
          1
         ],
         "title": {
          "text": "coef"
         }
        },
        "yaxis": {
         "anchor": "x",
         "domain": [
          0,
          1
         ],
         "title": {
          "text": "feature"
         }
        }
       }
      }
     },
     "metadata": {},
     "output_type": "display_data"
    }
   ],
   "source": [
    "lr_model = LogisticRegression(max_iter=2000)\n",
    "lr_model.fit(X_train,  y_train)\n",
    "lr_y_hat = lr_model.predict(X_test)\n",
    "print(f\"LR Model score is: {accuracy_score(y_test, lr_y_hat)}\")\n",
    "lr_importance = list(zip(lr_model.coef_[0], X_train.columns.tolist()))\n",
    "\n",
    "lr_df = pd.DataFrame(columns=[\"feature\", \"coef\"])\n",
    "for ind, item in lr_importance:\n",
    "    lr_df.loc[len(lr_df)] = item, ind\n",
    "color = lambda row: \"Positive\" if row[\"coef\"] >= 0 else \"Negative\"\n",
    "lr_df[\"color\"] = lr_df.apply(color, axis=1)\n",
    "    \n",
    "display(lr_df.sort_values(by=\"coef\", ascending=False))\n",
    "generate_h_bar_fig(lr_df.sort_values(by=\"coef\"), \"Logistic Regression\")"
   ]
  },
  {
   "cell_type": "markdown",
   "metadata": {},
   "source": [
    "#### Decision Tree"
   ]
  },
  {
   "cell_type": "code",
   "execution_count": 134,
   "metadata": {},
   "outputs": [
    {
     "name": "stdout",
     "output_type": "stream",
     "text": [
      "Decision Tree Classifier Model score is: 0.9865935405240707\n"
     ]
    },
    {
     "data": {
      "text/html": [
       "<div>\n",
       "<style scoped>\n",
       "    .dataframe tbody tr th:only-of-type {\n",
       "        vertical-align: middle;\n",
       "    }\n",
       "\n",
       "    .dataframe tbody tr th {\n",
       "        vertical-align: top;\n",
       "    }\n",
       "\n",
       "    .dataframe thead th {\n",
       "        text-align: right;\n",
       "    }\n",
       "</style>\n",
       "<table border=\"1\" class=\"dataframe\">\n",
       "  <thead>\n",
       "    <tr style=\"text-align: right;\">\n",
       "      <th></th>\n",
       "      <th>feature</th>\n",
       "      <th>coef</th>\n",
       "      <th>color</th>\n",
       "    </tr>\n",
       "  </thead>\n",
       "  <tbody>\n",
       "    <tr>\n",
       "      <th>22</th>\n",
       "      <td>dec</td>\n",
       "      <td>0.739307</td>\n",
       "      <td>Positive</td>\n",
       "    </tr>\n",
       "    <tr>\n",
       "      <th>21</th>\n",
       "      <td>ra</td>\n",
       "      <td>0.209544</td>\n",
       "      <td>Positive</td>\n",
       "    </tr>\n",
       "    <tr>\n",
       "      <th>5</th>\n",
       "      <td>pl_orbsmax</td>\n",
       "      <td>0.010379</td>\n",
       "      <td>Positive</td>\n",
       "    </tr>\n",
       "    <tr>\n",
       "      <th>1</th>\n",
       "      <td>sy_pnum</td>\n",
       "      <td>0.006039</td>\n",
       "      <td>Positive</td>\n",
       "    </tr>\n",
       "    <tr>\n",
       "      <th>23</th>\n",
       "      <td>sy_dist</td>\n",
       "      <td>0.005133</td>\n",
       "      <td>Positive</td>\n",
       "    </tr>\n",
       "    <tr>\n",
       "      <th>2</th>\n",
       "      <td>disc_year</td>\n",
       "      <td>0.004575</td>\n",
       "      <td>Positive</td>\n",
       "    </tr>\n",
       "    <tr>\n",
       "      <th>24</th>\n",
       "      <td>sy_vmag</td>\n",
       "      <td>0.004491</td>\n",
       "      <td>Positive</td>\n",
       "    </tr>\n",
       "    <tr>\n",
       "      <th>7</th>\n",
       "      <td>pl_radj</td>\n",
       "      <td>0.003228</td>\n",
       "      <td>Positive</td>\n",
       "    </tr>\n",
       "    <tr>\n",
       "      <th>18</th>\n",
       "      <td>st_met</td>\n",
       "      <td>0.003031</td>\n",
       "      <td>Positive</td>\n",
       "    </tr>\n",
       "    <tr>\n",
       "      <th>17</th>\n",
       "      <td>st_mass</td>\n",
       "      <td>0.002623</td>\n",
       "      <td>Positive</td>\n",
       "    </tr>\n",
       "    <tr>\n",
       "      <th>14</th>\n",
       "      <td>pl_ratdor</td>\n",
       "      <td>0.002194</td>\n",
       "      <td>Positive</td>\n",
       "    </tr>\n",
       "    <tr>\n",
       "      <th>25</th>\n",
       "      <td>sy_kmag</td>\n",
       "      <td>0.001959</td>\n",
       "      <td>Positive</td>\n",
       "    </tr>\n",
       "    <tr>\n",
       "      <th>4</th>\n",
       "      <td>pl_orbper</td>\n",
       "      <td>0.001709</td>\n",
       "      <td>Positive</td>\n",
       "    </tr>\n",
       "    <tr>\n",
       "      <th>19</th>\n",
       "      <td>st_lum</td>\n",
       "      <td>0.001672</td>\n",
       "      <td>Positive</td>\n",
       "    </tr>\n",
       "    <tr>\n",
       "      <th>6</th>\n",
       "      <td>pl_rade</td>\n",
       "      <td>0.001065</td>\n",
       "      <td>Positive</td>\n",
       "    </tr>\n",
       "    <tr>\n",
       "      <th>0</th>\n",
       "      <td>sy_snum</td>\n",
       "      <td>0.001030</td>\n",
       "      <td>Positive</td>\n",
       "    </tr>\n",
       "    <tr>\n",
       "      <th>8</th>\n",
       "      <td>pl_bmasse</td>\n",
       "      <td>0.000696</td>\n",
       "      <td>Positive</td>\n",
       "    </tr>\n",
       "    <tr>\n",
       "      <th>9</th>\n",
       "      <td>pl_bmassj</td>\n",
       "      <td>0.000522</td>\n",
       "      <td>Positive</td>\n",
       "    </tr>\n",
       "    <tr>\n",
       "      <th>10</th>\n",
       "      <td>pl_orbeccen</td>\n",
       "      <td>0.000510</td>\n",
       "      <td>Positive</td>\n",
       "    </tr>\n",
       "    <tr>\n",
       "      <th>20</th>\n",
       "      <td>st_logg</td>\n",
       "      <td>0.000293</td>\n",
       "      <td>Positive</td>\n",
       "    </tr>\n",
       "    <tr>\n",
       "      <th>13</th>\n",
       "      <td>ttv_flag</td>\n",
       "      <td>0.000000</td>\n",
       "      <td>Positive</td>\n",
       "    </tr>\n",
       "    <tr>\n",
       "      <th>16</th>\n",
       "      <td>st_rad</td>\n",
       "      <td>0.000000</td>\n",
       "      <td>Positive</td>\n",
       "    </tr>\n",
       "    <tr>\n",
       "      <th>15</th>\n",
       "      <td>st_teff</td>\n",
       "      <td>0.000000</td>\n",
       "      <td>Positive</td>\n",
       "    </tr>\n",
       "    <tr>\n",
       "      <th>12</th>\n",
       "      <td>pl_eqt</td>\n",
       "      <td>0.000000</td>\n",
       "      <td>Positive</td>\n",
       "    </tr>\n",
       "    <tr>\n",
       "      <th>11</th>\n",
       "      <td>pl_insol</td>\n",
       "      <td>0.000000</td>\n",
       "      <td>Positive</td>\n",
       "    </tr>\n",
       "    <tr>\n",
       "      <th>3</th>\n",
       "      <td>pl_controv_flag</td>\n",
       "      <td>0.000000</td>\n",
       "      <td>Positive</td>\n",
       "    </tr>\n",
       "    <tr>\n",
       "      <th>26</th>\n",
       "      <td>sy_gaiamag</td>\n",
       "      <td>0.000000</td>\n",
       "      <td>Positive</td>\n",
       "    </tr>\n",
       "  </tbody>\n",
       "</table>\n",
       "</div>"
      ],
      "text/plain": [
       "            feature      coef     color\n",
       "22              dec  0.739307  Positive\n",
       "21               ra  0.209544  Positive\n",
       "5        pl_orbsmax  0.010379  Positive\n",
       "1           sy_pnum  0.006039  Positive\n",
       "23          sy_dist  0.005133  Positive\n",
       "2         disc_year  0.004575  Positive\n",
       "24          sy_vmag  0.004491  Positive\n",
       "7           pl_radj  0.003228  Positive\n",
       "18           st_met  0.003031  Positive\n",
       "17          st_mass  0.002623  Positive\n",
       "14        pl_ratdor  0.002194  Positive\n",
       "25          sy_kmag  0.001959  Positive\n",
       "4         pl_orbper  0.001709  Positive\n",
       "19           st_lum  0.001672  Positive\n",
       "6           pl_rade  0.001065  Positive\n",
       "0           sy_snum  0.001030  Positive\n",
       "8         pl_bmasse  0.000696  Positive\n",
       "9         pl_bmassj  0.000522  Positive\n",
       "10      pl_orbeccen  0.000510  Positive\n",
       "20          st_logg  0.000293  Positive\n",
       "13         ttv_flag  0.000000  Positive\n",
       "16           st_rad  0.000000  Positive\n",
       "15          st_teff  0.000000  Positive\n",
       "12           pl_eqt  0.000000  Positive\n",
       "11         pl_insol  0.000000  Positive\n",
       "3   pl_controv_flag  0.000000  Positive\n",
       "26       sy_gaiamag  0.000000  Positive"
      ]
     },
     "metadata": {},
     "output_type": "display_data"
    },
    {
     "data": {
      "application/vnd.plotly.v1+json": {
       "config": {
        "plotlyServerURL": "https://plot.ly"
       },
       "data": [
        {
         "alignmentgroup": "True",
         "hovertemplate": "color=Positive<br>coef=%{x}<br>feature=%{y}<extra></extra>",
         "legendgroup": "Positive",
         "marker": {
          "color": "#636efa",
          "pattern": {
           "shape": ""
          }
         },
         "name": "Positive",
         "offsetgroup": "Positive",
         "orientation": "h",
         "showlegend": true,
         "textposition": "auto",
         "type": "bar",
         "x": [
          0,
          0,
          0,
          0,
          0,
          0,
          0,
          0.0002928299418941142,
          0.000510374355569779,
          0.0005223453017570665,
          0.0006964604023427552,
          0.0010297211758355232,
          0.0010649359222509897,
          0.0016715049656226123,
          0.0017094937148413084,
          0.0019587948815889995,
          0.002193850267379679,
          0.002622862544733514,
          0.0030310059942106828,
          0.0032279074318124863,
          0.004491033534132884,
          0.004574846306477358,
          0.0051334691630662965,
          0.006038505149534566,
          0.010379179834702348,
          0.2095440670314052,
          0.7393068120808418
         ],
         "xaxis": "x",
         "y": [
          "ttv_flag",
          "st_rad",
          "st_teff",
          "pl_eqt",
          "pl_insol",
          "sy_gaiamag",
          "pl_controv_flag",
          "st_logg",
          "pl_orbeccen",
          "pl_bmassj",
          "pl_bmasse",
          "sy_snum",
          "pl_rade",
          "st_lum",
          "pl_orbper",
          "sy_kmag",
          "pl_ratdor",
          "st_mass",
          "st_met",
          "pl_radj",
          "sy_vmag",
          "disc_year",
          "sy_dist",
          "sy_pnum",
          "pl_orbsmax",
          "ra",
          "dec"
         ],
         "yaxis": "y"
        }
       ],
       "layout": {
        "barmode": "relative",
        "height": 600,
        "legend": {
         "title": {
          "text": "color"
         },
         "tracegroupgap": 0
        },
        "template": {
         "data": {
          "bar": [
           {
            "error_x": {
             "color": "#2a3f5f"
            },
            "error_y": {
             "color": "#2a3f5f"
            },
            "marker": {
             "line": {
              "color": "#E5ECF6",
              "width": 0.5
             },
             "pattern": {
              "fillmode": "overlay",
              "size": 10,
              "solidity": 0.2
             }
            },
            "type": "bar"
           }
          ],
          "barpolar": [
           {
            "marker": {
             "line": {
              "color": "#E5ECF6",
              "width": 0.5
             },
             "pattern": {
              "fillmode": "overlay",
              "size": 10,
              "solidity": 0.2
             }
            },
            "type": "barpolar"
           }
          ],
          "carpet": [
           {
            "aaxis": {
             "endlinecolor": "#2a3f5f",
             "gridcolor": "white",
             "linecolor": "white",
             "minorgridcolor": "white",
             "startlinecolor": "#2a3f5f"
            },
            "baxis": {
             "endlinecolor": "#2a3f5f",
             "gridcolor": "white",
             "linecolor": "white",
             "minorgridcolor": "white",
             "startlinecolor": "#2a3f5f"
            },
            "type": "carpet"
           }
          ],
          "choropleth": [
           {
            "colorbar": {
             "outlinewidth": 0,
             "ticks": ""
            },
            "type": "choropleth"
           }
          ],
          "contour": [
           {
            "colorbar": {
             "outlinewidth": 0,
             "ticks": ""
            },
            "colorscale": [
             [
              0,
              "#0d0887"
             ],
             [
              0.1111111111111111,
              "#46039f"
             ],
             [
              0.2222222222222222,
              "#7201a8"
             ],
             [
              0.3333333333333333,
              "#9c179e"
             ],
             [
              0.4444444444444444,
              "#bd3786"
             ],
             [
              0.5555555555555556,
              "#d8576b"
             ],
             [
              0.6666666666666666,
              "#ed7953"
             ],
             [
              0.7777777777777778,
              "#fb9f3a"
             ],
             [
              0.8888888888888888,
              "#fdca26"
             ],
             [
              1,
              "#f0f921"
             ]
            ],
            "type": "contour"
           }
          ],
          "contourcarpet": [
           {
            "colorbar": {
             "outlinewidth": 0,
             "ticks": ""
            },
            "type": "contourcarpet"
           }
          ],
          "heatmap": [
           {
            "colorbar": {
             "outlinewidth": 0,
             "ticks": ""
            },
            "colorscale": [
             [
              0,
              "#0d0887"
             ],
             [
              0.1111111111111111,
              "#46039f"
             ],
             [
              0.2222222222222222,
              "#7201a8"
             ],
             [
              0.3333333333333333,
              "#9c179e"
             ],
             [
              0.4444444444444444,
              "#bd3786"
             ],
             [
              0.5555555555555556,
              "#d8576b"
             ],
             [
              0.6666666666666666,
              "#ed7953"
             ],
             [
              0.7777777777777778,
              "#fb9f3a"
             ],
             [
              0.8888888888888888,
              "#fdca26"
             ],
             [
              1,
              "#f0f921"
             ]
            ],
            "type": "heatmap"
           }
          ],
          "heatmapgl": [
           {
            "colorbar": {
             "outlinewidth": 0,
             "ticks": ""
            },
            "colorscale": [
             [
              0,
              "#0d0887"
             ],
             [
              0.1111111111111111,
              "#46039f"
             ],
             [
              0.2222222222222222,
              "#7201a8"
             ],
             [
              0.3333333333333333,
              "#9c179e"
             ],
             [
              0.4444444444444444,
              "#bd3786"
             ],
             [
              0.5555555555555556,
              "#d8576b"
             ],
             [
              0.6666666666666666,
              "#ed7953"
             ],
             [
              0.7777777777777778,
              "#fb9f3a"
             ],
             [
              0.8888888888888888,
              "#fdca26"
             ],
             [
              1,
              "#f0f921"
             ]
            ],
            "type": "heatmapgl"
           }
          ],
          "histogram": [
           {
            "marker": {
             "pattern": {
              "fillmode": "overlay",
              "size": 10,
              "solidity": 0.2
             }
            },
            "type": "histogram"
           }
          ],
          "histogram2d": [
           {
            "colorbar": {
             "outlinewidth": 0,
             "ticks": ""
            },
            "colorscale": [
             [
              0,
              "#0d0887"
             ],
             [
              0.1111111111111111,
              "#46039f"
             ],
             [
              0.2222222222222222,
              "#7201a8"
             ],
             [
              0.3333333333333333,
              "#9c179e"
             ],
             [
              0.4444444444444444,
              "#bd3786"
             ],
             [
              0.5555555555555556,
              "#d8576b"
             ],
             [
              0.6666666666666666,
              "#ed7953"
             ],
             [
              0.7777777777777778,
              "#fb9f3a"
             ],
             [
              0.8888888888888888,
              "#fdca26"
             ],
             [
              1,
              "#f0f921"
             ]
            ],
            "type": "histogram2d"
           }
          ],
          "histogram2dcontour": [
           {
            "colorbar": {
             "outlinewidth": 0,
             "ticks": ""
            },
            "colorscale": [
             [
              0,
              "#0d0887"
             ],
             [
              0.1111111111111111,
              "#46039f"
             ],
             [
              0.2222222222222222,
              "#7201a8"
             ],
             [
              0.3333333333333333,
              "#9c179e"
             ],
             [
              0.4444444444444444,
              "#bd3786"
             ],
             [
              0.5555555555555556,
              "#d8576b"
             ],
             [
              0.6666666666666666,
              "#ed7953"
             ],
             [
              0.7777777777777778,
              "#fb9f3a"
             ],
             [
              0.8888888888888888,
              "#fdca26"
             ],
             [
              1,
              "#f0f921"
             ]
            ],
            "type": "histogram2dcontour"
           }
          ],
          "mesh3d": [
           {
            "colorbar": {
             "outlinewidth": 0,
             "ticks": ""
            },
            "type": "mesh3d"
           }
          ],
          "parcoords": [
           {
            "line": {
             "colorbar": {
              "outlinewidth": 0,
              "ticks": ""
             }
            },
            "type": "parcoords"
           }
          ],
          "pie": [
           {
            "automargin": true,
            "type": "pie"
           }
          ],
          "scatter": [
           {
            "fillpattern": {
             "fillmode": "overlay",
             "size": 10,
             "solidity": 0.2
            },
            "type": "scatter"
           }
          ],
          "scatter3d": [
           {
            "line": {
             "colorbar": {
              "outlinewidth": 0,
              "ticks": ""
             }
            },
            "marker": {
             "colorbar": {
              "outlinewidth": 0,
              "ticks": ""
             }
            },
            "type": "scatter3d"
           }
          ],
          "scattercarpet": [
           {
            "marker": {
             "colorbar": {
              "outlinewidth": 0,
              "ticks": ""
             }
            },
            "type": "scattercarpet"
           }
          ],
          "scattergeo": [
           {
            "marker": {
             "colorbar": {
              "outlinewidth": 0,
              "ticks": ""
             }
            },
            "type": "scattergeo"
           }
          ],
          "scattergl": [
           {
            "marker": {
             "colorbar": {
              "outlinewidth": 0,
              "ticks": ""
             }
            },
            "type": "scattergl"
           }
          ],
          "scattermapbox": [
           {
            "marker": {
             "colorbar": {
              "outlinewidth": 0,
              "ticks": ""
             }
            },
            "type": "scattermapbox"
           }
          ],
          "scatterpolar": [
           {
            "marker": {
             "colorbar": {
              "outlinewidth": 0,
              "ticks": ""
             }
            },
            "type": "scatterpolar"
           }
          ],
          "scatterpolargl": [
           {
            "marker": {
             "colorbar": {
              "outlinewidth": 0,
              "ticks": ""
             }
            },
            "type": "scatterpolargl"
           }
          ],
          "scatterternary": [
           {
            "marker": {
             "colorbar": {
              "outlinewidth": 0,
              "ticks": ""
             }
            },
            "type": "scatterternary"
           }
          ],
          "surface": [
           {
            "colorbar": {
             "outlinewidth": 0,
             "ticks": ""
            },
            "colorscale": [
             [
              0,
              "#0d0887"
             ],
             [
              0.1111111111111111,
              "#46039f"
             ],
             [
              0.2222222222222222,
              "#7201a8"
             ],
             [
              0.3333333333333333,
              "#9c179e"
             ],
             [
              0.4444444444444444,
              "#bd3786"
             ],
             [
              0.5555555555555556,
              "#d8576b"
             ],
             [
              0.6666666666666666,
              "#ed7953"
             ],
             [
              0.7777777777777778,
              "#fb9f3a"
             ],
             [
              0.8888888888888888,
              "#fdca26"
             ],
             [
              1,
              "#f0f921"
             ]
            ],
            "type": "surface"
           }
          ],
          "table": [
           {
            "cells": {
             "fill": {
              "color": "#EBF0F8"
             },
             "line": {
              "color": "white"
             }
            },
            "header": {
             "fill": {
              "color": "#C8D4E3"
             },
             "line": {
              "color": "white"
             }
            },
            "type": "table"
           }
          ]
         },
         "layout": {
          "annotationdefaults": {
           "arrowcolor": "#2a3f5f",
           "arrowhead": 0,
           "arrowwidth": 1
          },
          "autotypenumbers": "strict",
          "coloraxis": {
           "colorbar": {
            "outlinewidth": 0,
            "ticks": ""
           }
          },
          "colorscale": {
           "diverging": [
            [
             0,
             "#8e0152"
            ],
            [
             0.1,
             "#c51b7d"
            ],
            [
             0.2,
             "#de77ae"
            ],
            [
             0.3,
             "#f1b6da"
            ],
            [
             0.4,
             "#fde0ef"
            ],
            [
             0.5,
             "#f7f7f7"
            ],
            [
             0.6,
             "#e6f5d0"
            ],
            [
             0.7,
             "#b8e186"
            ],
            [
             0.8,
             "#7fbc41"
            ],
            [
             0.9,
             "#4d9221"
            ],
            [
             1,
             "#276419"
            ]
           ],
           "sequential": [
            [
             0,
             "#0d0887"
            ],
            [
             0.1111111111111111,
             "#46039f"
            ],
            [
             0.2222222222222222,
             "#7201a8"
            ],
            [
             0.3333333333333333,
             "#9c179e"
            ],
            [
             0.4444444444444444,
             "#bd3786"
            ],
            [
             0.5555555555555556,
             "#d8576b"
            ],
            [
             0.6666666666666666,
             "#ed7953"
            ],
            [
             0.7777777777777778,
             "#fb9f3a"
            ],
            [
             0.8888888888888888,
             "#fdca26"
            ],
            [
             1,
             "#f0f921"
            ]
           ],
           "sequentialminus": [
            [
             0,
             "#0d0887"
            ],
            [
             0.1111111111111111,
             "#46039f"
            ],
            [
             0.2222222222222222,
             "#7201a8"
            ],
            [
             0.3333333333333333,
             "#9c179e"
            ],
            [
             0.4444444444444444,
             "#bd3786"
            ],
            [
             0.5555555555555556,
             "#d8576b"
            ],
            [
             0.6666666666666666,
             "#ed7953"
            ],
            [
             0.7777777777777778,
             "#fb9f3a"
            ],
            [
             0.8888888888888888,
             "#fdca26"
            ],
            [
             1,
             "#f0f921"
            ]
           ]
          },
          "colorway": [
           "#636efa",
           "#EF553B",
           "#00cc96",
           "#ab63fa",
           "#FFA15A",
           "#19d3f3",
           "#FF6692",
           "#B6E880",
           "#FF97FF",
           "#FECB52"
          ],
          "font": {
           "color": "#2a3f5f"
          },
          "geo": {
           "bgcolor": "white",
           "lakecolor": "white",
           "landcolor": "#E5ECF6",
           "showlakes": true,
           "showland": true,
           "subunitcolor": "white"
          },
          "hoverlabel": {
           "align": "left"
          },
          "hovermode": "closest",
          "mapbox": {
           "style": "light"
          },
          "paper_bgcolor": "white",
          "plot_bgcolor": "#E5ECF6",
          "polar": {
           "angularaxis": {
            "gridcolor": "white",
            "linecolor": "white",
            "ticks": ""
           },
           "bgcolor": "#E5ECF6",
           "radialaxis": {
            "gridcolor": "white",
            "linecolor": "white",
            "ticks": ""
           }
          },
          "scene": {
           "xaxis": {
            "backgroundcolor": "#E5ECF6",
            "gridcolor": "white",
            "gridwidth": 2,
            "linecolor": "white",
            "showbackground": true,
            "ticks": "",
            "zerolinecolor": "white"
           },
           "yaxis": {
            "backgroundcolor": "#E5ECF6",
            "gridcolor": "white",
            "gridwidth": 2,
            "linecolor": "white",
            "showbackground": true,
            "ticks": "",
            "zerolinecolor": "white"
           },
           "zaxis": {
            "backgroundcolor": "#E5ECF6",
            "gridcolor": "white",
            "gridwidth": 2,
            "linecolor": "white",
            "showbackground": true,
            "ticks": "",
            "zerolinecolor": "white"
           }
          },
          "shapedefaults": {
           "line": {
            "color": "#2a3f5f"
           }
          },
          "ternary": {
           "aaxis": {
            "gridcolor": "white",
            "linecolor": "white",
            "ticks": ""
           },
           "baxis": {
            "gridcolor": "white",
            "linecolor": "white",
            "ticks": ""
           },
           "bgcolor": "#E5ECF6",
           "caxis": {
            "gridcolor": "white",
            "linecolor": "white",
            "ticks": ""
           }
          },
          "title": {
           "x": 0.05
          },
          "xaxis": {
           "automargin": true,
           "gridcolor": "white",
           "linecolor": "white",
           "ticks": "",
           "title": {
            "standoff": 15
           },
           "zerolinecolor": "white",
           "zerolinewidth": 2
          },
          "yaxis": {
           "automargin": true,
           "gridcolor": "white",
           "linecolor": "white",
           "ticks": "",
           "title": {
            "standoff": 15
           },
           "zerolinecolor": "white",
           "zerolinewidth": 2
          }
         }
        },
        "title": {
         "text": "Decision Tree Feature Importance for KOI Classification",
         "x": 0.5,
         "xanchor": "center",
         "y": 0.9,
         "yanchor": "top"
        },
        "xaxis": {
         "anchor": "y",
         "domain": [
          0,
          1
         ],
         "title": {
          "text": "coef"
         }
        },
        "yaxis": {
         "anchor": "x",
         "domain": [
          0,
          1
         ],
         "title": {
          "text": "feature"
         }
        }
       }
      }
     },
     "metadata": {},
     "output_type": "display_data"
    }
   ],
   "source": [
    "tree_model = DecisionTreeClassifier()\n",
    "tree_model.fit(X_train, y_train)\n",
    "tree_importance = list(zip(tree_model.feature_importances_, X_train.columns.tolist()))\n",
    "tree_y_hat = tree_model.predict(X_test)\n",
    "print(f\"Decision Tree Classifier Model score is: {accuracy_score(y_test, tree_y_hat)}\")\n",
    "\n",
    "tree_df = pd.DataFrame(columns=[\"feature\", \"coef\"])\n",
    "for ind, item in tree_importance:\n",
    "    tree_df.loc[len(tree_df)] = item, ind\n",
    "color = lambda row: \"Positive\" if row[\"coef\"] >= 0 else \"Negative\"\n",
    "tree_df[\"color\"] = tree_df.apply(color, axis=1)\n",
    "\n",
    "display(tree_df.sort_values(by=\"coef\", ascending=False))\n",
    "generate_h_bar_fig(tree_df.sort_values(by=\"coef\"), \"Decision Tree\")"
   ]
  },
  {
   "cell_type": "code",
   "execution_count": 133,
   "metadata": {},
   "outputs": [
    {
     "name": "stdout",
     "output_type": "stream",
     "text": [
      "Decision Tree Classifier Model score is: 0.9932967702620353\n"
     ]
    },
    {
     "data": {
      "application/vnd.plotly.v1+json": {
       "config": {
        "plotlyServerURL": "https://plot.ly"
       },
       "data": [
        {
         "alignmentgroup": "True",
         "hovertemplate": "color=Positive<br>coef=%{x}<br>feature=%{y}<extra></extra>",
         "legendgroup": "Positive",
         "marker": {
          "color": "#636efa",
          "pattern": {
           "shape": ""
          }
         },
         "name": "Positive",
         "offsetgroup": "Positive",
         "orientation": "h",
         "showlegend": true,
         "textposition": "auto",
         "type": "bar",
         "x": [
          0.00014354591366439094,
          0.0009976198800903788,
          0.002136166822643964,
          0.0026856256358263127,
          0.0031722559612734295,
          0.0036381448277258417,
          0.004080395330774585,
          0.004246222390717973,
          0.005418986785088508,
          0.005672625436091303,
          0.006141803518709463,
          0.007903097687155018,
          0.009764457563933134,
          0.012953200679414087,
          0.013310913700658879,
          0.016144841932103016,
          0.018341567036657992,
          0.026518240205250017,
          0.03063967337875733,
          0.03170519259338448,
          0.04021644449349068,
          0.05232970836361209,
          0.05928688547933702,
          0.07695338371275601,
          0.10347446595494464,
          0.22251096036787854,
          0.23961357434806083
         ],
         "xaxis": "x",
         "y": [
          "pl_controv_flag",
          "sy_snum",
          "ttv_flag",
          "st_logg",
          "st_met",
          "st_mass",
          "pl_orbper",
          "st_lum",
          "st_rad",
          "sy_pnum",
          "st_teff",
          "pl_orbsmax",
          "disc_year",
          "pl_bmassj",
          "pl_ratdor",
          "pl_orbeccen",
          "pl_bmasse",
          "pl_eqt",
          "pl_radj",
          "pl_rade",
          "sy_dist",
          "pl_insol",
          "sy_vmag",
          "sy_gaiamag",
          "sy_kmag",
          "ra",
          "dec"
         ],
         "yaxis": "y"
        }
       ],
       "layout": {
        "barmode": "relative",
        "height": 600,
        "legend": {
         "title": {
          "text": "color"
         },
         "tracegroupgap": 0
        },
        "template": {
         "data": {
          "bar": [
           {
            "error_x": {
             "color": "#2a3f5f"
            },
            "error_y": {
             "color": "#2a3f5f"
            },
            "marker": {
             "line": {
              "color": "#E5ECF6",
              "width": 0.5
             },
             "pattern": {
              "fillmode": "overlay",
              "size": 10,
              "solidity": 0.2
             }
            },
            "type": "bar"
           }
          ],
          "barpolar": [
           {
            "marker": {
             "line": {
              "color": "#E5ECF6",
              "width": 0.5
             },
             "pattern": {
              "fillmode": "overlay",
              "size": 10,
              "solidity": 0.2
             }
            },
            "type": "barpolar"
           }
          ],
          "carpet": [
           {
            "aaxis": {
             "endlinecolor": "#2a3f5f",
             "gridcolor": "white",
             "linecolor": "white",
             "minorgridcolor": "white",
             "startlinecolor": "#2a3f5f"
            },
            "baxis": {
             "endlinecolor": "#2a3f5f",
             "gridcolor": "white",
             "linecolor": "white",
             "minorgridcolor": "white",
             "startlinecolor": "#2a3f5f"
            },
            "type": "carpet"
           }
          ],
          "choropleth": [
           {
            "colorbar": {
             "outlinewidth": 0,
             "ticks": ""
            },
            "type": "choropleth"
           }
          ],
          "contour": [
           {
            "colorbar": {
             "outlinewidth": 0,
             "ticks": ""
            },
            "colorscale": [
             [
              0,
              "#0d0887"
             ],
             [
              0.1111111111111111,
              "#46039f"
             ],
             [
              0.2222222222222222,
              "#7201a8"
             ],
             [
              0.3333333333333333,
              "#9c179e"
             ],
             [
              0.4444444444444444,
              "#bd3786"
             ],
             [
              0.5555555555555556,
              "#d8576b"
             ],
             [
              0.6666666666666666,
              "#ed7953"
             ],
             [
              0.7777777777777778,
              "#fb9f3a"
             ],
             [
              0.8888888888888888,
              "#fdca26"
             ],
             [
              1,
              "#f0f921"
             ]
            ],
            "type": "contour"
           }
          ],
          "contourcarpet": [
           {
            "colorbar": {
             "outlinewidth": 0,
             "ticks": ""
            },
            "type": "contourcarpet"
           }
          ],
          "heatmap": [
           {
            "colorbar": {
             "outlinewidth": 0,
             "ticks": ""
            },
            "colorscale": [
             [
              0,
              "#0d0887"
             ],
             [
              0.1111111111111111,
              "#46039f"
             ],
             [
              0.2222222222222222,
              "#7201a8"
             ],
             [
              0.3333333333333333,
              "#9c179e"
             ],
             [
              0.4444444444444444,
              "#bd3786"
             ],
             [
              0.5555555555555556,
              "#d8576b"
             ],
             [
              0.6666666666666666,
              "#ed7953"
             ],
             [
              0.7777777777777778,
              "#fb9f3a"
             ],
             [
              0.8888888888888888,
              "#fdca26"
             ],
             [
              1,
              "#f0f921"
             ]
            ],
            "type": "heatmap"
           }
          ],
          "heatmapgl": [
           {
            "colorbar": {
             "outlinewidth": 0,
             "ticks": ""
            },
            "colorscale": [
             [
              0,
              "#0d0887"
             ],
             [
              0.1111111111111111,
              "#46039f"
             ],
             [
              0.2222222222222222,
              "#7201a8"
             ],
             [
              0.3333333333333333,
              "#9c179e"
             ],
             [
              0.4444444444444444,
              "#bd3786"
             ],
             [
              0.5555555555555556,
              "#d8576b"
             ],
             [
              0.6666666666666666,
              "#ed7953"
             ],
             [
              0.7777777777777778,
              "#fb9f3a"
             ],
             [
              0.8888888888888888,
              "#fdca26"
             ],
             [
              1,
              "#f0f921"
             ]
            ],
            "type": "heatmapgl"
           }
          ],
          "histogram": [
           {
            "marker": {
             "pattern": {
              "fillmode": "overlay",
              "size": 10,
              "solidity": 0.2
             }
            },
            "type": "histogram"
           }
          ],
          "histogram2d": [
           {
            "colorbar": {
             "outlinewidth": 0,
             "ticks": ""
            },
            "colorscale": [
             [
              0,
              "#0d0887"
             ],
             [
              0.1111111111111111,
              "#46039f"
             ],
             [
              0.2222222222222222,
              "#7201a8"
             ],
             [
              0.3333333333333333,
              "#9c179e"
             ],
             [
              0.4444444444444444,
              "#bd3786"
             ],
             [
              0.5555555555555556,
              "#d8576b"
             ],
             [
              0.6666666666666666,
              "#ed7953"
             ],
             [
              0.7777777777777778,
              "#fb9f3a"
             ],
             [
              0.8888888888888888,
              "#fdca26"
             ],
             [
              1,
              "#f0f921"
             ]
            ],
            "type": "histogram2d"
           }
          ],
          "histogram2dcontour": [
           {
            "colorbar": {
             "outlinewidth": 0,
             "ticks": ""
            },
            "colorscale": [
             [
              0,
              "#0d0887"
             ],
             [
              0.1111111111111111,
              "#46039f"
             ],
             [
              0.2222222222222222,
              "#7201a8"
             ],
             [
              0.3333333333333333,
              "#9c179e"
             ],
             [
              0.4444444444444444,
              "#bd3786"
             ],
             [
              0.5555555555555556,
              "#d8576b"
             ],
             [
              0.6666666666666666,
              "#ed7953"
             ],
             [
              0.7777777777777778,
              "#fb9f3a"
             ],
             [
              0.8888888888888888,
              "#fdca26"
             ],
             [
              1,
              "#f0f921"
             ]
            ],
            "type": "histogram2dcontour"
           }
          ],
          "mesh3d": [
           {
            "colorbar": {
             "outlinewidth": 0,
             "ticks": ""
            },
            "type": "mesh3d"
           }
          ],
          "parcoords": [
           {
            "line": {
             "colorbar": {
              "outlinewidth": 0,
              "ticks": ""
             }
            },
            "type": "parcoords"
           }
          ],
          "pie": [
           {
            "automargin": true,
            "type": "pie"
           }
          ],
          "scatter": [
           {
            "fillpattern": {
             "fillmode": "overlay",
             "size": 10,
             "solidity": 0.2
            },
            "type": "scatter"
           }
          ],
          "scatter3d": [
           {
            "line": {
             "colorbar": {
              "outlinewidth": 0,
              "ticks": ""
             }
            },
            "marker": {
             "colorbar": {
              "outlinewidth": 0,
              "ticks": ""
             }
            },
            "type": "scatter3d"
           }
          ],
          "scattercarpet": [
           {
            "marker": {
             "colorbar": {
              "outlinewidth": 0,
              "ticks": ""
             }
            },
            "type": "scattercarpet"
           }
          ],
          "scattergeo": [
           {
            "marker": {
             "colorbar": {
              "outlinewidth": 0,
              "ticks": ""
             }
            },
            "type": "scattergeo"
           }
          ],
          "scattergl": [
           {
            "marker": {
             "colorbar": {
              "outlinewidth": 0,
              "ticks": ""
             }
            },
            "type": "scattergl"
           }
          ],
          "scattermapbox": [
           {
            "marker": {
             "colorbar": {
              "outlinewidth": 0,
              "ticks": ""
             }
            },
            "type": "scattermapbox"
           }
          ],
          "scatterpolar": [
           {
            "marker": {
             "colorbar": {
              "outlinewidth": 0,
              "ticks": ""
             }
            },
            "type": "scatterpolar"
           }
          ],
          "scatterpolargl": [
           {
            "marker": {
             "colorbar": {
              "outlinewidth": 0,
              "ticks": ""
             }
            },
            "type": "scatterpolargl"
           }
          ],
          "scatterternary": [
           {
            "marker": {
             "colorbar": {
              "outlinewidth": 0,
              "ticks": ""
             }
            },
            "type": "scatterternary"
           }
          ],
          "surface": [
           {
            "colorbar": {
             "outlinewidth": 0,
             "ticks": ""
            },
            "colorscale": [
             [
              0,
              "#0d0887"
             ],
             [
              0.1111111111111111,
              "#46039f"
             ],
             [
              0.2222222222222222,
              "#7201a8"
             ],
             [
              0.3333333333333333,
              "#9c179e"
             ],
             [
              0.4444444444444444,
              "#bd3786"
             ],
             [
              0.5555555555555556,
              "#d8576b"
             ],
             [
              0.6666666666666666,
              "#ed7953"
             ],
             [
              0.7777777777777778,
              "#fb9f3a"
             ],
             [
              0.8888888888888888,
              "#fdca26"
             ],
             [
              1,
              "#f0f921"
             ]
            ],
            "type": "surface"
           }
          ],
          "table": [
           {
            "cells": {
             "fill": {
              "color": "#EBF0F8"
             },
             "line": {
              "color": "white"
             }
            },
            "header": {
             "fill": {
              "color": "#C8D4E3"
             },
             "line": {
              "color": "white"
             }
            },
            "type": "table"
           }
          ]
         },
         "layout": {
          "annotationdefaults": {
           "arrowcolor": "#2a3f5f",
           "arrowhead": 0,
           "arrowwidth": 1
          },
          "autotypenumbers": "strict",
          "coloraxis": {
           "colorbar": {
            "outlinewidth": 0,
            "ticks": ""
           }
          },
          "colorscale": {
           "diverging": [
            [
             0,
             "#8e0152"
            ],
            [
             0.1,
             "#c51b7d"
            ],
            [
             0.2,
             "#de77ae"
            ],
            [
             0.3,
             "#f1b6da"
            ],
            [
             0.4,
             "#fde0ef"
            ],
            [
             0.5,
             "#f7f7f7"
            ],
            [
             0.6,
             "#e6f5d0"
            ],
            [
             0.7,
             "#b8e186"
            ],
            [
             0.8,
             "#7fbc41"
            ],
            [
             0.9,
             "#4d9221"
            ],
            [
             1,
             "#276419"
            ]
           ],
           "sequential": [
            [
             0,
             "#0d0887"
            ],
            [
             0.1111111111111111,
             "#46039f"
            ],
            [
             0.2222222222222222,
             "#7201a8"
            ],
            [
             0.3333333333333333,
             "#9c179e"
            ],
            [
             0.4444444444444444,
             "#bd3786"
            ],
            [
             0.5555555555555556,
             "#d8576b"
            ],
            [
             0.6666666666666666,
             "#ed7953"
            ],
            [
             0.7777777777777778,
             "#fb9f3a"
            ],
            [
             0.8888888888888888,
             "#fdca26"
            ],
            [
             1,
             "#f0f921"
            ]
           ],
           "sequentialminus": [
            [
             0,
             "#0d0887"
            ],
            [
             0.1111111111111111,
             "#46039f"
            ],
            [
             0.2222222222222222,
             "#7201a8"
            ],
            [
             0.3333333333333333,
             "#9c179e"
            ],
            [
             0.4444444444444444,
             "#bd3786"
            ],
            [
             0.5555555555555556,
             "#d8576b"
            ],
            [
             0.6666666666666666,
             "#ed7953"
            ],
            [
             0.7777777777777778,
             "#fb9f3a"
            ],
            [
             0.8888888888888888,
             "#fdca26"
            ],
            [
             1,
             "#f0f921"
            ]
           ]
          },
          "colorway": [
           "#636efa",
           "#EF553B",
           "#00cc96",
           "#ab63fa",
           "#FFA15A",
           "#19d3f3",
           "#FF6692",
           "#B6E880",
           "#FF97FF",
           "#FECB52"
          ],
          "font": {
           "color": "#2a3f5f"
          },
          "geo": {
           "bgcolor": "white",
           "lakecolor": "white",
           "landcolor": "#E5ECF6",
           "showlakes": true,
           "showland": true,
           "subunitcolor": "white"
          },
          "hoverlabel": {
           "align": "left"
          },
          "hovermode": "closest",
          "mapbox": {
           "style": "light"
          },
          "paper_bgcolor": "white",
          "plot_bgcolor": "#E5ECF6",
          "polar": {
           "angularaxis": {
            "gridcolor": "white",
            "linecolor": "white",
            "ticks": ""
           },
           "bgcolor": "#E5ECF6",
           "radialaxis": {
            "gridcolor": "white",
            "linecolor": "white",
            "ticks": ""
           }
          },
          "scene": {
           "xaxis": {
            "backgroundcolor": "#E5ECF6",
            "gridcolor": "white",
            "gridwidth": 2,
            "linecolor": "white",
            "showbackground": true,
            "ticks": "",
            "zerolinecolor": "white"
           },
           "yaxis": {
            "backgroundcolor": "#E5ECF6",
            "gridcolor": "white",
            "gridwidth": 2,
            "linecolor": "white",
            "showbackground": true,
            "ticks": "",
            "zerolinecolor": "white"
           },
           "zaxis": {
            "backgroundcolor": "#E5ECF6",
            "gridcolor": "white",
            "gridwidth": 2,
            "linecolor": "white",
            "showbackground": true,
            "ticks": "",
            "zerolinecolor": "white"
           }
          },
          "shapedefaults": {
           "line": {
            "color": "#2a3f5f"
           }
          },
          "ternary": {
           "aaxis": {
            "gridcolor": "white",
            "linecolor": "white",
            "ticks": ""
           },
           "baxis": {
            "gridcolor": "white",
            "linecolor": "white",
            "ticks": ""
           },
           "bgcolor": "#E5ECF6",
           "caxis": {
            "gridcolor": "white",
            "linecolor": "white",
            "ticks": ""
           }
          },
          "title": {
           "x": 0.05
          },
          "xaxis": {
           "automargin": true,
           "gridcolor": "white",
           "linecolor": "white",
           "ticks": "",
           "title": {
            "standoff": 15
           },
           "zerolinecolor": "white",
           "zerolinewidth": 2
          },
          "yaxis": {
           "automargin": true,
           "gridcolor": "white",
           "linecolor": "white",
           "ticks": "",
           "title": {
            "standoff": 15
           },
           "zerolinecolor": "white",
           "zerolinewidth": 2
          }
         }
        },
        "title": {
         "text": "Random Forest Classifier Feature Importance for KOI Classification",
         "x": 0.5,
         "xanchor": "center",
         "y": 0.9,
         "yanchor": "top"
        },
        "xaxis": {
         "anchor": "y",
         "domain": [
          0,
          1
         ],
         "title": {
          "text": "coef"
         }
        },
        "yaxis": {
         "anchor": "x",
         "domain": [
          0,
          1
         ],
         "title": {
          "text": "feature"
         }
        }
       }
      }
     },
     "metadata": {},
     "output_type": "display_data"
    }
   ],
   "source": [
    "r_tree_model = RandomForestClassifier()\n",
    "r_tree_model.fit(X_train, y_train)\n",
    "r_tree_importance = list(zip(r_tree_model.feature_importances_, X_train.columns.tolist()))\n",
    "r_tree_y_hat = r_tree_model.predict(X_test)\n",
    "print(f\"Decision Tree Classifier Model score is: {accuracy_score(y_test, r_tree_y_hat)}\")\n",
    "\n",
    "r_tree_df = pd.DataFrame(columns=[\"feature\", \"coef\"])\n",
    "for ind, item in r_tree_importance:\n",
    "    r_tree_df.loc[len(r_tree_df)] = item, ind\n",
    "color = lambda row: \"Positive\" if row[\"coef\"] >= 0 else \"Negative\"\n",
    "r_tree_df[\"color\"] = r_tree_df.apply(color, axis=1)\n",
    "\n",
    "r_tree_df.sort_values(by=\"coef\", ascending=False)\n",
    "generate_h_bar_fig(r_tree_df.sort_values(by=\"coef\"), \"Random Forest Classifier\")"
   ]
  },
  {
   "cell_type": "markdown",
   "metadata": {},
   "source": [
    "## 3. Define Habitable Zone\n",
    "![formula](data/hz_formula_with_e.png)\n",
    "- Source: https://www.planetarybiology.com/calculating_habitable_zone.html"
   ]
  },
  {
   "cell_type": "markdown",
   "metadata": {},
   "source": [
    "#### Based on Stellar Luminosity and Radius"
   ]
  },
  {
   "cell_type": "code",
   "execution_count": 96,
   "metadata": {},
   "outputs": [
    {
     "data": {
      "text/html": [
       "<div>\n",
       "<style scoped>\n",
       "    .dataframe tbody tr th:only-of-type {\n",
       "        vertical-align: middle;\n",
       "    }\n",
       "\n",
       "    .dataframe tbody tr th {\n",
       "        vertical-align: top;\n",
       "    }\n",
       "\n",
       "    .dataframe thead th {\n",
       "        text-align: right;\n",
       "    }\n",
       "</style>\n",
       "<table border=\"1\" class=\"dataframe\">\n",
       "  <thead>\n",
       "    <tr style=\"text-align: right;\">\n",
       "      <th></th>\n",
       "      <th>0</th>\n",
       "    </tr>\n",
       "    <tr>\n",
       "      <th>habitability</th>\n",
       "      <th></th>\n",
       "    </tr>\n",
       "  </thead>\n",
       "  <tbody>\n",
       "    <tr>\n",
       "      <th>False</th>\n",
       "      <td>5224</td>\n",
       "    </tr>\n",
       "    <tr>\n",
       "      <th>True</th>\n",
       "      <td>246</td>\n",
       "    </tr>\n",
       "  </tbody>\n",
       "</table>\n",
       "</div>"
      ],
      "text/plain": [
       "                 0\n",
       "habitability      \n",
       "False         5224\n",
       "True           246"
      ]
     },
     "metadata": {},
     "output_type": "display_data"
    },
    {
     "data": {
      "text/html": [
       "<div>\n",
       "<style scoped>\n",
       "    .dataframe tbody tr th:only-of-type {\n",
       "        vertical-align: middle;\n",
       "    }\n",
       "\n",
       "    .dataframe tbody tr th {\n",
       "        vertical-align: top;\n",
       "    }\n",
       "\n",
       "    .dataframe thead th {\n",
       "        text-align: right;\n",
       "    }\n",
       "</style>\n",
       "<table border=\"1\" class=\"dataframe\">\n",
       "  <thead>\n",
       "    <tr style=\"text-align: right;\">\n",
       "      <th></th>\n",
       "      <th>pl_name</th>\n",
       "      <th>hostname</th>\n",
       "      <th>sy_snum</th>\n",
       "      <th>sy_pnum</th>\n",
       "      <th>discoverymethod</th>\n",
       "      <th>disc_year</th>\n",
       "      <th>disc_facility</th>\n",
       "      <th>pl_controv_flag</th>\n",
       "      <th>pl_orbper</th>\n",
       "      <th>pl_orbsmax</th>\n",
       "      <th>...</th>\n",
       "      <th>sy_dist</th>\n",
       "      <th>sy_vmag</th>\n",
       "      <th>sy_kmag</th>\n",
       "      <th>sy_gaiamag</th>\n",
       "      <th>generalized_spectype</th>\n",
       "      <th>rad_classification</th>\n",
       "      <th>koi_classification</th>\n",
       "      <th>r_inner</th>\n",
       "      <th>r_outer</th>\n",
       "      <th>habitability</th>\n",
       "    </tr>\n",
       "  </thead>\n",
       "  <tbody>\n",
       "    <tr>\n",
       "      <th>0</th>\n",
       "      <td>11 Com b</td>\n",
       "      <td>11 Com</td>\n",
       "      <td>2</td>\n",
       "      <td>1</td>\n",
       "      <td>Radial Velocity</td>\n",
       "      <td>2007</td>\n",
       "      <td>Xinglong Station</td>\n",
       "      <td>0</td>\n",
       "      <td>326.03000</td>\n",
       "      <td>1.290</td>\n",
       "      <td>...</td>\n",
       "      <td>93.1846</td>\n",
       "      <td>4.72307</td>\n",
       "      <td>2.282</td>\n",
       "      <td>4.44038</td>\n",
       "      <td>G</td>\n",
       "      <td>Undefined</td>\n",
       "      <td>Exoplanet</td>\n",
       "      <td>33.530674</td>\n",
       "      <td>48.305957</td>\n",
       "      <td>False</td>\n",
       "    </tr>\n",
       "    <tr>\n",
       "      <th>1</th>\n",
       "      <td>11 UMi b</td>\n",
       "      <td>11 UMi</td>\n",
       "      <td>1</td>\n",
       "      <td>1</td>\n",
       "      <td>Radial Velocity</td>\n",
       "      <td>2009</td>\n",
       "      <td>Thueringer Landessternwarte Tautenburg</td>\n",
       "      <td>0</td>\n",
       "      <td>516.21997</td>\n",
       "      <td>1.530</td>\n",
       "      <td>...</td>\n",
       "      <td>125.3210</td>\n",
       "      <td>5.01300</td>\n",
       "      <td>1.939</td>\n",
       "      <td>4.56216</td>\n",
       "      <td>K</td>\n",
       "      <td>Undefined</td>\n",
       "      <td>Exoplanet</td>\n",
       "      <td>34.900430</td>\n",
       "      <td>50.279296</td>\n",
       "      <td>False</td>\n",
       "    </tr>\n",
       "    <tr>\n",
       "      <th>2</th>\n",
       "      <td>14 And b</td>\n",
       "      <td>14 And</td>\n",
       "      <td>1</td>\n",
       "      <td>1</td>\n",
       "      <td>Radial Velocity</td>\n",
       "      <td>2008</td>\n",
       "      <td>Okayama Astrophysical Observatory</td>\n",
       "      <td>0</td>\n",
       "      <td>185.84000</td>\n",
       "      <td>0.830</td>\n",
       "      <td>...</td>\n",
       "      <td>75.4392</td>\n",
       "      <td>5.23133</td>\n",
       "      <td>2.331</td>\n",
       "      <td>4.91781</td>\n",
       "      <td>K</td>\n",
       "      <td>Undefined</td>\n",
       "      <td>Exoplanet</td>\n",
       "      <td>29.727186</td>\n",
       "      <td>42.826463</td>\n",
       "      <td>False</td>\n",
       "    </tr>\n",
       "    <tr>\n",
       "      <th>3</th>\n",
       "      <td>14 Her b</td>\n",
       "      <td>14 Her</td>\n",
       "      <td>1</td>\n",
       "      <td>2</td>\n",
       "      <td>Radial Velocity</td>\n",
       "      <td>2002</td>\n",
       "      <td>W. M. Keck Observatory</td>\n",
       "      <td>0</td>\n",
       "      <td>1765.03890</td>\n",
       "      <td>2.774</td>\n",
       "      <td>...</td>\n",
       "      <td>17.9323</td>\n",
       "      <td>6.61935</td>\n",
       "      <td>4.714</td>\n",
       "      <td>6.38300</td>\n",
       "      <td>K</td>\n",
       "      <td>Undefined</td>\n",
       "      <td>Exoplanet</td>\n",
       "      <td>NaN</td>\n",
       "      <td>NaN</td>\n",
       "      <td>False</td>\n",
       "    </tr>\n",
       "    <tr>\n",
       "      <th>4</th>\n",
       "      <td>16 Cyg B b</td>\n",
       "      <td>16 Cyg B</td>\n",
       "      <td>3</td>\n",
       "      <td>1</td>\n",
       "      <td>Radial Velocity</td>\n",
       "      <td>1996</td>\n",
       "      <td>Multiple Observatories</td>\n",
       "      <td>0</td>\n",
       "      <td>798.50000</td>\n",
       "      <td>1.660</td>\n",
       "      <td>...</td>\n",
       "      <td>21.1397</td>\n",
       "      <td>6.21500</td>\n",
       "      <td>4.651</td>\n",
       "      <td>6.06428</td>\n",
       "      <td>G</td>\n",
       "      <td>Undefined</td>\n",
       "      <td>Exoplanet</td>\n",
       "      <td>6.972901</td>\n",
       "      <td>10.045508</td>\n",
       "      <td>False</td>\n",
       "    </tr>\n",
       "  </tbody>\n",
       "</table>\n",
       "<p>5 rows × 42 columns</p>\n",
       "</div>"
      ],
      "text/plain": [
       "      pl_name  hostname  sy_snum  sy_pnum  discoverymethod  disc_year  \\\n",
       "0    11 Com b    11 Com        2        1  Radial Velocity       2007   \n",
       "1    11 UMi b    11 UMi        1        1  Radial Velocity       2009   \n",
       "2    14 And b    14 And        1        1  Radial Velocity       2008   \n",
       "3    14 Her b    14 Her        1        2  Radial Velocity       2002   \n",
       "4  16 Cyg B b  16 Cyg B        3        1  Radial Velocity       1996   \n",
       "\n",
       "                            disc_facility  pl_controv_flag   pl_orbper  \\\n",
       "0                        Xinglong Station                0   326.03000   \n",
       "1  Thueringer Landessternwarte Tautenburg                0   516.21997   \n",
       "2       Okayama Astrophysical Observatory                0   185.84000   \n",
       "3                  W. M. Keck Observatory                0  1765.03890   \n",
       "4                  Multiple Observatories                0   798.50000   \n",
       "\n",
       "   pl_orbsmax  ...   sy_dist  sy_vmag  sy_kmag  sy_gaiamag  \\\n",
       "0       1.290  ...   93.1846  4.72307    2.282     4.44038   \n",
       "1       1.530  ...  125.3210  5.01300    1.939     4.56216   \n",
       "2       0.830  ...   75.4392  5.23133    2.331     4.91781   \n",
       "3       2.774  ...   17.9323  6.61935    4.714     6.38300   \n",
       "4       1.660  ...   21.1397  6.21500    4.651     6.06428   \n",
       "\n",
       "  generalized_spectype  rad_classification  koi_classification    r_inner  \\\n",
       "0                    G           Undefined           Exoplanet  33.530674   \n",
       "1                    K           Undefined           Exoplanet  34.900430   \n",
       "2                    K           Undefined           Exoplanet  29.727186   \n",
       "3                    K           Undefined           Exoplanet        NaN   \n",
       "4                    G           Undefined           Exoplanet   6.972901   \n",
       "\n",
       "     r_outer  habitability  \n",
       "0  48.305957         False  \n",
       "1  50.279296         False  \n",
       "2  42.826463         False  \n",
       "3        NaN         False  \n",
       "4  10.045508         False  \n",
       "\n",
       "[5 rows x 42 columns]"
      ]
     },
     "execution_count": 96,
     "metadata": {},
     "output_type": "execute_result"
    }
   ],
   "source": [
    "solar_lum = np.log(3.828 * (10 ** 26))\n",
    "earth_rad = 6371000\n",
    "\n",
    "def revert_to_km_rade(value):\n",
    "    km_converted = value * 1.496 * (10 ** 8)\n",
    "    earth_converted = km_converted / earth_rad\n",
    "    return earth_converted\n",
    "\n",
    "def calculate_lum(df):\n",
    "    df[\"r_inner\"] = revert_to_km_rade((df[\"st_lum\"] / 1.1) ** (1/2))\n",
    "    df[\"r_outer\"] = revert_to_km_rade((df[\"st_lum\"] / 0.53) ** (1/2))\n",
    "    return df\n",
    "\n",
    "def identify_habitability(rade, r_inner, r_outer):\n",
    "    return True if (rade > r_inner) & (rade < r_outer) else False\n",
    "\n",
    "exo = calculate_lum(exo)\n",
    "exo[\"habitability\"] = exo.apply(lambda row: identify_habitability(row.pl_rade, row.r_inner, row.r_outer), axis=1)\n",
    "display(exo.groupby([\"habitability\"]).size().to_frame())\n",
    "exo.head()"
   ]
  },
  {
   "cell_type": "code",
   "execution_count": 100,
   "metadata": {},
   "outputs": [
    {
     "name": "stdout",
     "output_type": "stream",
     "text": [
      "(34923, 44)\n"
     ]
    },
    {
     "data": {
      "text/html": [
       "<div>\n",
       "<style scoped>\n",
       "    .dataframe tbody tr th:only-of-type {\n",
       "        vertical-align: middle;\n",
       "    }\n",
       "\n",
       "    .dataframe tbody tr th {\n",
       "        vertical-align: top;\n",
       "    }\n",
       "\n",
       "    .dataframe thead th {\n",
       "        text-align: right;\n",
       "    }\n",
       "</style>\n",
       "<table border=\"1\" class=\"dataframe\">\n",
       "  <thead>\n",
       "    <tr style=\"text-align: right;\">\n",
       "      <th></th>\n",
       "      <th>pl_name</th>\n",
       "      <th>hostname</th>\n",
       "      <th>sy_snum</th>\n",
       "      <th>sy_pnum</th>\n",
       "      <th>discoverymethod</th>\n",
       "      <th>disc_year</th>\n",
       "      <th>disc_facility</th>\n",
       "      <th>pl_controv_flag</th>\n",
       "      <th>pl_orbper</th>\n",
       "      <th>pl_orbsmax</th>\n",
       "      <th>...</th>\n",
       "      <th>sy_kmag</th>\n",
       "      <th>sy_gaiamag</th>\n",
       "      <th>generalized_spectype</th>\n",
       "      <th>rad_classification</th>\n",
       "      <th>koi_classification</th>\n",
       "      <th>r_inner</th>\n",
       "      <th>r_outer</th>\n",
       "      <th>habitability</th>\n",
       "      <th>pl_msinie</th>\n",
       "      <th>pl_masse</th>\n",
       "    </tr>\n",
       "  </thead>\n",
       "  <tbody>\n",
       "    <tr>\n",
       "      <th>0</th>\n",
       "      <td>11 Com b</td>\n",
       "      <td>11 Com</td>\n",
       "      <td>2</td>\n",
       "      <td>1</td>\n",
       "      <td>Radial Velocity</td>\n",
       "      <td>2007</td>\n",
       "      <td>Xinglong Station</td>\n",
       "      <td>0</td>\n",
       "      <td>326.03000</td>\n",
       "      <td>1.29</td>\n",
       "      <td>...</td>\n",
       "      <td>2.282</td>\n",
       "      <td>4.44038</td>\n",
       "      <td>G</td>\n",
       "      <td>Undefined</td>\n",
       "      <td>Exoplanet</td>\n",
       "      <td>33.530674</td>\n",
       "      <td>48.305957</td>\n",
       "      <td>False</td>\n",
       "      <td>5434.7000</td>\n",
       "      <td>NaN</td>\n",
       "    </tr>\n",
       "    <tr>\n",
       "      <th>1</th>\n",
       "      <td>11 Com b</td>\n",
       "      <td>11 Com</td>\n",
       "      <td>2</td>\n",
       "      <td>1</td>\n",
       "      <td>Radial Velocity</td>\n",
       "      <td>2007</td>\n",
       "      <td>Xinglong Station</td>\n",
       "      <td>0</td>\n",
       "      <td>326.03000</td>\n",
       "      <td>1.29</td>\n",
       "      <td>...</td>\n",
       "      <td>2.282</td>\n",
       "      <td>4.44038</td>\n",
       "      <td>G</td>\n",
       "      <td>Undefined</td>\n",
       "      <td>Exoplanet</td>\n",
       "      <td>33.530674</td>\n",
       "      <td>48.305957</td>\n",
       "      <td>False</td>\n",
       "      <td>6165.6000</td>\n",
       "      <td>NaN</td>\n",
       "    </tr>\n",
       "    <tr>\n",
       "      <th>2</th>\n",
       "      <td>11 UMi b</td>\n",
       "      <td>11 UMi</td>\n",
       "      <td>1</td>\n",
       "      <td>1</td>\n",
       "      <td>Radial Velocity</td>\n",
       "      <td>2009</td>\n",
       "      <td>Thueringer Landessternwarte Tautenburg</td>\n",
       "      <td>0</td>\n",
       "      <td>516.21997</td>\n",
       "      <td>1.53</td>\n",
       "      <td>...</td>\n",
       "      <td>1.939</td>\n",
       "      <td>4.56216</td>\n",
       "      <td>K</td>\n",
       "      <td>Undefined</td>\n",
       "      <td>Exoplanet</td>\n",
       "      <td>34.900430</td>\n",
       "      <td>50.279296</td>\n",
       "      <td>False</td>\n",
       "      <td>3432.4000</td>\n",
       "      <td>NaN</td>\n",
       "    </tr>\n",
       "    <tr>\n",
       "      <th>3</th>\n",
       "      <td>11 UMi b</td>\n",
       "      <td>11 UMi</td>\n",
       "      <td>1</td>\n",
       "      <td>1</td>\n",
       "      <td>Radial Velocity</td>\n",
       "      <td>2009</td>\n",
       "      <td>Thueringer Landessternwarte Tautenburg</td>\n",
       "      <td>0</td>\n",
       "      <td>516.21997</td>\n",
       "      <td>1.53</td>\n",
       "      <td>...</td>\n",
       "      <td>1.939</td>\n",
       "      <td>4.56216</td>\n",
       "      <td>K</td>\n",
       "      <td>Undefined</td>\n",
       "      <td>Exoplanet</td>\n",
       "      <td>34.900430</td>\n",
       "      <td>50.279296</td>\n",
       "      <td>False</td>\n",
       "      <td>4684.8142</td>\n",
       "      <td>NaN</td>\n",
       "    </tr>\n",
       "    <tr>\n",
       "      <th>4</th>\n",
       "      <td>11 UMi b</td>\n",
       "      <td>11 UMi</td>\n",
       "      <td>1</td>\n",
       "      <td>1</td>\n",
       "      <td>Radial Velocity</td>\n",
       "      <td>2009</td>\n",
       "      <td>Thueringer Landessternwarte Tautenburg</td>\n",
       "      <td>0</td>\n",
       "      <td>516.21997</td>\n",
       "      <td>1.53</td>\n",
       "      <td>...</td>\n",
       "      <td>1.939</td>\n",
       "      <td>4.56216</td>\n",
       "      <td>K</td>\n",
       "      <td>Undefined</td>\n",
       "      <td>Exoplanet</td>\n",
       "      <td>34.900430</td>\n",
       "      <td>50.279296</td>\n",
       "      <td>False</td>\n",
       "      <td>3337.0700</td>\n",
       "      <td>NaN</td>\n",
       "    </tr>\n",
       "  </tbody>\n",
       "</table>\n",
       "<p>5 rows × 44 columns</p>\n",
       "</div>"
      ],
      "text/plain": [
       "    pl_name hostname  sy_snum  sy_pnum  discoverymethod  disc_year  \\\n",
       "0  11 Com b   11 Com        2        1  Radial Velocity       2007   \n",
       "1  11 Com b   11 Com        2        1  Radial Velocity       2007   \n",
       "2  11 UMi b   11 UMi        1        1  Radial Velocity       2009   \n",
       "3  11 UMi b   11 UMi        1        1  Radial Velocity       2009   \n",
       "4  11 UMi b   11 UMi        1        1  Radial Velocity       2009   \n",
       "\n",
       "                            disc_facility  pl_controv_flag  pl_orbper  \\\n",
       "0                        Xinglong Station                0  326.03000   \n",
       "1                        Xinglong Station                0  326.03000   \n",
       "2  Thueringer Landessternwarte Tautenburg                0  516.21997   \n",
       "3  Thueringer Landessternwarte Tautenburg                0  516.21997   \n",
       "4  Thueringer Landessternwarte Tautenburg                0  516.21997   \n",
       "\n",
       "   pl_orbsmax  ...  sy_kmag  sy_gaiamag  generalized_spectype  \\\n",
       "0        1.29  ...    2.282     4.44038                     G   \n",
       "1        1.29  ...    2.282     4.44038                     G   \n",
       "2        1.53  ...    1.939     4.56216                     K   \n",
       "3        1.53  ...    1.939     4.56216                     K   \n",
       "4        1.53  ...    1.939     4.56216                     K   \n",
       "\n",
       "   rad_classification koi_classification    r_inner    r_outer  habitability  \\\n",
       "0           Undefined          Exoplanet  33.530674  48.305957         False   \n",
       "1           Undefined          Exoplanet  33.530674  48.305957         False   \n",
       "2           Undefined          Exoplanet  34.900430  50.279296         False   \n",
       "3           Undefined          Exoplanet  34.900430  50.279296         False   \n",
       "4           Undefined          Exoplanet  34.900430  50.279296         False   \n",
       "\n",
       "   pl_msinie  pl_masse  \n",
       "0  5434.7000       NaN  \n",
       "1  6165.6000       NaN  \n",
       "2  3432.4000       NaN  \n",
       "3  4684.8142       NaN  \n",
       "4  3337.0700       NaN  \n",
       "\n",
       "[5 rows x 44 columns]"
      ]
     },
     "execution_count": 100,
     "metadata": {},
     "output_type": "execute_result"
    }
   ],
   "source": [
    "exo_mass = pd.read_csv(\"data/planetary_data_with_mass.csv\", skiprows=50)\n",
    "exo_merge = exo.merge(exo_mass[[\"pl_name\", \"pl_msinie\", \"pl_masse\"]], on=\"pl_name\", how=\"outer\")\n",
    "print(exo_merge.shape)\n",
    "exo_merge[\"pl_msinie\"].count()\n",
    "exo_merge.head()"
   ]
  },
  {
   "cell_type": "code",
   "execution_count": 112,
   "metadata": {},
   "outputs": [
    {
     "data": {
      "application/vnd.plotly.v1+json": {
       "config": {
        "plotlyServerURL": "https://plot.ly"
       },
       "data": [
        {
         "customdata": [
          [
           "14 Her b"
          ],
          [
           "1RXS J160929.1-210524 b"
          ],
          [
           "1RXS J160929.1-210524 b"
          ],
          [
           "1RXS J160929.1-210524 b"
          ],
          [
           "1RXS J160929.1-210524 b"
          ],
          [
           "2M0437 b"
          ],
          [
           "2MASS J01033563-5515561 AB b"
          ],
          [
           "2MASS J01225093-2439505 b"
          ],
          [
           "2MASS J02192210-3925225 b"
          ],
          [
           "2MASS J04414489+2301513 b"
          ],
          [
           "2MASS J12073346-3932539 b"
          ],
          [
           "2MASS J12073346-3932539 b"
          ],
          [
           "2MASS J19383260+4603591 b"
          ],
          [
           "2MASS J22362452+4751425 b"
          ],
          [
           "51 Eri b"
          ],
          [
           "51 Peg b"
          ],
          [
           "55 Cnc b"
          ],
          [
           "55 Cnc b"
          ],
          [
           "55 Cnc b"
          ],
          [
           "55 Cnc c"
          ],
          [
           "55 Cnc c"
          ],
          [
           "55 Cnc d"
          ],
          [
           "55 Cnc d"
          ],
          [
           "55 Cnc e"
          ],
          [
           "55 Cnc e"
          ],
          [
           "55 Cnc e"
          ],
          [
           "55 Cnc e"
          ],
          [
           "55 Cnc e"
          ],
          [
           "55 Cnc e"
          ],
          [
           "55 Cnc e"
          ],
          [
           "55 Cnc e"
          ],
          [
           "55 Cnc e"
          ],
          [
           "55 Cnc f"
          ],
          [
           "55 Cnc f"
          ],
          [
           "70 Vir b"
          ],
          [
           "AB Aur b"
          ],
          [
           "AB Pic b"
          ],
          [
           "AU Mic b"
          ],
          [
           "AU Mic b"
          ],
          [
           "AU Mic b"
          ],
          [
           "AU Mic b"
          ],
          [
           "AU Mic c"
          ],
          [
           "AU Mic c"
          ],
          [
           "AU Mic c"
          ],
          [
           "BD+20 594 b"
          ],
          [
           "BD+20 594 b"
          ],
          [
           "BD+63 1405 b"
          ],
          [
           "CFBDSIR J145829+101343 b"
          ],
          [
           "CFHTWIR-Oph 98 b"
          ],
          [
           "CHXR 73 b"
          ],
          [
           "CI Tau b"
          ],
          [
           "COCONUTS-2 b"
          ],
          [
           "CT Cha b"
          ],
          [
           "CoRoT-10 b"
          ],
          [
           "CoRoT-10 b"
          ],
          [
           "CoRoT-10 b"
          ],
          [
           "CoRoT-12 b"
          ],
          [
           "CoRoT-12 b"
          ],
          [
           "CoRoT-12 b"
          ],
          [
           "CoRoT-12 b"
          ],
          [
           "CoRoT-13 b"
          ],
          [
           "CoRoT-13 b"
          ],
          [
           "CoRoT-13 b"
          ],
          [
           "CoRoT-14 b"
          ],
          [
           "CoRoT-14 b"
          ],
          [
           "CoRoT-14 b"
          ],
          [
           "CoRoT-16 b"
          ],
          [
           "CoRoT-16 b"
          ],
          [
           "CoRoT-18 b"
          ],
          [
           "CoRoT-18 b"
          ],
          [
           "CoRoT-18 b"
          ],
          [
           "CoRoT-18 b"
          ],
          [
           "CoRoT-19 b"
          ],
          [
           "CoRoT-19 b"
          ],
          [
           "CoRoT-19 b"
          ],
          [
           "CoRoT-2 b"
          ],
          [
           "CoRoT-2 b"
          ],
          [
           "CoRoT-2 b"
          ],
          [
           "CoRoT-2 b"
          ],
          [
           "CoRoT-2 b"
          ],
          [
           "CoRoT-2 b"
          ],
          [
           "CoRoT-21 b"
          ],
          [
           "CoRoT-21 b"
          ],
          [
           "CoRoT-22 b"
          ],
          [
           "CoRoT-23 b"
          ],
          [
           "CoRoT-23 b"
          ],
          [
           "CoRoT-23 b"
          ],
          [
           "CoRoT-24 b"
          ],
          [
           "CoRoT-24 c"
          ],
          [
           "CoRoT-26 b"
          ],
          [
           "CoRoT-26 b"
          ],
          [
           "CoRoT-27 b"
          ],
          [
           "CoRoT-27 b"
          ],
          [
           "CoRoT-28 b"
          ],
          [
           "CoRoT-28 b"
          ],
          [
           "CoRoT-29 b"
          ],
          [
           "CoRoT-29 b"
          ],
          [
           "CoRoT-3 b"
          ],
          [
           "CoRoT-3 b"
          ],
          [
           "CoRoT-3 b"
          ],
          [
           "CoRoT-3 b"
          ],
          [
           "CoRoT-30 b"
          ],
          [
           "CoRoT-36 b"
          ],
          [
           "CoRoT-5 b"
          ],
          [
           "CoRoT-5 b"
          ],
          [
           "CoRoT-5 b"
          ],
          [
           "CoRoT-5 b"
          ],
          [
           "CoRoT-6 b"
          ],
          [
           "CoRoT-6 b"
          ],
          [
           "CoRoT-6 b"
          ],
          [
           "CoRoT-7 b"
          ],
          [
           "CoRoT-7 b"
          ],
          [
           "CoRoT-7 b"
          ],
          [
           "CoRoT-7 b"
          ],
          [
           "CoRoT-7 b"
          ],
          [
           "CoRoT-7 b"
          ],
          [
           "CoRoT-7 b"
          ],
          [
           "CoRoT-7 b"
          ],
          [
           "CoRoT-7 c"
          ],
          [
           "CoRoT-7 c"
          ],
          [
           "CoRoT-7 c"
          ],
          [
           "CoRoT-7 d"
          ],
          [
           "CoRoT-8 b"
          ],
          [
           "CoRoT-8 b"
          ],
          [
           "CoRoT-8 b"
          ],
          [
           "CoRoT-8 b"
          ],
          [
           "CoRoT-9 b"
          ],
          [
           "CoRoT-9 b"
          ],
          [
           "CoRoT-9 b"
          ],
          [
           "CoRoT-9 b"
          ],
          [
           "CoRoTID 223977153 b"
          ],
          [
           "DENIS-P J082303.1-491201 b"
          ],
          [
           "DH Tau b"
          ],
          [
           "DH Tau b"
          ],
          [
           "DP Leo b"
          ],
          [
           "DS Tuc A b"
          ],
          [
           "EPIC 211945201 b"
          ],
          [
           "EPIC 220674823 b"
          ],
          [
           "EPIC 220674823 b"
          ],
          [
           "EPIC 220674823 b"
          ],
          [
           "EPIC 220674823 b"
          ],
          [
           "EPIC 220674823 c"
          ],
          [
           "EPIC 220674823 c"
          ],
          [
           "EPIC 220674823 c"
          ],
          [
           "EPIC 229004835 b"
          ],
          [
           "EPIC 246851721 b"
          ],
          [
           "EPIC 248847494 b"
          ],
          [
           "EPIC 249893012 b"
          ],
          [
           "EPIC 249893012 c"
          ],
          [
           "EPIC 249893012 d"
          ],
          [
           "FU Tau b"
          ],
          [
           "G 9-40 b"
          ],
          [
           "GJ 1132 b"
          ],
          [
           "GJ 1132 b"
          ],
          [
           "GJ 1132 b"
          ],
          [
           "GJ 1132 b"
          ],
          [
           "GJ 1214 b"
          ],
          [
           "GJ 1214 b"
          ],
          [
           "GJ 1214 b"
          ],
          [
           "GJ 1214 b"
          ],
          [
           "GJ 1214 b"
          ],
          [
           "GJ 1214 b"
          ],
          [
           "GJ 1252 b"
          ],
          [
           "GJ 1252 b"
          ],
          [
           "GJ 1252 b"
          ],
          [
           "GJ 143 b"
          ],
          [
           "GJ 143 b"
          ],
          [
           "GJ 179 b"
          ],
          [
           "GJ 2030 c"
          ],
          [
           "GJ 3090 b"
          ],
          [
           "GJ 317 b"
          ],
          [
           "GJ 3470 b"
          ],
          [
           "GJ 3470 b"
          ],
          [
           "GJ 3470 b"
          ],
          [
           "GJ 3470 b"
          ],
          [
           "GJ 3470 b"
          ],
          [
           "GJ 3470 b"
          ],
          [
           "GJ 3473 b"
          ],
          [
           "GJ 357 b"
          ],
          [
           "GJ 3634 b"
          ],
          [
           "GJ 367 b"
          ],
          [
           "GJ 3929 b"
          ],
          [
           "GJ 3929 b"
          ],
          [
           "GJ 436 b"
          ],
          [
           "GJ 436 b"
          ],
          [
           "GJ 436 b"
          ],
          [
           "GJ 436 b"
          ],
          [
           "GJ 436 b"
          ],
          [
           "GJ 436 b"
          ],
          [
           "GJ 436 b"
          ],
          [
           "GJ 436 b"
          ],
          [
           "GJ 436 b"
          ],
          [
           "GJ 463 b"
          ],
          [
           "GJ 463 b"
          ],
          [
           "GJ 486 b"
          ],
          [
           "GJ 676 A b"
          ],
          [
           "GJ 676 A b"
          ],
          [
           "GJ 676 A c"
          ],
          [
           "GJ 680 b"
          ],
          [
           "GJ 832 b"
          ],
          [
           "GJ 876 b"
          ],
          [
           "GJ 876 b"
          ],
          [
           "GJ 876 b"
          ],
          [
           "GJ 876 b"
          ],
          [
           "GJ 876 c"
          ],
          [
           "GJ 876 c"
          ],
          [
           "GJ 876 c"
          ],
          [
           "GJ 876 c"
          ],
          [
           "GJ 876 d"
          ],
          [
           "GJ 876 d"
          ],
          [
           "GJ 876 d"
          ],
          [
           "GJ 876 e"
          ],
          [
           "GJ 876 e"
          ],
          [
           "GJ 896 A b"
          ],
          [
           "GJ 9714 b"
          ],
          [
           "GJ 9827 b"
          ],
          [
           "GJ 9827 b"
          ],
          [
           "GJ 9827 b"
          ],
          [
           "GJ 9827 b"
          ],
          [
           "GJ 9827 b"
          ],
          [
           "GJ 9827 c"
          ],
          [
           "GJ 9827 c"
          ],
          [
           "GJ 9827 c"
          ],
          [
           "GJ 9827 c"
          ],
          [
           "GJ 9827 d"
          ],
          [
           "GJ 9827 d"
          ],
          [
           "GJ 9827 d"
          ],
          [
           "GJ 9827 d"
          ],
          [
           "GPX-1 b"
          ],
          [
           "GQ Lup b"
          ],
          [
           "GQ Lup b"
          ],
          [
           "GSC 06214-00210 b"
          ],
          [
           "GSC 06214-00210 b"
          ],
          [
           "GSC 06214-00210 b"
          ],
          [
           "GSC 06214-00210 b"
          ],
          [
           "GU Psc b"
          ],
          [
           "Gaia-1 b"
          ],
          [
           "Gaia-2 b"
          ],
          [
           "HAT-P-11 b"
          ],
          [
           "HAT-P-11 b"
          ],
          [
           "HAT-P-11 b"
          ],
          [
           "HAT-P-11 b"
          ],
          [
           "HAT-P-11 c"
          ],
          [
           "HAT-P-12 b"
          ],
          [
           "HAT-P-12 b"
          ],
          [
           "HAT-P-12 b"
          ],
          [
           "HAT-P-12 b"
          ],
          [
           "HAT-P-12 b"
          ],
          [
           "HAT-P-12 b"
          ],
          [
           "HAT-P-14 b"
          ],
          [
           "HAT-P-14 b"
          ],
          [
           "HAT-P-14 b"
          ],
          [
           "HAT-P-14 b"
          ],
          [
           "HAT-P-14 b"
          ],
          [
           "HAT-P-14 b"
          ],
          [
           "HAT-P-14 b"
          ],
          [
           "HAT-P-15 b"
          ],
          [
           "HAT-P-15 b"
          ],
          [
           "HAT-P-15 b"
          ],
          [
           "HAT-P-15 b"
          ],
          [
           "HAT-P-17 b"
          ],
          [
           "HAT-P-17 b"
          ],
          [
           "HAT-P-17 b"
          ],
          [
           "HAT-P-17 b"
          ],
          [
           "HAT-P-18 b"
          ],
          [
           "HAT-P-18 b"
          ],
          [
           "HAT-P-18 b"
          ],
          [
           "HAT-P-18 b"
          ],
          [
           "HAT-P-19 b"
          ],
          [
           "HAT-P-19 b"
          ],
          [
           "HAT-P-2 b"
          ],
          [
           "HAT-P-2 b"
          ],
          [
           "HAT-P-2 b"
          ],
          [
           "HAT-P-2 b"
          ],
          [
           "HAT-P-2 b"
          ],
          [
           "HAT-P-2 b"
          ],
          [
           "HAT-P-2 b"
          ],
          [
           "HAT-P-2 b"
          ],
          [
           "HAT-P-2 b"
          ],
          [
           "HAT-P-20 b"
          ],
          [
           "HAT-P-20 b"
          ],
          [
           "HAT-P-20 b"
          ],
          [
           "HAT-P-20 b"
          ],
          [
           "HAT-P-20 b"
          ],
          [
           "HAT-P-21 b"
          ],
          [
           "HAT-P-21 b"
          ],
          [
           "HAT-P-21 b"
          ],
          [
           "HAT-P-22 b"
          ],
          [
           "HAT-P-22 b"
          ],
          [
           "HAT-P-22 b"
          ],
          [
           "HAT-P-22 b"
          ],
          [
           "HAT-P-22 b"
          ],
          [
           "HAT-P-22 b"
          ],
          [
           "HAT-P-25 b"
          ],
          [
           "HAT-P-25 b"
          ],
          [
           "HAT-P-25 b"
          ],
          [
           "HAT-P-26 b"
          ],
          [
           "HAT-P-26 b"
          ],
          [
           "HAT-P-26 b"
          ],
          [
           "HAT-P-27 b"
          ],
          [
           "HAT-P-27 b"
          ],
          [
           "HAT-P-27 b"
          ],
          [
           "HAT-P-28 b"
          ],
          [
           "HAT-P-28 b"
          ],
          [
           "HAT-P-3 b"
          ],
          [
           "HAT-P-3 b"
          ],
          [
           "HAT-P-3 b"
          ],
          [
           "HAT-P-3 b"
          ],
          [
           "HAT-P-3 b"
          ],
          [
           "HAT-P-3 b"
          ],
          [
           "HAT-P-3 b"
          ],
          [
           "HAT-P-3 b"
          ],
          [
           "HAT-P-31 b"
          ],
          [
           "HAT-P-31 b"
          ],
          [
           "HAT-P-31 b"
          ],
          [
           "HAT-P-31 b"
          ],
          [
           "HAT-P-32 b"
          ],
          [
           "HAT-P-32 b"
          ],
          [
           "HAT-P-32 b"
          ],
          [
           "HAT-P-32 b"
          ],
          [
           "HAT-P-32 b"
          ],
          [
           "HAT-P-32 b"
          ],
          [
           "HAT-P-34 b"
          ],
          [
           "HAT-P-34 b"
          ],
          [
           "HAT-P-34 b"
          ],
          [
           "HAT-P-34 b"
          ],
          [
           "HAT-P-36 b"
          ],
          [
           "HAT-P-36 b"
          ],
          [
           "HAT-P-36 b"
          ],
          [
           "HAT-P-36 b"
          ],
          [
           "HAT-P-36 b"
          ],
          [
           "HAT-P-36 b"
          ],
          [
           "HAT-P-37 b"
          ],
          [
           "HAT-P-37 b"
          ],
          [
           "HAT-P-37 b"
          ],
          [
           "HAT-P-38 b"
          ],
          [
           "HAT-P-38 b"
          ],
          [
           "HAT-P-4 b"
          ],
          [
           "HAT-P-4 b"
          ],
          [
           "HAT-P-4 b"
          ],
          [
           "HAT-P-4 b"
          ],
          [
           "HAT-P-4 b"
          ],
          [
           "HAT-P-4 b"
          ],
          [
           "HAT-P-4 b"
          ],
          [
           "HAT-P-40 b"
          ],
          [
           "HAT-P-40 b"
          ],
          [
           "HAT-P-40 b"
          ],
          [
           "HAT-P-43 b"
          ],
          [
           "HAT-P-43 b"
          ],
          [
           "HAT-P-44 b"
          ],
          [
           "HAT-P-49 b"
          ],
          [
           "HAT-P-49 b"
          ],
          [
           "HAT-P-49 b"
          ],
          [
           "HAT-P-50 b"
          ],
          [
           "HAT-P-50 b"
          ],
          [
           "HAT-P-51 b"
          ],
          [
           "HAT-P-51 b"
          ],
          [
           "HAT-P-52 b"
          ],
          [
           "HAT-P-52 b"
          ],
          [
           "HAT-P-54 b"
          ],
          [
           "HAT-P-54 b"
          ],
          [
           "HAT-P-55 b"
          ],
          [
           "HAT-P-55 b"
          ],
          [
           "HAT-P-57 b"
          ],
          [
           "HAT-P-57 b"
          ],
          [
           "HAT-P-58 b"
          ],
          [
           "HAT-P-59 b"
          ],
          [
           "HAT-P-6 b"
          ],
          [
           "HAT-P-6 b"
          ],
          [
           "HAT-P-6 b"
          ],
          [
           "HAT-P-6 b"
          ],
          [
           "HAT-P-6 b"
          ],
          [
           "HAT-P-6 b"
          ],
          [
           "HAT-P-60 b"
          ],
          [
           "HAT-P-61 b"
          ],
          [
           "HAT-P-62 b"
          ],
          [
           "HAT-P-63 b"
          ],
          [
           "HAT-P-68 b"
          ],
          [
           "HAT-P-69 b"
          ],
          [
           "HAT-P-7 b"
          ],
          [
           "HAT-P-7 b"
          ],
          [
           "HAT-P-7 b"
          ],
          [
           "HAT-P-7 b"
          ],
          [
           "HAT-P-7 b"
          ],
          [
           "HAT-P-7 b"
          ],
          [
           "HAT-P-7 b"
          ],
          [
           "HAT-P-7 b"
          ],
          [
           "HAT-P-70 b"
          ],
          [
           "HAT-P-8 b"
          ],
          [
           "HAT-P-8 b"
          ],
          [
           "HAT-P-8 b"
          ],
          [
           "HAT-P-8 b"
          ],
          [
           "HAT-P-8 b"
          ],
          [
           "HATS-1 b"
          ],
          [
           "HATS-1 b"
          ],
          [
           "HATS-12 b"
          ],
          [
           "HATS-12 b"
          ],
          [
           "HATS-13 b"
          ],
          [
           "HATS-13 b"
          ],
          [
           "HATS-14 b"
          ],
          [
           "HATS-14 b"
          ],
          [
           "HATS-14 b"
          ],
          [
           "HATS-15 b"
          ],
          [
           "HATS-16 b"
          ],
          [
           "HATS-18 b"
          ],
          [
           "HATS-18 b"
          ],
          [
           "HATS-2 b"
          ],
          [
           "HATS-2 b"
          ],
          [
           "HATS-22 b"
          ],
          [
           "HATS-23 b"
          ],
          [
           "HATS-24 b"
          ],
          [
           "HATS-24 b"
          ],
          [
           "HATS-25 b"
          ],
          [
           "HATS-27 b"
          ],
          [
           "HATS-28 b"
          ],
          [
           "HATS-29 b"
          ],
          [
           "HATS-30 b"
          ],
          [
           "HATS-32 b"
          ],
          [
           "HATS-33 b"
          ],
          [
           "HATS-34 b"
          ],
          [
           "HATS-37 A b"
          ],
          [
           "HATS-39 b"
          ],
          [
           "HATS-4 b"
          ],
          [
           "HATS-4 b"
          ],
          [
           "HATS-40 b"
          ],
          [
           "HATS-41 b"
          ],
          [
           "HATS-43 b"
          ],
          [
           "HATS-44 b"
          ],
          [
           "HATS-45 b"
          ],
          [
           "HATS-46 b"
          ],
          [
           "HATS-47 b"
          ],
          [
           "HATS-48 A b"
          ],
          [
           "HATS-49 b"
          ],
          [
           "HATS-5 b"
          ],
          [
           "HATS-5 b"
          ],
          [
           "HATS-50 b"
          ],
          [
           "HATS-52 b"
          ],
          [
           "HATS-53 b"
          ],
          [
           "HATS-54 b"
          ],
          [
           "HATS-54 b"
          ],
          [
           "HATS-56 b"
          ],
          [
           "HATS-57 b"
          ],
          [
           "HATS-58 A b"
          ],
          [
           "HATS-59 b"
          ],
          [
           "HATS-6 b"
          ],
          [
           "HATS-61 b"
          ],
          [
           "HATS-62 b"
          ],
          [
           "HATS-63 b"
          ],
          [
           "HATS-64 b"
          ],
          [
           "HATS-66 b"
          ],
          [
           "HATS-68 b"
          ],
          [
           "HATS-69 b"
          ],
          [
           "HATS-7 b"
          ],
          [
           "HATS-7 b"
          ],
          [
           "HATS-70 b"
          ],
          [
           "HATS-71 b"
          ],
          [
           "HATS-72 b"
          ],
          [
           "HATS-74 A b"
          ],
          [
           "HATS-75 b"
          ],
          [
           "HATS-76 b"
          ],
          [
           "HATS-77 b"
          ],
          [
           "HATS-8 b"
          ],
          [
           "HATS-8 b"
          ],
          [
           "HD 103891 b"
          ],
          [
           "HD 106252 b"
          ],
          [
           "HD 106270 b"
          ],
          [
           "HD 106315 b"
          ],
          [
           "HD 106315 c"
          ],
          [
           "HD 106515 A b"
          ],
          [
           "HD 106515 A b"
          ],
          [
           "HD 106906 b"
          ],
          [
           "HD 106906 b"
          ],
          [
           "HD 10697 b"
          ],
          [
           "HD 10697 b"
          ],
          [
           "HD 108341 b"
          ],
          [
           "HD 109988 b"
          ],
          [
           "HD 110113 b"
          ],
          [
           "HD 110537 b"
          ],
          [
           "HD 11112 b"
          ],
          [
           "HD 111232 b"
          ],
          [
           "HD 111232 b"
          ],
          [
           "HD 111232 c"
          ],
          [
           "HD 111232 c"
          ],
          [
           "HD 113337 c"
          ],
          [
           "HD 114082 b"
          ],
          [
           "HD 11505 b"
          ],
          [
           "HD 11506 b"
          ],
          [
           "HD 11506 d"
          ],
          [
           "HD 115404 A c"
          ],
          [
           "HD 115954 b"
          ],
          [
           "HD 117207 b"
          ],
          [
           "HD 120084 b"
          ],
          [
           "HD 120084 b"
          ],
          [
           "HD 12235 c"
          ],
          [
           "HD 125271 b"
          ],
          [
           "HD 125390 b"
          ],
          [
           "HD 125390 b"
          ],
          [
           "HD 125612 d"
          ],
          [
           "HD 126614 b"
          ],
          [
           "HD 128311 c"
          ],
          [
           "HD 129445 b"
          ],
          [
           "HD 135872 b"
          ],
          [
           "HD 136118 b"
          ],
          [
           "HD 136118 b"
          ],
          [
           "HD 136352 b"
          ],
          [
           "HD 136352 b"
          ],
          [
           "HD 136352 d"
          ],
          [
           "HD 137496 b"
          ],
          [
           "HD 139357 b"
          ],
          [
           "HD 139357 b"
          ],
          [
           "HD 1397 b"
          ],
          [
           "HD 1397 b"
          ],
          [
           "HD 14067 b"
          ],
          [
           "HD 14067 b"
          ],
          [
           "HD 140901 c"
          ],
          [
           "HD 142 c"
          ],
          [
           "HD 142022 A b"
          ],
          [
           "HD 143361 b"
          ],
          [
           "HD 145675 c"
          ],
          [
           "HD 145934 b"
          ],
          [
           "HD 149026 b"
          ],
          [
           "HD 149026 b"
          ],
          [
           "HD 149026 b"
          ],
          [
           "HD 149026 b"
          ],
          [
           "HD 149026 b"
          ],
          [
           "HD 149026 b"
          ],
          [
           "HD 149806 b"
          ],
          [
           "HD 150706 b"
          ],
          [
           "HD 152843 b"
          ],
          [
           "HD 152843 c"
          ],
          [
           "HD 15337 b"
          ],
          [
           "HD 15337 b"
          ],
          [
           "HD 15337 c"
          ],
          [
           "HD 15337 c"
          ],
          [
           "HD 153557 d"
          ],
          [
           "HD 154345 b"
          ],
          [
           "HD 155918 c"
          ],
          [
           "HD 156098 c"
          ],
          [
           "HD 156279 c"
          ],
          [
           "HD 160691 b"
          ],
          [
           "HD 160691 c"
          ],
          [
           "HD 160691 e"
          ],
          [
           "HD 16175 b"
          ],
          [
           "HD 165131 b"
          ],
          [
           "HD 166724 b"
          ],
          [
           "HD 167677 b"
          ],
          [
           "HD 168443 c"
          ],
          [
           "HD 168863 b"
          ],
          [
           "HD 16905 b"
          ],
          [
           "HD 169142 b"
          ],
          [
           "HD 169830 c"
          ],
          [
           "HD 171238 b"
          ],
          [
           "HD 17156 b"
          ],
          [
           "HD 17156 b"
          ],
          [
           "HD 17156 b"
          ],
          [
           "HD 17156 b"
          ],
          [
           "HD 17156 b"
          ],
          [
           "HD 175167 b"
          ],
          [
           "HD 175167 b"
          ],
          [
           "HD 18015 b"
          ],
          [
           "HD 181234 b"
          ],
          [
           "HD 181234 b"
          ],
          [
           "HD 18143 c"
          ],
          [
           "HD 183579 b"
          ],
          [
           "HD 183579 b"
          ],
          [
           "HD 18599 b"
          ],
          [
           "HD 18599 b"
          ],
          [
           "HD 188641 b"
          ],
          [
           "HD 189733 b"
          ],
          [
           "HD 189733 b"
          ],
          [
           "HD 189733 b"
          ],
          [
           "HD 189733 b"
          ],
          [
           "HD 189733 b"
          ],
          [
           "HD 189733 b"
          ],
          [
           "HD 189733 b"
          ],
          [
           "HD 189733 b"
          ],
          [
           "HD 189733 b"
          ],
          [
           "HD 190228 b"
          ],
          [
           "HD 190228 b"
          ],
          [
           "HD 190360 b"
          ],
          [
           "HD 190984 b"
          ],
          [
           "HD 191806 b"
          ],
          [
           "HD 191806 b"
          ],
          [
           "HD 191939 b"
          ],
          [
           "HD 191939 b"
          ],
          [
           "HD 191939 c"
          ],
          [
           "HD 191939 c"
          ],
          [
           "HD 191939 d"
          ],
          [
           "HD 191939 d"
          ],
          [
           "HD 194490 b"
          ],
          [
           "HD 196067 b"
          ],
          [
           "HD 202206 c"
          ],
          [
           "HD 202696 b"
          ],
          [
           "HD 202696 c"
          ],
          [
           "HD 202772 A b"
          ],
          [
           "HD 203030 b"
          ],
          [
           "HD 203030 b"
          ],
          [
           "HD 20329 b"
          ],
          [
           "HD 203387 c"
          ],
          [
           "HD 204313 b"
          ],
          [
           "HD 204313 b"
          ],
          [
           "HD 204313 e"
          ],
          [
           "HD 204313 e"
          ],
          [
           "HD 206893 b"
          ],
          [
           "HD 206893 b"
          ],
          [
           "HD 207496 b"
          ],
          [
           "HD 207897 b"
          ],
          [
           "HD 209458 b"
          ],
          [
           "HD 209458 b"
          ],
          [
           "HD 209458 b"
          ],
          [
           "HD 209458 b"
          ],
          [
           "HD 209458 b"
          ],
          [
           "HD 209458 b"
          ],
          [
           "HD 209458 b"
          ],
          [
           "HD 209458 b"
          ],
          [
           "HD 209458 b"
          ],
          [
           "HD 209458 b"
          ],
          [
           "HD 209458 b"
          ],
          [
           "HD 213240 b"
          ],
          [
           "HD 213885 b"
          ],
          [
           "HD 214823 b"
          ],
          [
           "HD 214823 b"
          ],
          [
           "HD 216437 b"
          ],
          [
           "HD 21749 c"
          ],
          [
           "HD 219077 b"
          ],
          [
           "HD 219077 b"
          ],
          [
           "HD 219134 b"
          ],
          [
           "HD 219134 c"
          ],
          [
           "HD 219134 d"
          ],
          [
           "HD 219134 f"
          ],
          [
           "HD 219666 b"
          ],
          [
           "HD 219828 c"
          ],
          [
           "HD 220689 b"
          ],
          [
           "HD 221416 b"
          ],
          [
           "HD 221420 b"
          ],
          [
           "HD 221420 b"
          ],
          [
           "HD 221420 b"
          ],
          [
           "HD 222155 b"
          ],
          [
           "HD 224538 b"
          ],
          [
           "HD 224538 b"
          ],
          [
           "HD 22946 b"
          ],
          [
           "HD 22946 c"
          ],
          [
           "HD 22946 d"
          ],
          [
           "HD 23472 b"
          ],
          [
           "HD 23472 b"
          ],
          [
           "HD 23472 c"
          ],
          [
           "HD 23472 c"
          ],
          [
           "HD 23472 d"
          ],
          [
           "HD 23472 e"
          ],
          [
           "HD 23472 f"
          ],
          [
           "HD 23596 b"
          ],
          [
           "HD 23596 b"
          ],
          [
           "HD 25015 b"
          ],
          [
           "HD 25015 b"
          ],
          [
           "HD 25912 c"
          ],
          [
           "HD 260655 b"
          ],
          [
           "HD 260655 c"
          ],
          [
           "HD 26161 b"
          ],
          [
           "HD 2685 b"
          ],
          [
           "HD 27631 b"
          ],
          [
           "HD 27894 d"
          ],
          [
           "HD 28109 b"
          ],
          [
           "HD 28109 c"
          ],
          [
           "HD 28109 d"
          ],
          [
           "HD 28185 c"
          ],
          [
           "HD 29021 b"
          ],
          [
           "HD 29985 b"
          ],
          [
           "HD 30177 b"
          ],
          [
           "HD 30177 c"
          ],
          [
           "HD 30562 b"
          ],
          [
           "HD 307842 b"
          ],
          [
           "HD 3167 b"
          ],
          [
           "HD 3167 b"
          ],
          [
           "HD 3167 b"
          ],
          [
           "HD 3167 b"
          ],
          [
           "HD 3167 b"
          ],
          [
           "HD 3167 c"
          ],
          [
           "HD 3167 c"
          ],
          [
           "HD 3167 c"
          ],
          [
           "HD 3167 c"
          ],
          [
           "HD 32963 b"
          ],
          [
           "HD 332231 b"
          ],
          [
           "HD 38529 c"
          ],
          [
           "HD 43197 c"
          ],
          [
           "HD 457 b"
          ],
          [
           "HD 50554 b"
          ],
          [
           "HD 5278 b"
          ],
          [
           "HD 55696 b"
          ],
          [
           "HD 56957 b"
          ],
          [
           "HD 62364 b"
          ],
          [
           "HD 62364 b"
          ],
          [
           "HD 62364 b"
          ],
          [
           "HD 62364 c"
          ],
          [
           "HD 63935 b"
          ],
          [
           "HD 63935 c"
          ],
          [
           "HD 66428 b"
          ],
          [
           "HD 66428 c"
          ],
          [
           "HD 68402 b"
          ],
          [
           "HD 69123 b"
          ],
          [
           "HD 70642 b"
          ],
          [
           "HD 72659 b"
          ],
          [
           "HD 72659 c"
          ],
          [
           "HD 73267 b"
          ],
          [
           "HD 73267 b"
          ],
          [
           "HD 73267 c"
          ],
          [
           "HD 73267 c"
          ],
          [
           "HD 73583 b"
          ],
          [
           "HD 73583 c"
          ],
          [
           "HD 74156 c"
          ],
          [
           "HD 74156 c"
          ],
          [
           "HD 7449 b"
          ],
          [
           "HD 77338 b"
          ],
          [
           "HD 80606 b"
          ],
          [
           "HD 80606 b"
          ],
          [
           "HD 80606 b"
          ],
          [
           "HD 80606 b"
          ],
          [
           "HD 80653 b"
          ],
          [
           "HD 80653 b"
          ],
          [
           "HD 80869 b"
          ],
          [
           "HD 80869 b"
          ],
          [
           "HD 80883 b"
          ],
          [
           "HD 80913 b"
          ],
          [
           "HD 81040 b"
          ],
          [
           "HD 81040 b"
          ],
          [
           "HD 81817 b"
          ],
          [
           "HD 83443 c"
          ],
          [
           "HD 86065 b"
          ],
          [
           "HD 86226 b"
          ],
          [
           "HD 86226 c"
          ],
          [
           "HD 86264 b"
          ],
          [
           "HD 86264 b"
          ],
          [
           "HD 8673 b"
          ],
          [
           "HD 87883 b"
          ],
          [
           "HD 87883 b"
          ],
          [
           "HD 88072 b"
          ],
          [
           "HD 88133 b"
          ],
          [
           "HD 89307 b"
          ],
          [
           "HD 89345 b"
          ],
          [
           "HD 89345 b"
          ],
          [
           "HD 89345 b"
          ],
          [
           "HD 89839 b"
          ],
          [
           "HD 93351 c"
          ],
          [
           "HD 93963 A b"
          ],
          [
           "HD 93963 A c"
          ],
          [
           "HD 95086 b"
          ],
          [
           "HD 95086 b"
          ],
          [
           "HD 95086 b"
          ],
          [
           "HD 95086 b"
          ],
          [
           "HD 95086 b"
          ],
          [
           "HD 95338 b"
          ],
          [
           "HD 95544 b"
          ],
          [
           "HD 95544 b"
          ],
          [
           "HD 97048 b"
          ],
          [
           "HD 97658 b"
          ],
          [
           "HD 97658 b"
          ],
          [
           "HD 97658 b"
          ],
          [
           "HD 97658 b"
          ],
          [
           "HD 98649 b"
          ],
          [
           "HD 98649 b"
          ],
          [
           "HIP 116454 b"
          ],
          [
           "HIP 116454 b"
          ],
          [
           "HIP 116454 b"
          ],
          [
           "HIP 19976 c"
          ],
          [
           "HIP 21152 b"
          ],
          [
           "HIP 21152 b"
          ],
          [
           "HIP 35965 b"
          ],
          [
           "HIP 55507 b"
          ],
          [
           "HIP 56640 b"
          ],
          [
           "HIP 56640 b"
          ],
          [
           "HIP 65 A b"
          ],
          [
           "HIP 65426 b"
          ],
          [
           "HIP 65891 b"
          ],
          [
           "HIP 67537 b"
          ],
          [
           "HIP 67537 b"
          ],
          [
           "HIP 67851 c"
          ],
          [
           "HIP 67851 c"
          ],
          [
           "HIP 75056 A b"
          ],
          [
           "HIP 78530 b"
          ],
          [
           "HIP 78530 b"
          ],
          [
           "HIP 78530 b"
          ],
          [
           "HIP 79098 AB b"
          ],
          [
           "HIP 8541 b"
          ],
          [
           "HIP 8541 b"
          ],
          [
           "HIP 94235 b"
          ],
          [
           "HIP 948 b"
          ],
          [
           "HIP 9618 b"
          ],
          [
           "HIP 9618 c"
          ],
          [
           "HIP 97166 b"
          ],
          [
           "HIP 97233 b"
          ],
          [
           "HIP 97233 b"
          ],
          [
           "HIP 99770 b"
          ],
          [
           "HN Peg b"
          ],
          [
           "HR 2562 b"
          ],
          [
           "HR 5183 b"
          ],
          [
           "HR 8799 b"
          ],
          [
           "HR 8799 c"
          ],
          [
           "HR 8799 d"
          ],
          [
           "HR 8799 e"
          ],
          [
           "K2-10 b"
          ],
          [
           "K2-100 b"
          ],
          [
           "K2-105 b"
          ],
          [
           "K2-108 b"
          ],
          [
           "K2-110 b"
          ],
          [
           "K2-110 b"
          ],
          [
           "K2-111 b"
          ],
          [
           "K2-111 b"
          ],
          [
           "K2-111 b"
          ],
          [
           "K2-113 b"
          ],
          [
           "K2-114 b"
          ],
          [
           "K2-114 b"
          ],
          [
           "K2-115 b"
          ],
          [
           "K2-12 b"
          ],
          [
           "K2-131 b"
          ],
          [
           "K2-131 b"
          ],
          [
           "K2-131 b"
          ],
          [
           "K2-132 b"
          ],
          [
           "K2-132 b"
          ],
          [
           "K2-132 b"
          ],
          [
           "K2-136 b"
          ],
          [
           "K2-136 c"
          ],
          [
           "K2-136 d"
          ],
          [
           "K2-137 b"
          ],
          [
           "K2-138 b"
          ],
          [
           "K2-138 c"
          ],
          [
           "K2-138 d"
          ],
          [
           "K2-138 e"
          ],
          [
           "K2-138 f"
          ],
          [
           "K2-138 g"
          ],
          [
           "K2-139 b"
          ],
          [
           "K2-140 b"
          ],
          [
           "K2-140 b"
          ],
          [
           "K2-141 b"
          ],
          [
           "K2-141 b"
          ],
          [
           "K2-141 b"
          ],
          [
           "K2-141 b"
          ],
          [
           "K2-141 c"
          ],
          [
           "K2-141 c"
          ],
          [
           "K2-146 b"
          ],
          [
           "K2-146 b"
          ],
          [
           "K2-146 c"
          ],
          [
           "K2-146 c"
          ],
          [
           "K2-167 b"
          ],
          [
           "K2-18 b"
          ],
          [
           "K2-18 b"
          ],
          [
           "K2-18 b"
          ],
          [
           "K2-180 b"
          ],
          [
           "K2-182 b"
          ],
          [
           "K2-19 b"
          ],
          [
           "K2-19 b"
          ],
          [
           "K2-19 b"
          ],
          [
           "K2-19 b"
          ],
          [
           "K2-19 c"
          ],
          [
           "K2-19 c"
          ],
          [
           "K2-19 c"
          ],
          [
           "K2-19 c"
          ],
          [
           "K2-19 d"
          ],
          [
           "K2-19 d"
          ],
          [
           "K2-199 b"
          ],
          [
           "K2-199 c"
          ],
          [
           "K2-2016-BLG-0005L b"
          ],
          [
           "K2-2016-BLG-0005L b"
          ],
          [
           "K2-216 b"
          ],
          [
           "K2-22 b"
          ],
          [
           "K2-222 b"
          ],
          [
           "K2-229 b"
          ],
          [
           "K2-229 b"
          ],
          [
           "K2-229 c"
          ],
          [
           "K2-233 b"
          ],
          [
           "K2-233 c"
          ],
          [
           "K2-233 d"
          ],
          [
           "K2-24 b"
          ],
          [
           "K2-24 b"
          ],
          [
           "K2-24 b"
          ],
          [
           "K2-24 c"
          ],
          [
           "K2-24 c"
          ],
          [
           "K2-24 c"
          ],
          [
           "K2-25 b"
          ],
          [
           "K2-261 b"
          ],
          [
           "K2-261 b"
          ],
          [
           "K2-261 b"
          ],
          [
           "K2-263 b"
          ],
          [
           "K2-263 b"
          ],
          [
           "K2-265 b"
          ],
          [
           "K2-266 d"
          ],
          [
           "K2-266 e"
          ],
          [
           "K2-27 b"
          ],
          [
           "K2-27 b"
          ],
          [
           "K2-280 b"
          ],
          [
           "K2-285 b"
          ],
          [
           "K2-285 c"
          ],
          [
           "K2-285 d"
          ],
          [
           "K2-285 e"
          ],
          [
           "K2-287 b"
          ],
          [
           "K2-29 b"
          ],
          [
           "K2-29 b"
          ],
          [
           "K2-290 b"
          ],
          [
           "K2-290 c"
          ],
          [
           "K2-291 b"
          ],
          [
           "K2-291 b"
          ],
          [
           "K2-292 b"
          ],
          [
           "K2-295 b"
          ],
          [
           "K2-3 b"
          ],
          [
           "K2-3 b"
          ],
          [
           "K2-3 b"
          ],
          [
           "K2-3 b"
          ],
          [
           "K2-3 b"
          ],
          [
           "K2-3 b"
          ],
          [
           "K2-3 c"
          ],
          [
           "K2-3 c"
          ],
          [
           "K2-3 c"
          ],
          [
           "K2-3 c"
          ],
          [
           "K2-3 c"
          ],
          [
           "K2-3 c"
          ],
          [
           "K2-3 d"
          ],
          [
           "K2-3 d"
          ],
          [
           "K2-3 d"
          ],
          [
           "K2-3 d"
          ],
          [
           "K2-3 d"
          ],
          [
           "K2-3 d"
          ],
          [
           "K2-30 b"
          ],
          [
           "K2-30 b"
          ],
          [
           "K2-30 b"
          ],
          [
           "K2-31 b"
          ],
          [
           "K2-31 b"
          ],
          [
           "K2-32 b"
          ],
          [
           "K2-32 b"
          ],
          [
           "K2-32 b"
          ],
          [
           "K2-32 c"
          ],
          [
           "K2-32 c"
          ],
          [
           "K2-32 c"
          ],
          [
           "K2-32 d"
          ],
          [
           "K2-32 d"
          ],
          [
           "K2-32 d"
          ],
          [
           "K2-32 e"
          ],
          [
           "K2-329 b"
          ],
          [
           "K2-33 b"
          ],
          [
           "K2-33 b"
          ],
          [
           "K2-34 b"
          ],
          [
           "K2-34 b"
          ],
          [
           "K2-34 b"
          ],
          [
           "K2-34 b"
          ],
          [
           "K2-36 b"
          ],
          [
           "K2-36 b"
          ],
          [
           "K2-36 c"
          ],
          [
           "K2-36 c"
          ],
          [
           "K2-38 b"
          ],
          [
           "K2-38 b"
          ],
          [
           "K2-38 b"
          ],
          [
           "K2-38 b"
          ],
          [
           "K2-38 c"
          ],
          [
           "K2-38 c"
          ],
          [
           "K2-38 c"
          ],
          [
           "K2-39 b"
          ],
          [
           "K2-39 b"
          ],
          [
           "K2-39 b"
          ],
          [
           "K2-415 b"
          ],
          [
           "K2-416 b"
          ],
          [
           "K2-417 b"
          ],
          [
           "K2-60 b"
          ],
          [
           "K2-66 b"
          ],
          [
           "K2-77 b"
          ],
          [
           "K2-97 b"
          ],
          [
           "K2-97 b"
          ],
          [
           "K2-97 b"
          ],
          [
           "K2-98 b"
          ],
          [
           "K2-99 b"
          ],
          [
           "KELT-1 b"
          ],
          [
           "KELT-10 b"
          ],
          [
           "KELT-11 b"
          ],
          [
           "KELT-11 b"
          ],
          [
           "KELT-12 b"
          ],
          [
           "KELT-14 b"
          ],
          [
           "KELT-14 b"
          ],
          [
           "KELT-17 b"
          ],
          [
           "KELT-18 b"
          ],
          [
           "KELT-19 A b"
          ],
          [
           "KELT-2 A b"
          ],
          [
           "KELT-2 A b"
          ],
          [
           "KELT-2 A b"
          ],
          [
           "KELT-20 b"
          ],
          [
           "KELT-20 b"
          ],
          [
           "KELT-21 b"
          ],
          [
           "KELT-23 A b"
          ],
          [
           "KELT-24 b"
          ],
          [
           "KELT-24 b"
          ],
          [
           "KELT-3 b"
          ],
          [
           "KELT-3 b"
          ],
          [
           "KELT-3 b"
          ],
          [
           "KELT-6 b"
          ],
          [
           "KELT-6 b"
          ],
          [
           "KELT-6 b"
          ],
          [
           "KELT-7 b"
          ],
          [
           "KELT-7 b"
          ],
          [
           "KELT-8 b"
          ],
          [
           "KELT-8 b"
          ],
          [
           "KELT-8 b"
          ],
          [
           "KELT-9 b"
          ],
          [
           "KELT-9 b"
          ],
          [
           "KIC 5095269 b"
          ],
          [
           "KMT-2016-BLG-0212L b"
          ],
          [
           "KMT-2016-BLG-0212L b"
          ],
          [
           "KMT-2016-BLG-0212L b"
          ],
          [
           "KMT-2016-BLG-0212L b"
          ],
          [
           "KMT-2016-BLG-1105L b"
          ],
          [
           "KMT-2016-BLG-1105L b"
          ],
          [
           "KMT-2016-BLG-1105L b"
          ],
          [
           "KMT-2016-BLG-1105L b"
          ],
          [
           "KMT-2016-BLG-1105L b"
          ],
          [
           "KMT-2016-BLG-1105L b"
          ],
          [
           "KMT-2016-BLG-1107L b"
          ],
          [
           "KMT-2016-BLG-1107L b"
          ],
          [
           "KMT-2016-BLG-1397L b"
          ],
          [
           "KMT-2016-BLG-1820L b"
          ],
          [
           "KMT-2016-BLG-1836L b"
          ],
          [
           "KMT-2016-BLG-1836L b"
          ],
          [
           "KMT-2016-BLG-1836L b"
          ],
          [
           "KMT-2016-BLG-1836L b"
          ],
          [
           "KMT-2016-BLG-1836L b"
          ],
          [
           "KMT-2016-BLG-1836L b"
          ],
          [
           "KMT-2016-BLG-1836L b"
          ],
          [
           "KMT-2016-BLG-2142L b"
          ],
          [
           "KMT-2016-BLG-2364L b"
          ],
          [
           "KMT-2016-BLG-2397L b"
          ],
          [
           "KMT-2016-BLG-2397L b"
          ],
          [
           "KMT-2016-BLG-2605L b"
          ],
          [
           "KMT-2017-BLG-0165L b"
          ],
          [
           "KMT-2017-BLG-0428L b"
          ],
          [
           "KMT-2017-BLG-0428L b"
          ],
          [
           "KMT-2017-BLG-0428L b"
          ],
          [
           "KMT-2017-BLG-0673L b"
          ],
          [
           "KMT-2017-BLG-1003L b"
          ],
          [
           "KMT-2017-BLG-1003L b"
          ],
          [
           "KMT-2017-BLG-1003L b"
          ],
          [
           "KMT-2017-BLG-1038L b"
          ],
          [
           "KMT-2017-BLG-1038L b"
          ],
          [
           "KMT-2017-BLG-1146L b"
          ],
          [
           "KMT-2017-BLG-1146L b"
          ],
          [
           "KMT-2017-BLG-1194L b"
          ],
          [
           "KMT-2017-BLG-2509L b"
          ],
          [
           "KMT-2018-BLG-0029L b"
          ],
          [
           "KMT-2018-BLG-0029L b"
          ],
          [
           "KMT-2018-BLG-0030L b"
          ],
          [
           "KMT-2018-BLG-0087L b"
          ],
          [
           "KMT-2018-BLG-0087L b"
          ],
          [
           "KMT-2018-BLG-0247L b"
          ],
          [
           "KMT-2018-BLG-0247L b"
          ],
          [
           "KMT-2018-BLG-0247L b"
          ],
          [
           "KMT-2018-BLG-0748L b"
          ],
          [
           "KMT-2018-BLG-1025L b"
          ],
          [
           "KMT-2018-BLG-1025L b"
          ],
          [
           "KMT-2018-BLG-1025L b"
          ],
          [
           "KMT-2018-BLG-1292L b"
          ],
          [
           "KMT-2018-BLG-1292L b"
          ],
          [
           "KMT-2018-BLG-1743L b"
          ],
          [
           "KMT-2018-BLG-1743L b"
          ],
          [
           "KMT-2018-BLG-1976L b"
          ],
          [
           "KMT-2018-BLG-1976L b"
          ],
          [
           "KMT-2018-BLG-1988L b"
          ],
          [
           "KMT-2018-BLG-1988L b"
          ],
          [
           "KMT-2018-BLG-1990L b"
          ],
          [
           "KMT-2018-BLG-1990L b"
          ],
          [
           "KMT-2018-BLG-1990L b"
          ],
          [
           "KMT-2018-BLG-1990L b"
          ],
          [
           "KMT-2018-BLG-1990L b"
          ],
          [
           "KMT-2018-BLG-1990L b"
          ],
          [
           "KMT-2018-BLG-1990L b"
          ],
          [
           "KMT-2018-BLG-1990L b"
          ],
          [
           "KMT-2018-BLG-1990L b"
          ],
          [
           "KMT-2018-BLG-1990L b"
          ],
          [
           "KMT-2018-BLG-1990L b"
          ],
          [
           "KMT-2018-BLG-1996L b"
          ],
          [
           "KMT-2018-BLG-1996L b"
          ],
          [
           "KMT-2018-BLG-2602L b"
          ],
          [
           "KMT-2019-BLG-0253L b"
          ],
          [
           "KMT-2019-BLG-0253L b"
          ],
          [
           "KMT-2019-BLG-0253L b"
          ],
          [
           "KMT-2019-BLG-0253L b"
          ],
          [
           "KMT-2019-BLG-0253L b"
          ],
          [
           "KMT-2019-BLG-0253L b"
          ],
          [
           "KMT-2019-BLG-0298L b"
          ],
          [
           "KMT-2019-BLG-0298L b"
          ],
          [
           "KMT-2019-BLG-0298L b"
          ],
          [
           "KMT-2019-BLG-0371L b"
          ],
          [
           "KMT-2019-BLG-0371L b"
          ],
          [
           "KMT-2019-BLG-0414L b"
          ],
          [
           "KMT-2019-BLG-0414L b"
          ],
          [
           "KMT-2019-BLG-0414L b"
          ],
          [
           "KMT-2019-BLG-0414L b"
          ],
          [
           "KMT-2019-BLG-0842L b"
          ],
          [
           "KMT-2019-BLG-0953L b"
          ],
          [
           "KMT-2019-BLG-1042L b"
          ],
          [
           "KMT-2019-BLG-1216L b"
          ],
          [
           "KMT-2019-BLG-1216L b"
          ],
          [
           "KMT-2019-BLG-1216L b"
          ],
          [
           "KMT-2019-BLG-1216L b"
          ],
          [
           "KMT-2019-BLG-1216L b"
          ],
          [
           "KMT-2019-BLG-1216L b"
          ],
          [
           "KMT-2019-BLG-1216L b"
          ],
          [
           "KMT-2019-BLG-1339L b"
          ],
          [
           "KMT-2019-BLG-1339L b"
          ],
          [
           "KMT-2019-BLG-1339L b"
          ],
          [
           "KMT-2019-BLG-1339L b"
          ],
          [
           "KMT-2019-BLG-1367L b"
          ],
          [
           "KMT-2019-BLG-1367L b"
          ],
          [
           "KMT-2019-BLG-1367L b"
          ],
          [
           "KMT-2019-BLG-1552L b"
          ],
          [
           "KMT-2019-BLG-1715L b"
          ],
          [
           "KMT-2019-BLG-1715L b"
          ],
          [
           "KMT-2019-BLG-1806L b"
          ],
          [
           "KMT-2019-BLG-1806L b"
          ],
          [
           "KMT-2019-BLG-1806L b"
          ],
          [
           "KMT-2019-BLG-1806L b"
          ],
          [
           "KMT-2019-BLG-1806L b"
          ],
          [
           "KMT-2019-BLG-1953L b"
          ],
          [
           "KMT-2019-BLG-2783L b"
          ],
          [
           "KMT-2019-BLG-2974L b"
          ],
          [
           "KMT-2020-BLG-0414L b"
          ],
          [
           "KMT-2020-BLG-0414L b"
          ],
          [
           "KMT-2020-BLG-0414L b"
          ],
          [
           "KMT-2020-BLG-0414L b"
          ],
          [
           "KMT-2020-BLG-0414L c"
          ],
          [
           "KMT-2020-BLG-0414L c"
          ],
          [
           "KMT-2020-BLG-0414L c"
          ],
          [
           "KMT-2020-BLG-0414L c"
          ],
          [
           "KMT-2021-BLG-0119L b"
          ],
          [
           "KMT-2021-BLG-0119L b"
          ],
          [
           "KMT-2021-BLG-0119L b"
          ],
          [
           "KMT-2021-BLG-0119L b"
          ],
          [
           "KMT-2021-BLG-0171L b"
          ],
          [
           "KMT-2021-BLG-0171L b"
          ],
          [
           "KMT-2021-BLG-0171L b"
          ],
          [
           "KMT-2021-BLG-0171L b"
          ],
          [
           "KMT-2021-BLG-0171L b"
          ],
          [
           "KMT-2021-BLG-0171L b"
          ],
          [
           "KMT-2021-BLG-0171L b"
          ],
          [
           "KMT-2021-BLG-0171L b"
          ],
          [
           "KMT-2021-BLG-0171L b"
          ],
          [
           "KMT-2021-BLG-0171L b"
          ],
          [
           "KMT-2021-BLG-0171L b"
          ],
          [
           "KMT-2021-BLG-0192L b"
          ],
          [
           "KMT-2021-BLG-0192L b"
          ],
          [
           "KMT-2021-BLG-0192L b"
          ],
          [
           "KMT-2021-BLG-0192L b"
          ],
          [
           "KMT-2021-BLG-0192L b"
          ],
          [
           "KMT-2021-BLG-0192L b"
          ],
          [
           "KMT-2021-BLG-0240L b"
          ],
          [
           "KMT-2021-BLG-0240L b"
          ],
          [
           "KMT-2021-BLG-0240L b"
          ],
          [
           "KMT-2021-BLG-0240L b"
          ],
          [
           "KMT-2021-BLG-0240L b"
          ],
          [
           "KMT-2021-BLG-0240L b"
          ],
          [
           "KMT-2021-BLG-0320L b"
          ],
          [
           "KMT-2021-BLG-0320L b"
          ],
          [
           "KMT-2021-BLG-0322L b"
          ],
          [
           "KMT-2021-BLG-0712L b"
          ],
          [
           "KMT-2021-BLG-0712L b"
          ],
          [
           "KMT-2021-BLG-0712L b"
          ],
          [
           "KMT-2021-BLG-0748L b"
          ],
          [
           "KMT-2021-BLG-0748L b"
          ],
          [
           "KMT-2021-BLG-0748L b"
          ],
          [
           "KMT-2021-BLG-0909L b"
          ],
          [
           "KMT-2021-BLG-0912L b"
          ],
          [
           "KMT-2021-BLG-0912L b"
          ],
          [
           "KMT-2021-BLG-1077L b"
          ],
          [
           "KMT-2021-BLG-1077L b"
          ],
          [
           "KMT-2021-BLG-1077L c"
          ],
          [
           "KMT-2021-BLG-1077L c"
          ],
          [
           "KMT-2021-BLG-1105L b"
          ],
          [
           "KMT-2021-BLG-1105L b"
          ],
          [
           "KMT-2021-BLG-1105L b"
          ],
          [
           "KMT-2021-BLG-1105L b"
          ],
          [
           "KMT-2021-BLG-1105L b"
          ],
          [
           "KMT-2021-BLG-1105L b"
          ],
          [
           "KMT-2021-BLG-1105L b"
          ],
          [
           "KMT-2021-BLG-1253L b"
          ],
          [
           "KMT-2021-BLG-1253L b"
          ],
          [
           "KMT-2021-BLG-1253L b"
          ],
          [
           "KMT-2021-BLG-1253L b"
          ],
          [
           "KMT-2021-BLG-1253L b"
          ],
          [
           "KMT-2021-BLG-1303L b"
          ],
          [
           "KMT-2021-BLG-1372L b"
          ],
          [
           "KMT-2021-BLG-1372L b"
          ],
          [
           "KMT-2021-BLG-1372L b"
          ],
          [
           "KMT-2021-BLG-1391L b"
          ],
          [
           "KMT-2021-BLG-1391L b"
          ],
          [
           "KMT-2021-BLG-1391L b"
          ],
          [
           "KMT-2021-BLG-1391L b"
          ],
          [
           "KMT-2021-BLG-1391L b"
          ],
          [
           "KMT-2021-BLG-1554L b"
          ],
          [
           "KMT-2021-BLG-1554L b"
          ],
          [
           "KMT-2021-BLG-1689L b"
          ],
          [
           "KMT-2021-BLG-1689L b"
          ],
          [
           "KMT-2021-BLG-1689L b"
          ],
          [
           "KMT-2021-BLG-1689L b"
          ],
          [
           "KMT-2021-BLG-1689L b"
          ],
          [
           "KMT-2021-BLG-1689L b"
          ],
          [
           "KMT-2021-BLG-1689L b"
          ],
          [
           "KMT-2021-BLG-1898L b"
          ],
          [
           "KMT-2021-BLG-1898L b"
          ],
          [
           "KMT-2021-BLG-2294L b"
          ],
          [
           "KMT-2021-BLG-2294L b"
          ],
          [
           "KMT-2021-BLG-2294L b"
          ],
          [
           "KMT-2021-BLG-2294L b"
          ],
          [
           "KMT-2021-BLG-2478L b"
          ],
          [
           "KMT-2021-BLG-2478L b"
          ],
          [
           "KMT-2021-BLG-2478L b"
          ],
          [
           "KMT-2022-BLG-0440L b"
          ],
          [
           "KMT-2022-BLG-0440L b"
          ],
          [
           "KOI-12 b"
          ],
          [
           "KOI-12 b"
          ],
          [
           "KOI-12 b"
          ],
          [
           "KOI-1257 b"
          ],
          [
           "KOI-13 b"
          ],
          [
           "KOI-13 b"
          ],
          [
           "KOI-13 b"
          ],
          [
           "KOI-142 b"
          ],
          [
           "KOI-142 b"
          ],
          [
           "KOI-142 c"
          ],
          [
           "KOI-142 c"
          ],
          [
           "KOI-1599.01"
          ],
          [
           "KOI-1599.02"
          ],
          [
           "KOI-1783.01"
          ],
          [
           "KOI-1783.02"
          ],
          [
           "KOI-1831 d"
          ],
          [
           "KOI-1833 d"
          ],
          [
           "KOI-3503 b"
          ],
          [
           "KOI-3503 c"
          ],
          [
           "KOI-351 g"
          ],
          [
           "KOI-351 h"
          ],
          [
           "KOI-3680 b"
          ],
          [
           "KOI-4777.01"
          ],
          [
           "KOI-55 b"
          ],
          [
           "KOI-55 c"
          ],
          [
           "KOI-94 b"
          ],
          [
           "KOI-94 c"
          ],
          [
           "KOI-94 c"
          ],
          [
           "KOI-94 c"
          ],
          [
           "KOI-94 d"
          ],
          [
           "KOI-94 d"
          ],
          [
           "KOI-94 d"
          ],
          [
           "KOI-94 e"
          ],
          [
           "KOI-94 e"
          ],
          [
           "KOI-984 c"
          ],
          [
           "KOI-984 c"
          ],
          [
           "KPS-1 b"
          ],
          [
           "Kepler-10 b"
          ],
          [
           "Kepler-10 b"
          ],
          [
           "Kepler-10 b"
          ],
          [
           "Kepler-10 b"
          ],
          [
           "Kepler-10 b"
          ],
          [
           "Kepler-10 b"
          ],
          [
           "Kepler-10 b"
          ],
          [
           "Kepler-10 b"
          ],
          [
           "Kepler-10 c"
          ],
          [
           "Kepler-10 c"
          ],
          [
           "Kepler-10 c"
          ],
          [
           "Kepler-10 c"
          ],
          [
           "Kepler-10 c"
          ],
          [
           "Kepler-100 b"
          ],
          [
           "Kepler-100 c"
          ],
          [
           "Kepler-100 d"
          ],
          [
           "Kepler-101 b"
          ],
          [
           "Kepler-101 c"
          ],
          [
           "Kepler-102 b"
          ],
          [
           "Kepler-102 b"
          ],
          [
           "Kepler-102 c"
          ],
          [
           "Kepler-102 c"
          ],
          [
           "Kepler-102 d"
          ],
          [
           "Kepler-102 d"
          ],
          [
           "Kepler-102 d"
          ],
          [
           "Kepler-102 e"
          ],
          [
           "Kepler-102 e"
          ],
          [
           "Kepler-102 f"
          ],
          [
           "Kepler-102 f"
          ],
          [
           "Kepler-103 b"
          ],
          [
           "Kepler-103 b"
          ],
          [
           "Kepler-103 c"
          ],
          [
           "Kepler-103 c"
          ],
          [
           "Kepler-104 b"
          ],
          [
           "Kepler-105 b"
          ],
          [
           "Kepler-105 c"
          ],
          [
           "Kepler-105 c"
          ],
          [
           "Kepler-105 c"
          ],
          [
           "Kepler-106 b"
          ],
          [
           "Kepler-106 c"
          ],
          [
           "Kepler-106 d"
          ],
          [
           "Kepler-106 e"
          ],
          [
           "Kepler-107 b"
          ],
          [
           "Kepler-107 b"
          ],
          [
           "Kepler-107 c"
          ],
          [
           "Kepler-107 c"
          ],
          [
           "Kepler-107 d"
          ],
          [
           "Kepler-107 d"
          ],
          [
           "Kepler-107 e"
          ],
          [
           "Kepler-107 e"
          ],
          [
           "Kepler-109 b"
          ],
          [
           "Kepler-109 b"
          ],
          [
           "Kepler-109 c"
          ],
          [
           "Kepler-109 c"
          ],
          [
           "Kepler-11 b"
          ],
          [
           "Kepler-11 b"
          ],
          [
           "Kepler-11 b"
          ],
          [
           "Kepler-11 b"
          ],
          [
           "Kepler-11 c"
          ],
          [
           "Kepler-11 c"
          ],
          [
           "Kepler-11 c"
          ],
          [
           "Kepler-11 c"
          ],
          [
           "Kepler-11 d"
          ],
          [
           "Kepler-11 d"
          ],
          [
           "Kepler-11 d"
          ],
          [
           "Kepler-11 d"
          ],
          [
           "Kepler-11 d"
          ],
          [
           "Kepler-11 e"
          ],
          [
           "Kepler-11 e"
          ],
          [
           "Kepler-11 e"
          ],
          [
           "Kepler-11 e"
          ],
          [
           "Kepler-11 e"
          ],
          [
           "Kepler-11 f"
          ],
          [
           "Kepler-11 f"
          ],
          [
           "Kepler-11 f"
          ],
          [
           "Kepler-11 f"
          ],
          [
           "Kepler-11 f"
          ],
          [
           "Kepler-11 g"
          ],
          [
           "Kepler-11 g"
          ],
          [
           "Kepler-11 g"
          ],
          [
           "Kepler-113 b"
          ],
          [
           "Kepler-113 c"
          ],
          [
           "Kepler-114 b"
          ],
          [
           "Kepler-114 c"
          ],
          [
           "Kepler-114 c"
          ],
          [
           "Kepler-114 d"
          ],
          [
           "Kepler-117 b"
          ],
          [
           "Kepler-117 c"
          ],
          [
           "Kepler-120 b"
          ],
          [
           "Kepler-122 e"
          ],
          [
           "Kepler-122 f"
          ],
          [
           "Kepler-123 b"
          ],
          [
           "Kepler-128 b"
          ],
          [
           "Kepler-128 b"
          ],
          [
           "Kepler-128 b"
          ],
          [
           "Kepler-128 c"
          ],
          [
           "Kepler-128 c"
          ],
          [
           "Kepler-128 c"
          ],
          [
           "Kepler-129 c"
          ],
          [
           "Kepler-131 b"
          ],
          [
           "Kepler-131 c"
          ],
          [
           "Kepler-136 b"
          ],
          [
           "Kepler-138 b"
          ],
          [
           "Kepler-138 b"
          ],
          [
           "Kepler-138 b"
          ],
          [
           "Kepler-138 b"
          ],
          [
           "Kepler-138 c"
          ],
          [
           "Kepler-138 c"
          ],
          [
           "Kepler-138 c"
          ],
          [
           "Kepler-138 c"
          ],
          [
           "Kepler-138 c"
          ],
          [
           "Kepler-138 d"
          ],
          [
           "Kepler-138 d"
          ],
          [
           "Kepler-138 d"
          ],
          [
           "Kepler-138 d"
          ],
          [
           "Kepler-138 e"
          ],
          [
           "Kepler-14 b"
          ],
          [
           "Kepler-14 b"
          ],
          [
           "Kepler-145 b"
          ],
          [
           "Kepler-145 c"
          ],
          [
           "Kepler-15 b"
          ],
          [
           "Kepler-15 b"
          ],
          [
           "Kepler-15 b"
          ],
          [
           "Kepler-1514 b"
          ],
          [
           "Kepler-16 b"
          ],
          [
           "Kepler-16 b"
          ],
          [
           "Kepler-160 d"
          ],
          [
           "Kepler-161 b"
          ],
          [
           "Kepler-161 c"
          ],
          [
           "Kepler-1647 b"
          ],
          [
           "Kepler-1655 b"
          ],
          [
           "Kepler-1655 b"
          ],
          [
           "Kepler-1656 c"
          ],
          [
           "Kepler-1658 b"
          ],
          [
           "Kepler-1661 b"
          ],
          [
           "Kepler-167 e"
          ],
          [
           "Kepler-17 b"
          ],
          [
           "Kepler-17 b"
          ],
          [
           "Kepler-17 b"
          ],
          [
           "Kepler-170 b"
          ],
          [
           "Kepler-1704 b"
          ],
          [
           "Kepler-1705 b"
          ],
          [
           "Kepler-1705 c"
          ],
          [
           "Kepler-176 c"
          ],
          [
           "Kepler-176 d"
          ],
          [
           "Kepler-177 b"
          ],
          [
           "Kepler-177 b"
          ],
          [
           "Kepler-177 b"
          ],
          [
           "Kepler-177 c"
          ],
          [
           "Kepler-177 c"
          ],
          [
           "Kepler-177 c"
          ],
          [
           "Kepler-18 b"
          ],
          [
           "Kepler-18 c"
          ],
          [
           "Kepler-18 c"
          ],
          [
           "Kepler-18 d"
          ],
          [
           "Kepler-18 d"
          ],
          [
           "Kepler-18 d"
          ],
          [
           "Kepler-183 c"
          ],
          [
           "Kepler-184 c"
          ],
          [
           "Kepler-1876 b"
          ],
          [
           "Kepler-189 c"
          ],
          [
           "Kepler-19 b"
          ],
          [
           "Kepler-19 b"
          ],
          [
           "Kepler-19 b"
          ],
          [
           "Kepler-19 c"
          ],
          [
           "Kepler-19 c"
          ],
          [
           "Kepler-19 d"
          ],
          [
           "Kepler-197 c"
          ],
          [
           "Kepler-1972 b"
          ],
          [
           "Kepler-1972 c"
          ],
          [
           "Kepler-20 b"
          ],
          [
           "Kepler-20 b"
          ],
          [
           "Kepler-20 b"
          ],
          [
           "Kepler-20 c"
          ],
          [
           "Kepler-20 c"
          ],
          [
           "Kepler-20 c"
          ],
          [
           "Kepler-20 d"
          ],
          [
           "Kepler-20 d"
          ],
          [
           "Kepler-20 d"
          ],
          [
           "Kepler-20 e"
          ],
          [
           "Kepler-20 e"
          ],
          [
           "Kepler-20 f"
          ],
          [
           "Kepler-20 f"
          ],
          [
           "Kepler-203 c"
          ],
          [
           "Kepler-203 d"
          ],
          [
           "Kepler-21 b"
          ],
          [
           "Kepler-21 b"
          ],
          [
           "Kepler-21 b"
          ],
          [
           "Kepler-211 c"
          ],
          [
           "Kepler-215 d"
          ],
          [
           "Kepler-219 d"
          ],
          [
           "Kepler-22 b"
          ],
          [
           "Kepler-22 b"
          ],
          [
           "Kepler-221 c"
          ],
          [
           "Kepler-223 b"
          ],
          [
           "Kepler-223 b"
          ],
          [
           "Kepler-223 c"
          ],
          [
           "Kepler-223 c"
          ],
          [
           "Kepler-223 d"
          ],
          [
           "Kepler-223 d"
          ],
          [
           "Kepler-223 e"
          ],
          [
           "Kepler-226 b"
          ],
          [
           "Kepler-226 c"
          ],
          [
           "Kepler-23 b"
          ],
          [
           "Kepler-23 b"
          ],
          [
           "Kepler-23 c"
          ],
          [
           "Kepler-23 c"
          ],
          [
           "Kepler-23 d"
          ],
          [
           "Kepler-231 b"
          ],
          [
           "Kepler-231 c"
          ],
          [
           "Kepler-238 e"
          ],
          [
           "Kepler-238 f"
          ],
          [
           "Kepler-24 b"
          ],
          [
           "Kepler-24 b"
          ],
          [
           "Kepler-24 c"
          ],
          [
           "Kepler-24 c"
          ],
          [
           "Kepler-240 c"
          ],
          [
           "Kepler-244 d"
          ],
          [
           "Kepler-245 c"
          ],
          [
           "Kepler-245 d"
          ],
          [
           "Kepler-25 b"
          ],
          [
           "Kepler-25 b"
          ],
          [
           "Kepler-25 b"
          ],
          [
           "Kepler-25 b"
          ],
          [
           "Kepler-25 c"
          ],
          [
           "Kepler-25 c"
          ],
          [
           "Kepler-25 c"
          ],
          [
           "Kepler-25 c"
          ],
          [
           "Kepler-25 d"
          ],
          [
           "Kepler-25 d"
          ],
          [
           "Kepler-254 c"
          ],
          [
           "Kepler-26 b"
          ],
          [
           "Kepler-26 b"
          ],
          [
           "Kepler-26 b"
          ],
          [
           "Kepler-26 c"
          ],
          [
           "Kepler-26 c"
          ],
          [
           "Kepler-26 c"
          ],
          [
           "Kepler-26 c"
          ],
          [
           "Kepler-267 b"
          ],
          [
           "Kepler-27 b"
          ],
          [
           "Kepler-27 b"
          ],
          [
           "Kepler-27 c"
          ],
          [
           "Kepler-27 c"
          ],
          [
           "Kepler-272 b"
          ],
          [
           "Kepler-272 c"
          ],
          [
           "Kepler-276 c"
          ],
          [
           "Kepler-276 c"
          ],
          [
           "Kepler-276 d"
          ],
          [
           "Kepler-276 d"
          ],
          [
           "Kepler-277 b"
          ],
          [
           "Kepler-277 b"
          ],
          [
           "Kepler-277 c"
          ],
          [
           "Kepler-277 c"
          ],
          [
           "Kepler-279 c"
          ],
          [
           "Kepler-279 c"
          ],
          [
           "Kepler-279 d"
          ],
          [
           "Kepler-279 d"
          ],
          [
           "Kepler-28 b"
          ],
          [
           "Kepler-28 b"
          ],
          [
           "Kepler-28 c"
          ],
          [
           "Kepler-28 c"
          ],
          [
           "Kepler-282 d"
          ],
          [
           "Kepler-282 e"
          ],
          [
           "Kepler-289 b"
          ],
          [
           "Kepler-289 c"
          ],
          [
           "Kepler-289 c"
          ],
          [
           "Kepler-289 d"
          ],
          [
           "Kepler-29 b"
          ],
          [
           "Kepler-29 b"
          ],
          [
           "Kepler-29 b"
          ],
          [
           "Kepler-29 c"
          ],
          [
           "Kepler-29 c"
          ],
          [
           "Kepler-29 c"
          ],
          [
           "Kepler-297 b"
          ],
          [
           "Kepler-297 c"
          ],
          [
           "Kepler-30 b"
          ],
          [
           "Kepler-30 b"
          ],
          [
           "Kepler-30 b"
          ],
          [
           "Kepler-30 b"
          ],
          [
           "Kepler-30 c"
          ],
          [
           "Kepler-30 c"
          ],
          [
           "Kepler-30 c"
          ],
          [
           "Kepler-30 c"
          ],
          [
           "Kepler-30 d"
          ],
          [
           "Kepler-30 d"
          ],
          [
           "Kepler-305 b"
          ],
          [
           "Kepler-305 b"
          ],
          [
           "Kepler-305 c"
          ],
          [
           "Kepler-305 c"
          ],
          [
           "Kepler-305 d"
          ],
          [
           "Kepler-307 b"
          ],
          [
           "Kepler-307 b"
          ],
          [
           "Kepler-307 b"
          ],
          [
           "Kepler-307 b"
          ],
          [
           "Kepler-307 b"
          ],
          [
           "Kepler-307 c"
          ],
          [
           "Kepler-307 c"
          ],
          [
           "Kepler-307 c"
          ],
          [
           "Kepler-307 c"
          ],
          [
           "Kepler-307 c"
          ],
          [
           "Kepler-31 c"
          ],
          [
           "Kepler-31 c"
          ],
          [
           "Kepler-31 d"
          ],
          [
           "Kepler-310 d"
          ],
          [
           "Kepler-317 b"
          ],
          [
           "Kepler-32 b"
          ],
          [
           "Kepler-32 b"
          ],
          [
           "Kepler-32 c"
          ],
          [
           "Kepler-32 c"
          ],
          [
           "Kepler-323 b"
          ],
          [
           "Kepler-323 b"
          ],
          [
           "Kepler-323 c"
          ],
          [
           "Kepler-323 c"
          ],
          [
           "Kepler-326 b"
          ],
          [
           "Kepler-326 c"
          ],
          [
           "Kepler-326 d"
          ],
          [
           "Kepler-327 c"
          ],
          [
           "Kepler-328 b"
          ],
          [
           "Kepler-328 c"
          ],
          [
           "Kepler-33 c"
          ],
          [
           "Kepler-33 d"
          ],
          [
           "Kepler-33 d"
          ],
          [
           "Kepler-33 d"
          ],
          [
           "Kepler-33 e"
          ],
          [
           "Kepler-33 e"
          ],
          [
           "Kepler-33 e"
          ],
          [
           "Kepler-33 f"
          ],
          [
           "Kepler-33 f"
          ],
          [
           "Kepler-33 f"
          ],
          [
           "Kepler-333 b"
          ],
          [
           "Kepler-338 b"
          ],
          [
           "Kepler-338 e"
          ],
          [
           "Kepler-339 c"
          ],
          [
           "Kepler-339 d"
          ],
          [
           "Kepler-34 b"
          ],
          [
           "Kepler-345 b"
          ],
          [
           "Kepler-345 c"
          ],
          [
           "Kepler-349 b"
          ],
          [
           "Kepler-35 b"
          ],
          [
           "Kepler-350 c"
          ],
          [
           "Kepler-350 c"
          ],
          [
           "Kepler-350 d"
          ],
          [
           "Kepler-350 d"
          ],
          [
           "Kepler-351 b"
          ],
          [
           "Kepler-351 c"
          ],
          [
           "Kepler-359 c"
          ],
          [
           "Kepler-359 d"
          ],
          [
           "Kepler-36 b"
          ],
          [
           "Kepler-36 b"
          ],
          [
           "Kepler-36 b"
          ],
          [
           "Kepler-36 b"
          ],
          [
           "Kepler-36 c"
          ],
          [
           "Kepler-36 c"
          ],
          [
           "Kepler-36 c"
          ],
          [
           "Kepler-36 c"
          ],
          [
           "Kepler-363 c"
          ],
          [
           "Kepler-37 b"
          ],
          [
           "Kepler-37 b"
          ],
          [
           "Kepler-37 b"
          ],
          [
           "Kepler-37 c"
          ],
          [
           "Kepler-37 c"
          ],
          [
           "Kepler-37 d"
          ],
          [
           "Kepler-37 d"
          ],
          [
           "Kepler-37 d"
          ],
          [
           "Kepler-38 b"
          ],
          [
           "Kepler-385 b"
          ],
          [
           "Kepler-385 c"
          ],
          [
           "Kepler-396 b"
          ],
          [
           "Kepler-396 c"
          ],
          [
           "Kepler-4 b"
          ],
          [
           "Kepler-4 b"
          ],
          [
           "Kepler-40 b"
          ],
          [
           "Kepler-40 b"
          ],
          [
           "Kepler-40 b"
          ],
          [
           "Kepler-40 b"
          ],
          [
           "Kepler-406 b"
          ],
          [
           "Kepler-406 c"
          ],
          [
           "Kepler-407 b"
          ],
          [
           "Kepler-407 c"
          ],
          [
           "Kepler-408 b"
          ],
          [
           "Kepler-409 b"
          ],
          [
           "Kepler-409 b"
          ],
          [
           "Kepler-411 b"
          ],
          [
           "Kepler-411 c"
          ],
          [
           "Kepler-411 d"
          ],
          [
           "Kepler-411 e"
          ],
          [
           "Kepler-413 b"
          ],
          [
           "Kepler-414 b"
          ],
          [
           "Kepler-414 c"
          ],
          [
           "Kepler-415 b"
          ],
          [
           "Kepler-416 b"
          ],
          [
           "Kepler-417 b"
          ],
          [
           "Kepler-418 b"
          ],
          [
           "Kepler-418 b"
          ],
          [
           "Kepler-419 b"
          ],
          [
           "Kepler-419 b"
          ],
          [
           "Kepler-419 c"
          ],
          [
           "Kepler-423 b"
          ],
          [
           "Kepler-423 b"
          ],
          [
           "Kepler-423 b"
          ],
          [
           "Kepler-424 b"
          ],
          [
           "Kepler-424 b"
          ],
          [
           "Kepler-425 b"
          ],
          [
           "Kepler-425 b"
          ],
          [
           "Kepler-426 b"
          ],
          [
           "Kepler-426 b"
          ],
          [
           "Kepler-428 b"
          ],
          [
           "Kepler-428 b"
          ],
          [
           "Kepler-432 b"
          ],
          [
           "Kepler-432 b"
          ],
          [
           "Kepler-432 b"
          ],
          [
           "Kepler-433 b"
          ],
          [
           "Kepler-433 b"
          ],
          [
           "Kepler-434 b"
          ],
          [
           "Kepler-434 b"
          ],
          [
           "Kepler-435 b"
          ],
          [
           "Kepler-435 b"
          ],
          [
           "Kepler-44 b"
          ],
          [
           "Kepler-44 b"
          ],
          [
           "Kepler-44 b"
          ],
          [
           "Kepler-44 b"
          ],
          [
           "Kepler-444 d"
          ],
          [
           "Kepler-444 e"
          ],
          [
           "Kepler-447 b"
          ],
          [
           "Kepler-448 c"
          ],
          [
           "Kepler-45 b"
          ],
          [
           "Kepler-45 b"
          ],
          [
           "Kepler-45 b"
          ],
          [
           "Kepler-450 b"
          ],
          [
           "Kepler-450 c"
          ],
          [
           "Kepler-450 d"
          ],
          [
           "Kepler-453 b"
          ],
          [
           "Kepler-454 b"
          ],
          [
           "Kepler-454 b"
          ],
          [
           "Kepler-454 b"
          ],
          [
           "Kepler-46 b"
          ],
          [
           "Kepler-46 b"
          ],
          [
           "Kepler-46 c"
          ],
          [
           "Kepler-46 c"
          ],
          [
           "Kepler-462 b"
          ],
          [
           "Kepler-462 c"
          ],
          [
           "Kepler-47 b"
          ],
          [
           "Kepler-47 b"
          ],
          [
           "Kepler-47 c"
          ],
          [
           "Kepler-47 c"
          ],
          [
           "Kepler-47 d"
          ],
          [
           "Kepler-48 b"
          ],
          [
           "Kepler-48 b"
          ],
          [
           "Kepler-48 b"
          ],
          [
           "Kepler-48 c"
          ],
          [
           "Kepler-48 c"
          ],
          [
           "Kepler-48 c"
          ],
          [
           "Kepler-48 d"
          ],
          [
           "Kepler-48 e"
          ],
          [
           "Kepler-49 b"
          ],
          [
           "Kepler-49 b"
          ],
          [
           "Kepler-49 c"
          ],
          [
           "Kepler-49 c"
          ],
          [
           "Kepler-5 b"
          ],
          [
           "Kepler-5 b"
          ],
          [
           "Kepler-5 b"
          ],
          [
           "Kepler-5 b"
          ],
          [
           "Kepler-50 b"
          ],
          [
           "Kepler-50 c"
          ],
          [
           "Kepler-51 b"
          ],
          [
           "Kepler-51 b"
          ],
          [
           "Kepler-51 b"
          ],
          [
           "Kepler-51 c"
          ],
          [
           "Kepler-51 c"
          ],
          [
           "Kepler-51 c"
          ],
          [
           "Kepler-51 c"
          ],
          [
           "Kepler-51 d"
          ],
          [
           "Kepler-51 d"
          ],
          [
           "Kepler-51 d"
          ],
          [
           "Kepler-52 b"
          ],
          [
           "Kepler-52 b"
          ],
          [
           "Kepler-52 c"
          ],
          [
           "Kepler-52 c"
          ],
          [
           "Kepler-53 b"
          ],
          [
           "Kepler-53 b"
          ],
          [
           "Kepler-53 c"
          ],
          [
           "Kepler-53 c"
          ],
          [
           "Kepler-538 b"
          ],
          [
           "Kepler-538 b"
          ],
          [
           "Kepler-539 b"
          ],
          [
           "Kepler-539 c"
          ],
          [
           "Kepler-54 b"
          ],
          [
           "Kepler-54 c"
          ],
          [
           "Kepler-549 b"
          ],
          [
           "Kepler-55 b"
          ],
          [
           "Kepler-55 c"
          ],
          [
           "Kepler-56 b"
          ],
          [
           "Kepler-56 b"
          ],
          [
           "Kepler-56 b"
          ],
          [
           "Kepler-56 c"
          ],
          [
           "Kepler-56 c"
          ],
          [
           "Kepler-56 c"
          ],
          [
           "Kepler-57 b"
          ],
          [
           "Kepler-57 b"
          ],
          [
           "Kepler-57 c"
          ],
          [
           "Kepler-57 c"
          ],
          [
           "Kepler-58 b"
          ],
          [
           "Kepler-58 b"
          ],
          [
           "Kepler-58 c"
          ],
          [
           "Kepler-595 b"
          ],
          [
           "Kepler-595 c"
          ],
          [
           "Kepler-6 b"
          ],
          [
           "Kepler-6 b"
          ],
          [
           "Kepler-6 b"
          ],
          [
           "Kepler-6 b"
          ],
          [
           "Kepler-60 b"
          ],
          [
           "Kepler-60 b"
          ],
          [
           "Kepler-60 b"
          ],
          [
           "Kepler-60 b"
          ],
          [
           "Kepler-60 c"
          ],
          [
           "Kepler-60 c"
          ],
          [
           "Kepler-60 c"
          ],
          [
           "Kepler-60 c"
          ],
          [
           "Kepler-60 d"
          ],
          [
           "Kepler-60 d"
          ],
          [
           "Kepler-60 d"
          ],
          [
           "Kepler-62 b"
          ],
          [
           "Kepler-62 c"
          ],
          [
           "Kepler-62 d"
          ],
          [
           "Kepler-62 e"
          ],
          [
           "Kepler-62 f"
          ],
          [
           "Kepler-63 b"
          ],
          [
           "Kepler-643 b"
          ],
          [
           "Kepler-65 b"
          ],
          [
           "Kepler-65 c"
          ],
          [
           "Kepler-65 c"
          ],
          [
           "Kepler-65 d"
          ],
          [
           "Kepler-65 e"
          ],
          [
           "Kepler-68 b"
          ],
          [
           "Kepler-68 b"
          ],
          [
           "Kepler-68 b"
          ],
          [
           "Kepler-68 b"
          ],
          [
           "Kepler-68 b"
          ],
          [
           "Kepler-68 c"
          ],
          [
           "Kepler-68 c"
          ],
          [
           "Kepler-68 c"
          ],
          [
           "Kepler-68 c"
          ],
          [
           "Kepler-7 b"
          ],
          [
           "Kepler-7 b"
          ],
          [
           "Kepler-7 b"
          ],
          [
           "Kepler-7 b"
          ],
          [
           "Kepler-7 b"
          ],
          [
           "Kepler-74 b"
          ],
          [
           "Kepler-74 b"
          ],
          [
           "Kepler-74 b"
          ],
          [
           "Kepler-75 b"
          ],
          [
           "Kepler-75 b"
          ],
          [
           "Kepler-75 b"
          ],
          [
           "Kepler-77 b"
          ],
          [
           "Kepler-77 b"
          ],
          [
           "Kepler-77 b"
          ],
          [
           "Kepler-78 b"
          ],
          [
           "Kepler-78 b"
          ],
          [
           "Kepler-78 b"
          ],
          [
           "Kepler-78 b"
          ],
          [
           "Kepler-78 b"
          ],
          [
           "Kepler-78 b"
          ],
          [
           "Kepler-78 b"
          ],
          [
           "Kepler-79 b"
          ],
          [
           "Kepler-79 b"
          ],
          [
           "Kepler-79 b"
          ],
          [
           "Kepler-79 c"
          ],
          [
           "Kepler-79 c"
          ],
          [
           "Kepler-79 c"
          ],
          [
           "Kepler-79 d"
          ],
          [
           "Kepler-79 d"
          ],
          [
           "Kepler-79 e"
          ],
          [
           "Kepler-79 e"
          ],
          [
           "Kepler-79 e"
          ],
          [
           "Kepler-8 b"
          ],
          [
           "Kepler-8 b"
          ],
          [
           "Kepler-8 b"
          ],
          [
           "Kepler-8 b"
          ],
          [
           "Kepler-80 b"
          ],
          [
           "Kepler-80 c"
          ],
          [
           "Kepler-80 d"
          ],
          [
           "Kepler-80 d"
          ],
          [
           "Kepler-80 e"
          ],
          [
           "Kepler-80 e"
          ],
          [
           "Kepler-81 b"
          ],
          [
           "Kepler-81 c"
          ],
          [
           "Kepler-82 b"
          ],
          [
           "Kepler-82 b"
          ],
          [
           "Kepler-82 c"
          ],
          [
           "Kepler-82 c"
          ],
          [
           "Kepler-82 f"
          ],
          [
           "Kepler-83 b"
          ],
          [
           "Kepler-83 c"
          ],
          [
           "Kepler-83 d"
          ],
          [
           "Kepler-84 b"
          ],
          [
           "Kepler-84 c"
          ],
          [
           "Kepler-85 c"
          ],
          [
           "Kepler-85 e"
          ],
          [
           "Kepler-87 c"
          ],
          [
           "Kepler-9 b"
          ],
          [
           "Kepler-9 b"
          ],
          [
           "Kepler-9 b"
          ],
          [
           "Kepler-9 b"
          ],
          [
           "Kepler-9 b"
          ],
          [
           "Kepler-9 b"
          ],
          [
           "Kepler-9 c"
          ],
          [
           "Kepler-9 c"
          ],
          [
           "Kepler-9 c"
          ],
          [
           "Kepler-9 c"
          ],
          [
           "Kepler-9 c"
          ],
          [
           "Kepler-91 b"
          ],
          [
           "Kepler-91 b"
          ],
          [
           "Kepler-91 b"
          ],
          [
           "Kepler-91 b"
          ],
          [
           "Kepler-91 b"
          ],
          [
           "Kepler-92 b"
          ],
          [
           "Kepler-92 c"
          ],
          [
           "Kepler-93 b"
          ],
          [
           "Kepler-93 b"
          ],
          [
           "Kepler-93 b"
          ],
          [
           "Kepler-93 b"
          ],
          [
           "Kepler-93 b"
          ],
          [
           "Kepler-93 c"
          ],
          [
           "Kepler-93 c"
          ],
          [
           "Kepler-94 b"
          ],
          [
           "Kepler-94 c"
          ],
          [
           "Kepler-95 b"
          ],
          [
           "Kepler-96 b"
          ],
          [
           "Kepler-97 b"
          ],
          [
           "Kepler-97 c"
          ],
          [
           "Kepler-98 b"
          ],
          [
           "Kepler-99 b"
          ],
          [
           "L 168-9 b"
          ],
          [
           "L 98-59 b"
          ],
          [
           "L 98-59 b"
          ],
          [
           "L 98-59 c"
          ],
          [
           "L 98-59 c"
          ],
          [
           "L 98-59 c"
          ],
          [
           "L 98-59 d"
          ],
          [
           "L 98-59 d"
          ],
          [
           "L 98-59 d"
          ],
          [
           "LHS 1140 b"
          ],
          [
           "LHS 1140 b"
          ],
          [
           "LHS 1140 b"
          ],
          [
           "LHS 1140 c"
          ],
          [
           "LHS 1140 c"
          ],
          [
           "LHS 1478 b"
          ],
          [
           "LHS 1678 b"
          ],
          [
           "LHS 1678 c"
          ],
          [
           "LHS 1815 b"
          ],
          [
           "LHS 1815 b"
          ],
          [
           "LP 714-47 b"
          ],
          [
           "LP 791-18 c"
          ],
          [
           "LP 791-18 d"
          ],
          [
           "LP 890-9 b"
          ],
          [
           "LP 890-9 c"
          ],
          [
           "LTT 1445 A b"
          ],
          [
           "LTT 1445 A b"
          ],
          [
           "LTT 1445 A c"
          ],
          [
           "LTT 3780 b"
          ],
          [
           "LTT 3780 b"
          ],
          [
           "LTT 3780 b"
          ],
          [
           "LTT 3780 c"
          ],
          [
           "LTT 3780 c"
          ],
          [
           "LTT 3780 c"
          ],
          [
           "LTT 9779 b"
          ],
          [
           "Lupus-TR-3 b"
          ],
          [
           "MASCARA-1 b"
          ],
          [
           "MASCARA-4 b"
          ],
          [
           "MOA-2007-BLG-192L b"
          ],
          [
           "MOA-2007-BLG-400L b"
          ],
          [
           "MOA-2007-BLG-400L b"
          ],
          [
           "MOA-2007-BLG-400L b"
          ],
          [
           "MOA-2007-BLG-400L b"
          ],
          [
           "MOA-2008-BLG-310L b"
          ],
          [
           "MOA-2008-BLG-310L b"
          ],
          [
           "MOA-2008-BLG-310L b"
          ],
          [
           "MOA-2008-BLG-310L b"
          ],
          [
           "MOA-2008-BLG-379L b"
          ],
          [
           "MOA-2008-BLG-379L b"
          ],
          [
           "MOA-2009-BLG-266L b"
          ],
          [
           "MOA-2009-BLG-266L b"
          ],
          [
           "MOA-2009-BLG-319L b"
          ],
          [
           "MOA-2009-BLG-319L b"
          ],
          [
           "MOA-2009-BLG-387L b"
          ],
          [
           "MOA-2009-BLG-387L b"
          ],
          [
           "MOA-2010-BLG-073L b"
          ],
          [
           "MOA-2010-BLG-117L b"
          ],
          [
           "MOA-2010-BLG-117L b"
          ],
          [
           "MOA-2010-BLG-328L b"
          ],
          [
           "MOA-2010-BLG-328L b"
          ],
          [
           "MOA-2010-BLG-328L b"
          ],
          [
           "MOA-2010-BLG-353L b"
          ],
          [
           "MOA-2010-BLG-353L b"
          ],
          [
           "MOA-2010-BLG-477L b"
          ],
          [
           "MOA-2010-BLG-477L b"
          ],
          [
           "MOA-2011-BLG-028L b"
          ],
          [
           "MOA-2011-BLG-028L b"
          ],
          [
           "MOA-2011-BLG-262L b"
          ],
          [
           "MOA-2011-BLG-262L b"
          ],
          [
           "MOA-2011-BLG-291L b"
          ],
          [
           "MOA-2011-BLG-291L b"
          ],
          [
           "MOA-2011-BLG-291L b"
          ],
          [
           "MOA-2011-BLG-291L b"
          ],
          [
           "MOA-2011-BLG-291L b"
          ],
          [
           "MOA-2011-BLG-293L b"
          ],
          [
           "MOA-2011-BLG-293L b"
          ],
          [
           "MOA-2011-BLG-293L b"
          ],
          [
           "MOA-2011-BLG-293L b"
          ],
          [
           "MOA-2011-BLG-293L b"
          ],
          [
           "MOA-2011-BLG-322L b"
          ],
          [
           "MOA-2012-BLG-006L b"
          ],
          [
           "MOA-2012-BLG-505L b"
          ],
          [
           "MOA-2012-BLG-505L b"
          ],
          [
           "MOA-2013-BLG-220L b"
          ],
          [
           "MOA-2013-BLG-605L b"
          ],
          [
           "MOA-2013-BLG-605L b"
          ],
          [
           "MOA-2013-BLG-605L b"
          ],
          [
           "MOA-2013-BLG-605L b"
          ],
          [
           "MOA-2013-BLG-605L b"
          ],
          [
           "MOA-2013-BLG-605L b"
          ],
          [
           "MOA-2015-BLG-337L b"
          ],
          [
           "MOA-2015-BLG-337L b"
          ],
          [
           "MOA-2015-BLG-337L b"
          ],
          [
           "MOA-2015-BLG-337L b"
          ],
          [
           "MOA-2016-BLG-227L b"
          ],
          [
           "MOA-2016-BLG-227L b"
          ],
          [
           "MOA-2016-BLG-227L b"
          ],
          [
           "MOA-2016-BLG-227L b"
          ],
          [
           "MOA-2016-BLG-319L b"
          ],
          [
           "MOA-2016-BLG-319L b"
          ],
          [
           "MOA-2019-BLG-008L b"
          ],
          [
           "MOA-2019-BLG-008L b"
          ],
          [
           "MOA-2019-BLG-008L b"
          ],
          [
           "MOA-2019-BLG-008L b"
          ],
          [
           "MOA-2019-BLG-008L b"
          ],
          [
           "MOA-2019-BLG-008L b"
          ],
          [
           "MOA-2019-BLG-008L b"
          ],
          [
           "MOA-2019-BLG-008L b"
          ],
          [
           "MOA-2019-BLG-008L b"
          ],
          [
           "MOA-2019-BLG-008L b"
          ],
          [
           "MOA-2019-BLG-008L b"
          ],
          [
           "MOA-2019-BLG-008L b"
          ],
          [
           "MOA-2020-BLG-135L b"
          ],
          [
           "MOA-2020-BLG-135L b"
          ],
          [
           "MOA-2020-BLG-208L b"
          ],
          [
           "MOA-2020-BLG-208L b"
          ],
          [
           "MOA-bin-1L b"
          ],
          [
           "MOA-bin-29 b"
          ],
          [
           "MOA-bin-29 b"
          ],
          [
           "MOA-bin-29 b"
          ],
          [
           "MOA-bin-29 b"
          ],
          [
           "MOA-bin-29 b"
          ],
          [
           "MOA-bin-29 b"
          ],
          [
           "MXB 1658-298 b"
          ],
          [
           "NGTS-1 b"
          ],
          [
           "NGTS-10 b"
          ],
          [
           "NGTS-11 b"
          ],
          [
           "NGTS-12 b"
          ],
          [
           "NGTS-13 b"
          ],
          [
           "NGTS-14 A b"
          ],
          [
           "NGTS-15 b"
          ],
          [
           "NGTS-16 b"
          ],
          [
           "NGTS-20 b"
          ],
          [
           "NGTS-21 b"
          ],
          [
           "NGTS-24 b"
          ],
          [
           "NGTS-25 b"
          ],
          [
           "NGTS-3 A b"
          ],
          [
           "NGTS-4 b"
          ],
          [
           "NGTS-5 b"
          ],
          [
           "NGTS-6 b"
          ],
          [
           "NGTS-8 b"
          ],
          [
           "NGTS-9 b"
          ],
          [
           "NN Ser c"
          ],
          [
           "NN Ser c"
          ],
          [
           "NN Ser d"
          ],
          [
           "NN Ser d"
          ],
          [
           "NY Vir b"
          ],
          [
           "OGLE-2003-BLG-235L b"
          ],
          [
           "OGLE-2003-BLG-235L b"
          ],
          [
           "OGLE-2005-BLG-071L b"
          ],
          [
           "OGLE-2005-BLG-071L b"
          ],
          [
           "OGLE-2005-BLG-071L b"
          ],
          [
           "OGLE-2005-BLG-071L b"
          ],
          [
           "OGLE-2005-BLG-071L b"
          ],
          [
           "OGLE-2005-BLG-071L b"
          ],
          [
           "OGLE-2005-BLG-169L b"
          ],
          [
           "OGLE-2005-BLG-169L b"
          ],
          [
           "OGLE-2005-BLG-169L b"
          ],
          [
           "OGLE-2005-BLG-390L b"
          ],
          [
           "OGLE-2006-BLG-109L b"
          ],
          [
           "OGLE-2006-BLG-109L b"
          ],
          [
           "OGLE-2006-BLG-109L c"
          ],
          [
           "OGLE-2006-BLG-109L c"
          ],
          [
           "OGLE-2006-BLG-284L A b"
          ],
          [
           "OGLE-2007-BLG-349L AB c"
          ],
          [
           "OGLE-2007-BLG-368L b"
          ],
          [
           "OGLE-2008-BLG-092L b"
          ],
          [
           "OGLE-2008-BLG-355L b"
          ],
          [
           "OGLE-2011-BLG-0173L b"
          ],
          [
           "OGLE-2011-BLG-0173L b"
          ],
          [
           "OGLE-2011-BLG-0173L b"
          ],
          [
           "OGLE-2011-BLG-0173L b"
          ],
          [
           "OGLE-2011-BLG-0251L b"
          ],
          [
           "OGLE-2011-BLG-0251L b"
          ],
          [
           "OGLE-2011-BLG-0265L b"
          ],
          [
           "OGLE-2011-BLG-0265L b"
          ],
          [
           "OGLE-2012-BLG-0026L b"
          ],
          [
           "OGLE-2012-BLG-0026L b"
          ],
          [
           "OGLE-2012-BLG-0026L c"
          ],
          [
           "OGLE-2012-BLG-0026L c"
          ],
          [
           "OGLE-2012-BLG-0358L b"
          ],
          [
           "OGLE-2012-BLG-0358L b"
          ],
          [
           "OGLE-2012-BLG-0358L b"
          ],
          [
           "OGLE-2012-BLG-0406L b"
          ],
          [
           "OGLE-2012-BLG-0406L b"
          ],
          [
           "OGLE-2012-BLG-0406L b"
          ],
          [
           "OGLE-2012-BLG-0563L b"
          ],
          [
           "OGLE-2012-BLG-0563L b"
          ],
          [
           "OGLE-2012-BLG-0724L b"
          ],
          [
           "OGLE-2012-BLG-0724L b"
          ],
          [
           "OGLE-2012-BLG-0838L b"
          ],
          [
           "OGLE-2012-BLG-0950L b"
          ],
          [
           "OGLE-2012-BLG-0950L b"
          ],
          [
           "OGLE-2012-BLG-0950L b"
          ],
          [
           "OGLE-2012-BLG-0950L b"
          ],
          [
           "OGLE-2012-BLG-0950L b"
          ],
          [
           "OGLE-2012-BLG-0950L b"
          ],
          [
           "OGLE-2012-BLG-0950L b"
          ],
          [
           "OGLE-2012-BLG-0950L b"
          ],
          [
           "OGLE-2012-BLG-0950L b"
          ],
          [
           "OGLE-2012-BLG-0950L b"
          ],
          [
           "OGLE-2012-BLG-0950L b"
          ],
          [
           "OGLE-2012-BLG-0950L b"
          ],
          [
           "OGLE-2013-BLG-0102L b"
          ],
          [
           "OGLE-2013-BLG-0102L b"
          ],
          [
           "OGLE-2013-BLG-0132L b"
          ],
          [
           "OGLE-2013-BLG-0341L B b"
          ],
          [
           "OGLE-2013-BLG-0341L B b"
          ],
          [
           "OGLE-2013-BLG-0911L b"
          ],
          [
           "OGLE-2013-BLG-0911L b"
          ],
          [
           "OGLE-2013-BLG-1721L b"
          ],
          [
           "OGLE-2013-BLG-1761L b"
          ],
          [
           "OGLE-2013-BLG-1761L b"
          ],
          [
           "OGLE-2014-BLG-0124L b"
          ],
          [
           "OGLE-2014-BLG-0124L b"
          ],
          [
           "OGLE-2014-BLG-0124L b"
          ],
          [
           "OGLE-2014-BLG-0124L b"
          ],
          [
           "OGLE-2014-BLG-0319L b"
          ],
          [
           "OGLE-2014-BLG-0676L b"
          ],
          [
           "OGLE-2014-BLG-0676L b"
          ],
          [
           "OGLE-2014-BLG-0676L b"
          ],
          [
           "OGLE-2014-BLG-1722L b"
          ],
          [
           "OGLE-2014-BLG-1722L b"
          ],
          [
           "OGLE-2014-BLG-1722L c"
          ],
          [
           "OGLE-2014-BLG-1722L c"
          ],
          [
           "OGLE-2014-BLG-1760L b"
          ],
          [
           "OGLE-2015-BLG-0051L b"
          ],
          [
           "OGLE-2015-BLG-0954L b"
          ],
          [
           "OGLE-2015-BLG-0954L b"
          ],
          [
           "OGLE-2015-BLG-0954L b"
          ],
          [
           "OGLE-2015-BLG-0954L b"
          ],
          [
           "OGLE-2015-BLG-0966L b"
          ],
          [
           "OGLE-2015-BLG-0966L b"
          ],
          [
           "OGLE-2015-BLG-0966L b"
          ],
          [
           "OGLE-2015-BLG-0966L b"
          ],
          [
           "OGLE-2015-BLG-0966L b"
          ],
          [
           "OGLE-2015-BLG-0966L b"
          ],
          [
           "OGLE-2015-BLG-0966L b"
          ],
          [
           "OGLE-2015-BLG-0966L b"
          ],
          [
           "OGLE-2015-BLG-0966L b"
          ],
          [
           "OGLE-2015-BLG-0966L b"
          ],
          [
           "OGLE-2015-BLG-0966L b"
          ],
          [
           "OGLE-2015-BLG-0966L b"
          ],
          [
           "OGLE-2015-BLG-0966L b"
          ],
          [
           "OGLE-2015-BLG-0966L b"
          ],
          [
           "OGLE-2015-BLG-0966L b"
          ],
          [
           "OGLE-2015-BLG-0966L b"
          ],
          [
           "OGLE-2015-BLG-1649L b"
          ],
          [
           "OGLE-2015-BLG-1670L b"
          ],
          [
           "OGLE-2015-BLG-1771L b"
          ],
          [
           "OGLE-2015-BLG-1771L b"
          ],
          [
           "OGLE-2015-BLG-1771L b"
          ],
          [
           "OGLE-2015-BLG-1771L b"
          ],
          [
           "OGLE-2015-BLG-1771L b"
          ],
          [
           "OGLE-2015-BLG-1771L b"
          ],
          [
           "OGLE-2016-BLG-0263L b"
          ],
          [
           "OGLE-2016-BLG-0263L b"
          ],
          [
           "OGLE-2016-BLG-0613L AB b"
          ],
          [
           "OGLE-2016-BLG-0613L AB b"
          ],
          [
           "OGLE-2016-BLG-0613L AB b"
          ],
          [
           "OGLE-2016-BLG-0613L AB b"
          ],
          [
           "OGLE-2016-BLG-0613L AB b"
          ],
          [
           "OGLE-2016-BLG-0613L AB b"
          ],
          [
           "OGLE-2016-BLG-1067L b"
          ],
          [
           "OGLE-2016-BLG-1067L b"
          ],
          [
           "OGLE-2016-BLG-1067L b"
          ],
          [
           "OGLE-2016-BLG-1093 b"
          ],
          [
           "OGLE-2016-BLG-1093 b"
          ],
          [
           "OGLE-2016-BLG-1093 b"
          ],
          [
           "OGLE-2016-BLG-1093 b"
          ],
          [
           "OGLE-2016-BLG-1190L b"
          ],
          [
           "OGLE-2016-BLG-1190L b"
          ],
          [
           "OGLE-2016-BLG-1195L b"
          ],
          [
           "OGLE-2016-BLG-1195L b"
          ],
          [
           "OGLE-2016-BLG-1195L b"
          ],
          [
           "OGLE-2016-BLG-1195L b"
          ],
          [
           "OGLE-2016-BLG-1195L b"
          ],
          [
           "OGLE-2016-BLG-1195L b"
          ],
          [
           "OGLE-2016-BLG-1195L b"
          ],
          [
           "OGLE-2016-BLG-1195L b"
          ],
          [
           "OGLE-2016-BLG-1195L b"
          ],
          [
           "OGLE-2016-BLG-1195L b"
          ],
          [
           "OGLE-2016-BLG-1227L b"
          ],
          [
           "OGLE-2016-BLG-1227L b"
          ],
          [
           "OGLE-2017-BLG-0173L b"
          ],
          [
           "OGLE-2017-BLG-0173L b"
          ],
          [
           "OGLE-2017-BLG-0173L b"
          ],
          [
           "OGLE-2017-BLG-0373L b"
          ],
          [
           "OGLE-2017-BLG-0373L b"
          ],
          [
           "OGLE-2017-BLG-0406L b"
          ],
          [
           "OGLE-2017-BLG-0482L b"
          ],
          [
           "OGLE-2017-BLG-0482L b"
          ],
          [
           "OGLE-2017-BLG-0604L b"
          ],
          [
           "OGLE-2017-BLG-1049L b"
          ],
          [
           "OGLE-2017-BLG-1099L b"
          ],
          [
           "OGLE-2017-BLG-1140L b"
          ],
          [
           "OGLE-2017-BLG-1140L b"
          ],
          [
           "OGLE-2017-BLG-1375L b"
          ],
          [
           "OGLE-2017-BLG-1375L b"
          ],
          [
           "OGLE-2017-BLG-1375L b"
          ],
          [
           "OGLE-2017-BLG-1375L b"
          ],
          [
           "OGLE-2017-BLG-1434L b"
          ],
          [
           "OGLE-2017-BLG-1434L b"
          ],
          [
           "OGLE-2017-BLG-1522L b"
          ],
          [
           "OGLE-2017-BLG-1691L b"
          ],
          [
           "OGLE-2017-BLG-1691L b"
          ],
          [
           "OGLE-2017-BLG-1806L b"
          ],
          [
           "OGLE-2017-BLG-1806L b"
          ],
          [
           "OGLE-2017-BLG-1806L b"
          ],
          [
           "OGLE-2017-BLG-1806L b"
          ],
          [
           "OGLE-2017-BLG-1806L b"
          ],
          [
           "OGLE-2017-BLG-1806L b"
          ],
          [
           "OGLE-2017-BLG-1806L b"
          ],
          [
           "OGLE-2018-BLG-0298L b"
          ],
          [
           "OGLE-2018-BLG-0298L b"
          ],
          [
           "OGLE-2018-BLG-0298L b"
          ],
          [
           "OGLE-2018-BLG-0383L b"
          ],
          [
           "OGLE-2018-BLG-0506L b"
          ],
          [
           "OGLE-2018-BLG-0506L b"
          ],
          [
           "OGLE-2018-BLG-0506L b"
          ],
          [
           "OGLE-2018-BLG-0506L b"
          ],
          [
           "OGLE-2018-BLG-0506L b"
          ],
          [
           "OGLE-2018-BLG-0506L b"
          ],
          [
           "OGLE-2018-BLG-0516L b"
          ],
          [
           "OGLE-2018-BLG-0516L b"
          ],
          [
           "OGLE-2018-BLG-0516L b"
          ],
          [
           "OGLE-2018-BLG-0516L b"
          ],
          [
           "OGLE-2018-BLG-0516L b"
          ],
          [
           "OGLE-2018-BLG-0516L b"
          ],
          [
           "OGLE-2018-BLG-0532L b"
          ],
          [
           "OGLE-2018-BLG-0532L b"
          ],
          [
           "OGLE-2018-BLG-0567L b"
          ],
          [
           "OGLE-2018-BLG-0596L b"
          ],
          [
           "OGLE-2018-BLG-0596L b"
          ],
          [
           "OGLE-2018-BLG-0596L b"
          ],
          [
           "OGLE-2018-BLG-0596L b"
          ],
          [
           "OGLE-2018-BLG-0677L b"
          ],
          [
           "OGLE-2018-BLG-0677L b"
          ],
          [
           "OGLE-2018-BLG-0740L b"
          ],
          [
           "OGLE-2018-BLG-0740L b"
          ],
          [
           "OGLE-2018-BLG-0740L b"
          ],
          [
           "OGLE-2018-BLG-0740L b"
          ],
          [
           "OGLE-2018-BLG-0740L b"
          ],
          [
           "OGLE-2018-BLG-0740L b"
          ],
          [
           "OGLE-2018-BLG-0799L b"
          ],
          [
           "OGLE-2018-BLG-0799L b"
          ],
          [
           "OGLE-2018-BLG-0799L b"
          ],
          [
           "OGLE-2018-BLG-0799L b"
          ],
          [
           "OGLE-2018-BLG-0799L b"
          ],
          [
           "OGLE-2018-BLG-0799L b"
          ],
          [
           "OGLE-2018-BLG-0799L b"
          ],
          [
           "OGLE-2018-BLG-0799L b"
          ],
          [
           "OGLE-2018-BLG-0799L b"
          ],
          [
           "OGLE-2018-BLG-0932L b"
          ],
          [
           "OGLE-2018-BLG-0962L b"
          ],
          [
           "OGLE-2018-BLG-0977L b"
          ],
          [
           "OGLE-2018-BLG-1011L b"
          ],
          [
           "OGLE-2018-BLG-1011L b"
          ],
          [
           "OGLE-2018-BLG-1011L b"
          ],
          [
           "OGLE-2018-BLG-1011L b"
          ],
          [
           "OGLE-2018-BLG-1011L c"
          ],
          [
           "OGLE-2018-BLG-1011L c"
          ],
          [
           "OGLE-2018-BLG-1011L c"
          ],
          [
           "OGLE-2018-BLG-1011L c"
          ],
          [
           "OGLE-2018-BLG-1119L b"
          ],
          [
           "OGLE-2018-BLG-1119L b"
          ],
          [
           "OGLE-2018-BLG-1119L b"
          ],
          [
           "OGLE-2018-BLG-1126L b"
          ],
          [
           "OGLE-2018-BLG-1126L b"
          ],
          [
           "OGLE-2018-BLG-1126L b"
          ],
          [
           "OGLE-2018-BLG-1185L b"
          ],
          [
           "OGLE-2018-BLG-1185L b"
          ],
          [
           "OGLE-2018-BLG-1212L b"
          ],
          [
           "OGLE-2018-BLG-1212L b"
          ],
          [
           "OGLE-2018-BLG-1212L b"
          ],
          [
           "OGLE-2018-BLG-1212L b"
          ],
          [
           "OGLE-2018-BLG-1212L b"
          ],
          [
           "OGLE-2018-BLG-1269L b"
          ],
          [
           "OGLE-2018-BLG-1269L b"
          ],
          [
           "OGLE-2018-BLG-1269L b"
          ],
          [
           "OGLE-2018-BLG-1367L b"
          ],
          [
           "OGLE-2018-BLG-1367L b"
          ],
          [
           "OGLE-2018-BLG-1367L b"
          ],
          [
           "OGLE-2018-BLG-1428L b"
          ],
          [
           "OGLE-2018-BLG-1647L b"
          ],
          [
           "OGLE-2018-BLG-1700L b"
          ],
          [
           "OGLE-2018-BLG-1700L b"
          ],
          [
           "OGLE-2019-BLG-0249L b"
          ],
          [
           "OGLE-2019-BLG-0249L b"
          ],
          [
           "OGLE-2019-BLG-0249L b"
          ],
          [
           "OGLE-2019-BLG-0249L b"
          ],
          [
           "OGLE-2019-BLG-0249L b"
          ],
          [
           "OGLE-2019-BLG-0299L b"
          ],
          [
           "OGLE-2019-BLG-0304L b"
          ],
          [
           "OGLE-2019-BLG-0362L b"
          ],
          [
           "OGLE-2019-BLG-0362L b"
          ],
          [
           "OGLE-2019-BLG-0468L b"
          ],
          [
           "OGLE-2019-BLG-0468L b"
          ],
          [
           "OGLE-2019-BLG-0468L c"
          ],
          [
           "OGLE-2019-BLG-0468L c"
          ],
          [
           "OGLE-2019-BLG-0679L b"
          ],
          [
           "OGLE-2019-BLG-0954L b"
          ],
          [
           "OGLE-2019-BLG-0960L b"
          ],
          [
           "OGLE-2019-BLG-0960L b"
          ],
          [
           "OGLE-2019-BLG-0960L b"
          ],
          [
           "OGLE-2019-BLG-0960L b"
          ],
          [
           "OGLE-2019-BLG-1053L b"
          ],
          [
           "OGLE-2019-BLG-1053L b"
          ],
          [
           "OGLE-2019-BLG-1053L b"
          ],
          [
           "OGLE-2019-BLG-1470L AB c"
          ],
          [
           "OGLE-2019-BLG-1470L AB c"
          ],
          [
           "OGLE-2019-BLG-1470L AB c"
          ],
          [
           "OGLE-2019-BLG-1470L AB c"
          ],
          [
           "OGLE-2019-BLG-1492L b"
          ],
          [
           "OGLE-2019-BLG-1492L b"
          ],
          [
           "OGLE-2019-BLG-1492L b"
          ],
          [
           "OGLE-2019-BLG-1492L b"
          ],
          [
           "OGLE-2019-BLG-1492L b"
          ],
          [
           "OGLE-2019-BLG-1492L b"
          ],
          [
           "OGLE-TR-10 b"
          ],
          [
           "OGLE-TR-10 b"
          ],
          [
           "OGLE-TR-10 b"
          ],
          [
           "OGLE-TR-10 b"
          ],
          [
           "OGLE-TR-10 b"
          ],
          [
           "OGLE-TR-10 b"
          ],
          [
           "OGLE-TR-10 b"
          ],
          [
           "OGLE-TR-111 b"
          ],
          [
           "OGLE-TR-111 b"
          ],
          [
           "OGLE-TR-111 b"
          ],
          [
           "OGLE-TR-111 b"
          ],
          [
           "OGLE-TR-111 b"
          ],
          [
           "OGLE-TR-111 b"
          ],
          [
           "OGLE-TR-111 b"
          ],
          [
           "OGLE-TR-111 b"
          ],
          [
           "OGLE-TR-113 b"
          ],
          [
           "OGLE-TR-113 b"
          ],
          [
           "OGLE-TR-113 b"
          ],
          [
           "OGLE-TR-113 b"
          ],
          [
           "OGLE-TR-113 b"
          ],
          [
           "OGLE-TR-113 b"
          ],
          [
           "OGLE-TR-113 b"
          ],
          [
           "OGLE-TR-132 b"
          ],
          [
           "OGLE-TR-132 b"
          ],
          [
           "OGLE-TR-132 b"
          ],
          [
           "OGLE-TR-132 b"
          ],
          [
           "OGLE-TR-132 b"
          ],
          [
           "OGLE-TR-132 b"
          ],
          [
           "OGLE-TR-132 b"
          ],
          [
           "Oph 11 b"
          ],
          [
           "Oph 11 b"
          ],
          [
           "PDS 70 b"
          ],
          [
           "PDS 70 b"
          ],
          [
           "PDS 70 c"
          ],
          [
           "PH1 b"
          ],
          [
           "PH2 b"
          ],
          [
           "POTS-1 b"
          ],
          [
           "PSR B1257+12 b"
          ],
          [
           "PSR B1257+12 c"
          ],
          [
           "PSR B1257+12 d"
          ],
          [
           "PSR B1620-26 b"
          ],
          [
           "PSR J1719-1438 b"
          ],
          [
           "PZ Tel b"
          ],
          [
           "Qatar-1 b"
          ],
          [
           "Qatar-1 b"
          ],
          [
           "Qatar-1 b"
          ],
          [
           "Qatar-1 b"
          ],
          [
           "Qatar-1 b"
          ],
          [
           "Qatar-1 b"
          ],
          [
           "Qatar-2 b"
          ],
          [
           "Qatar-2 b"
          ],
          [
           "Qatar-2 b"
          ],
          [
           "Qatar-2 b"
          ],
          [
           "Qatar-2 b"
          ],
          [
           "Qatar-4 b"
          ],
          [
           "Qatar-5 b"
          ],
          [
           "Qatar-6 b"
          ],
          [
           "Qatar-9 b"
          ],
          [
           "ROXs 12 b"
          ],
          [
           "ROXs 42 B b"
          ],
          [
           "ROXs 42 B b"
          ],
          [
           "Ross 458 c"
          ],
          [
           "Ross 458 c"
          ],
          [
           "SR 12 AB c"
          ],
          [
           "SWEEPS-11 b"
          ],
          [
           "SWEEPS-4 b"
          ],
          [
           "TCP J05074264+2447555 b"
          ],
          [
           "TCP J05074264+2447555 b"
          ],
          [
           "TCP J05074264+2447555 b"
          ],
          [
           "TCP J05074264+2447555 b"
          ],
          [
           "TIC 172900988 b"
          ],
          [
           "TIC 172900988 b"
          ],
          [
           "TIC 172900988 b"
          ],
          [
           "TIC 172900988 b"
          ],
          [
           "TIC 172900988 b"
          ],
          [
           "TIC 172900988 b"
          ],
          [
           "TIC 237913194 b"
          ],
          [
           "TIC 257060897 b"
          ],
          [
           "TIC 279401253 b"
          ],
          [
           "TOI-1062 b"
          ],
          [
           "TOI-1064 b"
          ],
          [
           "TOI-1064 c"
          ],
          [
           "TOI-1075 b"
          ],
          [
           "TOI-1107 b"
          ],
          [
           "TOI-1130 c"
          ],
          [
           "TOI-1181 b"
          ],
          [
           "TOI-1201 b"
          ],
          [
           "TOI-1221 b"
          ],
          [
           "TOI-1231 b"
          ],
          [
           "TOI-1235 b"
          ],
          [
           "TOI-1235 b"
          ],
          [
           "TOI-1235 b"
          ],
          [
           "TOI-1246 b"
          ],
          [
           "TOI-1246 c"
          ],
          [
           "TOI-1246 d"
          ],
          [
           "TOI-1246 e"
          ],
          [
           "TOI-125 b"
          ],
          [
           "TOI-125 c"
          ],
          [
           "TOI-125 d"
          ],
          [
           "TOI-1259 A b"
          ],
          [
           "TOI-1260 b"
          ],
          [
           "TOI-1260 b"
          ],
          [
           "TOI-1260 c"
          ],
          [
           "TOI-1260 c"
          ],
          [
           "TOI-1260 d"
          ],
          [
           "TOI-1266 b"
          ],
          [
           "TOI-1266 b"
          ],
          [
           "TOI-1266 c"
          ],
          [
           "TOI-1266 c"
          ],
          [
           "TOI-1268 b"
          ],
          [
           "TOI-1272 b"
          ],
          [
           "TOI-1278 b"
          ],
          [
           "TOI-1288 b"
          ],
          [
           "TOI-1296 b"
          ],
          [
           "TOI-1298 b"
          ],
          [
           "TOI-132 b"
          ],
          [
           "TOI-1333 b"
          ],
          [
           "TOI-1338 b"
          ],
          [
           "TOI-1338 b"
          ],
          [
           "TOI-1416 b"
          ],
          [
           "TOI-1422 b"
          ],
          [
           "TOI-1431 b"
          ],
          [
           "TOI-1444 b"
          ],
          [
           "TOI-1452 b"
          ],
          [
           "TOI-1468 b"
          ],
          [
           "TOI-1468 c"
          ],
          [
           "TOI-1478 b"
          ],
          [
           "TOI-150.01"
          ],
          [
           "TOI-150.01"
          ],
          [
           "TOI-1518 b"
          ],
          [
           "TOI-157 b"
          ],
          [
           "TOI-1601 b"
          ],
          [
           "TOI-163 b"
          ],
          [
           "TOI-1634 b"
          ],
          [
           "TOI-1634 b"
          ],
          [
           "TOI-1634 b"
          ],
          [
           "TOI-1670 b"
          ],
          [
           "TOI-1670 c"
          ],
          [
           "TOI-1685 b"
          ],
          [
           "TOI-1685 b"
          ],
          [
           "TOI-1685 b"
          ],
          [
           "TOI-1694 b"
          ],
          [
           "TOI-1695 b"
          ],
          [
           "TOI-1695 b"
          ],
          [
           "TOI-1696 b"
          ],
          [
           "TOI-1696 b"
          ],
          [
           "TOI-1710 b"
          ],
          [
           "TOI-172 b"
          ],
          [
           "TOI-1728 b"
          ],
          [
           "TOI-1749 b"
          ],
          [
           "TOI-1749 c"
          ],
          [
           "TOI-1749 d"
          ],
          [
           "TOI-1759 b"
          ],
          [
           "TOI-1759 b"
          ],
          [
           "TOI-178 b"
          ],
          [
           "TOI-178 c"
          ],
          [
           "TOI-178 d"
          ],
          [
           "TOI-178 e"
          ],
          [
           "TOI-178 f"
          ],
          [
           "TOI-178 g"
          ],
          [
           "TOI-1789 b"
          ],
          [
           "TOI-1807 b"
          ],
          [
           "TOI-181 b"
          ],
          [
           "TOI-1811 b"
          ],
          [
           "TOI-1842 b"
          ],
          [
           "TOI-1899 b"
          ],
          [
           "TOI-1937 A b"
          ],
          [
           "TOI-2000 b"
          ],
          [
           "TOI-2000 c"
          ],
          [
           "TOI-201 b"
          ],
          [
           "TOI-2018 b"
          ],
          [
           "TOI-2025 b"
          ],
          [
           "TOI-2025 b"
          ],
          [
           "TOI-2109 b"
          ],
          [
           "TOI-2136 b"
          ],
          [
           "TOI-2136 b"
          ],
          [
           "TOI-2136 b"
          ],
          [
           "TOI-2145 b"
          ],
          [
           "TOI-2152 A b"
          ],
          [
           "TOI-216.01"
          ],
          [
           "TOI-216.01"
          ],
          [
           "TOI-216.02"
          ],
          [
           "TOI-216.02"
          ],
          [
           "TOI-2180 b"
          ],
          [
           "TOI-2184 b"
          ],
          [
           "TOI-2193 A b"
          ],
          [
           "TOI-2196 b"
          ],
          [
           "TOI-220 b"
          ],
          [
           "TOI-2202 b"
          ],
          [
           "TOI-2202 c"
          ],
          [
           "TOI-2207 b"
          ],
          [
           "TOI-2236 b"
          ],
          [
           "TOI-2285 b"
          ],
          [
           "TOI-2337 b"
          ],
          [
           "TOI-2338 b"
          ],
          [
           "TOI-2364 b"
          ],
          [
           "TOI-2421 b"
          ],
          [
           "TOI-244 b"
          ],
          [
           "TOI-2497 b"
          ],
          [
           "TOI-2498 b"
          ],
          [
           "TOI-251 b"
          ],
          [
           "TOI-2525 b"
          ],
          [
           "TOI-2525 c"
          ],
          [
           "TOI-2567 b"
          ],
          [
           "TOI-257 b"
          ],
          [
           "TOI-2570 b"
          ],
          [
           "TOI-2587 A b"
          ],
          [
           "TOI-2589 b"
          ],
          [
           "TOI-2669 b"
          ],
          [
           "TOI-269 b"
          ],
          [
           "TOI-270 b"
          ],
          [
           "TOI-270 c"
          ],
          [
           "TOI-270 d"
          ],
          [
           "TOI-2796 b"
          ],
          [
           "TOI-2818 b"
          ],
          [
           "TOI-2977 b"
          ],
          [
           "TOI-3235 b"
          ],
          [
           "TOI-3331 A b"
          ],
          [
           "TOI-3362 b"
          ],
          [
           "TOI-3540 A b"
          ],
          [
           "TOI-3629 b"
          ],
          [
           "TOI-3693 b"
          ],
          [
           "TOI-3714 b"
          ],
          [
           "TOI-3757 b"
          ],
          [
           "TOI-3819 b"
          ],
          [
           "TOI-3884 b"
          ],
          [
           "TOI-3976 A b"
          ],
          [
           "TOI-4010 b"
          ],
          [
           "TOI-4010 c"
          ],
          [
           "TOI-4010 d"
          ],
          [
           "TOI-4127 b"
          ],
          [
           "TOI-4137 b"
          ],
          [
           "TOI-4145 A b"
          ],
          [
           "TOI-421 b"
          ],
          [
           "TOI-421 c"
          ],
          [
           "TOI-431 b"
          ],
          [
           "TOI-431 d"
          ],
          [
           "TOI-4329 b"
          ],
          [
           "TOI-4406 b"
          ],
          [
           "TOI-4463 A b"
          ],
          [
           "TOI-4582 b"
          ],
          [
           "TOI-4603 b"
          ],
          [
           "TOI-4791 b"
          ],
          [
           "TOI-481 b"
          ],
          [
           "TOI-500 b"
          ],
          [
           "TOI-5153 b"
          ],
          [
           "TOI-519 b"
          ],
          [
           "TOI-519 b"
          ],
          [
           "TOI-5205 b"
          ],
          [
           "TOI-530 b"
          ],
          [
           "TOI-532 b"
          ],
          [
           "TOI-5542 b"
          ],
          [
           "TOI-558 b"
          ],
          [
           "TOI-561 b"
          ],
          [
           "TOI-561 b"
          ],
          [
           "TOI-561 b"
          ],
          [
           "TOI-561 b"
          ],
          [
           "TOI-561 c"
          ],
          [
           "TOI-561 c"
          ],
          [
           "TOI-561 c"
          ],
          [
           "TOI-561 c"
          ],
          [
           "TOI-561 d"
          ],
          [
           "TOI-561 d"
          ],
          [
           "TOI-561 d"
          ],
          [
           "TOI-561 e"
          ],
          [
           "TOI-561 e"
          ],
          [
           "TOI-561 e"
          ],
          [
           "TOI-564 b"
          ],
          [
           "TOI-5678 b"
          ],
          [
           "TOI-628 b"
          ],
          [
           "TOI-640 b"
          ],
          [
           "TOI-674 b"
          ],
          [
           "TOI-733 b"
          ],
          [
           "TOI-763 b"
          ],
          [
           "TOI-763 c"
          ],
          [
           "TOI-776 b"
          ],
          [
           "TOI-776 c"
          ],
          [
           "TOI-778 b"
          ],
          [
           "TOI-824 b"
          ],
          [
           "TOI-836 b"
          ],
          [
           "TOI-836 c"
          ],
          [
           "TOI-849 b"
          ],
          [
           "TOI-892 b"
          ],
          [
           "TOI-905 b"
          ],
          [
           "TOI-908 b"
          ],
          [
           "TOI-942 b"
          ],
          [
           "TOI-942 b"
          ],
          [
           "TOI-942 c"
          ],
          [
           "TOI-942 c"
          ],
          [
           "TOI-954 b"
          ],
          [
           "TOI-969 b"
          ],
          [
           "TRAPPIST-1 b"
          ],
          [
           "TRAPPIST-1 b"
          ],
          [
           "TRAPPIST-1 b"
          ],
          [
           "TRAPPIST-1 c"
          ],
          [
           "TRAPPIST-1 c"
          ],
          [
           "TRAPPIST-1 c"
          ],
          [
           "TRAPPIST-1 d"
          ],
          [
           "TRAPPIST-1 d"
          ],
          [
           "TRAPPIST-1 d"
          ],
          [
           "TRAPPIST-1 e"
          ],
          [
           "TRAPPIST-1 e"
          ],
          [
           "TRAPPIST-1 e"
          ],
          [
           "TRAPPIST-1 f"
          ],
          [
           "TRAPPIST-1 f"
          ],
          [
           "TRAPPIST-1 f"
          ],
          [
           "TRAPPIST-1 g"
          ],
          [
           "TRAPPIST-1 g"
          ],
          [
           "TRAPPIST-1 g"
          ],
          [
           "TRAPPIST-1 h"
          ],
          [
           "TRAPPIST-1 h"
          ],
          [
           "TYC 8998-760-1 b"
          ],
          [
           "TYC 8998-760-1 b"
          ],
          [
           "TYC 8998-760-1 c"
          ],
          [
           "TYC 8998-760-1 c"
          ],
          [
           "TrES-1 b"
          ],
          [
           "TrES-1 b"
          ],
          [
           "TrES-1 b"
          ],
          [
           "TrES-1 b"
          ],
          [
           "TrES-1 b"
          ],
          [
           "TrES-2 b"
          ],
          [
           "TrES-2 b"
          ],
          [
           "TrES-2 b"
          ],
          [
           "TrES-2 b"
          ],
          [
           "TrES-2 b"
          ],
          [
           "TrES-2 b"
          ],
          [
           "TrES-2 b"
          ],
          [
           "TrES-2 b"
          ],
          [
           "TrES-2 b"
          ],
          [
           "TrES-2 b"
          ],
          [
           "TrES-2 b"
          ],
          [
           "TrES-2 b"
          ],
          [
           "TrES-2 b"
          ],
          [
           "TrES-2 b"
          ],
          [
           "TrES-2 b"
          ],
          [
           "TrES-2 b"
          ],
          [
           "TrES-2 b"
          ],
          [
           "TrES-3 b"
          ],
          [
           "TrES-3 b"
          ],
          [
           "TrES-3 b"
          ],
          [
           "TrES-3 b"
          ],
          [
           "TrES-3 b"
          ],
          [
           "TrES-3 b"
          ],
          [
           "TrES-3 b"
          ],
          [
           "TrES-3 b"
          ],
          [
           "TrES-4 b"
          ],
          [
           "TrES-4 b"
          ],
          [
           "TrES-4 b"
          ],
          [
           "TrES-4 b"
          ],
          [
           "TrES-4 b"
          ],
          [
           "TrES-4 b"
          ],
          [
           "TrES-4 b"
          ],
          [
           "TrES-4 b"
          ],
          [
           "TrES-4 b"
          ],
          [
           "TrES-4 b"
          ],
          [
           "TrES-5 b"
          ],
          [
           "TrES-5 b"
          ],
          [
           "TrES-5 b"
          ],
          [
           "TrES-5 b"
          ],
          [
           "UKIRT-2017-BLG-001L b"
          ],
          [
           "USco CTIO 108 b"
          ],
          [
           "USco1556 b"
          ],
          [
           "USco1621 b"
          ],
          [
           "UZ For b"
          ],
          [
           "UZ For c"
          ],
          [
           "V1298 Tau b"
          ],
          [
           "V1298 Tau c"
          ],
          [
           "V1298 Tau d"
          ],
          [
           "V1298 Tau e"
          ],
          [
           "V830 Tau b"
          ],
          [
           "V830 Tau b"
          ],
          [
           "VHS J125601.92-125723.9 b"
          ],
          [
           "VHS J125601.92-125723.9 b"
          ],
          [
           "VHS J125601.92-125723.9 b"
          ],
          [
           "VHS J125601.92-125723.9 b"
          ],
          [
           "VHS J125601.92-125723.9 b"
          ],
          [
           "WASP-10 b"
          ],
          [
           "WASP-10 b"
          ],
          [
           "WASP-10 b"
          ],
          [
           "WASP-10 b"
          ],
          [
           "WASP-10 b"
          ],
          [
           "WASP-10 b"
          ],
          [
           "WASP-100 b"
          ],
          [
           "WASP-100 b"
          ],
          [
           "WASP-100 b"
          ],
          [
           "WASP-100 b"
          ],
          [
           "WASP-104 b"
          ],
          [
           "WASP-104 b"
          ],
          [
           "WASP-105 b"
          ],
          [
           "WASP-106 b"
          ],
          [
           "WASP-106 b"
          ],
          [
           "WASP-106 b"
          ],
          [
           "WASP-107 b"
          ],
          [
           "WASP-107 b"
          ],
          [
           "WASP-107 b"
          ],
          [
           "WASP-107 b"
          ],
          [
           "WASP-11 b"
          ],
          [
           "WASP-11 b"
          ],
          [
           "WASP-11 b"
          ],
          [
           "WASP-11 b"
          ],
          [
           "WASP-11 b"
          ],
          [
           "WASP-11 b"
          ],
          [
           "WASP-110 b"
          ],
          [
           "WASP-113 b"
          ],
          [
           "WASP-118 b"
          ],
          [
           "WASP-118 b"
          ],
          [
           "WASP-119 b"
          ],
          [
           "WASP-120 b"
          ],
          [
           "WASP-123 b"
          ],
          [
           "WASP-124 b"
          ],
          [
           "WASP-13 b"
          ],
          [
           "WASP-13 b"
          ],
          [
           "WASP-13 b"
          ],
          [
           "WASP-13 b"
          ],
          [
           "WASP-13 b"
          ],
          [
           "WASP-130 b"
          ],
          [
           "WASP-131 b"
          ],
          [
           "WASP-132 b"
          ],
          [
           "WASP-132 c"
          ],
          [
           "WASP-135 b"
          ],
          [
           "WASP-136 b"
          ],
          [
           "WASP-138 b"
          ],
          [
           "WASP-139 b"
          ],
          [
           "WASP-140 b"
          ],
          [
           "WASP-144 b"
          ],
          [
           "WASP-145 A b"
          ],
          [
           "WASP-148 b"
          ],
          [
           "WASP-148 b"
          ],
          [
           "WASP-148 b"
          ],
          [
           "WASP-148 c"
          ],
          [
           "WASP-148 c"
          ],
          [
           "WASP-150 b"
          ],
          [
           "WASP-151 b"
          ],
          [
           "WASP-151 b"
          ],
          [
           "WASP-156 b"
          ],
          [
           "WASP-157 b"
          ],
          [
           "WASP-158 b"
          ],
          [
           "WASP-159 b"
          ],
          [
           "WASP-16 b"
          ],
          [
           "WASP-16 b"
          ],
          [
           "WASP-16 b"
          ],
          [
           "WASP-16 b"
          ],
          [
           "WASP-16 b"
          ],
          [
           "WASP-160 B b"
          ],
          [
           "WASP-161 b"
          ],
          [
           "WASP-162 b"
          ],
          [
           "WASP-163 b"
          ],
          [
           "WASP-164 b"
          ],
          [
           "WASP-165 b"
          ],
          [
           "WASP-166 b"
          ],
          [
           "WASP-167 b"
          ],
          [
           "WASP-168 b"
          ],
          [
           "WASP-169 b"
          ],
          [
           "WASP-170 b"
          ],
          [
           "WASP-171 b"
          ],
          [
           "WASP-172 b"
          ],
          [
           "WASP-173 A b"
          ],
          [
           "WASP-173 A b"
          ],
          [
           "WASP-175 b"
          ],
          [
           "WASP-176 b"
          ],
          [
           "WASP-177 b"
          ],
          [
           "WASP-178 b"
          ],
          [
           "WASP-178 b"
          ],
          [
           "WASP-18 b"
          ],
          [
           "WASP-18 b"
          ],
          [
           "WASP-18 b"
          ],
          [
           "WASP-18 b"
          ],
          [
           "WASP-18 b"
          ],
          [
           "WASP-18 b"
          ],
          [
           "WASP-18 b"
          ],
          [
           "WASP-18 b"
          ],
          [
           "WASP-18 b"
          ],
          [
           "WASP-18 b"
          ],
          [
           "WASP-18 b"
          ],
          [
           "WASP-18 b"
          ],
          [
           "WASP-18 c"
          ],
          [
           "WASP-181 b"
          ],
          [
           "WASP-183 b"
          ],
          [
           "WASP-184 b"
          ],
          [
           "WASP-185 b"
          ],
          [
           "WASP-186 b"
          ],
          [
           "WASP-187 b"
          ],
          [
           "WASP-189 b"
          ],
          [
           "WASP-19 b"
          ],
          [
           "WASP-19 b"
          ],
          [
           "WASP-19 b"
          ],
          [
           "WASP-19 b"
          ],
          [
           "WASP-19 b"
          ],
          [
           "WASP-19 b"
          ],
          [
           "WASP-19 b"
          ],
          [
           "WASP-19 b"
          ],
          [
           "WASP-190 b"
          ],
          [
           "WASP-2 b"
          ],
          [
           "WASP-2 b"
          ],
          [
           "WASP-2 b"
          ],
          [
           "WASP-2 b"
          ],
          [
           "WASP-2 b"
          ],
          [
           "WASP-2 b"
          ],
          [
           "WASP-2 b"
          ],
          [
           "WASP-2 b"
          ],
          [
           "WASP-2 b"
          ],
          [
           "WASP-2 b"
          ],
          [
           "WASP-21 b"
          ],
          [
           "WASP-21 b"
          ],
          [
           "WASP-21 b"
          ],
          [
           "WASP-21 b"
          ],
          [
           "WASP-23 b"
          ],
          [
           "WASP-23 b"
          ],
          [
           "WASP-25 b"
          ],
          [
           "WASP-25 b"
          ],
          [
           "WASP-25 b"
          ],
          [
           "WASP-25 b"
          ],
          [
           "WASP-25 b"
          ],
          [
           "WASP-28 b"
          ],
          [
           "WASP-28 b"
          ],
          [
           "WASP-28 b"
          ],
          [
           "WASP-28 b"
          ],
          [
           "WASP-28 b"
          ],
          [
           "WASP-29 b"
          ],
          [
           "WASP-29 b"
          ],
          [
           "WASP-29 b"
          ],
          [
           "WASP-29 b"
          ],
          [
           "WASP-33 b"
          ],
          [
           "WASP-33 b"
          ],
          [
           "WASP-33 b"
          ],
          [
           "WASP-33 b"
          ],
          [
           "WASP-34 b"
          ],
          [
           "WASP-34 b"
          ],
          [
           "WASP-34 b"
          ],
          [
           "WASP-34 b"
          ],
          [
           "WASP-35 b"
          ],
          [
           "WASP-35 b"
          ],
          [
           "WASP-35 b"
          ],
          [
           "WASP-36 b"
          ],
          [
           "WASP-36 b"
          ],
          [
           "WASP-36 b"
          ],
          [
           "WASP-36 b"
          ],
          [
           "WASP-36 b"
          ],
          [
           "WASP-37 b"
          ],
          [
           "WASP-37 b"
          ],
          [
           "WASP-38 b"
          ],
          [
           "WASP-38 b"
          ],
          [
           "WASP-38 b"
          ],
          [
           "WASP-38 b"
          ],
          [
           "WASP-38 b"
          ],
          [
           "WASP-38 b"
          ],
          [
           "WASP-39 b"
          ],
          [
           "WASP-39 b"
          ],
          [
           "WASP-39 b"
          ],
          [
           "WASP-39 b"
          ],
          [
           "WASP-39 b"
          ],
          [
           "WASP-4 b"
          ],
          [
           "WASP-4 b"
          ],
          [
           "WASP-4 b"
          ],
          [
           "WASP-4 b"
          ],
          [
           "WASP-4 b"
          ],
          [
           "WASP-4 b"
          ],
          [
           "WASP-4 b"
          ],
          [
           "WASP-4 b"
          ],
          [
           "WASP-4 b"
          ],
          [
           "WASP-4 b"
          ],
          [
           "WASP-41 b"
          ],
          [
           "WASP-41 b"
          ],
          [
           "WASP-41 b"
          ],
          [
           "WASP-41 b"
          ],
          [
           "WASP-41 b"
          ],
          [
           "WASP-42 b"
          ],
          [
           "WASP-42 b"
          ],
          [
           "WASP-42 b"
          ],
          [
           "WASP-43 b"
          ],
          [
           "WASP-43 b"
          ],
          [
           "WASP-43 b"
          ],
          [
           "WASP-43 b"
          ],
          [
           "WASP-44 b"
          ],
          [
           "WASP-44 b"
          ],
          [
           "WASP-44 b"
          ],
          [
           "WASP-44 b"
          ],
          [
           "WASP-45 b"
          ],
          [
           "WASP-45 b"
          ],
          [
           "WASP-45 b"
          ],
          [
           "WASP-45 b"
          ],
          [
           "WASP-45 b"
          ],
          [
           "WASP-46 b"
          ],
          [
           "WASP-46 b"
          ],
          [
           "WASP-46 b"
          ],
          [
           "WASP-47 b"
          ],
          [
           "WASP-47 b"
          ],
          [
           "WASP-47 b"
          ],
          [
           "WASP-47 b"
          ],
          [
           "WASP-47 b"
          ],
          [
           "WASP-47 b"
          ],
          [
           "WASP-47 b"
          ],
          [
           "WASP-47 c"
          ],
          [
           "WASP-47 d"
          ],
          [
           "WASP-47 d"
          ],
          [
           "WASP-47 d"
          ],
          [
           "WASP-47 d"
          ],
          [
           "WASP-47 d"
          ],
          [
           "WASP-47 e"
          ],
          [
           "WASP-47 e"
          ],
          [
           "WASP-47 e"
          ],
          [
           "WASP-47 e"
          ],
          [
           "WASP-47 e"
          ],
          [
           "WASP-47 e"
          ],
          [
           "WASP-48 b"
          ],
          [
           "WASP-48 b"
          ],
          [
           "WASP-48 b"
          ],
          [
           "WASP-48 b"
          ],
          [
           "WASP-48 b"
          ],
          [
           "WASP-49 b"
          ],
          [
           "WASP-49 b"
          ],
          [
           "WASP-49 b"
          ],
          [
           "WASP-49 b"
          ],
          [
           "WASP-5 b"
          ],
          [
           "WASP-5 b"
          ],
          [
           "WASP-5 b"
          ],
          [
           "WASP-5 b"
          ],
          [
           "WASP-5 b"
          ],
          [
           "WASP-5 b"
          ],
          [
           "WASP-5 b"
          ],
          [
           "WASP-5 b"
          ],
          [
           "WASP-50 b"
          ],
          [
           "WASP-50 b"
          ],
          [
           "WASP-50 b"
          ],
          [
           "WASP-50 b"
          ],
          [
           "WASP-52 b"
          ],
          [
           "WASP-52 b"
          ],
          [
           "WASP-52 b"
          ],
          [
           "WASP-53 b"
          ],
          [
           "WASP-55 b"
          ],
          [
           "WASP-55 b"
          ],
          [
           "WASP-55 b"
          ],
          [
           "WASP-55 b"
          ],
          [
           "WASP-56 b"
          ],
          [
           "WASP-56 b"
          ],
          [
           "WASP-56 b"
          ],
          [
           "WASP-57 b"
          ],
          [
           "WASP-57 b"
          ],
          [
           "WASP-57 b"
          ],
          [
           "WASP-58 b"
          ],
          [
           "WASP-58 b"
          ],
          [
           "WASP-58 b"
          ],
          [
           "WASP-59 b"
          ],
          [
           "WASP-59 b"
          ],
          [
           "WASP-6 b"
          ],
          [
           "WASP-6 b"
          ],
          [
           "WASP-6 b"
          ],
          [
           "WASP-6 b"
          ],
          [
           "WASP-6 b"
          ],
          [
           "WASP-60 b"
          ],
          [
           "WASP-60 b"
          ],
          [
           "WASP-60 b"
          ],
          [
           "WASP-60 b"
          ],
          [
           "WASP-64 b"
          ],
          [
           "WASP-64 b"
          ],
          [
           "WASP-65 b"
          ],
          [
           "WASP-65 b"
          ],
          [
           "WASP-66 b"
          ],
          [
           "WASP-66 b"
          ],
          [
           "WASP-66 b"
          ],
          [
           "WASP-66 b"
          ],
          [
           "WASP-67 b"
          ],
          [
           "WASP-67 b"
          ],
          [
           "WASP-67 b"
          ],
          [
           "WASP-67 b"
          ],
          [
           "WASP-68 b"
          ],
          [
           "WASP-68 b"
          ],
          [
           "WASP-68 b"
          ],
          [
           "WASP-69 b"
          ],
          [
           "WASP-69 b"
          ],
          [
           "WASP-69 b"
          ],
          [
           "WASP-69 b"
          ],
          [
           "WASP-7 b"
          ],
          [
           "WASP-7 b"
          ],
          [
           "WASP-7 b"
          ],
          [
           "WASP-7 b"
          ],
          [
           "WASP-7 b"
          ],
          [
           "WASP-7 b"
          ],
          [
           "WASP-7 b"
          ],
          [
           "WASP-7 b"
          ],
          [
           "WASP-70 A b"
          ],
          [
           "WASP-70 A b"
          ],
          [
           "WASP-71 b"
          ],
          [
           "WASP-71 b"
          ],
          [
           "WASP-71 b"
          ],
          [
           "WASP-72 b"
          ],
          [
           "WASP-72 b"
          ],
          [
           "WASP-72 b"
          ],
          [
           "WASP-72 b"
          ],
          [
           "WASP-73 b"
          ],
          [
           "WASP-73 b"
          ],
          [
           "WASP-73 b"
          ],
          [
           "WASP-77 A b"
          ],
          [
           "WASP-77 A b"
          ],
          [
           "WASP-77 A b"
          ],
          [
           "WASP-77 A b"
          ],
          [
           "WASP-77 A b"
          ],
          [
           "WASP-77 A b"
          ],
          [
           "WASP-8 b"
          ],
          [
           "WASP-8 b"
          ],
          [
           "WASP-8 b"
          ],
          [
           "WASP-8 b"
          ],
          [
           "WASP-8 b"
          ],
          [
           "WASP-80 b"
          ],
          [
           "WASP-80 b"
          ],
          [
           "WASP-80 b"
          ],
          [
           "WASP-80 b"
          ],
          [
           "WASP-80 b"
          ],
          [
           "WASP-81 b"
          ],
          [
           "WASP-82 b"
          ],
          [
           "WASP-82 b"
          ],
          [
           "WASP-82 b"
          ],
          [
           "WASP-83 b"
          ],
          [
           "WASP-83 b"
          ],
          [
           "WASP-84 b"
          ],
          [
           "WASP-84 b"
          ],
          [
           "WASP-84 b"
          ],
          [
           "WASP-84 b"
          ],
          [
           "WASP-84 c"
          ],
          [
           "WASP-85 A b"
          ],
          [
           "WASP-87 b"
          ],
          [
           "WASP-88 b"
          ],
          [
           "WASP-88 b"
          ],
          [
           "WASP-88 b"
          ],
          [
           "WASP-89 b"
          ],
          [
           "WASP-89 b"
          ],
          [
           "WASP-91 b"
          ],
          [
           "WASP-95 b"
          ],
          [
           "WASP-95 b"
          ],
          [
           "WASP-95 b"
          ],
          [
           "WASP-96 b"
          ],
          [
           "WASP-96 b"
          ],
          [
           "WASP-97 b"
          ],
          [
           "WASP-97 b"
          ],
          [
           "WASP-97 b"
          ],
          [
           "WASP-98 b"
          ],
          [
           "WASP-98 b"
          ],
          [
           "WASP-98 b"
          ],
          [
           "WASP-99 b"
          ],
          [
           "WASP-99 b"
          ],
          [
           "WASP-99 b"
          ],
          [
           "WD 0806-661 b"
          ],
          [
           "WD 0806-661 b"
          ],
          [
           "WD 1856+534 b"
          ],
          [
           "WISE J033605.05-014350.4 b"
          ],
          [
           "WISEP J121756.91+162640.2 A b"
          ],
          [
           "WTS-1 b"
          ],
          [
           "WTS-2 b"
          ],
          [
           "WTS-2 b"
          ],
          [
           "Wendelstein-1 b"
          ],
          [
           "Wendelstein-2 b"
          ],
          [
           "Wolf 503 b"
          ],
          [
           "Wolf 503 b"
          ],
          [
           "XO-1 b"
          ],
          [
           "XO-1 b"
          ],
          [
           "XO-1 b"
          ],
          [
           "XO-1 b"
          ],
          [
           "XO-1 b"
          ],
          [
           "XO-1 b"
          ],
          [
           "XO-1 b"
          ],
          [
           "XO-2 N b"
          ],
          [
           "XO-2 N b"
          ],
          [
           "XO-2 N b"
          ],
          [
           "XO-2 N b"
          ],
          [
           "XO-2 N b"
          ],
          [
           "XO-2 N b"
          ],
          [
           "XO-2 N b"
          ],
          [
           "XO-2 N b"
          ],
          [
           "XO-3 b"
          ],
          [
           "XO-3 b"
          ],
          [
           "XO-3 b"
          ],
          [
           "XO-3 b"
          ],
          [
           "XO-3 b"
          ],
          [
           "XO-3 b"
          ],
          [
           "XO-4 b"
          ],
          [
           "XO-4 b"
          ],
          [
           "XO-4 b"
          ],
          [
           "XO-4 b"
          ],
          [
           "XO-4 b"
          ],
          [
           "XO-4 b"
          ],
          [
           "XO-5 b"
          ],
          [
           "XO-5 b"
          ],
          [
           "XO-5 b"
          ],
          [
           "XO-5 b"
          ],
          [
           "XO-5 b"
          ],
          [
           "XO-5 b"
          ],
          [
           "YSES 2 b"
          ],
          [
           "YSES 2 b"
          ],
          [
           "b Cen AB b"
          ],
          [
           "bet Pic b"
          ],
          [
           "bet Pic b"
          ],
          [
           "bet Pic b"
          ],
          [
           "bet Pic b"
          ],
          [
           "bet Pic b"
          ],
          [
           "bet Pic b"
          ],
          [
           "bet Pic c"
          ],
          [
           "bet Pic c"
          ],
          [
           "eps Eri b"
          ],
          [
           "eps Eri b"
          ],
          [
           "eps Eri b"
          ],
          [
           "eps Eri b"
          ],
          [
           "eps Ind A b"
          ],
          [
           "gam Cep b"
          ],
          [
           "kap And b"
          ],
          [
           "kap And b"
          ],
          [
           "kap CrB b"
          ],
          [
           "kap CrB b"
          ],
          [
           "kap CrB b"
          ],
          [
           "kap CrB b"
          ],
          [
           "mu2 Sco b"
          ],
          [
           "nu Oct A b"
          ],
          [
           "nu Oct A b"
          ],
          [
           "nu Oph b"
          ],
          [
           "nu Oph c"
          ],
          [
           "pi Men c"
          ],
          [
           "pi Men c"
          ],
          [
           "pi Men c"
          ],
          [
           "tau Boo b"
          ],
          [
           "ups And c"
          ],
          [
           "ups And d"
          ]
         ],
         "hovertemplate": "Habitability=False<br>Stellar Luminosity=%{x}<br>Planet Radius (in Earth Unit)=%{y}<br>Planet Mass (in Earth Unit)=%{marker.size}<br>pl_name=%{customdata[0]}<extra></extra>",
         "legendgroup": "False",
         "marker": {
          "color": "#636efa",
          "size": [
           2559.47216,
           3000,
           2543,
           4000,
           3000,
           1271.31363,
           4131.79,
           7786.5,
           4417.837,
           2383.6,
           1589.15,
           1271,
           603.877,
           3972.875,
           635.66,
           146.2018,
           263.9785,
           254.25,
           266.966,
           54.4738,
           56.6985,
           1232.493,
           1226.77,
           7.74,
           8.13928,
           8.09479,
           8.08,
           8.08,
           8.37,
           7.99,
           7.81,
           8.63,
           47.0051,
           44.812,
           2380.45,
           2860.45566,
           4290.5,
           20.12,
           17.1,
           11.7,
           17,
           22.2,
           9.6,
           13.6,
           22.2481,
           16.3,
           3305.41543,
           3337.1,
           2479.06157,
           3994.486,
           3686.828,
           2002.31896,
           5403,
           883.5674,
           867.6759,
           874,
           291.438,
           290.81445,
           281.91521,
           277.46559,
           415.704,
           416.99296,
           423.03173,
           2415.4,
           2437.7561,
           2358.2986,
           170.032,
           168.13207,
           1099.6918,
           1102.82,
           1048.839,
           1039.3041,
           352.78,
           346.4347,
           367.09365,
           1102.82,
           1052.0173,
           1134.6531,
           1051.973,
           1150.5446,
           1048.839,
           705.5826,
           718.2958,
           12.2,
           889.9,
           972.5598,
           982.0947,
           5.7,
           28,
           184.3414,
           165.26,
           3302.11,
           3273.649,
           153.82972,
           152.87623,
           266.9772,
           270.1555,
           6814.2752,
           6979.5468,
           6747.5309,
           6883.91,
           921.707,
           216.12332,
           148.42,
           149.3801,
           151.92274,
           145.88397,
           940.74,
           937.5985,
           940.7768,
           4.07661,
           4.6,
           6.99226,
           5.74,
           4.8,
           4.73,
           21,
           6.056,
           13.289,
           8.4,
           13.56,
           17.142,
           69.28694,
           69.92,
           68.65128,
           69.28694,
           266.97,
           268.88418,
           266.9772,
           262.52758,
           47.6745,
           9057.77,
           3496,
           3496.13,
           1995.88832,
           413.179,
           27,
           8.21,
           7.72,
           8.36,
           9,
           8.9,
           5.7,
           5.8,
           10.4,
           953.49,
           4131.79,
           8.75,
           14.67,
           10.18,
           5085.28,
           11.7,
           1.62,
           1.58,
           1.63,
           1.66,
           6.26125,
           6.55,
           6.43,
           6.45,
           6.37,
           8.17,
           1.32,
           1.32,
           2.09,
           30.63,
           22.7,
           301.93699,
           4069.15709,
           3.34,
           794.5,
           13.9,
           13.9,
           14,
           12.58,
           14.1,
           13.73,
           1.86,
           1.84,
           8.4,
           0.546,
           1.21,
           1.75,
           23.1,
           23.42407,
           23.201,
           25.4,
           23.1688,
           21.67601,
           23.13802,
           22.1,
           25.4,
           1144.18227,
           1080.61658,
           2.82,
           2129.461,
           1840.86213,
           4288.14087,
           7977.49302,
           254.26273,
           723.2235,
           804.076,
           845.3,
           839.04,
           226.9846,
           273.32,
           266.2,
           251.075,
           6.83,
           7.49,
           7.53,
           16.58,
           14.6,
           718.2922,
           2988.54051,
           5.14,
           3.42,
           3.69,
           4.91,
           4.89,
           2.42,
           1.45,
           1.3,
           0.84,
           3.53,
           5.2,
           2.35,
           4.04,
           6261.21962,
           9852.73,
           6356,
           5000,
           4258.7,
           4767.45,
           5300,
           3591.3,
           533.95172,
           259.66581,
           25.743,
           24.02795,
           26.69772,
           28.6047,
           731.009,
           67.059,
           63.88383,
           66.7443,
           66.23577,
           67.06213,
           66.39469,
           1093.3352,
           721.79193,
           709.367,
           731.96249,
           736.09428,
           709.39656,
           724.6524,
           616.5902,
           618.471,
           649.32669,
           619.45067,
           170.67471,
           169.71,
           184.3414,
           184.3414,
           63.566,
           58.16289,
           62.29468,
           62.61,
           92.802,
           90.26372,
           3175.1217,
           2828.6,
           2888.95,
           2765.121,
           3632.7969,
           2739.6946,
           2777.8342,
           2771.4776,
           2873.1832,
           2294.7326,
           2301.0892,
           2320.1,
           2302.899,
           2310.6241,
           1261.7851,
           1547.8321,
           1291.289,
           696.68336,
           785.0401,
           690.32676,
           682.69884,
           685.55931,
           682.352,
           180.202,
           180.20961,
           180.84527,
           22.2481,
           18.91089,
           18.751,
           209.759,
           195.78328,
           197.05,
           202.45771,
           198.953,
           185.61272,
           193.55847,
           189.42668,
           190.38017,
           187.83,
           189.10885,
           190.38017,
           206.5895,
           682.38101,
           707.80741,
           721.4741,
           689.98,
           251.0857,
           263.7989,
           273.3338,
           273.322,
           238.3725,
           216.1244,
           1058.3739,
           1249.0719,
           2227.9883,
           1057.694,
           611.82275,
           582.24,
           587.41341,
           486.2799,
           588.62116,
           587.9855,
           381.396,
           371.528,
           378.2177,
           84.857,
           84.86061,
           216.12,
           216.1244,
           216.1244,
           206.90733,
           213.255,
           203.09337,
           176.71348,
           152.5584,
           195.457,
           184.65923,
           210.395,
           232.0159,
           111.871,
           699.226,
           562.5591,
           549.823,
           431.93097,
           429.0705,
           98.84513,
           98.20947,
           259.66711,
           259.98494,
           241.5508,
           578.4506,
           184.3414,
           184.97706,
           448.1403,
           587.9855,
           118.23217,
           489.45575,
           419.5356,
           351.83781,
           336.58197,
           335.932,
           351.51998,
           337.85329,
           182.43351,
           335.94463,
           241.86742,
           195.14664,
           230.10892,
           1137.8314,
           571.77617,
           534.59006,
           564.442,
           574.00098,
           566.05523,
           539.35751,
           564.442,
           584.8072,
           2154.8874,
           406.8224,
           414.45032,
           483.1016,
           483.08,
           430.34182,
           589.55,
           556.2025,
           756.4354,
           759.6137,
           188.15536,
           172.58169,
           339.76027,
           340.0781,
           340.39593,
           689.6911,
           1039.3041,
           629.14449,
           629.3034,
           427.463,
           486.2799,
           870.8542,
           467.2101,
           775.5052,
           718.2958,
           194.82979,
           168.4499,
           213.58176,
           207.54299,
           224.38798,
           292.4036,
           378.85336,
           299.07803,
           31.46517,
           200.2329,
           416.03947,
           420.471,
           505.3497,
           3082.951,
           82.95363,
           177.9848,
           222.481,
           54.98459,
           117.27927,
           77.23269,
           112.19399,
           75.323,
           75.64354,
           123.9537,
           711.9392,
           189.10885,
           239.32479,
           241.5508,
           191.33366,
           1000.21101,
           327.3649,
           256.17098,
           101.38777,
           1080.622,
           56.89157,
           305.1168,
           305.1168,
           1694.0339,
           410.0007,
           183.38791,
           39.09309,
           38.1396,
           4100.007,
           117.5971,
           39.85588,
           464.02947,
           156.05375,
           835.57088,
           436.69623,
           46.08535,
           43.86054,
           918.5241,
           3178.28407,
           3623.24384,
           12.6,
           15.2,
           6006.95689,
           3025.09078,
           4115.8985,
           3496,
           2151.69832,
           1825.28854,
           715.11392,
           6935.33367,
           4.55,
           8612.832,
           2598.56506,
           2374.1782,
           2531.50326,
           5740.93452,
           6579.04802,
           6299.67686,
           2542.62726,
           2510.52659,
           1551.00263,
           2346.52713,
           3279.67133,
           2685.65004,
           669.34663,
           2415.49589,
           1831.32728,
           3135.69506,
           3465.60095,
           8646.20398,
           10806.16584,
           2281.37231,
           107.74383,
           1204.25787,
           797.7493,
           1744.56013,
           4164.18779,
           5244.16872,
           4.62,
           4.72,
           8.82,
           4.04,
           6315.56828,
           5784.47701,
           116.64361,
           131.89945,
           4735.64326,
           5001.66564,
           1997.23371,
           3464.64746,
           1433.40612,
           1382.55357,
           1597.08775,
           658.54046,
           102.97692,
           102.34126,
           114.10097,
           120.7754,
           116.957,
           113.14748,
           4003.68444,
           772.32303,
           11.56,
           27.5,
           7.2,
           7.51,
           8.11,
           8.79,
           8725.66109,
           378.2158,
           1878.04806,
           1661.60691,
           3098.82697,
           1366.66215,
           1398.44499,
           2224.79885,
           1875.1876,
           5943.39121,
           1207.74795,
           905.81096,
           5500.33841,
           2154.8766,
           2881.11451,
           953.48522,
           2437.42605,
           2796.88998,
           1115.5833,
           1023.37,
           1028.18005,
           1036.76146,
           1014.153,
           3114.71839,
           2037.59792,
           1048.83374,
           2980.91263,
           3219.60176,
           3177.64841,
           11.2,
           19.7,
           25.5,
           24.1,
           9333.03117,
           369.303,
           359.1479,
           356.92309,
           365.5045,
           370.58978,
           365.49,
           363.582,
           349.6,
           362.3262,
           1598.67689,
           1938.75328,
           572.09113,
           1137.8257,
           2966.61035,
           3219.60176,
           10,
           10.4,
           8,
           7.2,
           5.8,
           2.8,
           3561.90296,
           3972.85509,
           5689.157,
           634.38868,
           592.43512,
           323.23311,
           3496.11248,
           7656.097,
           7.42,
           2378.94563,
           1576.4289,
           1466.7781,
           6324.7853,
           4868.17771,
           8263.53858,
           8899.1954,
           6.1,
           14.4,
           232.0159,
           219.3027,
           219.29,
           235.1942,
           226.93062,
           200.22,
           216.76006,
           197.05,
           217.704,
           217.71355,
           203.4,
           1655.886,
           8.83,
           5914.78665,
           6451.91666,
           1233.17422,
           3.7,
           3359.44626,
           3057.50928,
           4.74,
           4.36,
           16.17,
           7.3,
           16.6,
           5102.41725,
           381.39409,
           60.5,
           6467.80808,
           7278.27052,
           6547.26518,
           581.62598,
           3655.02668,
           2075.73733,
           13.71,
           9.72,
           26.57,
           8.32,
           17.92,
           17.18,
           3.41,
           0.55,
           0.72,
           0.77,
           3786.60764,
           4640.29474,
           2993.94359,
           2884.92845,
           5252.75008,
           2.14,
           3.09,
           9045.39646,
           371.8611,
           495.81231,
           2063.65985,
           18.496,
           7.943,
           5.681,
           6241.83209,
           1420.69298,
           1739.47487,
           2670.7121,
           1954.6447,
           467.20776,
           9.67,
           5.02,
           5.59,
           4.73,
           4.97,
           5.69,
           10.67,
           9.8,
           8.33,
           11.13,
           657.9048,
           77.55052,
           3299.05886,
           2500.67391,
           8445.33643,
           1859.29618,
           7.8,
           1357.1273,
           1880.90851,
           5542.92742,
           5549.28399,
           5965.6392,
           7923.46219,
           10.8,
           11.1,
           3478.94974,
           560.64931,
           2510.84442,
           982.08978,
           1239.53079,
           949.67128,
           5977.08102,
           1321.53052,
           1462.01067,
           1630.77756,
           1398.44499,
           10.2,
           9.7,
           3127.43152,
           2753.98315,
           2597.9294,
           15.9,
           1308.18828,
           1307.55262,
           1392.0954,
           1252.2,
           5.72,
           5.6,
           1802.08707,
           1609.80088,
           1748.05624,
           7505.2,
           2151.06266,
           2301.07767,
           7668.5638,
           476.74261,
           2877.30057,
           143.0235,
           7.25,
           3909.28941,
           3117.26102,
           4210.59074,
           1719.13385,
           2005.49725,
           2511.7979,
           324.1866,
           642.01338,
           34.9613,
           35.7,
           38.45743,
           1592.32032,
           4154.01728,
           7.8,
           19.2,
           1748.065,
           1589,
           2288.36453,
           1589,
           1430.235,
           42.44,
           2459.99187,
           1913.64484,
           794.575,
           7.86,
           8.3,
           8.88263,
           7.55,
           2665.30902,
           3082.93555,
           12.7132,
           11.82,
           10.1,
           9501.75953,
           7627.88177,
           8835.62971,
           2589.98369,
           2585.53409,
           2151.69832,
           1779.83908,
           1021.18779,
           2860.47,
           1871.37366,
           4354.24918,
           4309.11754,
           2002.2,
           2204.77566,
           7945.71018,
           7700,
           7322.49,
           7300,
           6515.515,
           2451.72833,
           1811.62192,
           379,
           6547.26518,
           10,
           18.3,
           20,
           6098.17365,
           7182.922,
           5117.03735,
           6991.57,
           9534.9,
           1052.01203,
           2000,
           3000,
           3000,
           3178.3,
           27,
           21.8,
           30,
           59.4,
           15.9,
           16.7,
           5.58,
           5.29,
           8.6,
           410.0007,
           587.9855,
           638.8351,
           266.9772,
           5.2,
           6.3,
           7.9,
           6.5,
           155.7367,
           155.7367,
           157.32585,
           4.3,
           18.1,
           3,
           158.915,
           3.1,
           6.31,
           7.92,
           12.97,
           1.63,
           4.32,
           123.00021,
           323.86877,
           295.58042,
           5.08,
           4.97,
           5.31,
           5.16,
           8,
           7.4,
           5.6,
           5.77,
           7.1,
           7.49,
           6.5,
           8.63,
           8.92,
           7.96,
           11.44182,
           20,
           28.5,
           44,
           54.4,
           32.4,
           25.6,
           7.5,
           15.9,
           10.8,
           14,
           10,
           6.9,
           12.4,
           349.61125,
           368.68095,
           8,
           444.962,
           8.7,
           2.49,
           2.59,
           21.3,
           11.26,
           12.81,
           21.14,
           19.8,
           21,
           19,
           15.4,
           27,
           26,
           24.5,
           59.75174,
           70.87609,
           67.69745,
           14.9,
           14.8,
           6.54,
           8.9,
           14.3,
           30.9,
           29.1,
           37.1,
           9.68,
           15.68,
           6.5,
           10.7,
           100.11645,
           194.82979,
           232.0159,
           10.9,
           246.00042,
           6.49,
           6.4,
           24.5,
           106.47305,
           6.6,
           5.11,
           6.47,
           8.1,
           8.4,
           6.48,
           2.68,
           3.3,
           2.1,
           4.2,
           2.14,
           3.1,
           7.5,
           1.6,
           2.2,
           11.1,
           1.8,
           2.80007,
           184.02357,
           187.20187,
           198.00809,
           563.83042,
           590.1,
           21.1,
           16.5,
           15,
           8.1,
           12.1,
           8.1,
           6.7,
           10.3,
           35,
           2.1,
           82.6358,
           1144.188,
           1175.971,
           539.67534,
           559.3808,
           563.51259,
           352.7913,
           4.3,
           3.9,
           7.9,
           7.8,
           12,
           7.7,
           7.3,
           19.0698,
           7.4,
           9.9,
           8.3,
           39.8,
           50.3,
           28.6047,
           7.5,
           1652.70772,
           699.2225,
           135.39558,
           21.3,
           603.877,
           349.613,
           152.5584,
           152.5584,
           32.2,
           308.2951,
           8654.15,
           215.80657,
           54.34893,
           61.97685,
           301.9385,
           380.12468,
           408.09372,
           416.3573,
           375.0394,
           1293.5681,
           540.311,
           483.717,
           485.32641,
           5403.11,
           1074.90106,
           1242.7153,
           298.12454,
           1334.87931,
           1646.3594,
           469.415,
           469.75274,
           616.5902,
           165.2716,
           140.48086,
           136.661,
           406.8224,
           441.7837,
           275.55861,
           272.69814,
           209.7678,
           775.5052,
           915.3504,
           2445.06619,
           6.3,
           5700,
           10.9,
           5.8,
           12.14,
           2.32,
           0.92,
           4.67,
           9.51,
           1.32,
           1043,
           29,
           2200,
           1450,
           700,
           700,
           700,
           700,
           730,
           700,
           730,
           4923,
           1250,
           769,
           836,
           245.0457,
           34,
           5.59,
           5.55,
           5.63,
           1166.43025,
           6.75,
           3.72,
           5.19,
           760,
           640,
           270,
           230,
           3.54,
           664.26137,
           8.69,
           7.59,
           460.85119,
           101.70509,
           73.10053,
           670.61794,
           740.54019,
           648.36995,
           60,
           4.447,
           4.444,
           6.059,
           1400,
           1570,
           512.33939,
           77.86796,
           622.94368,
           705.57906,
           6.78,
           5.56,
           101,
           180,
           111,
           106,
           293,
           180,
           126,
           192,
           189,
           206,
           103,
           346.43296,
           387.75066,
           365.50267,
           9.2,
           9.2,
           9.2,
           9.2,
           9.2,
           9.2,
           587.98255,
           567.95936,
           575.26942,
           2447.27873,
           3807.58432,
           1452.47582,
           1353.94901,
           619.76539,
           680.15279,
           10.28,
           15.5,
           60.3874,
           29.87587,
           27.9689,
           28.60456,
           32.73633,
           32.10067,
           40.36421,
           42.58901,
           3400,
           3880,
           397,
           404,
           4.06,
           4.12,
           4.08,
           1287.20505,
           454.49462,
           813.64072,
           4.67,
           4.67,
           4.63,
           4.79,
           4.47,
           200,
           368.68095,
           88.99195,
           1.21,
           0.96,
           1.28,
           0.86,
           7405.40188,
           4894.55747,
           5371.30008,
           3972.85509,
           1802.08707,
           1754.41281,
           1773.48251,
           1897.43559,
           11.8,
           5.9,
           11.5,
           11.4,
           6,
           12.1,
           6.1,
           11.2,
           5.8,
           11.8,
           5.8,
           31.78284,
           34.96112,
           31.78284,
           31.78284,
           60.3874,
           60.3874,
           66.74397,
           66.74397,
           127.13136,
           127.13136,
           127.13136,
           127.13136,
           31.78284,
           31.78284,
           2034.1018,
           25.76,
           39.9,
           38.19,
           130.30965,
           143.02278,
           149.37935,
           400.46379,
           2.81,
           6.92,
           69.92225,
           69.92225,
           79.4571,
           79.4571,
           403.64208,
           406.82036,
           753.25332,
           413.17693,
           413.17693,
           772.32303,
           394.10722,
           17.74,
           19.05,
           17.42,
           22.05,
           22.23,
           120.77479,
           61.27,
           62.41,
           58.95,
           4.55,
           3.57,
           4.67,
           3.52,
           4.67,
           38.13941,
           38.13941,
           46,
           46,
           39,
           39,
           45,
           46,
           39,
           251.08444,
           232.01474,
           22.24799,
           22.24799,
           22.24799,
           22.24799,
           286.04557,
           286.04557,
           289.22385,
           15.4,
           15.3,
           349.613,
           1690.8556,
           3178.3,
           460.83,
           2637.88,
           2949.4624,
           2070.66245,
           8.7,
           9.5,
           214.1,
           198.8,
           4.6,
           9,
           71,
           15,
           2.23,
           11.02,
           9.2,
           10.36,
           254.264,
           381.396,
           613.4119,
           99.2,
           0.44,
           0.655,
           10.5,
           15.6,
           7.8,
           9.4,
           106,
           58.4,
           52.1,
           35,
           13,
           209.8,
           24,
           346.4347,
           3.72,
           3.24,
           4.6,
           4.56,
           3.57,
           3.33,
           3.26,
           4.60853,
           11.4,
           17.2,
           20,
           7.37,
           13.98,
           7.34,
           7.05,
           3,
           51.1,
           3.78,
           4.3,
           1.1,
           3,
           1.7,
           2.6,
           3,
           3.8,
           8.93,
           4.7,
           4.3,
           5.2,
           9.7,
           9.8,
           36.1,
           38,
           19.6,
           5.1,
           3,
           3.6,
           4.6,
           5.3,
           10.44,
           8.1,
           11.17,
           3.51,
           3.8,
           10,
           9.39,
           7.7,
           3.8,
           14.1,
           8.6,
           4.9,
           7.3,
           8.2,
           21.8,
           4.3,
           4.3,
           2.18,
           1.9,
           13.5,
           2.09,
           5.9,
           2.9,
           6.8,
           6.1,
           6.7,
           7.24,
           7.3,
           8,
           8.4,
           7,
           6.7,
           7.37,
           2.3,
           2,
           2.5,
           1.98,
           1.7,
           300,
           25,
           25.13,
           11.7,
           8.7,
           6.8,
           2.8,
           40,
           3.9,
           29.875,
           584.78,
           8.5,
           27.7,
           36,
           55.3,
           30.7,
           0.77,
           42.7,
           37,
           0.9,
           33.3,
           43,
           16.13,
           8.25,
           19.8,
           0.07,
           0.066,
           0.187,
           0.5,
           2.3,
           1.6,
           5.2,
           1.97,
           3.83,
           0.64,
           1.01,
           1.17,
           2.1,
           0.43,
           2669.66,
           2440.9344,
           37.1,
           79.4,
           201.18639,
           209.76,
           221.20968,
           1678.1424,
           105.833,
           99.48029,
           100,
           12.1,
           11.8,
           483,
           5,
           5.4,
           126.4,
           1868.8404,
           17,
           321.00669,
           743.7222,
           785.0401,
           778.65,
           82.6,
           1322.16617,
           4.47,
           5.42,
           23,
           15.2,
           5.84,
           2,
           5.4,
           7.5,
           14.7,
           13.5,
           6.9,
           17.3,
           18.4,
           16.4,
           15.7,
           14.9,
           35.7,
           8.8,
           2.4,
           22.7,
           8.4,
           20.3,
           6.1,
           13.1,
           1906.9,
           22.5,
           5.3,
           2.02,
           2.11,
           9.7,
           8.7,
           9.7,
           16.1,
           12.75,
           11.1,
           10.07,
           13.4,
           20.1,
           3.08,
           0.76,
           14.3,
           1.4,
           749.9,
           33.9,
           10.4,
           7.5,
           5.08,
           18.3,
           23.6,
           19.1,
           9.1,
           36,
           15.1,
           7.4,
           4,
           12.4,
           5.1,
           8,
           5.9,
           4.8,
           24,
           45.2,
           15.2,
           254.3,
           60.2,
           858.1,
           17.6,
           35.4,
           24.1,
           169.7,
           13.5,
           33.3,
           508.5,
           508.5,
           33.6,
           102.3,
           15.2,
           225.6,
           21.6,
           9.6,
           9,
           8.7,
           4036.3,
           15.2,
           24.6,
           1322.12,
           14.3,
           89.9,
           71.9,
           3.2,
           120.77,
           5.12,
           5.02,
           119.181,
           6.12,
           6.1,
           6.2,
           37.9,
           41.8,
           2895.31,
           21.2,
           4385.87,
           78,
           97.8,
           25.2,
           16.6,
           18.4,
           16.3,
           87.3,
           78.1,
           64.2,
           39.6,
           49.4,
           7.4,
           4.5,
           37.5,
           479.9,
           8.8,
           432.23,
           10.9,
           61,
           56.2,
           7.3,
           133.4886,
           132,
           4,
           4.51,
           5,
           127.1,
           95.3,
           4,
           4.5,
           48.5,
           42.1,
           11.3,
           8.8,
           78.6,
           63.566,
           640,
           527.7,
           1603.8,
           2892.253,
           5403.11,
           23.1,
           10.5,
           7.2,
           6,
           4.5,
           9.1,
           2.1,
           7.44,
           8.81,
           8.8,
           3.1,
           1.9,
           1.5,
           3.9,
           3.9,
           3.64,
           29.5,
           1493.7,
           2161.244,
           7,
           109.8,
           1303,
           9.4,
           158.9,
           7.7,
           684.4,
           3.9,
           79.7,
           6.8,
           44.6,
           17.4,
           6.9,
           20.3,
           28.5,
           39.4,
           0.39,
           3.91,
           4.1,
           11.7,
           5.57,
           12.8,
           5.5,
           9.65,
           25.2,
           9.6,
           28.2,
           30.6,
           8.5,
           7.3,
           14.7,
           69.92,
           0.5,
           2.2,
           94.5,
           40.363,
           6.1,
           7.2,
           14.8,
           14.9,
           4.8,
           11.1,
           2.9,
           2.7,
           3.83,
           3.9,
           5.56,
           4.45,
           9.61,
           7.5,
           7.13,
           8.08,
           66.4,
           10,
           0.79,
           3.1783,
           1.3,
           12,
           2,
           62.5,
           12.2,
           122,
           12.8,
           13.2,
           75.5,
           17.9,
           24.472,
           23.83725,
           699.2,
           657.9081,
           686.5128,
           673.7996,
           6.35,
           2.71,
           3.2,
           4000,
           5,
           6,
           22,
           25.6,
           26.4,
           15.2,
           10.8,
           67,
           3.5,
           29.9,
           119.9,
           58.2,
           11,
           349.613,
           349.61125,
           794.5,
           820.0014,
           2320.1,
           228.83,
           189.101,
           192.60498,
           327.35,
           341.98508,
           71.82958,
           79.45,
           107.10871,
           108.06,
           403.63,
           406.8224,
           1719.4603,
           182.75225,
           1547.77,
           896.24,
           893.1023,
           947.1334,
           908.96,
           270.1555,
           266.97,
           324.17,
           311.79123,
           317.82,
           327.3649,
           0.2,
           0.1,
           435.41,
           6992.26,
           158.915,
           153.82972,
           160.497,
           19.4,
           12.5,
           17.6,
           16,
           6.84,
           6.05338,
           5.4,
           1907,
           281.27955,
           119.499,
           115.05446,
           53.9,
           6,
           2.07,
           636,
           3.17,
           8899,
           19.02,
           3.94,
           21.1,
           14.3,
           9.8,
           13.6,
           14.61,
           7.93,
           657,
           8,
           8.6,
           5.9,
           8.3,
           675.70658,
           671.864,
           670.93913,
           648.3732,
           8.9,
           8.2,
           2.3,
           2.1,
           3.69,
           3.9,
           9.7,
           4.43,
           4,
           5.7,
           7.6,
           6.2,
           135,
           79.6,
           45.4,
           62.9,
           111,
           103.1,
           36,
           35.5,
           12.9,
           10.6,
           308.2951,
           762.792,
           21.5,
           19.8,
           11,
           43,
           69.8,
           236.2,
           22.1,
           32,
           137.6,
           181,
           286.8,
           118.1,
           115,
           7.4,
           9.1,
           35.5,
           34.9,
           53,
           17.4,
           3.3,
           212.31044,
           212.619,
           201.18639,
           205.63601,
           4.19,
           4.1,
           3.7,
           23.1,
           2,
           17.2,
           4.8,
           3.85,
           3.9,
           3.8,
           4.16,
           9,
           4,
           14,
           36,
           35,
           120,
           321.0083,
           2.4,
           26.6,
           5.4,
           4.14,
           260,
           8.03,
           7.65,
           8.3,
           5.97,
           6.3566,
           4.8,
           1.3,
           2.04,
           7.2,
           137.615,
           140.16303,
           142.70567,
           135.07775,
           143.97699,
           216.12,
           191.96932,
           200.22,
           3210.083,
           3146.4,
           3209.9,
           136.661,
           165.90726,
           225.65,
           8,
           1.77,
           1.96716,
           1.87,
           1.69,
           1.86,
           1.68,
           10.9,
           54.1,
           12.5,
           5.9,
           13.7,
           9.5,
           11.3,
           6,
           3.4,
           6.3,
           4.1,
           187.5197,
           177.9848,
           191.643,
           187.5197,
           6.93,
           6.74,
           6.75,
           3.7,
           2.1,
           4.13,
           17.2,
           4.3,
           12.15,
           51,
           18.4,
           13.9,
           20.9,
           42.1,
           11.4,
           24.6,
           40,
           20.2,
           20.9,
           0.6,
           6.4,
           80.09,
           43.541,
           43.98767,
           43.4,
           43.5,
           2175,
           54.347,
           509.7,
           29.9,
           29.9,
           29.875,
           241.54,
           146.2018,
           209.76,
           257.4423,
           279.68,
           64.3,
           6.1,
           4.54426,
           2.59,
           4.02,
           3.8,
           4.66,
           2701.555,
           954,
           10.84,
           3126,
           13,
           8.46,
           3.51,
           344,
           3.55,
           6.15,
           4.6,
           1.01,
           0.4,
           2.22,
           2.42,
           2.42,
           1.94,
           2.31,
           2.31,
           6.38,
           6.98,
           6.65,
           1.81,
           1.76,
           2.33,
           0.35,
           1.4,
           1.58,
           8.7,
           30.8,
           7.1,
           0.9,
           13.2,
           25.3,
           2.87,
           2.2,
           1.54,
           2.34,
           2.62,
           2.47,
           7.02,
           6.29,
           8.6,
           29.32,
           257.431,
           1175.971,
           985.273,
           3.3,
           540.30829,
           260,
           540.30829,
           260,
           74,
           74,
           23.4,
           23.4,
           1300,
           1300,
           10.4,
           10.4,
           67.3,
           50,
           830,
           830,
           3500,
           170,
           170,
           109,
           9.2,
           15.2,
           73,
           86,
           480,
           480,
           30,
           30,
           17,
           0.47,
           18,
           16,
           27,
           18,
           13,
           760,
           1500,
           760,
           760,
           760,
           3690,
           2700,
           6.7,
           6.7,
           871,
           20.58,
           7.47,
           3.24,
           8.28,
           21.77,
           3.23,
           5720,
           5720,
           33.7,
           33.7,
           1300,
           1500,
           1700,
           890,
           210,
           200,
           11441.82265,
           6674.39655,
           7627.88177,
           7945.71018,
           11759.65106,
           8581.36699,
           3813.94088,
           5403.08292,
           5403.08292,
           3813.94088,
           5720.91133,
           4767.4261,
           25,
           11.3,
           46,
           69,
           1200,
           180,
           200,
           200,
           180,
           150,
           190,
           7532.571,
           258.07796,
           687.14846,
           109.33352,
           66.10864,
           1538.2972,
           29.24036,
           238.68913,
           211.99155,
           947.12865,
           750.07504,
           165.27077,
           203.09235,
           756.4354,
           20.6,
           72.78307,
           425.57437,
           295.5819,
           921.707,
           2196.11,
           2329.6,
           731,
           724.622,
           730.978,
           830,
           480,
           635.65681,
           1200,
           1100,
           1200,
           635.65681,
           1100,
           13.2,
           14.1,
           13,
           5.5,
           231,
           230,
           86,
           86,
           144,
           80,
           20,
           57,
           1500,
           2200,
           57,
           2100,
           60,
           170,
           140,
           280,
           180,
           46.1,
           35,
           270,
           220,
           601,
           588,
           578,
           868,
           1200,
           830,
           120,
           123,
           150,
           150,
           53.1,
           35,
           20,
           34,
           24,
           25,
           31,
           36,
           39,
           34,
           41,
           30,
           21,
           4400,
           4100,
           92,
           2.32,
           1.66,
           3150,
           3020,
           200,
           860,
           860,
           160,
           150,
           206.58846,
           206.58846,
           181.16219,
           982,
           1169.60854,
           1185.49996,
           55.3,
           55,
           83.7,
           83.3,
           180,
           230,
           1100,
           1200,
           1100,
           1200,
           21,
           21,
           21,
           21,
           21,
           21,
           21,
           21,
           21,
           21,
           21,
           21,
           21,
           21,
           21,
           21,
           807,
           17.9,
           127,
           126,
           138,
           837.2,
           136,
           740.9,
           1300,
           1300,
           871,
           1330,
           874,
           372,
           957,
           1400,
           140,
           140,
           140,
           200.2319,
           235.19302,
           225.65817,
           232.01474,
           4253,
           4253,
           1.43,
           1.43,
           1.43,
           1.43,
           5.1,
           5.1,
           1.43,
           1.43,
           1.43,
           1.43,
           250,
           1580,
           3.269,
           8.95,
           7.581,
           60.1,
           127,
           130,
           9,
           9,
           160,
           1760,
           959.84179,
           515,
           505,
           3283,
           4218,
           3585,
           4183,
           4.43,
           4.5,
           240,
           14.62011,
           14.62011,
           5.27,
           4.87,
           5.87,
           2.68,
           4.83,
           2.4,
           5.47,
           44.49598,
           28.92239,
           47.67426,
           6.4,
           16.3,
           16.3,
           16.3,
           16.3,
           16.3,
           16.3,
           20.1,
           20.1,
           20.1,
           20.1,
           20.1,
           20.1,
           6.228,
           6.554,
           101.70509,
           13.93,
           1.19,
           14.69,
           1.3,
           3.96,
           3.96,
           1400,
           1200,
           350,
           1200,
           1500,
           350,
           514.88202,
           524.41687,
           66.74397,
           85.81367,
           533.95172,
           120.77479,
           117.59651,
           120.77479,
           82.63539,
           282.86728,
           425.89007,
           6.4,
           570,
           570,
           570,
           570,
           890,
           890,
           890,
           890,
           289.22385,
           273.33243,
           289.22385,
           19.0697,
           17.79839,
           13.66662,
           2.1,
           8.4,
           63.56568,
           60.3874,
           63.56568,
           63.56568,
           60.3874,
           210,
           240,
           220,
           314.65012,
           301.93699,
           301.93699,
           240,
           308.29355,
           1400,
           1400,
           2262.93826,
           2265.79871,
           2264.20957,
           2253.40341,
           2210.17874,
           1976.89269,
           162.09249,
           1061.54688,
           1036.12061,
           1090.15144,
           1020.22919,
           3248.20632,
           3222.78005,
           1061.54688,
           4513.16338,
           1.8,
           2.5,
           2,
           2,
           2.46,
           2.5,
           2.48,
           1716.2734,
           985.26806,
           699.2225,
           794.57102,
           37.1,
           37.1,
           37.1,
           37.1,
           37.1,
           37.1,
           197.046,
           209.7678,
           200.2329,
           216.1244,
           193.8763,
           181.1631,
           359.1479,
           168.4499,
           165.2716,
           247.9074,
           174.8065,
           168.4499,
           174.799,
           165.2716,
           171.6282,
           400.449,
           419.5356,
           343.2564,
           390.9309,
           394.1092,
           429.0705,
           432.2488,
           362.3262,
           375.02,
           371.8611,
           378.2,
           858.141,
           371.8611,
           320.99,
           6674.43,
           4449.62,
           2542.64,
           953.49,
           635.66,
           169,
           25426.4,
           734.16,
           0.02,
           4.3,
           3.9,
           794.575,
           382.8,
           8581.36699,
           410.95419,
           411.27202,
           419.85343,
           346.42,
           422.7139,
           405.23325,
           783.76878,
           826.358,
           785.0401,
           790.41,
           792.635,
           1938.763,
           1373.0256,
           212.31044,
           378.2177,
           5085,
           3337.1,
           2860,
           2542.64,
           1906.98,
           4131.62,
           3082.82,
           1207.7,
           9.2,
           19,
           20,
           9.2,
           869.7,
           837,
           981.3,
           845.7,
           942,
           823.9,
           617.22586,
           212.94503,
           1951.46642,
           10.15,
           13.5,
           2.5,
           9.95,
           1064.72516,
           309.56642,
           375.03752,
           6.28,
           1112.39942,
           15.4,
           6.91,
           5.9,
           6.69,
           8.1,
           8.8,
           5.3,
           14.8,
           9.5,
           6.63,
           13.6,
           140.16233,
           8.6,
           8.56,
           11.8,
           13.2,
           11.84,
           15.9,
           13.5,
           6.4,
           2.2,
           96.4,
           24.6,
           5879.82553,
           42,
           94.71287,
           113.14691,
           22.4,
           753.2571,
           33,
           21.8,
           3.48,
           9,
           991.62463,
           3.87,
           4.82,
           3.21,
           6.64,
           270.47333,
           556.2025,
           797.7533,
           731.00534,
           375.0394,
           314.6517,
           387.7526,
           4.91,
           7.57,
           10.14,
           41.31769,
           200.2319,
           3.78,
           3.43,
           3.09,
           26.1,
           5.5,
           6.36,
           56.6,
           48.8,
           28.3,
           1722.6386,
           26.78,
           57,
           14,
           15,
           10.8,
           6.8,
           1.5,
           4.77,
           3.01,
           3.86,
           7.72,
           3.94,
           222.47988,
           2.57,
           46.1687,
           308.92921,
           68.01528,
           209.7678,
           638.8351,
           11,
           81.7,
           133.4886,
           9.2,
           1144.18227,
           1398.44499,
           1595.4986,
           4.7,
           15,
           6.37,
           1671.77742,
           899.45439,
           200,
           177.98391,
           30,
           18.75188,
           875.61726,
           206.58846,
           298.7587,
           26,
           13.8,
           310.83618,
           117.27868,
           203.41018,
           502.16888,
           19.5,
           508.52545,
           1900.61387,
           71.51139,
           105.83686,
           2.68,
           1531.93292,
           34.62,
           317.83,
           26.69759,
           208.81326,
           63.88351,
           43.86032,
           260.61929,
           69.28659,
           1112.39942,
           193.87533,
           8.8,
           1.58,
           6.15,
           4.78,
           139.8445,
           225.65817,
           533.95172,
           211.35589,
           721.47048,
           1598.35906,
           375.03752,
           82.63539,
           324.18498,
           222.47988,
           85.3,
           352.78953,
           16.5,
           55.61997,
           11,
           20.31,
           38.15,
           731.00534,
           457.67291,
           136.66622,
           7.17,
           16.42,
           3.07,
           9.9,
           143.02278,
           95.34852,
           252.35576,
           168.44906,
           4096.80817,
           734.18362,
           486.2799,
           1.42,
           1036.12061,
           4449.62,
           147.15455,
           343,
           127.13136,
           61.5,
           419.5335,
           1147.36055,
           2.24,
           1.59,
           3.2,
           2,
           6.6,
           5.39,
           5.4,
           7,
           11.95,
           12.15,
           13.2,
           16,
           12.6,
           13.6,
           464.98529,
           20,
           2011.8639,
           279.6904,
           23.6,
           5.72,
           9.79,
           9.32,
           4,
           5.3,
           878,
           18.467,
           4.53,
           9.6,
           39.09,
           301.9385,
           211.99261,
           16.137,
           16,
           826.358,
           794.575,
           37,
           55.30242,
           9.1,
           0.85,
           1.017,
           1.374,
           1.308,
           1.38,
           1.156,
           0.388,
           0.41,
           0.297,
           0.62,
           0.692,
           0.772,
           0.68,
           0.934,
           1.039,
           1.321,
           1.34,
           1.148,
           0.331,
           0.326,
           4449.62,
           6928.65927,
           2288.36453,
           1906.98,
           241.86863,
           266.9772,
           221.52751,
           238.36,
           238.998,
           381.396,
           380.76034,
           382.03166,
           380.76034,
           380.44251,
           381.1,
           383.30298,
           367.72931,
           380.76034,
           457.6752,
           385.20996,
           398.24099,
           398.24099,
           406.8224,
           457.6752,
           380.744,
           473.5667,
           607.03,
           610.2336,
           615.95454,
           603.55917,
           513.29545,
           607.0553,
           607.03,
           572.41183,
           292.4036,
           285.09351,
           158.27934,
           278.73691,
           291.45011,
           157.00802,
           293.99128,
           247.9074,
           292.073,
           267.93069,
           565.078,
           573.36532,
           568.9157,
           568.9157,
           407,
           4449.62,
           4767.45,
           5085.28,
           2002.2,
           2447.2,
           203.41018,
           76.27882,
           98.52681,
           368.68095,
           222.481,
           244.7291,
           13762.039,
           5085.25451,
           3559.696,
           13603.124,
           3813.94088,
           940.7768,
           1004.3428,
           1017,
           1001.12,
           1071.0871,
           1020.2343,
           645.1949,
           638.8383,
           645.17,
           400.4658,
           404.263,
           403.00844,
           572.094,
           514.8846,
           606.73747,
           611.797,
           37.82177,
           30.5,
           38.1396,
           38.1396,
           161.77547,
           251.0857,
           168.4499,
           169.08556,
           154.777,
           156.37236,
           162.09249,
           150.96925,
           163.36462,
           165.2716,
           390.9309,
           1541.4755,
           285.72917,
           190.698,
           151.599,
           114.4188,
           166.86075,
           158.915,
           162.72896,
           390.9309,
           85.8141,
           130.3103,
           37.35,
           603.877,
           479.9233,
           387.7526,
           37.18611,
           775.5052,
           139.8452,
           282.8687,
           112.51126,
           91.21675,
           92.48853,
           124.58874,
           127.132,
           2688.8418,
           98.5273,
           100.43378,
           40.68224,
           182.43442,
           886.7457,
           174.8065,
           264.43456,
           268.88418,
           394.1092,
           288.58964,
           272,
           88.35674,
           791.3967,
           1652.716,
           594.3421,
           676.9779,
           209.13214,
           32.10083,
           2542.64,
           133.4886,
           178.30263,
           508.528,
           344.52772,
           149.3801,
           1102.8701,
           1172.7927,
           314.6517,
           271.74465,
           161.45764,
           527.5978,
           448.1403,
           3314.82,
           3635.9752,
           3314.83,
           3241.866,
           3314.9669,
           3270.4707,
           3305.432,
           3299.0754,
           3241.84975,
           3327.6801,
           3213.2613,
           3241.7,
           55.2,
           95.03117,
           159.55066,
           181.1631,
           311.4734,
           1341.2426,
           254.264,
           632.47853,
           339.76027,
           366.77398,
           362.3262,
           370.27195,
           371.21,
           356.92309,
           354.06262,
           367.72931,
           317.83,
           269.20201,
           275.24078,
           295.89973,
           279.6904,
           291.76794,
           279.68,
           290.802,
           269.20201,
           290.484,
           293.99275,
           95.345,
           93.75985,
           94.39551,
           92.1707,
           279.37257,
           280.95,
           182.43442,
           184.334,
           184.3414,
           190.06234,
           139.8452,
           287.95398,
           285.717,
           282.54945,
           294.62841,
           288.26,
           77.547,
           77.86835,
           73.1009,
           77.55052,
           1042.4824,
           665.21819,
           371.8611,
           1303,
           181.1631,
           187.51,
           185.29489,
           177.9848,
           222.79883,
           228.828,
           225.6593,
           726.55938,
           729.41985,
           750.39663,
           731.932,
           729.73768,
           572.07,
           546.6676,
           861.3193,
           858.1,
           1093.3352,
           841.61384,
           855.245,
           859.73015,
           89.94589,
           89.31023,
           88.989,
           88.9924,
           87.40325,
           371.8611,
           393.139,
           409.68287,
           397.2875,
           375.0394,
           396.96967,
           376.94638,
           393.15571,
           368.36497,
           386.48128,
           298.7602,
           310.51991,
           292.391,
           270.1555,
           299.07803,
           159.23283,
           158.908,
           167.49641,
           565.714,
           572.1,
           651.5515,
           635.02434,
           275.55861,
           282.539,
           279.05474,
           276.5121,
           318.78349,
           318.46566,
           330.5432,
           306.38812,
           320.041,
           667.733,
           607.0553,
           603.877,
           359.1479,
           341,
           370,
           363.1,
           362.311,
           383,
           363.6,
           500,
           16.8,
           14.2,
           13.1,
           15.2,
           10.4,
           6.91,
           6.77,
           9.1,
           12.2,
           6.83,
           22,
           288,
           311.46,
           312.74472,
           327.68273,
           254.264,
           126.81417,
           117.5971,
           120.135,
           126.81417,
           498.336,
           520.28771,
           494.22565,
           497.40395,
           506.93885,
           502.15,
           502.15,
           505.3497,
           524.4195,
           466.8287,
           464.0318,
           466.555,
           146.2018,
           145.88397,
           146.2,
           677.61356,
           181.155,
           181.48093,
           193.8763,
           199.27941,
           181.473,
           143.0235,
           190.38017,
           204.68252,
           213.573,
           204.36469,
           308.2951,
           285.72917,
           282.86,
           274.276,
           272.38031,
           160,
           153.51189,
           154.14755,
           158.915,
           117.5971,
           163.358,
           177.9848,
           160.50415,
           174.8065,
           388.07043,
           403.945,
           492.62,
           489.4582,
           737.335,
           753.2571,
           737.3656,
           746.9005,
           133.483,
           133.4886,
           136.6669,
           129.034,
           343.2564,
           301.93,
           304.16331,
           82.6358,
           79.4575,
           92.1707,
           82.632,
           305.1168,
           305.1168,
           397.2875,
           311.4734,
           305.1168,
           344.20989,
           359.46573,
           305.1168,
           189.74451,
           187.512,
           706.21826,
           441.7837,
           712.545,
           491.3763,
           731.009,
           491.39696,
           459.58218,
           597.5,
           597.20257,
           908.9938,
           572.1,
           559.36,
           559.3808,
           727.8307,
           560.33429,
           529.81995,
           711.9392,
           713.18,
           807.2882,
           699.2,
           677.61356,
           170.99254,
           171.6282,
           176.07,
           174.8,
           178.62046,
           231.69807,
           394.1092,
           397.27,
           371.8611,
           96.93815,
           95.349,
           218.34921,
           220.57402,
           220.565,
           220,
           15.2,
           402.05495,
           692.8694,
           177.98,
           133.4886,
           181.1631,
           1843.414,
           1875.197,
           425.8922,
           382.66732,
           359.13,
           457.6752,
           152.55,
           155.7367,
           420.48909,
           419.52,
           432.2488,
           293.03926,
           269.51984,
           263.79,
           883.53,
           772.3269,
           889.924,
           2542.62726,
           2383.6,
           4386.054,
           2622.08436,
           6992,
           1274.44,
           403.6441,
           355.9696,
           188.15536,
           232.33373,
           6.27,
           6.26,
           293.67492,
           291.76794,
           286.047,
           286.047,
           290.17879,
           263.7989,
           292.391,
           189.10885,
           188.47319,
           176.39565,
           189.737,
           179.89178,
           179.566,
           179.89178,
           199.91507,
           3747.06,
           3759.9289,
           2316.9807,
           3718.611,
           4211.22639,
           3861.6345,
           512.34196,
           495.49697,
           451.3186,
           483.41943,
           565.71,
           491.68301,
           378.2,
           334.03933,
           344.52772,
           332.45018,
           365.5045,
           336.568,
           2002.31896,
           2669.75862,
           3464.32964,
           2542.533,
           3727.80939,
           2224.81,
           3496.13,
           6356,
           3146.517,
           3222.46222,
           2860.47,
           247.9074,
           540.311,
           492.6365,
           209.76675,
           1032.9475,
           2987.58703,
           4068.1,
           4327.36,
           591.1638,
           591.1638,
           689.6911,
           635.66,
           4576.72906,
           670.61794,
           762.78818,
           7057.73298,
           7838.32346,
           4.52,
           3.63,
           4.82,
           1891,
           4443.24113,
           3257.74117
          ],
          "sizemode": "area",
          "sizeref": 63.566,
          "symbol": "circle"
         },
         "mode": "markers",
         "name": "False",
         "showlegend": true,
         "type": "scattergl",
         "x": [
          -0.153,
          -0.37,
          -0.37,
          -0.37,
          -0.37,
          -1.164,
          0,
          -1.72,
          -2.23,
          -2.444,
          -2.561,
          -2.561,
          1.45,
          -1.021,
          0.85,
          0.136,
          -0.197,
          -0.197,
          -0.197,
          -0.197,
          -0.197,
          -0.197,
          -0.197,
          -0.197,
          -0.197,
          -0.197,
          -0.197,
          -0.197,
          -0.197,
          -0.197,
          -0.197,
          -0.197,
          -0.197,
          -0.197,
          0.451,
          1.771,
          -0.226,
          -1.046,
          -1.046,
          -1.046,
          -1.046,
          -1.046,
          -1.046,
          -1.046,
          -0.056,
          -0.056,
          -0.413,
          0,
          -2.85,
          0,
          -0.108,
          -1.732,
          -0.102,
          -0.726,
          -0.726,
          -0.726,
          0.07,
          0.07,
          0.07,
          0.07,
          0.073,
          0.073,
          0.073,
          0.119,
          0.119,
          0.119,
          -0.435,
          -0.435,
          -0.17,
          -0.17,
          -0.17,
          -0.17,
          0.544,
          0.544,
          0.544,
          -0.131,
          -0.131,
          -0.131,
          -0.131,
          -0.131,
          -0.131,
          0.705,
          0.705,
          0.014,
          0.087,
          0.087,
          0.087,
          -0.601,
          -0.601,
          0.451,
          0.451,
          -0.166,
          -0.166,
          0.388,
          0.388,
          -0.094,
          -0.094,
          0.391,
          0.391,
          0.391,
          0.391,
          -0.197,
          0.813,
          0.18,
          0.18,
          0.18,
          0.18,
          0.026,
          0.026,
          0.026,
          -0.289,
          -0.289,
          -0.289,
          -0.289,
          -0.289,
          -0.289,
          -0.289,
          -0.289,
          -0.289,
          -0.289,
          -0.289,
          -0.292,
          -0.4,
          -0.4,
          -0.4,
          -0.4,
          -0.254,
          -0.254,
          -0.254,
          -0.254,
          -0.155,
          0,
          -0.212,
          -0.212,
          -2.4,
          -0.14,
          0.373,
          -0.119,
          -0.119,
          -0.119,
          -0.119,
          -0.119,
          -0.119,
          -0.119,
          0.03,
          0.526,
          0.548,
          0.356,
          0.356,
          0.356,
          -0.699,
          -1.971,
          -2.359,
          -2.359,
          -2.359,
          -2.359,
          -2.337,
          -2.337,
          -2.337,
          -2.337,
          -2.337,
          -2.337,
          -1.708,
          -1.708,
          -1.708,
          -0.686,
          -0.686,
          -1.796,
          0.612,
          -1.342,
          -1.687,
          -1.538,
          -1.538,
          -1.538,
          -1.538,
          -1.538,
          -1.538,
          -1.824,
          -1.798,
          -1.699,
          -1.541,
          -1.963,
          -1.963,
          -1.585,
          -1.585,
          -1.585,
          -1.585,
          -1.585,
          -1.585,
          -1.585,
          -1.585,
          -1.585,
          -1.523,
          -1.523,
          -1.917,
          -1.043,
          -1.043,
          -1.043,
          -1.514,
          -1.585,
          -1.907,
          -1.907,
          -1.907,
          -1.907,
          -1.907,
          -1.907,
          -1.907,
          -1.907,
          -1.907,
          -1.907,
          -1.907,
          -1.907,
          -1.907,
          -1.755,
          -0.884,
          -0.942,
          -0.942,
          -0.942,
          -0.942,
          -0.942,
          -0.942,
          -0.942,
          -0.942,
          -0.942,
          -0.942,
          -0.942,
          -0.942,
          -0.942,
          0.727,
          -0.072,
          -0.072,
          -0.42,
          -0.42,
          -0.42,
          -0.42,
          -1.602,
          -0.159,
          0.057,
          -0.567,
          -0.567,
          -0.567,
          -0.567,
          -0.564,
          -0.678,
          -0.678,
          -0.678,
          -0.678,
          -0.678,
          -0.678,
          0.644,
          0.644,
          0.644,
          0.644,
          0.644,
          0.644,
          0.644,
          0,
          0,
          0,
          0,
          -0.289,
          -0.289,
          -0.289,
          -0.289,
          -0.569,
          -0.569,
          -0.569,
          -0.569,
          -0.432,
          -0.432,
          0.53,
          0.53,
          0.53,
          0.53,
          0.53,
          0.53,
          0.53,
          0.53,
          0.53,
          -0.721,
          -0.721,
          -0.721,
          -0.721,
          -0.721,
          0.025,
          0.025,
          0.025,
          -0.114,
          -0.114,
          -0.114,
          -0.114,
          -0.114,
          -0.114,
          -0.152,
          -0.152,
          -0.152,
          -0.359,
          -0.359,
          -0.359,
          -0.269,
          -0.269,
          -0.269,
          0.053,
          0.053,
          -0.36,
          -0.36,
          -0.36,
          -0.36,
          -0.36,
          -0.36,
          -0.36,
          -0.36,
          0.433,
          0.433,
          0.433,
          0.433,
          0.338,
          0.338,
          0.338,
          0.338,
          0.338,
          0.338,
          0.6,
          0.6,
          0.6,
          0.6,
          0.022,
          0.022,
          0.022,
          0.022,
          0.022,
          0.022,
          -0.208,
          -0.208,
          -0.208,
          -0.208,
          -0.208,
          0.431,
          0.431,
          0.431,
          0.431,
          0.431,
          0.431,
          0.431,
          0.778,
          0.778,
          0.778,
          0.06,
          0.06,
          -0.194,
          0.814,
          0.814,
          0.814,
          0.603,
          0.603,
          -0.066,
          -0.066,
          -0.305,
          -0.305,
          -0.902,
          -0.902,
          0.064,
          0.064,
          0.806,
          0.806,
          0.456,
          0.054,
          0.553,
          0.553,
          0.553,
          0.553,
          0.553,
          0.553,
          0.809,
          -0.115,
          0.091,
          -0.146,
          -0.779,
          1,
          0.814,
          0.814,
          0.814,
          0.814,
          0.814,
          0.814,
          0.814,
          0.814,
          1.223,
          0.519,
          0.519,
          0.519,
          0.519,
          0.519,
          0.041,
          0.041,
          0.863,
          0.863,
          -0.321,
          -0.321,
          -0.173,
          -0.173,
          -0.173,
          -0.204,
          0.173,
          -0.032,
          -0.032,
          -0.268,
          -0.268,
          -0.646,
          0.155,
          0.19,
          0.19,
          0.068,
          0.669,
          -0.157,
          0.029,
          0.097,
          0.057,
          -0.018,
          -0.14,
          -0.256,
          0.64,
          -0.187,
          -0.187,
          0.903,
          0.653,
          -0.398,
          -0.398,
          0.425,
          -0.23,
          -0.796,
          -0.709,
          -0.785,
          -0.268,
          -0.268,
          0.143,
          0.068,
          0.045,
          0.115,
          0.115,
          0.898,
          -0.094,
          0.689,
          -0.004,
          -1.1,
          0.369,
          -0.173,
          0.012,
          0.867,
          0.767,
          0.592,
          -0.318,
          -0.434,
          -0.434,
          1.079,
          -1.56,
          -0.659,
          -1.216,
          -1.197,
          -1.038,
          -0.992,
          -0.025,
          -0.025,
          0.786,
          0.123,
          0.756,
          0.35,
          0.395,
          -0.164,
          -0.164,
          0.75,
          0.75,
          0.477,
          0.477,
          -0.37,
          -0.307,
          -0.032,
          0.117,
          0.377,
          -0.161,
          -0.161,
          -0.161,
          -0.161,
          0.62,
          0.583,
          0.151,
          0.337,
          0.337,
          -0.52,
          0.481,
          0.066,
          1.64,
          1.64,
          0.575,
          -0.604,
          1.124,
          1.124,
          0.06,
          0.083,
          -0.512,
          0.09,
          0.937,
          0.569,
          0.569,
          0.016,
          0.016,
          0.016,
          0.366,
          1.823,
          1.823,
          0.66,
          0.66,
          1.898,
          1.898,
          -0.102,
          0.474,
          0.004,
          -0.092,
          -0.151,
          1.355,
          0.48,
          0.48,
          0.48,
          0.48,
          0.48,
          0.48,
          -0.245,
          0.032,
          0.45,
          0.45,
          -0.326,
          -0.326,
          -0.326,
          -0.326,
          -0.562,
          -0.219,
          0.016,
          1.066,
          -0.146,
          0.278,
          0.278,
          0.278,
          0.508,
          0.083,
          -0.509,
          -0.132,
          0.382,
          -0.501,
          -0.518,
          0.768,
          0.662,
          -0.09,
          0.39,
          0.39,
          0.39,
          0.39,
          0.39,
          0.456,
          0.456,
          0.974,
          -0.099,
          -0.099,
          -0.32,
          0.012,
          0.012,
          -0.429,
          -0.429,
          0.615,
          -0.461,
          -0.461,
          -0.461,
          -0.461,
          -0.461,
          -0.461,
          -0.461,
          -0.461,
          -0.461,
          0.697,
          0.697,
          0.066,
          0.43,
          0.348,
          0.348,
          -0.187,
          -0.187,
          -0.187,
          -0.187,
          -0.187,
          -0.187,
          0.147,
          0.572,
          0.035,
          1.369,
          1.369,
          0.971,
          -0.227,
          -0.227,
          0.049,
          1.86,
          0.1,
          0.1,
          0.1,
          0.1,
          0.456,
          0.456,
          -0.509,
          -0.444,
          0.231,
          0.231,
          0.231,
          0.231,
          0.231,
          0.231,
          0.231,
          0.231,
          0.231,
          0.231,
          0.231,
          0.429,
          0.139,
          0.638,
          0.638,
          0.35,
          -0.686,
          0.425,
          0.425,
          -0.577,
          -0.577,
          -0.577,
          -0.577,
          -0.028,
          0.42,
          0.093,
          0.712,
          0.603,
          0.603,
          0.603,
          0.509,
          0.47,
          0.47,
          0.209,
          0.209,
          0.209,
          -0.625,
          -0.625,
          -0.625,
          -0.625,
          -0.625,
          -0.625,
          -0.625,
          0.458,
          0.458,
          -0.384,
          -0.384,
          0.041,
          -1.44,
          -1.44,
          0.393,
          0.668,
          -0.056,
          -0.409,
          0.456,
          0.456,
          0.456,
          0.016,
          -0.181,
          -0.846,
          0.083,
          0.084,
          0.45,
          -0.19,
          -0.27,
          -0.27,
          -0.27,
          -0.27,
          -0.27,
          -0.27,
          -0.27,
          -0.27,
          -0.27,
          0.064,
          0.305,
          0.834,
          -0.034,
          0.316,
          0.143,
          0.28,
          0.43,
          0.491,
          0.433,
          0.433,
          0.433,
          0.433,
          -0.098,
          -0.098,
          0.096,
          0.096,
          0.068,
          1.47,
          0.012,
          0.374,
          0.376,
          -0.106,
          -0.106,
          -0.175,
          -0.175,
          -0.76,
          -0.76,
          0.401,
          0.401,
          0.101,
          -0.26,
          -0.002,
          -0.002,
          -0.002,
          -0.002,
          0.24,
          0.24,
          0.4,
          0.4,
          -0.367,
          0.508,
          -0.077,
          -0.077,
          3.261,
          -0.104,
          -0.49,
          0.072,
          0.072,
          0.66,
          0.66,
          0.53,
          -0.471,
          -0.471,
          0.031,
          0.497,
          0.131,
          0.425,
          0.425,
          0.425,
          0.375,
          -0.194,
          0.098,
          0.098,
          0.821,
          0.821,
          0.821,
          0.821,
          0.821,
          -0.31,
          0.478,
          0.478,
          1.602,
          -0.455,
          -0.455,
          -0.455,
          -0.455,
          -0.014,
          -0.014,
          -0.471,
          -0.471,
          -0.471,
          -0.729,
          0.636,
          0.636,
          -0.62,
          -0.845,
          1.05,
          1.05,
          -0.678,
          1.269,
          1.65,
          1.617,
          1.617,
          1.207,
          1.207,
          1.129,
          1.368,
          1.368,
          1.368,
          0,
          1.405,
          1.405,
          0.138,
          -0.758,
          -0.075,
          -0.075,
          -0.331,
          1.204,
          1.204,
          1.142,
          0.06,
          0.531,
          0.397,
          0.692,
          0.692,
          0.692,
          0.733,
          -0.101,
          0.25,
          -0.189,
          0.405,
          -0.567,
          -0.567,
          0.279,
          0.279,
          0.279,
          0.009,
          -0.445,
          -0.445,
          -0.145,
          0.072,
          -0.479,
          -0.479,
          -0.479,
          0.943,
          0.943,
          0.943,
          -0.777,
          -0.777,
          -0.777,
          -1.484,
          -0.287,
          -0.287,
          -0.287,
          -0.287,
          -0.287,
          -0.287,
          -0.299,
          -0.049,
          -0.049,
          -0.75,
          -0.75,
          -0.75,
          -0.75,
          -0.75,
          -0.75,
          -1.824,
          -1.824,
          -1.824,
          -1.824,
          0.436,
          -1.597,
          -1.597,
          -1.597,
          -0.439,
          -0.408,
          -0.292,
          -0.292,
          -0.292,
          -0.292,
          -0.305,
          -0.305,
          -0.305,
          -0.305,
          -0.305,
          -0.305,
          -0.733,
          -0.733,
          0,
          0,
          -0.721,
          -1.074,
          0.139,
          -0.389,
          -0.389,
          -0.389,
          -0.523,
          -0.523,
          -0.523,
          0.158,
          0.158,
          0.158,
          0.158,
          0.158,
          0.158,
          -2.088,
          0.328,
          0.328,
          0.328,
          -0.26,
          -0.26,
          -0.18,
          -0.823,
          -0.823,
          -0.27,
          -0.27,
          0.14,
          -0.422,
          -0.422,
          -0.422,
          -0.422,
          -0.108,
          -0.295,
          -0.295,
          0.42,
          0.42,
          -0.166,
          -0.166,
          0.093,
          -0.716,
          -1.231,
          -1.231,
          -1.231,
          -1.231,
          -1.231,
          -1.231,
          -1.231,
          -1.231,
          -1.231,
          -1.231,
          -1.231,
          -1.231,
          -1.231,
          -1.231,
          -1.231,
          -1.231,
          -1.231,
          -1.231,
          -0.256,
          -0.256,
          -0.256,
          -0.11,
          -0.11,
          -0.296,
          -0.296,
          -0.296,
          -0.488,
          -0.488,
          -0.488,
          -0.488,
          -0.488,
          -0.488,
          -0.488,
          -0.325,
          -0.824,
          -0.824,
          0.4,
          0.4,
          0.4,
          0.4,
          -0.57,
          -0.57,
          -0.57,
          -0.57,
          0.037,
          0.037,
          0.037,
          0.037,
          0.037,
          0.037,
          0.037,
          0.674,
          0.674,
          0.674,
          -2.455,
          -1.27,
          -1.202,
          0.282,
          0.506,
          -0.5,
          0.919,
          0.919,
          0.919,
          0.504,
          0.961,
          0.542,
          0.217,
          0.744,
          0.744,
          0.892,
          0.279,
          0.279,
          0.876,
          0.813,
          0.978,
          0.689,
          0.689,
          0.689,
          1.104,
          1.104,
          0.905,
          0.034,
          0.565,
          0.565,
          0.625,
          0.625,
          0.625,
          0.493,
          0.493,
          0.493,
          0.758,
          0.758,
          0.265,
          0.265,
          0.265,
          1.724,
          1.724,
          0.668,
          0,
          0,
          0,
          0,
          0,
          0,
          0,
          0,
          0,
          0,
          0,
          0,
          0,
          0,
          0,
          0,
          0,
          0,
          0,
          0,
          0,
          0,
          0,
          0,
          0,
          0,
          0,
          0,
          0,
          0,
          0,
          0,
          0,
          0,
          0,
          0,
          0,
          0,
          0,
          0,
          0,
          0,
          0,
          0,
          0,
          0,
          0,
          0,
          0,
          0,
          0,
          0,
          0,
          0,
          0,
          0,
          0,
          0,
          0,
          0,
          0,
          0,
          0,
          0,
          0,
          0,
          0,
          0,
          0,
          0,
          0,
          0,
          0,
          0,
          0,
          0,
          0,
          0,
          0,
          0,
          0,
          0,
          0,
          0,
          0,
          0,
          0,
          0,
          0,
          0,
          0,
          0,
          0,
          0,
          0,
          0,
          0,
          0,
          0,
          0,
          0,
          0,
          0,
          0,
          0,
          0,
          0,
          0,
          0,
          0,
          0,
          0,
          0,
          0,
          0,
          0,
          0,
          0,
          0,
          0,
          0,
          0,
          0,
          0,
          0,
          0,
          0,
          0,
          0,
          0,
          0,
          0,
          0,
          0,
          0,
          0,
          0,
          0,
          0,
          0,
          0,
          0,
          0,
          0,
          0,
          0,
          0,
          0,
          0,
          0,
          0,
          0,
          0,
          0,
          0,
          0,
          0,
          0,
          0,
          0,
          0,
          0,
          0,
          0,
          0,
          0,
          0,
          0,
          0,
          0,
          0,
          0,
          0,
          0,
          0,
          0,
          0,
          0,
          0,
          0,
          0,
          0,
          0,
          0,
          0,
          0,
          0,
          0,
          0,
          0,
          0,
          0,
          0,
          0,
          0,
          0,
          0,
          0,
          0,
          0,
          0,
          0,
          0,
          0,
          0,
          0,
          0,
          0,
          0,
          0.626,
          0.626,
          0.626,
          0.029,
          0.971,
          0.971,
          0.971,
          -0.165,
          -0.165,
          -0.223,
          -0.223,
          0.162,
          0.162,
          0.213,
          0.213,
          -0.308,
          -0.763,
          0.3,
          0.3,
          0.269,
          0.269,
          0.068,
          -1.64,
          1.36,
          1.36,
          0.479,
          0.479,
          0.479,
          0.479,
          0.479,
          0.479,
          0.479,
          0.479,
          0.479,
          -0.324,
          -0.324,
          -0.353,
          0.055,
          0.055,
          0.055,
          0.055,
          0.055,
          0.055,
          0.055,
          0.055,
          0.055,
          0.055,
          0.055,
          0.055,
          0.055,
          0.411,
          0.411,
          0.411,
          0.42,
          0.42,
          -0.584,
          -0.584,
          -0.584,
          -0.584,
          -0.584,
          -0.584,
          -0.584,
          -0.584,
          -0.584,
          -0.584,
          -0.584,
          0.424,
          0.424,
          0.424,
          0.424,
          0.089,
          0.607,
          0.097,
          0.097,
          0.097,
          0.083,
          0.083,
          0.083,
          0.083,
          0.364,
          0.364,
          0.364,
          0.364,
          0.364,
          0.364,
          0.364,
          0.364,
          0.347,
          0.347,
          0.347,
          0.347,
          0.12,
          0.12,
          0.12,
          0.12,
          0.12,
          0.12,
          0.12,
          0.12,
          0.12,
          0.12,
          0.12,
          0.12,
          0.12,
          0.12,
          0.12,
          0.12,
          0.12,
          0.12,
          0.12,
          0.12,
          0.12,
          0.12,
          0.12,
          0.12,
          0.12,
          0.12,
          -0.576,
          -0.576,
          -0.685,
          -0.685,
          -0.685,
          -0.685,
          0.538,
          0.538,
          -0.677,
          0.27,
          0.27,
          0.41,
          0.575,
          0.575,
          0.575,
          0.575,
          0.575,
          0.575,
          0.464,
          0.022,
          0.022,
          0.467,
          -1.252,
          -1.252,
          -1.252,
          -1.252,
          -1.252,
          -1.252,
          -1.252,
          -1.252,
          -1.252,
          -1.252,
          -1.252,
          -1.252,
          -1.252,
          -1.252,
          0.799,
          0.799,
          0.692,
          0.692,
          -0.087,
          -0.087,
          -0.087,
          0.328,
          -0.903,
          -0.903,
          0.004,
          -0.447,
          -0.447,
          0.644,
          0.143,
          0.143,
          -0.004,
          1.206,
          -0.513,
          -0.539,
          0.012,
          0.012,
          0.012,
          -0.055,
          0.452,
          0.354,
          0.354,
          -0.404,
          -0.404,
          0.24,
          0.24,
          0.24,
          0.24,
          0.24,
          0.24,
          -0.031,
          -0.031,
          -0.031,
          -0.031,
          -0.031,
          -0.031,
          0.026,
          -0.225,
          0.429,
          -0.448,
          -0.161,
          -0.161,
          -0.161,
          -0.183,
          -0.183,
          -0.183,
          0.222,
          0.294,
          0.294,
          -0.165,
          -0.165,
          -0.165,
          -0.165,
          -0.165,
          -0.165,
          -0.165,
          -0.165,
          -0.165,
          -0.165,
          -0.165,
          -0.165,
          -0.165,
          0.094,
          0.094,
          0.715,
          0.715,
          0.715,
          -0.413,
          -0.117,
          0.214,
          -0.19,
          -0.19,
          -0.404,
          0.371,
          0.371,
          0.371,
          0.371,
          0.371,
          0.371,
          0.371,
          -0.239,
          -0.239,
          0.362,
          0.362,
          0.362,
          0.362,
          0.398,
          -1.036,
          -1.036,
          0.43,
          0.43,
          0.064,
          0.064,
          0.064,
          0.064,
          -0.524,
          -0.256,
          -0.396,
          -0.396,
          0.467,
          0.467,
          0.467,
          0.467,
          0.422,
          0.422,
          0.422,
          0.422,
          0.391,
          0.391,
          -0.125,
          -1.06,
          -1.06,
          -1.06,
          -1.06,
          -1.06,
          -1.06,
          -1.06,
          -1.229,
          -0.329,
          -0.329,
          -0.329,
          -0.329,
          0.066,
          0.066,
          -0.089,
          -0.089,
          -0.089,
          -0.089,
          0.568,
          0.568,
          0.568,
          0.568,
          0.519,
          0.519,
          0.519,
          0.519,
          -0.745,
          -0.745,
          -0.745,
          -0.745,
          0.106,
          0.106,
          0.061,
          0.061,
          0.061,
          0.061,
          -0.297,
          -0.297,
          -0.297,
          -0.297,
          -0.297,
          -0.297,
          -0.096,
          -0.096,
          -0.237,
          -0.237,
          -0.237,
          -0.237,
          -0.237,
          -0.237,
          -0.237,
          -0.237,
          -0.237,
          -0.237,
          -0.423,
          -0.423,
          -0.423,
          -0.423,
          -0.423,
          -0.122,
          -0.122,
          -0.122,
          -0.122,
          -0.122,
          -0.122,
          -0.122,
          -0.122,
          -0.122,
          -0.122,
          0.301,
          0.301,
          0.301,
          -0.239,
          -0.208,
          -1.292,
          -1.292,
          -1.292,
          -1.292,
          0.151,
          0.151,
          0.151,
          0.151,
          -0.157,
          -0.157,
          -0.157,
          -1.26,
          0.44,
          0.44,
          0.556,
          0.556,
          0.556,
          0.556,
          0.556,
          0.556,
          0.556,
          0.556,
          0.556,
          0.556,
          -0.928,
          0.586,
          0.586,
          -0.313,
          -0.313,
          0.173,
          -0.495,
          -0.495,
          -0.007,
          -0.027,
          0.428,
          0.428,
          0.428,
          0.428,
          -0.386,
          -0.386,
          -0.097,
          -0.097,
          0.51,
          0.51,
          0.51,
          0.51,
          0.51,
          0.51,
          0.51,
          0.51,
          0.365,
          -0.322,
          -0.322,
          -0.322,
          -0.322,
          -0.322,
          -0.322,
          -0.322,
          -0.322,
          0.492,
          0.144,
          0.144,
          -0.135,
          -0.135,
          0.354,
          0.354,
          0.819,
          0.819,
          0.819,
          0.819,
          0.048,
          0.048,
          -0.039,
          -0.049,
          0.283,
          -0.202,
          -0.202,
          -0.579,
          -0.579,
          -0.579,
          -0.584,
          -0.43,
          -0.169,
          -0.169,
          -0.805,
          0.028,
          -0.411,
          0.111,
          0.111,
          0.727,
          0.727,
          0.713,
          -0.018,
          -0.018,
          -0.018,
          -0.15,
          -0.15,
          -0.323,
          -0.323,
          -0.089,
          -0.089,
          -0.39,
          -0.39,
          0.926,
          0.926,
          0.926,
          0.88,
          0.88,
          0.33,
          0.33,
          1.129,
          1.129,
          0.347,
          0.347,
          0.347,
          0.347,
          -0.425,
          -0.425,
          -0.19,
          0.574,
          -1.276,
          -1.276,
          -1.276,
          0.554,
          0.554,
          0.554,
          -0.221,
          0.053,
          0.053,
          0.053,
          -0.255,
          -0.255,
          -0.255,
          -0.255,
          0.926,
          0.926,
          -0.076,
          -0.076,
          -0.076,
          -0.076,
          -0.144,
          -0.289,
          -0.289,
          -0.289,
          -0.289,
          -0.289,
          -0.289,
          -0.289,
          -0.345,
          -1.131,
          -1.131,
          -1.131,
          -1.131,
          0.652,
          0.652,
          0.652,
          0.652,
          0.536,
          0.536,
          -0.142,
          -0.142,
          -0.142,
          -0.142,
          -0.142,
          -0.142,
          -0.142,
          -0.142,
          -0.142,
          -0.142,
          -0.996,
          -0.996,
          -0.996,
          -0.996,
          0.036,
          0.036,
          0.036,
          0.036,
          -0.179,
          -0.179,
          -0.06,
          -0.094,
          -1.301,
          -1.301,
          -0.306,
          -0.763,
          -0.763,
          0.905,
          0.905,
          0.905,
          0.905,
          0.905,
          0.905,
          -0.342,
          -0.342,
          -0.342,
          -0.342,
          -0.004,
          -0.004,
          -0.004,
          -0.348,
          -0.348,
          0.189,
          0.189,
          0.189,
          0.189,
          0.369,
          0.369,
          0.369,
          0.369,
          0.369,
          0.369,
          0.369,
          0.369,
          0.369,
          0.369,
          0.369,
          -0.678,
          -0.678,
          -0.678,
          -0.678,
          -0.678,
          -0.157,
          0.478,
          0.467,
          0.467,
          0.467,
          0.467,
          0.451,
          0.231,
          0.231,
          0.231,
          0.231,
          0.231,
          0.231,
          0.231,
          0.231,
          0.231,
          0.696,
          0.696,
          0.696,
          0.696,
          0.696,
          0.332,
          0.332,
          0.332,
          -0.215,
          -0.215,
          -0.215,
          -0.046,
          -0.046,
          -0.046,
          -0.498,
          -0.498,
          -0.498,
          -0.498,
          -0.498,
          -0.498,
          -0.498,
          0.342,
          0.342,
          0.342,
          0.342,
          0.342,
          0.342,
          0.342,
          0.342,
          0.342,
          0.342,
          0.342,
          0.605,
          0.605,
          0.605,
          0.605,
          -0.77,
          -0.77,
          -0.77,
          -0.77,
          -0.77,
          -0.77,
          -0.889,
          -0.889,
          -0.185,
          -0.185,
          -0.185,
          -0.185,
          -0.225,
          -1.102,
          -1.102,
          -1.102,
          0.212,
          0.212,
          -0.212,
          -0.212,
          0.326,
          -0.038,
          -0.038,
          -0.038,
          -0.038,
          -0.038,
          -0.038,
          -0.038,
          -0.038,
          -0.038,
          -0.038,
          -0.038,
          1.225,
          1.225,
          1.225,
          1.225,
          1.225,
          0.558,
          0.558,
          -0.106,
          -0.106,
          -0.106,
          -0.106,
          -0.106,
          -0.106,
          -0.106,
          -0.613,
          -0.597,
          0.281,
          -0.052,
          -0.025,
          -0.037,
          -0.133,
          -0.585,
          -1.172,
          -1.948,
          -1.948,
          -1.948,
          -1.948,
          -1.948,
          -1.948,
          -1.948,
          -1.948,
          -2.488,
          -2.488,
          -2.488,
          -2.488,
          -2.488,
          -2.146,
          -1.839,
          -1.839,
          -1.387,
          -1.387,
          -1.125,
          -2.638,
          -2.638,
          -2.841,
          -2.841,
          -2.046,
          -2.046,
          -2.046,
          -1.777,
          -1.777,
          -1.777,
          -1.777,
          -1.777,
          -1.777,
          -0.149,
          -1.464,
          1.083,
          1.087,
          0,
          0,
          0,
          0,
          0,
          0,
          0,
          0,
          0,
          0,
          0,
          0,
          0,
          0,
          0,
          0,
          0,
          0,
          0,
          0,
          0,
          0,
          0,
          0,
          0,
          0,
          0,
          0,
          0,
          0,
          0,
          0,
          0,
          0,
          0,
          0,
          0,
          0,
          0,
          0,
          0,
          0,
          0,
          0,
          0,
          0,
          0,
          0,
          0,
          0,
          0,
          0,
          0,
          0,
          0,
          0,
          0,
          0,
          0,
          0,
          0,
          0,
          0,
          0,
          0,
          0,
          0,
          0,
          0,
          0,
          0,
          0,
          0,
          0,
          0,
          0,
          0,
          0,
          0,
          0,
          0,
          0,
          0,
          0,
          0,
          0,
          -1.153,
          -0.757,
          -0.395,
          0.338,
          0.517,
          -0.311,
          -0.086,
          0.117,
          0.645,
          -0.539,
          0.446,
          -0.292,
          -0.144,
          -0.353,
          -0.511,
          -0.592,
          -0.21,
          0.389,
          0,
          0,
          0,
          0,
          1.375,
          0,
          0,
          0,
          0,
          0,
          0,
          0,
          0,
          0,
          0,
          0,
          0,
          0,
          0,
          0,
          0,
          0,
          0,
          0,
          0,
          0,
          0,
          0,
          0,
          0,
          0,
          0,
          0,
          0,
          0,
          0,
          0,
          0,
          0,
          0,
          0,
          0,
          0,
          0,
          0,
          0,
          0,
          0,
          0,
          0,
          0,
          0,
          0,
          0,
          0,
          0,
          0,
          0,
          0,
          0,
          0,
          0,
          0,
          0,
          0,
          0,
          0,
          0,
          0,
          0,
          0,
          0,
          0,
          0,
          0,
          0,
          0,
          0,
          0,
          0,
          0,
          0,
          0,
          0,
          0,
          0,
          0,
          0,
          0,
          0,
          0,
          0,
          0,
          0,
          0,
          0,
          0,
          0,
          0,
          0,
          0,
          0,
          0,
          0,
          0,
          0,
          0,
          0,
          0,
          0,
          0,
          0,
          0,
          0,
          0,
          0,
          0,
          0,
          0,
          0,
          0,
          0,
          0,
          0,
          0,
          0,
          0,
          0,
          0,
          0,
          0,
          0,
          0,
          0,
          0,
          0,
          0,
          0,
          0,
          0,
          0,
          0,
          0,
          0,
          0,
          0,
          0,
          0,
          0,
          0,
          0,
          0,
          0,
          0,
          0,
          0,
          0,
          0,
          0,
          0,
          0,
          0,
          0,
          0,
          0,
          0,
          0,
          0,
          0,
          0,
          0,
          0,
          0,
          0,
          0,
          0,
          0,
          0,
          0,
          0,
          0,
          0,
          0,
          0,
          0,
          0,
          0,
          0,
          0,
          0,
          0,
          0,
          0,
          0,
          0,
          0,
          0,
          0,
          0,
          0,
          0,
          0,
          0,
          0,
          0,
          0,
          0,
          0,
          0,
          0,
          0,
          0,
          0,
          0,
          0,
          0,
          0,
          0,
          0,
          0,
          0,
          0,
          0,
          0,
          0,
          0,
          0,
          0,
          0,
          0,
          0,
          0,
          0,
          0,
          0,
          0,
          0,
          0,
          0,
          0,
          0,
          0,
          0,
          0,
          0,
          0,
          0,
          0,
          0,
          0,
          0,
          0,
          0,
          0,
          0,
          0,
          0,
          0,
          0,
          0,
          0,
          0,
          0,
          0,
          0,
          0,
          0,
          0,
          0,
          0,
          0,
          0,
          0,
          0,
          0,
          0,
          0,
          0.188,
          0.188,
          0.188,
          0.188,
          0.188,
          0.188,
          0.188,
          -0.339,
          -0.339,
          -0.339,
          -0.339,
          -0.339,
          -0.339,
          -0.339,
          -0.339,
          -0.529,
          -0.529,
          -0.529,
          -0.529,
          -0.529,
          -0.529,
          -0.529,
          0.371,
          0.371,
          0.371,
          0.371,
          0.371,
          0.371,
          0.371,
          -2.77,
          -2.77,
          -0.456,
          -0.456,
          -0.489,
          0.66,
          -0.102,
          -1.087,
          0,
          0,
          0,
          0,
          0,
          0.007,
          -0.438,
          -0.438,
          -0.438,
          -0.438,
          -0.438,
          -0.438,
          -0.683,
          -0.683,
          -0.683,
          -0.683,
          -0.683,
          -0.318,
          0.056,
          -0.514,
          -0.821,
          -0.79,
          -0.792,
          -0.792,
          -1.298,
          -1.298,
          -0.628,
          0,
          0,
          0.317,
          0.317,
          0.317,
          0.317,
          0.671,
          0.671,
          0.671,
          0.671,
          0.671,
          0.671,
          0.078,
          0.61,
          0.097,
          -0.274,
          -0.623,
          -0.623,
          -1.144,
          0.671,
          -0.854,
          0.672,
          -1.469,
          -0.017,
          -1.487,
          -1.054,
          -1.054,
          -1.054,
          -0.316,
          -0.316,
          -0.316,
          -0.316,
          -0.285,
          -0.285,
          -0.285,
          -0.59,
          -0.889,
          -0.889,
          -0.889,
          -0.889,
          -0.889,
          -1.58,
          -1.58,
          -1.58,
          -1.58,
          -0.288,
          -0.438,
          -1.212,
          -0.167,
          0.39,
          0.334,
          -0.222,
          0.713,
          0.329,
          0.329,
          -0.46,
          0.048,
          1.068,
          -0.162,
          -2.155,
          -1.797,
          -1.797,
          -0.013,
          0.497,
          0.497,
          1.462,
          0.02,
          0.732,
          0.636,
          -1.539,
          -1.539,
          -1.539,
          0.4,
          0.4,
          -1.519,
          -1.519,
          -1.519,
          -0.404,
          -1.354,
          -1.354,
          -2.148,
          -2.148,
          -0.05,
          0.461,
          -1.056,
          -1.156,
          -1.156,
          -1.156,
          -1.057,
          -1.057,
          -0.879,
          -0.879,
          -0.879,
          -0.879,
          -0.879,
          -0.879,
          0.736,
          -0.671,
          -0.526,
          -0.56,
          0.74,
          -1.057,
          0.08,
          0.06,
          0.06,
          0.415,
          -1,
          0.387,
          0.387,
          0.673,
          -1.886,
          -1.886,
          -1.886,
          0.997,
          0.653,
          -0.442,
          -0.442,
          -0.442,
          -0.442,
          0.406,
          0.982,
          0.25,
          -0.004,
          -0.267,
          -0.401,
          -0.401,
          0.484,
          0.533,
          -1.542,
          0.689,
          -0.013,
          -0.252,
          0.436,
          -1.643,
          1.167,
          0.271,
          -0.08,
          -0.44,
          -0.44,
          0.405,
          0.636,
          0.079,
          0.471,
          -0.004,
          0.906,
          -1.647,
          -1.712,
          -1.712,
          -1.712,
          0.055,
          0.164,
          0.037,
          -1.79,
          -0.093,
          0.739,
          0.19,
          -1.2,
          -0.344,
          -1.438,
          -1.06,
          0.4,
          -2.032,
          0.413,
          -0.4,
          -0.4,
          -0.4,
          0.316,
          0.439,
          -0.287,
          -0.268,
          -0.268,
          -0.565,
          -0.565,
          0.799,
          0.362,
          0.011,
          0.612,
          1.017,
          0.38,
          0.435,
          -0.7,
          0.464,
          -1.851,
          -1.851,
          -1.712,
          -1.31,
          -1.095,
          1.057,
          0.547,
          -0.273,
          -0.273,
          -0.273,
          -0.273,
          -0.273,
          -0.273,
          -0.273,
          -0.273,
          -0.273,
          -0.273,
          -0.273,
          -0.273,
          -0.273,
          -0.273,
          0.033,
          -0.131,
          0.394,
          0.834,
          -1.614,
          -0.086,
          -0.154,
          -0.154,
          -1.31,
          -1.31,
          0.76,
          -0.71,
          -0.853,
          -0.853,
          -0.218,
          0.431,
          -0.137,
          -0.04,
          -0.359,
          -0.359,
          -0.359,
          -0.359,
          0.535,
          -0.7,
          -3.257,
          -3.257,
          -3.257,
          -3.257,
          -3.257,
          -3.257,
          -3.257,
          -3.257,
          -3.257,
          -3.257,
          -3.257,
          -3.257,
          -3.257,
          -3.257,
          -3.257,
          -3.257,
          -3.257,
          -3.257,
          -3.257,
          -3.257,
          -0.339,
          -0.339,
          -0.367,
          -0.367,
          -0.301,
          -0.301,
          -0.301,
          -0.301,
          -0.301,
          0.038,
          0.038,
          0.038,
          0.038,
          0.038,
          0.038,
          0.038,
          0.038,
          0.038,
          0.038,
          0.038,
          0.038,
          0.038,
          0.038,
          0.038,
          0.038,
          0.038,
          -0.204,
          -0.204,
          -0.204,
          -0.204,
          -0.204,
          -0.204,
          -0.204,
          -0.204,
          0.726,
          0.726,
          0.726,
          0.726,
          0.726,
          0.726,
          0.726,
          0.726,
          0.726,
          0.726,
          -0.344,
          -0.344,
          -0.344,
          -0.344,
          0,
          -1.95,
          -1.09,
          -1.02,
          0,
          0,
          -0.02,
          -0.02,
          -0.02,
          -0.02,
          0.08,
          0.08,
          -3.14,
          -3.14,
          -3.14,
          -3.14,
          -3.14,
          -0.64,
          -0.64,
          -0.64,
          -0.64,
          -0.64,
          -0.64,
          0.766,
          0.766,
          0.766,
          0.766,
          -0.19,
          -0.19,
          -0.024,
          0.422,
          0.422,
          0.422,
          -0.879,
          -0.879,
          -0.879,
          -0.879,
          0,
          0,
          0,
          0,
          0,
          0,
          -0.229,
          0.516,
          0.659,
          0.659,
          0.075,
          0.675,
          0.162,
          0.149,
          0.436,
          0.436,
          0.436,
          0.436,
          0.436,
          -0.032,
          0.53,
          -0.597,
          -0.597,
          -0.326,
          0.823,
          0.435,
          -0.345,
          -0.294,
          -0.129,
          -0.684,
          -0.139,
          -0.139,
          -0.139,
          -0.139,
          -0.139,
          0.558,
          0.145,
          0.145,
          -0.435,
          0.079,
          0.483,
          0.678,
          0.01,
          0.01,
          0.01,
          0.01,
          0.01,
          -0.318,
          0.647,
          0.054,
          -0.076,
          -0.067,
          0.428,
          0.283,
          0.897,
          0.155,
          0.789,
          -0.114,
          0.672,
          0.934,
          0.083,
          0.083,
          0.789,
          0.617,
          -0.412,
          1.215,
          1.215,
          0.428,
          0.428,
          0.428,
          0.428,
          0.428,
          0.428,
          0.428,
          0.428,
          0.428,
          0.428,
          0.428,
          0.428,
          0.383,
          0.049,
          -0.209,
          0.501,
          0.412,
          0.5,
          0.967,
          1.262,
          -0.043,
          -0.043,
          -0.043,
          -0.043,
          -0.043,
          -0.043,
          -0.043,
          -0.043,
          0.691,
          -0.313,
          -0.313,
          -0.313,
          -0.313,
          -0.313,
          -0.313,
          -0.313,
          -0.313,
          -0.313,
          -0.313,
          0.304,
          0.304,
          0.304,
          0.304,
          -0.377,
          -0.377,
          -0.143,
          -0.143,
          -0.143,
          -0.143,
          -0.143,
          0.15,
          0.15,
          0.15,
          0.15,
          0.15,
          -0.525,
          -0.525,
          -0.525,
          -0.525,
          0.819,
          0.819,
          0.819,
          0.819,
          0.039,
          0.039,
          0.039,
          0.039,
          0.144,
          0.144,
          0.144,
          0.001,
          0.001,
          0.001,
          0.001,
          0.001,
          -0.021,
          -0.021,
          0.453,
          0.453,
          0.453,
          0.453,
          0.453,
          0.453,
          -0.128,
          -0.128,
          -0.128,
          -0.128,
          -0.128,
          -0.179,
          -0.179,
          -0.179,
          -0.179,
          -0.179,
          -0.179,
          -0.179,
          -0.179,
          -0.179,
          -0.179,
          -0.195,
          -0.195,
          -0.195,
          -0.195,
          -0.195,
          -0.361,
          -0.361,
          -0.361,
          -0.825,
          -0.825,
          -0.825,
          -0.825,
          -0.198,
          -0.198,
          -0.198,
          -0.198,
          -0.336,
          -0.336,
          -0.336,
          -0.336,
          -0.336,
          -0.111,
          -0.111,
          -0.111,
          0.032,
          0.032,
          0.032,
          0.032,
          0.032,
          0.032,
          0.032,
          0.024,
          0.032,
          0.032,
          0.032,
          0.032,
          0.032,
          0.032,
          0.032,
          0.032,
          0.032,
          0.032,
          0.032,
          0.58,
          0.58,
          0.58,
          0.58,
          0.58,
          -0.053,
          -0.053,
          -0.053,
          -0.053,
          0.067,
          0.067,
          0.067,
          0.067,
          0.067,
          0.067,
          0.067,
          0.067,
          -0.198,
          -0.198,
          -0.198,
          -0.198,
          -0.354,
          -0.354,
          -0.354,
          -0.463,
          0.163,
          0.163,
          0.163,
          0.163,
          0.103,
          0.103,
          0.103,
          -0.005,
          -0.005,
          -0.005,
          0.16,
          0.16,
          0.16,
          -0.794,
          -0.794,
          -0.297,
          -0.297,
          -0.297,
          -0.297,
          -0.297,
          0.347,
          0.347,
          0.347,
          0.347,
          -0.022,
          -0.022,
          0.055,
          0.055,
          0.637,
          0.637,
          0.637,
          0.637,
          -0.294,
          -0.294,
          -0.294,
          -0.294,
          0.505,
          0.505,
          0.505,
          -0.468,
          -0.468,
          -0.468,
          -0.468,
          0.537,
          0.537,
          0.537,
          0.537,
          0.537,
          0.537,
          0.537,
          0.537,
          0.162,
          0.162,
          0.768,
          0.768,
          0.768,
          0.724,
          0.724,
          0.724,
          0.724,
          0.795,
          0.795,
          0.795,
          -0.129,
          -0.129,
          -0.129,
          -0.129,
          -0.129,
          -0.129,
          -0.058,
          -0.058,
          -0.058,
          -0.058,
          -0.058,
          -1.04,
          -1.04,
          -1.04,
          -1.04,
          -1.04,
          0.246,
          0.794,
          0.794,
          0.794,
          -0.05,
          -0.05,
          -0.325,
          -0.325,
          -0.325,
          -0.325,
          -0.325,
          -0.071,
          0.537,
          0.724,
          0.724,
          0.724,
          -0.343,
          -0.343,
          -0.383,
          0.178,
          0.178,
          0.178,
          0.032,
          0.032,
          0.071,
          0.071,
          0.071,
          -0.358,
          -0.358,
          -0.358,
          0.543,
          0.543,
          0.543,
          0,
          0,
          -4.12,
          0,
          -6.09,
          0.088,
          -0.288,
          -0.288,
          -0.938,
          -0.834,
          -0.676,
          -0.676,
          -0.086,
          -0.086,
          -0.086,
          -0.086,
          -0.086,
          -0.086,
          -0.086,
          -0.088,
          -0.088,
          -0.088,
          -0.088,
          -0.088,
          -0.088,
          -0.088,
          -0.088,
          0.706,
          0.706,
          0.706,
          0.706,
          0.706,
          0.706,
          0.536,
          0.536,
          0.536,
          0.536,
          0.536,
          0.536,
          -0.06,
          -0.06,
          -0.06,
          -0.06,
          -0.06,
          -0.06,
          -0.185,
          -0.185,
          0,
          0.953,
          0.953,
          0.953,
          0.953,
          0.953,
          0.953,
          0.958,
          0.958,
          -0.419,
          -0.419,
          -0.419,
          -0.419,
          -0.622,
          1.073,
          1.83,
          1.83,
          1.084,
          1.084,
          1.084,
          1.084,
          3.8,
          1.23,
          1.23,
          2.039,
          2.039,
          0.16,
          0.16,
          0.16,
          0.505,
          0.525,
          0.525
         ],
         "xaxis": "x",
         "y": [
          12.6,
          18.647,
          18.647,
          18.647,
          18.647,
          13,
          12.3,
          11.209,
          16.141,
          12.6,
          12.9,
          12.9,
          13.4,
          12.3,
          13.4,
          14.3,
          13.9,
          13.9,
          13.9,
          8.51,
          8.51,
          13,
          13,
          1.875,
          1.875,
          1.875,
          1.875,
          1.875,
          1.875,
          1.875,
          1.875,
          1.875,
          7.59,
          7.59,
          12.6,
          12.5,
          12.3,
          4.07,
          4.07,
          4.07,
          4.07,
          3.24,
          3.24,
          3.24,
          2.578,
          2.578,
          12.4,
          12.4,
          20.849,
          12.3,
          12.4,
          12.442,
          24.66,
          10.87,
          10.87,
          10.87,
          16.14,
          16.14,
          16.14,
          16.14,
          9.92,
          9.92,
          9.92,
          12.22,
          12.22,
          12.22,
          13.11,
          13.11,
          14.68,
          14.68,
          14.68,
          14.68,
          14.46,
          14.46,
          14.46,
          16.432,
          16.432,
          16.432,
          16.432,
          16.432,
          16.432,
          14.572,
          14.572,
          4.88,
          11.77,
          11.77,
          11.77,
          3.7,
          5,
          14.12,
          14.12,
          11.287,
          11.287,
          10.705,
          10.705,
          10.088,
          10.088,
          11.32,
          11.32,
          11.32,
          11.32,
          11.31,
          15.805,
          15.558,
          15.558,
          15.558,
          15.558,
          13.068,
          13.068,
          13.068,
          1.681,
          1.681,
          1.681,
          1.681,
          1.681,
          1.681,
          1.681,
          1.681,
          2.83,
          2.83,
          2.83,
          4.31,
          6.39,
          6.39,
          6.39,
          6.39,
          11.949,
          11.949,
          11.949,
          11.949,
          6.389,
          11.9,
          30.264,
          30.264,
          12.7,
          5.7,
          5.76,
          1.725,
          1.725,
          1.725,
          1.725,
          2.836,
          2.836,
          2.836,
          2.332,
          11.781,
          12.442,
          1.95,
          3.67,
          3.94,
          12.2,
          2.025,
          1.13,
          1.13,
          1.13,
          1.13,
          2.742,
          2.742,
          2.742,
          2.742,
          2.742,
          2.742,
          1.193,
          1.193,
          1.193,
          2.61,
          2.61,
          13.8,
          12.3,
          2.13,
          13.3,
          4.57,
          4.57,
          4.57,
          4.57,
          4.57,
          4.57,
          1.264,
          1.217,
          2.83,
          0.718,
          1.09,
          1.09,
          4.17,
          4.17,
          4.17,
          4.17,
          4.17,
          4.17,
          4.17,
          4.17,
          4.17,
          13,
          13,
          1.305,
          12.8,
          12.8,
          12.3,
          12,
          13.9,
          13.3,
          13.3,
          13.3,
          13.3,
          14,
          14,
          14,
          14,
          2.51,
          2.51,
          2.51,
          3.92,
          3.92,
          13.3,
          12.5,
          1.577,
          1.577,
          1.577,
          1.577,
          1.577,
          1.241,
          1.241,
          1.241,
          1.241,
          2.022,
          2.022,
          2.022,
          2.022,
          16.477,
          33.6,
          33.6,
          20.176,
          20.176,
          20.176,
          20.176,
          14.179,
          13.776,
          14.818,
          4.36,
          4.36,
          4.36,
          4.36,
          13.3,
          10.749,
          10.749,
          10.749,
          10.749,
          10.749,
          10.749,
          15.917,
          15.917,
          15.917,
          15.917,
          15.917,
          15.917,
          15.917,
          11.882,
          11.882,
          11.882,
          11.882,
          11.769,
          11.769,
          11.769,
          11.769,
          11.153,
          11.153,
          11.153,
          11.153,
          12.689,
          12.689,
          12.663,
          12.663,
          12.663,
          12.663,
          12.663,
          12.663,
          12.663,
          12.663,
          12.663,
          9.718,
          9.718,
          9.718,
          9.718,
          9.718,
          12.442,
          12.442,
          12.442,
          12.89,
          12.89,
          12.89,
          12.89,
          12.89,
          12.89,
          12.722,
          12.722,
          12.722,
          7.062,
          7.062,
          7.062,
          11.43,
          11.43,
          11.43,
          13.585,
          13.585,
          10.536,
          10.536,
          10.536,
          10.536,
          10.536,
          10.536,
          10.536,
          10.536,
          12.218,
          12.218,
          12.218,
          12.218,
          22.194,
          22.194,
          22.194,
          22.194,
          22.194,
          22.194,
          13.417,
          13.417,
          13.417,
          13.417,
          14.314,
          14.314,
          14.314,
          14.314,
          14.314,
          14.314,
          13.204,
          13.204,
          13.204,
          9.247,
          9.247,
          14.28,
          14.28,
          14.28,
          14.28,
          14.28,
          14.28,
          14.28,
          17.038,
          17.038,
          17.038,
          13.63,
          13.63,
          13.922,
          17.822,
          17.822,
          17.822,
          14.437,
          14.437,
          14.493,
          14.493,
          11.31,
          11.31,
          10.581,
          10.581,
          13.249,
          13.249,
          19.504,
          19.504,
          14.93,
          12.588,
          16.589,
          16.589,
          16.589,
          16.589,
          16.589,
          16.589,
          18.282,
          10.077,
          12.027,
          12.543,
          12.016,
          18.786,
          16.926,
          16.926,
          16.926,
          16.926,
          16.926,
          16.926,
          16.926,
          16.926,
          20.961,
          15.693,
          15.693,
          15.693,
          15.693,
          15.693,
          14.594,
          14.594,
          7.76,
          7.76,
          13.585,
          13.585,
          11.646,
          11.646,
          11.646,
          12.386,
          14.572,
          14.897,
          14.897,
          13.092,
          13.092,
          10.682,
          20.849,
          15.637,
          15.637,
          14.123,
          16.814,
          13.384,
          14.022,
          13.171,
          14,
          13.787,
          16.029,
          6.793,
          17.598,
          11.433,
          11.433,
          17.71,
          14.908,
          13.227,
          11.96,
          14.415,
          10.122,
          12.52,
          8.967,
          8.575,
          10.223,
          10.223,
          12.666,
          15.491,
          15.02,
          11.377,
          11.377,
          18.921,
          12.767,
          12.274,
          12.621,
          11.187,
          13.395,
          11.825,
          13.529,
          18.82,
          15.816,
          13.809,
          10.593,
          6.311,
          6.311,
          15.513,
          11.478,
          8.097,
          11.568,
          9.909,
          12.094,
          13.058,
          9.785,
          9.785,
          13.2,
          12.5,
          12.4,
          2.44,
          4.35,
          12.5,
          12.5,
          12.4,
          12.4,
          12.8,
          12.8,
          13.3,
          12.1,
          2.05,
          11.9,
          12.6,
          12.6,
          12.6,
          12.2,
          12.2,
          12.1,
          11.209,
          12.6,
          12.9,
          12.6,
          12.5,
          12.6,
          13.4,
          12.8,
          12.8,
          12.5,
          12.4,
          11.9,
          11.9,
          12.7,
          12.7,
          13,
          13.3,
          12.8,
          12.3,
          12.3,
          1.664,
          1.664,
          2.562,
          1.31,
          12.1,
          12.1,
          11.5,
          11.5,
          12.2,
          12.2,
          12.7,
          12.4,
          12.9,
          12.9,
          12.9,
          13.4,
          8.295,
          8.295,
          8.295,
          8.295,
          8.295,
          8.295,
          12.3,
          13.3,
          3.41,
          5.83,
          1.64,
          1.64,
          2.39,
          2.39,
          11.9,
          13.7,
          12.8,
          12.8,
          12.5,
          0,
          0,
          0,
          12.8,
          12.1,
          13,
          13.2,
          12.2,
          12.7,
          12.5,
          13.1,
          12.6,
          12.5,
          12.33,
          12.33,
          12.33,
          12.33,
          12.33,
          12.7,
          12.7,
          13.1,
          12.5,
          12.5,
          12.5,
          3.55,
          3.55,
          2.6,
          2.6,
          11.9,
          12.666,
          12.666,
          12.666,
          12.666,
          12.666,
          12.666,
          12.666,
          12.666,
          12.666,
          12.9,
          12.9,
          13.4,
          13,
          12.5,
          12.5,
          3.41,
          3.41,
          3.195,
          3.195,
          2.995,
          2.995,
          12.4,
          12.3,
          12.2,
          0,
          0,
          17.318,
          14.46,
          14.46,
          1.72,
          12.6,
          12.9,
          12.9,
          12.2,
          12.2,
          14.011,
          14.011,
          2.25,
          2.501,
          15.581,
          15.581,
          15.581,
          15.581,
          15.581,
          15.581,
          15.581,
          15.581,
          15.581,
          15.581,
          15.581,
          12.8,
          1.745,
          12.1,
          12.1,
          13,
          0.892,
          12.5,
          12.5,
          1.602,
          1.511,
          1.61,
          1.31,
          4.71,
          12.2,
          13.7,
          9.17,
          12.1,
          12.1,
          12.1,
          13.4,
          12.7,
          12.7,
          1.362,
          2.328,
          2.607,
          2,
          2,
          1.87,
          1.87,
          0.75,
          0.818,
          1.137,
          12.4,
          12.4,
          12.5,
          12.5,
          12.2,
          1.24,
          1.533,
          11.9,
          16.141,
          13.5,
          12.7,
          2.199,
          4.23,
          3.25,
          12.1,
          12.9,
          12.8,
          12.6,
          12.7,
          13.6,
          1.93,
          1.67,
          1.67,
          1.67,
          1.67,
          1.67,
          3,
          3,
          3,
          3,
          13.4,
          9.718,
          12.5,
          12.6,
          11.9,
          12.8,
          2.45,
          12.9,
          12.8,
          12.1,
          12.1,
          12.1,
          12,
          2.99,
          2.9,
          12.4,
          13.5,
          12.6,
          13.1,
          13,
          13.2,
          12.1,
          13,
          13,
          12.8,
          12.8,
          2.79,
          2.39,
          12.5,
          12.5,
          12.6,
          4.12,
          11.994,
          11.994,
          11.994,
          11.994,
          1.613,
          1.613,
          12.8,
          12.8,
          12.8,
          12,
          12.7,
          12.7,
          12,
          13.6,
          12.5,
          14.3,
          2.16,
          12.5,
          12.5,
          12.3,
          12.8,
          12.8,
          12.6,
          13.8,
          13.4,
          7.398,
          7.398,
          7.398,
          12.9,
          12.3,
          1.35,
          3.228,
          12.9,
          12.9,
          12.9,
          12.9,
          12.9,
          3.89,
          12.8,
          12.8,
          13.3,
          2.12,
          2.12,
          2.12,
          2.12,
          12.6,
          12.6,
          2.53,
          2.53,
          2.53,
          11.9,
          12,
          12,
          12.6,
          12.6,
          12.7,
          12.7,
          22.754,
          16.814,
          12.8,
          12.3,
          12.3,
          12.7,
          12.7,
          22.418,
          12,
          12,
          12,
          12.1,
          12.6,
          12.6,
          3,
          12.1,
          3.9,
          3.343,
          2.74,
          12.1,
          12.1,
          12.2,
          11.777,
          12.442,
          13.1,
          13,
          13,
          13,
          13.115,
          3.84,
          3.88,
          3.59,
          5.33,
          2.592,
          2.592,
          1.82,
          1.82,
          1.82,
          12.14,
          10.447,
          10.447,
          12.06,
          2.44,
          1.69,
          1.69,
          1.69,
          14.572,
          14.572,
          14.572,
          1.014,
          3,
          1.565,
          0.64,
          1.51,
          2.299,
          2.39,
          3.39,
          2.904,
          3.013,
          9.11,
          13.563,
          13.563,
          1.51,
          1.51,
          1.51,
          1.51,
          7,
          7,
          2.05,
          2.05,
          2.19,
          2.19,
          2.3,
          2.37,
          2.37,
          2.37,
          2.52,
          2.69,
          7,
          7,
          7,
          7,
          4.1,
          4.1,
          4.1,
          4.1,
          1.11,
          1.11,
          1.73,
          2.85,
          13.7,
          13.7,
          1.75,
          2.3,
          2.35,
          1,
          1,
          2.03,
          1.343,
          1.281,
          2.358,
          5.4,
          5.4,
          5.4,
          7.5,
          7.5,
          7.5,
          3.44,
          9.528,
          9.528,
          9.528,
          2.41,
          2.41,
          1.71,
          2.93,
          2.73,
          4.48,
          4.48,
          7.5,
          2.59,
          3.53,
          2.48,
          1.95,
          9.494,
          13.339,
          13.339,
          3.06,
          11.276,
          1.589,
          1.589,
          2.63,
          10.054,
          2.078,
          2.078,
          2.078,
          2.078,
          2.078,
          2.078,
          1.582,
          1.582,
          1.582,
          1.582,
          1.582,
          1.582,
          1.458,
          1.458,
          1.458,
          1.458,
          1.458,
          1.458,
          11.646,
          11.646,
          11.646,
          11.882,
          11.882,
          5.299,
          5.299,
          5.299,
          3.134,
          3.134,
          3.134,
          3.484,
          3.484,
          3.484,
          1.212,
          8.676,
          5.04,
          5.04,
          13.75,
          13.75,
          13.75,
          13.75,
          1.43,
          1.43,
          3.2,
          3.2,
          1.655,
          1.655,
          1.655,
          1.655,
          2.49,
          2.49,
          2.49,
          6.277,
          6.277,
          6.277,
          1.015,
          2.66,
          3.31,
          7.656,
          2.49,
          2.3,
          10.61,
          10.61,
          10.61,
          5.2,
          11.73,
          12.442,
          15.681,
          15.132,
          15.132,
          19.952,
          19.537,
          19.537,
          17.094,
          17.598,
          21.409,
          15.132,
          15.132,
          15.132,
          19.515,
          19.515,
          17.777,
          14.83,
          14.258,
          14.258,
          17.486,
          17.486,
          17.486,
          14.572,
          14.572,
          14.572,
          17.934,
          17.934,
          18.159,
          18.159,
          18.159,
          21.196,
          21.196,
          12.6,
          12.2,
          12.2,
          12.2,
          12.2,
          1.33,
          1.33,
          1.33,
          1.33,
          1.33,
          1.33,
          13.1,
          13.1,
          12.7,
          12.9,
          13.3,
          13.3,
          13.3,
          13.3,
          13.3,
          13.3,
          13.3,
          12.2,
          13,
          13.2,
          13.2,
          14,
          6.45,
          2.23,
          2.23,
          2.23,
          13,
          2.13,
          2.13,
          2.13,
          13.4,
          13.4,
          14,
          14,
          1.7,
          13.4,
          2.67,
          2.67,
          13.6,
          10.1,
          10.1,
          13.4,
          13.4,
          13.4,
          9.01,
          2.34,
          2.34,
          2.34,
          12.9,
          12.9,
          10.5,
          10.5,
          13.3,
          13.3,
          2.22,
          2.22,
          12.9,
          12.9,
          12.9,
          12.9,
          12.9,
          12.9,
          12.9,
          12.9,
          12.9,
          12.9,
          12.9,
          13.7,
          13.7,
          13.7,
          2.99,
          2.99,
          2.99,
          2.99,
          2.99,
          2.99,
          13.4,
          13.4,
          13.4,
          12.6,
          12.6,
          12.9,
          12.9,
          12.9,
          12.9,
          3.19,
          4.06,
          9.05,
          5.98,
          5.98,
          5.98,
          5.98,
          5.98,
          5.98,
          5.98,
          13.7,
          13.7,
          13.7,
          13.7,
          1.85,
          1.85,
          1.85,
          13,
          13.2,
          13.2,
          2,
          2,
          2,
          2,
          2,
          14.1,
          13.7,
          11.4,
          0.997,
          0.997,
          0.997,
          0.997,
          12.2,
          12.2,
          12.2,
          12.2,
          12.8,
          12.8,
          12.8,
          12.8,
          3.35,
          3.35,
          3.35,
          3.35,
          3.35,
          3.35,
          3.35,
          3.35,
          3.35,
          3.35,
          3.35,
          6.56,
          6.56,
          6.56,
          6.56,
          6.56,
          6.56,
          9.6,
          9.6,
          9.6,
          9.6,
          9.6,
          9.6,
          6.2,
          6.2,
          12.7,
          6.91,
          6.91,
          6.91,
          14.3,
          14.3,
          14.3,
          13.7,
          1.49,
          1.49,
          9.86,
          9.86,
          10.6,
          10.6,
          13.6,
          13.6,
          13.6,
          13.6,
          13.6,
          13.6,
          13.6,
          4.59,
          4.59,
          4.59,
          4.59,
          4.59,
          13.6,
          9.12,
          9.12,
          9.12,
          1.97,
          1.97,
          1.97,
          1.97,
          1.97,
          6.9,
          6.9,
          7.71,
          7.71,
          7.71,
          7.71,
          7.71,
          7.71,
          7.71,
          14,
          14,
          5.02,
          5.02,
          5.02,
          5.02,
          13.9,
          13.9,
          13.9,
          4.05,
          4.05,
          13.787,
          13.787,
          13.787,
          10.54,
          16.948,
          16.948,
          16.948,
          3.438,
          3.438,
          14,
          14,
          1.9,
          1.9,
          8.86,
          5.44,
          1.13,
          2.58,
          1.19,
          1.21,
          8.1,
          11.3,
          11.097,
          0.51,
          0.759,
          0.867,
          1.71,
          4.32,
          4.32,
          4.32,
          11.27,
          11.27,
          11.27,
          6.56,
          6.56,
          14.1,
          14.1,
          11.545,
          1.47,
          1.47,
          1.47,
          1.47,
          1.47,
          1.47,
          1.47,
          1.47,
          2.355,
          2.355,
          2.355,
          2.355,
          2.355,
          1.32,
          2.2,
          1.61,
          5.77,
          1.25,
          0.46,
          0.46,
          0.567,
          0.567,
          1.154,
          1.154,
          1.154,
          2.17,
          2.17,
          0.861,
          0.861,
          3.486,
          3.486,
          5.45,
          5.45,
          3.1,
          4.81,
          1.31,
          1.31,
          1.31,
          0.82,
          2.5,
          0.95,
          2.56,
          1.536,
          1.536,
          1.597,
          1.597,
          0.86,
          0.86,
          2.903,
          2.903,
          2.49,
          2.49,
          2.65,
          2.65,
          1.8,
          1.8,
          1.8,
          1.8,
          2.87,
          2.87,
          2.87,
          2.87,
          3.12,
          3.12,
          3.12,
          3.12,
          3.12,
          4.19,
          4.19,
          4.19,
          4.19,
          4.19,
          2.49,
          2.49,
          2.49,
          2.49,
          2.49,
          3.33,
          3.33,
          3.33,
          1.82,
          2.18,
          1.26,
          1.6,
          1.6,
          2.53,
          8.059,
          12.341,
          2.15,
          2.6,
          1.75,
          2.94,
          1.43,
          1.43,
          1.43,
          1.34,
          1.34,
          1.34,
          2.52,
          2.41,
          0.84,
          2.05,
          0.64,
          0.64,
          0.64,
          0.64,
          1.51,
          1.51,
          1.51,
          1.51,
          1.51,
          1.51,
          1.51,
          1.51,
          1.51,
          0.797,
          12.733,
          12.733,
          2.65,
          4.32,
          10.76,
          10.76,
          10.76,
          12.42,
          8.449,
          8.449,
          0,
          2.12,
          2.05,
          11.874,
          2.213,
          2.213,
          14,
          11.994,
          3.87,
          10.16,
          14.68,
          14.68,
          14.68,
          3.2,
          11.949,
          2.03,
          2.05,
          2.6,
          2.51,
          3.5,
          3.5,
          3.5,
          8.73,
          8.73,
          8.73,
          2,
          5.49,
          5.49,
          6.98,
          6.98,
          6.98,
          2.27,
          1.97,
          0.853,
          2.38,
          2.209,
          2.209,
          2.209,
          3.68,
          3.68,
          5.06,
          1.23,
          0.802,
          0.868,
          1.773,
          1.773,
          1.773,
          2.894,
          2.894,
          2.894,
          2.606,
          2.606,
          2.606,
          0.821,
          0.821,
          0.952,
          0.952,
          2.47,
          1.44,
          1.639,
          1.639,
          1.639,
          1.29,
          2.39,
          2.81,
          2.1,
          2.1,
          2.93,
          2.99,
          2.99,
          3.44,
          3.44,
          5.24,
          5.24,
          4.6,
          1.55,
          2.27,
          1.9,
          1.9,
          3.2,
          3.2,
          2.2,
          1.73,
          1.93,
          5.6,
          2,
          2.4,
          2.4,
          2.8,
          2.8,
          2.2,
          2.31,
          2.18,
          3.03,
          2.748,
          2.748,
          2.748,
          2.748,
          5.217,
          5.217,
          5.217,
          5.217,
          10,
          10,
          2.15,
          2.78,
          2.78,
          2.78,
          2.72,
          2.72,
          2.72,
          2.72,
          1.98,
          4,
          4,
          4.9,
          4.9,
          1.43,
          1.79,
          2.9,
          2.9,
          2.8,
          2.8,
          2.92,
          2.92,
          3.36,
          3.36,
          4.3,
          4.3,
          3.1,
          3.1,
          3.6,
          3.6,
          3.4,
          3.4,
          2.46,
          3.1,
          2.15,
          11.59,
          11.59,
          2.68,
          2.55,
          2.55,
          2.55,
          2.34,
          2.34,
          2.34,
          2.87,
          6.54,
          3.9,
          3.9,
          3.9,
          3.9,
          12.3,
          12.3,
          12.3,
          12.3,
          8.8,
          8.8,
          3.6,
          3.6,
          3.3,
          3.3,
          2.71,
          2.43,
          2.43,
          2.43,
          2.43,
          2.43,
          2.2,
          2.2,
          2.2,
          2.2,
          2.2,
          5.3,
          5.3,
          3.9,
          2.47,
          2.09,
          2.2,
          2.2,
          2,
          2,
          1.381,
          1.381,
          1.57,
          1.57,
          1.52,
          1.4,
          1.21,
          1.03,
          2.3,
          5.4,
          3.2,
          5.35,
          5.35,
          5.35,
          4.02,
          4.02,
          4.02,
          4.46,
          4.46,
          4.46,
          1.32,
          2.44,
          1.56,
          1.15,
          1.17,
          8.564,
          0.74,
          1.2,
          1.9,
          8.16,
          3.1,
          3.1,
          2.8,
          2.8,
          3.06,
          3.19,
          4.3,
          4.01,
          1.498,
          1.498,
          1.498,
          1.498,
          3.679,
          3.679,
          3.679,
          3.679,
          1.69,
          0.31,
          0.31,
          0.31,
          0.755,
          0.755,
          2.03,
          2.03,
          2.03,
          4.3,
          2.73,
          3.04,
          3.5,
          5.3,
          4.002,
          4.002,
          13.11,
          13.11,
          13.11,
          13.11,
          1.43,
          0.85,
          1.07,
          12.3,
          0.82,
          1.199,
          1.199,
          2.401,
          4.421,
          3.319,
          3.28,
          4.347,
          1.71,
          3.01,
          1.21,
          2.48,
          2.31,
          13.45,
          13.45,
          10.8,
          10.8,
          12.6,
          13.361,
          13.361,
          13.361,
          9.98,
          9.98,
          10.962,
          10.962,
          12.22,
          12.22,
          12.11,
          12.11,
          12.834,
          12.834,
          12.834,
          16.25,
          16.25,
          12.67,
          12.67,
          22.31,
          22.31,
          12.22,
          12.22,
          12.22,
          12.22,
          0.53,
          0.546,
          18.49,
          12,
          10.76,
          10.76,
          10.76,
          6.14,
          2.62,
          0.837,
          6.204,
          2.37,
          2.37,
          2.37,
          9.057,
          9.057,
          13.5,
          13.5,
          3,
          4,
          3.05,
          3.05,
          4.65,
          4.65,
          7.04,
          1.88,
          1.88,
          1.88,
          2.71,
          2.71,
          2.71,
          2.04,
          13.4,
          2.72,
          2.72,
          2.55,
          2.55,
          15.984,
          15.984,
          15.984,
          15.984,
          1.71,
          2.17,
          7.1,
          7.1,
          7.1,
          9,
          9,
          9,
          9,
          9.7,
          9.7,
          9.7,
          2.1,
          2.1,
          1.84,
          1.84,
          2.89,
          2.89,
          3.17,
          3.17,
          2.215,
          2.215,
          8.373,
          13.3,
          2.1,
          1.23,
          2.57,
          2.43,
          2.21,
          6.51,
          6.51,
          6.51,
          9.8,
          9.8,
          9.8,
          2.19,
          2.19,
          1.55,
          1.55,
          2.78,
          2.78,
          2.86,
          3.708,
          1.009,
          14.617,
          14.617,
          14.617,
          14.617,
          1.71,
          1.71,
          1.71,
          1.71,
          1.9,
          1.9,
          1.9,
          1.9,
          1.99,
          1.99,
          1.99,
          1.31,
          0.54,
          1.95,
          1.61,
          1.41,
          6.11,
          10.16,
          1.42,
          2.58,
          2.58,
          1.52,
          13.9,
          2.357,
          2.357,
          2.357,
          2.357,
          2.357,
          0.979,
          0.979,
          0.979,
          0.979,
          18.181,
          18.181,
          18.181,
          18.181,
          18.181,
          10.76,
          10.76,
          10.76,
          11.77,
          11.77,
          11.77,
          10.761,
          10.761,
          10.761,
          1.201,
          1.201,
          1.201,
          1.201,
          1.201,
          1.201,
          1.201,
          3.47,
          3.47,
          3.47,
          3.72,
          3.72,
          3.72,
          7.16,
          7.16,
          3.49,
          3.49,
          3.49,
          15.872,
          15.872,
          15.872,
          15.872,
          2.67,
          2.74,
          1.53,
          1.53,
          1.6,
          1.6,
          2.42,
          2.37,
          4.07,
          4.07,
          5.34,
          5.34,
          4.84,
          2.83,
          2.36,
          1.94,
          2.23,
          2.36,
          2.18,
          1.27,
          6.14,
          8.29,
          8.29,
          8.29,
          8.29,
          8.29,
          8.29,
          8.08,
          8.08,
          8.08,
          8.08,
          8.08,
          15.323,
          15.323,
          15.323,
          15.323,
          15.323,
          3.51,
          2.6,
          1.478,
          1.478,
          1.478,
          1.478,
          1.478,
          0,
          0,
          3.51,
          12.5,
          3.42,
          2.67,
          1.48,
          0,
          1.99,
          1.48,
          1.39,
          0.85,
          0.85,
          1.34,
          1.34,
          1.34,
          1.58,
          1.58,
          1.58,
          1.635,
          1.635,
          1.635,
          1.169,
          1.169,
          1.242,
          0.696,
          0.982,
          1.088,
          1.088,
          4.7,
          2.438,
          1.032,
          1.32,
          1.367,
          1.305,
          1.305,
          1.147,
          1.32,
          1.32,
          1.32,
          2.33,
          2.33,
          2.33,
          4.72,
          9.976,
          17.901,
          17.15,
          1.63,
          13.5,
          13.5,
          13.5,
          13.5,
          5.18,
          5.18,
          5.18,
          5.18,
          13,
          13,
          3.21,
          3.21,
          9.64,
          9.64,
          13.2,
          13.2,
          12.4,
          14.2,
          14.2,
          2.99,
          2.99,
          2.99,
          11.1,
          11.1,
          13.6,
          13.6,
          5.99,
          5.99,
          4.29,
          4.29,
          4.43,
          4.43,
          4.43,
          4.43,
          4.43,
          12.9,
          12.9,
          12.9,
          12.9,
          12.9,
          12.4,
          12.6,
          2.48,
          2.48,
          13.2,
          1.62,
          1.62,
          1.62,
          1.62,
          1.62,
          1.62,
          6.42,
          6.42,
          6.42,
          6.42,
          13.2,
          13.2,
          13.2,
          13.2,
          14.1,
          14.1,
          12.2,
          12.2,
          12.2,
          12.2,
          12.2,
          12.2,
          12.2,
          12.2,
          12.2,
          12.2,
          12.2,
          12.2,
          3.37,
          3.37,
          7.71,
          7.71,
          13,
          14.1,
          14.1,
          14.1,
          14.1,
          14.1,
          14.1,
          12,
          14.908,
          13.507,
          9.158,
          11.747,
          12.801,
          4.977,
          12.33,
          14.572,
          11.994,
          14.908,
          13.608,
          11.467,
          16.589,
          3.18,
          12.733,
          14.863,
          12.218,
          11.994,
          12.6,
          12.6,
          13.3,
          13.3,
          13.3,
          13.2,
          13.2,
          13,
          13,
          13,
          13,
          13,
          13,
          3.84,
          3.84,
          3.84,
          2.21,
          14,
          14,
          11.1,
          11.1,
          14.3,
          10.7,
          4.72,
          8.74,
          12.9,
          9.01,
          9.01,
          9.01,
          9.01,
          14.2,
          14.2,
          13.9,
          13.9,
          7.72,
          7.72,
          13.9,
          13.9,
          13.4,
          13.4,
          13.4,
          13.2,
          13.2,
          13.2,
          13.6,
          13.6,
          14.3,
          14.3,
          8.39,
          6.56,
          6.56,
          6.56,
          6.56,
          6.56,
          6.56,
          6.56,
          6.56,
          6.56,
          6.56,
          6.56,
          6.56,
          12.3,
          12.3,
          11.6,
          1.16,
          1.16,
          12.5,
          12.5,
          14.1,
          13.2,
          13.2,
          14.1,
          14.1,
          14.1,
          14.1,
          14.1,
          13,
          13,
          13,
          8.59,
          8.59,
          11,
          11,
          14.2,
          14,
          13.1,
          13.1,
          13.1,
          13.1,
          4.86,
          4.86,
          4.86,
          4.86,
          4.86,
          4.86,
          4.86,
          4.86,
          4.86,
          4.86,
          4.86,
          4.86,
          4.86,
          4.86,
          4.86,
          4.86,
          13.2,
          4.42,
          14.3,
          14.3,
          14.3,
          14.3,
          14.3,
          14.3,
          13,
          13,
          13,
          13,
          13,
          13,
          13,
          13,
          14.3,
          14.3,
          14.3,
          14,
          14,
          14,
          14,
          12.3,
          12.3,
          1.11,
          1.11,
          1.11,
          1.11,
          1.11,
          1.11,
          1.11,
          1.11,
          1.11,
          1.11,
          13.9,
          13.9,
          1.62,
          1.62,
          1.62,
          14,
          14,
          14.2,
          2.95,
          2.95,
          14.2,
          12.8,
          13.1,
          13.5,
          13.5,
          12.4,
          12.4,
          12.4,
          12.4,
          1.94,
          1.94,
          14,
          3.92,
          3.92,
          2.15,
          2.15,
          2.15,
          2.15,
          2.15,
          2.15,
          2.15,
          7.56,
          7.56,
          7.56,
          2.41,
          4.18,
          4.18,
          4.18,
          4.18,
          4.18,
          4.18,
          4.73,
          4.73,
          4.73,
          4.73,
          4.73,
          4.73,
          2.37,
          2.37,
          12.3,
          3.81,
          3.81,
          3.81,
          3.81,
          1.82,
          1.82,
          12.9,
          12.9,
          12.9,
          12.9,
          12.9,
          12.9,
          10.9,
          10.9,
          10.9,
          10.9,
          10.9,
          10.9,
          10.9,
          10.9,
          10.9,
          13.9,
          13.6,
          2.41,
          13.5,
          13.5,
          13.5,
          13.5,
          13.2,
          13.2,
          13.2,
          13.2,
          13.9,
          13.9,
          13.9,
          4.41,
          4.41,
          4.41,
          2.83,
          2.83,
          9.32,
          9.32,
          9.32,
          9.32,
          9.32,
          14.1,
          14.1,
          14.1,
          13.8,
          13.8,
          13.8,
          14,
          13.8,
          12.9,
          12.9,
          12.7,
          12.7,
          12.7,
          12.7,
          12.7,
          12.7,
          14.2,
          13.1,
          13.1,
          13.1,
          13.1,
          12.5,
          12.5,
          13.1,
          12.3,
          1.39,
          1.39,
          1.39,
          1.39,
          1.38,
          1.38,
          1.38,
          13.3,
          13.3,
          13.3,
          13.3,
          6.79,
          6.79,
          6.79,
          6.79,
          6.79,
          6.79,
          14.011,
          14.011,
          14.011,
          14.011,
          14.011,
          14.011,
          14.011,
          11.422,
          11.422,
          11.422,
          11.422,
          11.422,
          11.422,
          11.422,
          11.422,
          12.251,
          12.251,
          12.251,
          12.251,
          12.251,
          12.251,
          12.251,
          13.45,
          13.45,
          13.45,
          13.45,
          13.45,
          13.45,
          13.45,
          12.3,
          12.3,
          30.488,
          30.488,
          22.866,
          6.18,
          10.12,
          10.548,
          0.338,
          1.91,
          1.8,
          13.3,
          0,
          11.9,
          12.812,
          12.812,
          12.812,
          12.812,
          12.812,
          12.812,
          14.056,
          14.056,
          14.056,
          14.056,
          14.056,
          12.722,
          12.408,
          11.904,
          11.31,
          12.2,
          12.5,
          12.5,
          14.011,
          14.011,
          12.3,
          12.666,
          9.079,
          4.72,
          4.72,
          4.72,
          4.72,
          11.25,
          11.25,
          11.25,
          11.25,
          11.25,
          11.25,
          12.52,
          16.701,
          11.209,
          2.265,
          2.587,
          2.651,
          1.791,
          14.572,
          16.814,
          14.572,
          2.415,
          2.91,
          3.65,
          1.69,
          1.69,
          1.69,
          3.01,
          2.51,
          3.51,
          3.78,
          2.726,
          2.759,
          2.93,
          11.456,
          2.41,
          2.41,
          2.76,
          2.76,
          3.12,
          2.37,
          2.37,
          1.56,
          1.56,
          9.1,
          4.14,
          12.218,
          5.24,
          13.798,
          9.427,
          3.42,
          15.648,
          6.85,
          6.85,
          1.62,
          3.96,
          16.701,
          1.397,
          1.672,
          1.28,
          2.064,
          11.882,
          14.067,
          14.067,
          21.017,
          14.415,
          13.888,
          16.69,
          1.773,
          1.773,
          1.773,
          2.06,
          11.063,
          1.7,
          1.7,
          1.7,
          5.44,
          1.9,
          1.9,
          3.09,
          3.09,
          5.34,
          10.817,
          5.05,
          1.39,
          2.12,
          2.52,
          3.14,
          3.14,
          1.152,
          1.669,
          2.572,
          2.207,
          2.287,
          2.87,
          16.141,
          1.258,
          6.956,
          11.142,
          11.657,
          12.89,
          13.978,
          2.7,
          8.14,
          11.299,
          2.268,
          11.893,
          11.893,
          15.098,
          2.19,
          2.19,
          2.19,
          11.982,
          14.359,
          10.1,
          10.1,
          8,
          8,
          11.321,
          11.4,
          19.84,
          3.51,
          3.03,
          11.321,
          13.4,
          11.153,
          14.37,
          1.74,
          10.088,
          11.209,
          8.608,
          10.368,
          1.52,
          11.142,
          6.06,
          2.74,
          8.676,
          10.133,
          10.929,
          7.163,
          13.641,
          12.072,
          12.106,
          19.728,
          2.77,
          1.206,
          2.355,
          2.133,
          17.262,
          15.278,
          13.159,
          11.4,
          12.98,
          12.801,
          23.539,
          8.295,
          12.599,
          11.321,
          12,
          13.137,
          6,
          12.274,
          3.02,
          5.93,
          6.18,
          12.285,
          13.574,
          13.305,
          2.68,
          5.09,
          1.28,
          3.29,
          16.813,
          11.209,
          13.26,
          10.536,
          11.68,
          12.442,
          11.097,
          1.166,
          11.882,
          11.545,
          11.545,
          11.6,
          9.303,
          5.82,
          11.31,
          12.173,
          1.425,
          1.425,
          1.425,
          1.425,
          2.91,
          2.91,
          2.91,
          2.91,
          2.82,
          2.82,
          2.82,
          2.55,
          2.55,
          2.55,
          11.433,
          4.91,
          11.882,
          19.851,
          5.25,
          1.992,
          2.28,
          2.63,
          1.85,
          2.02,
          15.4,
          2.926,
          1.704,
          2.587,
          3.444,
          11.994,
          13.126,
          3.186,
          3.89,
          3.89,
          4.67,
          4.67,
          9.55,
          2.765,
          1.116,
          1.116,
          1.116,
          1.097,
          1.097,
          1.097,
          0.788,
          0.788,
          0.788,
          0.92,
          0.92,
          0.92,
          1.045,
          1.045,
          1.045,
          1.129,
          1.129,
          1.129,
          0.755,
          0.755,
          12.3,
          12.3,
          12.33,
          12.33,
          12.666,
          12.666,
          12.666,
          12.666,
          12.666,
          15.244,
          15.244,
          15.244,
          15.244,
          15.244,
          15.244,
          15.244,
          15.244,
          15.244,
          15.244,
          15.244,
          15.244,
          15.244,
          15.244,
          15.244,
          15.244,
          15.244,
          14.975,
          14.975,
          14.975,
          14.975,
          14.975,
          14.975,
          14.975,
          14.975,
          18.046,
          18.046,
          18.046,
          18.046,
          18.046,
          18.046,
          18.046,
          18.046,
          18.046,
          18.046,
          13.384,
          13.384,
          13.384,
          13.384,
          13.7,
          12.3,
          12.3,
          12.2,
          0,
          0,
          10.27,
          5.59,
          6.41,
          8.74,
          14,
          14,
          13.675,
          13.675,
          13.675,
          13.675,
          13.675,
          12.106,
          12.106,
          12.106,
          12.106,
          12.106,
          12.106,
          14.908,
          14.908,
          14.908,
          14.908,
          12.745,
          12.745,
          10.761,
          11.433,
          11.433,
          11.433,
          10.536,
          10.536,
          10.536,
          10.536,
          12.442,
          12.442,
          12.442,
          12.442,
          12.442,
          12.442,
          13.877,
          15.793,
          16.141,
          16.141,
          15.693,
          16.511,
          14.773,
          13.899,
          13.675,
          13.675,
          13.675,
          13.675,
          13.675,
          9.976,
          13.675,
          10.05,
          1.85,
          14.572,
          15.468,
          12.218,
          8.967,
          16.141,
          9.528,
          10.088,
          8.474,
          8.474,
          8.474,
          13.9,
          13.9,
          11.994,
          13.305,
          13.305,
          5.717,
          11.19,
          11.994,
          15.468,
          13.675,
          13.675,
          13.675,
          13.675,
          13.675,
          12.218,
          12.812,
          11.209,
          13.473,
          12.644,
          14.123,
          7.062,
          17.71,
          16.814,
          14.617,
          12.285,
          10.985,
          17.598,
          13.451,
          13.451,
          13.54,
          16.87,
          17.71,
          20.288,
          20.288,
          13.899,
          13.899,
          13.899,
          13.899,
          13.899,
          13.899,
          13.899,
          13.899,
          13.899,
          13.899,
          13.899,
          13.899,
          8.58,
          13.271,
          16.477,
          14.908,
          14.011,
          12.442,
          18.383,
          18.147,
          15.861,
          15.861,
          15.861,
          15.861,
          15.861,
          15.861,
          15.861,
          15.861,
          12.89,
          12.117,
          12.117,
          12.117,
          12.117,
          12.117,
          12.117,
          12.117,
          12.117,
          12.117,
          12.117,
          11.99,
          11.99,
          11.99,
          11.99,
          10.783,
          10.783,
          11.994,
          11.994,
          11.994,
          11.994,
          11.994,
          13.664,
          13.664,
          13.664,
          13.664,
          13.664,
          8.631,
          8.631,
          8.631,
          8.631,
          17.856,
          17.856,
          17.856,
          17.856,
          11.209,
          11.209,
          11.209,
          11.209,
          14.572,
          14.572,
          14.572,
          14.874,
          14.874,
          14.874,
          14.874,
          14.874,
          13.002,
          13.002,
          13.787,
          13.787,
          13.787,
          13.787,
          13.787,
          13.787,
          14.235,
          14.235,
          14.235,
          14.235,
          14.235,
          14.807,
          14.807,
          14.807,
          14.807,
          14.807,
          14.807,
          14.807,
          14.807,
          14.807,
          14.807,
          12.33,
          12.33,
          12.33,
          12.33,
          12.33,
          12.576,
          12.576,
          12.576,
          10.424,
          10.424,
          10.424,
          10.424,
          12.33,
          12.33,
          12.33,
          12.33,
          10.604,
          10.604,
          10.604,
          10.604,
          10.604,
          13.159,
          13.159,
          13.159,
          12.64,
          12.64,
          12.64,
          12.64,
          12.64,
          12.64,
          12.64,
          13.5,
          3.567,
          3.567,
          3.567,
          3.567,
          3.567,
          1.808,
          1.808,
          1.808,
          1.808,
          1.808,
          1.808,
          16.814,
          16.814,
          16.814,
          16.814,
          16.814,
          12.442,
          12.442,
          12.442,
          12.442,
          12.184,
          12.184,
          12.184,
          12.184,
          12.184,
          12.184,
          12.184,
          12.184,
          13.07,
          13.07,
          13.07,
          13.07,
          14.24,
          14.24,
          14.24,
          12.038,
          14.908,
          14.908,
          14.908,
          14.908,
          10.536,
          10.536,
          10.536,
          11.769,
          11.769,
          11.769,
          16.029,
          16.029,
          16.029,
          8.687,
          8.687,
          11.545,
          11.545,
          11.545,
          11.545,
          11.545,
          9.864,
          9.864,
          9.864,
          9.864,
          14.247,
          14.247,
          12.464,
          12.464,
          15.693,
          15.693,
          15.693,
          15.693,
          12.89,
          12.89,
          12.89,
          12.89,
          14.796,
          14.796,
          14.796,
          12.442,
          12.442,
          12.442,
          12.442,
          14.908,
          14.908,
          14.908,
          14.908,
          14.908,
          14.908,
          14.908,
          14.908,
          13.047,
          13.047,
          13.227,
          13.227,
          13.227,
          14.46,
          14.46,
          14.46,
          14.46,
          15.917,
          15.917,
          15.917,
          13.787,
          13.787,
          13.787,
          13.787,
          13.787,
          13.787,
          12.666,
          12.666,
          12.666,
          12.666,
          12.666,
          11.198,
          11.198,
          11.198,
          11.198,
          11.198,
          16.018,
          18.159,
          18.159,
          18.159,
          11.657,
          11.657,
          10.72,
          10.72,
          10.72,
          10.72,
          1.95,
          13.899,
          15.524,
          16.365,
          16.365,
          16.365,
          11.657,
          11.657,
          11.545,
          13.787,
          13.787,
          13.787,
          13.45,
          13.45,
          12.778,
          12.778,
          12.778,
          12.823,
          12.823,
          12.823,
          11.433,
          11.433,
          11.433,
          12.6,
          12.6,
          10.4,
          12.6,
          10.468,
          16.7,
          15.278,
          15.278,
          11.561,
          12.993,
          2.043,
          2.043,
          12.778,
          12.778,
          12.778,
          12.778,
          12.778,
          12.778,
          12.778,
          11.131,
          11.131,
          11.131,
          11.131,
          11.131,
          11.131,
          11.131,
          11.131,
          15.805,
          15.805,
          15.805,
          15.805,
          15.805,
          15.805,
          14.011,
          14.011,
          14.011,
          14.011,
          14.011,
          14.011,
          12.78,
          12.78,
          12.78,
          12.78,
          12.78,
          12.78,
          12.7,
          12.7,
          12.4,
          18.495,
          18.495,
          18.495,
          18.495,
          18.495,
          18.495,
          12.5,
          12.5,
          14.1,
          14.1,
          14.1,
          14.1,
          13.1,
          12.5,
          12.3,
          12.3,
          13.4,
          13.4,
          13.4,
          13.4,
          12.3,
          13.3,
          13.3,
          12,
          12,
          2.06,
          2.06,
          2.06,
          12.8,
          12.3,
          12.5
         ],
         "yaxis": "y"
        },
        {
         "customdata": [
          [
           "AF Lep b"
          ],
          [
           "AF Lep b"
          ],
          [
           "AF Lep b"
          ],
          [
           "BD+60 1417 b"
          ],
          [
           "CoRoT-1 b"
          ],
          [
           "CoRoT-1 b"
          ],
          [
           "CoRoT-1 b"
          ],
          [
           "CoRoT-1 b"
          ],
          [
           "CoRoT-1 b"
          ],
          [
           "CoRoT-11 b"
          ],
          [
           "CoRoT-11 b"
          ],
          [
           "CoRoT-11 b"
          ],
          [
           "CoRoT-11 b"
          ],
          [
           "CoRoT-17 b"
          ],
          [
           "CoRoT-17 b"
          ],
          [
           "CoRoT-17 b"
          ],
          [
           "CoRoT-20 b"
          ],
          [
           "CoRoT-20 b"
          ],
          [
           "CoRoT-20 b"
          ],
          [
           "CoRoT-20 b"
          ],
          [
           "CoRoT-20 b"
          ],
          [
           "CoRoT-25 b"
          ],
          [
           "CoRoT-25 b"
          ],
          [
           "CoRoT-31 b"
          ],
          [
           "CoRoT-35 b"
          ],
          [
           "CoRoT-4 b"
          ],
          [
           "CoRoT-4 b"
          ],
          [
           "CoRoT-4 b"
          ],
          [
           "GJ 504 b"
          ],
          [
           "HAT-P-1 b"
          ],
          [
           "HAT-P-1 b"
          ],
          [
           "HAT-P-1 b"
          ],
          [
           "HAT-P-1 b"
          ],
          [
           "HAT-P-1 b"
          ],
          [
           "HAT-P-1 b"
          ],
          [
           "HAT-P-1 b"
          ],
          [
           "HAT-P-1 b"
          ],
          [
           "HAT-P-13 b"
          ],
          [
           "HAT-P-13 b"
          ],
          [
           "HAT-P-13 b"
          ],
          [
           "HAT-P-13 b"
          ],
          [
           "HAT-P-13 b"
          ],
          [
           "HAT-P-13 b"
          ],
          [
           "HAT-P-16 b"
          ],
          [
           "HAT-P-16 b"
          ],
          [
           "HAT-P-16 b"
          ],
          [
           "HAT-P-16 b"
          ],
          [
           "HAT-P-16 b"
          ],
          [
           "HAT-P-23 b"
          ],
          [
           "HAT-P-23 b"
          ],
          [
           "HAT-P-23 b"
          ],
          [
           "HAT-P-23 b"
          ],
          [
           "HAT-P-23 b"
          ],
          [
           "HAT-P-24 b"
          ],
          [
           "HAT-P-24 b"
          ],
          [
           "HAT-P-24 b"
          ],
          [
           "HAT-P-24 b"
          ],
          [
           "HAT-P-24 b"
          ],
          [
           "HAT-P-29 b"
          ],
          [
           "HAT-P-29 b"
          ],
          [
           "HAT-P-29 b"
          ],
          [
           "HAT-P-29 b"
          ],
          [
           "HAT-P-29 b"
          ],
          [
           "HAT-P-30 b"
          ],
          [
           "HAT-P-30 b"
          ],
          [
           "HAT-P-30 b"
          ],
          [
           "HAT-P-30 b"
          ],
          [
           "HAT-P-30 b"
          ],
          [
           "HAT-P-33 b"
          ],
          [
           "HAT-P-33 b"
          ],
          [
           "HAT-P-33 b"
          ],
          [
           "HAT-P-33 b"
          ],
          [
           "HAT-P-35 b"
          ],
          [
           "HAT-P-35 b"
          ],
          [
           "HAT-P-35 b"
          ],
          [
           "HAT-P-39 b"
          ],
          [
           "HAT-P-39 b"
          ],
          [
           "HAT-P-41 b"
          ],
          [
           "HAT-P-41 b"
          ],
          [
           "HAT-P-41 b"
          ],
          [
           "HAT-P-41 b"
          ],
          [
           "HAT-P-42 b"
          ],
          [
           "HAT-P-42 b"
          ],
          [
           "HAT-P-45 b"
          ],
          [
           "HAT-P-45 b"
          ],
          [
           "HAT-P-46 b"
          ],
          [
           "HAT-P-5 b"
          ],
          [
           "HAT-P-5 b"
          ],
          [
           "HAT-P-5 b"
          ],
          [
           "HAT-P-5 b"
          ],
          [
           "HAT-P-53 b"
          ],
          [
           "HAT-P-53 b"
          ],
          [
           "HAT-P-56 b"
          ],
          [
           "HAT-P-56 b"
          ],
          [
           "HAT-P-56 b"
          ],
          [
           "HAT-P-64 b"
          ],
          [
           "HAT-P-65 b"
          ],
          [
           "HAT-P-66 b"
          ],
          [
           "HAT-P-67 b"
          ],
          [
           "HAT-P-9 b"
          ],
          [
           "HAT-P-9 b"
          ],
          [
           "HAT-P-9 b"
          ],
          [
           "HAT-P-9 b"
          ],
          [
           "HAT-P-9 b"
          ],
          [
           "HATS-10 b"
          ],
          [
           "HATS-10 b"
          ],
          [
           "HATS-11 b"
          ],
          [
           "HATS-11 b"
          ],
          [
           "HATS-17 b"
          ],
          [
           "HATS-26 b"
          ],
          [
           "HATS-3 b"
          ],
          [
           "HATS-3 b"
          ],
          [
           "HATS-3 b"
          ],
          [
           "HATS-3 b"
          ],
          [
           "HATS-31 b"
          ],
          [
           "HATS-35 b"
          ],
          [
           "HATS-36 b"
          ],
          [
           "HATS-38 b"
          ],
          [
           "HATS-42 b"
          ],
          [
           "HATS-51 b"
          ],
          [
           "HATS-55 b"
          ],
          [
           "HATS-60 b"
          ],
          [
           "HATS-65 b"
          ],
          [
           "HATS-67 b"
          ],
          [
           "HATS-9 b"
          ],
          [
           "HATS-9 b"
          ],
          [
           "HATS-9 b"
          ],
          [
           "HD 105618 c"
          ],
          [
           "HD 132406 b"
          ],
          [
           "HD 136352 c"
          ],
          [
           "HD 136352 c"
          ],
          [
           "HD 13931 b"
          ],
          [
           "HD 151450 c"
          ],
          [
           "HD 183263 c"
          ],
          [
           "HD 196050 b"
          ],
          [
           "HD 206893 c"
          ],
          [
           "HD 217786 b"
          ],
          [
           "HD 217786 b"
          ],
          [
           "HD 217958 b"
          ],
          [
           "HD 39091 b"
          ],
          [
           "HD 39091 b"
          ],
          [
           "HD 39091 b"
          ],
          [
           "HD 39091 b"
          ],
          [
           "HD 62549 b"
          ],
          [
           "HD 82943 b"
          ],
          [
           "HD 82943 c"
          ],
          [
           "HD 97037 b"
          ],
          [
           "K2-107 b"
          ],
          [
           "K2-232 b"
          ],
          [
           "K2-232 b"
          ],
          [
           "K2-237 b"
          ],
          [
           "K2-237 b"
          ],
          [
           "K2-237 b"
          ],
          [
           "K2-238 b"
          ],
          [
           "K2-260 b"
          ],
          [
           "K2-79 b"
          ],
          [
           "KELT-15 b"
          ],
          [
           "KELT-15 b"
          ],
          [
           "KELT-16 b"
          ],
          [
           "KELT-4 A b"
          ],
          [
           "Kepler-12 b"
          ],
          [
           "Kepler-12 b"
          ],
          [
           "Kepler-12 b"
          ],
          [
           "Kepler-12 b"
          ],
          [
           "Kepler-1654 b"
          ],
          [
           "Kepler-1656 b"
          ],
          [
           "Kepler-1656 b"
          ],
          [
           "Kepler-1708 b"
          ],
          [
           "Kepler-39 b"
          ],
          [
           "Kepler-39 b"
          ],
          [
           "Kepler-39 b"
          ],
          [
           "Kepler-39 b"
          ],
          [
           "Kepler-41 b"
          ],
          [
           "Kepler-41 b"
          ],
          [
           "Kepler-41 b"
          ],
          [
           "Kepler-41 b"
          ],
          [
           "Kepler-41 b"
          ],
          [
           "Kepler-412 b"
          ],
          [
           "Kepler-412 b"
          ],
          [
           "Kepler-412 b"
          ],
          [
           "Kepler-422 b"
          ],
          [
           "Kepler-422 b"
          ],
          [
           "Kepler-427 b"
          ],
          [
           "Kepler-427 b"
          ],
          [
           "Kepler-43 b"
          ],
          [
           "Kepler-43 b"
          ],
          [
           "Kepler-43 b"
          ],
          [
           "Kepler-43 b"
          ],
          [
           "Kepler-43 b"
          ],
          [
           "Kepler-43 b"
          ],
          [
           "Kepler-68 d"
          ],
          [
           "Kepler-76 b"
          ],
          [
           "Kepler-76 b"
          ],
          [
           "Kepler-76 b"
          ],
          [
           "Kepler-87 b"
          ],
          [
           "NGTS-17 b"
          ],
          [
           "NGTS-18 b"
          ],
          [
           "NGTS-2 b"
          ],
          [
           "NGTS-23 b"
          ],
          [
           "OGLE-TR-182 b"
          ],
          [
           "OGLE-TR-182 b"
          ],
          [
           "OGLE-TR-182 b"
          ],
          [
           "OGLE-TR-211 b"
          ],
          [
           "OGLE-TR-211 b"
          ],
          [
           "OGLE-TR-211 b"
          ],
          [
           "OGLE-TR-56 b"
          ],
          [
           "OGLE-TR-56 b"
          ],
          [
           "OGLE-TR-56 b"
          ],
          [
           "OGLE-TR-56 b"
          ],
          [
           "OGLE-TR-56 b"
          ],
          [
           "OGLE-TR-56 b"
          ],
          [
           "OGLE-TR-56 b"
          ],
          [
           "OGLE-TR-56 b"
          ],
          [
           "OGLE-TR-56 b"
          ],
          [
           "OGLE2-TR-L9 b"
          ],
          [
           "OGLE2-TR-L9 b"
          ],
          [
           "OGLE2-TR-L9 b"
          ],
          [
           "Qatar-10 b"
          ],
          [
           "Qatar-3 b"
          ],
          [
           "Qatar-7 b"
          ],
          [
           "Qatar-8 b"
          ],
          [
           "TOI-1516 b"
          ],
          [
           "TOI-169 b"
          ],
          [
           "TOI-1820 b"
          ],
          [
           "TOI-2046 b"
          ],
          [
           "TOI-2154 b"
          ],
          [
           "TOI-2158 b"
          ],
          [
           "TOI-2583 A b"
          ],
          [
           "TOI-2803 A b"
          ],
          [
           "TOI-2842 b"
          ],
          [
           "TOI-3023 b"
          ],
          [
           "TOI-3364 b"
          ],
          [
           "TOI-3688 A b"
          ],
          [
           "TOI-3807 b"
          ],
          [
           "TOI-3912 b"
          ],
          [
           "TOI-4087 b"
          ],
          [
           "TOI-4562 b"
          ],
          [
           "TOI-559 b"
          ],
          [
           "TOI-677 b"
          ],
          [
           "WASP-1 b"
          ],
          [
           "WASP-1 b"
          ],
          [
           "WASP-1 b"
          ],
          [
           "WASP-1 b"
          ],
          [
           "WASP-1 b"
          ],
          [
           "WASP-1 b"
          ],
          [
           "WASP-1 b"
          ],
          [
           "WASP-1 b"
          ],
          [
           "WASP-1 b"
          ],
          [
           "WASP-101 b"
          ],
          [
           "WASP-101 b"
          ],
          [
           "WASP-101 b"
          ],
          [
           "WASP-103 b"
          ],
          [
           "WASP-103 b"
          ],
          [
           "WASP-103 b"
          ],
          [
           "WASP-103 b"
          ],
          [
           "WASP-114 b"
          ],
          [
           "WASP-117 b"
          ],
          [
           "WASP-117 b"
          ],
          [
           "WASP-117 b"
          ],
          [
           "WASP-12 b"
          ],
          [
           "WASP-12 b"
          ],
          [
           "WASP-12 b"
          ],
          [
           "WASP-12 b"
          ],
          [
           "WASP-12 b"
          ],
          [
           "WASP-12 b"
          ],
          [
           "WASP-12 b"
          ],
          [
           "WASP-12 b"
          ],
          [
           "WASP-12 b"
          ],
          [
           "WASP-12 b"
          ],
          [
           "WASP-121 b"
          ],
          [
           "WASP-121 b"
          ],
          [
           "WASP-126 b"
          ],
          [
           "WASP-126 b"
          ],
          [
           "WASP-126 c"
          ],
          [
           "WASP-127 b"
          ],
          [
           "WASP-127 b"
          ],
          [
           "WASP-129 b"
          ],
          [
           "WASP-133 b"
          ],
          [
           "WASP-14 b"
          ],
          [
           "WASP-14 b"
          ],
          [
           "WASP-14 b"
          ],
          [
           "WASP-14 b"
          ],
          [
           "WASP-14 b"
          ],
          [
           "WASP-14 b"
          ],
          [
           "WASP-14 b"
          ],
          [
           "WASP-141 b"
          ],
          [
           "WASP-142 b"
          ],
          [
           "WASP-147 b"
          ],
          [
           "WASP-15 b"
          ],
          [
           "WASP-15 b"
          ],
          [
           "WASP-15 b"
          ],
          [
           "WASP-15 b"
          ],
          [
           "WASP-15 b"
          ],
          [
           "WASP-15 b"
          ],
          [
           "WASP-153 b"
          ],
          [
           "WASP-17 b"
          ],
          [
           "WASP-17 b"
          ],
          [
           "WASP-17 b"
          ],
          [
           "WASP-17 b"
          ],
          [
           "WASP-17 b"
          ],
          [
           "WASP-17 b"
          ],
          [
           "WASP-17 b"
          ],
          [
           "WASP-17 b"
          ],
          [
           "WASP-17 b"
          ],
          [
           "WASP-174 b"
          ],
          [
           "WASP-174 b"
          ],
          [
           "WASP-180 A b"
          ],
          [
           "WASP-182 b"
          ],
          [
           "WASP-192 b"
          ],
          [
           "WASP-20 b"
          ],
          [
           "WASP-20 b"
          ],
          [
           "WASP-20 b"
          ],
          [
           "WASP-22 b"
          ],
          [
           "WASP-22 b"
          ],
          [
           "WASP-22 b"
          ],
          [
           "WASP-22 b"
          ],
          [
           "WASP-22 b"
          ],
          [
           "WASP-22 b"
          ],
          [
           "WASP-24 b"
          ],
          [
           "WASP-24 b"
          ],
          [
           "WASP-24 b"
          ],
          [
           "WASP-24 b"
          ],
          [
           "WASP-24 b"
          ],
          [
           "WASP-26 b"
          ],
          [
           "WASP-26 b"
          ],
          [
           "WASP-26 b"
          ],
          [
           "WASP-26 b"
          ],
          [
           "WASP-26 b"
          ],
          [
           "WASP-3 b"
          ],
          [
           "WASP-3 b"
          ],
          [
           "WASP-3 b"
          ],
          [
           "WASP-3 b"
          ],
          [
           "WASP-3 b"
          ],
          [
           "WASP-3 b"
          ],
          [
           "WASP-3 b"
          ],
          [
           "WASP-3 b"
          ],
          [
           "WASP-3 b"
          ],
          [
           "WASP-31 b"
          ],
          [
           "WASP-31 b"
          ],
          [
           "WASP-31 b"
          ],
          [
           "WASP-31 b"
          ],
          [
           "WASP-32 b"
          ],
          [
           "WASP-32 b"
          ],
          [
           "WASP-32 b"
          ],
          [
           "WASP-32 b"
          ],
          [
           "WASP-54 b"
          ],
          [
           "WASP-54 b"
          ],
          [
           "WASP-54 b"
          ],
          [
           "WASP-61 b"
          ],
          [
           "WASP-61 b"
          ],
          [
           "WASP-61 b"
          ],
          [
           "WASP-61 b"
          ],
          [
           "WASP-62 b"
          ],
          [
           "WASP-62 b"
          ],
          [
           "WASP-62 b"
          ],
          [
           "WASP-62 b"
          ],
          [
           "WASP-63 b"
          ],
          [
           "WASP-63 b"
          ],
          [
           "WASP-63 b"
          ],
          [
           "WASP-74 b"
          ],
          [
           "WASP-74 b"
          ],
          [
           "WASP-74 b"
          ],
          [
           "WASP-74 b"
          ],
          [
           "WASP-75 b"
          ],
          [
           "WASP-75 b"
          ],
          [
           "WASP-76 b"
          ],
          [
           "WASP-78 b"
          ],
          [
           "WASP-78 b"
          ],
          [
           "WASP-78 b"
          ],
          [
           "WASP-78 b"
          ],
          [
           "WASP-79 b"
          ],
          [
           "WASP-79 b"
          ],
          [
           "WASP-79 b"
          ],
          [
           "WASP-79 b"
          ],
          [
           "WASP-90 b"
          ],
          [
           "WASP-92 b"
          ],
          [
           "WASP-93 b"
          ],
          [
           "WASP-94 A b"
          ],
          [
           "WASP-94 A b"
          ],
          [
           "WASP-94 A b"
          ],
          [
           "XO-6 b"
          ],
          [
           "XO-7 b"
          ]
         ],
         "hovertemplate": "Habitability=True<br>Stellar Luminosity=%{x}<br>Planet Radius (in Earth Unit)=%{y}<br>Planet Mass (in Earth Unit)=%{marker.size}<br>pl_name=%{customdata[0]}<extra></extra>",
         "legendgroup": "True",
         "marker": {
          "color": "#EF553B",
          "size": [
           1664.46737,
           1017.0509,
           1366.66215,
           4767.4261,
           327.35,
           340.0781,
           327.3649,
           390.9309,
           359.1479,
           743.7222,
           791.3967,
           832.7146,
           740.51,
           765.9703,
           781.8618,
           772.29,
           1344.4209,
           1366.669,
           1315.8162,
           1608.2198,
           1347.54,
           85.81,
           93.12419,
           266.9772,
           349.61125,
           223.43449,
           232.33373,
           228.83,
           1271.3,
           168.4499,
           168.13207,
           169.08556,
           166.54292,
           166.536,
           166.86075,
           166.86075,
           168.4499,
           285.72917,
           285.72917,
           270.462,
           287.95398,
           280.64389,
           271.098,
           1332.66119,
           1332.605,
           1331.38987,
           1341.2426,
           1341.56043,
           664.2647,
           664.237,
           626.1251,
           425.8922,
           658,
           238.3725,
           229.79109,
           227.24845,
           217.704,
           217.71355,
           243.77561,
           245.68259,
           247.261,
           279.6904,
           214.85308,
           230.74458,
           232.96939,
           237.10118,
           225.968,
           263.7989,
           209.7678,
           292.4036,
           242.176,
           206.5895,
           335.62848,
           2390.0816,
           334.979,
           180.84527,
           190.372,
           252.67485,
           254.264,
           378.2177,
           254.253,
           279.6904,
           331.801,
           283.492,
           273.3338,
           156.684,
           336.8998,
           324.1866,
           311.4734,
           336.89,
           471.65972,
           469.43491,
           603.877,
           734.1873,
           692.8694,
           184.34048,
           167.49641,
           248.86089,
           108.0622,
           247.27174,
           241.86863,
           212.9461,
           247.9,
           238.05467,
           185.93055,
           167.17858,
           263.7989,
           270.1555,
           425.25654,
           206.5895,
           349.613,
           174.8065,
           340.39593,
           340.382,
           279.6904,
           388.38826,
           1022.14128,
           23.51942,
           597.5204,
           244.09344,
           292.72143,
           210.40346,
           260.93843,
           460.8535,
           261.57409,
           259.34928,
           266.02371,
           8419.59233,
           1970.53612,
           11.24,
           11.29,
           889.91954,
           1636.18064,
           2958.98247,
           1446.11925,
           4036.42077,
           4402.55909,
           9185.24096,
           166.54209,
           4004.63793,
           3917.23512,
           4100.007,
           4099.98645,
           2707.5802,
           534.25,
           622.603,
           6707.76853,
           266.9772,
           123.00021,
           126.49634,
           433.20012,
           392.83788,
           508.528,
           273.3338,
           451.3186,
           9.2,
           416.3573,
           289.2253,
           874.0325,
           286.68266,
           137.30256,
           137.62039,
           136.6669,
           136.979,
           158.915,
           48.6,
           47.8,
           1462.01067,
           6388.383,
           5689.157,
           5720.7,
           6388.1,
           174.8,
           177.9848,
           156.69019,
           179.89178,
           177.98,
           299.07803,
           298.43,
           294.62841,
           155.7367,
           136.66,
           92.80636,
           92.17,
           1026.55,
           982.0947,
           997.9862,
           994.77,
           1026.5909,
           962.98,
           267,
           635.66,
           635.63,
           638.8383,
           324.2,
           242.8209,
           129.99182,
           235.1942,
           194.82881,
           340.0781,
           336.8998,
           320.995,
           327.351,
           216.1244,
           238.3725,
           410.0007,
           413.179,
           441.77,
           1048.839,
           448.1403,
           286.047,
           394.1092,
           441.765,
           375.0394,
           1379.3822,
           1430.175,
           1398.452,
           233.92288,
           1369.8473,
           597.5204,
           117.91493,
           1004.33777,
           251.40353,
           731.00534,
           731.00534,
           292.40213,
           260.61929,
           79.4571,
           309.8827,
           117.59651,
           197.05361,
           530.77344,
           311.47184,
           330.54154,
           129.03833,
           232.01474,
           732,
           1910.14873,
           392.83788,
           251.0857,
           311.4734,
           268.88418,
           291.76794,
           292,
           271.415,
           301.30284,
           282.8687,
           273.3338,
           162.0933,
           157.96151,
           158.91,
           462.44265,
           473.5667,
           467.2101,
           473.547,
           562.24127,
           87.75286,
           95.349,
           87.5585,
           441.7837,
           454.4969,
           441.7837,
           444.962,
           448,
           638.8383,
           416.3573,
           448.1403,
           465.62095,
           467.2101,
           375.99289,
           367.72747,
           88.9924,
           90.3,
           64.2,
           52.3466,
           57.2094,
           317.83,
           368.6828,
           2510.857,
           2809.6172,
           2412.3297,
           2466.3608,
           2333,
           2479.074,
           2294.7326,
           854.9627,
           266.9772,
           87.40325,
           172,
           172.26386,
           175.12433,
           188.15536,
           171.6282,
           179.89178,
           123.9537,
           151.60491,
           162.72896,
           168.13207,
           154.46538,
           156,
           247.9074,
           143.97699,
           162.0933,
           154.46538,
           413.179,
           104.88337,
           286.047,
           47.03884,
           731.009,
           120.13974,
           98.841,
           98.84513,
           196.10111,
           180.84527,
           177.9848,
           186.876,
           212.9461,
           181.1631,
           394.1092,
           355.65177,
           352.47347,
           340.382,
           336.8998,
           329.90754,
           270.1555,
           324.18498,
           326.715,
           324.1866,
           600.6987,
           617.86152,
           654.7298,
           772.3269,
           559.36,
           559.3808,
           559.357,
           645.1949,
           629.3034,
           151.916,
           152.5584,
           151.92274,
           155.41887,
           1144.14,
           835.8929,
           1109.2267,
           1144.188,
           202.131,
           192.60498,
           187.5197,
           851.7844,
           654.702,
           651.5515,
           654.7298,
           165.2716,
           184.3414,
           180.52744,
           181.155,
           117.5971,
           107.74437,
           120.77,
           300.03152,
           262.52758,
           301.9385,
           228.8376,
           340.06,
           341.03159,
           292.4036,
           259.66711,
           282.857,
           273.3338,
           352.7913,
           270.1555,
           270.1555,
           286.03,
           267.93069,
           200.2329,
           255.85315,
           467.2101,
           144.93048,
           158.915,
           143.653,
           1398.452,
           225.34147
          ],
          "sizemode": "area",
          "sizeref": 63.566,
          "symbol": "circle"
         },
         "mode": "markers",
         "name": "True",
         "showlegend": true,
         "type": "scattergl",
         "x": [
          0.29,
          0.29,
          0.29,
          0.356,
          0.298,
          0.298,
          0.298,
          0.298,
          0.298,
          0.378,
          0.378,
          0.378,
          0.378,
          0.134,
          0.134,
          0.134,
          0.17,
          0.17,
          0.17,
          0.17,
          0.17,
          0.141,
          0.141,
          0.398,
          0.362,
          0.185,
          0.185,
          0.185,
          0.332,
          0.225,
          0.225,
          0.225,
          0.225,
          0.225,
          0.225,
          0.225,
          0.225,
          0.346,
          0.346,
          0.346,
          0.346,
          0.346,
          0.346,
          0.294,
          0.294,
          0.294,
          0.294,
          0.294,
          0.199,
          0.199,
          0.199,
          0.199,
          0.199,
          0.408,
          0.408,
          0.408,
          0.408,
          0.408,
          0.272,
          0.272,
          0.272,
          0.272,
          0.272,
          0.312,
          0.312,
          0.312,
          0.312,
          0.312,
          0.618,
          0.618,
          0.618,
          0.618,
          0.383,
          0.383,
          0.383,
          0.607,
          0.607,
          0.628,
          0.628,
          0.628,
          0.628,
          0.356,
          0.356,
          0.4,
          0.4,
          0.391,
          0.187,
          0.187,
          0.187,
          0.187,
          0.217,
          0.217,
          0.553,
          0.553,
          0.553,
          0.668,
          0.555,
          0.615,
          0.939,
          0.418,
          0.418,
          0.418,
          0.418,
          0.418,
          0.117,
          0.117,
          0.403,
          0.403,
          0.093,
          0.704,
          0.456,
          0.456,
          0.456,
          0.456,
          0.619,
          0.465,
          0.215,
          0.072,
          0.425,
          0.31,
          0.229,
          0.3,
          0.377,
          0.547,
          0.312,
          0.312,
          0.312,
          0.18,
          0.26,
          0.016,
          0.016,
          0.196,
          0.231,
          0.25,
          0.26,
          0.456,
          0.276,
          0.276,
          0.292,
          0.16,
          0.16,
          0.16,
          0.16,
          0.228,
          0.194,
          0.194,
          0.234,
          0.464,
          0.238,
          0.238,
          0.371,
          0.371,
          0.371,
          0.36,
          0.543,
          0.018,
          0.412,
          0.412,
          0.401,
          0.535,
          0.449,
          0.449,
          0.449,
          0.449,
          0.09,
          0.021,
          0.021,
          0.182,
          0.346,
          0.346,
          0.346,
          0.346,
          0.262,
          0.262,
          0.262,
          0.262,
          0.262,
          0.269,
          0.269,
          0.269,
          0.24,
          0.24,
          0.29,
          0.29,
          0.326,
          0.326,
          0.326,
          0.326,
          0.326,
          0.326,
          0.231,
          0.451,
          0.451,
          0.451,
          0.326,
          0.241,
          0.27,
          0.631,
          0.283,
          0.241,
          0.241,
          0.241,
          0.267,
          0.267,
          0.267,
          0.35,
          0.35,
          0.35,
          0.35,
          0.35,
          0.35,
          0.35,
          0.35,
          0.35,
          0.512,
          0.512,
          0.512,
          0.3,
          0.279,
          0.563,
          0.228,
          0.391,
          0.253,
          0.294,
          0.28,
          0.435,
          0.231,
          0.388,
          0.336,
          0.246,
          0.444,
          0.286,
          0.283,
          0.332,
          0.273,
          0.176,
          0.253,
          0.227,
          0.312,
          0.441,
          0.441,
          0.441,
          0.441,
          0.441,
          0.441,
          0.441,
          0.441,
          0.441,
          0.421,
          0.421,
          0.421,
          0.413,
          0.413,
          0.413,
          0.413,
          0.333,
          0.274,
          0.274,
          0.274,
          0.597,
          0.597,
          0.597,
          0.597,
          0.597,
          0.597,
          0.597,
          0.597,
          0.597,
          0.597,
          0.644,
          0.644,
          0.159,
          0.159,
          0.132,
          0.276,
          0.276,
          0.112,
          0.305,
          0.427,
          0.427,
          0.427,
          0.427,
          0.427,
          0.427,
          0.427,
          0.315,
          0.513,
          0.287,
          0.49,
          0.49,
          0.49,
          0.49,
          0.49,
          0.49,
          0.46,
          0.613,
          0.613,
          0.613,
          0.613,
          0.613,
          0.613,
          0.613,
          0.613,
          0.613,
          0.436,
          0.436,
          0.315,
          0.155,
          0.282,
          0.338,
          0.338,
          0.338,
          0.245,
          0.245,
          0.245,
          0.245,
          0.245,
          0.245,
          0.331,
          0.331,
          0.331,
          0.331,
          0.331,
          0.287,
          0.287,
          0.287,
          0.287,
          0.287,
          0.434,
          0.434,
          0.434,
          0.434,
          0.434,
          0.434,
          0.434,
          0.434,
          0.434,
          0.336,
          0.336,
          0.336,
          0.336,
          0.193,
          0.193,
          0.193,
          0.193,
          0.575,
          0.575,
          0.575,
          0.425,
          0.425,
          0.425,
          0.425,
          0.346,
          0.346,
          0.346,
          0.346,
          0.449,
          0.449,
          0.449,
          0.4,
          0.4,
          0.4,
          0.4,
          0.304,
          0.304,
          0.689,
          0.763,
          0.763,
          0.763,
          0.763,
          0.664,
          0.664,
          0.664,
          0.664,
          0.63,
          0.275,
          0.618,
          0.51,
          0.51,
          0.51,
          0.536,
          0.431
         ],
         "xaxis": "x",
         "y": [
          13.1,
          13.1,
          13.1,
          14.684,
          16.7,
          16.7,
          16.7,
          16.7,
          16.7,
          16.03,
          16.03,
          16.03,
          16.03,
          11.43,
          11.43,
          11.43,
          9.416,
          9.416,
          9.416,
          9.416,
          9.416,
          12.11,
          12.11,
          16.365,
          18.831,
          13.34,
          13.34,
          13.34,
          13,
          14.785,
          14.785,
          14.785,
          14.785,
          14.785,
          14.785,
          14.785,
          14.785,
          14.258,
          14.258,
          14.258,
          14.258,
          14.258,
          14.258,
          14.448,
          14.448,
          14.448,
          14.448,
          14.448,
          12.218,
          12.218,
          12.218,
          12.218,
          12.218,
          14.572,
          14.572,
          14.572,
          14.572,
          14.572,
          13.115,
          13.115,
          13.115,
          13.115,
          13.115,
          16.141,
          16.141,
          16.141,
          16.141,
          16.141,
          20.737,
          20.737,
          20.737,
          20.737,
          14.93,
          14.93,
          14.93,
          17.609,
          17.609,
          22.978,
          22.978,
          22.978,
          22.978,
          14.348,
          14.348,
          15.984,
          15.984,
          14.392,
          13.563,
          13.563,
          13.563,
          13.563,
          14.773,
          14.773,
          16.926,
          16.926,
          16.926,
          19.089,
          21.185,
          17.822,
          23.371,
          15.614,
          15.614,
          15.614,
          15.614,
          15.614,
          10.862,
          10.862,
          18.03,
          18.03,
          8.709,
          19.616,
          15.48,
          15.48,
          15.48,
          15.48,
          18.383,
          16.41,
          12.92,
          6.882,
          15.693,
          15.805,
          14.022,
          12.924,
          16.825,
          18.887,
          13.85,
          13.85,
          13.85,
          11.9,
          12.7,
          2.916,
          2.916,
          13.2,
          12.8,
          12.5,
          12.9,
          16.365,
          12.3,
          12.3,
          14.2,
          12.4,
          12.4,
          12.4,
          12.4,
          12.6,
          13.5,
          13.4,
          12.1,
          15.98,
          11.209,
          11.209,
          16.197,
          16.197,
          16.197,
          14.572,
          17.396,
          4.09,
          19.504,
          19.504,
          15.861,
          19.044,
          19.661,
          19.661,
          19.661,
          19.661,
          9.18,
          4.52,
          4.52,
          9.96,
          13.9,
          13.9,
          13.9,
          13.9,
          14.46,
          14.46,
          14.46,
          14.46,
          14.46,
          15.031,
          15.031,
          15.031,
          12.89,
          12.89,
          13.79,
          13.79,
          13.664,
          13.664,
          13.664,
          13.664,
          13.664,
          13.664,
          13.9,
          15.244,
          15.244,
          15.244,
          13.49,
          13.899,
          13.563,
          17.878,
          14.202,
          12.666,
          12.666,
          12.666,
          15.244,
          15.244,
          15.244,
          15.278,
          15.278,
          15.278,
          15.278,
          15.278,
          15.278,
          15.278,
          15.278,
          15.278,
          18.046,
          18.046,
          18.046,
          17.295,
          12.285,
          19.055,
          14.404,
          15.244,
          12.173,
          12.778,
          16.141,
          16.287,
          10.761,
          14.46,
          18.114,
          12.845,
          16.432,
          12.229,
          13.081,
          18.495,
          14.28,
          13.047,
          12.53,
          12.229,
          13.115,
          16.623,
          16.623,
          16.623,
          16.623,
          16.623,
          16.623,
          16.623,
          16.623,
          16.623,
          16.029,
          16.029,
          16.029,
          17.127,
          17.127,
          17.127,
          17.127,
          15.009,
          11.882,
          11.882,
          11.882,
          21.712,
          21.712,
          21.712,
          21.712,
          21.712,
          21.712,
          21.712,
          21.712,
          21.712,
          21.712,
          19.649,
          19.649,
          10.435,
          10.435,
          9.38,
          14.695,
          14.695,
          10.424,
          13.563,
          15.468,
          15.468,
          15.468,
          15.468,
          15.468,
          15.468,
          15.468,
          13.563,
          17.15,
          12.498,
          15.805,
          15.805,
          15.805,
          15.805,
          15.805,
          15.805,
          17.374,
          20.961,
          20.961,
          20.961,
          20.961,
          20.961,
          20.961,
          20.961,
          20.961,
          20.961,
          16.107,
          16.107,
          13.899,
          9.528,
          13.787,
          16.388,
          16.388,
          16.388,
          13.787,
          13.787,
          13.787,
          13.787,
          13.787,
          13.787,
          15.468,
          15.468,
          15.468,
          15.468,
          15.468,
          13.563,
          13.563,
          13.563,
          13.563,
          13.563,
          15.917,
          15.917,
          15.917,
          15.917,
          15.917,
          15.917,
          15.917,
          15.917,
          15.917,
          17.363,
          17.363,
          17.363,
          17.363,
          10.761,
          10.761,
          10.761,
          10.761,
          17.71,
          17.71,
          17.71,
          15.805,
          15.805,
          15.805,
          15.805,
          14.796,
          14.796,
          14.796,
          14.796,
          15.805,
          15.805,
          15.805,
          15.244,
          15.244,
          15.244,
          15.244,
          14.235,
          14.235,
          20.512,
          21.633,
          21.633,
          21.633,
          21.633,
          18.719,
          18.719,
          18.719,
          18.719,
          18.271,
          16.376,
          17.901,
          17.71,
          17.71,
          17.71,
          23.203,
          15.39
         ],
         "yaxis": "y"
        }
       ],
       "layout": {
        "height": 600,
        "legend": {
         "itemsizing": "constant",
         "title": {
          "text": "Habitability"
         },
         "tracegroupgap": 0
        },
        "template": {
         "data": {
          "bar": [
           {
            "error_x": {
             "color": "#2a3f5f"
            },
            "error_y": {
             "color": "#2a3f5f"
            },
            "marker": {
             "line": {
              "color": "#E5ECF6",
              "width": 0.5
             },
             "pattern": {
              "fillmode": "overlay",
              "size": 10,
              "solidity": 0.2
             }
            },
            "type": "bar"
           }
          ],
          "barpolar": [
           {
            "marker": {
             "line": {
              "color": "#E5ECF6",
              "width": 0.5
             },
             "pattern": {
              "fillmode": "overlay",
              "size": 10,
              "solidity": 0.2
             }
            },
            "type": "barpolar"
           }
          ],
          "carpet": [
           {
            "aaxis": {
             "endlinecolor": "#2a3f5f",
             "gridcolor": "white",
             "linecolor": "white",
             "minorgridcolor": "white",
             "startlinecolor": "#2a3f5f"
            },
            "baxis": {
             "endlinecolor": "#2a3f5f",
             "gridcolor": "white",
             "linecolor": "white",
             "minorgridcolor": "white",
             "startlinecolor": "#2a3f5f"
            },
            "type": "carpet"
           }
          ],
          "choropleth": [
           {
            "colorbar": {
             "outlinewidth": 0,
             "ticks": ""
            },
            "type": "choropleth"
           }
          ],
          "contour": [
           {
            "colorbar": {
             "outlinewidth": 0,
             "ticks": ""
            },
            "colorscale": [
             [
              0,
              "#0d0887"
             ],
             [
              0.1111111111111111,
              "#46039f"
             ],
             [
              0.2222222222222222,
              "#7201a8"
             ],
             [
              0.3333333333333333,
              "#9c179e"
             ],
             [
              0.4444444444444444,
              "#bd3786"
             ],
             [
              0.5555555555555556,
              "#d8576b"
             ],
             [
              0.6666666666666666,
              "#ed7953"
             ],
             [
              0.7777777777777778,
              "#fb9f3a"
             ],
             [
              0.8888888888888888,
              "#fdca26"
             ],
             [
              1,
              "#f0f921"
             ]
            ],
            "type": "contour"
           }
          ],
          "contourcarpet": [
           {
            "colorbar": {
             "outlinewidth": 0,
             "ticks": ""
            },
            "type": "contourcarpet"
           }
          ],
          "heatmap": [
           {
            "colorbar": {
             "outlinewidth": 0,
             "ticks": ""
            },
            "colorscale": [
             [
              0,
              "#0d0887"
             ],
             [
              0.1111111111111111,
              "#46039f"
             ],
             [
              0.2222222222222222,
              "#7201a8"
             ],
             [
              0.3333333333333333,
              "#9c179e"
             ],
             [
              0.4444444444444444,
              "#bd3786"
             ],
             [
              0.5555555555555556,
              "#d8576b"
             ],
             [
              0.6666666666666666,
              "#ed7953"
             ],
             [
              0.7777777777777778,
              "#fb9f3a"
             ],
             [
              0.8888888888888888,
              "#fdca26"
             ],
             [
              1,
              "#f0f921"
             ]
            ],
            "type": "heatmap"
           }
          ],
          "heatmapgl": [
           {
            "colorbar": {
             "outlinewidth": 0,
             "ticks": ""
            },
            "colorscale": [
             [
              0,
              "#0d0887"
             ],
             [
              0.1111111111111111,
              "#46039f"
             ],
             [
              0.2222222222222222,
              "#7201a8"
             ],
             [
              0.3333333333333333,
              "#9c179e"
             ],
             [
              0.4444444444444444,
              "#bd3786"
             ],
             [
              0.5555555555555556,
              "#d8576b"
             ],
             [
              0.6666666666666666,
              "#ed7953"
             ],
             [
              0.7777777777777778,
              "#fb9f3a"
             ],
             [
              0.8888888888888888,
              "#fdca26"
             ],
             [
              1,
              "#f0f921"
             ]
            ],
            "type": "heatmapgl"
           }
          ],
          "histogram": [
           {
            "marker": {
             "pattern": {
              "fillmode": "overlay",
              "size": 10,
              "solidity": 0.2
             }
            },
            "type": "histogram"
           }
          ],
          "histogram2d": [
           {
            "colorbar": {
             "outlinewidth": 0,
             "ticks": ""
            },
            "colorscale": [
             [
              0,
              "#0d0887"
             ],
             [
              0.1111111111111111,
              "#46039f"
             ],
             [
              0.2222222222222222,
              "#7201a8"
             ],
             [
              0.3333333333333333,
              "#9c179e"
             ],
             [
              0.4444444444444444,
              "#bd3786"
             ],
             [
              0.5555555555555556,
              "#d8576b"
             ],
             [
              0.6666666666666666,
              "#ed7953"
             ],
             [
              0.7777777777777778,
              "#fb9f3a"
             ],
             [
              0.8888888888888888,
              "#fdca26"
             ],
             [
              1,
              "#f0f921"
             ]
            ],
            "type": "histogram2d"
           }
          ],
          "histogram2dcontour": [
           {
            "colorbar": {
             "outlinewidth": 0,
             "ticks": ""
            },
            "colorscale": [
             [
              0,
              "#0d0887"
             ],
             [
              0.1111111111111111,
              "#46039f"
             ],
             [
              0.2222222222222222,
              "#7201a8"
             ],
             [
              0.3333333333333333,
              "#9c179e"
             ],
             [
              0.4444444444444444,
              "#bd3786"
             ],
             [
              0.5555555555555556,
              "#d8576b"
             ],
             [
              0.6666666666666666,
              "#ed7953"
             ],
             [
              0.7777777777777778,
              "#fb9f3a"
             ],
             [
              0.8888888888888888,
              "#fdca26"
             ],
             [
              1,
              "#f0f921"
             ]
            ],
            "type": "histogram2dcontour"
           }
          ],
          "mesh3d": [
           {
            "colorbar": {
             "outlinewidth": 0,
             "ticks": ""
            },
            "type": "mesh3d"
           }
          ],
          "parcoords": [
           {
            "line": {
             "colorbar": {
              "outlinewidth": 0,
              "ticks": ""
             }
            },
            "type": "parcoords"
           }
          ],
          "pie": [
           {
            "automargin": true,
            "type": "pie"
           }
          ],
          "scatter": [
           {
            "fillpattern": {
             "fillmode": "overlay",
             "size": 10,
             "solidity": 0.2
            },
            "type": "scatter"
           }
          ],
          "scatter3d": [
           {
            "line": {
             "colorbar": {
              "outlinewidth": 0,
              "ticks": ""
             }
            },
            "marker": {
             "colorbar": {
              "outlinewidth": 0,
              "ticks": ""
             }
            },
            "type": "scatter3d"
           }
          ],
          "scattercarpet": [
           {
            "marker": {
             "colorbar": {
              "outlinewidth": 0,
              "ticks": ""
             }
            },
            "type": "scattercarpet"
           }
          ],
          "scattergeo": [
           {
            "marker": {
             "colorbar": {
              "outlinewidth": 0,
              "ticks": ""
             }
            },
            "type": "scattergeo"
           }
          ],
          "scattergl": [
           {
            "marker": {
             "colorbar": {
              "outlinewidth": 0,
              "ticks": ""
             }
            },
            "type": "scattergl"
           }
          ],
          "scattermapbox": [
           {
            "marker": {
             "colorbar": {
              "outlinewidth": 0,
              "ticks": ""
             }
            },
            "type": "scattermapbox"
           }
          ],
          "scatterpolar": [
           {
            "marker": {
             "colorbar": {
              "outlinewidth": 0,
              "ticks": ""
             }
            },
            "type": "scatterpolar"
           }
          ],
          "scatterpolargl": [
           {
            "marker": {
             "colorbar": {
              "outlinewidth": 0,
              "ticks": ""
             }
            },
            "type": "scatterpolargl"
           }
          ],
          "scatterternary": [
           {
            "marker": {
             "colorbar": {
              "outlinewidth": 0,
              "ticks": ""
             }
            },
            "type": "scatterternary"
           }
          ],
          "surface": [
           {
            "colorbar": {
             "outlinewidth": 0,
             "ticks": ""
            },
            "colorscale": [
             [
              0,
              "#0d0887"
             ],
             [
              0.1111111111111111,
              "#46039f"
             ],
             [
              0.2222222222222222,
              "#7201a8"
             ],
             [
              0.3333333333333333,
              "#9c179e"
             ],
             [
              0.4444444444444444,
              "#bd3786"
             ],
             [
              0.5555555555555556,
              "#d8576b"
             ],
             [
              0.6666666666666666,
              "#ed7953"
             ],
             [
              0.7777777777777778,
              "#fb9f3a"
             ],
             [
              0.8888888888888888,
              "#fdca26"
             ],
             [
              1,
              "#f0f921"
             ]
            ],
            "type": "surface"
           }
          ],
          "table": [
           {
            "cells": {
             "fill": {
              "color": "#EBF0F8"
             },
             "line": {
              "color": "white"
             }
            },
            "header": {
             "fill": {
              "color": "#C8D4E3"
             },
             "line": {
              "color": "white"
             }
            },
            "type": "table"
           }
          ]
         },
         "layout": {
          "annotationdefaults": {
           "arrowcolor": "#2a3f5f",
           "arrowhead": 0,
           "arrowwidth": 1
          },
          "autotypenumbers": "strict",
          "coloraxis": {
           "colorbar": {
            "outlinewidth": 0,
            "ticks": ""
           }
          },
          "colorscale": {
           "diverging": [
            [
             0,
             "#8e0152"
            ],
            [
             0.1,
             "#c51b7d"
            ],
            [
             0.2,
             "#de77ae"
            ],
            [
             0.3,
             "#f1b6da"
            ],
            [
             0.4,
             "#fde0ef"
            ],
            [
             0.5,
             "#f7f7f7"
            ],
            [
             0.6,
             "#e6f5d0"
            ],
            [
             0.7,
             "#b8e186"
            ],
            [
             0.8,
             "#7fbc41"
            ],
            [
             0.9,
             "#4d9221"
            ],
            [
             1,
             "#276419"
            ]
           ],
           "sequential": [
            [
             0,
             "#0d0887"
            ],
            [
             0.1111111111111111,
             "#46039f"
            ],
            [
             0.2222222222222222,
             "#7201a8"
            ],
            [
             0.3333333333333333,
             "#9c179e"
            ],
            [
             0.4444444444444444,
             "#bd3786"
            ],
            [
             0.5555555555555556,
             "#d8576b"
            ],
            [
             0.6666666666666666,
             "#ed7953"
            ],
            [
             0.7777777777777778,
             "#fb9f3a"
            ],
            [
             0.8888888888888888,
             "#fdca26"
            ],
            [
             1,
             "#f0f921"
            ]
           ],
           "sequentialminus": [
            [
             0,
             "#0d0887"
            ],
            [
             0.1111111111111111,
             "#46039f"
            ],
            [
             0.2222222222222222,
             "#7201a8"
            ],
            [
             0.3333333333333333,
             "#9c179e"
            ],
            [
             0.4444444444444444,
             "#bd3786"
            ],
            [
             0.5555555555555556,
             "#d8576b"
            ],
            [
             0.6666666666666666,
             "#ed7953"
            ],
            [
             0.7777777777777778,
             "#fb9f3a"
            ],
            [
             0.8888888888888888,
             "#fdca26"
            ],
            [
             1,
             "#f0f921"
            ]
           ]
          },
          "colorway": [
           "#636efa",
           "#EF553B",
           "#00cc96",
           "#ab63fa",
           "#FFA15A",
           "#19d3f3",
           "#FF6692",
           "#B6E880",
           "#FF97FF",
           "#FECB52"
          ],
          "font": {
           "color": "#2a3f5f"
          },
          "geo": {
           "bgcolor": "white",
           "lakecolor": "white",
           "landcolor": "#E5ECF6",
           "showlakes": true,
           "showland": true,
           "subunitcolor": "white"
          },
          "hoverlabel": {
           "align": "left"
          },
          "hovermode": "closest",
          "mapbox": {
           "style": "light"
          },
          "paper_bgcolor": "white",
          "plot_bgcolor": "#E5ECF6",
          "polar": {
           "angularaxis": {
            "gridcolor": "white",
            "linecolor": "white",
            "ticks": ""
           },
           "bgcolor": "#E5ECF6",
           "radialaxis": {
            "gridcolor": "white",
            "linecolor": "white",
            "ticks": ""
           }
          },
          "scene": {
           "xaxis": {
            "backgroundcolor": "#E5ECF6",
            "gridcolor": "white",
            "gridwidth": 2,
            "linecolor": "white",
            "showbackground": true,
            "ticks": "",
            "zerolinecolor": "white"
           },
           "yaxis": {
            "backgroundcolor": "#E5ECF6",
            "gridcolor": "white",
            "gridwidth": 2,
            "linecolor": "white",
            "showbackground": true,
            "ticks": "",
            "zerolinecolor": "white"
           },
           "zaxis": {
            "backgroundcolor": "#E5ECF6",
            "gridcolor": "white",
            "gridwidth": 2,
            "linecolor": "white",
            "showbackground": true,
            "ticks": "",
            "zerolinecolor": "white"
           }
          },
          "shapedefaults": {
           "line": {
            "color": "#2a3f5f"
           }
          },
          "ternary": {
           "aaxis": {
            "gridcolor": "white",
            "linecolor": "white",
            "ticks": ""
           },
           "baxis": {
            "gridcolor": "white",
            "linecolor": "white",
            "ticks": ""
           },
           "bgcolor": "#E5ECF6",
           "caxis": {
            "gridcolor": "white",
            "linecolor": "white",
            "ticks": ""
           }
          },
          "title": {
           "x": 0.05
          },
          "xaxis": {
           "automargin": true,
           "gridcolor": "white",
           "linecolor": "white",
           "ticks": "",
           "title": {
            "standoff": 15
           },
           "zerolinecolor": "white",
           "zerolinewidth": 2
          },
          "yaxis": {
           "automargin": true,
           "gridcolor": "white",
           "linecolor": "white",
           "ticks": "",
           "title": {
            "standoff": 15
           },
           "zerolinecolor": "white",
           "zerolinewidth": 2
          }
         }
        },
        "title": {
         "text": "Relationship of Radius, Luminosity and Mass(in Earth Unit) in Determining Planet Habitability",
         "x": 0.5,
         "xanchor": "center",
         "y": 0.9,
         "yanchor": "top"
        },
        "xaxis": {
         "anchor": "y",
         "domain": [
          0,
          1
         ],
         "title": {
          "text": "Stellar Luminosity"
         }
        },
        "yaxis": {
         "anchor": "x",
         "domain": [
          0,
          1
         ],
         "title": {
          "text": "Planet Radius (in Earth Unit)"
         }
        }
       }
      }
     },
     "metadata": {},
     "output_type": "display_data"
    }
   ],
   "source": [
    "exo_masse_non=exo_merge[exo_merge[\"pl_masse\"].notna()]\n",
    "habitability_fig = px.scatter(exo_masse_non, x=\"st_lum\", y=\"pl_rade\", color=\"habitability\", size=\"pl_masse\", hover_data=[\"pl_name\"],\n",
    "title=\"Relationship of Radius, Luminosity and Mass(in Earth Unit) in Determining Planet Habitability\",\n",
    "labels={\"st_lum\":\"Stellar Luminosity\",\n",
    "        \"pl_rade\": \"Planet Radius (in Earth Unit)\",\n",
    "        \"pl_masse\": \"Planet Mass (in Earth Unit)\",\n",
    "        \"habitability\": \"Habitability\"\n",
    "                 })\n",
    "habitability_fig.update_layout(\n",
    "    title={\n",
    "        'y':0.9,\n",
    "        'x':0.5,\n",
    "        'xanchor': 'center',\n",
    "        'yanchor': 'top'},\n",
    "        height=600)\n",
    "habitability_fig.show()"
   ]
  },
  {
   "cell_type": "code",
   "execution_count": 99,
   "metadata": {},
   "outputs": [
    {
     "data": {
      "text/html": [
       "<div>\n",
       "<style scoped>\n",
       "    .dataframe tbody tr th:only-of-type {\n",
       "        vertical-align: middle;\n",
       "    }\n",
       "\n",
       "    .dataframe tbody tr th {\n",
       "        vertical-align: top;\n",
       "    }\n",
       "\n",
       "    .dataframe thead th {\n",
       "        text-align: right;\n",
       "    }\n",
       "</style>\n",
       "<table border=\"1\" class=\"dataframe\">\n",
       "  <thead>\n",
       "    <tr style=\"text-align: right;\">\n",
       "      <th></th>\n",
       "      <th>0</th>\n",
       "    </tr>\n",
       "    <tr>\n",
       "      <th>rocky</th>\n",
       "      <th></th>\n",
       "    </tr>\n",
       "  </thead>\n",
       "  <tbody>\n",
       "    <tr>\n",
       "      <th>False</th>\n",
       "      <td>26459</td>\n",
       "    </tr>\n",
       "    <tr>\n",
       "      <th>True</th>\n",
       "      <td>8464</td>\n",
       "    </tr>\n",
       "  </tbody>\n",
       "</table>\n",
       "</div>"
      ],
      "text/plain": [
       "           0\n",
       "rocky       \n",
       "False  26459\n",
       "True    8464"
      ]
     },
     "metadata": {},
     "output_type": "display_data"
    },
    {
     "data": {
      "text/html": [
       "<div>\n",
       "<style scoped>\n",
       "    .dataframe tbody tr th:only-of-type {\n",
       "        vertical-align: middle;\n",
       "    }\n",
       "\n",
       "    .dataframe tbody tr th {\n",
       "        vertical-align: top;\n",
       "    }\n",
       "\n",
       "    .dataframe thead th {\n",
       "        text-align: right;\n",
       "    }\n",
       "</style>\n",
       "<table border=\"1\" class=\"dataframe\">\n",
       "  <thead>\n",
       "    <tr style=\"text-align: right;\">\n",
       "      <th></th>\n",
       "      <th>pl_name</th>\n",
       "      <th>hostname</th>\n",
       "      <th>sy_snum</th>\n",
       "      <th>sy_pnum</th>\n",
       "      <th>discoverymethod</th>\n",
       "      <th>disc_year</th>\n",
       "      <th>disc_facility</th>\n",
       "      <th>pl_controv_flag</th>\n",
       "      <th>pl_orbper</th>\n",
       "      <th>pl_orbsmax</th>\n",
       "      <th>...</th>\n",
       "      <th>sy_kmag</th>\n",
       "      <th>sy_gaiamag</th>\n",
       "      <th>generalized_spectype</th>\n",
       "      <th>rad_classification</th>\n",
       "      <th>koi_classification</th>\n",
       "      <th>r_inner</th>\n",
       "      <th>r_outer</th>\n",
       "      <th>habitability</th>\n",
       "      <th>pl_msinie</th>\n",
       "      <th>rocky</th>\n",
       "    </tr>\n",
       "  </thead>\n",
       "  <tbody>\n",
       "    <tr>\n",
       "      <th>341</th>\n",
       "      <td>DMPP-3 A b</td>\n",
       "      <td>DMPP-3 A</td>\n",
       "      <td>2</td>\n",
       "      <td>1</td>\n",
       "      <td>Radial Velocity</td>\n",
       "      <td>2019</td>\n",
       "      <td>La Silla Observatory</td>\n",
       "      <td>0</td>\n",
       "      <td>6.67320</td>\n",
       "      <td>0.06620</td>\n",
       "      <td>...</td>\n",
       "      <td>7.061</td>\n",
       "      <td>8.854298</td>\n",
       "      <td>K</td>\n",
       "      <td>Undefined</td>\n",
       "      <td>Exoplanet</td>\n",
       "      <td>NaN</td>\n",
       "      <td>NaN</td>\n",
       "      <td>False</td>\n",
       "      <td>2.58</td>\n",
       "      <td>True</td>\n",
       "    </tr>\n",
       "    <tr>\n",
       "      <th>342</th>\n",
       "      <td>DMPP-3 A b</td>\n",
       "      <td>DMPP-3 A</td>\n",
       "      <td>2</td>\n",
       "      <td>1</td>\n",
       "      <td>Radial Velocity</td>\n",
       "      <td>2019</td>\n",
       "      <td>La Silla Observatory</td>\n",
       "      <td>0</td>\n",
       "      <td>6.67320</td>\n",
       "      <td>0.06620</td>\n",
       "      <td>...</td>\n",
       "      <td>7.061</td>\n",
       "      <td>8.854298</td>\n",
       "      <td>K</td>\n",
       "      <td>Undefined</td>\n",
       "      <td>Exoplanet</td>\n",
       "      <td>NaN</td>\n",
       "      <td>NaN</td>\n",
       "      <td>False</td>\n",
       "      <td>2.58</td>\n",
       "      <td>True</td>\n",
       "    </tr>\n",
       "    <tr>\n",
       "      <th>348</th>\n",
       "      <td>EPIC 201170410.02</td>\n",
       "      <td>EPIC 201170410</td>\n",
       "      <td>1</td>\n",
       "      <td>1</td>\n",
       "      <td>Transit</td>\n",
       "      <td>2020</td>\n",
       "      <td>K2</td>\n",
       "      <td>0</td>\n",
       "      <td>6.79870</td>\n",
       "      <td>0.03490</td>\n",
       "      <td>...</td>\n",
       "      <td>12.619</td>\n",
       "      <td>16.438600</td>\n",
       "      <td>Undefined</td>\n",
       "      <td>Undefined</td>\n",
       "      <td>Exoplanet</td>\n",
       "      <td>NaN</td>\n",
       "      <td>NaN</td>\n",
       "      <td>False</td>\n",
       "      <td>NaN</td>\n",
       "      <td>True</td>\n",
       "    </tr>\n",
       "    <tr>\n",
       "      <th>351</th>\n",
       "      <td>EPIC 201427007 b</td>\n",
       "      <td>EPIC 201427007</td>\n",
       "      <td>1</td>\n",
       "      <td>1</td>\n",
       "      <td>Transit</td>\n",
       "      <td>2021</td>\n",
       "      <td>K2</td>\n",
       "      <td>0</td>\n",
       "      <td>0.72091</td>\n",
       "      <td>0.00000</td>\n",
       "      <td>...</td>\n",
       "      <td>12.581</td>\n",
       "      <td>14.147000</td>\n",
       "      <td>Undefined</td>\n",
       "      <td>Undefined</td>\n",
       "      <td>Exoplanet</td>\n",
       "      <td>NaN</td>\n",
       "      <td>NaN</td>\n",
       "      <td>False</td>\n",
       "      <td>NaN</td>\n",
       "      <td>True</td>\n",
       "    </tr>\n",
       "    <tr>\n",
       "      <th>352</th>\n",
       "      <td>EPIC 201497682 b</td>\n",
       "      <td>EPIC 201497682</td>\n",
       "      <td>1</td>\n",
       "      <td>1</td>\n",
       "      <td>Transit</td>\n",
       "      <td>2019</td>\n",
       "      <td>K2</td>\n",
       "      <td>0</td>\n",
       "      <td>2.13174</td>\n",
       "      <td>0.00000</td>\n",
       "      <td>...</td>\n",
       "      <td>11.438</td>\n",
       "      <td>13.736800</td>\n",
       "      <td>Undefined</td>\n",
       "      <td>Undefined</td>\n",
       "      <td>Exoplanet</td>\n",
       "      <td>NaN</td>\n",
       "      <td>NaN</td>\n",
       "      <td>False</td>\n",
       "      <td>NaN</td>\n",
       "      <td>True</td>\n",
       "    </tr>\n",
       "    <tr>\n",
       "      <th>...</th>\n",
       "      <td>...</td>\n",
       "      <td>...</td>\n",
       "      <td>...</td>\n",
       "      <td>...</td>\n",
       "      <td>...</td>\n",
       "      <td>...</td>\n",
       "      <td>...</td>\n",
       "      <td>...</td>\n",
       "      <td>...</td>\n",
       "      <td>...</td>\n",
       "      <td>...</td>\n",
       "      <td>...</td>\n",
       "      <td>...</td>\n",
       "      <td>...</td>\n",
       "      <td>...</td>\n",
       "      <td>...</td>\n",
       "      <td>...</td>\n",
       "      <td>...</td>\n",
       "      <td>...</td>\n",
       "      <td>...</td>\n",
       "      <td>...</td>\n",
       "    </tr>\n",
       "    <tr>\n",
       "      <th>34810</th>\n",
       "      <td>YZ Cet d</td>\n",
       "      <td>YZ Cet</td>\n",
       "      <td>1</td>\n",
       "      <td>3</td>\n",
       "      <td>Radial Velocity</td>\n",
       "      <td>2017</td>\n",
       "      <td>La Silla Observatory</td>\n",
       "      <td>0</td>\n",
       "      <td>4.65626</td>\n",
       "      <td>0.02851</td>\n",
       "      <td>...</td>\n",
       "      <td>6.420</td>\n",
       "      <td>10.429400</td>\n",
       "      <td>M</td>\n",
       "      <td>Undefined</td>\n",
       "      <td>Exoplanet</td>\n",
       "      <td>NaN</td>\n",
       "      <td>NaN</td>\n",
       "      <td>False</td>\n",
       "      <td>1.21</td>\n",
       "      <td>True</td>\n",
       "    </tr>\n",
       "    <tr>\n",
       "      <th>34811</th>\n",
       "      <td>YZ Cet d</td>\n",
       "      <td>YZ Cet</td>\n",
       "      <td>1</td>\n",
       "      <td>3</td>\n",
       "      <td>Radial Velocity</td>\n",
       "      <td>2017</td>\n",
       "      <td>La Silla Observatory</td>\n",
       "      <td>0</td>\n",
       "      <td>4.65626</td>\n",
       "      <td>0.02851</td>\n",
       "      <td>...</td>\n",
       "      <td>6.420</td>\n",
       "      <td>10.429400</td>\n",
       "      <td>M</td>\n",
       "      <td>Undefined</td>\n",
       "      <td>Exoplanet</td>\n",
       "      <td>NaN</td>\n",
       "      <td>NaN</td>\n",
       "      <td>False</td>\n",
       "      <td>1.09</td>\n",
       "      <td>True</td>\n",
       "    </tr>\n",
       "    <tr>\n",
       "      <th>34812</th>\n",
       "      <td>YZ Cet d</td>\n",
       "      <td>YZ Cet</td>\n",
       "      <td>1</td>\n",
       "      <td>3</td>\n",
       "      <td>Radial Velocity</td>\n",
       "      <td>2017</td>\n",
       "      <td>La Silla Observatory</td>\n",
       "      <td>0</td>\n",
       "      <td>4.65626</td>\n",
       "      <td>0.02851</td>\n",
       "      <td>...</td>\n",
       "      <td>6.420</td>\n",
       "      <td>10.429400</td>\n",
       "      <td>M</td>\n",
       "      <td>Undefined</td>\n",
       "      <td>Exoplanet</td>\n",
       "      <td>NaN</td>\n",
       "      <td>NaN</td>\n",
       "      <td>False</td>\n",
       "      <td>1.14</td>\n",
       "      <td>True</td>\n",
       "    </tr>\n",
       "    <tr>\n",
       "      <th>34897</th>\n",
       "      <td>tau Cet g</td>\n",
       "      <td>tau Cet</td>\n",
       "      <td>1</td>\n",
       "      <td>4</td>\n",
       "      <td>Radial Velocity</td>\n",
       "      <td>2017</td>\n",
       "      <td>Multiple Observatories</td>\n",
       "      <td>0</td>\n",
       "      <td>20.00000</td>\n",
       "      <td>0.13300</td>\n",
       "      <td>...</td>\n",
       "      <td>1.794</td>\n",
       "      <td>3.248540</td>\n",
       "      <td>G</td>\n",
       "      <td>Undefined</td>\n",
       "      <td>Exoplanet</td>\n",
       "      <td>NaN</td>\n",
       "      <td>NaN</td>\n",
       "      <td>False</td>\n",
       "      <td>1.75</td>\n",
       "      <td>True</td>\n",
       "    </tr>\n",
       "    <tr>\n",
       "      <th>34898</th>\n",
       "      <td>tau Cet h</td>\n",
       "      <td>tau Cet</td>\n",
       "      <td>1</td>\n",
       "      <td>4</td>\n",
       "      <td>Radial Velocity</td>\n",
       "      <td>2017</td>\n",
       "      <td>Multiple Observatories</td>\n",
       "      <td>0</td>\n",
       "      <td>49.41000</td>\n",
       "      <td>0.24300</td>\n",
       "      <td>...</td>\n",
       "      <td>1.794</td>\n",
       "      <td>3.248540</td>\n",
       "      <td>G</td>\n",
       "      <td>Undefined</td>\n",
       "      <td>Exoplanet</td>\n",
       "      <td>NaN</td>\n",
       "      <td>NaN</td>\n",
       "      <td>False</td>\n",
       "      <td>1.83</td>\n",
       "      <td>True</td>\n",
       "    </tr>\n",
       "  </tbody>\n",
       "</table>\n",
       "<p>8464 rows × 44 columns</p>\n",
       "</div>"
      ],
      "text/plain": [
       "                 pl_name        hostname  sy_snum  sy_pnum  discoverymethod  \\\n",
       "341           DMPP-3 A b        DMPP-3 A        2        1  Radial Velocity   \n",
       "342           DMPP-3 A b        DMPP-3 A        2        1  Radial Velocity   \n",
       "348    EPIC 201170410.02  EPIC 201170410        1        1          Transit   \n",
       "351     EPIC 201427007 b  EPIC 201427007        1        1          Transit   \n",
       "352     EPIC 201497682 b  EPIC 201497682        1        1          Transit   \n",
       "...                  ...             ...      ...      ...              ...   \n",
       "34810           YZ Cet d          YZ Cet        1        3  Radial Velocity   \n",
       "34811           YZ Cet d          YZ Cet        1        3  Radial Velocity   \n",
       "34812           YZ Cet d          YZ Cet        1        3  Radial Velocity   \n",
       "34897          tau Cet g         tau Cet        1        4  Radial Velocity   \n",
       "34898          tau Cet h         tau Cet        1        4  Radial Velocity   \n",
       "\n",
       "       disc_year           disc_facility  pl_controv_flag  pl_orbper  \\\n",
       "341         2019    La Silla Observatory                0    6.67320   \n",
       "342         2019    La Silla Observatory                0    6.67320   \n",
       "348         2020                      K2                0    6.79870   \n",
       "351         2021                      K2                0    0.72091   \n",
       "352         2019                      K2                0    2.13174   \n",
       "...          ...                     ...              ...        ...   \n",
       "34810       2017    La Silla Observatory                0    4.65626   \n",
       "34811       2017    La Silla Observatory                0    4.65626   \n",
       "34812       2017    La Silla Observatory                0    4.65626   \n",
       "34897       2017  Multiple Observatories                0   20.00000   \n",
       "34898       2017  Multiple Observatories                0   49.41000   \n",
       "\n",
       "       pl_orbsmax  ...  sy_kmag  sy_gaiamag  generalized_spectype  \\\n",
       "341       0.06620  ...    7.061    8.854298                     K   \n",
       "342       0.06620  ...    7.061    8.854298                     K   \n",
       "348       0.03490  ...   12.619   16.438600             Undefined   \n",
       "351       0.00000  ...   12.581   14.147000             Undefined   \n",
       "352       0.00000  ...   11.438   13.736800             Undefined   \n",
       "...           ...  ...      ...         ...                   ...   \n",
       "34810     0.02851  ...    6.420   10.429400                     M   \n",
       "34811     0.02851  ...    6.420   10.429400                     M   \n",
       "34812     0.02851  ...    6.420   10.429400                     M   \n",
       "34897     0.13300  ...    1.794    3.248540                     G   \n",
       "34898     0.24300  ...    1.794    3.248540                     G   \n",
       "\n",
       "       rad_classification koi_classification  r_inner  r_outer  habitability  \\\n",
       "341             Undefined          Exoplanet      NaN      NaN         False   \n",
       "342             Undefined          Exoplanet      NaN      NaN         False   \n",
       "348             Undefined          Exoplanet      NaN      NaN         False   \n",
       "351             Undefined          Exoplanet      NaN      NaN         False   \n",
       "352             Undefined          Exoplanet      NaN      NaN         False   \n",
       "...                   ...                ...      ...      ...           ...   \n",
       "34810           Undefined          Exoplanet      NaN      NaN         False   \n",
       "34811           Undefined          Exoplanet      NaN      NaN         False   \n",
       "34812           Undefined          Exoplanet      NaN      NaN         False   \n",
       "34897           Undefined          Exoplanet      NaN      NaN         False   \n",
       "34898           Undefined          Exoplanet      NaN      NaN         False   \n",
       "\n",
       "       pl_msinie  rocky  \n",
       "341         2.58   True  \n",
       "342         2.58   True  \n",
       "348          NaN   True  \n",
       "351          NaN   True  \n",
       "352          NaN   True  \n",
       "...          ...    ...  \n",
       "34810       1.21   True  \n",
       "34811       1.09   True  \n",
       "34812       1.14   True  \n",
       "34897       1.75   True  \n",
       "34898       1.83   True  \n",
       "\n",
       "[8464 rows x 44 columns]"
      ]
     },
     "execution_count": 99,
     "metadata": {},
     "output_type": "execute_result"
    }
   ],
   "source": [
    "def apply_rocky(row):\n",
    "    return True if ((row[\"pl_rade\"] > 0.5) & (row[\"pl_rade\"] <= 1.6)) or ((row[\"pl_msinie\"] > 0.1) & (row[\"pl_msinie\"] <= 3)) else False\n",
    "\n",
    "exo_merge[\"rocky\"] = exo_merge.apply(apply_rocky, axis=1)\n",
    "display(exo_merge.groupby([\"rocky\"]).size().to_frame())\n",
    "exo_merge[(exo_merge[\"rocky\"] == True)]"
   ]
  }
 ],
 "metadata": {
  "kernelspec": {
   "display_name": "base",
   "language": "python",
   "name": "python3"
  },
  "language_info": {
   "codemirror_mode": {
    "name": "ipython",
    "version": 3
   },
   "file_extension": ".py",
   "mimetype": "text/x-python",
   "name": "python",
   "nbconvert_exporter": "python",
   "pygments_lexer": "ipython3",
   "version": "3.9.12"
  },
  "orig_nbformat": 4
 },
 "nbformat": 4,
 "nbformat_minor": 2
}
