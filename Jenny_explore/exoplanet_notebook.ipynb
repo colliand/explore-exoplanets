{
 "cells": [
  {
   "cell_type": "code",
   "execution_count": 116,
   "metadata": {},
   "outputs": [],
   "source": [
    "import pandas as pd\n",
    "import numpy as np\n",
    "import plotly.express as px\n",
    "from sklearn.linear_model import LogisticRegression\n",
    "from sklearn.model_selection import train_test_split\n",
    "import plotly.graph_objects as go\n",
    "from sklearn.tree import DecisionTreeClassifier\n",
    "from sklearn.metrics import accuracy_score\n",
    "from sklearn.ensemble import RandomForestClassifier"
   ]
  },
  {
   "cell_type": "markdown",
   "metadata": {},
   "source": [
    "So far, this notebook has 3 topics:\n",
    "1. Basic Exploration\n",
    "2. Feature Importance for Kepler Identification\n",
    "3. Planet Habitability"
   ]
  },
  {
   "cell_type": "code",
   "execution_count": 4,
   "metadata": {},
   "outputs": [
    {
     "data": {
      "text/html": [
       "<div>\n",
       "<style scoped>\n",
       "    .dataframe tbody tr th:only-of-type {\n",
       "        vertical-align: middle;\n",
       "    }\n",
       "\n",
       "    .dataframe tbody tr th {\n",
       "        vertical-align: top;\n",
       "    }\n",
       "\n",
       "    .dataframe thead th {\n",
       "        text-align: right;\n",
       "    }\n",
       "</style>\n",
       "<table border=\"1\" class=\"dataframe\">\n",
       "  <thead>\n",
       "    <tr style=\"text-align: right;\">\n",
       "      <th></th>\n",
       "      <th>pl_name</th>\n",
       "      <th>hostname</th>\n",
       "      <th>sy_snum</th>\n",
       "      <th>sy_pnum</th>\n",
       "      <th>discoverymethod</th>\n",
       "      <th>disc_year</th>\n",
       "      <th>disc_facility</th>\n",
       "      <th>pl_controv_flag</th>\n",
       "      <th>pl_orbper</th>\n",
       "      <th>pl_orbsmax</th>\n",
       "      <th>...</th>\n",
       "      <th>st_lum</th>\n",
       "      <th>st_logg</th>\n",
       "      <th>rastr</th>\n",
       "      <th>ra</th>\n",
       "      <th>decstr</th>\n",
       "      <th>dec</th>\n",
       "      <th>sy_dist</th>\n",
       "      <th>sy_vmag</th>\n",
       "      <th>sy_kmag</th>\n",
       "      <th>sy_gaiamag</th>\n",
       "    </tr>\n",
       "  </thead>\n",
       "  <tbody>\n",
       "    <tr>\n",
       "      <th>0</th>\n",
       "      <td>11 Com b</td>\n",
       "      <td>11 Com</td>\n",
       "      <td>2</td>\n",
       "      <td>1</td>\n",
       "      <td>Radial Velocity</td>\n",
       "      <td>2007</td>\n",
       "      <td>Xinglong Station</td>\n",
       "      <td>0</td>\n",
       "      <td>326.03000</td>\n",
       "      <td>1.290</td>\n",
       "      <td>...</td>\n",
       "      <td>2.243</td>\n",
       "      <td>2.31</td>\n",
       "      <td>12h20m42.91s</td>\n",
       "      <td>185.178779</td>\n",
       "      <td>+17d47m35.71s</td>\n",
       "      <td>17.793252</td>\n",
       "      <td>93.1846</td>\n",
       "      <td>4.72307</td>\n",
       "      <td>2.282</td>\n",
       "      <td>4.44038</td>\n",
       "    </tr>\n",
       "    <tr>\n",
       "      <th>1</th>\n",
       "      <td>11 UMi b</td>\n",
       "      <td>11 UMi</td>\n",
       "      <td>1</td>\n",
       "      <td>1</td>\n",
       "      <td>Radial Velocity</td>\n",
       "      <td>2009</td>\n",
       "      <td>Thueringer Landessternwarte Tautenburg</td>\n",
       "      <td>0</td>\n",
       "      <td>516.21997</td>\n",
       "      <td>1.530</td>\n",
       "      <td>...</td>\n",
       "      <td>2.430</td>\n",
       "      <td>1.93</td>\n",
       "      <td>15h17m05.90s</td>\n",
       "      <td>229.274595</td>\n",
       "      <td>+71d49m26.19s</td>\n",
       "      <td>71.823943</td>\n",
       "      <td>125.3210</td>\n",
       "      <td>5.01300</td>\n",
       "      <td>1.939</td>\n",
       "      <td>4.56216</td>\n",
       "    </tr>\n",
       "    <tr>\n",
       "      <th>2</th>\n",
       "      <td>14 And b</td>\n",
       "      <td>14 And</td>\n",
       "      <td>1</td>\n",
       "      <td>1</td>\n",
       "      <td>Radial Velocity</td>\n",
       "      <td>2008</td>\n",
       "      <td>Okayama Astrophysical Observatory</td>\n",
       "      <td>0</td>\n",
       "      <td>185.84000</td>\n",
       "      <td>0.830</td>\n",
       "      <td>...</td>\n",
       "      <td>1.763</td>\n",
       "      <td>2.63</td>\n",
       "      <td>23h31m17.80s</td>\n",
       "      <td>352.824150</td>\n",
       "      <td>+39d14m09.01s</td>\n",
       "      <td>39.235837</td>\n",
       "      <td>75.4392</td>\n",
       "      <td>5.23133</td>\n",
       "      <td>2.331</td>\n",
       "      <td>4.91781</td>\n",
       "    </tr>\n",
       "    <tr>\n",
       "      <th>3</th>\n",
       "      <td>14 Her b</td>\n",
       "      <td>14 Her</td>\n",
       "      <td>1</td>\n",
       "      <td>2</td>\n",
       "      <td>Radial Velocity</td>\n",
       "      <td>2002</td>\n",
       "      <td>W. M. Keck Observatory</td>\n",
       "      <td>0</td>\n",
       "      <td>1765.03890</td>\n",
       "      <td>2.774</td>\n",
       "      <td>...</td>\n",
       "      <td>-0.153</td>\n",
       "      <td>4.45</td>\n",
       "      <td>16h10m24.50s</td>\n",
       "      <td>242.602101</td>\n",
       "      <td>+43d48m58.90s</td>\n",
       "      <td>43.816362</td>\n",
       "      <td>17.9323</td>\n",
       "      <td>6.61935</td>\n",
       "      <td>4.714</td>\n",
       "      <td>6.38300</td>\n",
       "    </tr>\n",
       "    <tr>\n",
       "      <th>4</th>\n",
       "      <td>16 Cyg B b</td>\n",
       "      <td>16 Cyg B</td>\n",
       "      <td>3</td>\n",
       "      <td>1</td>\n",
       "      <td>Radial Velocity</td>\n",
       "      <td>1996</td>\n",
       "      <td>Multiple Observatories</td>\n",
       "      <td>0</td>\n",
       "      <td>798.50000</td>\n",
       "      <td>1.660</td>\n",
       "      <td>...</td>\n",
       "      <td>0.097</td>\n",
       "      <td>4.36</td>\n",
       "      <td>19h41m51.75s</td>\n",
       "      <td>295.465642</td>\n",
       "      <td>+50d31m00.57s</td>\n",
       "      <td>50.516824</td>\n",
       "      <td>21.1397</td>\n",
       "      <td>6.21500</td>\n",
       "      <td>4.651</td>\n",
       "      <td>6.06428</td>\n",
       "    </tr>\n",
       "  </tbody>\n",
       "</table>\n",
       "<p>5 rows × 36 columns</p>\n",
       "</div>"
      ],
      "text/plain": [
       "      pl_name  hostname  sy_snum  sy_pnum  discoverymethod  disc_year  \\\n",
       "0    11 Com b    11 Com        2        1  Radial Velocity       2007   \n",
       "1    11 UMi b    11 UMi        1        1  Radial Velocity       2009   \n",
       "2    14 And b    14 And        1        1  Radial Velocity       2008   \n",
       "3    14 Her b    14 Her        1        2  Radial Velocity       2002   \n",
       "4  16 Cyg B b  16 Cyg B        3        1  Radial Velocity       1996   \n",
       "\n",
       "                            disc_facility  pl_controv_flag   pl_orbper  \\\n",
       "0                        Xinglong Station                0   326.03000   \n",
       "1  Thueringer Landessternwarte Tautenburg                0   516.21997   \n",
       "2       Okayama Astrophysical Observatory                0   185.84000   \n",
       "3                  W. M. Keck Observatory                0  1765.03890   \n",
       "4                  Multiple Observatories                0   798.50000   \n",
       "\n",
       "   pl_orbsmax  ...  st_lum  st_logg         rastr          ra         decstr  \\\n",
       "0       1.290  ...   2.243     2.31  12h20m42.91s  185.178779  +17d47m35.71s   \n",
       "1       1.530  ...   2.430     1.93  15h17m05.90s  229.274595  +71d49m26.19s   \n",
       "2       0.830  ...   1.763     2.63  23h31m17.80s  352.824150  +39d14m09.01s   \n",
       "3       2.774  ...  -0.153     4.45  16h10m24.50s  242.602101  +43d48m58.90s   \n",
       "4       1.660  ...   0.097     4.36  19h41m51.75s  295.465642  +50d31m00.57s   \n",
       "\n",
       "         dec   sy_dist  sy_vmag  sy_kmag  sy_gaiamag  \n",
       "0  17.793252   93.1846  4.72307    2.282     4.44038  \n",
       "1  71.823943  125.3210  5.01300    1.939     4.56216  \n",
       "2  39.235837   75.4392  5.23133    2.331     4.91781  \n",
       "3  43.816362   17.9323  6.61935    4.714     6.38300  \n",
       "4  50.516824   21.1397  6.21500    4.651     6.06428  \n",
       "\n",
       "[5 rows x 36 columns]"
      ]
     },
     "execution_count": 4,
     "metadata": {},
     "output_type": "execute_result"
    }
   ],
   "source": [
    "exo = pd.read_csv(\"data/composite_with_lum_dist.csv\", skiprows=42)\n",
    "exo.head()"
   ]
  },
  {
   "cell_type": "code",
   "execution_count": 9,
   "metadata": {},
   "outputs": [
    {
     "data": {
      "text/plain": [
       "['pl_name',\n",
       " 'hostname',\n",
       " 'sy_snum',\n",
       " 'sy_pnum',\n",
       " 'discoverymethod',\n",
       " 'disc_year',\n",
       " 'disc_facility',\n",
       " 'pl_controv_flag',\n",
       " 'pl_orbper',\n",
       " 'pl_orbsmax',\n",
       " 'pl_rade',\n",
       " 'pl_radj',\n",
       " 'pl_bmasse',\n",
       " 'pl_bmassj',\n",
       " 'pl_bmassprov',\n",
       " 'pl_orbeccen',\n",
       " 'pl_insol',\n",
       " 'pl_eqt',\n",
       " 'ttv_flag',\n",
       " 'pl_ratdor',\n",
       " 'st_spectype',\n",
       " 'st_teff',\n",
       " 'st_rad',\n",
       " 'st_mass',\n",
       " 'st_met',\n",
       " 'st_metratio',\n",
       " 'st_lum',\n",
       " 'st_logg',\n",
       " 'rastr',\n",
       " 'ra',\n",
       " 'decstr',\n",
       " 'dec',\n",
       " 'sy_dist',\n",
       " 'sy_vmag',\n",
       " 'sy_kmag',\n",
       " 'sy_gaiamag',\n",
       " 'st_spectype_modified']"
      ]
     },
     "execution_count": 9,
     "metadata": {},
     "output_type": "execute_result"
    }
   ],
   "source": [
    "exo.columns.tolist()"
   ]
  },
  {
   "cell_type": "markdown",
   "metadata": {},
   "source": [
    "## 1. Basic Exploration"
   ]
  },
  {
   "cell_type": "code",
   "execution_count": 117,
   "metadata": {},
   "outputs": [
    {
     "data": {
      "application/vnd.plotly.v1+json": {
       "config": {
        "plotlyServerURL": "https://plot.ly"
       },
       "data": [
        {
         "domain": {
          "x": [
           0,
           1
          ],
          "y": [
           0,
           1
          ]
         },
         "hovertemplate": "label=%{label}<br>value=%{value}<extra></extra>",
         "labels": [
          "Kepler",
          "K2",
          "Transiting Exoplanet Survey Satellite (TESS)",
          "Multiple Observatories",
          "La Silla Observatory",
          "W. M. Keck Observatory",
          "SuperWASP",
          "OGLE",
          "KMTNet",
          "HATSouth"
         ],
         "legendgroup": "",
         "name": "",
         "showlegend": true,
         "type": "pie",
         "values": [
          2778,
          548,
          363,
          281,
          276,
          184,
          113,
          97,
          79,
          73
         ]
        }
       ],
       "layout": {
        "legend": {
         "tracegroupgap": 0
        },
        "margin": {
         "t": 60
        },
        "template": {
         "data": {
          "bar": [
           {
            "error_x": {
             "color": "#2a3f5f"
            },
            "error_y": {
             "color": "#2a3f5f"
            },
            "marker": {
             "line": {
              "color": "#E5ECF6",
              "width": 0.5
             },
             "pattern": {
              "fillmode": "overlay",
              "size": 10,
              "solidity": 0.2
             }
            },
            "type": "bar"
           }
          ],
          "barpolar": [
           {
            "marker": {
             "line": {
              "color": "#E5ECF6",
              "width": 0.5
             },
             "pattern": {
              "fillmode": "overlay",
              "size": 10,
              "solidity": 0.2
             }
            },
            "type": "barpolar"
           }
          ],
          "carpet": [
           {
            "aaxis": {
             "endlinecolor": "#2a3f5f",
             "gridcolor": "white",
             "linecolor": "white",
             "minorgridcolor": "white",
             "startlinecolor": "#2a3f5f"
            },
            "baxis": {
             "endlinecolor": "#2a3f5f",
             "gridcolor": "white",
             "linecolor": "white",
             "minorgridcolor": "white",
             "startlinecolor": "#2a3f5f"
            },
            "type": "carpet"
           }
          ],
          "choropleth": [
           {
            "colorbar": {
             "outlinewidth": 0,
             "ticks": ""
            },
            "type": "choropleth"
           }
          ],
          "contour": [
           {
            "colorbar": {
             "outlinewidth": 0,
             "ticks": ""
            },
            "colorscale": [
             [
              0,
              "#0d0887"
             ],
             [
              0.1111111111111111,
              "#46039f"
             ],
             [
              0.2222222222222222,
              "#7201a8"
             ],
             [
              0.3333333333333333,
              "#9c179e"
             ],
             [
              0.4444444444444444,
              "#bd3786"
             ],
             [
              0.5555555555555556,
              "#d8576b"
             ],
             [
              0.6666666666666666,
              "#ed7953"
             ],
             [
              0.7777777777777778,
              "#fb9f3a"
             ],
             [
              0.8888888888888888,
              "#fdca26"
             ],
             [
              1,
              "#f0f921"
             ]
            ],
            "type": "contour"
           }
          ],
          "contourcarpet": [
           {
            "colorbar": {
             "outlinewidth": 0,
             "ticks": ""
            },
            "type": "contourcarpet"
           }
          ],
          "heatmap": [
           {
            "colorbar": {
             "outlinewidth": 0,
             "ticks": ""
            },
            "colorscale": [
             [
              0,
              "#0d0887"
             ],
             [
              0.1111111111111111,
              "#46039f"
             ],
             [
              0.2222222222222222,
              "#7201a8"
             ],
             [
              0.3333333333333333,
              "#9c179e"
             ],
             [
              0.4444444444444444,
              "#bd3786"
             ],
             [
              0.5555555555555556,
              "#d8576b"
             ],
             [
              0.6666666666666666,
              "#ed7953"
             ],
             [
              0.7777777777777778,
              "#fb9f3a"
             ],
             [
              0.8888888888888888,
              "#fdca26"
             ],
             [
              1,
              "#f0f921"
             ]
            ],
            "type": "heatmap"
           }
          ],
          "heatmapgl": [
           {
            "colorbar": {
             "outlinewidth": 0,
             "ticks": ""
            },
            "colorscale": [
             [
              0,
              "#0d0887"
             ],
             [
              0.1111111111111111,
              "#46039f"
             ],
             [
              0.2222222222222222,
              "#7201a8"
             ],
             [
              0.3333333333333333,
              "#9c179e"
             ],
             [
              0.4444444444444444,
              "#bd3786"
             ],
             [
              0.5555555555555556,
              "#d8576b"
             ],
             [
              0.6666666666666666,
              "#ed7953"
             ],
             [
              0.7777777777777778,
              "#fb9f3a"
             ],
             [
              0.8888888888888888,
              "#fdca26"
             ],
             [
              1,
              "#f0f921"
             ]
            ],
            "type": "heatmapgl"
           }
          ],
          "histogram": [
           {
            "marker": {
             "pattern": {
              "fillmode": "overlay",
              "size": 10,
              "solidity": 0.2
             }
            },
            "type": "histogram"
           }
          ],
          "histogram2d": [
           {
            "colorbar": {
             "outlinewidth": 0,
             "ticks": ""
            },
            "colorscale": [
             [
              0,
              "#0d0887"
             ],
             [
              0.1111111111111111,
              "#46039f"
             ],
             [
              0.2222222222222222,
              "#7201a8"
             ],
             [
              0.3333333333333333,
              "#9c179e"
             ],
             [
              0.4444444444444444,
              "#bd3786"
             ],
             [
              0.5555555555555556,
              "#d8576b"
             ],
             [
              0.6666666666666666,
              "#ed7953"
             ],
             [
              0.7777777777777778,
              "#fb9f3a"
             ],
             [
              0.8888888888888888,
              "#fdca26"
             ],
             [
              1,
              "#f0f921"
             ]
            ],
            "type": "histogram2d"
           }
          ],
          "histogram2dcontour": [
           {
            "colorbar": {
             "outlinewidth": 0,
             "ticks": ""
            },
            "colorscale": [
             [
              0,
              "#0d0887"
             ],
             [
              0.1111111111111111,
              "#46039f"
             ],
             [
              0.2222222222222222,
              "#7201a8"
             ],
             [
              0.3333333333333333,
              "#9c179e"
             ],
             [
              0.4444444444444444,
              "#bd3786"
             ],
             [
              0.5555555555555556,
              "#d8576b"
             ],
             [
              0.6666666666666666,
              "#ed7953"
             ],
             [
              0.7777777777777778,
              "#fb9f3a"
             ],
             [
              0.8888888888888888,
              "#fdca26"
             ],
             [
              1,
              "#f0f921"
             ]
            ],
            "type": "histogram2dcontour"
           }
          ],
          "mesh3d": [
           {
            "colorbar": {
             "outlinewidth": 0,
             "ticks": ""
            },
            "type": "mesh3d"
           }
          ],
          "parcoords": [
           {
            "line": {
             "colorbar": {
              "outlinewidth": 0,
              "ticks": ""
             }
            },
            "type": "parcoords"
           }
          ],
          "pie": [
           {
            "automargin": true,
            "type": "pie"
           }
          ],
          "scatter": [
           {
            "fillpattern": {
             "fillmode": "overlay",
             "size": 10,
             "solidity": 0.2
            },
            "type": "scatter"
           }
          ],
          "scatter3d": [
           {
            "line": {
             "colorbar": {
              "outlinewidth": 0,
              "ticks": ""
             }
            },
            "marker": {
             "colorbar": {
              "outlinewidth": 0,
              "ticks": ""
             }
            },
            "type": "scatter3d"
           }
          ],
          "scattercarpet": [
           {
            "marker": {
             "colorbar": {
              "outlinewidth": 0,
              "ticks": ""
             }
            },
            "type": "scattercarpet"
           }
          ],
          "scattergeo": [
           {
            "marker": {
             "colorbar": {
              "outlinewidth": 0,
              "ticks": ""
             }
            },
            "type": "scattergeo"
           }
          ],
          "scattergl": [
           {
            "marker": {
             "colorbar": {
              "outlinewidth": 0,
              "ticks": ""
             }
            },
            "type": "scattergl"
           }
          ],
          "scattermapbox": [
           {
            "marker": {
             "colorbar": {
              "outlinewidth": 0,
              "ticks": ""
             }
            },
            "type": "scattermapbox"
           }
          ],
          "scatterpolar": [
           {
            "marker": {
             "colorbar": {
              "outlinewidth": 0,
              "ticks": ""
             }
            },
            "type": "scatterpolar"
           }
          ],
          "scatterpolargl": [
           {
            "marker": {
             "colorbar": {
              "outlinewidth": 0,
              "ticks": ""
             }
            },
            "type": "scatterpolargl"
           }
          ],
          "scatterternary": [
           {
            "marker": {
             "colorbar": {
              "outlinewidth": 0,
              "ticks": ""
             }
            },
            "type": "scatterternary"
           }
          ],
          "surface": [
           {
            "colorbar": {
             "outlinewidth": 0,
             "ticks": ""
            },
            "colorscale": [
             [
              0,
              "#0d0887"
             ],
             [
              0.1111111111111111,
              "#46039f"
             ],
             [
              0.2222222222222222,
              "#7201a8"
             ],
             [
              0.3333333333333333,
              "#9c179e"
             ],
             [
              0.4444444444444444,
              "#bd3786"
             ],
             [
              0.5555555555555556,
              "#d8576b"
             ],
             [
              0.6666666666666666,
              "#ed7953"
             ],
             [
              0.7777777777777778,
              "#fb9f3a"
             ],
             [
              0.8888888888888888,
              "#fdca26"
             ],
             [
              1,
              "#f0f921"
             ]
            ],
            "type": "surface"
           }
          ],
          "table": [
           {
            "cells": {
             "fill": {
              "color": "#EBF0F8"
             },
             "line": {
              "color": "white"
             }
            },
            "header": {
             "fill": {
              "color": "#C8D4E3"
             },
             "line": {
              "color": "white"
             }
            },
            "type": "table"
           }
          ]
         },
         "layout": {
          "annotationdefaults": {
           "arrowcolor": "#2a3f5f",
           "arrowhead": 0,
           "arrowwidth": 1
          },
          "autotypenumbers": "strict",
          "coloraxis": {
           "colorbar": {
            "outlinewidth": 0,
            "ticks": ""
           }
          },
          "colorscale": {
           "diverging": [
            [
             0,
             "#8e0152"
            ],
            [
             0.1,
             "#c51b7d"
            ],
            [
             0.2,
             "#de77ae"
            ],
            [
             0.3,
             "#f1b6da"
            ],
            [
             0.4,
             "#fde0ef"
            ],
            [
             0.5,
             "#f7f7f7"
            ],
            [
             0.6,
             "#e6f5d0"
            ],
            [
             0.7,
             "#b8e186"
            ],
            [
             0.8,
             "#7fbc41"
            ],
            [
             0.9,
             "#4d9221"
            ],
            [
             1,
             "#276419"
            ]
           ],
           "sequential": [
            [
             0,
             "#0d0887"
            ],
            [
             0.1111111111111111,
             "#46039f"
            ],
            [
             0.2222222222222222,
             "#7201a8"
            ],
            [
             0.3333333333333333,
             "#9c179e"
            ],
            [
             0.4444444444444444,
             "#bd3786"
            ],
            [
             0.5555555555555556,
             "#d8576b"
            ],
            [
             0.6666666666666666,
             "#ed7953"
            ],
            [
             0.7777777777777778,
             "#fb9f3a"
            ],
            [
             0.8888888888888888,
             "#fdca26"
            ],
            [
             1,
             "#f0f921"
            ]
           ],
           "sequentialminus": [
            [
             0,
             "#0d0887"
            ],
            [
             0.1111111111111111,
             "#46039f"
            ],
            [
             0.2222222222222222,
             "#7201a8"
            ],
            [
             0.3333333333333333,
             "#9c179e"
            ],
            [
             0.4444444444444444,
             "#bd3786"
            ],
            [
             0.5555555555555556,
             "#d8576b"
            ],
            [
             0.6666666666666666,
             "#ed7953"
            ],
            [
             0.7777777777777778,
             "#fb9f3a"
            ],
            [
             0.8888888888888888,
             "#fdca26"
            ],
            [
             1,
             "#f0f921"
            ]
           ]
          },
          "colorway": [
           "#636efa",
           "#EF553B",
           "#00cc96",
           "#ab63fa",
           "#FFA15A",
           "#19d3f3",
           "#FF6692",
           "#B6E880",
           "#FF97FF",
           "#FECB52"
          ],
          "font": {
           "color": "#2a3f5f"
          },
          "geo": {
           "bgcolor": "white",
           "lakecolor": "white",
           "landcolor": "#E5ECF6",
           "showlakes": true,
           "showland": true,
           "subunitcolor": "white"
          },
          "hoverlabel": {
           "align": "left"
          },
          "hovermode": "closest",
          "mapbox": {
           "style": "light"
          },
          "paper_bgcolor": "white",
          "plot_bgcolor": "#E5ECF6",
          "polar": {
           "angularaxis": {
            "gridcolor": "white",
            "linecolor": "white",
            "ticks": ""
           },
           "bgcolor": "#E5ECF6",
           "radialaxis": {
            "gridcolor": "white",
            "linecolor": "white",
            "ticks": ""
           }
          },
          "scene": {
           "xaxis": {
            "backgroundcolor": "#E5ECF6",
            "gridcolor": "white",
            "gridwidth": 2,
            "linecolor": "white",
            "showbackground": true,
            "ticks": "",
            "zerolinecolor": "white"
           },
           "yaxis": {
            "backgroundcolor": "#E5ECF6",
            "gridcolor": "white",
            "gridwidth": 2,
            "linecolor": "white",
            "showbackground": true,
            "ticks": "",
            "zerolinecolor": "white"
           },
           "zaxis": {
            "backgroundcolor": "#E5ECF6",
            "gridcolor": "white",
            "gridwidth": 2,
            "linecolor": "white",
            "showbackground": true,
            "ticks": "",
            "zerolinecolor": "white"
           }
          },
          "shapedefaults": {
           "line": {
            "color": "#2a3f5f"
           }
          },
          "ternary": {
           "aaxis": {
            "gridcolor": "white",
            "linecolor": "white",
            "ticks": ""
           },
           "baxis": {
            "gridcolor": "white",
            "linecolor": "white",
            "ticks": ""
           },
           "bgcolor": "#E5ECF6",
           "caxis": {
            "gridcolor": "white",
            "linecolor": "white",
            "ticks": ""
           }
          },
          "title": {
           "x": 0.05
          },
          "xaxis": {
           "automargin": true,
           "gridcolor": "white",
           "linecolor": "white",
           "ticks": "",
           "title": {
            "standoff": 15
           },
           "zerolinecolor": "white",
           "zerolinewidth": 2
          },
          "yaxis": {
           "automargin": true,
           "gridcolor": "white",
           "linecolor": "white",
           "ticks": "",
           "title": {
            "standoff": 15
           },
           "zerolinecolor": "white",
           "zerolinewidth": 2
          }
         }
        }
       }
      }
     },
     "metadata": {},
     "output_type": "display_data"
    }
   ],
   "source": [
    "select_columns = [\"hostname\", \"st_spectype\", \"discoverymethod\"]\n",
    "def plot_basic_characteristic(column, data):\n",
    "\n",
    "      if column == \"st_spectype\":\n",
    "\n",
    "            def bolometric_cor_calc(row):\n",
    "                  if \"B\" in row[\"st_spectype\"]:\n",
    "                        return \"B\"\n",
    "                  elif \"A\" in row[\"st_spectype\"]:\n",
    "                        return \"A\"\n",
    "                  elif \"F\" in row[\"st_spectype\"]:\n",
    "                        return \"F\"\n",
    "                  elif \"G\" in row[\"st_spectype\"]:\n",
    "                        return \"G\"\n",
    "                  elif \"K\" in row[\"st_spectype\"]:\n",
    "                        return \"G\"\n",
    "                  elif \"M\" in row[\"st_spectype\"]:\n",
    "                        return \"M\"\n",
    "                  else:\n",
    "                        return \"Undefined\"\n",
    "\n",
    "            data[\"st_spectype\"].fillna('', inplace=True)\n",
    "            data[\"st_spectype_modified\"] = data.apply(bolometric_cor_calc, axis=1)\n",
    "            column = \"st_spectype_modified\"\n",
    "            \n",
    "      unique_c = data[column].unique().tolist()\n",
    "      findtop10 = exo.groupby([column]).size().to_frame()\n",
    "      findtop10 = findtop10.reset_index()\n",
    "      findtop10.columns = [column, \"count\"]\n",
    "      findtop10 = findtop10.sort_values(by=[\"count\"], ascending=False)\n",
    "      top10list = findtop10[column].iloc[0:10].tolist()\n",
    "      data = data[data[column].isin(top10list)]\n",
    "      values = [len(data[data[column] == item]) for item in top10list]\n",
    "      fig = px.pie(data, values=values, names=top10list)\n",
    "      fig.show()\n",
    "\n",
    "plot_basic_characteristic(\"disc_facility\", exo)"
   ]
  },
  {
   "cell_type": "markdown",
   "metadata": {},
   "source": [
    "### Exoplanet Classification\n",
    "- Gas Giant: planets the size of Saturn or Jupiter, the largest planet in our solar system, or much, much larger.\n",
    "- Neptunian: similar in size to Neptune or Uranus in our solar system. (Neptune is about four times the size, or radius, of Earth and almost 17 times its mass, or weight.)\n",
    "- Super-Earth: more massive than Earth, but lighter than Neptune.\n",
    "- Terrestrial: Earth sized and smaller, composed of rock, silicate, water or carbon.\n",
    "\n",
    "Source: \n",
    "- https://exoplanets.nasa.gov/what-is-an-exoplanet/planet-types/overview/#:~:text=So%20far%20scientists%20have%20categorized,%2C%20super%2DEarth%20and%20terrestrial.\n",
    "- https://iopscience.iop.org/article/10.3847/1538-4357/aab205#apjaab205s4"
   ]
  },
  {
   "cell_type": "code",
   "execution_count": 29,
   "metadata": {},
   "outputs": [
    {
     "data": {
      "text/html": [
       "<div>\n",
       "<style scoped>\n",
       "    .dataframe tbody tr th:only-of-type {\n",
       "        vertical-align: middle;\n",
       "    }\n",
       "\n",
       "    .dataframe tbody tr th {\n",
       "        vertical-align: top;\n",
       "    }\n",
       "\n",
       "    .dataframe thead th {\n",
       "        text-align: right;\n",
       "    }\n",
       "</style>\n",
       "<table border=\"1\" class=\"dataframe\">\n",
       "  <thead>\n",
       "    <tr style=\"text-align: right;\">\n",
       "      <th></th>\n",
       "      <th>0</th>\n",
       "    </tr>\n",
       "    <tr>\n",
       "      <th>rad_classification</th>\n",
       "      <th></th>\n",
       "    </tr>\n",
       "  </thead>\n",
       "  <tbody>\n",
       "    <tr>\n",
       "      <th>Jovian</th>\n",
       "      <td>1</td>\n",
       "    </tr>\n",
       "    <tr>\n",
       "      <th>Rocky</th>\n",
       "      <td>4</td>\n",
       "    </tr>\n",
       "    <tr>\n",
       "      <th>Sub Jovian</th>\n",
       "      <td>14</td>\n",
       "    </tr>\n",
       "    <tr>\n",
       "      <th>Sub Neptune</th>\n",
       "      <td>27</td>\n",
       "    </tr>\n",
       "    <tr>\n",
       "      <th>Super Earth</th>\n",
       "      <td>21</td>\n",
       "    </tr>\n",
       "    <tr>\n",
       "      <th>Undefined</th>\n",
       "      <td>5403</td>\n",
       "    </tr>\n",
       "  </tbody>\n",
       "</table>\n",
       "</div>"
      ],
      "text/plain": [
       "                       0\n",
       "rad_classification      \n",
       "Jovian                 1\n",
       "Rocky                  4\n",
       "Sub Jovian            14\n",
       "Sub Neptune           27\n",
       "Super Earth           21\n",
       "Undefined           5403"
      ]
     },
     "metadata": {},
     "output_type": "display_data"
    },
    {
     "data": {
      "text/html": [
       "<div>\n",
       "<style scoped>\n",
       "    .dataframe tbody tr th:only-of-type {\n",
       "        vertical-align: middle;\n",
       "    }\n",
       "\n",
       "    .dataframe tbody tr th {\n",
       "        vertical-align: top;\n",
       "    }\n",
       "\n",
       "    .dataframe thead th {\n",
       "        text-align: right;\n",
       "    }\n",
       "</style>\n",
       "<table border=\"1\" class=\"dataframe\">\n",
       "  <thead>\n",
       "    <tr style=\"text-align: right;\">\n",
       "      <th></th>\n",
       "      <th>pl_name</th>\n",
       "      <th>hostname</th>\n",
       "      <th>sy_snum</th>\n",
       "      <th>sy_pnum</th>\n",
       "      <th>discoverymethod</th>\n",
       "      <th>disc_year</th>\n",
       "      <th>disc_facility</th>\n",
       "      <th>pl_controv_flag</th>\n",
       "      <th>pl_orbper</th>\n",
       "      <th>pl_orbsmax</th>\n",
       "      <th>...</th>\n",
       "      <th>rastr</th>\n",
       "      <th>ra</th>\n",
       "      <th>decstr</th>\n",
       "      <th>dec</th>\n",
       "      <th>sy_dist</th>\n",
       "      <th>sy_vmag</th>\n",
       "      <th>sy_kmag</th>\n",
       "      <th>sy_gaiamag</th>\n",
       "      <th>st_spectype_modified</th>\n",
       "      <th>rad_classification</th>\n",
       "    </tr>\n",
       "  </thead>\n",
       "  <tbody>\n",
       "    <tr>\n",
       "      <th>0</th>\n",
       "      <td>11 Com b</td>\n",
       "      <td>11 Com</td>\n",
       "      <td>2</td>\n",
       "      <td>1</td>\n",
       "      <td>Radial Velocity</td>\n",
       "      <td>2007</td>\n",
       "      <td>Xinglong Station</td>\n",
       "      <td>0</td>\n",
       "      <td>326.03000</td>\n",
       "      <td>1.290</td>\n",
       "      <td>...</td>\n",
       "      <td>12h20m42.91s</td>\n",
       "      <td>185.178779</td>\n",
       "      <td>+17d47m35.71s</td>\n",
       "      <td>17.793252</td>\n",
       "      <td>93.1846</td>\n",
       "      <td>4.72307</td>\n",
       "      <td>2.282</td>\n",
       "      <td>4.44038</td>\n",
       "      <td>G</td>\n",
       "      <td>Undefined</td>\n",
       "    </tr>\n",
       "    <tr>\n",
       "      <th>1</th>\n",
       "      <td>11 UMi b</td>\n",
       "      <td>11 UMi</td>\n",
       "      <td>1</td>\n",
       "      <td>1</td>\n",
       "      <td>Radial Velocity</td>\n",
       "      <td>2009</td>\n",
       "      <td>Thueringer Landessternwarte Tautenburg</td>\n",
       "      <td>0</td>\n",
       "      <td>516.21997</td>\n",
       "      <td>1.530</td>\n",
       "      <td>...</td>\n",
       "      <td>15h17m05.90s</td>\n",
       "      <td>229.274595</td>\n",
       "      <td>+71d49m26.19s</td>\n",
       "      <td>71.823943</td>\n",
       "      <td>125.3210</td>\n",
       "      <td>5.01300</td>\n",
       "      <td>1.939</td>\n",
       "      <td>4.56216</td>\n",
       "      <td>G</td>\n",
       "      <td>Undefined</td>\n",
       "    </tr>\n",
       "    <tr>\n",
       "      <th>2</th>\n",
       "      <td>14 And b</td>\n",
       "      <td>14 And</td>\n",
       "      <td>1</td>\n",
       "      <td>1</td>\n",
       "      <td>Radial Velocity</td>\n",
       "      <td>2008</td>\n",
       "      <td>Okayama Astrophysical Observatory</td>\n",
       "      <td>0</td>\n",
       "      <td>185.84000</td>\n",
       "      <td>0.830</td>\n",
       "      <td>...</td>\n",
       "      <td>23h31m17.80s</td>\n",
       "      <td>352.824150</td>\n",
       "      <td>+39d14m09.01s</td>\n",
       "      <td>39.235837</td>\n",
       "      <td>75.4392</td>\n",
       "      <td>5.23133</td>\n",
       "      <td>2.331</td>\n",
       "      <td>4.91781</td>\n",
       "      <td>G</td>\n",
       "      <td>Undefined</td>\n",
       "    </tr>\n",
       "    <tr>\n",
       "      <th>3</th>\n",
       "      <td>14 Her b</td>\n",
       "      <td>14 Her</td>\n",
       "      <td>1</td>\n",
       "      <td>2</td>\n",
       "      <td>Radial Velocity</td>\n",
       "      <td>2002</td>\n",
       "      <td>W. M. Keck Observatory</td>\n",
       "      <td>0</td>\n",
       "      <td>1765.03890</td>\n",
       "      <td>2.774</td>\n",
       "      <td>...</td>\n",
       "      <td>16h10m24.50s</td>\n",
       "      <td>242.602101</td>\n",
       "      <td>+43d48m58.90s</td>\n",
       "      <td>43.816362</td>\n",
       "      <td>17.9323</td>\n",
       "      <td>6.61935</td>\n",
       "      <td>4.714</td>\n",
       "      <td>6.38300</td>\n",
       "      <td>G</td>\n",
       "      <td>Undefined</td>\n",
       "    </tr>\n",
       "    <tr>\n",
       "      <th>4</th>\n",
       "      <td>16 Cyg B b</td>\n",
       "      <td>16 Cyg B</td>\n",
       "      <td>3</td>\n",
       "      <td>1</td>\n",
       "      <td>Radial Velocity</td>\n",
       "      <td>1996</td>\n",
       "      <td>Multiple Observatories</td>\n",
       "      <td>0</td>\n",
       "      <td>798.50000</td>\n",
       "      <td>1.660</td>\n",
       "      <td>...</td>\n",
       "      <td>19h41m51.75s</td>\n",
       "      <td>295.465642</td>\n",
       "      <td>+50d31m00.57s</td>\n",
       "      <td>50.516824</td>\n",
       "      <td>21.1397</td>\n",
       "      <td>6.21500</td>\n",
       "      <td>4.651</td>\n",
       "      <td>6.06428</td>\n",
       "      <td>G</td>\n",
       "      <td>Undefined</td>\n",
       "    </tr>\n",
       "  </tbody>\n",
       "</table>\n",
       "<p>5 rows × 38 columns</p>\n",
       "</div>"
      ],
      "text/plain": [
       "      pl_name  hostname  sy_snum  sy_pnum  discoverymethod  disc_year  \\\n",
       "0    11 Com b    11 Com        2        1  Radial Velocity       2007   \n",
       "1    11 UMi b    11 UMi        1        1  Radial Velocity       2009   \n",
       "2    14 And b    14 And        1        1  Radial Velocity       2008   \n",
       "3    14 Her b    14 Her        1        2  Radial Velocity       2002   \n",
       "4  16 Cyg B b  16 Cyg B        3        1  Radial Velocity       1996   \n",
       "\n",
       "                            disc_facility  pl_controv_flag   pl_orbper  \\\n",
       "0                        Xinglong Station                0   326.03000   \n",
       "1  Thueringer Landessternwarte Tautenburg                0   516.21997   \n",
       "2       Okayama Astrophysical Observatory                0   185.84000   \n",
       "3                  W. M. Keck Observatory                0  1765.03890   \n",
       "4                  Multiple Observatories                0   798.50000   \n",
       "\n",
       "   pl_orbsmax  ...         rastr          ra         decstr        dec  \\\n",
       "0       1.290  ...  12h20m42.91s  185.178779  +17d47m35.71s  17.793252   \n",
       "1       1.530  ...  15h17m05.90s  229.274595  +71d49m26.19s  71.823943   \n",
       "2       0.830  ...  23h31m17.80s  352.824150  +39d14m09.01s  39.235837   \n",
       "3       2.774  ...  16h10m24.50s  242.602101  +43d48m58.90s  43.816362   \n",
       "4       1.660  ...  19h41m51.75s  295.465642  +50d31m00.57s  50.516824   \n",
       "\n",
       "    sy_dist  sy_vmag  sy_kmag  sy_gaiamag  st_spectype_modified  \\\n",
       "0   93.1846  4.72307    2.282     4.44038                     G   \n",
       "1  125.3210  5.01300    1.939     4.56216                     G   \n",
       "2   75.4392  5.23133    2.331     4.91781                     G   \n",
       "3   17.9323  6.61935    4.714     6.38300                     G   \n",
       "4   21.1397  6.21500    4.651     6.06428                     G   \n",
       "\n",
       "   rad_classification  \n",
       "0           Undefined  \n",
       "1           Undefined  \n",
       "2           Undefined  \n",
       "3           Undefined  \n",
       "4           Undefined  \n",
       "\n",
       "[5 rows x 38 columns]"
      ]
     },
     "execution_count": 29,
     "metadata": {},
     "output_type": "execute_result"
    }
   ],
   "source": [
    "all_list = {\"rocky\" : np.arange(0.5, 1.0, step=0.1),\n",
    "            \"super_earth\" : np.arange(1.0, 1.75, step=0.1),\n",
    "            \"sub_neptune\" : np.arange(1.75, 3.5, step=0.1),\n",
    "            \"sub_jovian\" : np.arange(3.5, 6.0, step=0.1),\n",
    "            \"jovians\" : np.arange(6.0, 14.3, step=0.1)}\n",
    "\n",
    "def classify_on_rad(val):\n",
    "    if val in all_list[\"rocky\"]:\n",
    "        return \"Rocky\"\n",
    "    elif val in all_list[\"super_earth\"]:\n",
    "        return \"Super Earth\"\n",
    "    elif val in all_list[\"sub_neptune\"]:\n",
    "        return \"Sub Neptune\"\n",
    "    elif val in all_list[\"sub_jovian\"]:\n",
    "        return \"Sub Jovian\"\n",
    "    elif val in all_list[\"jovians\"]:\n",
    "        return \"Jovian\"\n",
    "    else:\n",
    "        return \"Undefined\"\n",
    "\n",
    "exo[\"rad_classification\"] = exo[\"pl_rade\"].apply(lambda row: classify_on_rad(row))\n",
    "display(exo.groupby([\"rad_classification\"]).size().to_frame())\n",
    "exo.head()"
   ]
  },
  {
   "cell_type": "code",
   "execution_count": 31,
   "metadata": {},
   "outputs": [
    {
     "data": {
      "text/html": [
       "<div>\n",
       "<style scoped>\n",
       "    .dataframe tbody tr th:only-of-type {\n",
       "        vertical-align: middle;\n",
       "    }\n",
       "\n",
       "    .dataframe tbody tr th {\n",
       "        vertical-align: top;\n",
       "    }\n",
       "\n",
       "    .dataframe thead th {\n",
       "        text-align: right;\n",
       "    }\n",
       "</style>\n",
       "<table border=\"1\" class=\"dataframe\">\n",
       "  <thead>\n",
       "    <tr style=\"text-align: right;\">\n",
       "      <th></th>\n",
       "      <th>0</th>\n",
       "    </tr>\n",
       "    <tr>\n",
       "      <th>koi_classification</th>\n",
       "      <th></th>\n",
       "    </tr>\n",
       "  </thead>\n",
       "  <tbody>\n",
       "    <tr>\n",
       "      <th>Exoplanet</th>\n",
       "      <td>2725</td>\n",
       "    </tr>\n",
       "    <tr>\n",
       "      <th>KOI</th>\n",
       "      <td>2745</td>\n",
       "    </tr>\n",
       "  </tbody>\n",
       "</table>\n",
       "</div>"
      ],
      "text/plain": [
       "                       0\n",
       "koi_classification      \n",
       "Exoplanet           2725\n",
       "KOI                 2745"
      ]
     },
     "metadata": {},
     "output_type": "display_data"
    },
    {
     "data": {
      "text/html": [
       "<div>\n",
       "<style scoped>\n",
       "    .dataframe tbody tr th:only-of-type {\n",
       "        vertical-align: middle;\n",
       "    }\n",
       "\n",
       "    .dataframe tbody tr th {\n",
       "        vertical-align: top;\n",
       "    }\n",
       "\n",
       "    .dataframe thead th {\n",
       "        text-align: right;\n",
       "    }\n",
       "</style>\n",
       "<table border=\"1\" class=\"dataframe\">\n",
       "  <thead>\n",
       "    <tr style=\"text-align: right;\">\n",
       "      <th></th>\n",
       "      <th>pl_name</th>\n",
       "      <th>hostname</th>\n",
       "      <th>sy_snum</th>\n",
       "      <th>sy_pnum</th>\n",
       "      <th>discoverymethod</th>\n",
       "      <th>disc_year</th>\n",
       "      <th>disc_facility</th>\n",
       "      <th>pl_controv_flag</th>\n",
       "      <th>pl_orbper</th>\n",
       "      <th>pl_orbsmax</th>\n",
       "      <th>...</th>\n",
       "      <th>ra</th>\n",
       "      <th>decstr</th>\n",
       "      <th>dec</th>\n",
       "      <th>sy_dist</th>\n",
       "      <th>sy_vmag</th>\n",
       "      <th>sy_kmag</th>\n",
       "      <th>sy_gaiamag</th>\n",
       "      <th>st_spectype_modified</th>\n",
       "      <th>rad_classification</th>\n",
       "      <th>koi_classification</th>\n",
       "    </tr>\n",
       "  </thead>\n",
       "  <tbody>\n",
       "    <tr>\n",
       "      <th>0</th>\n",
       "      <td>11 Com b</td>\n",
       "      <td>11 Com</td>\n",
       "      <td>2</td>\n",
       "      <td>1</td>\n",
       "      <td>Radial Velocity</td>\n",
       "      <td>2007</td>\n",
       "      <td>Xinglong Station</td>\n",
       "      <td>0</td>\n",
       "      <td>326.03000</td>\n",
       "      <td>1.290</td>\n",
       "      <td>...</td>\n",
       "      <td>185.178779</td>\n",
       "      <td>+17d47m35.71s</td>\n",
       "      <td>17.793252</td>\n",
       "      <td>93.1846</td>\n",
       "      <td>4.72307</td>\n",
       "      <td>2.282</td>\n",
       "      <td>4.44038</td>\n",
       "      <td>G</td>\n",
       "      <td>Undefined</td>\n",
       "      <td>Exoplanet</td>\n",
       "    </tr>\n",
       "    <tr>\n",
       "      <th>1</th>\n",
       "      <td>11 UMi b</td>\n",
       "      <td>11 UMi</td>\n",
       "      <td>1</td>\n",
       "      <td>1</td>\n",
       "      <td>Radial Velocity</td>\n",
       "      <td>2009</td>\n",
       "      <td>Thueringer Landessternwarte Tautenburg</td>\n",
       "      <td>0</td>\n",
       "      <td>516.21997</td>\n",
       "      <td>1.530</td>\n",
       "      <td>...</td>\n",
       "      <td>229.274595</td>\n",
       "      <td>+71d49m26.19s</td>\n",
       "      <td>71.823943</td>\n",
       "      <td>125.3210</td>\n",
       "      <td>5.01300</td>\n",
       "      <td>1.939</td>\n",
       "      <td>4.56216</td>\n",
       "      <td>G</td>\n",
       "      <td>Undefined</td>\n",
       "      <td>Exoplanet</td>\n",
       "    </tr>\n",
       "    <tr>\n",
       "      <th>2</th>\n",
       "      <td>14 And b</td>\n",
       "      <td>14 And</td>\n",
       "      <td>1</td>\n",
       "      <td>1</td>\n",
       "      <td>Radial Velocity</td>\n",
       "      <td>2008</td>\n",
       "      <td>Okayama Astrophysical Observatory</td>\n",
       "      <td>0</td>\n",
       "      <td>185.84000</td>\n",
       "      <td>0.830</td>\n",
       "      <td>...</td>\n",
       "      <td>352.824150</td>\n",
       "      <td>+39d14m09.01s</td>\n",
       "      <td>39.235837</td>\n",
       "      <td>75.4392</td>\n",
       "      <td>5.23133</td>\n",
       "      <td>2.331</td>\n",
       "      <td>4.91781</td>\n",
       "      <td>G</td>\n",
       "      <td>Undefined</td>\n",
       "      <td>Exoplanet</td>\n",
       "    </tr>\n",
       "    <tr>\n",
       "      <th>3</th>\n",
       "      <td>14 Her b</td>\n",
       "      <td>14 Her</td>\n",
       "      <td>1</td>\n",
       "      <td>2</td>\n",
       "      <td>Radial Velocity</td>\n",
       "      <td>2002</td>\n",
       "      <td>W. M. Keck Observatory</td>\n",
       "      <td>0</td>\n",
       "      <td>1765.03890</td>\n",
       "      <td>2.774</td>\n",
       "      <td>...</td>\n",
       "      <td>242.602101</td>\n",
       "      <td>+43d48m58.90s</td>\n",
       "      <td>43.816362</td>\n",
       "      <td>17.9323</td>\n",
       "      <td>6.61935</td>\n",
       "      <td>4.714</td>\n",
       "      <td>6.38300</td>\n",
       "      <td>G</td>\n",
       "      <td>Undefined</td>\n",
       "      <td>Exoplanet</td>\n",
       "    </tr>\n",
       "    <tr>\n",
       "      <th>4</th>\n",
       "      <td>16 Cyg B b</td>\n",
       "      <td>16 Cyg B</td>\n",
       "      <td>3</td>\n",
       "      <td>1</td>\n",
       "      <td>Radial Velocity</td>\n",
       "      <td>1996</td>\n",
       "      <td>Multiple Observatories</td>\n",
       "      <td>0</td>\n",
       "      <td>798.50000</td>\n",
       "      <td>1.660</td>\n",
       "      <td>...</td>\n",
       "      <td>295.465642</td>\n",
       "      <td>+50d31m00.57s</td>\n",
       "      <td>50.516824</td>\n",
       "      <td>21.1397</td>\n",
       "      <td>6.21500</td>\n",
       "      <td>4.651</td>\n",
       "      <td>6.06428</td>\n",
       "      <td>G</td>\n",
       "      <td>Undefined</td>\n",
       "      <td>Exoplanet</td>\n",
       "    </tr>\n",
       "  </tbody>\n",
       "</table>\n",
       "<p>5 rows × 39 columns</p>\n",
       "</div>"
      ],
      "text/plain": [
       "      pl_name  hostname  sy_snum  sy_pnum  discoverymethod  disc_year  \\\n",
       "0    11 Com b    11 Com        2        1  Radial Velocity       2007   \n",
       "1    11 UMi b    11 UMi        1        1  Radial Velocity       2009   \n",
       "2    14 And b    14 And        1        1  Radial Velocity       2008   \n",
       "3    14 Her b    14 Her        1        2  Radial Velocity       2002   \n",
       "4  16 Cyg B b  16 Cyg B        3        1  Radial Velocity       1996   \n",
       "\n",
       "                            disc_facility  pl_controv_flag   pl_orbper  \\\n",
       "0                        Xinglong Station                0   326.03000   \n",
       "1  Thueringer Landessternwarte Tautenburg                0   516.21997   \n",
       "2       Okayama Astrophysical Observatory                0   185.84000   \n",
       "3                  W. M. Keck Observatory                0  1765.03890   \n",
       "4                  Multiple Observatories                0   798.50000   \n",
       "\n",
       "   pl_orbsmax  ...          ra         decstr        dec   sy_dist  sy_vmag  \\\n",
       "0       1.290  ...  185.178779  +17d47m35.71s  17.793252   93.1846  4.72307   \n",
       "1       1.530  ...  229.274595  +71d49m26.19s  71.823943  125.3210  5.01300   \n",
       "2       0.830  ...  352.824150  +39d14m09.01s  39.235837   75.4392  5.23133   \n",
       "3       2.774  ...  242.602101  +43d48m58.90s  43.816362   17.9323  6.61935   \n",
       "4       1.660  ...  295.465642  +50d31m00.57s  50.516824   21.1397  6.21500   \n",
       "\n",
       "   sy_kmag  sy_gaiamag  st_spectype_modified  rad_classification  \\\n",
       "0    2.282     4.44038                     G           Undefined   \n",
       "1    1.939     4.56216                     G           Undefined   \n",
       "2    2.331     4.91781                     G           Undefined   \n",
       "3    4.714     6.38300                     G           Undefined   \n",
       "4    4.651     6.06428                     G           Undefined   \n",
       "\n",
       "   koi_classification  \n",
       "0           Exoplanet  \n",
       "1           Exoplanet  \n",
       "2           Exoplanet  \n",
       "3           Exoplanet  \n",
       "4           Exoplanet  \n",
       "\n",
       "[5 rows x 39 columns]"
      ]
     },
     "execution_count": 31,
     "metadata": {},
     "output_type": "execute_result"
    }
   ],
   "source": [
    "apply_koi = lambda row: \"KOI\" if \"Kepler\" in row[\"hostname\"] else \"Exoplanet\"\n",
    "exo[\"koi_classification\"] = exo.apply(apply_koi, axis=1)\n",
    "exo = exo.replace(np.nan, 0)\n",
    "display(exo.groupby([\"koi_classification\"]).size().to_frame())\n",
    "exo.head()"
   ]
  },
  {
   "cell_type": "code",
   "execution_count": 32,
   "metadata": {},
   "outputs": [
    {
     "data": {
      "application/vnd.plotly.v1+json": {
       "config": {
        "plotlyServerURL": "https://plot.ly"
       },
       "data": [
        {
         "labels": [
          "Exoplanet",
          "KOI"
         ],
         "name": "KOI",
         "type": "pie",
         "values": [
          2745,
          2725
         ],
         "visible": true
        },
        {
         "labels": [
          "Undefined",
          "Sub Jovian",
          "Super Earth",
          "Sub Neptune",
          "Rocky",
          "Jovian"
         ],
         "name": "Mass",
         "type": "pie",
         "values": [
          5403,
          27,
          21,
          14,
          4,
          1
         ],
         "visible": false
        }
       ],
       "layout": {
        "autosize": false,
        "height": 500,
        "template": {
         "data": {
          "bar": [
           {
            "error_x": {
             "color": "#2a3f5f"
            },
            "error_y": {
             "color": "#2a3f5f"
            },
            "marker": {
             "line": {
              "color": "#E5ECF6",
              "width": 0.5
             },
             "pattern": {
              "fillmode": "overlay",
              "size": 10,
              "solidity": 0.2
             }
            },
            "type": "bar"
           }
          ],
          "barpolar": [
           {
            "marker": {
             "line": {
              "color": "#E5ECF6",
              "width": 0.5
             },
             "pattern": {
              "fillmode": "overlay",
              "size": 10,
              "solidity": 0.2
             }
            },
            "type": "barpolar"
           }
          ],
          "carpet": [
           {
            "aaxis": {
             "endlinecolor": "#2a3f5f",
             "gridcolor": "white",
             "linecolor": "white",
             "minorgridcolor": "white",
             "startlinecolor": "#2a3f5f"
            },
            "baxis": {
             "endlinecolor": "#2a3f5f",
             "gridcolor": "white",
             "linecolor": "white",
             "minorgridcolor": "white",
             "startlinecolor": "#2a3f5f"
            },
            "type": "carpet"
           }
          ],
          "choropleth": [
           {
            "colorbar": {
             "outlinewidth": 0,
             "ticks": ""
            },
            "type": "choropleth"
           }
          ],
          "contour": [
           {
            "colorbar": {
             "outlinewidth": 0,
             "ticks": ""
            },
            "colorscale": [
             [
              0,
              "#0d0887"
             ],
             [
              0.1111111111111111,
              "#46039f"
             ],
             [
              0.2222222222222222,
              "#7201a8"
             ],
             [
              0.3333333333333333,
              "#9c179e"
             ],
             [
              0.4444444444444444,
              "#bd3786"
             ],
             [
              0.5555555555555556,
              "#d8576b"
             ],
             [
              0.6666666666666666,
              "#ed7953"
             ],
             [
              0.7777777777777778,
              "#fb9f3a"
             ],
             [
              0.8888888888888888,
              "#fdca26"
             ],
             [
              1,
              "#f0f921"
             ]
            ],
            "type": "contour"
           }
          ],
          "contourcarpet": [
           {
            "colorbar": {
             "outlinewidth": 0,
             "ticks": ""
            },
            "type": "contourcarpet"
           }
          ],
          "heatmap": [
           {
            "colorbar": {
             "outlinewidth": 0,
             "ticks": ""
            },
            "colorscale": [
             [
              0,
              "#0d0887"
             ],
             [
              0.1111111111111111,
              "#46039f"
             ],
             [
              0.2222222222222222,
              "#7201a8"
             ],
             [
              0.3333333333333333,
              "#9c179e"
             ],
             [
              0.4444444444444444,
              "#bd3786"
             ],
             [
              0.5555555555555556,
              "#d8576b"
             ],
             [
              0.6666666666666666,
              "#ed7953"
             ],
             [
              0.7777777777777778,
              "#fb9f3a"
             ],
             [
              0.8888888888888888,
              "#fdca26"
             ],
             [
              1,
              "#f0f921"
             ]
            ],
            "type": "heatmap"
           }
          ],
          "heatmapgl": [
           {
            "colorbar": {
             "outlinewidth": 0,
             "ticks": ""
            },
            "colorscale": [
             [
              0,
              "#0d0887"
             ],
             [
              0.1111111111111111,
              "#46039f"
             ],
             [
              0.2222222222222222,
              "#7201a8"
             ],
             [
              0.3333333333333333,
              "#9c179e"
             ],
             [
              0.4444444444444444,
              "#bd3786"
             ],
             [
              0.5555555555555556,
              "#d8576b"
             ],
             [
              0.6666666666666666,
              "#ed7953"
             ],
             [
              0.7777777777777778,
              "#fb9f3a"
             ],
             [
              0.8888888888888888,
              "#fdca26"
             ],
             [
              1,
              "#f0f921"
             ]
            ],
            "type": "heatmapgl"
           }
          ],
          "histogram": [
           {
            "marker": {
             "pattern": {
              "fillmode": "overlay",
              "size": 10,
              "solidity": 0.2
             }
            },
            "type": "histogram"
           }
          ],
          "histogram2d": [
           {
            "colorbar": {
             "outlinewidth": 0,
             "ticks": ""
            },
            "colorscale": [
             [
              0,
              "#0d0887"
             ],
             [
              0.1111111111111111,
              "#46039f"
             ],
             [
              0.2222222222222222,
              "#7201a8"
             ],
             [
              0.3333333333333333,
              "#9c179e"
             ],
             [
              0.4444444444444444,
              "#bd3786"
             ],
             [
              0.5555555555555556,
              "#d8576b"
             ],
             [
              0.6666666666666666,
              "#ed7953"
             ],
             [
              0.7777777777777778,
              "#fb9f3a"
             ],
             [
              0.8888888888888888,
              "#fdca26"
             ],
             [
              1,
              "#f0f921"
             ]
            ],
            "type": "histogram2d"
           }
          ],
          "histogram2dcontour": [
           {
            "colorbar": {
             "outlinewidth": 0,
             "ticks": ""
            },
            "colorscale": [
             [
              0,
              "#0d0887"
             ],
             [
              0.1111111111111111,
              "#46039f"
             ],
             [
              0.2222222222222222,
              "#7201a8"
             ],
             [
              0.3333333333333333,
              "#9c179e"
             ],
             [
              0.4444444444444444,
              "#bd3786"
             ],
             [
              0.5555555555555556,
              "#d8576b"
             ],
             [
              0.6666666666666666,
              "#ed7953"
             ],
             [
              0.7777777777777778,
              "#fb9f3a"
             ],
             [
              0.8888888888888888,
              "#fdca26"
             ],
             [
              1,
              "#f0f921"
             ]
            ],
            "type": "histogram2dcontour"
           }
          ],
          "mesh3d": [
           {
            "colorbar": {
             "outlinewidth": 0,
             "ticks": ""
            },
            "type": "mesh3d"
           }
          ],
          "parcoords": [
           {
            "line": {
             "colorbar": {
              "outlinewidth": 0,
              "ticks": ""
             }
            },
            "type": "parcoords"
           }
          ],
          "pie": [
           {
            "automargin": true,
            "type": "pie"
           }
          ],
          "scatter": [
           {
            "fillpattern": {
             "fillmode": "overlay",
             "size": 10,
             "solidity": 0.2
            },
            "type": "scatter"
           }
          ],
          "scatter3d": [
           {
            "line": {
             "colorbar": {
              "outlinewidth": 0,
              "ticks": ""
             }
            },
            "marker": {
             "colorbar": {
              "outlinewidth": 0,
              "ticks": ""
             }
            },
            "type": "scatter3d"
           }
          ],
          "scattercarpet": [
           {
            "marker": {
             "colorbar": {
              "outlinewidth": 0,
              "ticks": ""
             }
            },
            "type": "scattercarpet"
           }
          ],
          "scattergeo": [
           {
            "marker": {
             "colorbar": {
              "outlinewidth": 0,
              "ticks": ""
             }
            },
            "type": "scattergeo"
           }
          ],
          "scattergl": [
           {
            "marker": {
             "colorbar": {
              "outlinewidth": 0,
              "ticks": ""
             }
            },
            "type": "scattergl"
           }
          ],
          "scattermapbox": [
           {
            "marker": {
             "colorbar": {
              "outlinewidth": 0,
              "ticks": ""
             }
            },
            "type": "scattermapbox"
           }
          ],
          "scatterpolar": [
           {
            "marker": {
             "colorbar": {
              "outlinewidth": 0,
              "ticks": ""
             }
            },
            "type": "scatterpolar"
           }
          ],
          "scatterpolargl": [
           {
            "marker": {
             "colorbar": {
              "outlinewidth": 0,
              "ticks": ""
             }
            },
            "type": "scatterpolargl"
           }
          ],
          "scatterternary": [
           {
            "marker": {
             "colorbar": {
              "outlinewidth": 0,
              "ticks": ""
             }
            },
            "type": "scatterternary"
           }
          ],
          "surface": [
           {
            "colorbar": {
             "outlinewidth": 0,
             "ticks": ""
            },
            "colorscale": [
             [
              0,
              "#0d0887"
             ],
             [
              0.1111111111111111,
              "#46039f"
             ],
             [
              0.2222222222222222,
              "#7201a8"
             ],
             [
              0.3333333333333333,
              "#9c179e"
             ],
             [
              0.4444444444444444,
              "#bd3786"
             ],
             [
              0.5555555555555556,
              "#d8576b"
             ],
             [
              0.6666666666666666,
              "#ed7953"
             ],
             [
              0.7777777777777778,
              "#fb9f3a"
             ],
             [
              0.8888888888888888,
              "#fdca26"
             ],
             [
              1,
              "#f0f921"
             ]
            ],
            "type": "surface"
           }
          ],
          "table": [
           {
            "cells": {
             "fill": {
              "color": "#EBF0F8"
             },
             "line": {
              "color": "white"
             }
            },
            "header": {
             "fill": {
              "color": "#C8D4E3"
             },
             "line": {
              "color": "white"
             }
            },
            "type": "table"
           }
          ]
         },
         "layout": {
          "annotationdefaults": {
           "arrowcolor": "#2a3f5f",
           "arrowhead": 0,
           "arrowwidth": 1
          },
          "autotypenumbers": "strict",
          "coloraxis": {
           "colorbar": {
            "outlinewidth": 0,
            "ticks": ""
           }
          },
          "colorscale": {
           "diverging": [
            [
             0,
             "#8e0152"
            ],
            [
             0.1,
             "#c51b7d"
            ],
            [
             0.2,
             "#de77ae"
            ],
            [
             0.3,
             "#f1b6da"
            ],
            [
             0.4,
             "#fde0ef"
            ],
            [
             0.5,
             "#f7f7f7"
            ],
            [
             0.6,
             "#e6f5d0"
            ],
            [
             0.7,
             "#b8e186"
            ],
            [
             0.8,
             "#7fbc41"
            ],
            [
             0.9,
             "#4d9221"
            ],
            [
             1,
             "#276419"
            ]
           ],
           "sequential": [
            [
             0,
             "#0d0887"
            ],
            [
             0.1111111111111111,
             "#46039f"
            ],
            [
             0.2222222222222222,
             "#7201a8"
            ],
            [
             0.3333333333333333,
             "#9c179e"
            ],
            [
             0.4444444444444444,
             "#bd3786"
            ],
            [
             0.5555555555555556,
             "#d8576b"
            ],
            [
             0.6666666666666666,
             "#ed7953"
            ],
            [
             0.7777777777777778,
             "#fb9f3a"
            ],
            [
             0.8888888888888888,
             "#fdca26"
            ],
            [
             1,
             "#f0f921"
            ]
           ],
           "sequentialminus": [
            [
             0,
             "#0d0887"
            ],
            [
             0.1111111111111111,
             "#46039f"
            ],
            [
             0.2222222222222222,
             "#7201a8"
            ],
            [
             0.3333333333333333,
             "#9c179e"
            ],
            [
             0.4444444444444444,
             "#bd3786"
            ],
            [
             0.5555555555555556,
             "#d8576b"
            ],
            [
             0.6666666666666666,
             "#ed7953"
            ],
            [
             0.7777777777777778,
             "#fb9f3a"
            ],
            [
             0.8888888888888888,
             "#fdca26"
            ],
            [
             1,
             "#f0f921"
            ]
           ]
          },
          "colorway": [
           "#636efa",
           "#EF553B",
           "#00cc96",
           "#ab63fa",
           "#FFA15A",
           "#19d3f3",
           "#FF6692",
           "#B6E880",
           "#FF97FF",
           "#FECB52"
          ],
          "font": {
           "color": "#2a3f5f"
          },
          "geo": {
           "bgcolor": "white",
           "lakecolor": "white",
           "landcolor": "#E5ECF6",
           "showlakes": true,
           "showland": true,
           "subunitcolor": "white"
          },
          "hoverlabel": {
           "align": "left"
          },
          "hovermode": "closest",
          "mapbox": {
           "style": "light"
          },
          "paper_bgcolor": "white",
          "plot_bgcolor": "#E5ECF6",
          "polar": {
           "angularaxis": {
            "gridcolor": "white",
            "linecolor": "white",
            "ticks": ""
           },
           "bgcolor": "#E5ECF6",
           "radialaxis": {
            "gridcolor": "white",
            "linecolor": "white",
            "ticks": ""
           }
          },
          "scene": {
           "xaxis": {
            "backgroundcolor": "#E5ECF6",
            "gridcolor": "white",
            "gridwidth": 2,
            "linecolor": "white",
            "showbackground": true,
            "ticks": "",
            "zerolinecolor": "white"
           },
           "yaxis": {
            "backgroundcolor": "#E5ECF6",
            "gridcolor": "white",
            "gridwidth": 2,
            "linecolor": "white",
            "showbackground": true,
            "ticks": "",
            "zerolinecolor": "white"
           },
           "zaxis": {
            "backgroundcolor": "#E5ECF6",
            "gridcolor": "white",
            "gridwidth": 2,
            "linecolor": "white",
            "showbackground": true,
            "ticks": "",
            "zerolinecolor": "white"
           }
          },
          "shapedefaults": {
           "line": {
            "color": "#2a3f5f"
           }
          },
          "ternary": {
           "aaxis": {
            "gridcolor": "white",
            "linecolor": "white",
            "ticks": ""
           },
           "baxis": {
            "gridcolor": "white",
            "linecolor": "white",
            "ticks": ""
           },
           "bgcolor": "#E5ECF6",
           "caxis": {
            "gridcolor": "white",
            "linecolor": "white",
            "ticks": ""
           }
          },
          "title": {
           "x": 0.05
          },
          "xaxis": {
           "automargin": true,
           "gridcolor": "white",
           "linecolor": "white",
           "ticks": "",
           "title": {
            "standoff": 15
           },
           "zerolinecolor": "white",
           "zerolinewidth": 2
          },
          "yaxis": {
           "automargin": true,
           "gridcolor": "white",
           "linecolor": "white",
           "ticks": "",
           "title": {
            "standoff": 15
           },
           "zerolinecolor": "white",
           "zerolinewidth": 2
          }
         }
        },
        "title": {
         "text": "Exoplanet Classifications",
         "x": 0.5,
         "y": 0.95
        },
        "updatemenus": [
         {
          "buttons": [
           {
            "args": [
             {
              "visible": [
               true,
               false
              ]
             },
             {
              "title": "KOI Classification"
             }
            ],
            "label": "KOI Classification",
            "method": "update"
           },
           {
            "args": [
             {
              "visible": [
               false,
               true
              ]
             },
             {
              "title": "Mass Classification"
             }
            ],
            "label": "Mass Classification",
            "method": "update"
           }
          ],
          "direction": "down",
          "showactive": true,
          "x": -0.1,
          "xanchor": "left",
          "y": 1.3,
          "yanchor": "top"
         }
        ],
        "width": 700
       }
      }
     },
     "metadata": {},
     "output_type": "display_data"
    }
   ],
   "source": [
    "pie_fig = go.Figure()\n",
    "pie_fig.add_trace(go.Pie(labels=[\"Exoplanet\", \"KOI\"], values=exo[\"koi_classification\"].value_counts(), \n",
    "                         name=\"KOI\", visible=True))\n",
    "pie_fig.add_trace(go.Pie(labels=exo[\"rad_classification\"].unique().tolist(),\n",
    "                         values=exo[\"rad_classification\"].value_counts(),\n",
    "                        name=\"Mass\", visible=False))\n",
    "pie_fig.update_layout(\n",
    "    updatemenus=[dict(buttons=list([dict(label=\"KOI Classification\",\n",
    "                                         args=[{\"visible\": [True, False]},\n",
    "                                               {\"title\": \"KOI Classification\"}],\n",
    "                                         method=\"update\"),\n",
    "                                    dict(args=[{\"visible\": [False, True]},\n",
    "                                               {\"title\": \"Mass Classification\"}],\n",
    "                                         label=\"Mass Classification\",\n",
    "                                         method=\"update\")\n",
    "                                   ]),\n",
    "                      direction=\"down\",\n",
    "                      showactive=True,\n",
    "                      x=-0.1,\n",
    "                      xanchor=\"left\",\n",
    "                      y=1.3,\n",
    "                      yanchor=\"top\"),\n",
    "                ]\n",
    ")\n",
    "\n",
    "pie_fig.update_layout(title=go.layout.Title(text=\"Exoplanet Classifications\",\n",
    "                                            x=0.5,\n",
    "                                            y=0.95),\n",
    "                      width=700,\n",
    "                      height=500,\n",
    "                      autosize=False)\n",
    "                                            \n",
    "\n",
    "pie_fig.show()"
   ]
  },
  {
   "cell_type": "markdown",
   "metadata": {},
   "source": [
    "## 2. Distinguish KOI\n",
    "- What factor contributes the most in classifying an exoplanet as KOI?"
   ]
  },
  {
   "cell_type": "code",
   "execution_count": 98,
   "metadata": {},
   "outputs": [
    {
     "data": {
      "text/html": [
       "<div>\n",
       "<style scoped>\n",
       "    .dataframe tbody tr th:only-of-type {\n",
       "        vertical-align: middle;\n",
       "    }\n",
       "\n",
       "    .dataframe tbody tr th {\n",
       "        vertical-align: top;\n",
       "    }\n",
       "\n",
       "    .dataframe thead th {\n",
       "        text-align: right;\n",
       "    }\n",
       "</style>\n",
       "<table border=\"1\" class=\"dataframe\">\n",
       "  <thead>\n",
       "    <tr style=\"text-align: right;\">\n",
       "      <th></th>\n",
       "      <th>sy_snum</th>\n",
       "      <th>sy_pnum</th>\n",
       "      <th>disc_year</th>\n",
       "      <th>pl_controv_flag</th>\n",
       "      <th>pl_orbper</th>\n",
       "      <th>pl_orbsmax</th>\n",
       "      <th>pl_rade</th>\n",
       "      <th>pl_radj</th>\n",
       "      <th>pl_bmasse</th>\n",
       "      <th>pl_bmassj</th>\n",
       "      <th>...</th>\n",
       "      <th>st_met</th>\n",
       "      <th>st_lum</th>\n",
       "      <th>st_logg</th>\n",
       "      <th>ra</th>\n",
       "      <th>dec</th>\n",
       "      <th>sy_dist</th>\n",
       "      <th>sy_vmag</th>\n",
       "      <th>sy_kmag</th>\n",
       "      <th>sy_gaiamag</th>\n",
       "      <th>koi_classification</th>\n",
       "    </tr>\n",
       "  </thead>\n",
       "  <tbody>\n",
       "    <tr>\n",
       "      <th>0</th>\n",
       "      <td>2</td>\n",
       "      <td>1</td>\n",
       "      <td>2007</td>\n",
       "      <td>0</td>\n",
       "      <td>326.03000</td>\n",
       "      <td>1.290</td>\n",
       "      <td>12.1</td>\n",
       "      <td>1.08</td>\n",
       "      <td>6165.60000</td>\n",
       "      <td>19.400</td>\n",
       "      <td>...</td>\n",
       "      <td>-0.350</td>\n",
       "      <td>2.243</td>\n",
       "      <td>2.31</td>\n",
       "      <td>185.178779</td>\n",
       "      <td>17.793252</td>\n",
       "      <td>93.1846</td>\n",
       "      <td>4.72307</td>\n",
       "      <td>2.282</td>\n",
       "      <td>4.44038</td>\n",
       "      <td>Exoplanet</td>\n",
       "    </tr>\n",
       "    <tr>\n",
       "      <th>1</th>\n",
       "      <td>1</td>\n",
       "      <td>1</td>\n",
       "      <td>2009</td>\n",
       "      <td>0</td>\n",
       "      <td>516.21997</td>\n",
       "      <td>1.530</td>\n",
       "      <td>12.3</td>\n",
       "      <td>1.09</td>\n",
       "      <td>4684.81420</td>\n",
       "      <td>14.740</td>\n",
       "      <td>...</td>\n",
       "      <td>-0.020</td>\n",
       "      <td>2.430</td>\n",
       "      <td>1.93</td>\n",
       "      <td>229.274595</td>\n",
       "      <td>71.823943</td>\n",
       "      <td>125.3210</td>\n",
       "      <td>5.01300</td>\n",
       "      <td>1.939</td>\n",
       "      <td>4.56216</td>\n",
       "      <td>Exoplanet</td>\n",
       "    </tr>\n",
       "    <tr>\n",
       "      <th>2</th>\n",
       "      <td>1</td>\n",
       "      <td>1</td>\n",
       "      <td>2008</td>\n",
       "      <td>0</td>\n",
       "      <td>185.84000</td>\n",
       "      <td>0.830</td>\n",
       "      <td>12.9</td>\n",
       "      <td>1.15</td>\n",
       "      <td>1525.50000</td>\n",
       "      <td>4.800</td>\n",
       "      <td>...</td>\n",
       "      <td>-0.240</td>\n",
       "      <td>1.763</td>\n",
       "      <td>2.63</td>\n",
       "      <td>352.824150</td>\n",
       "      <td>39.235837</td>\n",
       "      <td>75.4392</td>\n",
       "      <td>5.23133</td>\n",
       "      <td>2.331</td>\n",
       "      <td>4.91781</td>\n",
       "      <td>Exoplanet</td>\n",
       "    </tr>\n",
       "    <tr>\n",
       "      <th>3</th>\n",
       "      <td>1</td>\n",
       "      <td>2</td>\n",
       "      <td>2002</td>\n",
       "      <td>0</td>\n",
       "      <td>1765.03890</td>\n",
       "      <td>2.774</td>\n",
       "      <td>12.6</td>\n",
       "      <td>1.12</td>\n",
       "      <td>2559.47216</td>\n",
       "      <td>8.053</td>\n",
       "      <td>...</td>\n",
       "      <td>0.405</td>\n",
       "      <td>-0.153</td>\n",
       "      <td>4.45</td>\n",
       "      <td>242.602101</td>\n",
       "      <td>43.816362</td>\n",
       "      <td>17.9323</td>\n",
       "      <td>6.61935</td>\n",
       "      <td>4.714</td>\n",
       "      <td>6.38300</td>\n",
       "      <td>Exoplanet</td>\n",
       "    </tr>\n",
       "    <tr>\n",
       "      <th>4</th>\n",
       "      <td>3</td>\n",
       "      <td>1</td>\n",
       "      <td>1996</td>\n",
       "      <td>0</td>\n",
       "      <td>798.50000</td>\n",
       "      <td>1.660</td>\n",
       "      <td>13.5</td>\n",
       "      <td>1.20</td>\n",
       "      <td>565.73740</td>\n",
       "      <td>1.780</td>\n",
       "      <td>...</td>\n",
       "      <td>0.060</td>\n",
       "      <td>0.097</td>\n",
       "      <td>4.36</td>\n",
       "      <td>295.465642</td>\n",
       "      <td>50.516824</td>\n",
       "      <td>21.1397</td>\n",
       "      <td>6.21500</td>\n",
       "      <td>4.651</td>\n",
       "      <td>6.06428</td>\n",
       "      <td>Exoplanet</td>\n",
       "    </tr>\n",
       "  </tbody>\n",
       "</table>\n",
       "<p>5 rows × 28 columns</p>\n",
       "</div>"
      ],
      "text/plain": [
       "   sy_snum  sy_pnum  disc_year  pl_controv_flag   pl_orbper  pl_orbsmax  \\\n",
       "0        2        1       2007                0   326.03000       1.290   \n",
       "1        1        1       2009                0   516.21997       1.530   \n",
       "2        1        1       2008                0   185.84000       0.830   \n",
       "3        1        2       2002                0  1765.03890       2.774   \n",
       "4        3        1       1996                0   798.50000       1.660   \n",
       "\n",
       "   pl_rade  pl_radj   pl_bmasse  pl_bmassj  ...  st_met  st_lum  st_logg  \\\n",
       "0     12.1     1.08  6165.60000     19.400  ...  -0.350   2.243     2.31   \n",
       "1     12.3     1.09  4684.81420     14.740  ...  -0.020   2.430     1.93   \n",
       "2     12.9     1.15  1525.50000      4.800  ...  -0.240   1.763     2.63   \n",
       "3     12.6     1.12  2559.47216      8.053  ...   0.405  -0.153     4.45   \n",
       "4     13.5     1.20   565.73740      1.780  ...   0.060   0.097     4.36   \n",
       "\n",
       "           ra        dec   sy_dist  sy_vmag  sy_kmag  sy_gaiamag  \\\n",
       "0  185.178779  17.793252   93.1846  4.72307    2.282     4.44038   \n",
       "1  229.274595  71.823943  125.3210  5.01300    1.939     4.56216   \n",
       "2  352.824150  39.235837   75.4392  5.23133    2.331     4.91781   \n",
       "3  242.602101  43.816362   17.9323  6.61935    4.714     6.38300   \n",
       "4  295.465642  50.516824   21.1397  6.21500    4.651     6.06428   \n",
       "\n",
       "   koi_classification  \n",
       "0           Exoplanet  \n",
       "1           Exoplanet  \n",
       "2           Exoplanet  \n",
       "3           Exoplanet  \n",
       "4           Exoplanet  \n",
       "\n",
       "[5 rows x 28 columns]"
      ]
     },
     "execution_count": 98,
     "metadata": {},
     "output_type": "execute_result"
    }
   ],
   "source": [
    "all_int_cols = list(exo.select_dtypes(include=['int', 'float']).columns)\n",
    "all_int_cols.append(\"koi_classification\")\n",
    "koi = exo[all_int_cols]\n",
    "koi.head()"
   ]
  },
  {
   "cell_type": "code",
   "execution_count": 99,
   "metadata": {},
   "outputs": [],
   "source": [
    "X_train, X_test, y_train, y_test =  train_test_split(koi.iloc[:, :-1],koi[\"koi_classification\"],test_size=0.3,random_state=0)\n",
    "# categorical_dtypes = list(X_train.select_dtypes(include=['object']).columns)\n",
    "# col_transformer = [(\"cat\", encoder, categorical_dtypes)]\n",
    "# col_transform = ColumnTransformer(transformers=col_transformer)\n"
   ]
  },
  {
   "cell_type": "markdown",
   "metadata": {},
   "source": [
    "#### Logistic Regression"
   ]
  },
  {
   "cell_type": "code",
   "execution_count": 113,
   "metadata": {},
   "outputs": [
    {
     "name": "stdout",
     "output_type": "stream",
     "text": [
      "LR Model score is: 0.9762340036563071\n"
     ]
    },
    {
     "data": {
      "text/html": [
       "<div>\n",
       "<style scoped>\n",
       "    .dataframe tbody tr th:only-of-type {\n",
       "        vertical-align: middle;\n",
       "    }\n",
       "\n",
       "    .dataframe tbody tr th {\n",
       "        vertical-align: top;\n",
       "    }\n",
       "\n",
       "    .dataframe thead th {\n",
       "        text-align: right;\n",
       "    }\n",
       "</style>\n",
       "<table border=\"1\" class=\"dataframe\">\n",
       "  <thead>\n",
       "    <tr style=\"text-align: right;\">\n",
       "      <th></th>\n",
       "      <th>feature</th>\n",
       "      <th>coef</th>\n",
       "    </tr>\n",
       "  </thead>\n",
       "  <tbody>\n",
       "    <tr>\n",
       "      <th>25</th>\n",
       "      <td>sy_kmag</td>\n",
       "      <td>0.951765</td>\n",
       "    </tr>\n",
       "    <tr>\n",
       "      <th>19</th>\n",
       "      <td>st_lum</td>\n",
       "      <td>0.429220</td>\n",
       "    </tr>\n",
       "    <tr>\n",
       "      <th>17</th>\n",
       "      <td>st_mass</td>\n",
       "      <td>0.171139</td>\n",
       "    </tr>\n",
       "    <tr>\n",
       "      <th>0</th>\n",
       "      <td>sy_snum</td>\n",
       "      <td>0.153302</td>\n",
       "    </tr>\n",
       "    <tr>\n",
       "      <th>24</th>\n",
       "      <td>sy_vmag</td>\n",
       "      <td>0.145462</td>\n",
       "    </tr>\n",
       "    <tr>\n",
       "      <th>22</th>\n",
       "      <td>dec</td>\n",
       "      <td>0.104282</td>\n",
       "    </tr>\n",
       "    <tr>\n",
       "      <th>13</th>\n",
       "      <td>ttv_flag</td>\n",
       "      <td>0.052219</td>\n",
       "    </tr>\n",
       "    <tr>\n",
       "      <th>21</th>\n",
       "      <td>ra</td>\n",
       "      <td>0.031487</td>\n",
       "    </tr>\n",
       "    <tr>\n",
       "      <th>18</th>\n",
       "      <td>st_met</td>\n",
       "      <td>0.028916</td>\n",
       "    </tr>\n",
       "    <tr>\n",
       "      <th>26</th>\n",
       "      <td>sy_gaiamag</td>\n",
       "      <td>0.017190</td>\n",
       "    </tr>\n",
       "    <tr>\n",
       "      <th>12</th>\n",
       "      <td>pl_eqt</td>\n",
       "      <td>0.001203</td>\n",
       "    </tr>\n",
       "    <tr>\n",
       "      <th>14</th>\n",
       "      <td>pl_ratdor</td>\n",
       "      <td>0.000901</td>\n",
       "    </tr>\n",
       "    <tr>\n",
       "      <th>8</th>\n",
       "      <td>pl_bmasse</td>\n",
       "      <td>0.000088</td>\n",
       "    </tr>\n",
       "    <tr>\n",
       "      <th>4</th>\n",
       "      <td>pl_orbper</td>\n",
       "      <td>0.000001</td>\n",
       "    </tr>\n",
       "    <tr>\n",
       "      <th>11</th>\n",
       "      <td>pl_insol</td>\n",
       "      <td>-0.000316</td>\n",
       "    </tr>\n",
       "    <tr>\n",
       "      <th>15</th>\n",
       "      <td>st_teff</td>\n",
       "      <td>-0.000318</td>\n",
       "    </tr>\n",
       "    <tr>\n",
       "      <th>9</th>\n",
       "      <td>pl_bmassj</td>\n",
       "      <td>-0.000469</td>\n",
       "    </tr>\n",
       "    <tr>\n",
       "      <th>23</th>\n",
       "      <td>sy_dist</td>\n",
       "      <td>-0.000836</td>\n",
       "    </tr>\n",
       "    <tr>\n",
       "      <th>10</th>\n",
       "      <td>pl_orbeccen</td>\n",
       "      <td>-0.006894</td>\n",
       "    </tr>\n",
       "    <tr>\n",
       "      <th>16</th>\n",
       "      <td>st_rad</td>\n",
       "      <td>-0.010207</td>\n",
       "    </tr>\n",
       "    <tr>\n",
       "      <th>2</th>\n",
       "      <td>disc_year</td>\n",
       "      <td>-0.010541</td>\n",
       "    </tr>\n",
       "    <tr>\n",
       "      <th>20</th>\n",
       "      <td>st_logg</td>\n",
       "      <td>-0.032587</td>\n",
       "    </tr>\n",
       "    <tr>\n",
       "      <th>7</th>\n",
       "      <td>pl_radj</td>\n",
       "      <td>-0.036188</td>\n",
       "    </tr>\n",
       "    <tr>\n",
       "      <th>3</th>\n",
       "      <td>pl_controv_flag</td>\n",
       "      <td>-0.046111</td>\n",
       "    </tr>\n",
       "    <tr>\n",
       "      <th>5</th>\n",
       "      <td>pl_orbsmax</td>\n",
       "      <td>-0.069972</td>\n",
       "    </tr>\n",
       "    <tr>\n",
       "      <th>1</th>\n",
       "      <td>sy_pnum</td>\n",
       "      <td>-0.291485</td>\n",
       "    </tr>\n",
       "    <tr>\n",
       "      <th>6</th>\n",
       "      <td>pl_rade</td>\n",
       "      <td>-0.332348</td>\n",
       "    </tr>\n",
       "  </tbody>\n",
       "</table>\n",
       "</div>"
      ],
      "text/plain": [
       "            feature      coef\n",
       "25          sy_kmag  0.951765\n",
       "19           st_lum  0.429220\n",
       "17          st_mass  0.171139\n",
       "0           sy_snum  0.153302\n",
       "24          sy_vmag  0.145462\n",
       "22              dec  0.104282\n",
       "13         ttv_flag  0.052219\n",
       "21               ra  0.031487\n",
       "18           st_met  0.028916\n",
       "26       sy_gaiamag  0.017190\n",
       "12           pl_eqt  0.001203\n",
       "14        pl_ratdor  0.000901\n",
       "8         pl_bmasse  0.000088\n",
       "4         pl_orbper  0.000001\n",
       "11         pl_insol -0.000316\n",
       "15          st_teff -0.000318\n",
       "9         pl_bmassj -0.000469\n",
       "23          sy_dist -0.000836\n",
       "10      pl_orbeccen -0.006894\n",
       "16           st_rad -0.010207\n",
       "2         disc_year -0.010541\n",
       "20          st_logg -0.032587\n",
       "7           pl_radj -0.036188\n",
       "3   pl_controv_flag -0.046111\n",
       "5        pl_orbsmax -0.069972\n",
       "1           sy_pnum -0.291485\n",
       "6           pl_rade -0.332348"
      ]
     },
     "execution_count": 113,
     "metadata": {},
     "output_type": "execute_result"
    }
   ],
   "source": [
    "lr_model = LogisticRegression(max_iter=2000)\n",
    "lr_model.fit(X_train,  y_train)\n",
    "lr_y_hat = lr_model.predict(X_test)\n",
    "print(f\"LR Model score is: {accuracy_score(y_test, lr_y_hat)}\")\n",
    "lr_importance = list(zip(lr_model.coef_[0], X_train.columns.tolist()))\n",
    "\n",
    "lr_df = pd.DataFrame(columns=[\"feature\", \"coef\"])\n",
    "for ind, item in lr_importance:\n",
    "    lr_df.loc[len(lr_df)] = item, ind\n",
    "    \n",
    "lr_df.sort_values(by=\"coef\", ascending=False)"
   ]
  },
  {
   "cell_type": "markdown",
   "metadata": {},
   "source": [
    "#### Decision Tree"
   ]
  },
  {
   "cell_type": "code",
   "execution_count": 109,
   "metadata": {},
   "outputs": [
    {
     "name": "stdout",
     "output_type": "stream",
     "text": [
      "Decision Tree Classifier Model score is: 0.9872029250457038\n"
     ]
    },
    {
     "data": {
      "text/html": [
       "<div>\n",
       "<style scoped>\n",
       "    .dataframe tbody tr th:only-of-type {\n",
       "        vertical-align: middle;\n",
       "    }\n",
       "\n",
       "    .dataframe tbody tr th {\n",
       "        vertical-align: top;\n",
       "    }\n",
       "\n",
       "    .dataframe thead th {\n",
       "        text-align: right;\n",
       "    }\n",
       "</style>\n",
       "<table border=\"1\" class=\"dataframe\">\n",
       "  <thead>\n",
       "    <tr style=\"text-align: right;\">\n",
       "      <th></th>\n",
       "      <th>feature</th>\n",
       "      <th>coef</th>\n",
       "    </tr>\n",
       "  </thead>\n",
       "  <tbody>\n",
       "    <tr>\n",
       "      <th>22</th>\n",
       "      <td>dec</td>\n",
       "      <td>0.738683</td>\n",
       "    </tr>\n",
       "    <tr>\n",
       "      <th>21</th>\n",
       "      <td>ra</td>\n",
       "      <td>0.209544</td>\n",
       "    </tr>\n",
       "    <tr>\n",
       "      <th>5</th>\n",
       "      <td>pl_orbsmax</td>\n",
       "      <td>0.010379</td>\n",
       "    </tr>\n",
       "    <tr>\n",
       "      <th>1</th>\n",
       "      <td>sy_pnum</td>\n",
       "      <td>0.006039</td>\n",
       "    </tr>\n",
       "    <tr>\n",
       "      <th>23</th>\n",
       "      <td>sy_dist</td>\n",
       "      <td>0.005656</td>\n",
       "    </tr>\n",
       "    <tr>\n",
       "      <th>2</th>\n",
       "      <td>disc_year</td>\n",
       "      <td>0.004575</td>\n",
       "    </tr>\n",
       "    <tr>\n",
       "      <th>24</th>\n",
       "      <td>sy_vmag</td>\n",
       "      <td>0.003596</td>\n",
       "    </tr>\n",
       "    <tr>\n",
       "      <th>16</th>\n",
       "      <td>st_rad</td>\n",
       "      <td>0.003594</td>\n",
       "    </tr>\n",
       "    <tr>\n",
       "      <th>7</th>\n",
       "      <td>pl_radj</td>\n",
       "      <td>0.003279</td>\n",
       "    </tr>\n",
       "    <tr>\n",
       "      <th>18</th>\n",
       "      <td>st_met</td>\n",
       "      <td>0.002993</td>\n",
       "    </tr>\n",
       "    <tr>\n",
       "      <th>17</th>\n",
       "      <td>st_mass</td>\n",
       "      <td>0.002659</td>\n",
       "    </tr>\n",
       "    <tr>\n",
       "      <th>14</th>\n",
       "      <td>pl_ratdor</td>\n",
       "      <td>0.002194</td>\n",
       "    </tr>\n",
       "    <tr>\n",
       "      <th>11</th>\n",
       "      <td>pl_insol</td>\n",
       "      <td>0.001709</td>\n",
       "    </tr>\n",
       "    <tr>\n",
       "      <th>0</th>\n",
       "      <td>sy_snum</td>\n",
       "      <td>0.001030</td>\n",
       "    </tr>\n",
       "    <tr>\n",
       "      <th>6</th>\n",
       "      <td>pl_rade</td>\n",
       "      <td>0.000978</td>\n",
       "    </tr>\n",
       "    <tr>\n",
       "      <th>8</th>\n",
       "      <td>pl_bmasse</td>\n",
       "      <td>0.000895</td>\n",
       "    </tr>\n",
       "    <tr>\n",
       "      <th>26</th>\n",
       "      <td>sy_gaiamag</td>\n",
       "      <td>0.000696</td>\n",
       "    </tr>\n",
       "    <tr>\n",
       "      <th>4</th>\n",
       "      <td>pl_orbper</td>\n",
       "      <td>0.000696</td>\n",
       "    </tr>\n",
       "    <tr>\n",
       "      <th>10</th>\n",
       "      <td>pl_orbeccen</td>\n",
       "      <td>0.000510</td>\n",
       "    </tr>\n",
       "    <tr>\n",
       "      <th>20</th>\n",
       "      <td>st_logg</td>\n",
       "      <td>0.000293</td>\n",
       "    </tr>\n",
       "    <tr>\n",
       "      <th>15</th>\n",
       "      <td>st_teff</td>\n",
       "      <td>0.000000</td>\n",
       "    </tr>\n",
       "    <tr>\n",
       "      <th>12</th>\n",
       "      <td>pl_eqt</td>\n",
       "      <td>0.000000</td>\n",
       "    </tr>\n",
       "    <tr>\n",
       "      <th>19</th>\n",
       "      <td>st_lum</td>\n",
       "      <td>0.000000</td>\n",
       "    </tr>\n",
       "    <tr>\n",
       "      <th>9</th>\n",
       "      <td>pl_bmassj</td>\n",
       "      <td>0.000000</td>\n",
       "    </tr>\n",
       "    <tr>\n",
       "      <th>3</th>\n",
       "      <td>pl_controv_flag</td>\n",
       "      <td>0.000000</td>\n",
       "    </tr>\n",
       "    <tr>\n",
       "      <th>25</th>\n",
       "      <td>sy_kmag</td>\n",
       "      <td>0.000000</td>\n",
       "    </tr>\n",
       "    <tr>\n",
       "      <th>13</th>\n",
       "      <td>ttv_flag</td>\n",
       "      <td>0.000000</td>\n",
       "    </tr>\n",
       "  </tbody>\n",
       "</table>\n",
       "</div>"
      ],
      "text/plain": [
       "            feature      coef\n",
       "22              dec  0.738683\n",
       "21               ra  0.209544\n",
       "5        pl_orbsmax  0.010379\n",
       "1           sy_pnum  0.006039\n",
       "23          sy_dist  0.005656\n",
       "2         disc_year  0.004575\n",
       "24          sy_vmag  0.003596\n",
       "16           st_rad  0.003594\n",
       "7           pl_radj  0.003279\n",
       "18           st_met  0.002993\n",
       "17          st_mass  0.002659\n",
       "14        pl_ratdor  0.002194\n",
       "11         pl_insol  0.001709\n",
       "0           sy_snum  0.001030\n",
       "6           pl_rade  0.000978\n",
       "8         pl_bmasse  0.000895\n",
       "26       sy_gaiamag  0.000696\n",
       "4         pl_orbper  0.000696\n",
       "10      pl_orbeccen  0.000510\n",
       "20          st_logg  0.000293\n",
       "15          st_teff  0.000000\n",
       "12           pl_eqt  0.000000\n",
       "19           st_lum  0.000000\n",
       "9         pl_bmassj  0.000000\n",
       "3   pl_controv_flag  0.000000\n",
       "25          sy_kmag  0.000000\n",
       "13         ttv_flag  0.000000"
      ]
     },
     "execution_count": 109,
     "metadata": {},
     "output_type": "execute_result"
    }
   ],
   "source": [
    "tree_model = DecisionTreeClassifier()\n",
    "tree_model.fit(X_train, y_train)\n",
    "tree_importance = list(zip(tree_model.feature_importances_, X_train.columns.tolist()))\n",
    "tree_y_hat = tree_model.predict(X_test)\n",
    "print(f\"Decision Tree Classifier Model score is: {accuracy_score(y_test, tree_y_hat)}\")\n",
    "\n",
    "tree_df = pd.DataFrame(columns=[\"feature\", \"coef\"])\n",
    "for ind, item in tree_importance:\n",
    "    tree_df.loc[len(tree_df)] = item, ind\n",
    "\n",
    "tree_df.sort_values(by=\"coef\", ascending=False)"
   ]
  },
  {
   "cell_type": "code",
   "execution_count": 115,
   "metadata": {},
   "outputs": [
    {
     "name": "stdout",
     "output_type": "stream",
     "text": [
      "Decision Tree Classifier Model score is: 0.9939061547836685\n"
     ]
    },
    {
     "data": {
      "text/html": [
       "<div>\n",
       "<style scoped>\n",
       "    .dataframe tbody tr th:only-of-type {\n",
       "        vertical-align: middle;\n",
       "    }\n",
       "\n",
       "    .dataframe tbody tr th {\n",
       "        vertical-align: top;\n",
       "    }\n",
       "\n",
       "    .dataframe thead th {\n",
       "        text-align: right;\n",
       "    }\n",
       "</style>\n",
       "<table border=\"1\" class=\"dataframe\">\n",
       "  <thead>\n",
       "    <tr style=\"text-align: right;\">\n",
       "      <th></th>\n",
       "      <th>feature</th>\n",
       "      <th>coef</th>\n",
       "    </tr>\n",
       "  </thead>\n",
       "  <tbody>\n",
       "    <tr>\n",
       "      <th>21</th>\n",
       "      <td>ra</td>\n",
       "      <td>0.226264</td>\n",
       "    </tr>\n",
       "    <tr>\n",
       "      <th>22</th>\n",
       "      <td>dec</td>\n",
       "      <td>0.218082</td>\n",
       "    </tr>\n",
       "    <tr>\n",
       "      <th>25</th>\n",
       "      <td>sy_kmag</td>\n",
       "      <td>0.095172</td>\n",
       "    </tr>\n",
       "    <tr>\n",
       "      <th>24</th>\n",
       "      <td>sy_vmag</td>\n",
       "      <td>0.081467</td>\n",
       "    </tr>\n",
       "    <tr>\n",
       "      <th>23</th>\n",
       "      <td>sy_dist</td>\n",
       "      <td>0.070952</td>\n",
       "    </tr>\n",
       "    <tr>\n",
       "      <th>26</th>\n",
       "      <td>sy_gaiamag</td>\n",
       "      <td>0.059471</td>\n",
       "    </tr>\n",
       "    <tr>\n",
       "      <th>11</th>\n",
       "      <td>pl_insol</td>\n",
       "      <td>0.043777</td>\n",
       "    </tr>\n",
       "    <tr>\n",
       "      <th>7</th>\n",
       "      <td>pl_radj</td>\n",
       "      <td>0.038611</td>\n",
       "    </tr>\n",
       "    <tr>\n",
       "      <th>6</th>\n",
       "      <td>pl_rade</td>\n",
       "      <td>0.026575</td>\n",
       "    </tr>\n",
       "    <tr>\n",
       "      <th>14</th>\n",
       "      <td>pl_ratdor</td>\n",
       "      <td>0.021120</td>\n",
       "    </tr>\n",
       "    <tr>\n",
       "      <th>8</th>\n",
       "      <td>pl_bmasse</td>\n",
       "      <td>0.020259</td>\n",
       "    </tr>\n",
       "    <tr>\n",
       "      <th>9</th>\n",
       "      <td>pl_bmassj</td>\n",
       "      <td>0.016707</td>\n",
       "    </tr>\n",
       "    <tr>\n",
       "      <th>12</th>\n",
       "      <td>pl_eqt</td>\n",
       "      <td>0.016189</td>\n",
       "    </tr>\n",
       "    <tr>\n",
       "      <th>10</th>\n",
       "      <td>pl_orbeccen</td>\n",
       "      <td>0.010869</td>\n",
       "    </tr>\n",
       "    <tr>\n",
       "      <th>2</th>\n",
       "      <td>disc_year</td>\n",
       "      <td>0.010093</td>\n",
       "    </tr>\n",
       "    <tr>\n",
       "      <th>5</th>\n",
       "      <td>pl_orbsmax</td>\n",
       "      <td>0.006432</td>\n",
       "    </tr>\n",
       "    <tr>\n",
       "      <th>1</th>\n",
       "      <td>sy_pnum</td>\n",
       "      <td>0.006134</td>\n",
       "    </tr>\n",
       "    <tr>\n",
       "      <th>16</th>\n",
       "      <td>st_rad</td>\n",
       "      <td>0.005521</td>\n",
       "    </tr>\n",
       "    <tr>\n",
       "      <th>19</th>\n",
       "      <td>st_lum</td>\n",
       "      <td>0.005414</td>\n",
       "    </tr>\n",
       "    <tr>\n",
       "      <th>15</th>\n",
       "      <td>st_teff</td>\n",
       "      <td>0.005065</td>\n",
       "    </tr>\n",
       "    <tr>\n",
       "      <th>4</th>\n",
       "      <td>pl_orbper</td>\n",
       "      <td>0.004183</td>\n",
       "    </tr>\n",
       "    <tr>\n",
       "      <th>17</th>\n",
       "      <td>st_mass</td>\n",
       "      <td>0.003270</td>\n",
       "    </tr>\n",
       "    <tr>\n",
       "      <th>18</th>\n",
       "      <td>st_met</td>\n",
       "      <td>0.003035</td>\n",
       "    </tr>\n",
       "    <tr>\n",
       "      <th>20</th>\n",
       "      <td>st_logg</td>\n",
       "      <td>0.002803</td>\n",
       "    </tr>\n",
       "    <tr>\n",
       "      <th>13</th>\n",
       "      <td>ttv_flag</td>\n",
       "      <td>0.001689</td>\n",
       "    </tr>\n",
       "    <tr>\n",
       "      <th>0</th>\n",
       "      <td>sy_snum</td>\n",
       "      <td>0.000779</td>\n",
       "    </tr>\n",
       "    <tr>\n",
       "      <th>3</th>\n",
       "      <td>pl_controv_flag</td>\n",
       "      <td>0.000069</td>\n",
       "    </tr>\n",
       "  </tbody>\n",
       "</table>\n",
       "</div>"
      ],
      "text/plain": [
       "            feature      coef\n",
       "21               ra  0.226264\n",
       "22              dec  0.218082\n",
       "25          sy_kmag  0.095172\n",
       "24          sy_vmag  0.081467\n",
       "23          sy_dist  0.070952\n",
       "26       sy_gaiamag  0.059471\n",
       "11         pl_insol  0.043777\n",
       "7           pl_radj  0.038611\n",
       "6           pl_rade  0.026575\n",
       "14        pl_ratdor  0.021120\n",
       "8         pl_bmasse  0.020259\n",
       "9         pl_bmassj  0.016707\n",
       "12           pl_eqt  0.016189\n",
       "10      pl_orbeccen  0.010869\n",
       "2         disc_year  0.010093\n",
       "5        pl_orbsmax  0.006432\n",
       "1           sy_pnum  0.006134\n",
       "16           st_rad  0.005521\n",
       "19           st_lum  0.005414\n",
       "15          st_teff  0.005065\n",
       "4         pl_orbper  0.004183\n",
       "17          st_mass  0.003270\n",
       "18           st_met  0.003035\n",
       "20          st_logg  0.002803\n",
       "13         ttv_flag  0.001689\n",
       "0           sy_snum  0.000779\n",
       "3   pl_controv_flag  0.000069"
      ]
     },
     "execution_count": 115,
     "metadata": {},
     "output_type": "execute_result"
    }
   ],
   "source": [
    "r_tree_model = RandomForestClassifier()\n",
    "r_tree_model.fit(X_train, y_train)\n",
    "r_tree_importance = list(zip(r_tree_model.feature_importances_, X_train.columns.tolist()))\n",
    "r_tree_y_hat = r_tree_model.predict(X_test)\n",
    "print(f\"Decision Tree Classifier Model score is: {accuracy_score(y_test, r_tree_y_hat)}\")\n",
    "\n",
    "r_tree_df = pd.DataFrame(columns=[\"feature\", \"coef\"])\n",
    "for ind, item in r_tree_importance:\n",
    "    r_tree_df.loc[len(r_tree_df)] = item, ind\n",
    "\n",
    "r_tree_df.sort_values(by=\"coef\", ascending=False)"
   ]
  },
  {
   "cell_type": "markdown",
   "metadata": {},
   "source": [
    "## 3. Define Habitable Zone\n",
    "![formula](data/hz_formula_with_e.png)\n",
    "- Source: https://www.planetarybiology.com/calculating_habitable_zone.html"
   ]
  },
  {
   "cell_type": "markdown",
   "metadata": {},
   "source": [
    "#### Based on Stellar Luminosity and Radius"
   ]
  },
  {
   "cell_type": "code",
   "execution_count": 126,
   "metadata": {},
   "outputs": [
    {
     "data": {
      "text/html": [
       "<div>\n",
       "<style scoped>\n",
       "    .dataframe tbody tr th:only-of-type {\n",
       "        vertical-align: middle;\n",
       "    }\n",
       "\n",
       "    .dataframe tbody tr th {\n",
       "        vertical-align: top;\n",
       "    }\n",
       "\n",
       "    .dataframe thead th {\n",
       "        text-align: right;\n",
       "    }\n",
       "</style>\n",
       "<table border=\"1\" class=\"dataframe\">\n",
       "  <thead>\n",
       "    <tr style=\"text-align: right;\">\n",
       "      <th></th>\n",
       "      <th>0</th>\n",
       "    </tr>\n",
       "    <tr>\n",
       "      <th>habitability</th>\n",
       "      <th></th>\n",
       "    </tr>\n",
       "  </thead>\n",
       "  <tbody>\n",
       "    <tr>\n",
       "      <th>False</th>\n",
       "      <td>5224</td>\n",
       "    </tr>\n",
       "    <tr>\n",
       "      <th>True</th>\n",
       "      <td>246</td>\n",
       "    </tr>\n",
       "  </tbody>\n",
       "</table>\n",
       "</div>"
      ],
      "text/plain": [
       "                 0\n",
       "habitability      \n",
       "False         5224\n",
       "True           246"
      ]
     },
     "metadata": {},
     "output_type": "display_data"
    },
    {
     "data": {
      "text/html": [
       "<div>\n",
       "<style scoped>\n",
       "    .dataframe tbody tr th:only-of-type {\n",
       "        vertical-align: middle;\n",
       "    }\n",
       "\n",
       "    .dataframe tbody tr th {\n",
       "        vertical-align: top;\n",
       "    }\n",
       "\n",
       "    .dataframe thead th {\n",
       "        text-align: right;\n",
       "    }\n",
       "</style>\n",
       "<table border=\"1\" class=\"dataframe\">\n",
       "  <thead>\n",
       "    <tr style=\"text-align: right;\">\n",
       "      <th></th>\n",
       "      <th>pl_name</th>\n",
       "      <th>hostname</th>\n",
       "      <th>sy_snum</th>\n",
       "      <th>sy_pnum</th>\n",
       "      <th>discoverymethod</th>\n",
       "      <th>disc_year</th>\n",
       "      <th>disc_facility</th>\n",
       "      <th>pl_controv_flag</th>\n",
       "      <th>pl_orbper</th>\n",
       "      <th>pl_orbsmax</th>\n",
       "      <th>...</th>\n",
       "      <th>sy_vmag</th>\n",
       "      <th>sy_kmag</th>\n",
       "      <th>sy_gaiamag</th>\n",
       "      <th>st_spectype_modified</th>\n",
       "      <th>rad_classification</th>\n",
       "      <th>koi_classification</th>\n",
       "      <th>rad_in_au</th>\n",
       "      <th>r_inner</th>\n",
       "      <th>r_outer</th>\n",
       "      <th>habitability</th>\n",
       "    </tr>\n",
       "  </thead>\n",
       "  <tbody>\n",
       "    <tr>\n",
       "      <th>0</th>\n",
       "      <td>11 Com b</td>\n",
       "      <td>11 Com</td>\n",
       "      <td>2</td>\n",
       "      <td>1</td>\n",
       "      <td>Radial Velocity</td>\n",
       "      <td>2007</td>\n",
       "      <td>Xinglong Station</td>\n",
       "      <td>0</td>\n",
       "      <td>326.03000</td>\n",
       "      <td>1.290</td>\n",
       "      <td>...</td>\n",
       "      <td>4.72307</td>\n",
       "      <td>2.282</td>\n",
       "      <td>4.44038</td>\n",
       "      <td>G</td>\n",
       "      <td>Undefined</td>\n",
       "      <td>Exoplanet</td>\n",
       "      <td>0.515301</td>\n",
       "      <td>33.530674</td>\n",
       "      <td>48.305957</td>\n",
       "      <td>False</td>\n",
       "    </tr>\n",
       "    <tr>\n",
       "      <th>1</th>\n",
       "      <td>11 UMi b</td>\n",
       "      <td>11 UMi</td>\n",
       "      <td>1</td>\n",
       "      <td>1</td>\n",
       "      <td>Radial Velocity</td>\n",
       "      <td>2009</td>\n",
       "      <td>Thueringer Landessternwarte Tautenburg</td>\n",
       "      <td>0</td>\n",
       "      <td>516.21997</td>\n",
       "      <td>1.530</td>\n",
       "      <td>...</td>\n",
       "      <td>5.01300</td>\n",
       "      <td>1.939</td>\n",
       "      <td>4.56216</td>\n",
       "      <td>G</td>\n",
       "      <td>Undefined</td>\n",
       "      <td>Exoplanet</td>\n",
       "      <td>0.523819</td>\n",
       "      <td>34.900430</td>\n",
       "      <td>50.279296</td>\n",
       "      <td>False</td>\n",
       "    </tr>\n",
       "    <tr>\n",
       "      <th>2</th>\n",
       "      <td>14 And b</td>\n",
       "      <td>14 And</td>\n",
       "      <td>1</td>\n",
       "      <td>1</td>\n",
       "      <td>Radial Velocity</td>\n",
       "      <td>2008</td>\n",
       "      <td>Okayama Astrophysical Observatory</td>\n",
       "      <td>0</td>\n",
       "      <td>185.84000</td>\n",
       "      <td>0.830</td>\n",
       "      <td>...</td>\n",
       "      <td>5.23133</td>\n",
       "      <td>2.331</td>\n",
       "      <td>4.91781</td>\n",
       "      <td>G</td>\n",
       "      <td>Undefined</td>\n",
       "      <td>Exoplanet</td>\n",
       "      <td>0.549371</td>\n",
       "      <td>29.727186</td>\n",
       "      <td>42.826463</td>\n",
       "      <td>False</td>\n",
       "    </tr>\n",
       "    <tr>\n",
       "      <th>3</th>\n",
       "      <td>14 Her b</td>\n",
       "      <td>14 Her</td>\n",
       "      <td>1</td>\n",
       "      <td>2</td>\n",
       "      <td>Radial Velocity</td>\n",
       "      <td>2002</td>\n",
       "      <td>W. M. Keck Observatory</td>\n",
       "      <td>0</td>\n",
       "      <td>1765.03890</td>\n",
       "      <td>2.774</td>\n",
       "      <td>...</td>\n",
       "      <td>6.61935</td>\n",
       "      <td>4.714</td>\n",
       "      <td>6.38300</td>\n",
       "      <td>G</td>\n",
       "      <td>Undefined</td>\n",
       "      <td>Exoplanet</td>\n",
       "      <td>0.536595</td>\n",
       "      <td>NaN</td>\n",
       "      <td>NaN</td>\n",
       "      <td>False</td>\n",
       "    </tr>\n",
       "    <tr>\n",
       "      <th>4</th>\n",
       "      <td>16 Cyg B b</td>\n",
       "      <td>16 Cyg B</td>\n",
       "      <td>3</td>\n",
       "      <td>1</td>\n",
       "      <td>Radial Velocity</td>\n",
       "      <td>1996</td>\n",
       "      <td>Multiple Observatories</td>\n",
       "      <td>0</td>\n",
       "      <td>798.50000</td>\n",
       "      <td>1.660</td>\n",
       "      <td>...</td>\n",
       "      <td>6.21500</td>\n",
       "      <td>4.651</td>\n",
       "      <td>6.06428</td>\n",
       "      <td>G</td>\n",
       "      <td>Undefined</td>\n",
       "      <td>Exoplanet</td>\n",
       "      <td>0.574923</td>\n",
       "      <td>6.972901</td>\n",
       "      <td>10.045508</td>\n",
       "      <td>False</td>\n",
       "    </tr>\n",
       "  </tbody>\n",
       "</table>\n",
       "<p>5 rows × 43 columns</p>\n",
       "</div>"
      ],
      "text/plain": [
       "      pl_name  hostname  sy_snum  sy_pnum  discoverymethod  disc_year  \\\n",
       "0    11 Com b    11 Com        2        1  Radial Velocity       2007   \n",
       "1    11 UMi b    11 UMi        1        1  Radial Velocity       2009   \n",
       "2    14 And b    14 And        1        1  Radial Velocity       2008   \n",
       "3    14 Her b    14 Her        1        2  Radial Velocity       2002   \n",
       "4  16 Cyg B b  16 Cyg B        3        1  Radial Velocity       1996   \n",
       "\n",
       "                            disc_facility  pl_controv_flag   pl_orbper  \\\n",
       "0                        Xinglong Station                0   326.03000   \n",
       "1  Thueringer Landessternwarte Tautenburg                0   516.21997   \n",
       "2       Okayama Astrophysical Observatory                0   185.84000   \n",
       "3                  W. M. Keck Observatory                0  1765.03890   \n",
       "4                  Multiple Observatories                0   798.50000   \n",
       "\n",
       "   pl_orbsmax  ...  sy_vmag  sy_kmag  sy_gaiamag  st_spectype_modified  \\\n",
       "0       1.290  ...  4.72307    2.282     4.44038                     G   \n",
       "1       1.530  ...  5.01300    1.939     4.56216                     G   \n",
       "2       0.830  ...  5.23133    2.331     4.91781                     G   \n",
       "3       2.774  ...  6.61935    4.714     6.38300                     G   \n",
       "4       1.660  ...  6.21500    4.651     6.06428                     G   \n",
       "\n",
       "  rad_classification  koi_classification  rad_in_au    r_inner    r_outer  \\\n",
       "0          Undefined           Exoplanet   0.515301  33.530674  48.305957   \n",
       "1          Undefined           Exoplanet   0.523819  34.900430  50.279296   \n",
       "2          Undefined           Exoplanet   0.549371  29.727186  42.826463   \n",
       "3          Undefined           Exoplanet   0.536595        NaN        NaN   \n",
       "4          Undefined           Exoplanet   0.574923   6.972901  10.045508   \n",
       "\n",
       "   habitability  \n",
       "0         False  \n",
       "1         False  \n",
       "2         False  \n",
       "3         False  \n",
       "4         False  \n",
       "\n",
       "[5 rows x 43 columns]"
      ]
     },
     "execution_count": 126,
     "metadata": {},
     "output_type": "execute_result"
    }
   ],
   "source": [
    "solar_lum = np.log(3.828 * (10 ** 26))\n",
    "earth_rad = 6371000\n",
    "\n",
    "def revert_to_km_rade(value):\n",
    "    km_converted = value * 1.496 * (10 ** 8)\n",
    "    earth_converted = km_converted / earth_rad\n",
    "    return earth_converted\n",
    "\n",
    "def calculate_lum(df):\n",
    "    df[\"r_inner\"] = revert_to_km_rade((df[\"st_lum\"] / 1.1) ** (1/2))\n",
    "    df[\"r_outer\"] = revert_to_km_rade((df[\"st_lum\"] / 0.53) ** (1/2))\n",
    "    return df\n",
    "\n",
    "def identify_habitability(rade, r_inner, r_outer):\n",
    "    return True if (rade > r_inner) & (rade < r_outer) else False\n",
    "\n",
    "exo = calculate_lum(exo)\n",
    "exo[\"habitability\"] = exo.apply(lambda row: identify_habitability(row.pl_rade, row.r_inner, row.r_outer), axis=1)\n",
    "display(exo.groupby([\"habitability\"]).size().to_frame())\n",
    "exo.head()"
   ]
  },
  {
   "cell_type": "code",
   "execution_count": 157,
   "metadata": {},
   "outputs": [
    {
     "name": "stdout",
     "output_type": "stream",
     "text": [
      "(34923, 44)\n"
     ]
    },
    {
     "data": {
      "text/html": [
       "<div>\n",
       "<style scoped>\n",
       "    .dataframe tbody tr th:only-of-type {\n",
       "        vertical-align: middle;\n",
       "    }\n",
       "\n",
       "    .dataframe tbody tr th {\n",
       "        vertical-align: top;\n",
       "    }\n",
       "\n",
       "    .dataframe thead th {\n",
       "        text-align: right;\n",
       "    }\n",
       "</style>\n",
       "<table border=\"1\" class=\"dataframe\">\n",
       "  <thead>\n",
       "    <tr style=\"text-align: right;\">\n",
       "      <th></th>\n",
       "      <th>pl_name</th>\n",
       "      <th>hostname</th>\n",
       "      <th>sy_snum</th>\n",
       "      <th>sy_pnum</th>\n",
       "      <th>discoverymethod</th>\n",
       "      <th>disc_year</th>\n",
       "      <th>disc_facility</th>\n",
       "      <th>pl_controv_flag</th>\n",
       "      <th>pl_orbper</th>\n",
       "      <th>pl_orbsmax</th>\n",
       "      <th>...</th>\n",
       "      <th>sy_kmag</th>\n",
       "      <th>sy_gaiamag</th>\n",
       "      <th>st_spectype_modified</th>\n",
       "      <th>rad_classification</th>\n",
       "      <th>koi_classification</th>\n",
       "      <th>rad_in_au</th>\n",
       "      <th>r_inner</th>\n",
       "      <th>r_outer</th>\n",
       "      <th>habitability</th>\n",
       "      <th>pl_msinie</th>\n",
       "    </tr>\n",
       "  </thead>\n",
       "  <tbody>\n",
       "    <tr>\n",
       "      <th>0</th>\n",
       "      <td>11 Com b</td>\n",
       "      <td>11 Com</td>\n",
       "      <td>2</td>\n",
       "      <td>1</td>\n",
       "      <td>Radial Velocity</td>\n",
       "      <td>2007</td>\n",
       "      <td>Xinglong Station</td>\n",
       "      <td>0</td>\n",
       "      <td>326.03000</td>\n",
       "      <td>1.29</td>\n",
       "      <td>...</td>\n",
       "      <td>2.282</td>\n",
       "      <td>4.44038</td>\n",
       "      <td>G</td>\n",
       "      <td>Undefined</td>\n",
       "      <td>Exoplanet</td>\n",
       "      <td>0.515301</td>\n",
       "      <td>33.530674</td>\n",
       "      <td>48.305957</td>\n",
       "      <td>False</td>\n",
       "      <td>5434.7000</td>\n",
       "    </tr>\n",
       "    <tr>\n",
       "      <th>1</th>\n",
       "      <td>11 Com b</td>\n",
       "      <td>11 Com</td>\n",
       "      <td>2</td>\n",
       "      <td>1</td>\n",
       "      <td>Radial Velocity</td>\n",
       "      <td>2007</td>\n",
       "      <td>Xinglong Station</td>\n",
       "      <td>0</td>\n",
       "      <td>326.03000</td>\n",
       "      <td>1.29</td>\n",
       "      <td>...</td>\n",
       "      <td>2.282</td>\n",
       "      <td>4.44038</td>\n",
       "      <td>G</td>\n",
       "      <td>Undefined</td>\n",
       "      <td>Exoplanet</td>\n",
       "      <td>0.515301</td>\n",
       "      <td>33.530674</td>\n",
       "      <td>48.305957</td>\n",
       "      <td>False</td>\n",
       "      <td>6165.6000</td>\n",
       "    </tr>\n",
       "    <tr>\n",
       "      <th>2</th>\n",
       "      <td>11 UMi b</td>\n",
       "      <td>11 UMi</td>\n",
       "      <td>1</td>\n",
       "      <td>1</td>\n",
       "      <td>Radial Velocity</td>\n",
       "      <td>2009</td>\n",
       "      <td>Thueringer Landessternwarte Tautenburg</td>\n",
       "      <td>0</td>\n",
       "      <td>516.21997</td>\n",
       "      <td>1.53</td>\n",
       "      <td>...</td>\n",
       "      <td>1.939</td>\n",
       "      <td>4.56216</td>\n",
       "      <td>G</td>\n",
       "      <td>Undefined</td>\n",
       "      <td>Exoplanet</td>\n",
       "      <td>0.523819</td>\n",
       "      <td>34.900430</td>\n",
       "      <td>50.279296</td>\n",
       "      <td>False</td>\n",
       "      <td>3432.4000</td>\n",
       "    </tr>\n",
       "    <tr>\n",
       "      <th>3</th>\n",
       "      <td>11 UMi b</td>\n",
       "      <td>11 UMi</td>\n",
       "      <td>1</td>\n",
       "      <td>1</td>\n",
       "      <td>Radial Velocity</td>\n",
       "      <td>2009</td>\n",
       "      <td>Thueringer Landessternwarte Tautenburg</td>\n",
       "      <td>0</td>\n",
       "      <td>516.21997</td>\n",
       "      <td>1.53</td>\n",
       "      <td>...</td>\n",
       "      <td>1.939</td>\n",
       "      <td>4.56216</td>\n",
       "      <td>G</td>\n",
       "      <td>Undefined</td>\n",
       "      <td>Exoplanet</td>\n",
       "      <td>0.523819</td>\n",
       "      <td>34.900430</td>\n",
       "      <td>50.279296</td>\n",
       "      <td>False</td>\n",
       "      <td>4684.8142</td>\n",
       "    </tr>\n",
       "    <tr>\n",
       "      <th>4</th>\n",
       "      <td>11 UMi b</td>\n",
       "      <td>11 UMi</td>\n",
       "      <td>1</td>\n",
       "      <td>1</td>\n",
       "      <td>Radial Velocity</td>\n",
       "      <td>2009</td>\n",
       "      <td>Thueringer Landessternwarte Tautenburg</td>\n",
       "      <td>0</td>\n",
       "      <td>516.21997</td>\n",
       "      <td>1.53</td>\n",
       "      <td>...</td>\n",
       "      <td>1.939</td>\n",
       "      <td>4.56216</td>\n",
       "      <td>G</td>\n",
       "      <td>Undefined</td>\n",
       "      <td>Exoplanet</td>\n",
       "      <td>0.523819</td>\n",
       "      <td>34.900430</td>\n",
       "      <td>50.279296</td>\n",
       "      <td>False</td>\n",
       "      <td>3337.0700</td>\n",
       "    </tr>\n",
       "  </tbody>\n",
       "</table>\n",
       "<p>5 rows × 44 columns</p>\n",
       "</div>"
      ],
      "text/plain": [
       "    pl_name hostname  sy_snum  sy_pnum  discoverymethod  disc_year  \\\n",
       "0  11 Com b   11 Com        2        1  Radial Velocity       2007   \n",
       "1  11 Com b   11 Com        2        1  Radial Velocity       2007   \n",
       "2  11 UMi b   11 UMi        1        1  Radial Velocity       2009   \n",
       "3  11 UMi b   11 UMi        1        1  Radial Velocity       2009   \n",
       "4  11 UMi b   11 UMi        1        1  Radial Velocity       2009   \n",
       "\n",
       "                            disc_facility  pl_controv_flag  pl_orbper  \\\n",
       "0                        Xinglong Station                0  326.03000   \n",
       "1                        Xinglong Station                0  326.03000   \n",
       "2  Thueringer Landessternwarte Tautenburg                0  516.21997   \n",
       "3  Thueringer Landessternwarte Tautenburg                0  516.21997   \n",
       "4  Thueringer Landessternwarte Tautenburg                0  516.21997   \n",
       "\n",
       "   pl_orbsmax  ...  sy_kmag  sy_gaiamag  st_spectype_modified  \\\n",
       "0        1.29  ...    2.282     4.44038                     G   \n",
       "1        1.29  ...    2.282     4.44038                     G   \n",
       "2        1.53  ...    1.939     4.56216                     G   \n",
       "3        1.53  ...    1.939     4.56216                     G   \n",
       "4        1.53  ...    1.939     4.56216                     G   \n",
       "\n",
       "   rad_classification koi_classification  rad_in_au    r_inner    r_outer  \\\n",
       "0           Undefined          Exoplanet   0.515301  33.530674  48.305957   \n",
       "1           Undefined          Exoplanet   0.515301  33.530674  48.305957   \n",
       "2           Undefined          Exoplanet   0.523819  34.900430  50.279296   \n",
       "3           Undefined          Exoplanet   0.523819  34.900430  50.279296   \n",
       "4           Undefined          Exoplanet   0.523819  34.900430  50.279296   \n",
       "\n",
       "   habitability  pl_msinie  \n",
       "0         False  5434.7000  \n",
       "1         False  6165.6000  \n",
       "2         False  3432.4000  \n",
       "3         False  4684.8142  \n",
       "4         False  3337.0700  \n",
       "\n",
       "[5 rows x 44 columns]"
      ]
     },
     "execution_count": 157,
     "metadata": {},
     "output_type": "execute_result"
    }
   ],
   "source": [
    "exo_mass = pd.read_csv(\"data/planetary_data_with_mass.csv\", skiprows=50)\n",
    "exo_merge = exo.merge(exo_mass[[\"pl_name\", \"pl_msinie\"]], on=\"pl_name\", how=\"outer\")\n",
    "print(exo_merge.shape)\n",
    "exo_merge[\"pl_msinie\"].count()\n",
    "exo_merge.head()"
   ]
  },
  {
   "cell_type": "code",
   "execution_count": 156,
   "metadata": {},
   "outputs": [
    {
     "data": {
      "text/html": [
       "<div>\n",
       "<style scoped>\n",
       "    .dataframe tbody tr th:only-of-type {\n",
       "        vertical-align: middle;\n",
       "    }\n",
       "\n",
       "    .dataframe tbody tr th {\n",
       "        vertical-align: top;\n",
       "    }\n",
       "\n",
       "    .dataframe thead th {\n",
       "        text-align: right;\n",
       "    }\n",
       "</style>\n",
       "<table border=\"1\" class=\"dataframe\">\n",
       "  <thead>\n",
       "    <tr style=\"text-align: right;\">\n",
       "      <th></th>\n",
       "      <th>0</th>\n",
       "    </tr>\n",
       "    <tr>\n",
       "      <th>rocky</th>\n",
       "      <th></th>\n",
       "    </tr>\n",
       "  </thead>\n",
       "  <tbody>\n",
       "    <tr>\n",
       "      <th>False</th>\n",
       "      <td>26459</td>\n",
       "    </tr>\n",
       "    <tr>\n",
       "      <th>True</th>\n",
       "      <td>8464</td>\n",
       "    </tr>\n",
       "  </tbody>\n",
       "</table>\n",
       "</div>"
      ],
      "text/plain": [
       "           0\n",
       "rocky       \n",
       "False  26459\n",
       "True    8464"
      ]
     },
     "metadata": {},
     "output_type": "display_data"
    },
    {
     "data": {
      "text/html": [
       "<div>\n",
       "<style scoped>\n",
       "    .dataframe tbody tr th:only-of-type {\n",
       "        vertical-align: middle;\n",
       "    }\n",
       "\n",
       "    .dataframe tbody tr th {\n",
       "        vertical-align: top;\n",
       "    }\n",
       "\n",
       "    .dataframe thead th {\n",
       "        text-align: right;\n",
       "    }\n",
       "</style>\n",
       "<table border=\"1\" class=\"dataframe\">\n",
       "  <thead>\n",
       "    <tr style=\"text-align: right;\">\n",
       "      <th></th>\n",
       "      <th>pl_name</th>\n",
       "      <th>hostname</th>\n",
       "      <th>sy_snum</th>\n",
       "      <th>sy_pnum</th>\n",
       "      <th>discoverymethod</th>\n",
       "      <th>disc_year</th>\n",
       "      <th>disc_facility</th>\n",
       "      <th>pl_controv_flag</th>\n",
       "      <th>pl_orbper</th>\n",
       "      <th>pl_orbsmax</th>\n",
       "      <th>...</th>\n",
       "      <th>sy_gaiamag</th>\n",
       "      <th>st_spectype_modified</th>\n",
       "      <th>rad_classification</th>\n",
       "      <th>koi_classification</th>\n",
       "      <th>rad_in_au</th>\n",
       "      <th>r_inner</th>\n",
       "      <th>r_outer</th>\n",
       "      <th>habitability</th>\n",
       "      <th>pl_msinie</th>\n",
       "      <th>rocky</th>\n",
       "    </tr>\n",
       "  </thead>\n",
       "  <tbody>\n",
       "    <tr>\n",
       "      <th>341</th>\n",
       "      <td>DMPP-3 A b</td>\n",
       "      <td>DMPP-3 A</td>\n",
       "      <td>2</td>\n",
       "      <td>1</td>\n",
       "      <td>Radial Velocity</td>\n",
       "      <td>2019</td>\n",
       "      <td>La Silla Observatory</td>\n",
       "      <td>0</td>\n",
       "      <td>6.67320</td>\n",
       "      <td>0.06620</td>\n",
       "      <td>...</td>\n",
       "      <td>8.854298</td>\n",
       "      <td>G</td>\n",
       "      <td>Undefined</td>\n",
       "      <td>Exoplanet</td>\n",
       "      <td>0.060048</td>\n",
       "      <td>NaN</td>\n",
       "      <td>NaN</td>\n",
       "      <td>False</td>\n",
       "      <td>2.58</td>\n",
       "      <td>True</td>\n",
       "    </tr>\n",
       "    <tr>\n",
       "      <th>342</th>\n",
       "      <td>DMPP-3 A b</td>\n",
       "      <td>DMPP-3 A</td>\n",
       "      <td>2</td>\n",
       "      <td>1</td>\n",
       "      <td>Radial Velocity</td>\n",
       "      <td>2019</td>\n",
       "      <td>La Silla Observatory</td>\n",
       "      <td>0</td>\n",
       "      <td>6.67320</td>\n",
       "      <td>0.06620</td>\n",
       "      <td>...</td>\n",
       "      <td>8.854298</td>\n",
       "      <td>G</td>\n",
       "      <td>Undefined</td>\n",
       "      <td>Exoplanet</td>\n",
       "      <td>0.060048</td>\n",
       "      <td>NaN</td>\n",
       "      <td>NaN</td>\n",
       "      <td>False</td>\n",
       "      <td>2.58</td>\n",
       "      <td>True</td>\n",
       "    </tr>\n",
       "    <tr>\n",
       "      <th>348</th>\n",
       "      <td>EPIC 201170410.02</td>\n",
       "      <td>EPIC 201170410</td>\n",
       "      <td>1</td>\n",
       "      <td>1</td>\n",
       "      <td>Transit</td>\n",
       "      <td>2020</td>\n",
       "      <td>K2</td>\n",
       "      <td>0</td>\n",
       "      <td>6.79870</td>\n",
       "      <td>0.03490</td>\n",
       "      <td>...</td>\n",
       "      <td>16.438600</td>\n",
       "      <td>Undefined</td>\n",
       "      <td>Undefined</td>\n",
       "      <td>Exoplanet</td>\n",
       "      <td>0.044588</td>\n",
       "      <td>NaN</td>\n",
       "      <td>NaN</td>\n",
       "      <td>False</td>\n",
       "      <td>NaN</td>\n",
       "      <td>True</td>\n",
       "    </tr>\n",
       "    <tr>\n",
       "      <th>351</th>\n",
       "      <td>EPIC 201427007 b</td>\n",
       "      <td>EPIC 201427007</td>\n",
       "      <td>1</td>\n",
       "      <td>1</td>\n",
       "      <td>Transit</td>\n",
       "      <td>2021</td>\n",
       "      <td>K2</td>\n",
       "      <td>0</td>\n",
       "      <td>0.72091</td>\n",
       "      <td>0.00000</td>\n",
       "      <td>...</td>\n",
       "      <td>14.147000</td>\n",
       "      <td>Undefined</td>\n",
       "      <td>Undefined</td>\n",
       "      <td>Exoplanet</td>\n",
       "      <td>0.063880</td>\n",
       "      <td>NaN</td>\n",
       "      <td>NaN</td>\n",
       "      <td>False</td>\n",
       "      <td>NaN</td>\n",
       "      <td>True</td>\n",
       "    </tr>\n",
       "    <tr>\n",
       "      <th>352</th>\n",
       "      <td>EPIC 201497682 b</td>\n",
       "      <td>EPIC 201497682</td>\n",
       "      <td>1</td>\n",
       "      <td>1</td>\n",
       "      <td>Transit</td>\n",
       "      <td>2019</td>\n",
       "      <td>K2</td>\n",
       "      <td>0</td>\n",
       "      <td>2.13174</td>\n",
       "      <td>0.00000</td>\n",
       "      <td>...</td>\n",
       "      <td>13.736800</td>\n",
       "      <td>Undefined</td>\n",
       "      <td>Undefined</td>\n",
       "      <td>Exoplanet</td>\n",
       "      <td>0.029470</td>\n",
       "      <td>NaN</td>\n",
       "      <td>NaN</td>\n",
       "      <td>False</td>\n",
       "      <td>NaN</td>\n",
       "      <td>True</td>\n",
       "    </tr>\n",
       "    <tr>\n",
       "      <th>...</th>\n",
       "      <td>...</td>\n",
       "      <td>...</td>\n",
       "      <td>...</td>\n",
       "      <td>...</td>\n",
       "      <td>...</td>\n",
       "      <td>...</td>\n",
       "      <td>...</td>\n",
       "      <td>...</td>\n",
       "      <td>...</td>\n",
       "      <td>...</td>\n",
       "      <td>...</td>\n",
       "      <td>...</td>\n",
       "      <td>...</td>\n",
       "      <td>...</td>\n",
       "      <td>...</td>\n",
       "      <td>...</td>\n",
       "      <td>...</td>\n",
       "      <td>...</td>\n",
       "      <td>...</td>\n",
       "      <td>...</td>\n",
       "      <td>...</td>\n",
       "    </tr>\n",
       "    <tr>\n",
       "      <th>34810</th>\n",
       "      <td>YZ Cet d</td>\n",
       "      <td>YZ Cet</td>\n",
       "      <td>1</td>\n",
       "      <td>3</td>\n",
       "      <td>Radial Velocity</td>\n",
       "      <td>2017</td>\n",
       "      <td>La Silla Observatory</td>\n",
       "      <td>0</td>\n",
       "      <td>4.65626</td>\n",
       "      <td>0.02851</td>\n",
       "      <td>...</td>\n",
       "      <td>10.429400</td>\n",
       "      <td>M</td>\n",
       "      <td>Undefined</td>\n",
       "      <td>Exoplanet</td>\n",
       "      <td>0.043865</td>\n",
       "      <td>NaN</td>\n",
       "      <td>NaN</td>\n",
       "      <td>False</td>\n",
       "      <td>1.21</td>\n",
       "      <td>True</td>\n",
       "    </tr>\n",
       "    <tr>\n",
       "      <th>34811</th>\n",
       "      <td>YZ Cet d</td>\n",
       "      <td>YZ Cet</td>\n",
       "      <td>1</td>\n",
       "      <td>3</td>\n",
       "      <td>Radial Velocity</td>\n",
       "      <td>2017</td>\n",
       "      <td>La Silla Observatory</td>\n",
       "      <td>0</td>\n",
       "      <td>4.65626</td>\n",
       "      <td>0.02851</td>\n",
       "      <td>...</td>\n",
       "      <td>10.429400</td>\n",
       "      <td>M</td>\n",
       "      <td>Undefined</td>\n",
       "      <td>Exoplanet</td>\n",
       "      <td>0.043865</td>\n",
       "      <td>NaN</td>\n",
       "      <td>NaN</td>\n",
       "      <td>False</td>\n",
       "      <td>1.09</td>\n",
       "      <td>True</td>\n",
       "    </tr>\n",
       "    <tr>\n",
       "      <th>34812</th>\n",
       "      <td>YZ Cet d</td>\n",
       "      <td>YZ Cet</td>\n",
       "      <td>1</td>\n",
       "      <td>3</td>\n",
       "      <td>Radial Velocity</td>\n",
       "      <td>2017</td>\n",
       "      <td>La Silla Observatory</td>\n",
       "      <td>0</td>\n",
       "      <td>4.65626</td>\n",
       "      <td>0.02851</td>\n",
       "      <td>...</td>\n",
       "      <td>10.429400</td>\n",
       "      <td>M</td>\n",
       "      <td>Undefined</td>\n",
       "      <td>Exoplanet</td>\n",
       "      <td>0.043865</td>\n",
       "      <td>NaN</td>\n",
       "      <td>NaN</td>\n",
       "      <td>False</td>\n",
       "      <td>1.14</td>\n",
       "      <td>True</td>\n",
       "    </tr>\n",
       "    <tr>\n",
       "      <th>34897</th>\n",
       "      <td>tau Cet g</td>\n",
       "      <td>tau Cet</td>\n",
       "      <td>1</td>\n",
       "      <td>4</td>\n",
       "      <td>Radial Velocity</td>\n",
       "      <td>2017</td>\n",
       "      <td>Multiple Observatories</td>\n",
       "      <td>0</td>\n",
       "      <td>20.00000</td>\n",
       "      <td>0.13300</td>\n",
       "      <td>...</td>\n",
       "      <td>3.248540</td>\n",
       "      <td>G</td>\n",
       "      <td>Undefined</td>\n",
       "      <td>Exoplanet</td>\n",
       "      <td>0.050253</td>\n",
       "      <td>NaN</td>\n",
       "      <td>NaN</td>\n",
       "      <td>False</td>\n",
       "      <td>1.75</td>\n",
       "      <td>True</td>\n",
       "    </tr>\n",
       "    <tr>\n",
       "      <th>34898</th>\n",
       "      <td>tau Cet h</td>\n",
       "      <td>tau Cet</td>\n",
       "      <td>1</td>\n",
       "      <td>4</td>\n",
       "      <td>Radial Velocity</td>\n",
       "      <td>2017</td>\n",
       "      <td>Multiple Observatories</td>\n",
       "      <td>0</td>\n",
       "      <td>49.41000</td>\n",
       "      <td>0.24300</td>\n",
       "      <td>...</td>\n",
       "      <td>3.248540</td>\n",
       "      <td>G</td>\n",
       "      <td>Undefined</td>\n",
       "      <td>Exoplanet</td>\n",
       "      <td>0.050678</td>\n",
       "      <td>NaN</td>\n",
       "      <td>NaN</td>\n",
       "      <td>False</td>\n",
       "      <td>1.83</td>\n",
       "      <td>True</td>\n",
       "    </tr>\n",
       "  </tbody>\n",
       "</table>\n",
       "<p>8464 rows × 45 columns</p>\n",
       "</div>"
      ],
      "text/plain": [
       "                 pl_name        hostname  sy_snum  sy_pnum  discoverymethod  \\\n",
       "341           DMPP-3 A b        DMPP-3 A        2        1  Radial Velocity   \n",
       "342           DMPP-3 A b        DMPP-3 A        2        1  Radial Velocity   \n",
       "348    EPIC 201170410.02  EPIC 201170410        1        1          Transit   \n",
       "351     EPIC 201427007 b  EPIC 201427007        1        1          Transit   \n",
       "352     EPIC 201497682 b  EPIC 201497682        1        1          Transit   \n",
       "...                  ...             ...      ...      ...              ...   \n",
       "34810           YZ Cet d          YZ Cet        1        3  Radial Velocity   \n",
       "34811           YZ Cet d          YZ Cet        1        3  Radial Velocity   \n",
       "34812           YZ Cet d          YZ Cet        1        3  Radial Velocity   \n",
       "34897          tau Cet g         tau Cet        1        4  Radial Velocity   \n",
       "34898          tau Cet h         tau Cet        1        4  Radial Velocity   \n",
       "\n",
       "       disc_year           disc_facility  pl_controv_flag  pl_orbper  \\\n",
       "341         2019    La Silla Observatory                0    6.67320   \n",
       "342         2019    La Silla Observatory                0    6.67320   \n",
       "348         2020                      K2                0    6.79870   \n",
       "351         2021                      K2                0    0.72091   \n",
       "352         2019                      K2                0    2.13174   \n",
       "...          ...                     ...              ...        ...   \n",
       "34810       2017    La Silla Observatory                0    4.65626   \n",
       "34811       2017    La Silla Observatory                0    4.65626   \n",
       "34812       2017    La Silla Observatory                0    4.65626   \n",
       "34897       2017  Multiple Observatories                0   20.00000   \n",
       "34898       2017  Multiple Observatories                0   49.41000   \n",
       "\n",
       "       pl_orbsmax  ...  sy_gaiamag  st_spectype_modified  rad_classification  \\\n",
       "341       0.06620  ...    8.854298                     G           Undefined   \n",
       "342       0.06620  ...    8.854298                     G           Undefined   \n",
       "348       0.03490  ...   16.438600             Undefined           Undefined   \n",
       "351       0.00000  ...   14.147000             Undefined           Undefined   \n",
       "352       0.00000  ...   13.736800             Undefined           Undefined   \n",
       "...           ...  ...         ...                   ...                 ...   \n",
       "34810     0.02851  ...   10.429400                     M           Undefined   \n",
       "34811     0.02851  ...   10.429400                     M           Undefined   \n",
       "34812     0.02851  ...   10.429400                     M           Undefined   \n",
       "34897     0.13300  ...    3.248540                     G           Undefined   \n",
       "34898     0.24300  ...    3.248540                     G           Undefined   \n",
       "\n",
       "       koi_classification rad_in_au  r_inner  r_outer  habitability  \\\n",
       "341             Exoplanet  0.060048      NaN      NaN         False   \n",
       "342             Exoplanet  0.060048      NaN      NaN         False   \n",
       "348             Exoplanet  0.044588      NaN      NaN         False   \n",
       "351             Exoplanet  0.063880      NaN      NaN         False   \n",
       "352             Exoplanet  0.029470      NaN      NaN         False   \n",
       "...                   ...       ...      ...      ...           ...   \n",
       "34810           Exoplanet  0.043865      NaN      NaN         False   \n",
       "34811           Exoplanet  0.043865      NaN      NaN         False   \n",
       "34812           Exoplanet  0.043865      NaN      NaN         False   \n",
       "34897           Exoplanet  0.050253      NaN      NaN         False   \n",
       "34898           Exoplanet  0.050678      NaN      NaN         False   \n",
       "\n",
       "       pl_msinie  rocky  \n",
       "341         2.58   True  \n",
       "342         2.58   True  \n",
       "348          NaN   True  \n",
       "351          NaN   True  \n",
       "352          NaN   True  \n",
       "...          ...    ...  \n",
       "34810       1.21   True  \n",
       "34811       1.09   True  \n",
       "34812       1.14   True  \n",
       "34897       1.75   True  \n",
       "34898       1.83   True  \n",
       "\n",
       "[8464 rows x 45 columns]"
      ]
     },
     "execution_count": 156,
     "metadata": {},
     "output_type": "execute_result"
    }
   ],
   "source": [
    "def apply_rocky(row):\n",
    "    return True if ((row[\"pl_rade\"] > 0.5) & (row[\"pl_rade\"] <= 1.6)) or ((row[\"pl_msinie\"] > 0.1) & (row[\"pl_msinie\"] <= 3)) else False\n",
    "\n",
    "exo_merge[\"rocky\"] = exo_merge.apply(apply_rocky, axis=1)\n",
    "display(exo_merge.groupby([\"rocky\"]).size().to_frame())\n",
    "exo_merge[(exo_merge[\"rocky\"] == True)]"
   ]
  },
  {
   "cell_type": "code",
   "execution_count": 154,
   "metadata": {},
   "outputs": [
    {
     "data": {
      "text/plain": [
       "351    1.5\n",
       "Name: pl_rade, dtype: float64"
      ]
     },
     "execution_count": 154,
     "metadata": {},
     "output_type": "execute_result"
    }
   ],
   "source": [
    "exo_merge[exo_merge[\"pl_name\"] == \"EPIC 201427007 b\"][\"pl_rade\"]"
   ]
  }
 ],
 "metadata": {
  "kernelspec": {
   "display_name": "base",
   "language": "python",
   "name": "python3"
  },
  "language_info": {
   "codemirror_mode": {
    "name": "ipython",
    "version": 3
   },
   "file_extension": ".py",
   "mimetype": "text/x-python",
   "name": "python",
   "nbconvert_exporter": "python",
   "pygments_lexer": "ipython3",
   "version": "3.9.12"
  },
  "orig_nbformat": 4
 },
 "nbformat": 4,
 "nbformat_minor": 2
}
