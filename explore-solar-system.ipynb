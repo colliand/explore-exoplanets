{
 "cells": [
  {
   "cell_type": "markdown",
   "id": "8ce7ff75-216f-4d3b-a91f-2c7a5919927b",
   "metadata": {},
   "source": [
    "# Explore Solar System\n",
    "\n",
    "> J. Colliander, 2022-06-18\n",
    "\n",
    "- [x] assemble data on planets in solar system\n",
    "- [x] read data on planets into Pandas dataframe\n",
    "- [ ] confirm Kepler's Third Law relationship for planets in solar system"
   ]
  },
  {
   "cell_type": "code",
   "execution_count": 130,
   "id": "09bf49d5-34d5-4b5b-9038-fe8e447c303c",
   "metadata": {},
   "outputs": [],
   "source": [
    "import pandas as pd\n",
    "import matplotlib.pyplot as plt\n",
    "import numpy as np"
   ]
  },
  {
   "cell_type": "code",
   "execution_count": 131,
   "id": "56ca8208-4562-4f71-8d1a-613fc1da5f0f",
   "metadata": {},
   "outputs": [],
   "source": [
    "plt.rcParams[\"figure.figsize\"] = (20, 10)"
   ]
  },
  {
   "cell_type": "code",
   "execution_count": 132,
   "id": "43463df7-c471-480f-a9e7-8c662a2ff08f",
   "metadata": {},
   "outputs": [],
   "source": [
    "ss = pd.read_csv('data/solar-system-data.csv')"
   ]
  },
  {
   "cell_type": "code",
   "execution_count": 133,
   "id": "f972099e-ee63-4fef-b542-a83d3ad6f840",
   "metadata": {},
   "outputs": [
    {
     "data": {
      "text/html": [
       "<div>\n",
       "<style scoped>\n",
       "    .dataframe tbody tr th:only-of-type {\n",
       "        vertical-align: middle;\n",
       "    }\n",
       "\n",
       "    .dataframe tbody tr th {\n",
       "        vertical-align: top;\n",
       "    }\n",
       "\n",
       "    .dataframe thead th {\n",
       "        text-align: right;\n",
       "    }\n",
       "</style>\n",
       "<table border=\"1\" class=\"dataframe\">\n",
       "  <thead>\n",
       "    <tr style=\"text-align: right;\">\n",
       "      <th></th>\n",
       "      <th>Name</th>\n",
       "      <th>Mass (1024kg)</th>\n",
       "      <th>Diameter (km)</th>\n",
       "      <th>Density (kg/m3)</th>\n",
       "      <th>Gravity (m/s2)</th>\n",
       "      <th>Escape Velocity (km/s)</th>\n",
       "      <th>Rotation Period (hours)</th>\n",
       "      <th>Length of Day (hours)</th>\n",
       "      <th>Distance from Sun (106 km)</th>\n",
       "      <th>Perihelion (106 km)</th>\n",
       "      <th>...</th>\n",
       "      <th>Orbital Period (days)</th>\n",
       "      <th>Orbital Velocity (km/s)</th>\n",
       "      <th>Orbital Inclination (degrees)</th>\n",
       "      <th>Orbital Eccentricity</th>\n",
       "      <th>Obliquity to Orbit (degrees)</th>\n",
       "      <th>Mean Temperature (C)</th>\n",
       "      <th>Surface Pressure (bars)</th>\n",
       "      <th>Number of Moons</th>\n",
       "      <th>Ring System?</th>\n",
       "      <th>Global Magnetic Field?</th>\n",
       "    </tr>\n",
       "  </thead>\n",
       "  <tbody>\n",
       "    <tr>\n",
       "      <th>0</th>\n",
       "      <td>MERCURY</td>\n",
       "      <td>0.330</td>\n",
       "      <td>4879.0</td>\n",
       "      <td>5429</td>\n",
       "      <td>3.7</td>\n",
       "      <td>4.3</td>\n",
       "      <td>1407.6</td>\n",
       "      <td>4222.6</td>\n",
       "      <td>57.9</td>\n",
       "      <td>46</td>\n",
       "      <td>...</td>\n",
       "      <td>88</td>\n",
       "      <td>47.4</td>\n",
       "      <td>7.0</td>\n",
       "      <td>0.206</td>\n",
       "      <td>0.034</td>\n",
       "      <td>167</td>\n",
       "      <td>0</td>\n",
       "      <td>0</td>\n",
       "      <td>No</td>\n",
       "      <td>Yes</td>\n",
       "    </tr>\n",
       "    <tr>\n",
       "      <th>1</th>\n",
       "      <td>VENUS</td>\n",
       "      <td>4.870</td>\n",
       "      <td>12104.0</td>\n",
       "      <td>5243</td>\n",
       "      <td>8.9</td>\n",
       "      <td>10.4</td>\n",
       "      <td>-5832.5</td>\n",
       "      <td>2802.0</td>\n",
       "      <td>108.2</td>\n",
       "      <td>107.5</td>\n",
       "      <td>...</td>\n",
       "      <td>224.7</td>\n",
       "      <td>35</td>\n",
       "      <td>3.4</td>\n",
       "      <td>0.007</td>\n",
       "      <td>177.400</td>\n",
       "      <td>464</td>\n",
       "      <td>92</td>\n",
       "      <td>0</td>\n",
       "      <td>No</td>\n",
       "      <td>No</td>\n",
       "    </tr>\n",
       "    <tr>\n",
       "      <th>2</th>\n",
       "      <td>EARTH</td>\n",
       "      <td>5.970</td>\n",
       "      <td>12756.0</td>\n",
       "      <td>5514</td>\n",
       "      <td>9.8</td>\n",
       "      <td>11.2</td>\n",
       "      <td>23.9</td>\n",
       "      <td>24.0</td>\n",
       "      <td>149.6</td>\n",
       "      <td>147.1</td>\n",
       "      <td>...</td>\n",
       "      <td>365.2</td>\n",
       "      <td>29.8</td>\n",
       "      <td>0.0</td>\n",
       "      <td>0.017</td>\n",
       "      <td>23.400</td>\n",
       "      <td>15</td>\n",
       "      <td>1</td>\n",
       "      <td>1</td>\n",
       "      <td>No</td>\n",
       "      <td>Yes</td>\n",
       "    </tr>\n",
       "    <tr>\n",
       "      <th>3</th>\n",
       "      <td>MOON</td>\n",
       "      <td>0.073</td>\n",
       "      <td>3475.0</td>\n",
       "      <td>3340</td>\n",
       "      <td>1.6</td>\n",
       "      <td>2.4</td>\n",
       "      <td>655.7</td>\n",
       "      <td>708.7</td>\n",
       "      <td>0.384*</td>\n",
       "      <td>0.363*</td>\n",
       "      <td>...</td>\n",
       "      <td>27.3*</td>\n",
       "      <td>1.0*</td>\n",
       "      <td>5.1</td>\n",
       "      <td>0.055</td>\n",
       "      <td>6.700</td>\n",
       "      <td>-20</td>\n",
       "      <td>0</td>\n",
       "      <td>0</td>\n",
       "      <td>No</td>\n",
       "      <td>No</td>\n",
       "    </tr>\n",
       "    <tr>\n",
       "      <th>4</th>\n",
       "      <td>MARS</td>\n",
       "      <td>0.642</td>\n",
       "      <td>6792.0</td>\n",
       "      <td>3934</td>\n",
       "      <td>3.7</td>\n",
       "      <td>5.0</td>\n",
       "      <td>24.6</td>\n",
       "      <td>24.7</td>\n",
       "      <td>228</td>\n",
       "      <td>206.7</td>\n",
       "      <td>...</td>\n",
       "      <td>687.00000</td>\n",
       "      <td>24.1</td>\n",
       "      <td>1.8</td>\n",
       "      <td>0.094</td>\n",
       "      <td>25.200</td>\n",
       "      <td>-65</td>\n",
       "      <td>0.01</td>\n",
       "      <td>2</td>\n",
       "      <td>No</td>\n",
       "      <td>No</td>\n",
       "    </tr>\n",
       "    <tr>\n",
       "      <th>5</th>\n",
       "      <td>JUPITER</td>\n",
       "      <td>1898.000</td>\n",
       "      <td>142984.0</td>\n",
       "      <td>1326</td>\n",
       "      <td>23.1</td>\n",
       "      <td>59.5</td>\n",
       "      <td>9.9</td>\n",
       "      <td>9.9</td>\n",
       "      <td>778.5</td>\n",
       "      <td>740.6</td>\n",
       "      <td>...</td>\n",
       "      <td>4331.00000</td>\n",
       "      <td>13.1</td>\n",
       "      <td>1.3</td>\n",
       "      <td>0.049</td>\n",
       "      <td>3.100</td>\n",
       "      <td>-110</td>\n",
       "      <td>Unknown*</td>\n",
       "      <td>79</td>\n",
       "      <td>Yes</td>\n",
       "      <td>Yes</td>\n",
       "    </tr>\n",
       "    <tr>\n",
       "      <th>6</th>\n",
       "      <td>SATURN</td>\n",
       "      <td>568.000</td>\n",
       "      <td>120536.0</td>\n",
       "      <td>687</td>\n",
       "      <td>9.0</td>\n",
       "      <td>35.5</td>\n",
       "      <td>10.7</td>\n",
       "      <td>10.7</td>\n",
       "      <td>1432</td>\n",
       "      <td>1357.6</td>\n",
       "      <td>...</td>\n",
       "      <td>10747.00000</td>\n",
       "      <td>9.7</td>\n",
       "      <td>2.5</td>\n",
       "      <td>0.052</td>\n",
       "      <td>26.700</td>\n",
       "      <td>-140</td>\n",
       "      <td>Unknown*</td>\n",
       "      <td>82</td>\n",
       "      <td>Yes</td>\n",
       "      <td>Yes</td>\n",
       "    </tr>\n",
       "    <tr>\n",
       "      <th>7</th>\n",
       "      <td>URANUS</td>\n",
       "      <td>86.800</td>\n",
       "      <td>51118.0</td>\n",
       "      <td>1270</td>\n",
       "      <td>8.7</td>\n",
       "      <td>21.3</td>\n",
       "      <td>-17.2</td>\n",
       "      <td>17.2</td>\n",
       "      <td>2867</td>\n",
       "      <td>2732.7</td>\n",
       "      <td>...</td>\n",
       "      <td>30589.00000</td>\n",
       "      <td>6.8</td>\n",
       "      <td>0.8</td>\n",
       "      <td>0.047</td>\n",
       "      <td>97.800</td>\n",
       "      <td>-195</td>\n",
       "      <td>Unknown*</td>\n",
       "      <td>27</td>\n",
       "      <td>Yes</td>\n",
       "      <td>Yes</td>\n",
       "    </tr>\n",
       "    <tr>\n",
       "      <th>8</th>\n",
       "      <td>NEPTUNE</td>\n",
       "      <td>102.000</td>\n",
       "      <td>49528.0</td>\n",
       "      <td>1638</td>\n",
       "      <td>11.0</td>\n",
       "      <td>23.5</td>\n",
       "      <td>16.1</td>\n",
       "      <td>16.1</td>\n",
       "      <td>4515</td>\n",
       "      <td>4471.1</td>\n",
       "      <td>...</td>\n",
       "      <td>59800.00000</td>\n",
       "      <td>5.4</td>\n",
       "      <td>1.8</td>\n",
       "      <td>0.010</td>\n",
       "      <td>28.300</td>\n",
       "      <td>-200</td>\n",
       "      <td>Unknown*</td>\n",
       "      <td>14</td>\n",
       "      <td>Yes</td>\n",
       "      <td>Yes</td>\n",
       "    </tr>\n",
       "    <tr>\n",
       "      <th>9</th>\n",
       "      <td>PLUTO</td>\n",
       "      <td>0.013</td>\n",
       "      <td>2376.0</td>\n",
       "      <td>1850</td>\n",
       "      <td>0.7</td>\n",
       "      <td>1.3</td>\n",
       "      <td>-153.3</td>\n",
       "      <td>153.3</td>\n",
       "      <td>5906.4</td>\n",
       "      <td>4436.8</td>\n",
       "      <td>...</td>\n",
       "      <td>90560.00000</td>\n",
       "      <td>4.7</td>\n",
       "      <td>17.2</td>\n",
       "      <td>0.244</td>\n",
       "      <td>122.500</td>\n",
       "      <td>-225</td>\n",
       "      <td>0.00001</td>\n",
       "      <td>5</td>\n",
       "      <td>No</td>\n",
       "      <td>Unknown</td>\n",
       "    </tr>\n",
       "  </tbody>\n",
       "</table>\n",
       "<p>10 rows × 21 columns</p>\n",
       "</div>"
      ],
      "text/plain": [
       "      Name  Mass (1024kg)  Diameter (km)  Density (kg/m3)  Gravity (m/s2)  \\\n",
       "0  MERCURY          0.330         4879.0             5429             3.7   \n",
       "1    VENUS          4.870        12104.0             5243             8.9   \n",
       "2    EARTH          5.970        12756.0             5514             9.8   \n",
       "3     MOON          0.073         3475.0             3340             1.6   \n",
       "4     MARS          0.642         6792.0             3934             3.7   \n",
       "5  JUPITER       1898.000       142984.0             1326            23.1   \n",
       "6   SATURN        568.000       120536.0              687             9.0   \n",
       "7   URANUS         86.800        51118.0             1270             8.7   \n",
       "8  NEPTUNE        102.000        49528.0             1638            11.0   \n",
       "9    PLUTO          0.013         2376.0             1850             0.7   \n",
       "\n",
       "   Escape Velocity (km/s)  Rotation Period (hours)  Length of Day (hours)  \\\n",
       "0                     4.3                   1407.6                 4222.6   \n",
       "1                    10.4                  -5832.5                 2802.0   \n",
       "2                    11.2                     23.9                   24.0   \n",
       "3                     2.4                    655.7                  708.7   \n",
       "4                     5.0                     24.6                   24.7   \n",
       "5                    59.5                      9.9                    9.9   \n",
       "6                    35.5                     10.7                   10.7   \n",
       "7                    21.3                    -17.2                   17.2   \n",
       "8                    23.5                     16.1                   16.1   \n",
       "9                     1.3                   -153.3                  153.3   \n",
       "\n",
       "  Distance from Sun (106 km) Perihelion (106 km)  ... Orbital Period (days)  \\\n",
       "0                       57.9                  46  ...                    88   \n",
       "1                      108.2               107.5  ...                 224.7   \n",
       "2                      149.6               147.1  ...                 365.2   \n",
       "3                     0.384*              0.363*  ...                 27.3*   \n",
       "4                        228               206.7  ...             687.00000   \n",
       "5                      778.5               740.6  ...            4331.00000   \n",
       "6                       1432              1357.6  ...           10747.00000   \n",
       "7                       2867              2732.7  ...           30589.00000   \n",
       "8                       4515              4471.1  ...           59800.00000   \n",
       "9                     5906.4              4436.8  ...           90560.00000   \n",
       "\n",
       "  Orbital Velocity (km/s) Orbital Inclination (degrees)  Orbital Eccentricity  \\\n",
       "0                    47.4                           7.0                 0.206   \n",
       "1                      35                           3.4                 0.007   \n",
       "2                    29.8                           0.0                 0.017   \n",
       "3                    1.0*                           5.1                 0.055   \n",
       "4                    24.1                           1.8                 0.094   \n",
       "5                    13.1                           1.3                 0.049   \n",
       "6                     9.7                           2.5                 0.052   \n",
       "7                     6.8                           0.8                 0.047   \n",
       "8                     5.4                           1.8                 0.010   \n",
       "9                     4.7                          17.2                 0.244   \n",
       "\n",
       "   Obliquity to Orbit (degrees)  Mean Temperature (C)  \\\n",
       "0                         0.034                   167   \n",
       "1                       177.400                   464   \n",
       "2                        23.400                    15   \n",
       "3                         6.700                   -20   \n",
       "4                        25.200                   -65   \n",
       "5                         3.100                  -110   \n",
       "6                        26.700                  -140   \n",
       "7                        97.800                  -195   \n",
       "8                        28.300                  -200   \n",
       "9                       122.500                  -225   \n",
       "\n",
       "   Surface Pressure (bars) Number of Moons  Ring System?  \\\n",
       "0                        0               0            No   \n",
       "1                       92               0            No   \n",
       "2                        1               1            No   \n",
       "3                        0               0            No   \n",
       "4                     0.01               2            No   \n",
       "5                 Unknown*              79           Yes   \n",
       "6                 Unknown*              82           Yes   \n",
       "7                 Unknown*              27           Yes   \n",
       "8                 Unknown*              14           Yes   \n",
       "9                  0.00001               5            No   \n",
       "\n",
       "  Global Magnetic Field?  \n",
       "0                    Yes  \n",
       "1                     No  \n",
       "2                    Yes  \n",
       "3                     No  \n",
       "4                     No  \n",
       "5                    Yes  \n",
       "6                    Yes  \n",
       "7                    Yes  \n",
       "8                    Yes  \n",
       "9                Unknown  \n",
       "\n",
       "[10 rows x 21 columns]"
      ]
     },
     "execution_count": 133,
     "metadata": {},
     "output_type": "execute_result"
    }
   ],
   "source": [
    "ss"
   ]
  },
  {
   "cell_type": "code",
   "execution_count": 134,
   "id": "937e212d-6e68-4de2-a38e-744463a91622",
   "metadata": {},
   "outputs": [],
   "source": [
    "# Ignore the moon\n",
    "ss = ss.drop([3]).reset_index(drop=True)"
   ]
  },
  {
   "cell_type": "code",
   "execution_count": 135,
   "id": "6eba47d7-105f-4a17-bd67-b1fe2fda8fca",
   "metadata": {},
   "outputs": [],
   "source": [
    "ss['pl_name'] = ss['Name']\n",
    "ss['pl_masse']= ss['Mass (1024kg)']/5.970\n",
    "ss['pl_massj']= ss['Mass (1024kg)']/1898\n",
    "ss['pl_orbper'] = ss['Orbital Period (days)'].astype(float)\n",
    "ss['pl_orbsmax']=ss['Distance from Sun (106 km)'].astype(float)/149.6 # in AU"
   ]
  },
  {
   "cell_type": "code",
   "execution_count": 136,
   "id": "62b9a286-ed6f-45d5-9766-fa07b0597094",
   "metadata": {},
   "outputs": [
    {
     "data": {
      "text/plain": [
       "<AxesSubplot:xlabel='pl_orbper'>"
      ]
     },
     "execution_count": 136,
     "metadata": {},
     "output_type": "execute_result"
    },
    {
     "data": {
      "image/png": "[encoded data removed]",
      "text/plain": [
       "<Figure size 1440x720 with 1 Axes>"
      ]
     },
     "metadata": {
      "needs_background": "light"
     },
     "output_type": "display_data"
    }
   ],
   "source": [
    "ss.plot(x = 'pl_orbper', y = 'pl_orbsmax')"
   ]
  },
  {
   "cell_type": "code",
   "execution_count": 137,
   "id": "c9251658-9e80-4624-a2a8-fb77d03efe76",
   "metadata": {},
   "outputs": [],
   "source": [
    "# I took some ideas from this video: https://www.youtube.com/watch?v=4vryPwLtjIY"
   ]
  },
  {
   "cell_type": "code",
   "execution_count": 138,
   "id": "1de422d9-c4b8-4e9c-8a05-c486356e62db",
   "metadata": {},
   "outputs": [],
   "source": [
    "T = ss['pl_orbper'].values"
   ]
  },
  {
   "cell_type": "code",
   "execution_count": 139,
   "id": "8076e795-5c56-49b0-86a2-6fc62c89b209",
   "metadata": {},
   "outputs": [
    {
     "data": {
      "text/plain": [
       "array([8.8000e+01, 2.2470e+02, 3.6520e+02, 6.8700e+02, 4.3310e+03,\n",
       "       1.0747e+04, 3.0589e+04, 5.9800e+04, 9.0560e+04])"
      ]
     },
     "execution_count": 139,
     "metadata": {},
     "output_type": "execute_result"
    }
   ],
   "source": [
    "T"
   ]
  },
  {
   "cell_type": "code",
   "execution_count": 140,
   "id": "d9ae21a0-dc2c-469f-b579-72eae5af7994",
   "metadata": {},
   "outputs": [],
   "source": [
    "# Kepler's Third Law Form with a coefficient to be determined\n",
    "def kep(t,c0):\n",
    "    return c0 * np.float_power(t,2/3)"
   ]
  },
  {
   "cell_type": "code",
   "execution_count": 141,
   "id": "24d03392-a1c7-4d9c-9859-a00ac01cbbd8",
   "metadata": {},
   "outputs": [
    {
     "data": {
      "text/plain": [
       "[<matplotlib.lines.Line2D at 0x7f6dba661280>]"
      ]
     },
     "execution_count": 141,
     "metadata": {},
     "output_type": "execute_result"
    },
    {
     "data": {
      "image/png": "[encoded data removed]",
      "text/plain": [
       "<Figure size 1440x720 with 1 Axes>"
      ]
     },
     "metadata": {
      "needs_background": "light"
     },
     "output_type": "display_data"
    }
   ],
   "source": [
    "n = len(ss['pl_orbper'])\n",
    "y = np.empty(n)\n",
    "\n",
    "for i in range(n):\n",
    "    y[i] = kep(ss['pl_orbper'][i],.03)\n",
    "\n",
    "\n",
    "plt.plot(ss['pl_orbper'],ss['pl_orbsmax'], 'bo')\n",
    "plt.plot(ss['pl_orbper'],y,'r.')"
   ]
  },
  {
   "cell_type": "code",
   "execution_count": 142,
   "id": "9c9e6b5b-b574-46a4-8da1-2f1d2bc80859",
   "metadata": {},
   "outputs": [
    {
     "data": {
      "text/plain": [
       "[<matplotlib.lines.Line2D at 0x7f6dba5c5190>]"
      ]
     },
     "execution_count": 142,
     "metadata": {},
     "output_type": "execute_result"
    },
    {
     "data": {
      "image/png": "[encoded data removed]",
      "text/plain": [
       "<Figure size 1440x720 with 1 Axes>"
      ]
     },
     "metadata": {
      "needs_background": "light"
     },
     "output_type": "display_data"
    }
   ],
   "source": [
    "\n",
    "\n",
    "plt.plot(ss['pl_orbper'],ss['pl_orbsmax'], 'bo')\n",
    "plt.plot(ss['pl_orbper'],y,'r.')"
   ]
  },
  {
   "cell_type": "markdown",
   "id": "5c0d7683-c119-4ccf-9f74-0f5bb3eb58a8",
   "metadata": {},
   "source": [
    "## Use curvefit"
   ]
  },
  {
   "cell_type": "code",
   "execution_count": 143,
   "id": "03b9ac9b-0952-426b-9e6c-1f630a26fe5d",
   "metadata": {},
   "outputs": [
    {
     "name": "stdout",
     "output_type": "stream",
     "text": [
      "[0.0196305]\n"
     ]
    }
   ],
   "source": [
    "from scipy.optimize import curve_fit\n",
    "T = ss['pl_orbper'].values\n",
    "SMA = ss['pl_orbsmax'].values\n",
    "c,cov = curve_fit(kep,T,SMA,0.03) \n",
    "print(c)"
   ]
  },
  {
   "cell_type": "code",
   "execution_count": 144,
   "id": "ddd7386e-6f9d-457c-8aed-d02c95e04219",
   "metadata": {},
   "outputs": [
    {
     "data": {
      "text/plain": [
       "[<matplotlib.lines.Line2D at 0x7f6dba5a27f0>]"
      ]
     },
     "execution_count": 144,
     "metadata": {},
     "output_type": "execute_result"
    },
    {
     "data": {
      "image/png": "[encoded data removed]",
      "text/plain": [
       "<Figure size 1440x720 with 1 Axes>"
      ]
     },
     "metadata": {
      "needs_background": "light"
     },
     "output_type": "display_data"
    }
   ],
   "source": [
    "n = len(ss['pl_orbper'])\n",
    "y = np.empty(n)\n",
    "\n",
    "for i in range(n):\n",
    "    y[i] = kep(ss['pl_orbper'][i],c)\n",
    "\n",
    "\n",
    "plt.plot(ss['pl_orbper'],ss['pl_orbsmax'], 'bo')\n",
    "plt.plot(ss['pl_orbper'],y,'r.')"
   ]
  },
  {
   "cell_type": "code",
   "execution_count": null,
   "id": "5740b8e6-166c-4284-950a-2b94e58a9eaa",
   "metadata": {},
   "outputs": [],
   "source": []
  }
 ],
 "metadata": {
  "kernelspec": {
   "display_name": "Python 3 (ipykernel)",
   "language": "python",
   "name": "python3"
  },
  "language_info": {
   "codemirror_mode": {
    "name": "ipython",
    "version": 3
   },
   "file_extension": ".py",
   "mimetype": "text/x-python",
   "name": "python",
   "nbconvert_exporter": "python",
   "pygments_lexer": "ipython3",
   "version": "3.9.12"
  }
 },
 "nbformat": 4,
 "nbformat_minor": 5
}
